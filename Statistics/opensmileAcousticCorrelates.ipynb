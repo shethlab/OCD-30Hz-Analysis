{
  "nbformat": 4,
  "nbformat_minor": 0,
  "metadata": {
    "colab": {
      "provenance": [],
      "toc_visible": true
    },
    "kernelspec": {
      "name": "python3",
      "display_name": "Python 3"
    },
    "language_info": {
      "name": "python"
    }
  },
  "cells": [
    {
      "cell_type": "code",
      "source": [
        "import pandas as pd"
      ],
      "metadata": {
        "id": "IpCwdSTkQVVD"
      },
      "execution_count": null,
      "outputs": []
    },
    {
      "cell_type": "code",
      "source": [
        "import os"
      ],
      "metadata": {
        "id": "jGdvLvLCl-RY"
      },
      "execution_count": null,
      "outputs": []
    },
    {
      "cell_type": "markdown",
      "source": [
        "#Sept 9"
      ],
      "metadata": {
        "id": "AM5M9U-7l-Ur"
      }
    },
    {
      "cell_type": "markdown",
      "source": [
        "##Setup"
      ],
      "metadata": {
        "id": "LTcn3f5RaavW"
      }
    },
    {
      "cell_type": "code",
      "source": [
        "date = '2022-09-09'"
      ],
      "metadata": {
        "id": "VXsqS0NoabxT"
      },
      "execution_count": null,
      "outputs": []
    },
    {
      "cell_type": "code",
      "source": [
        "powerAmplitudeDF = pd.read_csv('2022-09-09-Power.csv')\n",
        "del powerAmplitudeDF['Unnamed: 0']\n",
        "powerAmplitudeDF.head()"
      ],
      "metadata": {
        "id": "Z_MTL9hQl-Ur"
      },
      "execution_count": null,
      "outputs": []
    },
    {
      "cell_type": "code",
      "source": [
        "powerAmplitudeDF.shape"
      ],
      "metadata": {
        "id": "MPXcJHWGl-Us"
      },
      "execution_count": null,
      "outputs": []
    },
    {
      "cell_type": "code",
      "source": [
        "acousticFeatsDF = pd.read_csv('AcousticFeatures_noModeratorSpeech_aDBS012_' + '2022-09-09_' + 'audio_amplitude.csv')\n",
        "del acousticFeatsDF['Unnamed: 0']\n",
        "acousticFeatsDF.head()"
      ],
      "metadata": {
        "id": "dXYix3mhl-Us"
      },
      "execution_count": null,
      "outputs": []
    },
    {
      "cell_type": "code",
      "source": [
        "list(acousticFeatsDF.columns)"
      ],
      "metadata": {
        "id": "q1_Dlmm8f9l1"
      },
      "execution_count": null,
      "outputs": []
    },
    {
      "cell_type": "code",
      "source": [
        "acousticFeatsDF.shape"
      ],
      "metadata": {
        "id": "e2dhzyCsl-Us"
      },
      "execution_count": null,
      "outputs": []
    },
    {
      "cell_type": "code",
      "source": [
        "powerAmplitudeDF = powerAmplitudeDF.iloc[:acousticFeatsDF.shape[0]]\n",
        "powerAmplitudeDF.shape"
      ],
      "metadata": {
        "id": "U76uYocVl-Us"
      },
      "execution_count": null,
      "outputs": []
    },
    {
      "cell_type": "code",
      "source": [
        "powerAmplitudeAllLLDdf = pd.concat([powerAmplitudeDF,acousticFeatsDF],axis=1)\n",
        "powerAmplitudeAllLLDdf.shape"
      ],
      "metadata": {
        "id": "FfCEOfgGl-Us"
      },
      "execution_count": null,
      "outputs": []
    },
    {
      "cell_type": "markdown",
      "source": [
        "##t-test setup"
      ],
      "metadata": {
        "id": "li1_unv5MrgW"
      }
    },
    {
      "cell_type": "markdown",
      "source": [
        "Website to compute p value from r value and n: http://vassarstats.net/tabs_r.html"
      ],
      "metadata": {
        "id": "mj_3OvxHl-Us"
      }
    },
    {
      "cell_type": "markdown",
      "source": [
        "alternative source: https://www.socscistatistics.com/pvalues/pearsondistribution.aspx"
      ],
      "metadata": {
        "id": "C4IOaDGWK6kQ"
      }
    },
    {
      "cell_type": "markdown",
      "source": [
        "Need r >= 0.077 for p < 0.01\n",
        "Need r >= 0.059 for p < 0.05"
      ],
      "metadata": {
        "id": "TCeV4ahDl-Us"
      }
    },
    {
      "cell_type": "code",
      "source": [
        "rValFor99ConfidenceLevel = 0.077\n",
        "rValFor95ConfidenceLevel = 0.059"
      ],
      "metadata": {
        "id": "GHAB8XkJl-Ut"
      },
      "execution_count": null,
      "outputs": []
    },
    {
      "cell_type": "code",
      "source": [
        "from math import sqrt\n",
        "from scipy.stats import t\n",
        "\n",
        "def calculate_p_value(r, n):\n",
        "    # Calculate t-statistic\n",
        "    t_statistic = r * sqrt((n - 2) / (1 - r**2))\n",
        "\n",
        "    # Degrees of freedom\n",
        "    degrees_of_freedom = n - 2\n",
        "\n",
        "    # Calculate two-tailed p-value\n",
        "    p_value = 2 * (1 - t.cdf(abs(t_statistic), degrees_of_freedom))\n",
        "\n",
        "    return t_statistic, degrees_of_freedom, p_value\n",
        "\n",
        "# Example usage\n",
        "correlation_coefficient = 0.059\n",
        "sample_size = 1136\n",
        "t_stat, df, p_value = calculate_p_value(correlation_coefficient, sample_size)\n",
        "\n",
        "print(f\"Correlation Coefficient: {correlation_coefficient}\")\n",
        "print(f\"T-statistic: {t_stat}\")\n",
        "print(f\"Degrees of Freedom: {df}\")\n",
        "print(f\"P-value: {p_value}\")\n",
        "\n"
      ],
      "metadata": {
        "colab": {
          "base_uri": "https://localhost:8080/"
        },
        "id": "j4tI2WllLPjX",
        "outputId": "0535ecf5-34c3-4ac2-ef89-be76a586db8c"
      },
      "execution_count": null,
      "outputs": [
        {
          "output_type": "stream",
          "name": "stdout",
          "text": [
            "Correlation Coefficient: 0.059\n",
            "T-statistic: 1.9902871871130796\n",
            "Degrees of Freedom: 1134\n",
            "P-value: 0.046799066463467875\n"
          ]
        }
      ]
    },
    {
      "cell_type": "code",
      "source": [
        "t_stat, df, p_value = calculate_p_value(0.058, sample_size)\n",
        "assert p_value > 0.05"
      ],
      "metadata": {
        "id": "Bv5iM0tYLs1D"
      },
      "execution_count": null,
      "outputs": []
    },
    {
      "cell_type": "markdown",
      "source": [
        "##random noise t-test (10)"
      ],
      "metadata": {
        "id": "EOg6nBPTMwht"
      }
    },
    {
      "cell_type": "code",
      "source": [
        "import numpy as np"
      ],
      "metadata": {
        "id": "X16lNfOYM0JZ"
      },
      "execution_count": null,
      "outputs": []
    },
    {
      "cell_type": "code",
      "source": [
        "# Set a seed for reproducibility (optional)\n",
        "np.random.seed(33)\n",
        "\n",
        "# Mean and standard deviation of the Gaussian distribution\n",
        "mean_value = 0\n",
        "std_dev = 1\n",
        "\n",
        "# Generate a random 1136-element numpy array from a Gaussian distribution\n",
        "random_array = np.random.normal(mean_value, std_dev, 1136)\n"
      ],
      "metadata": {
        "id": "5-GtpZ-XOHUL"
      },
      "execution_count": null,
      "outputs": []
    },
    {
      "cell_type": "code",
      "source": [
        "powerAmplitudeAllLLDdf['Noise_Seed42'] = random_array"
      ],
      "metadata": {
        "id": "mkLZXFbbM3SQ"
      },
      "execution_count": null,
      "outputs": []
    },
    {
      "cell_type": "code",
      "source": [
        "powerAmplitudeAllLLDdf.corr()['Noise_Seed42'][4:-1]#.abs()"
      ],
      "metadata": {
        "colab": {
          "base_uri": "https://localhost:8080/"
        },
        "id": "rpFVcUIdNJi2",
        "outputId": "65b5c159-1877-462a-cf92-af3b14635572"
      },
      "execution_count": null,
      "outputs": [
        {
          "output_type": "execute_result",
          "data": {
            "text/plain": [
              "F0final_sma                 -0.064561\n",
              "voicingFinalUnclipped_sma   -0.030557\n",
              "jitterLocal_sma             -0.011761\n",
              "jitterDDP_sma               -0.027644\n",
              "shimmerLocal_sma            -0.008827\n",
              "                               ...   \n",
              "lspFreq_sma_de[7]            0.020479\n",
              "pcm_zcr_sma_de.1            -0.001696\n",
              "voiceProb_sma_de            -0.045858\n",
              "F0_sma_de                   -0.029190\n",
              "F0env_sma_de                 0.006997\n",
              "Name: Noise_Seed42, Length: 207, dtype: float64"
            ]
          },
          "metadata": {},
          "execution_count": 247
        }
      ]
    },
    {
      "cell_type": "code",
      "source": [
        "correlations_Noise = powerAmplitudeAllLLDdf.corr()['Noise_Seed42'][4:-1]#.abs()"
      ],
      "metadata": {
        "id": "pqbVaoBWNcsg"
      },
      "execution_count": null,
      "outputs": []
    },
    {
      "cell_type": "code",
      "source": [
        "positiveCorrelationCondition = correlations_Noise > rValFor95ConfidenceLevel\n",
        "negativeCorrelationCondition = correlations_Noise < -1* rValFor95ConfidenceLevel\n",
        "noiseCorrelates = correlations_Noise[ positiveCorrelationCondition | negativeCorrelationCondition]\n",
        "noiseCorrelates.head = 'r'\n",
        "\n",
        "print(\"# of acoustic features where p < 0.05:\", len(noiseCorrelates))\n",
        "noiseCorrelates.nlargest(len(noiseCorrelates)) # for sorting"
      ],
      "metadata": {
        "colab": {
          "base_uri": "https://localhost:8080/"
        },
        "id": "UJ3K97iQNZNf",
        "outputId": "d543cf81-39ab-4bd1-c8e2-6e02fba9dcc8"
      },
      "execution_count": null,
      "outputs": [
        {
          "output_type": "stream",
          "name": "stdout",
          "text": [
            "# of acoustic features where p < 0.05: 10\n"
          ]
        },
        {
          "output_type": "execute_result",
          "data": {
            "text/plain": [
              "mfcc_sma_de[14]         0.073175\n",
              "mfcc_sma[4].1           0.067862\n",
              "mfcc_sma[4]             0.066350\n",
              "mfcc4_sma3              0.066350\n",
              "audSpec_Rfilt_sma[9]   -0.059178\n",
              "audSpec_Rfilt_sma[6]   -0.061485\n",
              "audSpec_Rfilt_sma[4]   -0.062194\n",
              "audSpec_Rfilt_sma[5]   -0.062241\n",
              "F0final_sma            -0.064561\n",
              "audSpec_Rfilt_sma[8]   -0.066369\n",
              "Name: Noise_Seed42, dtype: float64"
            ]
          },
          "metadata": {},
          "execution_count": 249
        }
      ]
    },
    {
      "cell_type": "markdown",
      "source": [
        "##Right vLPFC"
      ],
      "metadata": {
        "id": "TucuijYml-Ut"
      }
    },
    {
      "cell_type": "code",
      "source": [
        "correlations_Right_vlPFC = powerAmplitudeAllLLDdf.corr()['Power: Right vlPFC'][4:]#.abs()"
      ],
      "metadata": {
        "id": "-Vf2jkxaPes0"
      },
      "execution_count": null,
      "outputs": []
    },
    {
      "cell_type": "code",
      "source": [
        "positiveCorrelationCondition = correlations_Right_vlPFC > rValFor95ConfidenceLevel\n",
        "negativeCorrelationCondition = correlations_Right_vlPFC < -1* rValFor95ConfidenceLevel\n",
        "AcousticCorrelates95_Right_vlPFC = correlations_Right_vlPFC[ positiveCorrelationCondition | negativeCorrelationCondition]\n",
        "AcousticCorrelates95_Right_vlPFC.head = 'r'\n",
        "\n",
        "print(\"# of acoustic features where p < 0.05:\", len(AcousticCorrelates95_Right_vlPFC))\n",
        "AcousticCorrelates95_Right_vlPFC.nlargest(len(AcousticCorrelates95_Right_vlPFC)) # for sorting"
      ],
      "metadata": {
        "colab": {
          "base_uri": "https://localhost:8080/"
        },
        "id": "k23pm09YS_1A",
        "outputId": "e1abebb8-94a1-4cd9-bfd4-30afffcb1e6d"
      },
      "execution_count": null,
      "outputs": [
        {
          "output_type": "stream",
          "name": "stdout",
          "text": [
            "# of acoustic features where p < 0.05: 89\n"
          ]
        },
        {
          "output_type": "execute_result",
          "data": {
            "text/plain": [
              "pcm_RMSenergy_sma           0.167584\n",
              "pcm_loudness_sma            0.164787\n",
              "Loudness_sma3               0.162632\n",
              "audspec_lengthL1norm_sma    0.162632\n",
              "spectralFlux_sma3           0.161759\n",
              "                              ...   \n",
              "mfcc_sma[12].1             -0.150060\n",
              "lspFreq_sma[7]             -0.154565\n",
              "lspFreq_sma[2]             -0.155497\n",
              "lspFreq_sma[4]             -0.158998\n",
              "mfcc_sma[5].1              -0.161376\n",
              "Name: Power: Right vlPFC, Length: 89, dtype: float64"
            ]
          },
          "metadata": {},
          "execution_count": 16
        }
      ]
    },
    {
      "cell_type": "code",
      "source": [
        "AcousticCorrelates95_Right_vlPFC.nlargest(len(AcousticCorrelates95_Right_vlPFC)).to_csv(date + '_noModeratorSpeech' + '_AcousticCorrelates95_Right_vlPFC.csv',header=['r'],index_label='Acoustic Feature')"
      ],
      "metadata": {
        "id": "Njg5dbF1Te_x"
      },
      "execution_count": null,
      "outputs": []
    },
    {
      "cell_type": "code",
      "source": [
        "print(AcousticCorrelates95_Right_vlPFC.index.tolist())"
      ],
      "metadata": {
        "colab": {
          "base_uri": "https://localhost:8080/"
        },
        "id": "JarrnxH6l-Ut",
        "outputId": "5823226c-bb60-4982-e6aa-865dc1ee705b"
      },
      "execution_count": null,
      "outputs": [
        {
          "output_type": "stream",
          "name": "stdout",
          "text": [
            "['F0final_sma', 'voicingFinalUnclipped_sma', 'jitterLocal_sma', 'jitterDDP_sma', 'shimmerLocal_sma', 'logHNR_sma', 'audspec_lengthL1norm_sma', 'pcm_RMSenergy_sma', 'pcm_zcr_sma', 'audSpec_Rfilt_sma[7]', 'audSpec_Rfilt_sma[8]', 'audSpec_Rfilt_sma[9]', 'pcm_fftMag_fband250-650_sma', 'pcm_fftMag_fband1000-4000_sma', 'pcm_fftMag_spectralRollOff25.0_sma', 'pcm_fftMag_spectralRollOff50.0_sma', 'pcm_fftMag_spectralRollOff75.0_sma', 'pcm_fftMag_spectralRollOff90.0_sma', 'pcm_fftMag_spectralFlux_sma', 'pcm_fftMag_spectralCentroid_sma', 'pcm_fftMag_spectralEntropy_sma', 'pcm_fftMag_spectralVariance_sma', 'pcm_fftMag_spectralSkewness_sma', 'pcm_fftMag_spectralKurtosis_sma', 'pcm_fftMag_spectralSlope_sma', 'pcm_fftMag_psySharpness_sma', 'pcm_fftMag_spectralHarmonicity_sma', 'mfcc_sma[1]', 'mfcc_sma[3]', 'mfcc_sma[4]', 'mfcc_sma[5]', 'mfcc_sma[6]', 'mfcc_sma[7]', 'mfcc_sma[8]', 'mfcc_sma[9]', 'mfcc_sma[11]', 'mfcc_sma[12]', 'mfcc_sma[13]', 'mfcc_sma[14]', 'Loudness_sma3', 'alphaRatio_sma3', 'hammarbergIndex_sma3', 'slope0-500_sma3', 'slope500-1500_sma3', 'spectralFlux_sma3', 'mfcc1_sma3', 'mfcc3_sma3', 'mfcc4_sma3', 'F0semitoneFrom27.5Hz_sma3nz', 'jitterLocal_sma3nz', 'shimmerLocaldB_sma3nz', 'HNRdBACF_sma3nz', 'logRelF0-H1-H2_sma3nz', 'logRelF0-H1-A3_sma3nz', 'F1frequency_sma3nz', 'F1bandwidth_sma3nz', 'F1amplitudeLogRelF0_sma3nz', 'F2frequency_sma3nz', 'F2bandwidth_sma3nz', 'F2amplitudeLogRelF0_sma3nz', 'F3frequency_sma3nz', 'F3bandwidth_sma3nz', 'F3amplitudeLogRelF0_sma3nz', 'pcm_intensity_sma', 'pcm_loudness_sma', 'mfcc_sma[1].1', 'mfcc_sma[2].1', 'mfcc_sma[3].1', 'mfcc_sma[4].1', 'mfcc_sma[5].1', 'mfcc_sma[6].1', 'mfcc_sma[7].1', 'mfcc_sma[8].1', 'mfcc_sma[9].1', 'mfcc_sma[11].1', 'mfcc_sma[12].1', 'lspFreq_sma[0]', 'lspFreq_sma[1]', 'lspFreq_sma[2]', 'lspFreq_sma[3]', 'lspFreq_sma[4]', 'lspFreq_sma[5]', 'lspFreq_sma[6]', 'lspFreq_sma[7]', 'pcm_zcr_sma.1', 'voiceProb_sma', 'F0_sma', 'F0env_sma', 'pcm_fftMag_fband250-650_sma_de']\n"
          ]
        }
      ]
    },
    {
      "cell_type": "markdown",
      "source": [
        "##Left vLPFC"
      ],
      "metadata": {
        "id": "vOttp56rl-Ut"
      }
    },
    {
      "cell_type": "code",
      "source": [
        "correlations_Left_vlPFC = powerAmplitudeAllLLDdf.corr()['Power: Left vlPFC'][4:]#.abs()\n"
      ],
      "metadata": {
        "id": "d13P8qBzUw5w"
      },
      "execution_count": null,
      "outputs": []
    },
    {
      "cell_type": "code",
      "source": [
        "positiveCorrelationCondition = correlations_Left_vlPFC > rValFor95ConfidenceLevel\n",
        "negativeCorrelationCondition = correlations_Left_vlPFC < -1* rValFor95ConfidenceLevel\n",
        "AcousticCorrelates95_Left_vlPFC = correlations_Left_vlPFC[ positiveCorrelationCondition | negativeCorrelationCondition]\n",
        "AcousticCorrelates95_Left_vlPFC.head = 'r'\n",
        "\n",
        "print(\"# of acoustic features where p < 0.05:\", len(AcousticCorrelates95_Left_vlPFC))\n",
        "AcousticCorrelates95_Left_vlPFC.nlargest(len(AcousticCorrelates95_Left_vlPFC)) # for sorting"
      ],
      "metadata": {
        "colab": {
          "base_uri": "https://localhost:8080/"
        },
        "outputId": "58109578-d6d8-40b9-860a-4867cb27402b",
        "id": "vBYD3VqRUw5w"
      },
      "execution_count": null,
      "outputs": [
        {
          "output_type": "stream",
          "name": "stdout",
          "text": [
            "# of acoustic features where p < 0.05: 116\n"
          ]
        },
        {
          "output_type": "execute_result",
          "data": {
            "text/plain": [
              "pcm_loudness_sma               0.180771\n",
              "pcm_RMSenergy_sma              0.179618\n",
              "spectralFlux_sma3              0.173008\n",
              "pcm_fftMag_spectralFlux_sma    0.172264\n",
              "audspec_lengthL1norm_sma       0.172151\n",
              "                                 ...   \n",
              "lspFreq_sma[1]                -0.174348\n",
              "mfcc_sma[7]                   -0.187364\n",
              "lspFreq_sma[2]                -0.189518\n",
              "mfcc_sma[7].1                 -0.190234\n",
              "F0env_sma                     -0.193372\n",
              "Name: Power: Left vlPFC, Length: 116, dtype: float64"
            ]
          },
          "metadata": {},
          "execution_count": 26
        }
      ]
    },
    {
      "cell_type": "code",
      "source": [
        "AcousticCorrelates95_Left_vlPFC.nlargest(len(AcousticCorrelates95_Left_vlPFC))"
      ],
      "metadata": {
        "id": "rA2eNazgPqru"
      },
      "execution_count": null,
      "outputs": []
    },
    {
      "cell_type": "code",
      "source": [
        "AcousticCorrelates95_Left_vlPFC.nlargest(len(AcousticCorrelates95_Left_vlPFC)).to_csv(date + '_noModeratorSpeech_AcousticCorrelates95_Left_vlPFC.csv',header=['r'],index_label='Acoustic Feature')"
      ],
      "metadata": {
        "id": "6eg6EJxQUw5w"
      },
      "execution_count": null,
      "outputs": []
    },
    {
      "cell_type": "code",
      "source": [
        "print(AcousticCorrelates95_Left_vlPFC.index.tolist())"
      ],
      "metadata": {
        "colab": {
          "base_uri": "https://localhost:8080/"
        },
        "outputId": "6d11a604-d717-46a4-c2a8-6e833bf50f90",
        "id": "oVwU3apkUw5x"
      },
      "execution_count": null,
      "outputs": [
        {
          "output_type": "stream",
          "name": "stdout",
          "text": [
            "['F0final_sma', 'voicingFinalUnclipped_sma', 'jitterLocal_sma', 'jitterDDP_sma', 'shimmerLocal_sma', 'logHNR_sma', 'audspec_lengthL1norm_sma', 'audspecRasta_lengthL1norm_sma', 'pcm_RMSenergy_sma', 'pcm_zcr_sma', 'audSpec_Rfilt_sma[0]', 'audSpec_Rfilt_sma[1]', 'audSpec_Rfilt_sma[2]', 'audSpec_Rfilt_sma[3]', 'audSpec_Rfilt_sma[4]', 'audSpec_Rfilt_sma[5]', 'audSpec_Rfilt_sma[6]', 'audSpec_Rfilt_sma[7]', 'audSpec_Rfilt_sma[8]', 'audSpec_Rfilt_sma[9]', 'audSpec_Rfilt_sma[10]', 'audSpec_Rfilt_sma[11]', 'audSpec_Rfilt_sma[12]', 'audSpec_Rfilt_sma[13]', 'audSpec_Rfilt_sma[14]', 'audSpec_Rfilt_sma[15]', 'audSpec_Rfilt_sma[16]', 'audSpec_Rfilt_sma[17]', 'audSpec_Rfilt_sma[18]', 'audSpec_Rfilt_sma[19]', 'audSpec_Rfilt_sma[20]', 'audSpec_Rfilt_sma[21]', 'audSpec_Rfilt_sma[22]', 'audSpec_Rfilt_sma[23]', 'audSpec_Rfilt_sma[24]', 'audSpec_Rfilt_sma[25]', 'pcm_fftMag_fband250-650_sma', 'pcm_fftMag_fband1000-4000_sma', 'pcm_fftMag_spectralRollOff25.0_sma', 'pcm_fftMag_spectralRollOff50.0_sma', 'pcm_fftMag_spectralRollOff75.0_sma', 'pcm_fftMag_spectralRollOff90.0_sma', 'pcm_fftMag_spectralFlux_sma', 'pcm_fftMag_spectralCentroid_sma', 'pcm_fftMag_spectralEntropy_sma', 'pcm_fftMag_spectralVariance_sma', 'pcm_fftMag_spectralSkewness_sma', 'pcm_fftMag_spectralKurtosis_sma', 'pcm_fftMag_spectralSlope_sma', 'pcm_fftMag_psySharpness_sma', 'pcm_fftMag_spectralHarmonicity_sma', 'mfcc_sma[1]', 'mfcc_sma[2]', 'mfcc_sma[3]', 'mfcc_sma[4]', 'mfcc_sma[5]', 'mfcc_sma[6]', 'mfcc_sma[7]', 'mfcc_sma[8]', 'mfcc_sma[10]', 'mfcc_sma[11]', 'mfcc_sma[12]', 'mfcc_sma[13]', 'mfcc_sma[14]', 'Loudness_sma3', 'alphaRatio_sma3', 'hammarbergIndex_sma3', 'slope0-500_sma3', 'slope500-1500_sma3', 'spectralFlux_sma3', 'mfcc1_sma3', 'mfcc2_sma3', 'mfcc3_sma3', 'mfcc4_sma3', 'F0semitoneFrom27.5Hz_sma3nz', 'jitterLocal_sma3nz', 'shimmerLocaldB_sma3nz', 'HNRdBACF_sma3nz', 'logRelF0-H1-H2_sma3nz', 'logRelF0-H1-A3_sma3nz', 'F1frequency_sma3nz', 'F1bandwidth_sma3nz', 'F1amplitudeLogRelF0_sma3nz', 'F2frequency_sma3nz', 'F2bandwidth_sma3nz', 'F2amplitudeLogRelF0_sma3nz', 'F3frequency_sma3nz', 'F3bandwidth_sma3nz', 'F3amplitudeLogRelF0_sma3nz', 'pcm_intensity_sma', 'pcm_loudness_sma', 'mfcc_sma[1].1', 'mfcc_sma[2].1', 'mfcc_sma[3].1', 'mfcc_sma[4].1', 'mfcc_sma[5].1', 'mfcc_sma[6].1', 'mfcc_sma[7].1', 'mfcc_sma[8].1', 'mfcc_sma[9].1', 'mfcc_sma[10].1', 'mfcc_sma[11].1', 'mfcc_sma[12].1', 'lspFreq_sma[0]', 'lspFreq_sma[1]', 'lspFreq_sma[2]', 'lspFreq_sma[3]', 'lspFreq_sma[4]', 'lspFreq_sma[5]', 'lspFreq_sma[6]', 'lspFreq_sma[7]', 'pcm_zcr_sma.1', 'voiceProb_sma', 'F0_sma', 'F0env_sma', 'mfcc_sma_de[13]']\n"
          ]
        }
      ]
    },
    {
      "cell_type": "markdown",
      "source": [
        "####save best feature"
      ],
      "metadata": {
        "id": "vx0BRe3_SNCJ"
      }
    },
    {
      "cell_type": "code",
      "source": [
        "AcousticCorrelates95_Left_vlPFC.to_dict()['F0semitoneFrom27.5Hz_sma3nz']"
      ],
      "metadata": {
        "id": "GqeCE0buLhTO",
        "colab": {
          "base_uri": "https://localhost:8080/"
        },
        "outputId": "712ec33d-9637-4bfe-8e51-c4fd27e1e979"
      },
      "execution_count": null,
      "outputs": [
        {
          "output_type": "execute_result",
          "data": {
            "text/plain": [
              "0.1668217237012167"
            ]
          },
          "metadata": {},
          "execution_count": 43
        }
      ]
    },
    {
      "cell_type": "code",
      "source": [
        "powerAmplitudeAllLLDdf['F0semitoneFrom27.5Hz_sma3nz'].to_csv('Sept9LeftvLPFC_F0semitoneFrom27.5Hz_sma3nz.csv')"
      ],
      "metadata": {
        "id": "xasPpblJSO7W"
      },
      "execution_count": null,
      "outputs": []
    },
    {
      "cell_type": "code",
      "source": [],
      "metadata": {
        "id": "MtYAXBBfSQIc"
      },
      "execution_count": null,
      "outputs": []
    },
    {
      "cell_type": "markdown",
      "source": [
        "##Right OFC"
      ],
      "metadata": {
        "id": "4adSzBO7l-Uu"
      }
    },
    {
      "cell_type": "code",
      "source": [],
      "metadata": {
        "id": "xtNYA5qZVIa9"
      },
      "execution_count": null,
      "outputs": []
    },
    {
      "cell_type": "code",
      "source": [
        "correlations_Right_OFC = powerAmplitudeAllLLDdf.corr()['Power: Right OFC'][4:]#.abs()\n"
      ],
      "metadata": {
        "id": "LB-9wBLAVI3k"
      },
      "execution_count": null,
      "outputs": []
    },
    {
      "cell_type": "code",
      "source": [
        "positiveCorrelationCondition = correlations_Right_OFC > rValFor95ConfidenceLevel\n",
        "negativeCorrelationCondition = correlations_Right_OFC < -1* rValFor95ConfidenceLevel\n",
        "AcousticCorrelates95_Right_OFC = correlations_Right_OFC[ positiveCorrelationCondition | negativeCorrelationCondition]\n",
        "AcousticCorrelates95_Right_OFC.head = 'r'\n",
        "\n",
        "print(\"# of acoustic features where p < 0.05:\", len(AcousticCorrelates95_Right_OFC))\n",
        "AcousticCorrelates95_Right_OFC.nlargest(len(AcousticCorrelates95_Right_OFC)) # for sorting"
      ],
      "metadata": {
        "colab": {
          "base_uri": "https://localhost:8080/"
        },
        "outputId": "05822faa-c0f9-42a8-f64b-a635c634e79b",
        "id": "-UD924dlVI3k"
      },
      "execution_count": null,
      "outputs": [
        {
          "output_type": "stream",
          "name": "stdout",
          "text": [
            "# of acoustic features where p < 0.05: 2\n"
          ]
        },
        {
          "output_type": "execute_result",
          "data": {
            "text/plain": [
              "mfcc_sma[10].1   -0.072117\n",
              "mfcc_sma[10]     -0.074690\n",
              "Name: Power: Right OFC, dtype: float64"
            ]
          },
          "metadata": {},
          "execution_count": 34
        }
      ]
    },
    {
      "cell_type": "code",
      "source": [
        "AcousticCorrelates95_Right_OFC.nlargest(len(AcousticCorrelates95_Right_OFC)).to_csv(date + '_noModeratorSpeech_AcousticCorrelates95_Right_OFC.csv',header=['r'],index_label='Acoustic Feature')"
      ],
      "metadata": {
        "id": "Y6Y__h9UVI3l"
      },
      "execution_count": null,
      "outputs": []
    },
    {
      "cell_type": "code",
      "source": [
        "print(AcousticCorrelates95_Right_OFC.index.tolist())"
      ],
      "metadata": {
        "colab": {
          "base_uri": "https://localhost:8080/"
        },
        "outputId": "8e12865c-bf36-4cbb-cfeb-9fda4412660f",
        "id": "bmccTvRtVI3l"
      },
      "execution_count": null,
      "outputs": [
        {
          "output_type": "stream",
          "name": "stdout",
          "text": [
            "['mfcc_sma[10]', 'mfcc_sma[10].1']\n"
          ]
        }
      ]
    },
    {
      "cell_type": "markdown",
      "source": [
        "##Left OFC"
      ],
      "metadata": {
        "id": "Jz9-QahFl-Uu"
      }
    },
    {
      "cell_type": "code",
      "source": [],
      "metadata": {
        "id": "S6U4sCKMVhk6"
      },
      "execution_count": null,
      "outputs": []
    },
    {
      "cell_type": "code",
      "source": [
        "correlations_Left_OFC = powerAmplitudeAllLLDdf.corr()['Power: Left OFC'][8:]#.abs()\n"
      ],
      "metadata": {
        "id": "G_M3rdzhVhqf"
      },
      "execution_count": null,
      "outputs": []
    },
    {
      "cell_type": "code",
      "source": [
        "positiveCorrelationCondition = correlations_Left_OFC > rValFor95ConfidenceLevel\n",
        "negativeCorrelationCondition = correlations_Left_OFC < -1* rValFor95ConfidenceLevel\n",
        "AcousticCorrelates95_Left_OFC = correlations_Left_OFC[ positiveCorrelationCondition | negativeCorrelationCondition]\n",
        "AcousticCorrelates95_Left_OFC.head = 'r'\n",
        "\n",
        "print(\"# of acoustic features where p < 0.05:\", len(AcousticCorrelates95_Left_OFC))\n",
        "AcousticCorrelates95_Left_OFC.nlargest(len(AcousticCorrelates95_Left_OFC)) # for sorting"
      ],
      "metadata": {
        "colab": {
          "base_uri": "https://localhost:8080/"
        },
        "outputId": "b66f793c-2f2c-431a-8c37-07f11aaff635",
        "id": "zzApuptEVhqf"
      },
      "execution_count": null,
      "outputs": [
        {
          "output_type": "stream",
          "name": "stdout",
          "text": [
            "# of acoustic features where p < 0.05: 1\n"
          ]
        },
        {
          "output_type": "execute_result",
          "data": {
            "text/plain": [
              "logRelF0-H1-H2_sma3nz    0.068429\n",
              "Name: Power: Left OFC, dtype: float64"
            ]
          },
          "metadata": {},
          "execution_count": 40
        }
      ]
    },
    {
      "cell_type": "code",
      "source": [
        "AcousticCorrelates95_Left_OFC.nlargest(len(AcousticCorrelates95_Left_OFC)).to_csv(date + '_noModeratorSpeech_AcousticCorrelates95_Left_OFC.csv',header=['r'],index_label='Acoustic Feature')"
      ],
      "metadata": {
        "id": "wEYxfxtzVhqf"
      },
      "execution_count": null,
      "outputs": []
    },
    {
      "cell_type": "code",
      "source": [
        "print(AcousticCorrelates95_Left_OFC.index.tolist())"
      ],
      "metadata": {
        "colab": {
          "base_uri": "https://localhost:8080/"
        },
        "outputId": "76a591c5-bd46-49c0-a7f1-1d673331905b",
        "id": "rCyPsxyBVhqf"
      },
      "execution_count": null,
      "outputs": [
        {
          "output_type": "stream",
          "name": "stdout",
          "text": [
            "['logRelF0-H1-H2_sma3nz']\n"
          ]
        }
      ]
    },
    {
      "cell_type": "markdown",
      "source": [
        "#Sept 19"
      ],
      "metadata": {
        "id": "_l-l_1VFJpHB"
      }
    },
    {
      "cell_type": "markdown",
      "source": [
        "##Setup"
      ],
      "metadata": {
        "id": "2KeKvqFlbWYj"
      }
    },
    {
      "cell_type": "code",
      "source": [
        "date = '2022-09-19'"
      ],
      "metadata": {
        "id": "OycP9hnBbXmQ"
      },
      "execution_count": null,
      "outputs": []
    },
    {
      "cell_type": "code",
      "source": [
        "powerAmplitudeDF = pd.read_csv('2022-09-19-Power.csv')\n",
        "del powerAmplitudeDF['Unnamed: 0']\n",
        "powerAmplitudeDF.head()"
      ],
      "metadata": {
        "colab": {
          "base_uri": "https://localhost:8080/",
          "height": 224
        },
        "id": "J8M-FjlVJlr3",
        "outputId": "a3264898-0ada-43eb-8553-8398da89bd48"
      },
      "execution_count": null,
      "outputs": [
        {
          "output_type": "execute_result",
          "data": {
            "text/plain": [
              "   Power: Left OFC  Power: Left vlPFC  Power: Right OFC  Power: Right vlPFC\n",
              "0         9.322238           4.995461          5.607341            3.754328\n",
              "1         7.696407           7.638623          6.380779            7.017708\n",
              "2         4.062073           4.581651          6.308548            9.426878\n",
              "3         2.702953           3.492604          4.114555            7.404552\n",
              "4         4.282622           5.795164         10.881743            3.557609"
            ],
            "text/html": [
              "\n",
              "  <div id=\"df-72d61e48-b9e6-42b1-8abd-ef743bd94c94\" class=\"colab-df-container\">\n",
              "    <div>\n",
              "<style scoped>\n",
              "    .dataframe tbody tr th:only-of-type {\n",
              "        vertical-align: middle;\n",
              "    }\n",
              "\n",
              "    .dataframe tbody tr th {\n",
              "        vertical-align: top;\n",
              "    }\n",
              "\n",
              "    .dataframe thead th {\n",
              "        text-align: right;\n",
              "    }\n",
              "</style>\n",
              "<table border=\"1\" class=\"dataframe\">\n",
              "  <thead>\n",
              "    <tr style=\"text-align: right;\">\n",
              "      <th></th>\n",
              "      <th>Power: Left OFC</th>\n",
              "      <th>Power: Left vlPFC</th>\n",
              "      <th>Power: Right OFC</th>\n",
              "      <th>Power: Right vlPFC</th>\n",
              "    </tr>\n",
              "  </thead>\n",
              "  <tbody>\n",
              "    <tr>\n",
              "      <th>0</th>\n",
              "      <td>9.322238</td>\n",
              "      <td>4.995461</td>\n",
              "      <td>5.607341</td>\n",
              "      <td>3.754328</td>\n",
              "    </tr>\n",
              "    <tr>\n",
              "      <th>1</th>\n",
              "      <td>7.696407</td>\n",
              "      <td>7.638623</td>\n",
              "      <td>6.380779</td>\n",
              "      <td>7.017708</td>\n",
              "    </tr>\n",
              "    <tr>\n",
              "      <th>2</th>\n",
              "      <td>4.062073</td>\n",
              "      <td>4.581651</td>\n",
              "      <td>6.308548</td>\n",
              "      <td>9.426878</td>\n",
              "    </tr>\n",
              "    <tr>\n",
              "      <th>3</th>\n",
              "      <td>2.702953</td>\n",
              "      <td>3.492604</td>\n",
              "      <td>4.114555</td>\n",
              "      <td>7.404552</td>\n",
              "    </tr>\n",
              "    <tr>\n",
              "      <th>4</th>\n",
              "      <td>4.282622</td>\n",
              "      <td>5.795164</td>\n",
              "      <td>10.881743</td>\n",
              "      <td>3.557609</td>\n",
              "    </tr>\n",
              "  </tbody>\n",
              "</table>\n",
              "</div>\n",
              "    <div class=\"colab-df-buttons\">\n",
              "\n",
              "  <div class=\"colab-df-container\">\n",
              "    <button class=\"colab-df-convert\" onclick=\"convertToInteractive('df-72d61e48-b9e6-42b1-8abd-ef743bd94c94')\"\n",
              "            title=\"Convert this dataframe to an interactive table.\"\n",
              "            style=\"display:none;\">\n",
              "\n",
              "  <svg xmlns=\"http://www.w3.org/2000/svg\" height=\"24px\" viewBox=\"0 -960 960 960\">\n",
              "    <path d=\"M120-120v-720h720v720H120Zm60-500h600v-160H180v160Zm220 220h160v-160H400v160Zm0 220h160v-160H400v160ZM180-400h160v-160H180v160Zm440 0h160v-160H620v160ZM180-180h160v-160H180v160Zm440 0h160v-160H620v160Z\"/>\n",
              "  </svg>\n",
              "    </button>\n",
              "\n",
              "  <style>\n",
              "    .colab-df-container {\n",
              "      display:flex;\n",
              "      gap: 12px;\n",
              "    }\n",
              "\n",
              "    .colab-df-convert {\n",
              "      background-color: #E8F0FE;\n",
              "      border: none;\n",
              "      border-radius: 50%;\n",
              "      cursor: pointer;\n",
              "      display: none;\n",
              "      fill: #1967D2;\n",
              "      height: 32px;\n",
              "      padding: 0 0 0 0;\n",
              "      width: 32px;\n",
              "    }\n",
              "\n",
              "    .colab-df-convert:hover {\n",
              "      background-color: #E2EBFA;\n",
              "      box-shadow: 0px 1px 2px rgba(60, 64, 67, 0.3), 0px 1px 3px 1px rgba(60, 64, 67, 0.15);\n",
              "      fill: #174EA6;\n",
              "    }\n",
              "\n",
              "    .colab-df-buttons div {\n",
              "      margin-bottom: 4px;\n",
              "    }\n",
              "\n",
              "    [theme=dark] .colab-df-convert {\n",
              "      background-color: #3B4455;\n",
              "      fill: #D2E3FC;\n",
              "    }\n",
              "\n",
              "    [theme=dark] .colab-df-convert:hover {\n",
              "      background-color: #434B5C;\n",
              "      box-shadow: 0px 1px 3px 1px rgba(0, 0, 0, 0.15);\n",
              "      filter: drop-shadow(0px 1px 2px rgba(0, 0, 0, 0.3));\n",
              "      fill: #FFFFFF;\n",
              "    }\n",
              "  </style>\n",
              "\n",
              "    <script>\n",
              "      const buttonEl =\n",
              "        document.querySelector('#df-72d61e48-b9e6-42b1-8abd-ef743bd94c94 button.colab-df-convert');\n",
              "      buttonEl.style.display =\n",
              "        google.colab.kernel.accessAllowed ? 'block' : 'none';\n",
              "\n",
              "      async function convertToInteractive(key) {\n",
              "        const element = document.querySelector('#df-72d61e48-b9e6-42b1-8abd-ef743bd94c94');\n",
              "        const dataTable =\n",
              "          await google.colab.kernel.invokeFunction('convertToInteractive',\n",
              "                                                    [key], {});\n",
              "        if (!dataTable) return;\n",
              "\n",
              "        const docLinkHtml = 'Like what you see? Visit the ' +\n",
              "          '<a target=\"_blank\" href=https://colab.research.google.com/notebooks/data_table.ipynb>data table notebook</a>'\n",
              "          + ' to learn more about interactive tables.';\n",
              "        element.innerHTML = '';\n",
              "        dataTable['output_type'] = 'display_data';\n",
              "        await google.colab.output.renderOutput(dataTable, element);\n",
              "        const docLink = document.createElement('div');\n",
              "        docLink.innerHTML = docLinkHtml;\n",
              "        element.appendChild(docLink);\n",
              "      }\n",
              "    </script>\n",
              "  </div>\n",
              "\n",
              "\n",
              "<div id=\"df-8ea68f02-2158-47b0-8383-4fcba738a194\">\n",
              "  <button class=\"colab-df-quickchart\" onclick=\"quickchart('df-8ea68f02-2158-47b0-8383-4fcba738a194')\"\n",
              "            title=\"Suggest charts\"\n",
              "            style=\"display:none;\">\n",
              "\n",
              "<svg xmlns=\"http://www.w3.org/2000/svg\" height=\"24px\"viewBox=\"0 0 24 24\"\n",
              "     width=\"24px\">\n",
              "    <g>\n",
              "        <path d=\"M19 3H5c-1.1 0-2 .9-2 2v14c0 1.1.9 2 2 2h14c1.1 0 2-.9 2-2V5c0-1.1-.9-2-2-2zM9 17H7v-7h2v7zm4 0h-2V7h2v10zm4 0h-2v-4h2v4z\"/>\n",
              "    </g>\n",
              "</svg>\n",
              "  </button>\n",
              "\n",
              "<style>\n",
              "  .colab-df-quickchart {\n",
              "      --bg-color: #E8F0FE;\n",
              "      --fill-color: #1967D2;\n",
              "      --hover-bg-color: #E2EBFA;\n",
              "      --hover-fill-color: #174EA6;\n",
              "      --disabled-fill-color: #AAA;\n",
              "      --disabled-bg-color: #DDD;\n",
              "  }\n",
              "\n",
              "  [theme=dark] .colab-df-quickchart {\n",
              "      --bg-color: #3B4455;\n",
              "      --fill-color: #D2E3FC;\n",
              "      --hover-bg-color: #434B5C;\n",
              "      --hover-fill-color: #FFFFFF;\n",
              "      --disabled-bg-color: #3B4455;\n",
              "      --disabled-fill-color: #666;\n",
              "  }\n",
              "\n",
              "  .colab-df-quickchart {\n",
              "    background-color: var(--bg-color);\n",
              "    border: none;\n",
              "    border-radius: 50%;\n",
              "    cursor: pointer;\n",
              "    display: none;\n",
              "    fill: var(--fill-color);\n",
              "    height: 32px;\n",
              "    padding: 0;\n",
              "    width: 32px;\n",
              "  }\n",
              "\n",
              "  .colab-df-quickchart:hover {\n",
              "    background-color: var(--hover-bg-color);\n",
              "    box-shadow: 0 1px 2px rgba(60, 64, 67, 0.3), 0 1px 3px 1px rgba(60, 64, 67, 0.15);\n",
              "    fill: var(--button-hover-fill-color);\n",
              "  }\n",
              "\n",
              "  .colab-df-quickchart-complete:disabled,\n",
              "  .colab-df-quickchart-complete:disabled:hover {\n",
              "    background-color: var(--disabled-bg-color);\n",
              "    fill: var(--disabled-fill-color);\n",
              "    box-shadow: none;\n",
              "  }\n",
              "\n",
              "  .colab-df-spinner {\n",
              "    border: 2px solid var(--fill-color);\n",
              "    border-color: transparent;\n",
              "    border-bottom-color: var(--fill-color);\n",
              "    animation:\n",
              "      spin 1s steps(1) infinite;\n",
              "  }\n",
              "\n",
              "  @keyframes spin {\n",
              "    0% {\n",
              "      border-color: transparent;\n",
              "      border-bottom-color: var(--fill-color);\n",
              "      border-left-color: var(--fill-color);\n",
              "    }\n",
              "    20% {\n",
              "      border-color: transparent;\n",
              "      border-left-color: var(--fill-color);\n",
              "      border-top-color: var(--fill-color);\n",
              "    }\n",
              "    30% {\n",
              "      border-color: transparent;\n",
              "      border-left-color: var(--fill-color);\n",
              "      border-top-color: var(--fill-color);\n",
              "      border-right-color: var(--fill-color);\n",
              "    }\n",
              "    40% {\n",
              "      border-color: transparent;\n",
              "      border-right-color: var(--fill-color);\n",
              "      border-top-color: var(--fill-color);\n",
              "    }\n",
              "    60% {\n",
              "      border-color: transparent;\n",
              "      border-right-color: var(--fill-color);\n",
              "    }\n",
              "    80% {\n",
              "      border-color: transparent;\n",
              "      border-right-color: var(--fill-color);\n",
              "      border-bottom-color: var(--fill-color);\n",
              "    }\n",
              "    90% {\n",
              "      border-color: transparent;\n",
              "      border-bottom-color: var(--fill-color);\n",
              "    }\n",
              "  }\n",
              "</style>\n",
              "\n",
              "  <script>\n",
              "    async function quickchart(key) {\n",
              "      const quickchartButtonEl =\n",
              "        document.querySelector('#' + key + ' button');\n",
              "      quickchartButtonEl.disabled = true;  // To prevent multiple clicks.\n",
              "      quickchartButtonEl.classList.add('colab-df-spinner');\n",
              "      try {\n",
              "        const charts = await google.colab.kernel.invokeFunction(\n",
              "            'suggestCharts', [key], {});\n",
              "      } catch (error) {\n",
              "        console.error('Error during call to suggestCharts:', error);\n",
              "      }\n",
              "      quickchartButtonEl.classList.remove('colab-df-spinner');\n",
              "      quickchartButtonEl.classList.add('colab-df-quickchart-complete');\n",
              "    }\n",
              "    (() => {\n",
              "      let quickchartButtonEl =\n",
              "        document.querySelector('#df-8ea68f02-2158-47b0-8383-4fcba738a194 button');\n",
              "      quickchartButtonEl.style.display =\n",
              "        google.colab.kernel.accessAllowed ? 'block' : 'none';\n",
              "    })();\n",
              "  </script>\n",
              "</div>\n",
              "    </div>\n",
              "  </div>\n"
            ]
          },
          "metadata": {},
          "execution_count": 55
        }
      ]
    },
    {
      "cell_type": "code",
      "source": [
        "powerAmplitudeDF.shape"
      ],
      "metadata": {
        "colab": {
          "base_uri": "https://localhost:8080/"
        },
        "id": "SMpNgxhzROhE",
        "outputId": "c839a1c3-4141-4d80-d5d3-727a82de5aca"
      },
      "execution_count": null,
      "outputs": [
        {
          "output_type": "execute_result",
          "data": {
            "text/plain": [
              "(1137, 4)"
            ]
          },
          "metadata": {},
          "execution_count": 56
        }
      ]
    },
    {
      "cell_type": "code",
      "source": [
        "acousticFeatsDF = pd.read_csv('AcousticFeatures_noModeratorSpeech_aDBS012_' + '2022-09-19_' + 'audio_amplitude.csv')\n",
        "del acousticFeatsDF['Unnamed: 0']\n",
        "acousticFeatsDF.head()"
      ],
      "metadata": {
        "colab": {
          "base_uri": "https://localhost:8080/",
          "height": 256
        },
        "id": "H20U3OyNRQAD",
        "outputId": "95c64bae-cff7-40d0-9d06-ca1bc9a9bc57"
      },
      "execution_count": null,
      "outputs": [
        {
          "output_type": "execute_result",
          "data": {
            "text/plain": [
              "   F0final_sma  voicingFinalUnclipped_sma  jitterLocal_sma  jitterDDP_sma  \\\n",
              "0          0.0                        0.0              0.0            0.0   \n",
              "1          0.0                        0.0              0.0            0.0   \n",
              "2          0.0                        0.0              0.0            0.0   \n",
              "3          0.0                        0.0              0.0            0.0   \n",
              "4          0.0                        0.0              0.0            0.0   \n",
              "\n",
              "   shimmerLocal_sma  logHNR_sma  audspec_lengthL1norm_sma  \\\n",
              "0               0.0      -100.0                  0.001034   \n",
              "1               0.0      -100.0                  0.001034   \n",
              "2               0.0      -100.0                  0.001034   \n",
              "3               0.0      -100.0                  0.001034   \n",
              "4               0.0      -100.0                  0.001034   \n",
              "\n",
              "   audspecRasta_lengthL1norm_sma  pcm_RMSenergy_sma  pcm_zcr_sma  ...  \\\n",
              "0                       0.988341                0.0     0.999306  ...   \n",
              "1                       0.988341                0.0     0.999306  ...   \n",
              "2                       0.988341                0.0     0.999306  ...   \n",
              "3                       0.988341                0.0     0.999306  ...   \n",
              "4                       0.988341                0.0     0.999306  ...   \n",
              "\n",
              "   lspFreq_sma_de[2]  lspFreq_sma_de[3]  lspFreq_sma_de[4]  lspFreq_sma_de[5]  \\\n",
              "0                0.0                0.0                0.0                0.0   \n",
              "1                0.0                0.0                0.0                0.0   \n",
              "2                0.0                0.0                0.0                0.0   \n",
              "3                0.0                0.0                0.0                0.0   \n",
              "4                0.0                0.0                0.0                0.0   \n",
              "\n",
              "   lspFreq_sma_de[6]  lspFreq_sma_de[7]  pcm_zcr_sma_de.1  voiceProb_sma_de  \\\n",
              "0                0.0                0.0               0.0               0.0   \n",
              "1                0.0                0.0               0.0               0.0   \n",
              "2                0.0                0.0               0.0               0.0   \n",
              "3                0.0                0.0               0.0               0.0   \n",
              "4                0.0                0.0               0.0               0.0   \n",
              "\n",
              "   F0_sma_de  F0env_sma_de  \n",
              "0        0.0           0.0  \n",
              "1        0.0           0.0  \n",
              "2        0.0           0.0  \n",
              "3        0.0           0.0  \n",
              "4        0.0           0.0  \n",
              "\n",
              "[5 rows x 207 columns]"
            ],
            "text/html": [
              "\n",
              "  <div id=\"df-7d0633fd-5795-420a-9c00-bf2a56f794be\" class=\"colab-df-container\">\n",
              "    <div>\n",
              "<style scoped>\n",
              "    .dataframe tbody tr th:only-of-type {\n",
              "        vertical-align: middle;\n",
              "    }\n",
              "\n",
              "    .dataframe tbody tr th {\n",
              "        vertical-align: top;\n",
              "    }\n",
              "\n",
              "    .dataframe thead th {\n",
              "        text-align: right;\n",
              "    }\n",
              "</style>\n",
              "<table border=\"1\" class=\"dataframe\">\n",
              "  <thead>\n",
              "    <tr style=\"text-align: right;\">\n",
              "      <th></th>\n",
              "      <th>F0final_sma</th>\n",
              "      <th>voicingFinalUnclipped_sma</th>\n",
              "      <th>jitterLocal_sma</th>\n",
              "      <th>jitterDDP_sma</th>\n",
              "      <th>shimmerLocal_sma</th>\n",
              "      <th>logHNR_sma</th>\n",
              "      <th>audspec_lengthL1norm_sma</th>\n",
              "      <th>audspecRasta_lengthL1norm_sma</th>\n",
              "      <th>pcm_RMSenergy_sma</th>\n",
              "      <th>pcm_zcr_sma</th>\n",
              "      <th>...</th>\n",
              "      <th>lspFreq_sma_de[2]</th>\n",
              "      <th>lspFreq_sma_de[3]</th>\n",
              "      <th>lspFreq_sma_de[4]</th>\n",
              "      <th>lspFreq_sma_de[5]</th>\n",
              "      <th>lspFreq_sma_de[6]</th>\n",
              "      <th>lspFreq_sma_de[7]</th>\n",
              "      <th>pcm_zcr_sma_de.1</th>\n",
              "      <th>voiceProb_sma_de</th>\n",
              "      <th>F0_sma_de</th>\n",
              "      <th>F0env_sma_de</th>\n",
              "    </tr>\n",
              "  </thead>\n",
              "  <tbody>\n",
              "    <tr>\n",
              "      <th>0</th>\n",
              "      <td>0.0</td>\n",
              "      <td>0.0</td>\n",
              "      <td>0.0</td>\n",
              "      <td>0.0</td>\n",
              "      <td>0.0</td>\n",
              "      <td>-100.0</td>\n",
              "      <td>0.001034</td>\n",
              "      <td>0.988341</td>\n",
              "      <td>0.0</td>\n",
              "      <td>0.999306</td>\n",
              "      <td>...</td>\n",
              "      <td>0.0</td>\n",
              "      <td>0.0</td>\n",
              "      <td>0.0</td>\n",
              "      <td>0.0</td>\n",
              "      <td>0.0</td>\n",
              "      <td>0.0</td>\n",
              "      <td>0.0</td>\n",
              "      <td>0.0</td>\n",
              "      <td>0.0</td>\n",
              "      <td>0.0</td>\n",
              "    </tr>\n",
              "    <tr>\n",
              "      <th>1</th>\n",
              "      <td>0.0</td>\n",
              "      <td>0.0</td>\n",
              "      <td>0.0</td>\n",
              "      <td>0.0</td>\n",
              "      <td>0.0</td>\n",
              "      <td>-100.0</td>\n",
              "      <td>0.001034</td>\n",
              "      <td>0.988341</td>\n",
              "      <td>0.0</td>\n",
              "      <td>0.999306</td>\n",
              "      <td>...</td>\n",
              "      <td>0.0</td>\n",
              "      <td>0.0</td>\n",
              "      <td>0.0</td>\n",
              "      <td>0.0</td>\n",
              "      <td>0.0</td>\n",
              "      <td>0.0</td>\n",
              "      <td>0.0</td>\n",
              "      <td>0.0</td>\n",
              "      <td>0.0</td>\n",
              "      <td>0.0</td>\n",
              "    </tr>\n",
              "    <tr>\n",
              "      <th>2</th>\n",
              "      <td>0.0</td>\n",
              "      <td>0.0</td>\n",
              "      <td>0.0</td>\n",
              "      <td>0.0</td>\n",
              "      <td>0.0</td>\n",
              "      <td>-100.0</td>\n",
              "      <td>0.001034</td>\n",
              "      <td>0.988341</td>\n",
              "      <td>0.0</td>\n",
              "      <td>0.999306</td>\n",
              "      <td>...</td>\n",
              "      <td>0.0</td>\n",
              "      <td>0.0</td>\n",
              "      <td>0.0</td>\n",
              "      <td>0.0</td>\n",
              "      <td>0.0</td>\n",
              "      <td>0.0</td>\n",
              "      <td>0.0</td>\n",
              "      <td>0.0</td>\n",
              "      <td>0.0</td>\n",
              "      <td>0.0</td>\n",
              "    </tr>\n",
              "    <tr>\n",
              "      <th>3</th>\n",
              "      <td>0.0</td>\n",
              "      <td>0.0</td>\n",
              "      <td>0.0</td>\n",
              "      <td>0.0</td>\n",
              "      <td>0.0</td>\n",
              "      <td>-100.0</td>\n",
              "      <td>0.001034</td>\n",
              "      <td>0.988341</td>\n",
              "      <td>0.0</td>\n",
              "      <td>0.999306</td>\n",
              "      <td>...</td>\n",
              "      <td>0.0</td>\n",
              "      <td>0.0</td>\n",
              "      <td>0.0</td>\n",
              "      <td>0.0</td>\n",
              "      <td>0.0</td>\n",
              "      <td>0.0</td>\n",
              "      <td>0.0</td>\n",
              "      <td>0.0</td>\n",
              "      <td>0.0</td>\n",
              "      <td>0.0</td>\n",
              "    </tr>\n",
              "    <tr>\n",
              "      <th>4</th>\n",
              "      <td>0.0</td>\n",
              "      <td>0.0</td>\n",
              "      <td>0.0</td>\n",
              "      <td>0.0</td>\n",
              "      <td>0.0</td>\n",
              "      <td>-100.0</td>\n",
              "      <td>0.001034</td>\n",
              "      <td>0.988341</td>\n",
              "      <td>0.0</td>\n",
              "      <td>0.999306</td>\n",
              "      <td>...</td>\n",
              "      <td>0.0</td>\n",
              "      <td>0.0</td>\n",
              "      <td>0.0</td>\n",
              "      <td>0.0</td>\n",
              "      <td>0.0</td>\n",
              "      <td>0.0</td>\n",
              "      <td>0.0</td>\n",
              "      <td>0.0</td>\n",
              "      <td>0.0</td>\n",
              "      <td>0.0</td>\n",
              "    </tr>\n",
              "  </tbody>\n",
              "</table>\n",
              "<p>5 rows × 207 columns</p>\n",
              "</div>\n",
              "    <div class=\"colab-df-buttons\">\n",
              "\n",
              "  <div class=\"colab-df-container\">\n",
              "    <button class=\"colab-df-convert\" onclick=\"convertToInteractive('df-7d0633fd-5795-420a-9c00-bf2a56f794be')\"\n",
              "            title=\"Convert this dataframe to an interactive table.\"\n",
              "            style=\"display:none;\">\n",
              "\n",
              "  <svg xmlns=\"http://www.w3.org/2000/svg\" height=\"24px\" viewBox=\"0 -960 960 960\">\n",
              "    <path d=\"M120-120v-720h720v720H120Zm60-500h600v-160H180v160Zm220 220h160v-160H400v160Zm0 220h160v-160H400v160ZM180-400h160v-160H180v160Zm440 0h160v-160H620v160ZM180-180h160v-160H180v160Zm440 0h160v-160H620v160Z\"/>\n",
              "  </svg>\n",
              "    </button>\n",
              "\n",
              "  <style>\n",
              "    .colab-df-container {\n",
              "      display:flex;\n",
              "      gap: 12px;\n",
              "    }\n",
              "\n",
              "    .colab-df-convert {\n",
              "      background-color: #E8F0FE;\n",
              "      border: none;\n",
              "      border-radius: 50%;\n",
              "      cursor: pointer;\n",
              "      display: none;\n",
              "      fill: #1967D2;\n",
              "      height: 32px;\n",
              "      padding: 0 0 0 0;\n",
              "      width: 32px;\n",
              "    }\n",
              "\n",
              "    .colab-df-convert:hover {\n",
              "      background-color: #E2EBFA;\n",
              "      box-shadow: 0px 1px 2px rgba(60, 64, 67, 0.3), 0px 1px 3px 1px rgba(60, 64, 67, 0.15);\n",
              "      fill: #174EA6;\n",
              "    }\n",
              "\n",
              "    .colab-df-buttons div {\n",
              "      margin-bottom: 4px;\n",
              "    }\n",
              "\n",
              "    [theme=dark] .colab-df-convert {\n",
              "      background-color: #3B4455;\n",
              "      fill: #D2E3FC;\n",
              "    }\n",
              "\n",
              "    [theme=dark] .colab-df-convert:hover {\n",
              "      background-color: #434B5C;\n",
              "      box-shadow: 0px 1px 3px 1px rgba(0, 0, 0, 0.15);\n",
              "      filter: drop-shadow(0px 1px 2px rgba(0, 0, 0, 0.3));\n",
              "      fill: #FFFFFF;\n",
              "    }\n",
              "  </style>\n",
              "\n",
              "    <script>\n",
              "      const buttonEl =\n",
              "        document.querySelector('#df-7d0633fd-5795-420a-9c00-bf2a56f794be button.colab-df-convert');\n",
              "      buttonEl.style.display =\n",
              "        google.colab.kernel.accessAllowed ? 'block' : 'none';\n",
              "\n",
              "      async function convertToInteractive(key) {\n",
              "        const element = document.querySelector('#df-7d0633fd-5795-420a-9c00-bf2a56f794be');\n",
              "        const dataTable =\n",
              "          await google.colab.kernel.invokeFunction('convertToInteractive',\n",
              "                                                    [key], {});\n",
              "        if (!dataTable) return;\n",
              "\n",
              "        const docLinkHtml = 'Like what you see? Visit the ' +\n",
              "          '<a target=\"_blank\" href=https://colab.research.google.com/notebooks/data_table.ipynb>data table notebook</a>'\n",
              "          + ' to learn more about interactive tables.';\n",
              "        element.innerHTML = '';\n",
              "        dataTable['output_type'] = 'display_data';\n",
              "        await google.colab.output.renderOutput(dataTable, element);\n",
              "        const docLink = document.createElement('div');\n",
              "        docLink.innerHTML = docLinkHtml;\n",
              "        element.appendChild(docLink);\n",
              "      }\n",
              "    </script>\n",
              "  </div>\n",
              "\n",
              "\n",
              "<div id=\"df-ae42b6a1-1734-4fa6-b703-4b470bea9fc6\">\n",
              "  <button class=\"colab-df-quickchart\" onclick=\"quickchart('df-ae42b6a1-1734-4fa6-b703-4b470bea9fc6')\"\n",
              "            title=\"Suggest charts\"\n",
              "            style=\"display:none;\">\n",
              "\n",
              "<svg xmlns=\"http://www.w3.org/2000/svg\" height=\"24px\"viewBox=\"0 0 24 24\"\n",
              "     width=\"24px\">\n",
              "    <g>\n",
              "        <path d=\"M19 3H5c-1.1 0-2 .9-2 2v14c0 1.1.9 2 2 2h14c1.1 0 2-.9 2-2V5c0-1.1-.9-2-2-2zM9 17H7v-7h2v7zm4 0h-2V7h2v10zm4 0h-2v-4h2v4z\"/>\n",
              "    </g>\n",
              "</svg>\n",
              "  </button>\n",
              "\n",
              "<style>\n",
              "  .colab-df-quickchart {\n",
              "      --bg-color: #E8F0FE;\n",
              "      --fill-color: #1967D2;\n",
              "      --hover-bg-color: #E2EBFA;\n",
              "      --hover-fill-color: #174EA6;\n",
              "      --disabled-fill-color: #AAA;\n",
              "      --disabled-bg-color: #DDD;\n",
              "  }\n",
              "\n",
              "  [theme=dark] .colab-df-quickchart {\n",
              "      --bg-color: #3B4455;\n",
              "      --fill-color: #D2E3FC;\n",
              "      --hover-bg-color: #434B5C;\n",
              "      --hover-fill-color: #FFFFFF;\n",
              "      --disabled-bg-color: #3B4455;\n",
              "      --disabled-fill-color: #666;\n",
              "  }\n",
              "\n",
              "  .colab-df-quickchart {\n",
              "    background-color: var(--bg-color);\n",
              "    border: none;\n",
              "    border-radius: 50%;\n",
              "    cursor: pointer;\n",
              "    display: none;\n",
              "    fill: var(--fill-color);\n",
              "    height: 32px;\n",
              "    padding: 0;\n",
              "    width: 32px;\n",
              "  }\n",
              "\n",
              "  .colab-df-quickchart:hover {\n",
              "    background-color: var(--hover-bg-color);\n",
              "    box-shadow: 0 1px 2px rgba(60, 64, 67, 0.3), 0 1px 3px 1px rgba(60, 64, 67, 0.15);\n",
              "    fill: var(--button-hover-fill-color);\n",
              "  }\n",
              "\n",
              "  .colab-df-quickchart-complete:disabled,\n",
              "  .colab-df-quickchart-complete:disabled:hover {\n",
              "    background-color: var(--disabled-bg-color);\n",
              "    fill: var(--disabled-fill-color);\n",
              "    box-shadow: none;\n",
              "  }\n",
              "\n",
              "  .colab-df-spinner {\n",
              "    border: 2px solid var(--fill-color);\n",
              "    border-color: transparent;\n",
              "    border-bottom-color: var(--fill-color);\n",
              "    animation:\n",
              "      spin 1s steps(1) infinite;\n",
              "  }\n",
              "\n",
              "  @keyframes spin {\n",
              "    0% {\n",
              "      border-color: transparent;\n",
              "      border-bottom-color: var(--fill-color);\n",
              "      border-left-color: var(--fill-color);\n",
              "    }\n",
              "    20% {\n",
              "      border-color: transparent;\n",
              "      border-left-color: var(--fill-color);\n",
              "      border-top-color: var(--fill-color);\n",
              "    }\n",
              "    30% {\n",
              "      border-color: transparent;\n",
              "      border-left-color: var(--fill-color);\n",
              "      border-top-color: var(--fill-color);\n",
              "      border-right-color: var(--fill-color);\n",
              "    }\n",
              "    40% {\n",
              "      border-color: transparent;\n",
              "      border-right-color: var(--fill-color);\n",
              "      border-top-color: var(--fill-color);\n",
              "    }\n",
              "    60% {\n",
              "      border-color: transparent;\n",
              "      border-right-color: var(--fill-color);\n",
              "    }\n",
              "    80% {\n",
              "      border-color: transparent;\n",
              "      border-right-color: var(--fill-color);\n",
              "      border-bottom-color: var(--fill-color);\n",
              "    }\n",
              "    90% {\n",
              "      border-color: transparent;\n",
              "      border-bottom-color: var(--fill-color);\n",
              "    }\n",
              "  }\n",
              "</style>\n",
              "\n",
              "  <script>\n",
              "    async function quickchart(key) {\n",
              "      const quickchartButtonEl =\n",
              "        document.querySelector('#' + key + ' button');\n",
              "      quickchartButtonEl.disabled = true;  // To prevent multiple clicks.\n",
              "      quickchartButtonEl.classList.add('colab-df-spinner');\n",
              "      try {\n",
              "        const charts = await google.colab.kernel.invokeFunction(\n",
              "            'suggestCharts', [key], {});\n",
              "      } catch (error) {\n",
              "        console.error('Error during call to suggestCharts:', error);\n",
              "      }\n",
              "      quickchartButtonEl.classList.remove('colab-df-spinner');\n",
              "      quickchartButtonEl.classList.add('colab-df-quickchart-complete');\n",
              "    }\n",
              "    (() => {\n",
              "      let quickchartButtonEl =\n",
              "        document.querySelector('#df-ae42b6a1-1734-4fa6-b703-4b470bea9fc6 button');\n",
              "      quickchartButtonEl.style.display =\n",
              "        google.colab.kernel.accessAllowed ? 'block' : 'none';\n",
              "    })();\n",
              "  </script>\n",
              "</div>\n",
              "    </div>\n",
              "  </div>\n"
            ]
          },
          "metadata": {},
          "execution_count": 59
        }
      ]
    },
    {
      "cell_type": "code",
      "source": [
        "acousticFeatsDF.shape"
      ],
      "metadata": {
        "colab": {
          "base_uri": "https://localhost:8080/"
        },
        "id": "lp1YQ-v-Ri87",
        "outputId": "21ccab58-e99d-4135-e8e4-dfb4d4fe87ad"
      },
      "execution_count": null,
      "outputs": [
        {
          "output_type": "execute_result",
          "data": {
            "text/plain": [
              "(1129, 207)"
            ]
          },
          "metadata": {},
          "execution_count": 60
        }
      ]
    },
    {
      "cell_type": "code",
      "source": [
        "powerAmplitudeDF = powerAmplitudeDF.iloc[:acousticFeatsDF.shape[0]]\n",
        "powerAmplitudeDF.shape"
      ],
      "metadata": {
        "colab": {
          "base_uri": "https://localhost:8080/"
        },
        "id": "irD9hRN6Rktq",
        "outputId": "928b02f5-6b94-4ed2-d562-89c43298a7d7"
      },
      "execution_count": null,
      "outputs": [
        {
          "output_type": "execute_result",
          "data": {
            "text/plain": [
              "(1129, 4)"
            ]
          },
          "metadata": {},
          "execution_count": 61
        }
      ]
    },
    {
      "cell_type": "code",
      "source": [
        "powerAmplitudeAllLLDdf = pd.concat([powerAmplitudeDF,acousticFeatsDF],axis=1)\n",
        "powerAmplitudeAllLLDdf.shape"
      ],
      "metadata": {
        "colab": {
          "base_uri": "https://localhost:8080/"
        },
        "id": "MZewmM9KR_RF",
        "outputId": "07e76bfb-67b3-4d6b-f5f6-e528b988e36c"
      },
      "execution_count": null,
      "outputs": [
        {
          "output_type": "execute_result",
          "data": {
            "text/plain": [
              "(1129, 211)"
            ]
          },
          "metadata": {},
          "execution_count": 62
        }
      ]
    },
    {
      "cell_type": "markdown",
      "source": [
        "Website to compute p value from r value and n: http://vassarstats.net/tabs_r.html"
      ],
      "metadata": {
        "id": "iqHoPXSGSgoY"
      }
    },
    {
      "cell_type": "markdown",
      "source": [],
      "metadata": {
        "id": "-i_08S4kTQMX"
      }
    },
    {
      "cell_type": "markdown",
      "source": [
        "Need r >= 0.077 for p < 0.01\n",
        "Need r >= 0.059 for p < 0.05"
      ],
      "metadata": {
        "id": "8jajXAP0S0eE"
      }
    },
    {
      "cell_type": "code",
      "source": [
        "rValFor99ConfidenceLevel = 0.077\n",
        "rValFor95ConfidenceLevel = 0.059"
      ],
      "metadata": {
        "id": "V1wGtHC-TV30"
      },
      "execution_count": null,
      "outputs": []
    },
    {
      "cell_type": "code",
      "source": [],
      "metadata": {
        "id": "DEpIn1MLbhSM"
      },
      "execution_count": null,
      "outputs": []
    },
    {
      "cell_type": "code",
      "source": [],
      "metadata": {
        "id": "cH_vM3HfOWsk"
      },
      "execution_count": null,
      "outputs": []
    },
    {
      "cell_type": "markdown",
      "source": [
        "##random noise t-test (10)"
      ],
      "metadata": {
        "id": "ZSPni2p0OW0Q"
      }
    },
    {
      "cell_type": "code",
      "source": [
        "import numpy as np"
      ],
      "metadata": {
        "id": "YWuzAnTNOW0R"
      },
      "execution_count": null,
      "outputs": []
    },
    {
      "cell_type": "code",
      "source": [
        "# Set a seed for reproducibility (optional)\n",
        "np.random.seed(37)\n",
        "\n",
        "# Mean and standard deviation of the Gaussian distribution\n",
        "mean_value = 0\n",
        "std_dev = 1\n",
        "\n",
        "# Generate a random element numpy array from a Gaussian distribution\n",
        "random_array = np.random.normal(mean_value, std_dev, powerAmplitudeAllLLDdf.shape[0])\n",
        "powerAmplitudeAllLLDdf['Noise'] = random_array\n",
        "correlations_Noise = powerAmplitudeAllLLDdf.corr()['Noise'][4:-1]#.abs()"
      ],
      "metadata": {
        "id": "J5WeAv06OW0R"
      },
      "execution_count": null,
      "outputs": []
    },
    {
      "cell_type": "code",
      "source": [
        "positiveCorrelationCondition = correlations_Noise > rValFor95ConfidenceLevel\n",
        "negativeCorrelationCondition = correlations_Noise < -1* rValFor95ConfidenceLevel\n",
        "noiseCorrelates = correlations_Noise[ positiveCorrelationCondition | negativeCorrelationCondition]\n",
        "noiseCorrelates.head = 'r'\n",
        "\n",
        "print(\"# of acoustic features where p < 0.05:\", len(noiseCorrelates))\n",
        "noiseCorrelates.nlargest(len(noiseCorrelates)) # for sorting"
      ],
      "metadata": {
        "colab": {
          "base_uri": "https://localhost:8080/"
        },
        "outputId": "7ef3a0ca-5fc8-4f9e-a00a-1b11311aaa00",
        "id": "3ged_CcPOW0S"
      },
      "execution_count": null,
      "outputs": [
        {
          "output_type": "stream",
          "name": "stdout",
          "text": [
            "# of acoustic features where p < 0.05: 10\n"
          ]
        },
        {
          "output_type": "execute_result",
          "data": {
            "text/plain": [
              "lspFreq_sma[5]              0.069108\n",
              "lspFreq_sma[4]              0.063187\n",
              "F2bandwidth_sma3nz          0.061944\n",
              "F3bandwidth_sma3nz          0.060692\n",
              "lspFreq_sma[6]              0.060248\n",
              "mfcc_sma[10]               -0.062081\n",
              "mfcc_sma[8].1              -0.066255\n",
              "audspec_lengthL1norm_sma   -0.066624\n",
              "Loudness_sma3              -0.066624\n",
              "mfcc_sma[8]                -0.070496\n",
              "Name: Noise, dtype: float64"
            ]
          },
          "metadata": {},
          "execution_count": 233
        }
      ]
    },
    {
      "cell_type": "markdown",
      "source": [
        "##Right vLPFC"
      ],
      "metadata": {
        "id": "9Cn6uATZbhX8"
      }
    },
    {
      "cell_type": "code",
      "source": [
        "correlations_Right_vlPFC = powerAmplitudeAllLLDdf.corr()['Power: Right vlPFC'][4:]#.abs()"
      ],
      "metadata": {
        "id": "PRBZvny6bhX8"
      },
      "execution_count": null,
      "outputs": []
    },
    {
      "cell_type": "code",
      "source": [
        "positiveCorrelationCondition = correlations_Right_vlPFC > rValFor95ConfidenceLevel\n",
        "negativeCorrelationCondition = correlations_Right_vlPFC < -1* rValFor95ConfidenceLevel\n",
        "AcousticCorrelates95_Right_vlPFC = correlations_Right_vlPFC[ positiveCorrelationCondition | negativeCorrelationCondition]\n",
        "AcousticCorrelates95_Right_vlPFC.head = 'r'\n",
        "\n",
        "print(\"# of acoustic features where p < 0.05:\", len(AcousticCorrelates95_Right_vlPFC))\n",
        "AcousticCorrelates95_Right_vlPFC.nlargest(len(AcousticCorrelates95_Right_vlPFC)) # for sorting"
      ],
      "metadata": {
        "colab": {
          "base_uri": "https://localhost:8080/"
        },
        "outputId": "d8d772e3-4c03-4594-9f7a-a580eabc8e71",
        "id": "1FcCbykebhX9"
      },
      "execution_count": null,
      "outputs": [
        {
          "output_type": "stream",
          "name": "stdout",
          "text": [
            "# of acoustic features where p < 0.05: 51\n"
          ]
        },
        {
          "output_type": "execute_result",
          "data": {
            "text/plain": [
              "mfcc1_sma3                        0.084081\n",
              "mfcc_sma[1]                       0.084081\n",
              "Loudness_sma3                     0.082162\n",
              "audspec_lengthL1norm_sma          0.082162\n",
              "pcm_fftMag_spectralEntropy_sma    0.082039\n",
              "F2bandwidth_sma3nz                0.082010\n",
              "pcm_RMSenergy_sma                 0.081185\n",
              "F1bandwidth_sma3nz                0.079644\n",
              "F2amplitudeLogRelF0_sma3nz        0.079138\n",
              "F3amplitudeLogRelF0_sma3nz        0.078433\n",
              "F1amplitudeLogRelF0_sma3nz        0.078423\n",
              "pcm_loudness_sma                  0.077944\n",
              "spectralFlux_sma3                 0.077683\n",
              "pcm_fftMag_spectralFlux_sma       0.076818\n",
              "logHNR_sma                        0.076766\n",
              "voicingFinalUnclipped_sma         0.075076\n",
              "F0semitoneFrom27.5Hz_sma3nz       0.074107\n",
              "F3bandwidth_sma3nz                0.073033\n",
              "pcm_fftMag_fband250-650_sma       0.072930\n",
              "F3frequency_sma3nz                0.071313\n",
              "mfcc_sma[1].1                     0.070681\n",
              "shimmerLocal_sma                  0.070630\n",
              "hammarbergIndex_sma3              0.070151\n",
              "F0final_sma                       0.070143\n",
              "voiceProb_sma                     0.069880\n",
              "shimmerLocaldB_sma3nz             0.069732\n",
              "F2frequency_sma3nz                0.068294\n",
              "pcm_intensity_sma                 0.067443\n",
              "mfcc_sma[11]                      0.066423\n",
              "F0_sma                            0.066417\n",
              "F1frequency_sma3nz                0.061403\n",
              "logRelF0-H1-A3_sma3nz             0.060737\n",
              "jitterLocal_sma                   0.060578\n",
              "pcm_fftMag_psySharpness_sma       0.060417\n",
              "lspFreq_sma[7]                   -0.059741\n",
              "alphaRatio_sma3                  -0.063609\n",
              "lspFreq_sma[6]                   -0.065543\n",
              "pcm_fftMag_spectralSlope_sma     -0.066176\n",
              "slope0-500_sma3                  -0.069714\n",
              "lspFreq_sma[3]                   -0.072082\n",
              "lspFreq_sma[4]                   -0.074187\n",
              "lspFreq_sma[5]                   -0.074280\n",
              "pcm_zcr_sma                      -0.074483\n",
              "pcm_zcr_sma.1                    -0.074820\n",
              "mfcc_sma[2].1                    -0.076576\n",
              "lspFreq_sma[2]                   -0.081089\n",
              "mfcc_sma[12]                     -0.081261\n",
              "lspFreq_sma[0]                   -0.084302\n",
              "slope500-1500_sma3               -0.084870\n",
              "lspFreq_sma[1]                   -0.085600\n",
              "mfcc_sma[12].1                   -0.089624\n",
              "Name: Power: Right vlPFC, dtype: float64"
            ]
          },
          "metadata": {},
          "execution_count": 65
        }
      ]
    },
    {
      "cell_type": "code",
      "source": [
        "AcousticCorrelates95_Right_vlPFC.nlargest(len(AcousticCorrelates95_Right_vlPFC)).to_csv(date + '_noModeratorSpeech_AcousticCorrelates95_Right_vlPFC.csv',header=['r'],index_label='Acoustic Feature')"
      ],
      "metadata": {
        "id": "J-UEDTf0bhX9"
      },
      "execution_count": null,
      "outputs": []
    },
    {
      "cell_type": "code",
      "source": [
        "print(AcousticCorrelates95_Right_vlPFC.index.tolist())"
      ],
      "metadata": {
        "colab": {
          "base_uri": "https://localhost:8080/"
        },
        "outputId": "3d041020-1303-4050-efc2-222c211569c1",
        "id": "TYaMnCv-bhX9"
      },
      "execution_count": null,
      "outputs": [
        {
          "output_type": "stream",
          "name": "stdout",
          "text": [
            "['F0final_sma', 'voicingFinalUnclipped_sma', 'jitterLocal_sma', 'shimmerLocal_sma', 'logHNR_sma', 'audspec_lengthL1norm_sma', 'pcm_RMSenergy_sma', 'pcm_zcr_sma', 'pcm_fftMag_fband250-650_sma', 'pcm_fftMag_spectralFlux_sma', 'pcm_fftMag_spectralEntropy_sma', 'pcm_fftMag_spectralSlope_sma', 'pcm_fftMag_psySharpness_sma', 'mfcc_sma[1]', 'mfcc_sma[11]', 'mfcc_sma[12]', 'Loudness_sma3', 'alphaRatio_sma3', 'hammarbergIndex_sma3', 'slope0-500_sma3', 'slope500-1500_sma3', 'spectralFlux_sma3', 'mfcc1_sma3', 'F0semitoneFrom27.5Hz_sma3nz', 'shimmerLocaldB_sma3nz', 'logRelF0-H1-A3_sma3nz', 'F1frequency_sma3nz', 'F1bandwidth_sma3nz', 'F1amplitudeLogRelF0_sma3nz', 'F2frequency_sma3nz', 'F2bandwidth_sma3nz', 'F2amplitudeLogRelF0_sma3nz', 'F3frequency_sma3nz', 'F3bandwidth_sma3nz', 'F3amplitudeLogRelF0_sma3nz', 'pcm_intensity_sma', 'pcm_loudness_sma', 'mfcc_sma[1].1', 'mfcc_sma[2].1', 'mfcc_sma[12].1', 'lspFreq_sma[0]', 'lspFreq_sma[1]', 'lspFreq_sma[2]', 'lspFreq_sma[3]', 'lspFreq_sma[4]', 'lspFreq_sma[5]', 'lspFreq_sma[6]', 'lspFreq_sma[7]', 'pcm_zcr_sma.1', 'voiceProb_sma', 'F0_sma']\n"
          ]
        }
      ]
    },
    {
      "cell_type": "markdown",
      "source": [
        "##Left vLPFC"
      ],
      "metadata": {
        "id": "wczIwkumbhX-"
      }
    },
    {
      "cell_type": "code",
      "source": [
        "correlations_Left_vlPFC = powerAmplitudeAllLLDdf.corr()['Power: Left vlPFC'][4:]#.abs()\n"
      ],
      "metadata": {
        "id": "lMojke_fbhX-"
      },
      "execution_count": null,
      "outputs": []
    },
    {
      "cell_type": "code",
      "source": [
        "positiveCorrelationCondition = correlations_Left_vlPFC > rValFor95ConfidenceLevel\n",
        "negativeCorrelationCondition = correlations_Left_vlPFC < -1* rValFor95ConfidenceLevel\n",
        "AcousticCorrelates95_Left_vlPFC = correlations_Left_vlPFC[ positiveCorrelationCondition | negativeCorrelationCondition]\n",
        "AcousticCorrelates95_Left_vlPFC.head = 'r'\n",
        "\n",
        "print(\"# of acoustic features where p < 0.05:\", len(AcousticCorrelates95_Left_vlPFC))\n",
        "AcousticCorrelates95_Left_vlPFC.nlargest(len(AcousticCorrelates95_Left_vlPFC)) # for sorting"
      ],
      "metadata": {
        "colab": {
          "base_uri": "https://localhost:8080/"
        },
        "outputId": "c00680f1-e574-4e7f-953b-47a19c2620ba",
        "id": "M3PDzPuybhX-"
      },
      "execution_count": null,
      "outputs": [
        {
          "output_type": "stream",
          "name": "stdout",
          "text": [
            "# of acoustic features where p < 0.05: 97\n"
          ]
        },
        {
          "output_type": "execute_result",
          "data": {
            "text/plain": [
              "logHNR_sma_de          0.156419\n",
              "shimmerLocal_sma_de    0.155074\n",
              "jitterLocal_sma_de     0.147936\n",
              "F0env_sma              0.127801\n",
              "jitterDDP_sma_de       0.117138\n",
              "                         ...   \n",
              "lspFreq_sma[7]        -0.102809\n",
              "lspFreq_sma[5]        -0.103208\n",
              "slope0-500_sma3       -0.103946\n",
              "mfcc_sma[12].1        -0.104564\n",
              "F0final_sma_de        -0.121611\n",
              "Name: Power: Left vlPFC, Length: 97, dtype: float64"
            ]
          },
          "metadata": {},
          "execution_count": 69
        }
      ]
    },
    {
      "cell_type": "code",
      "source": [
        "AcousticCorrelates95_Left_vlPFC.nlargest(len(AcousticCorrelates95_Left_vlPFC)).to_csv(date + '_noModeratorSpeech_AcousticCorrelates95_Left_vlPFC.csv',header=['r'],index_label='Acoustic Feature')"
      ],
      "metadata": {
        "id": "9jbH9_xgbhX-"
      },
      "execution_count": null,
      "outputs": []
    },
    {
      "cell_type": "code",
      "source": [
        "print(AcousticCorrelates95_Left_vlPFC.index.tolist())"
      ],
      "metadata": {
        "colab": {
          "base_uri": "https://localhost:8080/"
        },
        "outputId": "33d5fe1e-81c3-453e-e7bf-cef9093a09a7",
        "id": "aaKrzy83bhX-"
      },
      "execution_count": null,
      "outputs": [
        {
          "output_type": "stream",
          "name": "stdout",
          "text": [
            "['F0final_sma', 'voicingFinalUnclipped_sma', 'jitterLocal_sma', 'jitterDDP_sma', 'shimmerLocal_sma', 'logHNR_sma', 'audspec_lengthL1norm_sma', 'audspecRasta_lengthL1norm_sma', 'pcm_RMSenergy_sma', 'pcm_zcr_sma', 'audSpec_Rfilt_sma[0]', 'audSpec_Rfilt_sma[2]', 'audSpec_Rfilt_sma[5]', 'audSpec_Rfilt_sma[6]', 'audSpec_Rfilt_sma[7]', 'audSpec_Rfilt_sma[8]', 'audSpec_Rfilt_sma[9]', 'audSpec_Rfilt_sma[10]', 'audSpec_Rfilt_sma[11]', 'audSpec_Rfilt_sma[12]', 'audSpec_Rfilt_sma[13]', 'audSpec_Rfilt_sma[14]', 'audSpec_Rfilt_sma[15]', 'audSpec_Rfilt_sma[17]', 'audSpec_Rfilt_sma[18]', 'audSpec_Rfilt_sma[19]', 'audSpec_Rfilt_sma[20]', 'audSpec_Rfilt_sma[21]', 'audSpec_Rfilt_sma[22]', 'audSpec_Rfilt_sma[23]', 'audSpec_Rfilt_sma[24]', 'audSpec_Rfilt_sma[25]', 'pcm_fftMag_fband1000-4000_sma', 'pcm_fftMag_spectralRollOff25.0_sma', 'pcm_fftMag_spectralRollOff50.0_sma', 'pcm_fftMag_spectralRollOff75.0_sma', 'pcm_fftMag_spectralRollOff90.0_sma', 'pcm_fftMag_spectralFlux_sma', 'pcm_fftMag_spectralCentroid_sma', 'pcm_fftMag_spectralEntropy_sma', 'pcm_fftMag_spectralVariance_sma', 'pcm_fftMag_spectralSkewness_sma', 'pcm_fftMag_spectralKurtosis_sma', 'pcm_fftMag_spectralSlope_sma', 'pcm_fftMag_psySharpness_sma', 'mfcc_sma[1]', 'mfcc_sma[3]', 'mfcc_sma[4]', 'mfcc_sma[12]', 'Loudness_sma3', 'alphaRatio_sma3', 'hammarbergIndex_sma3', 'slope0-500_sma3', 'slope500-1500_sma3', 'spectralFlux_sma3', 'mfcc1_sma3', 'mfcc3_sma3', 'mfcc4_sma3', 'F0semitoneFrom27.5Hz_sma3nz', 'shimmerLocaldB_sma3nz', 'logRelF0-H1-H2_sma3nz', 'logRelF0-H1-A3_sma3nz', 'F1frequency_sma3nz', 'F1bandwidth_sma3nz', 'F1amplitudeLogRelF0_sma3nz', 'F2frequency_sma3nz', 'F2bandwidth_sma3nz', 'F2amplitudeLogRelF0_sma3nz', 'F3frequency_sma3nz', 'F3bandwidth_sma3nz', 'F3amplitudeLogRelF0_sma3nz', 'pcm_loudness_sma', 'mfcc_sma[3].1', 'mfcc_sma[4].1', 'mfcc_sma[6].1', 'mfcc_sma[9].1', 'mfcc_sma[10].1', 'mfcc_sma[12].1', 'lspFreq_sma[0]', 'lspFreq_sma[1]', 'lspFreq_sma[2]', 'lspFreq_sma[3]', 'lspFreq_sma[4]', 'lspFreq_sma[5]', 'lspFreq_sma[6]', 'lspFreq_sma[7]', 'pcm_zcr_sma.1', 'voiceProb_sma', 'F0_sma', 'F0env_sma', 'F0final_sma_de', 'voicingFinalUnclipped_sma_de', 'jitterLocal_sma_de', 'jitterDDP_sma_de', 'shimmerLocal_sma_de', 'logHNR_sma_de', 'mfcc_sma_de[13]']\n"
          ]
        }
      ]
    },
    {
      "cell_type": "markdown",
      "source": [
        "##Right OFC"
      ],
      "metadata": {
        "id": "tkY2m8TubhX_"
      }
    },
    {
      "cell_type": "code",
      "source": [],
      "metadata": {
        "id": "A1MTwTMRbhX_"
      },
      "execution_count": null,
      "outputs": []
    },
    {
      "cell_type": "code",
      "source": [
        "correlations_Right_OFC = powerAmplitudeAllLLDdf.corr()['Power: Right OFC'][4:]#.abs()\n"
      ],
      "metadata": {
        "id": "BsyDTE0XbhX_"
      },
      "execution_count": null,
      "outputs": []
    },
    {
      "cell_type": "code",
      "source": [
        "positiveCorrelationCondition = correlations_Right_OFC > rValFor95ConfidenceLevel\n",
        "negativeCorrelationCondition = correlations_Right_OFC < -1* rValFor95ConfidenceLevel\n",
        "AcousticCorrelates95_Right_OFC = correlations_Right_OFC[ positiveCorrelationCondition | negativeCorrelationCondition]\n",
        "AcousticCorrelates95_Right_OFC.head = 'r'\n",
        "\n",
        "print(\"# of acoustic features where p < 0.05:\", len(AcousticCorrelates95_Right_OFC))\n",
        "AcousticCorrelates95_Right_OFC.nlargest(len(AcousticCorrelates95_Right_OFC)) # for sorting"
      ],
      "metadata": {
        "colab": {
          "base_uri": "https://localhost:8080/"
        },
        "outputId": "baa48eae-7e5a-4ba4-b538-05b6e083c0dd",
        "id": "3Rfs-O-dbhX_"
      },
      "execution_count": null,
      "outputs": [
        {
          "output_type": "stream",
          "name": "stdout",
          "text": [
            "# of acoustic features where p < 0.05: 3\n"
          ]
        },
        {
          "output_type": "execute_result",
          "data": {
            "text/plain": [
              "voicingFinalUnclipped_sma_de   -0.059220\n",
              "audSpec_Rfilt_sma[13]          -0.060517\n",
              "audSpec_Rfilt_sma[25]          -0.060821\n",
              "Name: Power: Right OFC, dtype: float64"
            ]
          },
          "metadata": {},
          "execution_count": 73
        }
      ]
    },
    {
      "cell_type": "code",
      "source": [
        "AcousticCorrelates95_Right_OFC.nlargest(len(AcousticCorrelates95_Right_OFC)).to_csv(date + '_noModeratorSpeech_AcousticCorrelates95_Right_OFC.csv',header=['r'],index_label='Acoustic Feature')"
      ],
      "metadata": {
        "id": "sRoG4dwsbhX_"
      },
      "execution_count": null,
      "outputs": []
    },
    {
      "cell_type": "code",
      "source": [
        "print(AcousticCorrelates95_Right_OFC.index.tolist())"
      ],
      "metadata": {
        "colab": {
          "base_uri": "https://localhost:8080/"
        },
        "outputId": "7bfe2101-6680-4510-c184-c715be5dd15c",
        "id": "7j8UrsxjbhX_"
      },
      "execution_count": null,
      "outputs": [
        {
          "output_type": "stream",
          "name": "stdout",
          "text": [
            "['audSpec_Rfilt_sma[13]', 'audSpec_Rfilt_sma[25]', 'voicingFinalUnclipped_sma_de']\n"
          ]
        }
      ]
    },
    {
      "cell_type": "markdown",
      "source": [
        "##Left OFC"
      ],
      "metadata": {
        "id": "G9L829K5bhYA"
      }
    },
    {
      "cell_type": "code",
      "source": [],
      "metadata": {
        "id": "9Huu_TIDbhYA"
      },
      "execution_count": null,
      "outputs": []
    },
    {
      "cell_type": "code",
      "source": [
        "correlations_Left_OFC = powerAmplitudeAllLLDdf.corr()['Power: Left OFC'][8:]#.abs()\n"
      ],
      "metadata": {
        "id": "HyWLUg1CbhYA"
      },
      "execution_count": null,
      "outputs": []
    },
    {
      "cell_type": "code",
      "source": [
        "positiveCorrelationCondition = correlations_Left_OFC > rValFor95ConfidenceLevel\n",
        "negativeCorrelationCondition = correlations_Left_OFC < -1* rValFor95ConfidenceLevel\n",
        "AcousticCorrelates95_Left_OFC = correlations_Left_OFC[ positiveCorrelationCondition | negativeCorrelationCondition]\n",
        "AcousticCorrelates95_Left_OFC.head = 'r'\n",
        "\n",
        "print(\"# of acoustic features where p < 0.05:\", len(AcousticCorrelates95_Left_OFC))\n",
        "AcousticCorrelates95_Left_OFC.nlargest(len(AcousticCorrelates95_Left_OFC)) # for sorting"
      ],
      "metadata": {
        "colab": {
          "base_uri": "https://localhost:8080/"
        },
        "outputId": "22ecee52-0d14-44eb-b0b3-0a380944ed0c",
        "id": "UwU9TBP4bhYA"
      },
      "execution_count": null,
      "outputs": [
        {
          "output_type": "stream",
          "name": "stdout",
          "text": [
            "# of acoustic features where p < 0.05: 8\n"
          ]
        },
        {
          "output_type": "execute_result",
          "data": {
            "text/plain": [
              "mfcc_sma[13]                          0.088447\n",
              "pcm_fftMag_fband250-650_sma           0.067530\n",
              "pcm_fftMag_spectralHarmonicity_sma    0.063786\n",
              "pcm_fftMag_fband1000-4000_sma         0.062223\n",
              "pcm_intensity_sma                     0.060588\n",
              "pcm_fftMag_spectralSlope_sma         -0.064465\n",
              "mfcc_sma[7]                          -0.081689\n",
              "mfcc_sma[7].1                        -0.082362\n",
              "Name: Power: Left OFC, dtype: float64"
            ]
          },
          "metadata": {},
          "execution_count": 77
        }
      ]
    },
    {
      "cell_type": "code",
      "source": [
        "AcousticCorrelates95_Left_OFC.nlargest(len(AcousticCorrelates95_Left_OFC)).to_csv(date + '_noModeratorSpeech_AcousticCorrelates95_Left_OFC.csv',header=['r'],index_label='Acoustic Feature')"
      ],
      "metadata": {
        "id": "uWXhSDiObhYA"
      },
      "execution_count": null,
      "outputs": []
    },
    {
      "cell_type": "code",
      "source": [
        "print(AcousticCorrelates95_Left_OFC.index.tolist())"
      ],
      "metadata": {
        "colab": {
          "base_uri": "https://localhost:8080/"
        },
        "outputId": "2ccebdf0-7a23-47b4-f84e-59c8adde74b0",
        "id": "OTBPTjn6bhYA"
      },
      "execution_count": null,
      "outputs": [
        {
          "output_type": "stream",
          "name": "stdout",
          "text": [
            "['pcm_fftMag_fband250-650_sma', 'pcm_fftMag_fband1000-4000_sma', 'pcm_fftMag_spectralSlope_sma', 'pcm_fftMag_spectralHarmonicity_sma', 'mfcc_sma[7]', 'mfcc_sma[13]', 'pcm_intensity_sma', 'mfcc_sma[7].1']\n"
          ]
        }
      ]
    },
    {
      "cell_type": "markdown",
      "source": [
        "#Oct 4"
      ],
      "metadata": {
        "id": "isnvP4RMV8sX"
      }
    },
    {
      "cell_type": "markdown",
      "source": [
        "##Setup"
      ],
      "metadata": {
        "id": "bLiBLMgScg6C"
      }
    },
    {
      "cell_type": "code",
      "source": [
        "date = '2022-10-04'"
      ],
      "metadata": {
        "id": "lOSU2aFicjBs"
      },
      "execution_count": null,
      "outputs": []
    },
    {
      "cell_type": "code",
      "source": [
        "powerAmplitudeDF = pd.read_csv('2022-10-04-Power-Amplitude.csv')\n",
        "del powerAmplitudeDF['Unnamed: 0']\n",
        "powerAmplitudeDF.head()"
      ],
      "metadata": {
        "colab": {
          "base_uri": "https://localhost:8080/",
          "height": 224
        },
        "outputId": "7951295a-a9b5-4b08-b7c3-6084a0fa4aa9",
        "id": "bEM-PQsYV8sY"
      },
      "execution_count": null,
      "outputs": [
        {
          "output_type": "execute_result",
          "data": {
            "text/plain": [
              "   Power: Left OFC  Power: Left vlPFC  Power: Right OFC  Power: Right vlPFC\n",
              "0         6.407832           8.696524         10.436554           11.400055\n",
              "1         6.523042           8.672893          8.723282           10.050933\n",
              "2         6.641233          10.282269          8.287294            7.250344\n",
              "3         3.958534           8.233730         10.518788           10.198656\n",
              "4         8.917095           3.029191          9.664642            4.365085"
            ],
            "text/html": [
              "\n",
              "  <div id=\"df-e0de07db-b461-4fbb-91fe-8ab9a5e9d59f\" class=\"colab-df-container\">\n",
              "    <div>\n",
              "<style scoped>\n",
              "    .dataframe tbody tr th:only-of-type {\n",
              "        vertical-align: middle;\n",
              "    }\n",
              "\n",
              "    .dataframe tbody tr th {\n",
              "        vertical-align: top;\n",
              "    }\n",
              "\n",
              "    .dataframe thead th {\n",
              "        text-align: right;\n",
              "    }\n",
              "</style>\n",
              "<table border=\"1\" class=\"dataframe\">\n",
              "  <thead>\n",
              "    <tr style=\"text-align: right;\">\n",
              "      <th></th>\n",
              "      <th>Power: Left OFC</th>\n",
              "      <th>Power: Left vlPFC</th>\n",
              "      <th>Power: Right OFC</th>\n",
              "      <th>Power: Right vlPFC</th>\n",
              "    </tr>\n",
              "  </thead>\n",
              "  <tbody>\n",
              "    <tr>\n",
              "      <th>0</th>\n",
              "      <td>6.407832</td>\n",
              "      <td>8.696524</td>\n",
              "      <td>10.436554</td>\n",
              "      <td>11.400055</td>\n",
              "    </tr>\n",
              "    <tr>\n",
              "      <th>1</th>\n",
              "      <td>6.523042</td>\n",
              "      <td>8.672893</td>\n",
              "      <td>8.723282</td>\n",
              "      <td>10.050933</td>\n",
              "    </tr>\n",
              "    <tr>\n",
              "      <th>2</th>\n",
              "      <td>6.641233</td>\n",
              "      <td>10.282269</td>\n",
              "      <td>8.287294</td>\n",
              "      <td>7.250344</td>\n",
              "    </tr>\n",
              "    <tr>\n",
              "      <th>3</th>\n",
              "      <td>3.958534</td>\n",
              "      <td>8.233730</td>\n",
              "      <td>10.518788</td>\n",
              "      <td>10.198656</td>\n",
              "    </tr>\n",
              "    <tr>\n",
              "      <th>4</th>\n",
              "      <td>8.917095</td>\n",
              "      <td>3.029191</td>\n",
              "      <td>9.664642</td>\n",
              "      <td>4.365085</td>\n",
              "    </tr>\n",
              "  </tbody>\n",
              "</table>\n",
              "</div>\n",
              "    <div class=\"colab-df-buttons\">\n",
              "\n",
              "  <div class=\"colab-df-container\">\n",
              "    <button class=\"colab-df-convert\" onclick=\"convertToInteractive('df-e0de07db-b461-4fbb-91fe-8ab9a5e9d59f')\"\n",
              "            title=\"Convert this dataframe to an interactive table.\"\n",
              "            style=\"display:none;\">\n",
              "\n",
              "  <svg xmlns=\"http://www.w3.org/2000/svg\" height=\"24px\" viewBox=\"0 -960 960 960\">\n",
              "    <path d=\"M120-120v-720h720v720H120Zm60-500h600v-160H180v160Zm220 220h160v-160H400v160Zm0 220h160v-160H400v160ZM180-400h160v-160H180v160Zm440 0h160v-160H620v160ZM180-180h160v-160H180v160Zm440 0h160v-160H620v160Z\"/>\n",
              "  </svg>\n",
              "    </button>\n",
              "\n",
              "  <style>\n",
              "    .colab-df-container {\n",
              "      display:flex;\n",
              "      gap: 12px;\n",
              "    }\n",
              "\n",
              "    .colab-df-convert {\n",
              "      background-color: #E8F0FE;\n",
              "      border: none;\n",
              "      border-radius: 50%;\n",
              "      cursor: pointer;\n",
              "      display: none;\n",
              "      fill: #1967D2;\n",
              "      height: 32px;\n",
              "      padding: 0 0 0 0;\n",
              "      width: 32px;\n",
              "    }\n",
              "\n",
              "    .colab-df-convert:hover {\n",
              "      background-color: #E2EBFA;\n",
              "      box-shadow: 0px 1px 2px rgba(60, 64, 67, 0.3), 0px 1px 3px 1px rgba(60, 64, 67, 0.15);\n",
              "      fill: #174EA6;\n",
              "    }\n",
              "\n",
              "    .colab-df-buttons div {\n",
              "      margin-bottom: 4px;\n",
              "    }\n",
              "\n",
              "    [theme=dark] .colab-df-convert {\n",
              "      background-color: #3B4455;\n",
              "      fill: #D2E3FC;\n",
              "    }\n",
              "\n",
              "    [theme=dark] .colab-df-convert:hover {\n",
              "      background-color: #434B5C;\n",
              "      box-shadow: 0px 1px 3px 1px rgba(0, 0, 0, 0.15);\n",
              "      filter: drop-shadow(0px 1px 2px rgba(0, 0, 0, 0.3));\n",
              "      fill: #FFFFFF;\n",
              "    }\n",
              "  </style>\n",
              "\n",
              "    <script>\n",
              "      const buttonEl =\n",
              "        document.querySelector('#df-e0de07db-b461-4fbb-91fe-8ab9a5e9d59f button.colab-df-convert');\n",
              "      buttonEl.style.display =\n",
              "        google.colab.kernel.accessAllowed ? 'block' : 'none';\n",
              "\n",
              "      async function convertToInteractive(key) {\n",
              "        const element = document.querySelector('#df-e0de07db-b461-4fbb-91fe-8ab9a5e9d59f');\n",
              "        const dataTable =\n",
              "          await google.colab.kernel.invokeFunction('convertToInteractive',\n",
              "                                                    [key], {});\n",
              "        if (!dataTable) return;\n",
              "\n",
              "        const docLinkHtml = 'Like what you see? Visit the ' +\n",
              "          '<a target=\"_blank\" href=https://colab.research.google.com/notebooks/data_table.ipynb>data table notebook</a>'\n",
              "          + ' to learn more about interactive tables.';\n",
              "        element.innerHTML = '';\n",
              "        dataTable['output_type'] = 'display_data';\n",
              "        await google.colab.output.renderOutput(dataTable, element);\n",
              "        const docLink = document.createElement('div');\n",
              "        docLink.innerHTML = docLinkHtml;\n",
              "        element.appendChild(docLink);\n",
              "      }\n",
              "    </script>\n",
              "  </div>\n",
              "\n",
              "\n",
              "<div id=\"df-a4c9ba60-a945-40c8-99d1-272f8534cec9\">\n",
              "  <button class=\"colab-df-quickchart\" onclick=\"quickchart('df-a4c9ba60-a945-40c8-99d1-272f8534cec9')\"\n",
              "            title=\"Suggest charts\"\n",
              "            style=\"display:none;\">\n",
              "\n",
              "<svg xmlns=\"http://www.w3.org/2000/svg\" height=\"24px\"viewBox=\"0 0 24 24\"\n",
              "     width=\"24px\">\n",
              "    <g>\n",
              "        <path d=\"M19 3H5c-1.1 0-2 .9-2 2v14c0 1.1.9 2 2 2h14c1.1 0 2-.9 2-2V5c0-1.1-.9-2-2-2zM9 17H7v-7h2v7zm4 0h-2V7h2v10zm4 0h-2v-4h2v4z\"/>\n",
              "    </g>\n",
              "</svg>\n",
              "  </button>\n",
              "\n",
              "<style>\n",
              "  .colab-df-quickchart {\n",
              "      --bg-color: #E8F0FE;\n",
              "      --fill-color: #1967D2;\n",
              "      --hover-bg-color: #E2EBFA;\n",
              "      --hover-fill-color: #174EA6;\n",
              "      --disabled-fill-color: #AAA;\n",
              "      --disabled-bg-color: #DDD;\n",
              "  }\n",
              "\n",
              "  [theme=dark] .colab-df-quickchart {\n",
              "      --bg-color: #3B4455;\n",
              "      --fill-color: #D2E3FC;\n",
              "      --hover-bg-color: #434B5C;\n",
              "      --hover-fill-color: #FFFFFF;\n",
              "      --disabled-bg-color: #3B4455;\n",
              "      --disabled-fill-color: #666;\n",
              "  }\n",
              "\n",
              "  .colab-df-quickchart {\n",
              "    background-color: var(--bg-color);\n",
              "    border: none;\n",
              "    border-radius: 50%;\n",
              "    cursor: pointer;\n",
              "    display: none;\n",
              "    fill: var(--fill-color);\n",
              "    height: 32px;\n",
              "    padding: 0;\n",
              "    width: 32px;\n",
              "  }\n",
              "\n",
              "  .colab-df-quickchart:hover {\n",
              "    background-color: var(--hover-bg-color);\n",
              "    box-shadow: 0 1px 2px rgba(60, 64, 67, 0.3), 0 1px 3px 1px rgba(60, 64, 67, 0.15);\n",
              "    fill: var(--button-hover-fill-color);\n",
              "  }\n",
              "\n",
              "  .colab-df-quickchart-complete:disabled,\n",
              "  .colab-df-quickchart-complete:disabled:hover {\n",
              "    background-color: var(--disabled-bg-color);\n",
              "    fill: var(--disabled-fill-color);\n",
              "    box-shadow: none;\n",
              "  }\n",
              "\n",
              "  .colab-df-spinner {\n",
              "    border: 2px solid var(--fill-color);\n",
              "    border-color: transparent;\n",
              "    border-bottom-color: var(--fill-color);\n",
              "    animation:\n",
              "      spin 1s steps(1) infinite;\n",
              "  }\n",
              "\n",
              "  @keyframes spin {\n",
              "    0% {\n",
              "      border-color: transparent;\n",
              "      border-bottom-color: var(--fill-color);\n",
              "      border-left-color: var(--fill-color);\n",
              "    }\n",
              "    20% {\n",
              "      border-color: transparent;\n",
              "      border-left-color: var(--fill-color);\n",
              "      border-top-color: var(--fill-color);\n",
              "    }\n",
              "    30% {\n",
              "      border-color: transparent;\n",
              "      border-left-color: var(--fill-color);\n",
              "      border-top-color: var(--fill-color);\n",
              "      border-right-color: var(--fill-color);\n",
              "    }\n",
              "    40% {\n",
              "      border-color: transparent;\n",
              "      border-right-color: var(--fill-color);\n",
              "      border-top-color: var(--fill-color);\n",
              "    }\n",
              "    60% {\n",
              "      border-color: transparent;\n",
              "      border-right-color: var(--fill-color);\n",
              "    }\n",
              "    80% {\n",
              "      border-color: transparent;\n",
              "      border-right-color: var(--fill-color);\n",
              "      border-bottom-color: var(--fill-color);\n",
              "    }\n",
              "    90% {\n",
              "      border-color: transparent;\n",
              "      border-bottom-color: var(--fill-color);\n",
              "    }\n",
              "  }\n",
              "</style>\n",
              "\n",
              "  <script>\n",
              "    async function quickchart(key) {\n",
              "      const quickchartButtonEl =\n",
              "        document.querySelector('#' + key + ' button');\n",
              "      quickchartButtonEl.disabled = true;  // To prevent multiple clicks.\n",
              "      quickchartButtonEl.classList.add('colab-df-spinner');\n",
              "      try {\n",
              "        const charts = await google.colab.kernel.invokeFunction(\n",
              "            'suggestCharts', [key], {});\n",
              "      } catch (error) {\n",
              "        console.error('Error during call to suggestCharts:', error);\n",
              "      }\n",
              "      quickchartButtonEl.classList.remove('colab-df-spinner');\n",
              "      quickchartButtonEl.classList.add('colab-df-quickchart-complete');\n",
              "    }\n",
              "    (() => {\n",
              "      let quickchartButtonEl =\n",
              "        document.querySelector('#df-a4c9ba60-a945-40c8-99d1-272f8534cec9 button');\n",
              "      quickchartButtonEl.style.display =\n",
              "        google.colab.kernel.accessAllowed ? 'block' : 'none';\n",
              "    })();\n",
              "  </script>\n",
              "</div>\n",
              "    </div>\n",
              "  </div>\n"
            ]
          },
          "metadata": {},
          "execution_count": 171
        }
      ]
    },
    {
      "cell_type": "code",
      "source": [
        "powerAmplitudeDF.shape"
      ],
      "metadata": {
        "colab": {
          "base_uri": "https://localhost:8080/"
        },
        "outputId": "8adb09b4-15e5-4425-bc02-6ca70e312f26",
        "id": "tvMbWtJxV8sY"
      },
      "execution_count": null,
      "outputs": [
        {
          "output_type": "execute_result",
          "data": {
            "text/plain": [
              "(1154, 4)"
            ]
          },
          "metadata": {},
          "execution_count": 172
        }
      ]
    },
    {
      "cell_type": "code",
      "source": [
        "acousticFeatsDF = pd.read_csv('AcousticFeatures_noModeratorSpeech_aDBS012_' + '2022_10_04_' + 'audio_amplitude.csv')\n",
        "del acousticFeatsDF['Unnamed: 0']\n",
        "acousticFeatsDF.head()"
      ],
      "metadata": {
        "colab": {
          "base_uri": "https://localhost:8080/",
          "height": 256
        },
        "outputId": "8b16fb51-6755-46ac-94e8-c75f81d80ec1",
        "id": "6fEnZ-UYV8sY"
      },
      "execution_count": null,
      "outputs": [
        {
          "output_type": "execute_result",
          "data": {
            "text/plain": [
              "   F0final_sma  voicingFinalUnclipped_sma  jitterLocal_sma  jitterDDP_sma  \\\n",
              "0          0.0                        0.0              0.0            0.0   \n",
              "1          0.0                        0.0              0.0            0.0   \n",
              "2          0.0                        0.0              0.0            0.0   \n",
              "3          0.0                        0.0              0.0            0.0   \n",
              "4          0.0                        0.0              0.0            0.0   \n",
              "\n",
              "   shimmerLocal_sma  logHNR_sma  audspec_lengthL1norm_sma  \\\n",
              "0               0.0      -100.0                  0.001034   \n",
              "1               0.0      -100.0                  0.001034   \n",
              "2               0.0      -100.0                  0.001034   \n",
              "3               0.0      -100.0                  0.001034   \n",
              "4               0.0      -100.0                  0.001034   \n",
              "\n",
              "   audspecRasta_lengthL1norm_sma  pcm_RMSenergy_sma  pcm_zcr_sma  ...  \\\n",
              "0                       0.988341                0.0     0.999244  ...   \n",
              "1                       0.988341                0.0     0.999244  ...   \n",
              "2                       0.988341                0.0     0.999244  ...   \n",
              "3                       0.988341                0.0     0.999244  ...   \n",
              "4                       0.988341                0.0     0.999244  ...   \n",
              "\n",
              "   lspFreq_sma_de[2]  lspFreq_sma_de[3]  lspFreq_sma_de[4]  lspFreq_sma_de[5]  \\\n",
              "0                0.0                0.0                0.0                0.0   \n",
              "1                0.0                0.0                0.0                0.0   \n",
              "2                0.0                0.0                0.0                0.0   \n",
              "3                0.0                0.0                0.0                0.0   \n",
              "4                0.0                0.0                0.0                0.0   \n",
              "\n",
              "   lspFreq_sma_de[6]  lspFreq_sma_de[7]  pcm_zcr_sma_de.1  voiceProb_sma_de  \\\n",
              "0                0.0                0.0               0.0               0.0   \n",
              "1                0.0                0.0               0.0               0.0   \n",
              "2                0.0                0.0               0.0               0.0   \n",
              "3                0.0                0.0               0.0               0.0   \n",
              "4                0.0                0.0               0.0               0.0   \n",
              "\n",
              "   F0_sma_de  F0env_sma_de  \n",
              "0        0.0           0.0  \n",
              "1        0.0           0.0  \n",
              "2        0.0           0.0  \n",
              "3        0.0           0.0  \n",
              "4        0.0           0.0  \n",
              "\n",
              "[5 rows x 207 columns]"
            ],
            "text/html": [
              "\n",
              "  <div id=\"df-b30f5dd7-8d86-4fc1-bbf9-562c490f7d27\" class=\"colab-df-container\">\n",
              "    <div>\n",
              "<style scoped>\n",
              "    .dataframe tbody tr th:only-of-type {\n",
              "        vertical-align: middle;\n",
              "    }\n",
              "\n",
              "    .dataframe tbody tr th {\n",
              "        vertical-align: top;\n",
              "    }\n",
              "\n",
              "    .dataframe thead th {\n",
              "        text-align: right;\n",
              "    }\n",
              "</style>\n",
              "<table border=\"1\" class=\"dataframe\">\n",
              "  <thead>\n",
              "    <tr style=\"text-align: right;\">\n",
              "      <th></th>\n",
              "      <th>F0final_sma</th>\n",
              "      <th>voicingFinalUnclipped_sma</th>\n",
              "      <th>jitterLocal_sma</th>\n",
              "      <th>jitterDDP_sma</th>\n",
              "      <th>shimmerLocal_sma</th>\n",
              "      <th>logHNR_sma</th>\n",
              "      <th>audspec_lengthL1norm_sma</th>\n",
              "      <th>audspecRasta_lengthL1norm_sma</th>\n",
              "      <th>pcm_RMSenergy_sma</th>\n",
              "      <th>pcm_zcr_sma</th>\n",
              "      <th>...</th>\n",
              "      <th>lspFreq_sma_de[2]</th>\n",
              "      <th>lspFreq_sma_de[3]</th>\n",
              "      <th>lspFreq_sma_de[4]</th>\n",
              "      <th>lspFreq_sma_de[5]</th>\n",
              "      <th>lspFreq_sma_de[6]</th>\n",
              "      <th>lspFreq_sma_de[7]</th>\n",
              "      <th>pcm_zcr_sma_de.1</th>\n",
              "      <th>voiceProb_sma_de</th>\n",
              "      <th>F0_sma_de</th>\n",
              "      <th>F0env_sma_de</th>\n",
              "    </tr>\n",
              "  </thead>\n",
              "  <tbody>\n",
              "    <tr>\n",
              "      <th>0</th>\n",
              "      <td>0.0</td>\n",
              "      <td>0.0</td>\n",
              "      <td>0.0</td>\n",
              "      <td>0.0</td>\n",
              "      <td>0.0</td>\n",
              "      <td>-100.0</td>\n",
              "      <td>0.001034</td>\n",
              "      <td>0.988341</td>\n",
              "      <td>0.0</td>\n",
              "      <td>0.999244</td>\n",
              "      <td>...</td>\n",
              "      <td>0.0</td>\n",
              "      <td>0.0</td>\n",
              "      <td>0.0</td>\n",
              "      <td>0.0</td>\n",
              "      <td>0.0</td>\n",
              "      <td>0.0</td>\n",
              "      <td>0.0</td>\n",
              "      <td>0.0</td>\n",
              "      <td>0.0</td>\n",
              "      <td>0.0</td>\n",
              "    </tr>\n",
              "    <tr>\n",
              "      <th>1</th>\n",
              "      <td>0.0</td>\n",
              "      <td>0.0</td>\n",
              "      <td>0.0</td>\n",
              "      <td>0.0</td>\n",
              "      <td>0.0</td>\n",
              "      <td>-100.0</td>\n",
              "      <td>0.001034</td>\n",
              "      <td>0.988341</td>\n",
              "      <td>0.0</td>\n",
              "      <td>0.999244</td>\n",
              "      <td>...</td>\n",
              "      <td>0.0</td>\n",
              "      <td>0.0</td>\n",
              "      <td>0.0</td>\n",
              "      <td>0.0</td>\n",
              "      <td>0.0</td>\n",
              "      <td>0.0</td>\n",
              "      <td>0.0</td>\n",
              "      <td>0.0</td>\n",
              "      <td>0.0</td>\n",
              "      <td>0.0</td>\n",
              "    </tr>\n",
              "    <tr>\n",
              "      <th>2</th>\n",
              "      <td>0.0</td>\n",
              "      <td>0.0</td>\n",
              "      <td>0.0</td>\n",
              "      <td>0.0</td>\n",
              "      <td>0.0</td>\n",
              "      <td>-100.0</td>\n",
              "      <td>0.001034</td>\n",
              "      <td>0.988341</td>\n",
              "      <td>0.0</td>\n",
              "      <td>0.999244</td>\n",
              "      <td>...</td>\n",
              "      <td>0.0</td>\n",
              "      <td>0.0</td>\n",
              "      <td>0.0</td>\n",
              "      <td>0.0</td>\n",
              "      <td>0.0</td>\n",
              "      <td>0.0</td>\n",
              "      <td>0.0</td>\n",
              "      <td>0.0</td>\n",
              "      <td>0.0</td>\n",
              "      <td>0.0</td>\n",
              "    </tr>\n",
              "    <tr>\n",
              "      <th>3</th>\n",
              "      <td>0.0</td>\n",
              "      <td>0.0</td>\n",
              "      <td>0.0</td>\n",
              "      <td>0.0</td>\n",
              "      <td>0.0</td>\n",
              "      <td>-100.0</td>\n",
              "      <td>0.001034</td>\n",
              "      <td>0.988341</td>\n",
              "      <td>0.0</td>\n",
              "      <td>0.999244</td>\n",
              "      <td>...</td>\n",
              "      <td>0.0</td>\n",
              "      <td>0.0</td>\n",
              "      <td>0.0</td>\n",
              "      <td>0.0</td>\n",
              "      <td>0.0</td>\n",
              "      <td>0.0</td>\n",
              "      <td>0.0</td>\n",
              "      <td>0.0</td>\n",
              "      <td>0.0</td>\n",
              "      <td>0.0</td>\n",
              "    </tr>\n",
              "    <tr>\n",
              "      <th>4</th>\n",
              "      <td>0.0</td>\n",
              "      <td>0.0</td>\n",
              "      <td>0.0</td>\n",
              "      <td>0.0</td>\n",
              "      <td>0.0</td>\n",
              "      <td>-100.0</td>\n",
              "      <td>0.001034</td>\n",
              "      <td>0.988341</td>\n",
              "      <td>0.0</td>\n",
              "      <td>0.999244</td>\n",
              "      <td>...</td>\n",
              "      <td>0.0</td>\n",
              "      <td>0.0</td>\n",
              "      <td>0.0</td>\n",
              "      <td>0.0</td>\n",
              "      <td>0.0</td>\n",
              "      <td>0.0</td>\n",
              "      <td>0.0</td>\n",
              "      <td>0.0</td>\n",
              "      <td>0.0</td>\n",
              "      <td>0.0</td>\n",
              "    </tr>\n",
              "  </tbody>\n",
              "</table>\n",
              "<p>5 rows × 207 columns</p>\n",
              "</div>\n",
              "    <div class=\"colab-df-buttons\">\n",
              "\n",
              "  <div class=\"colab-df-container\">\n",
              "    <button class=\"colab-df-convert\" onclick=\"convertToInteractive('df-b30f5dd7-8d86-4fc1-bbf9-562c490f7d27')\"\n",
              "            title=\"Convert this dataframe to an interactive table.\"\n",
              "            style=\"display:none;\">\n",
              "\n",
              "  <svg xmlns=\"http://www.w3.org/2000/svg\" height=\"24px\" viewBox=\"0 -960 960 960\">\n",
              "    <path d=\"M120-120v-720h720v720H120Zm60-500h600v-160H180v160Zm220 220h160v-160H400v160Zm0 220h160v-160H400v160ZM180-400h160v-160H180v160Zm440 0h160v-160H620v160ZM180-180h160v-160H180v160Zm440 0h160v-160H620v160Z\"/>\n",
              "  </svg>\n",
              "    </button>\n",
              "\n",
              "  <style>\n",
              "    .colab-df-container {\n",
              "      display:flex;\n",
              "      gap: 12px;\n",
              "    }\n",
              "\n",
              "    .colab-df-convert {\n",
              "      background-color: #E8F0FE;\n",
              "      border: none;\n",
              "      border-radius: 50%;\n",
              "      cursor: pointer;\n",
              "      display: none;\n",
              "      fill: #1967D2;\n",
              "      height: 32px;\n",
              "      padding: 0 0 0 0;\n",
              "      width: 32px;\n",
              "    }\n",
              "\n",
              "    .colab-df-convert:hover {\n",
              "      background-color: #E2EBFA;\n",
              "      box-shadow: 0px 1px 2px rgba(60, 64, 67, 0.3), 0px 1px 3px 1px rgba(60, 64, 67, 0.15);\n",
              "      fill: #174EA6;\n",
              "    }\n",
              "\n",
              "    .colab-df-buttons div {\n",
              "      margin-bottom: 4px;\n",
              "    }\n",
              "\n",
              "    [theme=dark] .colab-df-convert {\n",
              "      background-color: #3B4455;\n",
              "      fill: #D2E3FC;\n",
              "    }\n",
              "\n",
              "    [theme=dark] .colab-df-convert:hover {\n",
              "      background-color: #434B5C;\n",
              "      box-shadow: 0px 1px 3px 1px rgba(0, 0, 0, 0.15);\n",
              "      filter: drop-shadow(0px 1px 2px rgba(0, 0, 0, 0.3));\n",
              "      fill: #FFFFFF;\n",
              "    }\n",
              "  </style>\n",
              "\n",
              "    <script>\n",
              "      const buttonEl =\n",
              "        document.querySelector('#df-b30f5dd7-8d86-4fc1-bbf9-562c490f7d27 button.colab-df-convert');\n",
              "      buttonEl.style.display =\n",
              "        google.colab.kernel.accessAllowed ? 'block' : 'none';\n",
              "\n",
              "      async function convertToInteractive(key) {\n",
              "        const element = document.querySelector('#df-b30f5dd7-8d86-4fc1-bbf9-562c490f7d27');\n",
              "        const dataTable =\n",
              "          await google.colab.kernel.invokeFunction('convertToInteractive',\n",
              "                                                    [key], {});\n",
              "        if (!dataTable) return;\n",
              "\n",
              "        const docLinkHtml = 'Like what you see? Visit the ' +\n",
              "          '<a target=\"_blank\" href=https://colab.research.google.com/notebooks/data_table.ipynb>data table notebook</a>'\n",
              "          + ' to learn more about interactive tables.';\n",
              "        element.innerHTML = '';\n",
              "        dataTable['output_type'] = 'display_data';\n",
              "        await google.colab.output.renderOutput(dataTable, element);\n",
              "        const docLink = document.createElement('div');\n",
              "        docLink.innerHTML = docLinkHtml;\n",
              "        element.appendChild(docLink);\n",
              "      }\n",
              "    </script>\n",
              "  </div>\n",
              "\n",
              "\n",
              "<div id=\"df-54d9fd72-5bf9-4b94-8276-0458e4ed5f00\">\n",
              "  <button class=\"colab-df-quickchart\" onclick=\"quickchart('df-54d9fd72-5bf9-4b94-8276-0458e4ed5f00')\"\n",
              "            title=\"Suggest charts\"\n",
              "            style=\"display:none;\">\n",
              "\n",
              "<svg xmlns=\"http://www.w3.org/2000/svg\" height=\"24px\"viewBox=\"0 0 24 24\"\n",
              "     width=\"24px\">\n",
              "    <g>\n",
              "        <path d=\"M19 3H5c-1.1 0-2 .9-2 2v14c0 1.1.9 2 2 2h14c1.1 0 2-.9 2-2V5c0-1.1-.9-2-2-2zM9 17H7v-7h2v7zm4 0h-2V7h2v10zm4 0h-2v-4h2v4z\"/>\n",
              "    </g>\n",
              "</svg>\n",
              "  </button>\n",
              "\n",
              "<style>\n",
              "  .colab-df-quickchart {\n",
              "      --bg-color: #E8F0FE;\n",
              "      --fill-color: #1967D2;\n",
              "      --hover-bg-color: #E2EBFA;\n",
              "      --hover-fill-color: #174EA6;\n",
              "      --disabled-fill-color: #AAA;\n",
              "      --disabled-bg-color: #DDD;\n",
              "  }\n",
              "\n",
              "  [theme=dark] .colab-df-quickchart {\n",
              "      --bg-color: #3B4455;\n",
              "      --fill-color: #D2E3FC;\n",
              "      --hover-bg-color: #434B5C;\n",
              "      --hover-fill-color: #FFFFFF;\n",
              "      --disabled-bg-color: #3B4455;\n",
              "      --disabled-fill-color: #666;\n",
              "  }\n",
              "\n",
              "  .colab-df-quickchart {\n",
              "    background-color: var(--bg-color);\n",
              "    border: none;\n",
              "    border-radius: 50%;\n",
              "    cursor: pointer;\n",
              "    display: none;\n",
              "    fill: var(--fill-color);\n",
              "    height: 32px;\n",
              "    padding: 0;\n",
              "    width: 32px;\n",
              "  }\n",
              "\n",
              "  .colab-df-quickchart:hover {\n",
              "    background-color: var(--hover-bg-color);\n",
              "    box-shadow: 0 1px 2px rgba(60, 64, 67, 0.3), 0 1px 3px 1px rgba(60, 64, 67, 0.15);\n",
              "    fill: var(--button-hover-fill-color);\n",
              "  }\n",
              "\n",
              "  .colab-df-quickchart-complete:disabled,\n",
              "  .colab-df-quickchart-complete:disabled:hover {\n",
              "    background-color: var(--disabled-bg-color);\n",
              "    fill: var(--disabled-fill-color);\n",
              "    box-shadow: none;\n",
              "  }\n",
              "\n",
              "  .colab-df-spinner {\n",
              "    border: 2px solid var(--fill-color);\n",
              "    border-color: transparent;\n",
              "    border-bottom-color: var(--fill-color);\n",
              "    animation:\n",
              "      spin 1s steps(1) infinite;\n",
              "  }\n",
              "\n",
              "  @keyframes spin {\n",
              "    0% {\n",
              "      border-color: transparent;\n",
              "      border-bottom-color: var(--fill-color);\n",
              "      border-left-color: var(--fill-color);\n",
              "    }\n",
              "    20% {\n",
              "      border-color: transparent;\n",
              "      border-left-color: var(--fill-color);\n",
              "      border-top-color: var(--fill-color);\n",
              "    }\n",
              "    30% {\n",
              "      border-color: transparent;\n",
              "      border-left-color: var(--fill-color);\n",
              "      border-top-color: var(--fill-color);\n",
              "      border-right-color: var(--fill-color);\n",
              "    }\n",
              "    40% {\n",
              "      border-color: transparent;\n",
              "      border-right-color: var(--fill-color);\n",
              "      border-top-color: var(--fill-color);\n",
              "    }\n",
              "    60% {\n",
              "      border-color: transparent;\n",
              "      border-right-color: var(--fill-color);\n",
              "    }\n",
              "    80% {\n",
              "      border-color: transparent;\n",
              "      border-right-color: var(--fill-color);\n",
              "      border-bottom-color: var(--fill-color);\n",
              "    }\n",
              "    90% {\n",
              "      border-color: transparent;\n",
              "      border-bottom-color: var(--fill-color);\n",
              "    }\n",
              "  }\n",
              "</style>\n",
              "\n",
              "  <script>\n",
              "    async function quickchart(key) {\n",
              "      const quickchartButtonEl =\n",
              "        document.querySelector('#' + key + ' button');\n",
              "      quickchartButtonEl.disabled = true;  // To prevent multiple clicks.\n",
              "      quickchartButtonEl.classList.add('colab-df-spinner');\n",
              "      try {\n",
              "        const charts = await google.colab.kernel.invokeFunction(\n",
              "            'suggestCharts', [key], {});\n",
              "      } catch (error) {\n",
              "        console.error('Error during call to suggestCharts:', error);\n",
              "      }\n",
              "      quickchartButtonEl.classList.remove('colab-df-spinner');\n",
              "      quickchartButtonEl.classList.add('colab-df-quickchart-complete');\n",
              "    }\n",
              "    (() => {\n",
              "      let quickchartButtonEl =\n",
              "        document.querySelector('#df-54d9fd72-5bf9-4b94-8276-0458e4ed5f00 button');\n",
              "      quickchartButtonEl.style.display =\n",
              "        google.colab.kernel.accessAllowed ? 'block' : 'none';\n",
              "    })();\n",
              "  </script>\n",
              "</div>\n",
              "    </div>\n",
              "  </div>\n"
            ]
          },
          "metadata": {},
          "execution_count": 173
        }
      ]
    },
    {
      "cell_type": "code",
      "source": [
        "acousticFeatsDF.shape"
      ],
      "metadata": {
        "colab": {
          "base_uri": "https://localhost:8080/"
        },
        "outputId": "12df3cfe-7f1c-454f-a1f7-e293fcfd03f6",
        "id": "xUI8RzViV8sZ"
      },
      "execution_count": null,
      "outputs": [
        {
          "output_type": "execute_result",
          "data": {
            "text/plain": [
              "(1107, 207)"
            ]
          },
          "metadata": {},
          "execution_count": 174
        }
      ]
    },
    {
      "cell_type": "code",
      "source": [
        "powerAmplitudeDF = powerAmplitudeDF.iloc[:acousticFeatsDF.shape[0]]\n",
        "powerAmplitudeDF.shape"
      ],
      "metadata": {
        "colab": {
          "base_uri": "https://localhost:8080/"
        },
        "outputId": "def9423c-deac-44f7-bc4b-73d212278bee",
        "id": "D_wHCpNyV8sZ"
      },
      "execution_count": null,
      "outputs": [
        {
          "output_type": "execute_result",
          "data": {
            "text/plain": [
              "(1107, 4)"
            ]
          },
          "metadata": {},
          "execution_count": 175
        }
      ]
    },
    {
      "cell_type": "code",
      "source": [
        "powerAmplitudeAllLLDdf = pd.concat([powerAmplitudeDF,acousticFeatsDF],axis=1)\n",
        "powerAmplitudeAllLLDdf.shape"
      ],
      "metadata": {
        "colab": {
          "base_uri": "https://localhost:8080/"
        },
        "outputId": "a89f16a0-1b5a-44d1-e58c-59bdbdf61179",
        "id": "zRZovvq7V8sZ"
      },
      "execution_count": null,
      "outputs": [
        {
          "output_type": "execute_result",
          "data": {
            "text/plain": [
              "(1107, 211)"
            ]
          },
          "metadata": {},
          "execution_count": 176
        }
      ]
    },
    {
      "cell_type": "markdown",
      "source": [
        "Website to compute p value from r value and n: http://vassarstats.net/tabs_r.html"
      ],
      "metadata": {
        "id": "3SytogLuV8sZ"
      }
    },
    {
      "cell_type": "code",
      "source": [
        "rValFor99ConfidenceLevel = 0.078\n",
        "rValFor95ConfidenceLevel = 0.059"
      ],
      "metadata": {
        "id": "4qflKe1wV8sa"
      },
      "execution_count": null,
      "outputs": []
    },
    {
      "cell_type": "code",
      "source": [],
      "metadata": {
        "id": "Uo-uT5hUcsOV"
      },
      "execution_count": null,
      "outputs": []
    },
    {
      "cell_type": "code",
      "source": [],
      "metadata": {
        "id": "pLSl1HK8O0OG"
      },
      "execution_count": null,
      "outputs": []
    },
    {
      "cell_type": "markdown",
      "source": [
        "##random noise t-test (10)"
      ],
      "metadata": {
        "id": "YxDTHrbTO0Ti"
      }
    },
    {
      "cell_type": "code",
      "source": [
        "import numpy as np"
      ],
      "metadata": {
        "id": "29Ve8us-O0Ti"
      },
      "execution_count": null,
      "outputs": []
    },
    {
      "cell_type": "code",
      "source": [
        "# Set a seed for reproducibility\n",
        "np.random.seed(37)\n",
        "\n",
        "# Mean and standard deviation of the Gaussian distribution\n",
        "mean_value = 0\n",
        "std_dev = 1\n",
        "\n",
        "# Generate a random element numpy array from a Gaussian distribution\n",
        "random_array = np.random.normal(mean_value, std_dev, powerAmplitudeAllLLDdf.shape[0])\n",
        "powerAmplitudeAllLLDdf['Noise'] = random_array\n",
        "correlations_Noise = powerAmplitudeAllLLDdf.corr()['Noise'][4:-1]#.abs()"
      ],
      "metadata": {
        "id": "K-l0eOt4O0Tk"
      },
      "execution_count": null,
      "outputs": []
    },
    {
      "cell_type": "code",
      "source": [
        "positiveCorrelationCondition = correlations_Noise > rValFor95ConfidenceLevel\n",
        "negativeCorrelationCondition = correlations_Noise < -1* rValFor95ConfidenceLevel\n",
        "noiseCorrelates = correlations_Noise[ positiveCorrelationCondition | negativeCorrelationCondition]\n",
        "noiseCorrelates.head = 'r'\n",
        "\n",
        "print(\"# of acoustic features where p < 0.05:\", len(noiseCorrelates))\n",
        "noiseCorrelates.nlargest(len(noiseCorrelates)) # for sorting"
      ],
      "metadata": {
        "colab": {
          "base_uri": "https://localhost:8080/"
        },
        "outputId": "4fcb8c00-f565-4ce0-f94a-61f5920bced0",
        "id": "SbdaLDroO0Ts"
      },
      "execution_count": null,
      "outputs": [
        {
          "output_type": "stream",
          "name": "stdout",
          "text": [
            "# of acoustic features where p < 0.05: 10\n"
          ]
        },
        {
          "output_type": "execute_result",
          "data": {
            "text/plain": [
              "lspFreq_sma[5]              0.069108\n",
              "lspFreq_sma[4]              0.063187\n",
              "F2bandwidth_sma3nz          0.061944\n",
              "F3bandwidth_sma3nz          0.060692\n",
              "lspFreq_sma[6]              0.060248\n",
              "mfcc_sma[10]               -0.062081\n",
              "mfcc_sma[8].1              -0.066255\n",
              "audspec_lengthL1norm_sma   -0.066624\n",
              "Loudness_sma3              -0.066624\n",
              "mfcc_sma[8]                -0.070496\n",
              "Name: Noise, dtype: float64"
            ]
          },
          "metadata": {},
          "execution_count": 225
        }
      ]
    },
    {
      "cell_type": "markdown",
      "source": [
        "##Right vLPFC"
      ],
      "metadata": {
        "id": "Vp17_YALcsW9"
      }
    },
    {
      "cell_type": "code",
      "source": [
        "correlations_Right_vlPFC = powerAmplitudeAllLLDdf.corr()['Power: Right vlPFC'][4:]#.abs()"
      ],
      "metadata": {
        "id": "RuL8kt2QcsW9"
      },
      "execution_count": null,
      "outputs": []
    },
    {
      "cell_type": "code",
      "source": [
        "positiveCorrelationCondition = correlations_Right_vlPFC > rValFor95ConfidenceLevel\n",
        "negativeCorrelationCondition = correlations_Right_vlPFC < -1* rValFor95ConfidenceLevel\n",
        "AcousticCorrelates95_Right_vlPFC = correlations_Right_vlPFC[ positiveCorrelationCondition | negativeCorrelationCondition]\n",
        "AcousticCorrelates95_Right_vlPFC.head = 'r'\n",
        "\n",
        "print(\"# of acoustic features where p < 0.05:\", len(AcousticCorrelates95_Right_vlPFC))\n",
        "AcousticCorrelates95_Right_vlPFC.nlargest(len(AcousticCorrelates95_Right_vlPFC)) # for sorting"
      ],
      "metadata": {
        "colab": {
          "base_uri": "https://localhost:8080/"
        },
        "outputId": "356647e2-fec4-479e-cb9a-f30f09f05667",
        "id": "ADxLs1OTcsW9"
      },
      "execution_count": null,
      "outputs": [
        {
          "output_type": "stream",
          "name": "stdout",
          "text": [
            "# of acoustic features where p < 0.05: 40\n"
          ]
        },
        {
          "output_type": "execute_result",
          "data": {
            "text/plain": [
              "pcm_fftMag_spectralRollOff50.0_sma    0.088087\n",
              "mfcc_sma[8].1                         0.087795\n",
              "pcm_fftMag_spectralRollOff75.0_sma    0.087308\n",
              "mfcc_sma[8]                           0.085637\n",
              "pcm_fftMag_spectralRollOff90.0_sma    0.084122\n",
              "Loudness_sma3                         0.083883\n",
              "audspec_lengthL1norm_sma              0.083883\n",
              "pcm_fftMag_spectralFlux_sma           0.081387\n",
              "pcm_fftMag_psySharpness_sma           0.080063\n",
              "pcm_fftMag_spectralCentroid_sma       0.079757\n",
              "spectralFlux_sma3                     0.079049\n",
              "pcm_loudness_sma                      0.078300\n",
              "pcm_RMSenergy_sma                     0.078286\n",
              "pcm_fftMag_spectralRollOff25.0_sma    0.070786\n",
              "pcm_fftMag_fband250-650_sma           0.070606\n",
              "HNRdBACF_sma3nz                       0.070094\n",
              "logRelF0-H1-A3_sma3nz                 0.067422\n",
              "pcm_fftMag_spectralEntropy_sma        0.067315\n",
              "F1frequency_sma3nz                    0.064594\n",
              "F0_sma                                0.061124\n",
              "voiceProb_sma                         0.060407\n",
              "F0semitoneFrom27.5Hz_sma3nz           0.060163\n",
              "F3frequency_sma3nz                    0.059606\n",
              "F2frequency_sma3nz                    0.059605\n",
              "voicingFinalUnclipped_sma             0.059266\n",
              "mfcc_sma[5].1                        -0.059049\n",
              "slope500-1500_sma3                   -0.059132\n",
              "lspFreq_sma[5]                       -0.066528\n",
              "mfcc_sma[6].1                        -0.067397\n",
              "mfcc_sma[6]                          -0.067594\n",
              "lspFreq_sma[1]                       -0.067807\n",
              "lspFreq_sma[4]                       -0.069144\n",
              "mfcc_sma[9]                          -0.071287\n",
              "mfcc_sma[9].1                        -0.073421\n",
              "mfcc_sma[7]                          -0.074576\n",
              "mfcc_sma[7].1                        -0.075711\n",
              "lspFreq_sma[2]                       -0.075986\n",
              "lspFreq_sma[6]                       -0.076489\n",
              "lspFreq_sma[3]                       -0.081440\n",
              "F0env_sma                            -0.087845\n",
              "Name: Power: Right vlPFC, dtype: float64"
            ]
          },
          "metadata": {},
          "execution_count": 180
        }
      ]
    },
    {
      "cell_type": "code",
      "source": [
        "AcousticCorrelates95_Right_vlPFC.nlargest(len(AcousticCorrelates95_Right_vlPFC)).to_csv(date + '_noModeratorSpeech_AcousticCorrelates95_Right_vlPFC.csv',header=['r'],index_label='Acoustic Feature')"
      ],
      "metadata": {
        "id": "n1O_KkKycsW-"
      },
      "execution_count": null,
      "outputs": []
    },
    {
      "cell_type": "code",
      "source": [
        "print(AcousticCorrelates95_Right_vlPFC.index.tolist())"
      ],
      "metadata": {
        "colab": {
          "base_uri": "https://localhost:8080/"
        },
        "outputId": "d56009ae-2f9a-4f15-b446-8d94da416bc6",
        "id": "CAmiF1ugcsW-"
      },
      "execution_count": null,
      "outputs": [
        {
          "output_type": "stream",
          "name": "stdout",
          "text": [
            "['voicingFinalUnclipped_sma', 'audspec_lengthL1norm_sma', 'pcm_RMSenergy_sma', 'pcm_fftMag_fband250-650_sma', 'pcm_fftMag_spectralRollOff25.0_sma', 'pcm_fftMag_spectralRollOff50.0_sma', 'pcm_fftMag_spectralRollOff75.0_sma', 'pcm_fftMag_spectralRollOff90.0_sma', 'pcm_fftMag_spectralFlux_sma', 'pcm_fftMag_spectralCentroid_sma', 'pcm_fftMag_spectralEntropy_sma', 'pcm_fftMag_psySharpness_sma', 'mfcc_sma[6]', 'mfcc_sma[7]', 'mfcc_sma[8]', 'mfcc_sma[9]', 'Loudness_sma3', 'slope500-1500_sma3', 'spectralFlux_sma3', 'F0semitoneFrom27.5Hz_sma3nz', 'HNRdBACF_sma3nz', 'logRelF0-H1-A3_sma3nz', 'F1frequency_sma3nz', 'F2frequency_sma3nz', 'F3frequency_sma3nz', 'pcm_loudness_sma', 'mfcc_sma[5].1', 'mfcc_sma[6].1', 'mfcc_sma[7].1', 'mfcc_sma[8].1', 'mfcc_sma[9].1', 'lspFreq_sma[1]', 'lspFreq_sma[2]', 'lspFreq_sma[3]', 'lspFreq_sma[4]', 'lspFreq_sma[5]', 'lspFreq_sma[6]', 'voiceProb_sma', 'F0_sma', 'F0env_sma']\n"
          ]
        }
      ]
    },
    {
      "cell_type": "code",
      "source": [],
      "metadata": {
        "id": "n04EzW81c1xF"
      },
      "execution_count": null,
      "outputs": []
    },
    {
      "cell_type": "markdown",
      "source": [
        "##Left vLPFC"
      ],
      "metadata": {
        "id": "dh67qYz0c13P"
      }
    },
    {
      "cell_type": "code",
      "source": [
        "correlations_Left_vlPFC = powerAmplitudeAllLLDdf.corr()['Power: Left vlPFC'][4:]#.abs()\n",
        "correlations_Left_vlPFC"
      ],
      "metadata": {
        "colab": {
          "base_uri": "https://localhost:8080/"
        },
        "id": "zjeaokGQc13Q",
        "outputId": "eb9885ff-7bd2-4dce-cacd-3c8212538a22"
      },
      "execution_count": null,
      "outputs": [
        {
          "output_type": "execute_result",
          "data": {
            "text/plain": [
              "F0final_sma                  0.088180\n",
              "voicingFinalUnclipped_sma    0.083800\n",
              "jitterLocal_sma              0.045865\n",
              "jitterDDP_sma                0.050136\n",
              "shimmerLocal_sma             0.085279\n",
              "                               ...   \n",
              "lspFreq_sma_de[7]           -0.011069\n",
              "pcm_zcr_sma_de.1            -0.011147\n",
              "voiceProb_sma_de             0.018981\n",
              "F0_sma_de                    0.031685\n",
              "F0env_sma_de                 0.003743\n",
              "Name: Power: Left vlPFC, Length: 207, dtype: float64"
            ]
          },
          "metadata": {},
          "execution_count": 183
        }
      ]
    },
    {
      "cell_type": "code",
      "source": [
        "positiveCorrelationCondition = correlations_Left_vlPFC > rValFor95ConfidenceLevel\n",
        "negativeCorrelationCondition = correlations_Left_vlPFC < -1* rValFor95ConfidenceLevel\n",
        "AcousticCorrelates95_Left_vlPFC = correlations_Left_vlPFC[ positiveCorrelationCondition | negativeCorrelationCondition]\n",
        "AcousticCorrelates95_Left_vlPFC.head = 'r'\n",
        "\n",
        "print(\"# of acoustic features where p < 0.05:\", len(AcousticCorrelates95_Left_vlPFC))\n",
        "AcousticCorrelates95_Left_vlPFC.nlargest(len(AcousticCorrelates95_Left_vlPFC)) # for sorting"
      ],
      "metadata": {
        "colab": {
          "base_uri": "https://localhost:8080/"
        },
        "outputId": "f1fbfbdf-4066-40a9-ba5b-2d34363b5a87",
        "id": "PqKu2DcAc13Q"
      },
      "execution_count": null,
      "outputs": [
        {
          "output_type": "stream",
          "name": "stdout",
          "text": [
            "# of acoustic features where p < 0.05: 72\n"
          ]
        },
        {
          "output_type": "execute_result",
          "data": {
            "text/plain": [
              "shimmerLocaldB_sma3nz              0.104745\n",
              "pcm_fftMag_spectralKurtosis_sma    0.103678\n",
              "pcm_fftMag_spectralSkewness_sma    0.100690\n",
              "mfcc1_sma3                         0.093991\n",
              "mfcc_sma[1]                        0.093991\n",
              "                                     ...   \n",
              "mfcc_sma[5].1                     -0.091260\n",
              "mfcc_sma[6].1                     -0.092823\n",
              "mfcc_sma[6]                       -0.096620\n",
              "lspFreq_sma[1]                    -0.097931\n",
              "F0env_sma                         -0.118623\n",
              "Name: Power: Left vlPFC, Length: 72, dtype: float64"
            ]
          },
          "metadata": {},
          "execution_count": 184
        }
      ]
    },
    {
      "cell_type": "code",
      "source": [
        "AcousticCorrelates95_Left_vlPFC.nlargest(len(AcousticCorrelates95_Left_vlPFC)).to_csv(date + '_noModeratorSpeech_AcousticCorrelates95_Left_vlPFC.csv',header=['r'],index_label='Acoustic Feature')"
      ],
      "metadata": {
        "id": "foT-3RDlc13Q"
      },
      "execution_count": null,
      "outputs": []
    },
    {
      "cell_type": "code",
      "source": [
        "print(AcousticCorrelates95_Left_vlPFC.index.tolist())"
      ],
      "metadata": {
        "colab": {
          "base_uri": "https://localhost:8080/"
        },
        "outputId": "ca9e3d3a-7d91-4019-eaff-cd3ea9830a9b",
        "id": "Gord2hXgc13R"
      },
      "execution_count": null,
      "outputs": [
        {
          "output_type": "stream",
          "name": "stdout",
          "text": [
            "['F0final_sma', 'voicingFinalUnclipped_sma', 'shimmerLocal_sma', 'logHNR_sma', 'audspec_lengthL1norm_sma', 'pcm_RMSenergy_sma', 'pcm_zcr_sma', 'audSpec_Rfilt_sma[0]', 'audSpec_Rfilt_sma[1]', 'audSpec_Rfilt_sma[2]', 'audSpec_Rfilt_sma[3]', 'audSpec_Rfilt_sma[4]', 'audSpec_Rfilt_sma[12]', 'audSpec_Rfilt_sma[13]', 'audSpec_Rfilt_sma[14]', 'audSpec_Rfilt_sma[15]', 'pcm_fftMag_spectralRollOff75.0_sma', 'pcm_fftMag_spectralRollOff90.0_sma', 'pcm_fftMag_spectralFlux_sma', 'pcm_fftMag_spectralEntropy_sma', 'pcm_fftMag_spectralSkewness_sma', 'pcm_fftMag_spectralKurtosis_sma', 'pcm_fftMag_psySharpness_sma', 'mfcc_sma[1]', 'mfcc_sma[3]', 'mfcc_sma[4]', 'mfcc_sma[5]', 'mfcc_sma[6]', 'mfcc_sma[7]', 'mfcc_sma[9]', 'Loudness_sma3', 'alphaRatio_sma3', 'hammarbergIndex_sma3', 'slope0-500_sma3', 'slope500-1500_sma3', 'spectralFlux_sma3', 'mfcc1_sma3', 'mfcc3_sma3', 'mfcc4_sma3', 'F0semitoneFrom27.5Hz_sma3nz', 'jitterLocal_sma3nz', 'shimmerLocaldB_sma3nz', 'logRelF0-H1-A3_sma3nz', 'F1frequency_sma3nz', 'F1bandwidth_sma3nz', 'F1amplitudeLogRelF0_sma3nz', 'F2frequency_sma3nz', 'F2bandwidth_sma3nz', 'F2amplitudeLogRelF0_sma3nz', 'F3frequency_sma3nz', 'F3bandwidth_sma3nz', 'F3amplitudeLogRelF0_sma3nz', 'pcm_loudness_sma', 'mfcc_sma[1].1', 'mfcc_sma[3].1', 'mfcc_sma[4].1', 'mfcc_sma[5].1', 'mfcc_sma[6].1', 'mfcc_sma[7].1', 'mfcc_sma[9].1', 'lspFreq_sma[0]', 'lspFreq_sma[1]', 'lspFreq_sma[2]', 'lspFreq_sma[4]', 'lspFreq_sma[5]', 'lspFreq_sma[6]', 'lspFreq_sma[7]', 'pcm_zcr_sma.1', 'voiceProb_sma', 'F0_sma', 'F0env_sma', 'pcm_fftMag_fband1000-4000_sma_de']\n"
          ]
        }
      ]
    },
    {
      "cell_type": "code",
      "source": [],
      "metadata": {
        "id": "CMS2CPFVdLJH"
      },
      "execution_count": null,
      "outputs": []
    },
    {
      "cell_type": "markdown",
      "source": [
        "##Right OFC"
      ],
      "metadata": {
        "id": "ry4rR8GRdLQ-"
      }
    },
    {
      "cell_type": "code",
      "source": [],
      "metadata": {
        "id": "pCfrhl11dLQ_"
      },
      "execution_count": null,
      "outputs": []
    },
    {
      "cell_type": "code",
      "source": [
        "correlations_Right_OFC = powerAmplitudeAllLLDdf.corr()['Power: Right OFC'][4:]#.abs()\n"
      ],
      "metadata": {
        "id": "8N-NB2_9dLQ_"
      },
      "execution_count": null,
      "outputs": []
    },
    {
      "cell_type": "code",
      "source": [
        "positiveCorrelationCondition = correlations_Right_OFC > rValFor95ConfidenceLevel\n",
        "negativeCorrelationCondition = correlations_Right_OFC < -1* rValFor95ConfidenceLevel\n",
        "AcousticCorrelates95_Right_OFC = correlations_Right_OFC[ positiveCorrelationCondition | negativeCorrelationCondition]\n",
        "AcousticCorrelates95_Right_OFC.head = 'r'\n",
        "\n",
        "print(\"# of acoustic features where p < 0.05:\", len(AcousticCorrelates95_Right_OFC))\n",
        "AcousticCorrelates95_Right_OFC.nlargest(len(AcousticCorrelates95_Right_OFC)) # for sorting"
      ],
      "metadata": {
        "colab": {
          "base_uri": "https://localhost:8080/"
        },
        "outputId": "18358d41-062b-4c9c-e47d-f6c78c0fdeb1",
        "id": "1-nUSnb9dLRA"
      },
      "execution_count": null,
      "outputs": [
        {
          "output_type": "stream",
          "name": "stdout",
          "text": [
            "# of acoustic features where p < 0.05: 21\n"
          ]
        },
        {
          "output_type": "execute_result",
          "data": {
            "text/plain": [
              "lspFreq_sma[0]                      0.074761\n",
              "audSpec_Rfilt_sma_de[4]             0.071167\n",
              "audSpec_Rfilt_sma_de[8]             0.069687\n",
              "audSpec_Rfilt_sma_de[5]             0.067768\n",
              "audSpec_Rfilt_sma_de[9]             0.067382\n",
              "audspecRasta_lengthL1norm_sma_de    0.065424\n",
              "audSpec_Rfilt_sma_de[17]            0.065191\n",
              "F0final_sma_de                      0.065085\n",
              "audSpec_Rfilt_sma_de[12]            0.064882\n",
              "audSpec_Rfilt_sma_de[15]            0.063643\n",
              "audSpec_Rfilt_sma_de[18]            0.063100\n",
              "audSpec_Rfilt_sma_de[11]            0.063094\n",
              "audSpec_Rfilt_sma_de[7]             0.062755\n",
              "audSpec_Rfilt_sma_de[16]            0.062647\n",
              "audSpec_Rfilt_sma_de[13]            0.062092\n",
              "audSpec_Rfilt_sma_de[6]             0.061125\n",
              "audSpec_Rfilt_sma_de[14]            0.061067\n",
              "audSpec_Rfilt_sma_de[10]            0.061029\n",
              "audSpec_Rfilt_sma_de[3]             0.060688\n",
              "audSpec_Rfilt_sma_de[19]            0.059240\n",
              "mfcc_sma[1].1                      -0.063047\n",
              "Name: Power: Right OFC, dtype: float64"
            ]
          },
          "metadata": {},
          "execution_count": 188
        }
      ]
    },
    {
      "cell_type": "code",
      "source": [
        "AcousticCorrelates95_Right_OFC.nlargest(len(AcousticCorrelates95_Right_OFC)).to_csv(date + '_noModeratorSpeech_AcousticCorrelates95_Right_OFC.csv',header=['r'],index_label='Acoustic Feature')"
      ],
      "metadata": {
        "id": "Gc7EndmEdLRA"
      },
      "execution_count": null,
      "outputs": []
    },
    {
      "cell_type": "code",
      "source": [
        "print(AcousticCorrelates95_Right_OFC.index.tolist())"
      ],
      "metadata": {
        "colab": {
          "base_uri": "https://localhost:8080/"
        },
        "outputId": "5ff33c0e-c1d7-48da-9ca1-a3ec04af6745",
        "id": "zmiTkShPdLRB"
      },
      "execution_count": null,
      "outputs": [
        {
          "output_type": "stream",
          "name": "stdout",
          "text": [
            "['mfcc_sma[1].1', 'lspFreq_sma[0]', 'F0final_sma_de', 'audspecRasta_lengthL1norm_sma_de', 'audSpec_Rfilt_sma_de[3]', 'audSpec_Rfilt_sma_de[4]', 'audSpec_Rfilt_sma_de[5]', 'audSpec_Rfilt_sma_de[6]', 'audSpec_Rfilt_sma_de[7]', 'audSpec_Rfilt_sma_de[8]', 'audSpec_Rfilt_sma_de[9]', 'audSpec_Rfilt_sma_de[10]', 'audSpec_Rfilt_sma_de[11]', 'audSpec_Rfilt_sma_de[12]', 'audSpec_Rfilt_sma_de[13]', 'audSpec_Rfilt_sma_de[14]', 'audSpec_Rfilt_sma_de[15]', 'audSpec_Rfilt_sma_de[16]', 'audSpec_Rfilt_sma_de[17]', 'audSpec_Rfilt_sma_de[18]', 'audSpec_Rfilt_sma_de[19]']\n"
          ]
        }
      ]
    },
    {
      "cell_type": "markdown",
      "source": [
        "##Left OFC"
      ],
      "metadata": {
        "id": "TH1g0NoedLRB"
      }
    },
    {
      "cell_type": "code",
      "source": [],
      "metadata": {
        "id": "7MbI0RD2dLRC"
      },
      "execution_count": null,
      "outputs": []
    },
    {
      "cell_type": "code",
      "source": [
        "correlations_Left_OFC = powerAmplitudeAllLLDdf.corr()['Power: Left OFC'][8:]#.abs()\n"
      ],
      "metadata": {
        "id": "STWcSfFXdLRC"
      },
      "execution_count": null,
      "outputs": []
    },
    {
      "cell_type": "code",
      "source": [
        "positiveCorrelationCondition = correlations_Left_OFC > rValFor95ConfidenceLevel\n",
        "negativeCorrelationCondition = correlations_Left_OFC < -1* rValFor95ConfidenceLevel\n",
        "AcousticCorrelates95_Left_OFC = correlations_Left_OFC[ positiveCorrelationCondition | negativeCorrelationCondition]\n",
        "AcousticCorrelates95_Left_OFC.head = 'r'\n",
        "\n",
        "print(\"# of acoustic features where p < 0.05:\", len(AcousticCorrelates95_Left_OFC))\n",
        "AcousticCorrelates95_Left_OFC.nlargest(len(AcousticCorrelates95_Left_OFC)) # for sorting"
      ],
      "metadata": {
        "colab": {
          "base_uri": "https://localhost:8080/"
        },
        "outputId": "6017c5b9-bd58-408a-abf6-755365081946",
        "id": "vMz-4IXkdLRC"
      },
      "execution_count": null,
      "outputs": [
        {
          "output_type": "stream",
          "name": "stdout",
          "text": [
            "# of acoustic features where p < 0.05: 1\n"
          ]
        },
        {
          "output_type": "execute_result",
          "data": {
            "text/plain": [
              "pcm_fftMag_spectralEntropy_sma_de    0.06255\n",
              "Name: Power: Left OFC, dtype: float64"
            ]
          },
          "metadata": {},
          "execution_count": 192
        }
      ]
    },
    {
      "cell_type": "code",
      "source": [
        "AcousticCorrelates95_Left_OFC.nlargest(len(AcousticCorrelates95_Left_OFC)).to_csv(date + '_noModeratorSpeech_AcousticCorrelates95_Left_OFC.csv',header=['r'],index_label='Acoustic Feature')"
      ],
      "metadata": {
        "id": "bfjxNLrCdLRD"
      },
      "execution_count": null,
      "outputs": []
    },
    {
      "cell_type": "code",
      "source": [
        "print(AcousticCorrelates95_Left_OFC.index.tolist())"
      ],
      "metadata": {
        "colab": {
          "base_uri": "https://localhost:8080/"
        },
        "outputId": "b6f52dc0-8146-4354-9671-9852dc237592",
        "id": "MC69mpukdLRD"
      },
      "execution_count": null,
      "outputs": [
        {
          "output_type": "stream",
          "name": "stdout",
          "text": [
            "['pcm_fftMag_spectralEntropy_sma_de']\n"
          ]
        }
      ]
    },
    {
      "cell_type": "markdown",
      "source": [],
      "metadata": {
        "id": "IMdScEIBdK7r"
      }
    },
    {
      "cell_type": "markdown",
      "source": [
        "#Nov 15"
      ],
      "metadata": {
        "id": "2j29GpbldQ6v"
      }
    },
    {
      "cell_type": "markdown",
      "source": [
        "##Setup"
      ],
      "metadata": {
        "id": "O-ZYg1nBYr3k"
      }
    },
    {
      "cell_type": "code",
      "source": [
        "date ='2022-11-15'"
      ],
      "metadata": {
        "id": "8PCClE8JX-Kh"
      },
      "execution_count": null,
      "outputs": []
    },
    {
      "cell_type": "code",
      "source": [
        "powerDF = pd.read_csv('2022-11-15-Power.csv')\n",
        "del powerDF['Unnamed: 0']\n",
        "powerDF.head()"
      ],
      "metadata": {
        "colab": {
          "base_uri": "https://localhost:8080/",
          "height": 224
        },
        "outputId": "e67219dc-c2d1-4ab1-a3b8-3f366c4726bd",
        "id": "xTBKIEBBdQ6w"
      },
      "execution_count": null,
      "outputs": [
        {
          "output_type": "execute_result",
          "data": {
            "text/plain": [
              "   Power: Left OFC  Power: Left vlPFC  Power: Right OFC  Power: Right vlPFC\n",
              "0         8.462996           6.523769          4.619912            8.098723\n",
              "1         5.854915           5.621985          7.196563            7.780724\n",
              "2         9.335134           7.215692          7.966418            9.071778\n",
              "3         4.709172           5.349554          7.623001           11.709882\n",
              "4         5.242306          13.146638          7.908021            7.542927"
            ],
            "text/html": [
              "\n",
              "  <div id=\"df-990062d3-b646-40c1-8c4f-477024784fa5\" class=\"colab-df-container\">\n",
              "    <div>\n",
              "<style scoped>\n",
              "    .dataframe tbody tr th:only-of-type {\n",
              "        vertical-align: middle;\n",
              "    }\n",
              "\n",
              "    .dataframe tbody tr th {\n",
              "        vertical-align: top;\n",
              "    }\n",
              "\n",
              "    .dataframe thead th {\n",
              "        text-align: right;\n",
              "    }\n",
              "</style>\n",
              "<table border=\"1\" class=\"dataframe\">\n",
              "  <thead>\n",
              "    <tr style=\"text-align: right;\">\n",
              "      <th></th>\n",
              "      <th>Power: Left OFC</th>\n",
              "      <th>Power: Left vlPFC</th>\n",
              "      <th>Power: Right OFC</th>\n",
              "      <th>Power: Right vlPFC</th>\n",
              "    </tr>\n",
              "  </thead>\n",
              "  <tbody>\n",
              "    <tr>\n",
              "      <th>0</th>\n",
              "      <td>8.462996</td>\n",
              "      <td>6.523769</td>\n",
              "      <td>4.619912</td>\n",
              "      <td>8.098723</td>\n",
              "    </tr>\n",
              "    <tr>\n",
              "      <th>1</th>\n",
              "      <td>5.854915</td>\n",
              "      <td>5.621985</td>\n",
              "      <td>7.196563</td>\n",
              "      <td>7.780724</td>\n",
              "    </tr>\n",
              "    <tr>\n",
              "      <th>2</th>\n",
              "      <td>9.335134</td>\n",
              "      <td>7.215692</td>\n",
              "      <td>7.966418</td>\n",
              "      <td>9.071778</td>\n",
              "    </tr>\n",
              "    <tr>\n",
              "      <th>3</th>\n",
              "      <td>4.709172</td>\n",
              "      <td>5.349554</td>\n",
              "      <td>7.623001</td>\n",
              "      <td>11.709882</td>\n",
              "    </tr>\n",
              "    <tr>\n",
              "      <th>4</th>\n",
              "      <td>5.242306</td>\n",
              "      <td>13.146638</td>\n",
              "      <td>7.908021</td>\n",
              "      <td>7.542927</td>\n",
              "    </tr>\n",
              "  </tbody>\n",
              "</table>\n",
              "</div>\n",
              "    <div class=\"colab-df-buttons\">\n",
              "\n",
              "  <div class=\"colab-df-container\">\n",
              "    <button class=\"colab-df-convert\" onclick=\"convertToInteractive('df-990062d3-b646-40c1-8c4f-477024784fa5')\"\n",
              "            title=\"Convert this dataframe to an interactive table.\"\n",
              "            style=\"display:none;\">\n",
              "\n",
              "  <svg xmlns=\"http://www.w3.org/2000/svg\" height=\"24px\" viewBox=\"0 -960 960 960\">\n",
              "    <path d=\"M120-120v-720h720v720H120Zm60-500h600v-160H180v160Zm220 220h160v-160H400v160Zm0 220h160v-160H400v160ZM180-400h160v-160H180v160Zm440 0h160v-160H620v160ZM180-180h160v-160H180v160Zm440 0h160v-160H620v160Z\"/>\n",
              "  </svg>\n",
              "    </button>\n",
              "\n",
              "  <style>\n",
              "    .colab-df-container {\n",
              "      display:flex;\n",
              "      gap: 12px;\n",
              "    }\n",
              "\n",
              "    .colab-df-convert {\n",
              "      background-color: #E8F0FE;\n",
              "      border: none;\n",
              "      border-radius: 50%;\n",
              "      cursor: pointer;\n",
              "      display: none;\n",
              "      fill: #1967D2;\n",
              "      height: 32px;\n",
              "      padding: 0 0 0 0;\n",
              "      width: 32px;\n",
              "    }\n",
              "\n",
              "    .colab-df-convert:hover {\n",
              "      background-color: #E2EBFA;\n",
              "      box-shadow: 0px 1px 2px rgba(60, 64, 67, 0.3), 0px 1px 3px 1px rgba(60, 64, 67, 0.15);\n",
              "      fill: #174EA6;\n",
              "    }\n",
              "\n",
              "    .colab-df-buttons div {\n",
              "      margin-bottom: 4px;\n",
              "    }\n",
              "\n",
              "    [theme=dark] .colab-df-convert {\n",
              "      background-color: #3B4455;\n",
              "      fill: #D2E3FC;\n",
              "    }\n",
              "\n",
              "    [theme=dark] .colab-df-convert:hover {\n",
              "      background-color: #434B5C;\n",
              "      box-shadow: 0px 1px 3px 1px rgba(0, 0, 0, 0.15);\n",
              "      filter: drop-shadow(0px 1px 2px rgba(0, 0, 0, 0.3));\n",
              "      fill: #FFFFFF;\n",
              "    }\n",
              "  </style>\n",
              "\n",
              "    <script>\n",
              "      const buttonEl =\n",
              "        document.querySelector('#df-990062d3-b646-40c1-8c4f-477024784fa5 button.colab-df-convert');\n",
              "      buttonEl.style.display =\n",
              "        google.colab.kernel.accessAllowed ? 'block' : 'none';\n",
              "\n",
              "      async function convertToInteractive(key) {\n",
              "        const element = document.querySelector('#df-990062d3-b646-40c1-8c4f-477024784fa5');\n",
              "        const dataTable =\n",
              "          await google.colab.kernel.invokeFunction('convertToInteractive',\n",
              "                                                    [key], {});\n",
              "        if (!dataTable) return;\n",
              "\n",
              "        const docLinkHtml = 'Like what you see? Visit the ' +\n",
              "          '<a target=\"_blank\" href=https://colab.research.google.com/notebooks/data_table.ipynb>data table notebook</a>'\n",
              "          + ' to learn more about interactive tables.';\n",
              "        element.innerHTML = '';\n",
              "        dataTable['output_type'] = 'display_data';\n",
              "        await google.colab.output.renderOutput(dataTable, element);\n",
              "        const docLink = document.createElement('div');\n",
              "        docLink.innerHTML = docLinkHtml;\n",
              "        element.appendChild(docLink);\n",
              "      }\n",
              "    </script>\n",
              "  </div>\n",
              "\n",
              "\n",
              "<div id=\"df-8b98b4d5-b374-4baa-b233-6de7bc93140c\">\n",
              "  <button class=\"colab-df-quickchart\" onclick=\"quickchart('df-8b98b4d5-b374-4baa-b233-6de7bc93140c')\"\n",
              "            title=\"Suggest charts\"\n",
              "            style=\"display:none;\">\n",
              "\n",
              "<svg xmlns=\"http://www.w3.org/2000/svg\" height=\"24px\"viewBox=\"0 0 24 24\"\n",
              "     width=\"24px\">\n",
              "    <g>\n",
              "        <path d=\"M19 3H5c-1.1 0-2 .9-2 2v14c0 1.1.9 2 2 2h14c1.1 0 2-.9 2-2V5c0-1.1-.9-2-2-2zM9 17H7v-7h2v7zm4 0h-2V7h2v10zm4 0h-2v-4h2v4z\"/>\n",
              "    </g>\n",
              "</svg>\n",
              "  </button>\n",
              "\n",
              "<style>\n",
              "  .colab-df-quickchart {\n",
              "      --bg-color: #E8F0FE;\n",
              "      --fill-color: #1967D2;\n",
              "      --hover-bg-color: #E2EBFA;\n",
              "      --hover-fill-color: #174EA6;\n",
              "      --disabled-fill-color: #AAA;\n",
              "      --disabled-bg-color: #DDD;\n",
              "  }\n",
              "\n",
              "  [theme=dark] .colab-df-quickchart {\n",
              "      --bg-color: #3B4455;\n",
              "      --fill-color: #D2E3FC;\n",
              "      --hover-bg-color: #434B5C;\n",
              "      --hover-fill-color: #FFFFFF;\n",
              "      --disabled-bg-color: #3B4455;\n",
              "      --disabled-fill-color: #666;\n",
              "  }\n",
              "\n",
              "  .colab-df-quickchart {\n",
              "    background-color: var(--bg-color);\n",
              "    border: none;\n",
              "    border-radius: 50%;\n",
              "    cursor: pointer;\n",
              "    display: none;\n",
              "    fill: var(--fill-color);\n",
              "    height: 32px;\n",
              "    padding: 0;\n",
              "    width: 32px;\n",
              "  }\n",
              "\n",
              "  .colab-df-quickchart:hover {\n",
              "    background-color: var(--hover-bg-color);\n",
              "    box-shadow: 0 1px 2px rgba(60, 64, 67, 0.3), 0 1px 3px 1px rgba(60, 64, 67, 0.15);\n",
              "    fill: var(--button-hover-fill-color);\n",
              "  }\n",
              "\n",
              "  .colab-df-quickchart-complete:disabled,\n",
              "  .colab-df-quickchart-complete:disabled:hover {\n",
              "    background-color: var(--disabled-bg-color);\n",
              "    fill: var(--disabled-fill-color);\n",
              "    box-shadow: none;\n",
              "  }\n",
              "\n",
              "  .colab-df-spinner {\n",
              "    border: 2px solid var(--fill-color);\n",
              "    border-color: transparent;\n",
              "    border-bottom-color: var(--fill-color);\n",
              "    animation:\n",
              "      spin 1s steps(1) infinite;\n",
              "  }\n",
              "\n",
              "  @keyframes spin {\n",
              "    0% {\n",
              "      border-color: transparent;\n",
              "      border-bottom-color: var(--fill-color);\n",
              "      border-left-color: var(--fill-color);\n",
              "    }\n",
              "    20% {\n",
              "      border-color: transparent;\n",
              "      border-left-color: var(--fill-color);\n",
              "      border-top-color: var(--fill-color);\n",
              "    }\n",
              "    30% {\n",
              "      border-color: transparent;\n",
              "      border-left-color: var(--fill-color);\n",
              "      border-top-color: var(--fill-color);\n",
              "      border-right-color: var(--fill-color);\n",
              "    }\n",
              "    40% {\n",
              "      border-color: transparent;\n",
              "      border-right-color: var(--fill-color);\n",
              "      border-top-color: var(--fill-color);\n",
              "    }\n",
              "    60% {\n",
              "      border-color: transparent;\n",
              "      border-right-color: var(--fill-color);\n",
              "    }\n",
              "    80% {\n",
              "      border-color: transparent;\n",
              "      border-right-color: var(--fill-color);\n",
              "      border-bottom-color: var(--fill-color);\n",
              "    }\n",
              "    90% {\n",
              "      border-color: transparent;\n",
              "      border-bottom-color: var(--fill-color);\n",
              "    }\n",
              "  }\n",
              "</style>\n",
              "\n",
              "  <script>\n",
              "    async function quickchart(key) {\n",
              "      const quickchartButtonEl =\n",
              "        document.querySelector('#' + key + ' button');\n",
              "      quickchartButtonEl.disabled = true;  // To prevent multiple clicks.\n",
              "      quickchartButtonEl.classList.add('colab-df-spinner');\n",
              "      try {\n",
              "        const charts = await google.colab.kernel.invokeFunction(\n",
              "            'suggestCharts', [key], {});\n",
              "      } catch (error) {\n",
              "        console.error('Error during call to suggestCharts:', error);\n",
              "      }\n",
              "      quickchartButtonEl.classList.remove('colab-df-spinner');\n",
              "      quickchartButtonEl.classList.add('colab-df-quickchart-complete');\n",
              "    }\n",
              "    (() => {\n",
              "      let quickchartButtonEl =\n",
              "        document.querySelector('#df-8b98b4d5-b374-4baa-b233-6de7bc93140c button');\n",
              "      quickchartButtonEl.style.display =\n",
              "        google.colab.kernel.accessAllowed ? 'block' : 'none';\n",
              "    })();\n",
              "  </script>\n",
              "</div>\n",
              "    </div>\n",
              "  </div>\n"
            ]
          },
          "metadata": {},
          "execution_count": 137
        }
      ]
    },
    {
      "cell_type": "code",
      "source": [
        "powerDF.shape"
      ],
      "metadata": {
        "colab": {
          "base_uri": "https://localhost:8080/"
        },
        "outputId": "df32dc80-9a0c-49ff-f33c-51af601bd6ba",
        "id": "w8QamyfIdQ6w"
      },
      "execution_count": null,
      "outputs": [
        {
          "output_type": "execute_result",
          "data": {
            "text/plain": [
              "(1143, 4)"
            ]
          },
          "metadata": {},
          "execution_count": 138
        }
      ]
    },
    {
      "cell_type": "code",
      "source": [
        "acousticFeatsDF = pd.read_csv('AcousticFeatures_noModeratorSpeech_aDBS012_' + '2022-11-15_' + 'audio_amplitude.csv')\n",
        "del acousticFeatsDF['Unnamed: 0']\n",
        "acousticFeatsDF.head()"
      ],
      "metadata": {
        "colab": {
          "base_uri": "https://localhost:8080/",
          "height": 256
        },
        "outputId": "d94338e9-b62f-41c4-80ab-94c2d5d57929",
        "id": "SISf4pKqdQ6w"
      },
      "execution_count": null,
      "outputs": [
        {
          "output_type": "execute_result",
          "data": {
            "text/plain": [
              "   F0final_sma  voicingFinalUnclipped_sma  jitterLocal_sma  jitterDDP_sma  \\\n",
              "0          0.0                        0.0              0.0            0.0   \n",
              "1          0.0                        0.0              0.0            0.0   \n",
              "2          0.0                        0.0              0.0            0.0   \n",
              "3          0.0                        0.0              0.0            0.0   \n",
              "4          0.0                        0.0              0.0            0.0   \n",
              "\n",
              "   shimmerLocal_sma  logHNR_sma  audspec_lengthL1norm_sma  \\\n",
              "0               0.0      -100.0                  0.001034   \n",
              "1               0.0      -100.0                  0.001034   \n",
              "2               0.0      -100.0                  0.001034   \n",
              "3               0.0      -100.0                  0.001034   \n",
              "4               0.0      -100.0                  0.001034   \n",
              "\n",
              "   audspecRasta_lengthL1norm_sma  pcm_RMSenergy_sma  pcm_zcr_sma  ...  \\\n",
              "0                       0.988341                0.0     0.999244  ...   \n",
              "1                       0.988341                0.0     0.999244  ...   \n",
              "2                       0.988341                0.0     0.999244  ...   \n",
              "3                       0.988341                0.0     0.999244  ...   \n",
              "4                       0.988341                0.0     0.999244  ...   \n",
              "\n",
              "   lspFreq_sma_de[2]  lspFreq_sma_de[3]  lspFreq_sma_de[4]  lspFreq_sma_de[5]  \\\n",
              "0                0.0                0.0                0.0                0.0   \n",
              "1                0.0                0.0                0.0                0.0   \n",
              "2                0.0                0.0                0.0                0.0   \n",
              "3                0.0                0.0                0.0                0.0   \n",
              "4                0.0                0.0                0.0                0.0   \n",
              "\n",
              "   lspFreq_sma_de[6]  lspFreq_sma_de[7]  pcm_zcr_sma_de.1  voiceProb_sma_de  \\\n",
              "0                0.0                0.0               0.0               0.0   \n",
              "1                0.0                0.0               0.0               0.0   \n",
              "2                0.0                0.0               0.0               0.0   \n",
              "3                0.0                0.0               0.0               0.0   \n",
              "4                0.0                0.0               0.0               0.0   \n",
              "\n",
              "   F0_sma_de  F0env_sma_de  \n",
              "0        0.0           0.0  \n",
              "1        0.0           0.0  \n",
              "2        0.0           0.0  \n",
              "3        0.0           0.0  \n",
              "4        0.0           0.0  \n",
              "\n",
              "[5 rows x 207 columns]"
            ],
            "text/html": [
              "\n",
              "  <div id=\"df-2a9ee20e-737f-416e-97c9-cc0f872a8163\" class=\"colab-df-container\">\n",
              "    <div>\n",
              "<style scoped>\n",
              "    .dataframe tbody tr th:only-of-type {\n",
              "        vertical-align: middle;\n",
              "    }\n",
              "\n",
              "    .dataframe tbody tr th {\n",
              "        vertical-align: top;\n",
              "    }\n",
              "\n",
              "    .dataframe thead th {\n",
              "        text-align: right;\n",
              "    }\n",
              "</style>\n",
              "<table border=\"1\" class=\"dataframe\">\n",
              "  <thead>\n",
              "    <tr style=\"text-align: right;\">\n",
              "      <th></th>\n",
              "      <th>F0final_sma</th>\n",
              "      <th>voicingFinalUnclipped_sma</th>\n",
              "      <th>jitterLocal_sma</th>\n",
              "      <th>jitterDDP_sma</th>\n",
              "      <th>shimmerLocal_sma</th>\n",
              "      <th>logHNR_sma</th>\n",
              "      <th>audspec_lengthL1norm_sma</th>\n",
              "      <th>audspecRasta_lengthL1norm_sma</th>\n",
              "      <th>pcm_RMSenergy_sma</th>\n",
              "      <th>pcm_zcr_sma</th>\n",
              "      <th>...</th>\n",
              "      <th>lspFreq_sma_de[2]</th>\n",
              "      <th>lspFreq_sma_de[3]</th>\n",
              "      <th>lspFreq_sma_de[4]</th>\n",
              "      <th>lspFreq_sma_de[5]</th>\n",
              "      <th>lspFreq_sma_de[6]</th>\n",
              "      <th>lspFreq_sma_de[7]</th>\n",
              "      <th>pcm_zcr_sma_de.1</th>\n",
              "      <th>voiceProb_sma_de</th>\n",
              "      <th>F0_sma_de</th>\n",
              "      <th>F0env_sma_de</th>\n",
              "    </tr>\n",
              "  </thead>\n",
              "  <tbody>\n",
              "    <tr>\n",
              "      <th>0</th>\n",
              "      <td>0.0</td>\n",
              "      <td>0.0</td>\n",
              "      <td>0.0</td>\n",
              "      <td>0.0</td>\n",
              "      <td>0.0</td>\n",
              "      <td>-100.0</td>\n",
              "      <td>0.001034</td>\n",
              "      <td>0.988341</td>\n",
              "      <td>0.0</td>\n",
              "      <td>0.999244</td>\n",
              "      <td>...</td>\n",
              "      <td>0.0</td>\n",
              "      <td>0.0</td>\n",
              "      <td>0.0</td>\n",
              "      <td>0.0</td>\n",
              "      <td>0.0</td>\n",
              "      <td>0.0</td>\n",
              "      <td>0.0</td>\n",
              "      <td>0.0</td>\n",
              "      <td>0.0</td>\n",
              "      <td>0.0</td>\n",
              "    </tr>\n",
              "    <tr>\n",
              "      <th>1</th>\n",
              "      <td>0.0</td>\n",
              "      <td>0.0</td>\n",
              "      <td>0.0</td>\n",
              "      <td>0.0</td>\n",
              "      <td>0.0</td>\n",
              "      <td>-100.0</td>\n",
              "      <td>0.001034</td>\n",
              "      <td>0.988341</td>\n",
              "      <td>0.0</td>\n",
              "      <td>0.999244</td>\n",
              "      <td>...</td>\n",
              "      <td>0.0</td>\n",
              "      <td>0.0</td>\n",
              "      <td>0.0</td>\n",
              "      <td>0.0</td>\n",
              "      <td>0.0</td>\n",
              "      <td>0.0</td>\n",
              "      <td>0.0</td>\n",
              "      <td>0.0</td>\n",
              "      <td>0.0</td>\n",
              "      <td>0.0</td>\n",
              "    </tr>\n",
              "    <tr>\n",
              "      <th>2</th>\n",
              "      <td>0.0</td>\n",
              "      <td>0.0</td>\n",
              "      <td>0.0</td>\n",
              "      <td>0.0</td>\n",
              "      <td>0.0</td>\n",
              "      <td>-100.0</td>\n",
              "      <td>0.001034</td>\n",
              "      <td>0.988341</td>\n",
              "      <td>0.0</td>\n",
              "      <td>0.999244</td>\n",
              "      <td>...</td>\n",
              "      <td>0.0</td>\n",
              "      <td>0.0</td>\n",
              "      <td>0.0</td>\n",
              "      <td>0.0</td>\n",
              "      <td>0.0</td>\n",
              "      <td>0.0</td>\n",
              "      <td>0.0</td>\n",
              "      <td>0.0</td>\n",
              "      <td>0.0</td>\n",
              "      <td>0.0</td>\n",
              "    </tr>\n",
              "    <tr>\n",
              "      <th>3</th>\n",
              "      <td>0.0</td>\n",
              "      <td>0.0</td>\n",
              "      <td>0.0</td>\n",
              "      <td>0.0</td>\n",
              "      <td>0.0</td>\n",
              "      <td>-100.0</td>\n",
              "      <td>0.001034</td>\n",
              "      <td>0.988341</td>\n",
              "      <td>0.0</td>\n",
              "      <td>0.999244</td>\n",
              "      <td>...</td>\n",
              "      <td>0.0</td>\n",
              "      <td>0.0</td>\n",
              "      <td>0.0</td>\n",
              "      <td>0.0</td>\n",
              "      <td>0.0</td>\n",
              "      <td>0.0</td>\n",
              "      <td>0.0</td>\n",
              "      <td>0.0</td>\n",
              "      <td>0.0</td>\n",
              "      <td>0.0</td>\n",
              "    </tr>\n",
              "    <tr>\n",
              "      <th>4</th>\n",
              "      <td>0.0</td>\n",
              "      <td>0.0</td>\n",
              "      <td>0.0</td>\n",
              "      <td>0.0</td>\n",
              "      <td>0.0</td>\n",
              "      <td>-100.0</td>\n",
              "      <td>0.001034</td>\n",
              "      <td>0.988341</td>\n",
              "      <td>0.0</td>\n",
              "      <td>0.999244</td>\n",
              "      <td>...</td>\n",
              "      <td>0.0</td>\n",
              "      <td>0.0</td>\n",
              "      <td>0.0</td>\n",
              "      <td>0.0</td>\n",
              "      <td>0.0</td>\n",
              "      <td>0.0</td>\n",
              "      <td>0.0</td>\n",
              "      <td>0.0</td>\n",
              "      <td>0.0</td>\n",
              "      <td>0.0</td>\n",
              "    </tr>\n",
              "  </tbody>\n",
              "</table>\n",
              "<p>5 rows × 207 columns</p>\n",
              "</div>\n",
              "    <div class=\"colab-df-buttons\">\n",
              "\n",
              "  <div class=\"colab-df-container\">\n",
              "    <button class=\"colab-df-convert\" onclick=\"convertToInteractive('df-2a9ee20e-737f-416e-97c9-cc0f872a8163')\"\n",
              "            title=\"Convert this dataframe to an interactive table.\"\n",
              "            style=\"display:none;\">\n",
              "\n",
              "  <svg xmlns=\"http://www.w3.org/2000/svg\" height=\"24px\" viewBox=\"0 -960 960 960\">\n",
              "    <path d=\"M120-120v-720h720v720H120Zm60-500h600v-160H180v160Zm220 220h160v-160H400v160Zm0 220h160v-160H400v160ZM180-400h160v-160H180v160Zm440 0h160v-160H620v160ZM180-180h160v-160H180v160Zm440 0h160v-160H620v160Z\"/>\n",
              "  </svg>\n",
              "    </button>\n",
              "\n",
              "  <style>\n",
              "    .colab-df-container {\n",
              "      display:flex;\n",
              "      gap: 12px;\n",
              "    }\n",
              "\n",
              "    .colab-df-convert {\n",
              "      background-color: #E8F0FE;\n",
              "      border: none;\n",
              "      border-radius: 50%;\n",
              "      cursor: pointer;\n",
              "      display: none;\n",
              "      fill: #1967D2;\n",
              "      height: 32px;\n",
              "      padding: 0 0 0 0;\n",
              "      width: 32px;\n",
              "    }\n",
              "\n",
              "    .colab-df-convert:hover {\n",
              "      background-color: #E2EBFA;\n",
              "      box-shadow: 0px 1px 2px rgba(60, 64, 67, 0.3), 0px 1px 3px 1px rgba(60, 64, 67, 0.15);\n",
              "      fill: #174EA6;\n",
              "    }\n",
              "\n",
              "    .colab-df-buttons div {\n",
              "      margin-bottom: 4px;\n",
              "    }\n",
              "\n",
              "    [theme=dark] .colab-df-convert {\n",
              "      background-color: #3B4455;\n",
              "      fill: #D2E3FC;\n",
              "    }\n",
              "\n",
              "    [theme=dark] .colab-df-convert:hover {\n",
              "      background-color: #434B5C;\n",
              "      box-shadow: 0px 1px 3px 1px rgba(0, 0, 0, 0.15);\n",
              "      filter: drop-shadow(0px 1px 2px rgba(0, 0, 0, 0.3));\n",
              "      fill: #FFFFFF;\n",
              "    }\n",
              "  </style>\n",
              "\n",
              "    <script>\n",
              "      const buttonEl =\n",
              "        document.querySelector('#df-2a9ee20e-737f-416e-97c9-cc0f872a8163 button.colab-df-convert');\n",
              "      buttonEl.style.display =\n",
              "        google.colab.kernel.accessAllowed ? 'block' : 'none';\n",
              "\n",
              "      async function convertToInteractive(key) {\n",
              "        const element = document.querySelector('#df-2a9ee20e-737f-416e-97c9-cc0f872a8163');\n",
              "        const dataTable =\n",
              "          await google.colab.kernel.invokeFunction('convertToInteractive',\n",
              "                                                    [key], {});\n",
              "        if (!dataTable) return;\n",
              "\n",
              "        const docLinkHtml = 'Like what you see? Visit the ' +\n",
              "          '<a target=\"_blank\" href=https://colab.research.google.com/notebooks/data_table.ipynb>data table notebook</a>'\n",
              "          + ' to learn more about interactive tables.';\n",
              "        element.innerHTML = '';\n",
              "        dataTable['output_type'] = 'display_data';\n",
              "        await google.colab.output.renderOutput(dataTable, element);\n",
              "        const docLink = document.createElement('div');\n",
              "        docLink.innerHTML = docLinkHtml;\n",
              "        element.appendChild(docLink);\n",
              "      }\n",
              "    </script>\n",
              "  </div>\n",
              "\n",
              "\n",
              "<div id=\"df-ea7b89ef-4926-4a03-b0e7-7538d484ab16\">\n",
              "  <button class=\"colab-df-quickchart\" onclick=\"quickchart('df-ea7b89ef-4926-4a03-b0e7-7538d484ab16')\"\n",
              "            title=\"Suggest charts\"\n",
              "            style=\"display:none;\">\n",
              "\n",
              "<svg xmlns=\"http://www.w3.org/2000/svg\" height=\"24px\"viewBox=\"0 0 24 24\"\n",
              "     width=\"24px\">\n",
              "    <g>\n",
              "        <path d=\"M19 3H5c-1.1 0-2 .9-2 2v14c0 1.1.9 2 2 2h14c1.1 0 2-.9 2-2V5c0-1.1-.9-2-2-2zM9 17H7v-7h2v7zm4 0h-2V7h2v10zm4 0h-2v-4h2v4z\"/>\n",
              "    </g>\n",
              "</svg>\n",
              "  </button>\n",
              "\n",
              "<style>\n",
              "  .colab-df-quickchart {\n",
              "      --bg-color: #E8F0FE;\n",
              "      --fill-color: #1967D2;\n",
              "      --hover-bg-color: #E2EBFA;\n",
              "      --hover-fill-color: #174EA6;\n",
              "      --disabled-fill-color: #AAA;\n",
              "      --disabled-bg-color: #DDD;\n",
              "  }\n",
              "\n",
              "  [theme=dark] .colab-df-quickchart {\n",
              "      --bg-color: #3B4455;\n",
              "      --fill-color: #D2E3FC;\n",
              "      --hover-bg-color: #434B5C;\n",
              "      --hover-fill-color: #FFFFFF;\n",
              "      --disabled-bg-color: #3B4455;\n",
              "      --disabled-fill-color: #666;\n",
              "  }\n",
              "\n",
              "  .colab-df-quickchart {\n",
              "    background-color: var(--bg-color);\n",
              "    border: none;\n",
              "    border-radius: 50%;\n",
              "    cursor: pointer;\n",
              "    display: none;\n",
              "    fill: var(--fill-color);\n",
              "    height: 32px;\n",
              "    padding: 0;\n",
              "    width: 32px;\n",
              "  }\n",
              "\n",
              "  .colab-df-quickchart:hover {\n",
              "    background-color: var(--hover-bg-color);\n",
              "    box-shadow: 0 1px 2px rgba(60, 64, 67, 0.3), 0 1px 3px 1px rgba(60, 64, 67, 0.15);\n",
              "    fill: var(--button-hover-fill-color);\n",
              "  }\n",
              "\n",
              "  .colab-df-quickchart-complete:disabled,\n",
              "  .colab-df-quickchart-complete:disabled:hover {\n",
              "    background-color: var(--disabled-bg-color);\n",
              "    fill: var(--disabled-fill-color);\n",
              "    box-shadow: none;\n",
              "  }\n",
              "\n",
              "  .colab-df-spinner {\n",
              "    border: 2px solid var(--fill-color);\n",
              "    border-color: transparent;\n",
              "    border-bottom-color: var(--fill-color);\n",
              "    animation:\n",
              "      spin 1s steps(1) infinite;\n",
              "  }\n",
              "\n",
              "  @keyframes spin {\n",
              "    0% {\n",
              "      border-color: transparent;\n",
              "      border-bottom-color: var(--fill-color);\n",
              "      border-left-color: var(--fill-color);\n",
              "    }\n",
              "    20% {\n",
              "      border-color: transparent;\n",
              "      border-left-color: var(--fill-color);\n",
              "      border-top-color: var(--fill-color);\n",
              "    }\n",
              "    30% {\n",
              "      border-color: transparent;\n",
              "      border-left-color: var(--fill-color);\n",
              "      border-top-color: var(--fill-color);\n",
              "      border-right-color: var(--fill-color);\n",
              "    }\n",
              "    40% {\n",
              "      border-color: transparent;\n",
              "      border-right-color: var(--fill-color);\n",
              "      border-top-color: var(--fill-color);\n",
              "    }\n",
              "    60% {\n",
              "      border-color: transparent;\n",
              "      border-right-color: var(--fill-color);\n",
              "    }\n",
              "    80% {\n",
              "      border-color: transparent;\n",
              "      border-right-color: var(--fill-color);\n",
              "      border-bottom-color: var(--fill-color);\n",
              "    }\n",
              "    90% {\n",
              "      border-color: transparent;\n",
              "      border-bottom-color: var(--fill-color);\n",
              "    }\n",
              "  }\n",
              "</style>\n",
              "\n",
              "  <script>\n",
              "    async function quickchart(key) {\n",
              "      const quickchartButtonEl =\n",
              "        document.querySelector('#' + key + ' button');\n",
              "      quickchartButtonEl.disabled = true;  // To prevent multiple clicks.\n",
              "      quickchartButtonEl.classList.add('colab-df-spinner');\n",
              "      try {\n",
              "        const charts = await google.colab.kernel.invokeFunction(\n",
              "            'suggestCharts', [key], {});\n",
              "      } catch (error) {\n",
              "        console.error('Error during call to suggestCharts:', error);\n",
              "      }\n",
              "      quickchartButtonEl.classList.remove('colab-df-spinner');\n",
              "      quickchartButtonEl.classList.add('colab-df-quickchart-complete');\n",
              "    }\n",
              "    (() => {\n",
              "      let quickchartButtonEl =\n",
              "        document.querySelector('#df-ea7b89ef-4926-4a03-b0e7-7538d484ab16 button');\n",
              "      quickchartButtonEl.style.display =\n",
              "        google.colab.kernel.accessAllowed ? 'block' : 'none';\n",
              "    })();\n",
              "  </script>\n",
              "</div>\n",
              "    </div>\n",
              "  </div>\n"
            ]
          },
          "metadata": {},
          "execution_count": 139
        }
      ]
    },
    {
      "cell_type": "code",
      "source": [
        "acousticFeatsDF.shape"
      ],
      "metadata": {
        "colab": {
          "base_uri": "https://localhost:8080/"
        },
        "outputId": "512c497e-4355-4837-9c09-083445ca0b08",
        "id": "vAuxgG4rdQ6x"
      },
      "execution_count": null,
      "outputs": [
        {
          "output_type": "execute_result",
          "data": {
            "text/plain": [
              "(1101, 207)"
            ]
          },
          "metadata": {},
          "execution_count": 140
        }
      ]
    },
    {
      "cell_type": "code",
      "source": [
        "powerDF = powerDF.iloc[:acousticFeatsDF.shape[0]]\n",
        "powerDF.shape"
      ],
      "metadata": {
        "colab": {
          "base_uri": "https://localhost:8080/"
        },
        "outputId": "bd456f93-1ef8-4f73-adb7-c01633418fa1",
        "id": "zWLpICsEdQ6x"
      },
      "execution_count": null,
      "outputs": [
        {
          "output_type": "execute_result",
          "data": {
            "text/plain": [
              "(1101, 4)"
            ]
          },
          "metadata": {},
          "execution_count": 141
        }
      ]
    },
    {
      "cell_type": "code",
      "source": [
        "powerAllLLDdf = pd.concat([powerDF,acousticFeatsDF],axis=1)\n",
        "powerAllLLDdf.shape"
      ],
      "metadata": {
        "colab": {
          "base_uri": "https://localhost:8080/"
        },
        "outputId": "d320eca4-7055-4134-906a-4d293cd765e2",
        "id": "gon-1aNIdQ6y"
      },
      "execution_count": null,
      "outputs": [
        {
          "output_type": "execute_result",
          "data": {
            "text/plain": [
              "(1101, 211)"
            ]
          },
          "metadata": {},
          "execution_count": 142
        }
      ]
    },
    {
      "cell_type": "markdown",
      "source": [
        "Website to compute p value from r value and n: http://vassarstats.net/tabs_r.html"
      ],
      "metadata": {
        "id": "tqVcC6VldQ6y"
      }
    },
    {
      "cell_type": "markdown",
      "source": [],
      "metadata": {
        "id": "F7_v0N0udQ6z"
      }
    },
    {
      "cell_type": "markdown",
      "source": [
        "Need r >= 0.077 for p < 0.01\n",
        "Need r >= 0.059 for p < 0.05"
      ],
      "metadata": {
        "id": "dMAE7rfedQ6z"
      }
    },
    {
      "cell_type": "code",
      "source": [
        "rValFor99ConfidenceLevel = 0.078\n",
        "rValFor95ConfidenceLevel = 0.0591"
      ],
      "metadata": {
        "id": "nFpcOtMGdQ6z"
      },
      "execution_count": null,
      "outputs": []
    },
    {
      "cell_type": "code",
      "source": [],
      "metadata": {
        "id": "HPrVVsLPdYN1"
      },
      "execution_count": null,
      "outputs": []
    },
    {
      "cell_type": "code",
      "source": [],
      "metadata": {
        "id": "a8AF2-YnO6B8"
      },
      "execution_count": null,
      "outputs": []
    },
    {
      "cell_type": "markdown",
      "source": [
        "##random noise t-test (10)"
      ],
      "metadata": {
        "id": "CGaLKqdLO6Ke"
      }
    },
    {
      "cell_type": "code",
      "source": [
        "import numpy as np"
      ],
      "metadata": {
        "id": "NIVTvsgKO6Kf"
      },
      "execution_count": null,
      "outputs": []
    },
    {
      "cell_type": "code",
      "source": [
        "# Set a seed for reproducibility (optional)\n",
        "np.random.seed(33)\n",
        "\n",
        "# Mean and standard deviation of the Gaussian distribution\n",
        "mean_value = 0\n",
        "std_dev = 1\n",
        "\n",
        "# Generate a random element numpy array from a Gaussian distribution\n",
        "random_array = np.random.normal(mean_value, std_dev, powerAllLLDdf.shape[0])\n"
      ],
      "metadata": {
        "id": "rVPgQl9RO6Kf"
      },
      "execution_count": null,
      "outputs": []
    },
    {
      "cell_type": "code",
      "source": [],
      "metadata": {
        "id": "GZvdjwzJO6Kf"
      },
      "execution_count": null,
      "outputs": []
    },
    {
      "cell_type": "code",
      "source": [
        "powerAllLLDdf['Noise'] = random_array"
      ],
      "metadata": {
        "id": "yoRcev3oO6Kg"
      },
      "execution_count": null,
      "outputs": []
    },
    {
      "cell_type": "code",
      "source": [
        "powerAllLLDdf.corr()['Noise'][4:-1]#.abs()"
      ],
      "metadata": {
        "colab": {
          "base_uri": "https://localhost:8080/"
        },
        "outputId": "435163de-64dc-410d-9194-746dd18282be",
        "id": "QACOocerO6Kg"
      },
      "execution_count": null,
      "outputs": [
        {
          "output_type": "execute_result",
          "data": {
            "text/plain": [
              "F0final_sma                  0.027509\n",
              "voicingFinalUnclipped_sma    0.012343\n",
              "jitterLocal_sma             -0.012747\n",
              "jitterDDP_sma               -0.007248\n",
              "shimmerLocal_sma             0.002880\n",
              "                               ...   \n",
              "lspFreq_sma_de[7]           -0.016493\n",
              "pcm_zcr_sma_de.1            -0.013941\n",
              "voiceProb_sma_de             0.024742\n",
              "F0_sma_de                    0.046550\n",
              "F0env_sma_de                 0.019065\n",
              "Name: Noise, Length: 207, dtype: float64"
            ]
          },
          "metadata": {},
          "execution_count": 119
        }
      ]
    },
    {
      "cell_type": "code",
      "source": [
        "correlations_Noise = powerAllLLDdf.corr()['Noise'][4:-1]#.abs()"
      ],
      "metadata": {
        "id": "0hIbGt1xO6Kg"
      },
      "execution_count": null,
      "outputs": []
    },
    {
      "cell_type": "code",
      "source": [
        "positiveCorrelationCondition = correlations_Noise > rValFor95ConfidenceLevel\n",
        "negativeCorrelationCondition = correlations_Noise < -1* rValFor95ConfidenceLevel\n",
        "noiseCorrelates = correlations_Noise[ positiveCorrelationCondition | negativeCorrelationCondition]\n",
        "noiseCorrelates.head = 'r'\n",
        "\n",
        "print(\"# of acoustic features where p < 0.05:\", len(noiseCorrelates))\n",
        "noiseCorrelates.nlargest(len(noiseCorrelates)) # for sorting"
      ],
      "metadata": {
        "colab": {
          "base_uri": "https://localhost:8080/"
        },
        "outputId": "d3a49cda-327a-4eb9-d4e3-a7920084d82e",
        "id": "yqWaOQvSO6Kg"
      },
      "execution_count": null,
      "outputs": [
        {
          "output_type": "stream",
          "name": "stdout",
          "text": [
            "# of acoustic features where p < 0.05: 10\n"
          ]
        },
        {
          "output_type": "execute_result",
          "data": {
            "text/plain": [
              "audSpec_Rfilt_sma[16]              0.078404\n",
              "audSpec_Rfilt_sma[15]              0.076071\n",
              "audSpec_Rfilt_sma[17]              0.072213\n",
              "audSpec_Rfilt_sma[14]              0.071498\n",
              "audSpec_Rfilt_sma[13]              0.067982\n",
              "pcm_fftMag_spectralKurtosis_sma    0.062918\n",
              "pcm_fftMag_fband1000-4000_sma      0.062300\n",
              "F1frequency_sma3nz                 0.062186\n",
              "audspecRasta_lengthL1norm_sma      0.061742\n",
              "audSpec_Rfilt_sma[6]               0.061595\n",
              "Name: Noise, dtype: float64"
            ]
          },
          "metadata": {},
          "execution_count": 121
        }
      ]
    },
    {
      "cell_type": "markdown",
      "source": [
        "##Right vLPFC"
      ],
      "metadata": {
        "id": "dkAbDM_IdYT1"
      }
    },
    {
      "cell_type": "code",
      "source": [
        "correlations_Right_vlPFC = powerAllLLDdf.corr()['Power: Right vlPFC'][4:]#.abs()"
      ],
      "metadata": {
        "id": "q1ZythcsdYT1"
      },
      "execution_count": null,
      "outputs": []
    },
    {
      "cell_type": "code",
      "source": [
        "positiveCorrelationCondition = correlations_Right_vlPFC > rValFor95ConfidenceLevel\n",
        "negativeCorrelationCondition = correlations_Right_vlPFC < -1* rValFor95ConfidenceLevel\n",
        "AcousticCorrelates95_Right_vlPFC = correlations_Right_vlPFC[ positiveCorrelationCondition | negativeCorrelationCondition]\n",
        "AcousticCorrelates95_Right_vlPFC.head = 'r'\n",
        "\n",
        "print(\"# of acoustic features where p < 0.05:\", len(AcousticCorrelates95_Right_vlPFC))\n",
        "AcousticCorrelates95_Right_vlPFC.nlargest(len(AcousticCorrelates95_Right_vlPFC)) # for sorting"
      ],
      "metadata": {
        "colab": {
          "base_uri": "https://localhost:8080/"
        },
        "outputId": "401bd3da-4ae5-4b5a-f14d-cea65011676b",
        "id": "qZ8AQBkJdYT2"
      },
      "execution_count": null,
      "outputs": [
        {
          "output_type": "stream",
          "name": "stdout",
          "text": [
            "# of acoustic features where p < 0.05: 40\n"
          ]
        },
        {
          "output_type": "execute_result",
          "data": {
            "text/plain": [
              "jitterDDP_sma                      0.085909\n",
              "shimmerLocal_sma                   0.079055\n",
              "jitterLocal_sma3nz                 0.078684\n",
              "shimmerLocaldB_sma3nz              0.078375\n",
              "jitterLocal_sma                    0.076038\n",
              "F0_sma                             0.074130\n",
              "F2bandwidth_sma3nz                 0.074070\n",
              "pcm_fftMag_spectralSkewness_sma    0.072779\n",
              "F2amplitudeLogRelF0_sma3nz         0.071586\n",
              "logHNR_sma                         0.071481\n",
              "F1amplitudeLogRelF0_sma3nz         0.070749\n",
              "F3amplitudeLogRelF0_sma3nz         0.070367\n",
              "hammarbergIndex_sma3               0.068822\n",
              "mfcc_sma[1]                        0.067843\n",
              "mfcc1_sma3                         0.067843\n",
              "F0semitoneFrom27.5Hz_sma3nz        0.067286\n",
              "F0final_sma                        0.067221\n",
              "audSpec_Rfilt_sma[10]              0.067129\n",
              "F3bandwidth_sma3nz                 0.066710\n",
              "F1frequency_sma3nz                 0.066417\n",
              "pcm_fftMag_spectralKurtosis_sma    0.065957\n",
              "F1bandwidth_sma3nz                 0.065787\n",
              "voicingFinalUnclipped_sma          0.065145\n",
              "audSpec_Rfilt_sma[18]              0.064637\n",
              "audSpec_Rfilt_sma[9]               0.064164\n",
              "audSpec_Rfilt_sma[17]              0.062953\n",
              "F2frequency_sma3nz                 0.062631\n",
              "voiceProb_sma                      0.062575\n",
              "F3frequency_sma3nz                 0.062372\n",
              "mfcc_sma[3]                        0.061425\n",
              "mfcc3_sma3                         0.061425\n",
              "audSpec_Rfilt_sma[14]              0.060198\n",
              "slope0-500_sma3                   -0.061506\n",
              "alphaRatio_sma3                   -0.062137\n",
              "pcm_zcr_sma.1                     -0.064527\n",
              "pcm_zcr_sma                       -0.064801\n",
              "lspFreq_sma[0]                    -0.065070\n",
              "lspFreq_sma[1]                    -0.066076\n",
              "mfcc_sma[7].1                     -0.093998\n",
              "mfcc_sma[7]                       -0.094907\n",
              "Name: Power: Right vlPFC, dtype: float64"
            ]
          },
          "metadata": {},
          "execution_count": 154
        }
      ]
    },
    {
      "cell_type": "code",
      "source": [
        "AcousticCorrelates95_Right_vlPFC.nlargest(len(AcousticCorrelates95_Right_vlPFC)).to_csv(date + '_noModeratorSpeech_AcousticCorrelates95_Right_vlPFC.csv',header=['r'],index_label='Acoustic Feature')"
      ],
      "metadata": {
        "id": "ZeSfmUrcdYT2"
      },
      "execution_count": null,
      "outputs": []
    },
    {
      "cell_type": "code",
      "source": [
        "print(AcousticCorrelates95_Right_vlPFC.index.tolist())"
      ],
      "metadata": {
        "colab": {
          "base_uri": "https://localhost:8080/"
        },
        "outputId": "da256b65-dfb0-4e7c-bd61-2b0ec21ae430",
        "id": "ppio2_0ZdYT2"
      },
      "execution_count": null,
      "outputs": [
        {
          "output_type": "stream",
          "name": "stdout",
          "text": [
            "['F0final_sma', 'voicingFinalUnclipped_sma', 'jitterLocal_sma', 'jitterDDP_sma', 'shimmerLocal_sma', 'logHNR_sma', 'pcm_zcr_sma', 'audSpec_Rfilt_sma[9]', 'audSpec_Rfilt_sma[10]', 'audSpec_Rfilt_sma[14]', 'audSpec_Rfilt_sma[17]', 'audSpec_Rfilt_sma[18]', 'pcm_fftMag_spectralSkewness_sma', 'pcm_fftMag_spectralKurtosis_sma', 'mfcc_sma[1]', 'mfcc_sma[3]', 'mfcc_sma[7]', 'alphaRatio_sma3', 'hammarbergIndex_sma3', 'slope0-500_sma3', 'mfcc1_sma3', 'mfcc3_sma3', 'F0semitoneFrom27.5Hz_sma3nz', 'jitterLocal_sma3nz', 'shimmerLocaldB_sma3nz', 'F1frequency_sma3nz', 'F1bandwidth_sma3nz', 'F1amplitudeLogRelF0_sma3nz', 'F2frequency_sma3nz', 'F2bandwidth_sma3nz', 'F2amplitudeLogRelF0_sma3nz', 'F3frequency_sma3nz', 'F3bandwidth_sma3nz', 'F3amplitudeLogRelF0_sma3nz', 'mfcc_sma[7].1', 'lspFreq_sma[0]', 'lspFreq_sma[1]', 'pcm_zcr_sma.1', 'voiceProb_sma', 'F0_sma']\n"
          ]
        }
      ]
    },
    {
      "cell_type": "code",
      "source": [],
      "metadata": {
        "id": "RSN_Fh6DdYT2"
      },
      "execution_count": null,
      "outputs": []
    },
    {
      "cell_type": "markdown",
      "source": [
        "##Left vLPFC"
      ],
      "metadata": {
        "id": "uHv0JoGjdYT3"
      }
    },
    {
      "cell_type": "code",
      "source": [
        "correlations_Left_vlPFC = powerAllLLDdf.corr()['Power: Left vlPFC'][4:]#.abs()\n",
        "correlations_Left_vlPFC"
      ],
      "metadata": {
        "colab": {
          "base_uri": "https://localhost:8080/"
        },
        "outputId": "5f7215bd-f46b-4142-e682-4704ca27c2f7",
        "id": "Sdxg8UiEdYT3"
      },
      "execution_count": null,
      "outputs": [
        {
          "output_type": "execute_result",
          "data": {
            "text/plain": [
              "F0final_sma                  0.110506\n",
              "voicingFinalUnclipped_sma    0.113462\n",
              "jitterLocal_sma              0.028394\n",
              "jitterDDP_sma                0.031676\n",
              "shimmerLocal_sma             0.082948\n",
              "                               ...   \n",
              "lspFreq_sma_de[7]            0.002062\n",
              "pcm_zcr_sma_de.1             0.008610\n",
              "voiceProb_sma_de            -0.009658\n",
              "F0_sma_de                   -0.025948\n",
              "F0env_sma_de                -0.038460\n",
              "Name: Power: Left vlPFC, Length: 207, dtype: float64"
            ]
          },
          "metadata": {},
          "execution_count": 158
        }
      ]
    },
    {
      "cell_type": "code",
      "source": [
        "positiveCorrelationCondition = correlations_Left_vlPFC > rValFor95ConfidenceLevel\n",
        "negativeCorrelationCondition = correlations_Left_vlPFC < -1* rValFor95ConfidenceLevel\n",
        "AcousticCorrelates95_Left_vlPFC = correlations_Left_vlPFC[ positiveCorrelationCondition | negativeCorrelationCondition]\n",
        "AcousticCorrelates95_Left_vlPFC.head = 'r'\n",
        "\n",
        "print(\"# of acoustic features where p < 0.05:\", len(AcousticCorrelates95_Left_vlPFC))\n",
        "AcousticCorrelates95_Left_vlPFC.nlargest(len(AcousticCorrelates95_Left_vlPFC)) # for sorting"
      ],
      "metadata": {
        "colab": {
          "base_uri": "https://localhost:8080/"
        },
        "outputId": "fe37df89-a208-494f-8282-a35fc522bbbf",
        "id": "5gxS9BaldYT3"
      },
      "execution_count": null,
      "outputs": [
        {
          "output_type": "stream",
          "name": "stdout",
          "text": [
            "# of acoustic features where p < 0.05: 88\n"
          ]
        },
        {
          "output_type": "execute_result",
          "data": {
            "text/plain": [
              "pcm_fftMag_spectralRollOff50.0_sma    0.153284\n",
              "pcm_fftMag_psySharpness_sma           0.151970\n",
              "pcm_fftMag_spectralRollOff90.0_sma    0.151965\n",
              "pcm_fftMag_spectralCentroid_sma       0.150623\n",
              "pcm_fftMag_spectralRollOff75.0_sma    0.150435\n",
              "                                        ...   \n",
              "lspFreq_sma[6]                       -0.146092\n",
              "lspFreq_sma[4]                       -0.147611\n",
              "lspFreq_sma[7]                       -0.151307\n",
              "F0env_sma                            -0.155317\n",
              "lspFreq_sma[5]                       -0.155372\n",
              "Name: Power: Left vlPFC, Length: 88, dtype: float64"
            ]
          },
          "metadata": {},
          "execution_count": 159
        }
      ]
    },
    {
      "cell_type": "code",
      "source": [
        "AcousticCorrelates95_Left_vlPFC.nlargest(len(AcousticCorrelates95_Left_vlPFC)).to_csv(date + '_noModeratorSpeech_AcousticCorrelates95_Left_vlPFC.csv',header=['r'],index_label='Acoustic Feature')"
      ],
      "metadata": {
        "id": "BVbNPor1dYT4"
      },
      "execution_count": null,
      "outputs": []
    },
    {
      "cell_type": "code",
      "source": [
        "print(AcousticCorrelates95_Left_vlPFC.index.tolist())"
      ],
      "metadata": {
        "colab": {
          "base_uri": "https://localhost:8080/"
        },
        "outputId": "5f388620-e214-45ff-8e60-7d7c4be5c743",
        "id": "BvoTJb4UdYT4"
      },
      "execution_count": null,
      "outputs": [
        {
          "output_type": "stream",
          "name": "stdout",
          "text": [
            "['F0final_sma', 'voicingFinalUnclipped_sma', 'shimmerLocal_sma', 'logHNR_sma', 'audspec_lengthL1norm_sma', 'pcm_RMSenergy_sma', 'pcm_zcr_sma', 'audSpec_Rfilt_sma[20]', 'audSpec_Rfilt_sma[21]', 'audSpec_Rfilt_sma[23]', 'audSpec_Rfilt_sma[24]', 'audSpec_Rfilt_sma[25]', 'pcm_fftMag_fband250-650_sma', 'pcm_fftMag_fband1000-4000_sma', 'pcm_fftMag_spectralRollOff25.0_sma', 'pcm_fftMag_spectralRollOff50.0_sma', 'pcm_fftMag_spectralRollOff75.0_sma', 'pcm_fftMag_spectralRollOff90.0_sma', 'pcm_fftMag_spectralFlux_sma', 'pcm_fftMag_spectralCentroid_sma', 'pcm_fftMag_spectralEntropy_sma', 'pcm_fftMag_spectralVariance_sma', 'pcm_fftMag_spectralSlope_sma', 'pcm_fftMag_psySharpness_sma', 'pcm_fftMag_spectralHarmonicity_sma', 'mfcc_sma[1]', 'mfcc_sma[3]', 'mfcc_sma[5]', 'mfcc_sma[6]', 'mfcc_sma[7]', 'mfcc_sma[8]', 'mfcc_sma[9]', 'mfcc_sma[11]', 'mfcc_sma[12]', 'mfcc_sma[13]', 'Loudness_sma3', 'alphaRatio_sma3', 'hammarbergIndex_sma3', 'slope0-500_sma3', 'slope500-1500_sma3', 'spectralFlux_sma3', 'mfcc1_sma3', 'mfcc3_sma3', 'F0semitoneFrom27.5Hz_sma3nz', 'shimmerLocaldB_sma3nz', 'HNRdBACF_sma3nz', 'logRelF0-H1-A3_sma3nz', 'F1frequency_sma3nz', 'F1bandwidth_sma3nz', 'F1amplitudeLogRelF0_sma3nz', 'F2frequency_sma3nz', 'F2bandwidth_sma3nz', 'F2amplitudeLogRelF0_sma3nz', 'F3frequency_sma3nz', 'F3bandwidth_sma3nz', 'F3amplitudeLogRelF0_sma3nz', 'pcm_intensity_sma', 'pcm_loudness_sma', 'mfcc_sma[1].1', 'mfcc_sma[3].1', 'mfcc_sma[5].1', 'mfcc_sma[6].1', 'mfcc_sma[7].1', 'mfcc_sma[8].1', 'mfcc_sma[9].1', 'mfcc_sma[12].1', 'lspFreq_sma[1]', 'lspFreq_sma[2]', 'lspFreq_sma[3]', 'lspFreq_sma[4]', 'lspFreq_sma[5]', 'lspFreq_sma[6]', 'lspFreq_sma[7]', 'pcm_zcr_sma.1', 'voiceProb_sma', 'F0env_sma', 'F0final_sma_de', 'jitterLocal_sma_de', 'jitterDDP_sma_de', 'logHNR_sma_de', 'pcm_fftMag_fband250-650_sma_de', 'pcm_fftMag_fband1000-4000_sma_de', 'pcm_fftMag_spectralSkewness_sma_de', 'pcm_fftMag_spectralKurtosis_sma_de', 'pcm_fftMag_spectralSlope_sma_de', 'pcm_fftMag_spectralHarmonicity_sma_de', 'mfcc_sma_de[11]', 'mfcc_sma_de[11].1']\n"
          ]
        }
      ]
    },
    {
      "cell_type": "code",
      "source": [],
      "metadata": {
        "id": "70WXMesfdYT4"
      },
      "execution_count": null,
      "outputs": []
    },
    {
      "cell_type": "markdown",
      "source": [
        "##Right OFC"
      ],
      "metadata": {
        "id": "LtE__6LbdYT4"
      }
    },
    {
      "cell_type": "code",
      "source": [
        "correlations_Right_OFC = powerAllLLDdf.corr()['Power: Right OFC'][4:]#.abs()"
      ],
      "metadata": {
        "id": "wySfHVGNdYT5"
      },
      "execution_count": null,
      "outputs": []
    },
    {
      "cell_type": "code",
      "source": [
        "positiveCorrelationCondition = correlations_Right_OFC > rValFor95ConfidenceLevel\n",
        "negativeCorrelationCondition = correlations_Right_OFC < -1* rValFor95ConfidenceLevel\n",
        "AcousticCorrelates95_Right_OFC = correlations_Right_OFC[ positiveCorrelationCondition | negativeCorrelationCondition]\n",
        "AcousticCorrelates95_Right_OFC.head = 'r'\n",
        "\n",
        "print(\"# of acoustic features where p < 0.05:\", len(AcousticCorrelates95_Right_OFC))\n",
        "AcousticCorrelates95_Right_OFC.nlargest(len(AcousticCorrelates95_Right_OFC)) # for sorting"
      ],
      "metadata": {
        "colab": {
          "base_uri": "https://localhost:8080/"
        },
        "outputId": "d42c482e-6569-4f16-ab9b-1f5232be3027",
        "id": "4LhWhKWydYT5"
      },
      "execution_count": null,
      "outputs": [
        {
          "output_type": "stream",
          "name": "stdout",
          "text": [
            "# of acoustic features where p < 0.05: 8\n"
          ]
        },
        {
          "output_type": "execute_result",
          "data": {
            "text/plain": [
              "pcm_fftMag_spectralVariance_sma    0.065819\n",
              "audSpec_Rfilt_sma[7]               0.060958\n",
              "mfcc_sma_de[13]                    0.060899\n",
              "mfcc_sma_de[3]                     0.059586\n",
              "mfcc_sma_de[6].1                  -0.075108\n",
              "mfcc_sma_de[6]                    -0.075324\n",
              "mfcc_sma_de[7].1                  -0.097232\n",
              "mfcc_sma_de[7]                    -0.104380\n",
              "Name: Power: Right OFC, dtype: float64"
            ]
          },
          "metadata": {},
          "execution_count": 163
        }
      ]
    },
    {
      "cell_type": "code",
      "source": [
        "AcousticCorrelates95_Right_OFC.nlargest(len(AcousticCorrelates95_Right_OFC)).to_csv(date + '_noModeratorSpeech_AcousticCorrelates95_Right_OFC.csv',header=['r'],index_label='Acoustic Feature')"
      ],
      "metadata": {
        "id": "JKZq57n0dYT5"
      },
      "execution_count": null,
      "outputs": []
    },
    {
      "cell_type": "code",
      "source": [
        "print(AcousticCorrelates95_Right_OFC.index.tolist())"
      ],
      "metadata": {
        "colab": {
          "base_uri": "https://localhost:8080/"
        },
        "outputId": "b1687ce9-3fa9-4d94-d58f-14254b5d6921",
        "id": "DpvoY2omdYT6"
      },
      "execution_count": null,
      "outputs": [
        {
          "output_type": "stream",
          "name": "stdout",
          "text": [
            "['audSpec_Rfilt_sma[7]', 'pcm_fftMag_spectralVariance_sma', 'mfcc_sma_de[3]', 'mfcc_sma_de[6]', 'mfcc_sma_de[7]', 'mfcc_sma_de[13]', 'mfcc_sma_de[6].1', 'mfcc_sma_de[7].1']\n"
          ]
        }
      ]
    },
    {
      "cell_type": "markdown",
      "source": [
        "##Left OFC"
      ],
      "metadata": {
        "id": "6nRnLuzKdYT6"
      }
    },
    {
      "cell_type": "code",
      "source": [
        "correlations_Left_OFC = powerAllLLDdf.corr()['Power: Left OFC'][8:]#.abs()"
      ],
      "metadata": {
        "id": "YfRuqrEcdYT6"
      },
      "execution_count": null,
      "outputs": []
    },
    {
      "cell_type": "code",
      "source": [
        "positiveCorrelationCondition = correlations_Left_OFC > rValFor95ConfidenceLevel\n",
        "negativeCorrelationCondition = correlations_Left_OFC < -1* rValFor95ConfidenceLevel\n",
        "AcousticCorrelates95_Left_OFC = correlations_Left_OFC[ positiveCorrelationCondition | negativeCorrelationCondition]\n",
        "AcousticCorrelates95_Left_OFC.head = 'r'\n",
        "\n",
        "print(\"# of acoustic features where p < 0.05:\", len(AcousticCorrelates95_Left_OFC))\n",
        "AcousticCorrelates95_Left_OFC.nlargest(len(AcousticCorrelates95_Left_OFC)) # for sorting"
      ],
      "metadata": {
        "colab": {
          "base_uri": "https://localhost:8080/"
        },
        "outputId": "fd3683d7-0344-4bef-bff0-2d5a6d56b1a7",
        "id": "4leQRNuGdYT7"
      },
      "execution_count": null,
      "outputs": [
        {
          "output_type": "stream",
          "name": "stdout",
          "text": [
            "# of acoustic features where p < 0.05: 12\n"
          ]
        },
        {
          "output_type": "execute_result",
          "data": {
            "text/plain": [
              "mfcc_sma[6]                     0.076669\n",
              "mfcc_sma[6].1                   0.076366\n",
              "voicingFinalUnclipped_sma_de    0.061217\n",
              "mfcc_sma_de[3].1               -0.060426\n",
              "mfcc_sma_de[11].1              -0.061127\n",
              "mfcc_sma_de[2].1               -0.063314\n",
              "mfcc_sma[3]                    -0.068217\n",
              "mfcc3_sma3                     -0.068217\n",
              "mfcc_sma[3].1                  -0.071831\n",
              "mfcc_sma[4].1                  -0.072390\n",
              "mfcc_sma[4]                    -0.078029\n",
              "mfcc4_sma3                     -0.078029\n",
              "Name: Power: Left OFC, dtype: float64"
            ]
          },
          "metadata": {},
          "execution_count": 167
        }
      ]
    },
    {
      "cell_type": "code",
      "source": [
        "AcousticCorrelates95_Left_OFC.nlargest(len(AcousticCorrelates95_Left_OFC)).to_csv(date + '_noModeratorSpeech_AcousticCorrelates95_Left_OFC.csv',header=['r'],index_label='Acoustic Feature')"
      ],
      "metadata": {
        "id": "n5Nmy1u_dYT7"
      },
      "execution_count": null,
      "outputs": []
    },
    {
      "cell_type": "code",
      "source": [
        "print(AcousticCorrelates95_Left_OFC.index.tolist())"
      ],
      "metadata": {
        "colab": {
          "base_uri": "https://localhost:8080/"
        },
        "outputId": "ba8899c5-3f49-4383-bff8-12ccf6d05fa0",
        "id": "QTo3bj3qdYT7"
      },
      "execution_count": null,
      "outputs": [
        {
          "output_type": "stream",
          "name": "stdout",
          "text": [
            "['mfcc_sma[3]', 'mfcc_sma[4]', 'mfcc_sma[6]', 'mfcc3_sma3', 'mfcc4_sma3', 'mfcc_sma[3].1', 'mfcc_sma[4].1', 'mfcc_sma[6].1', 'voicingFinalUnclipped_sma_de', 'mfcc_sma_de[2].1', 'mfcc_sma_de[3].1', 'mfcc_sma_de[11].1']\n"
          ]
        }
      ]
    },
    {
      "cell_type": "markdown",
      "source": [],
      "metadata": {
        "id": "5x22M7kfdYT7"
      }
    },
    {
      "cell_type": "markdown",
      "source": [
        "#Feb 27 Experiment 1 (waiting for textgrids)"
      ],
      "metadata": {
        "id": "Sqacj9-KXPCX"
      }
    },
    {
      "cell_type": "markdown",
      "source": [
        "##Setup"
      ],
      "metadata": {
        "id": "wg6wJ_Nfdgpa"
      }
    },
    {
      "cell_type": "code",
      "source": [
        "date = '2023-02-27_Experiment1_'"
      ],
      "metadata": {
        "id": "4HSenFCOdjcJ"
      },
      "execution_count": null,
      "outputs": []
    },
    {
      "cell_type": "code",
      "source": [
        "powerAmplitudeDF = pd.read_csv('2023-02-27-Experiment1-Power-Amplitude.csv')\n",
        "del powerAmplitudeDF['Unnamed: 0']\n",
        "powerAmplitudeDF.head()"
      ],
      "metadata": {
        "colab": {
          "base_uri": "https://localhost:8080/",
          "height": 206
        },
        "outputId": "4fe75fc0-acce-4f3b-b863-0118f77ea902",
        "id": "nIJloXr-XPCX"
      },
      "execution_count": null,
      "outputs": [
        {
          "output_type": "execute_result",
          "data": {
            "text/plain": [
              "   Power: Left OFC  Power: Left vlPFC  Power: Right OFC  Power: Right vlPFC\n",
              "0         5.686801           9.739613          8.195255            8.018249\n",
              "1         9.301764          10.138419          5.699974            8.329905\n",
              "2         3.541367           9.768278          4.449306           13.404476\n",
              "3         8.466536           6.540455         10.163884           11.027338\n",
              "4        11.272942           8.775278          9.911861           12.002101"
            ],
            "text/html": [
              "\n",
              "  <div id=\"df-194fec63-5ce3-4d50-aaee-6bba81a2fff6\" class=\"colab-df-container\">\n",
              "    <div>\n",
              "<style scoped>\n",
              "    .dataframe tbody tr th:only-of-type {\n",
              "        vertical-align: middle;\n",
              "    }\n",
              "\n",
              "    .dataframe tbody tr th {\n",
              "        vertical-align: top;\n",
              "    }\n",
              "\n",
              "    .dataframe thead th {\n",
              "        text-align: right;\n",
              "    }\n",
              "</style>\n",
              "<table border=\"1\" class=\"dataframe\">\n",
              "  <thead>\n",
              "    <tr style=\"text-align: right;\">\n",
              "      <th></th>\n",
              "      <th>Power: Left OFC</th>\n",
              "      <th>Power: Left vlPFC</th>\n",
              "      <th>Power: Right OFC</th>\n",
              "      <th>Power: Right vlPFC</th>\n",
              "    </tr>\n",
              "  </thead>\n",
              "  <tbody>\n",
              "    <tr>\n",
              "      <th>0</th>\n",
              "      <td>5.686801</td>\n",
              "      <td>9.739613</td>\n",
              "      <td>8.195255</td>\n",
              "      <td>8.018249</td>\n",
              "    </tr>\n",
              "    <tr>\n",
              "      <th>1</th>\n",
              "      <td>9.301764</td>\n",
              "      <td>10.138419</td>\n",
              "      <td>5.699974</td>\n",
              "      <td>8.329905</td>\n",
              "    </tr>\n",
              "    <tr>\n",
              "      <th>2</th>\n",
              "      <td>3.541367</td>\n",
              "      <td>9.768278</td>\n",
              "      <td>4.449306</td>\n",
              "      <td>13.404476</td>\n",
              "    </tr>\n",
              "    <tr>\n",
              "      <th>3</th>\n",
              "      <td>8.466536</td>\n",
              "      <td>6.540455</td>\n",
              "      <td>10.163884</td>\n",
              "      <td>11.027338</td>\n",
              "    </tr>\n",
              "    <tr>\n",
              "      <th>4</th>\n",
              "      <td>11.272942</td>\n",
              "      <td>8.775278</td>\n",
              "      <td>9.911861</td>\n",
              "      <td>12.002101</td>\n",
              "    </tr>\n",
              "  </tbody>\n",
              "</table>\n",
              "</div>\n",
              "    <div class=\"colab-df-buttons\">\n",
              "\n",
              "  <div class=\"colab-df-container\">\n",
              "    <button class=\"colab-df-convert\" onclick=\"convertToInteractive('df-194fec63-5ce3-4d50-aaee-6bba81a2fff6')\"\n",
              "            title=\"Convert this dataframe to an interactive table.\"\n",
              "            style=\"display:none;\">\n",
              "\n",
              "  <svg xmlns=\"http://www.w3.org/2000/svg\" height=\"24px\" viewBox=\"0 -960 960 960\">\n",
              "    <path d=\"M120-120v-720h720v720H120Zm60-500h600v-160H180v160Zm220 220h160v-160H400v160Zm0 220h160v-160H400v160ZM180-400h160v-160H180v160Zm440 0h160v-160H620v160ZM180-180h160v-160H180v160Zm440 0h160v-160H620v160Z\"/>\n",
              "  </svg>\n",
              "    </button>\n",
              "\n",
              "  <style>\n",
              "    .colab-df-container {\n",
              "      display:flex;\n",
              "      gap: 12px;\n",
              "    }\n",
              "\n",
              "    .colab-df-convert {\n",
              "      background-color: #E8F0FE;\n",
              "      border: none;\n",
              "      border-radius: 50%;\n",
              "      cursor: pointer;\n",
              "      display: none;\n",
              "      fill: #1967D2;\n",
              "      height: 32px;\n",
              "      padding: 0 0 0 0;\n",
              "      width: 32px;\n",
              "    }\n",
              "\n",
              "    .colab-df-convert:hover {\n",
              "      background-color: #E2EBFA;\n",
              "      box-shadow: 0px 1px 2px rgba(60, 64, 67, 0.3), 0px 1px 3px 1px rgba(60, 64, 67, 0.15);\n",
              "      fill: #174EA6;\n",
              "    }\n",
              "\n",
              "    .colab-df-buttons div {\n",
              "      margin-bottom: 4px;\n",
              "    }\n",
              "\n",
              "    [theme=dark] .colab-df-convert {\n",
              "      background-color: #3B4455;\n",
              "      fill: #D2E3FC;\n",
              "    }\n",
              "\n",
              "    [theme=dark] .colab-df-convert:hover {\n",
              "      background-color: #434B5C;\n",
              "      box-shadow: 0px 1px 3px 1px rgba(0, 0, 0, 0.15);\n",
              "      filter: drop-shadow(0px 1px 2px rgba(0, 0, 0, 0.3));\n",
              "      fill: #FFFFFF;\n",
              "    }\n",
              "  </style>\n",
              "\n",
              "    <script>\n",
              "      const buttonEl =\n",
              "        document.querySelector('#df-194fec63-5ce3-4d50-aaee-6bba81a2fff6 button.colab-df-convert');\n",
              "      buttonEl.style.display =\n",
              "        google.colab.kernel.accessAllowed ? 'block' : 'none';\n",
              "\n",
              "      async function convertToInteractive(key) {\n",
              "        const element = document.querySelector('#df-194fec63-5ce3-4d50-aaee-6bba81a2fff6');\n",
              "        const dataTable =\n",
              "          await google.colab.kernel.invokeFunction('convertToInteractive',\n",
              "                                                    [key], {});\n",
              "        if (!dataTable) return;\n",
              "\n",
              "        const docLinkHtml = 'Like what you see? Visit the ' +\n",
              "          '<a target=\"_blank\" href=https://colab.research.google.com/notebooks/data_table.ipynb>data table notebook</a>'\n",
              "          + ' to learn more about interactive tables.';\n",
              "        element.innerHTML = '';\n",
              "        dataTable['output_type'] = 'display_data';\n",
              "        await google.colab.output.renderOutput(dataTable, element);\n",
              "        const docLink = document.createElement('div');\n",
              "        docLink.innerHTML = docLinkHtml;\n",
              "        element.appendChild(docLink);\n",
              "      }\n",
              "    </script>\n",
              "  </div>\n",
              "\n",
              "\n",
              "<div id=\"df-9b1256bc-bcf6-483f-ab6f-07bdd0fa0562\">\n",
              "  <button class=\"colab-df-quickchart\" onclick=\"quickchart('df-9b1256bc-bcf6-483f-ab6f-07bdd0fa0562')\"\n",
              "            title=\"Suggest charts\"\n",
              "            style=\"display:none;\">\n",
              "\n",
              "<svg xmlns=\"http://www.w3.org/2000/svg\" height=\"24px\"viewBox=\"0 0 24 24\"\n",
              "     width=\"24px\">\n",
              "    <g>\n",
              "        <path d=\"M19 3H5c-1.1 0-2 .9-2 2v14c0 1.1.9 2 2 2h14c1.1 0 2-.9 2-2V5c0-1.1-.9-2-2-2zM9 17H7v-7h2v7zm4 0h-2V7h2v10zm4 0h-2v-4h2v4z\"/>\n",
              "    </g>\n",
              "</svg>\n",
              "  </button>\n",
              "\n",
              "<style>\n",
              "  .colab-df-quickchart {\n",
              "      --bg-color: #E8F0FE;\n",
              "      --fill-color: #1967D2;\n",
              "      --hover-bg-color: #E2EBFA;\n",
              "      --hover-fill-color: #174EA6;\n",
              "      --disabled-fill-color: #AAA;\n",
              "      --disabled-bg-color: #DDD;\n",
              "  }\n",
              "\n",
              "  [theme=dark] .colab-df-quickchart {\n",
              "      --bg-color: #3B4455;\n",
              "      --fill-color: #D2E3FC;\n",
              "      --hover-bg-color: #434B5C;\n",
              "      --hover-fill-color: #FFFFFF;\n",
              "      --disabled-bg-color: #3B4455;\n",
              "      --disabled-fill-color: #666;\n",
              "  }\n",
              "\n",
              "  .colab-df-quickchart {\n",
              "    background-color: var(--bg-color);\n",
              "    border: none;\n",
              "    border-radius: 50%;\n",
              "    cursor: pointer;\n",
              "    display: none;\n",
              "    fill: var(--fill-color);\n",
              "    height: 32px;\n",
              "    padding: 0;\n",
              "    width: 32px;\n",
              "  }\n",
              "\n",
              "  .colab-df-quickchart:hover {\n",
              "    background-color: var(--hover-bg-color);\n",
              "    box-shadow: 0 1px 2px rgba(60, 64, 67, 0.3), 0 1px 3px 1px rgba(60, 64, 67, 0.15);\n",
              "    fill: var(--button-hover-fill-color);\n",
              "  }\n",
              "\n",
              "  .colab-df-quickchart-complete:disabled,\n",
              "  .colab-df-quickchart-complete:disabled:hover {\n",
              "    background-color: var(--disabled-bg-color);\n",
              "    fill: var(--disabled-fill-color);\n",
              "    box-shadow: none;\n",
              "  }\n",
              "\n",
              "  .colab-df-spinner {\n",
              "    border: 2px solid var(--fill-color);\n",
              "    border-color: transparent;\n",
              "    border-bottom-color: var(--fill-color);\n",
              "    animation:\n",
              "      spin 1s steps(1) infinite;\n",
              "  }\n",
              "\n",
              "  @keyframes spin {\n",
              "    0% {\n",
              "      border-color: transparent;\n",
              "      border-bottom-color: var(--fill-color);\n",
              "      border-left-color: var(--fill-color);\n",
              "    }\n",
              "    20% {\n",
              "      border-color: transparent;\n",
              "      border-left-color: var(--fill-color);\n",
              "      border-top-color: var(--fill-color);\n",
              "    }\n",
              "    30% {\n",
              "      border-color: transparent;\n",
              "      border-left-color: var(--fill-color);\n",
              "      border-top-color: var(--fill-color);\n",
              "      border-right-color: var(--fill-color);\n",
              "    }\n",
              "    40% {\n",
              "      border-color: transparent;\n",
              "      border-right-color: var(--fill-color);\n",
              "      border-top-color: var(--fill-color);\n",
              "    }\n",
              "    60% {\n",
              "      border-color: transparent;\n",
              "      border-right-color: var(--fill-color);\n",
              "    }\n",
              "    80% {\n",
              "      border-color: transparent;\n",
              "      border-right-color: var(--fill-color);\n",
              "      border-bottom-color: var(--fill-color);\n",
              "    }\n",
              "    90% {\n",
              "      border-color: transparent;\n",
              "      border-bottom-color: var(--fill-color);\n",
              "    }\n",
              "  }\n",
              "</style>\n",
              "\n",
              "  <script>\n",
              "    async function quickchart(key) {\n",
              "      const quickchartButtonEl =\n",
              "        document.querySelector('#' + key + ' button');\n",
              "      quickchartButtonEl.disabled = true;  // To prevent multiple clicks.\n",
              "      quickchartButtonEl.classList.add('colab-df-spinner');\n",
              "      try {\n",
              "        const charts = await google.colab.kernel.invokeFunction(\n",
              "            'suggestCharts', [key], {});\n",
              "      } catch (error) {\n",
              "        console.error('Error during call to suggestCharts:', error);\n",
              "      }\n",
              "      quickchartButtonEl.classList.remove('colab-df-spinner');\n",
              "      quickchartButtonEl.classList.add('colab-df-quickchart-complete');\n",
              "    }\n",
              "    (() => {\n",
              "      let quickchartButtonEl =\n",
              "        document.querySelector('#df-9b1256bc-bcf6-483f-ab6f-07bdd0fa0562 button');\n",
              "      quickchartButtonEl.style.display =\n",
              "        google.colab.kernel.accessAllowed ? 'block' : 'none';\n",
              "    })();\n",
              "  </script>\n",
              "</div>\n",
              "    </div>\n",
              "  </div>\n"
            ]
          },
          "metadata": {},
          "execution_count": 108
        }
      ]
    },
    {
      "cell_type": "code",
      "source": [
        "powerAmplitudeDF.shape"
      ],
      "metadata": {
        "colab": {
          "base_uri": "https://localhost:8080/"
        },
        "outputId": "ff04c4c3-af56-41d5-8afb-29a43fdbda65",
        "id": "NEzeFZ9FXPCY"
      },
      "execution_count": null,
      "outputs": [
        {
          "output_type": "execute_result",
          "data": {
            "text/plain": [
              "(414, 4)"
            ]
          },
          "metadata": {},
          "execution_count": 109
        }
      ]
    },
    {
      "cell_type": "code",
      "source": [
        "acousticFeatsDF = pd.read_csv('AcousticFeatures_noModeratorSpeech_aDBS012_' + '2023-02-27_Experiment1_' + 'audio_amplitude.csv')\n",
        "del acousticFeatsDF['Unnamed: 0']\n",
        "acousticFeatsDF.head()"
      ],
      "metadata": {
        "colab": {
          "base_uri": "https://localhost:8080/",
          "height": 256
        },
        "outputId": "6b369c88-72b4-41f0-f361-e37dd8063569",
        "id": "DiDOSgHrXPCY"
      },
      "execution_count": null,
      "outputs": [
        {
          "output_type": "execute_result",
          "data": {
            "text/plain": [
              "   F0final_sma  voicingFinalUnclipped_sma  jitterLocal_sma  jitterDDP_sma  \\\n",
              "0          0.0                        0.0              0.0            0.0   \n",
              "1          0.0                        0.0              0.0            0.0   \n",
              "2          0.0                        0.0              0.0            0.0   \n",
              "3          0.0                        0.0              0.0            0.0   \n",
              "4          0.0                        0.0              0.0            0.0   \n",
              "\n",
              "   shimmerLocal_sma  logHNR_sma  audspec_lengthL1norm_sma  \\\n",
              "0               0.0      -100.0                  0.001034   \n",
              "1               0.0      -100.0                  0.001034   \n",
              "2               0.0      -100.0                  0.001034   \n",
              "3               0.0      -100.0                  0.001034   \n",
              "4               0.0      -100.0                  0.001034   \n",
              "\n",
              "   audspecRasta_lengthL1norm_sma  pcm_RMSenergy_sma  pcm_zcr_sma  ...  \\\n",
              "0                       0.988341                0.0     0.999244  ...   \n",
              "1                       0.988341                0.0     0.999244  ...   \n",
              "2                       0.988341                0.0     0.999244  ...   \n",
              "3                       0.988341                0.0     0.999244  ...   \n",
              "4                       0.988341                0.0     0.999244  ...   \n",
              "\n",
              "   lspFreq_sma_de[2]  lspFreq_sma_de[3]  lspFreq_sma_de[4]  lspFreq_sma_de[5]  \\\n",
              "0                0.0                0.0                0.0                0.0   \n",
              "1                0.0                0.0                0.0                0.0   \n",
              "2                0.0                0.0                0.0                0.0   \n",
              "3                0.0                0.0                0.0                0.0   \n",
              "4                0.0                0.0                0.0                0.0   \n",
              "\n",
              "   lspFreq_sma_de[6]  lspFreq_sma_de[7]  pcm_zcr_sma_de.1  voiceProb_sma_de  \\\n",
              "0                0.0                0.0               0.0               0.0   \n",
              "1                0.0                0.0               0.0               0.0   \n",
              "2                0.0                0.0               0.0               0.0   \n",
              "3                0.0                0.0               0.0               0.0   \n",
              "4                0.0                0.0               0.0               0.0   \n",
              "\n",
              "   F0_sma_de  F0env_sma_de  \n",
              "0        0.0           0.0  \n",
              "1        0.0           0.0  \n",
              "2        0.0           0.0  \n",
              "3        0.0           0.0  \n",
              "4        0.0           0.0  \n",
              "\n",
              "[5 rows x 207 columns]"
            ],
            "text/html": [
              "\n",
              "  <div id=\"df-1729dbdf-aa3d-4c62-ac18-8ea5d8582c62\" class=\"colab-df-container\">\n",
              "    <div>\n",
              "<style scoped>\n",
              "    .dataframe tbody tr th:only-of-type {\n",
              "        vertical-align: middle;\n",
              "    }\n",
              "\n",
              "    .dataframe tbody tr th {\n",
              "        vertical-align: top;\n",
              "    }\n",
              "\n",
              "    .dataframe thead th {\n",
              "        text-align: right;\n",
              "    }\n",
              "</style>\n",
              "<table border=\"1\" class=\"dataframe\">\n",
              "  <thead>\n",
              "    <tr style=\"text-align: right;\">\n",
              "      <th></th>\n",
              "      <th>F0final_sma</th>\n",
              "      <th>voicingFinalUnclipped_sma</th>\n",
              "      <th>jitterLocal_sma</th>\n",
              "      <th>jitterDDP_sma</th>\n",
              "      <th>shimmerLocal_sma</th>\n",
              "      <th>logHNR_sma</th>\n",
              "      <th>audspec_lengthL1norm_sma</th>\n",
              "      <th>audspecRasta_lengthL1norm_sma</th>\n",
              "      <th>pcm_RMSenergy_sma</th>\n",
              "      <th>pcm_zcr_sma</th>\n",
              "      <th>...</th>\n",
              "      <th>lspFreq_sma_de[2]</th>\n",
              "      <th>lspFreq_sma_de[3]</th>\n",
              "      <th>lspFreq_sma_de[4]</th>\n",
              "      <th>lspFreq_sma_de[5]</th>\n",
              "      <th>lspFreq_sma_de[6]</th>\n",
              "      <th>lspFreq_sma_de[7]</th>\n",
              "      <th>pcm_zcr_sma_de.1</th>\n",
              "      <th>voiceProb_sma_de</th>\n",
              "      <th>F0_sma_de</th>\n",
              "      <th>F0env_sma_de</th>\n",
              "    </tr>\n",
              "  </thead>\n",
              "  <tbody>\n",
              "    <tr>\n",
              "      <th>0</th>\n",
              "      <td>0.0</td>\n",
              "      <td>0.0</td>\n",
              "      <td>0.0</td>\n",
              "      <td>0.0</td>\n",
              "      <td>0.0</td>\n",
              "      <td>-100.0</td>\n",
              "      <td>0.001034</td>\n",
              "      <td>0.988341</td>\n",
              "      <td>0.0</td>\n",
              "      <td>0.999244</td>\n",
              "      <td>...</td>\n",
              "      <td>0.0</td>\n",
              "      <td>0.0</td>\n",
              "      <td>0.0</td>\n",
              "      <td>0.0</td>\n",
              "      <td>0.0</td>\n",
              "      <td>0.0</td>\n",
              "      <td>0.0</td>\n",
              "      <td>0.0</td>\n",
              "      <td>0.0</td>\n",
              "      <td>0.0</td>\n",
              "    </tr>\n",
              "    <tr>\n",
              "      <th>1</th>\n",
              "      <td>0.0</td>\n",
              "      <td>0.0</td>\n",
              "      <td>0.0</td>\n",
              "      <td>0.0</td>\n",
              "      <td>0.0</td>\n",
              "      <td>-100.0</td>\n",
              "      <td>0.001034</td>\n",
              "      <td>0.988341</td>\n",
              "      <td>0.0</td>\n",
              "      <td>0.999244</td>\n",
              "      <td>...</td>\n",
              "      <td>0.0</td>\n",
              "      <td>0.0</td>\n",
              "      <td>0.0</td>\n",
              "      <td>0.0</td>\n",
              "      <td>0.0</td>\n",
              "      <td>0.0</td>\n",
              "      <td>0.0</td>\n",
              "      <td>0.0</td>\n",
              "      <td>0.0</td>\n",
              "      <td>0.0</td>\n",
              "    </tr>\n",
              "    <tr>\n",
              "      <th>2</th>\n",
              "      <td>0.0</td>\n",
              "      <td>0.0</td>\n",
              "      <td>0.0</td>\n",
              "      <td>0.0</td>\n",
              "      <td>0.0</td>\n",
              "      <td>-100.0</td>\n",
              "      <td>0.001034</td>\n",
              "      <td>0.988341</td>\n",
              "      <td>0.0</td>\n",
              "      <td>0.999244</td>\n",
              "      <td>...</td>\n",
              "      <td>0.0</td>\n",
              "      <td>0.0</td>\n",
              "      <td>0.0</td>\n",
              "      <td>0.0</td>\n",
              "      <td>0.0</td>\n",
              "      <td>0.0</td>\n",
              "      <td>0.0</td>\n",
              "      <td>0.0</td>\n",
              "      <td>0.0</td>\n",
              "      <td>0.0</td>\n",
              "    </tr>\n",
              "    <tr>\n",
              "      <th>3</th>\n",
              "      <td>0.0</td>\n",
              "      <td>0.0</td>\n",
              "      <td>0.0</td>\n",
              "      <td>0.0</td>\n",
              "      <td>0.0</td>\n",
              "      <td>-100.0</td>\n",
              "      <td>0.001034</td>\n",
              "      <td>0.988341</td>\n",
              "      <td>0.0</td>\n",
              "      <td>0.999244</td>\n",
              "      <td>...</td>\n",
              "      <td>0.0</td>\n",
              "      <td>0.0</td>\n",
              "      <td>0.0</td>\n",
              "      <td>0.0</td>\n",
              "      <td>0.0</td>\n",
              "      <td>0.0</td>\n",
              "      <td>0.0</td>\n",
              "      <td>0.0</td>\n",
              "      <td>0.0</td>\n",
              "      <td>0.0</td>\n",
              "    </tr>\n",
              "    <tr>\n",
              "      <th>4</th>\n",
              "      <td>0.0</td>\n",
              "      <td>0.0</td>\n",
              "      <td>0.0</td>\n",
              "      <td>0.0</td>\n",
              "      <td>0.0</td>\n",
              "      <td>-100.0</td>\n",
              "      <td>0.001034</td>\n",
              "      <td>0.988341</td>\n",
              "      <td>0.0</td>\n",
              "      <td>0.999244</td>\n",
              "      <td>...</td>\n",
              "      <td>0.0</td>\n",
              "      <td>0.0</td>\n",
              "      <td>0.0</td>\n",
              "      <td>0.0</td>\n",
              "      <td>0.0</td>\n",
              "      <td>0.0</td>\n",
              "      <td>0.0</td>\n",
              "      <td>0.0</td>\n",
              "      <td>0.0</td>\n",
              "      <td>0.0</td>\n",
              "    </tr>\n",
              "  </tbody>\n",
              "</table>\n",
              "<p>5 rows × 207 columns</p>\n",
              "</div>\n",
              "    <div class=\"colab-df-buttons\">\n",
              "\n",
              "  <div class=\"colab-df-container\">\n",
              "    <button class=\"colab-df-convert\" onclick=\"convertToInteractive('df-1729dbdf-aa3d-4c62-ac18-8ea5d8582c62')\"\n",
              "            title=\"Convert this dataframe to an interactive table.\"\n",
              "            style=\"display:none;\">\n",
              "\n",
              "  <svg xmlns=\"http://www.w3.org/2000/svg\" height=\"24px\" viewBox=\"0 -960 960 960\">\n",
              "    <path d=\"M120-120v-720h720v720H120Zm60-500h600v-160H180v160Zm220 220h160v-160H400v160Zm0 220h160v-160H400v160ZM180-400h160v-160H180v160Zm440 0h160v-160H620v160ZM180-180h160v-160H180v160Zm440 0h160v-160H620v160Z\"/>\n",
              "  </svg>\n",
              "    </button>\n",
              "\n",
              "  <style>\n",
              "    .colab-df-container {\n",
              "      display:flex;\n",
              "      gap: 12px;\n",
              "    }\n",
              "\n",
              "    .colab-df-convert {\n",
              "      background-color: #E8F0FE;\n",
              "      border: none;\n",
              "      border-radius: 50%;\n",
              "      cursor: pointer;\n",
              "      display: none;\n",
              "      fill: #1967D2;\n",
              "      height: 32px;\n",
              "      padding: 0 0 0 0;\n",
              "      width: 32px;\n",
              "    }\n",
              "\n",
              "    .colab-df-convert:hover {\n",
              "      background-color: #E2EBFA;\n",
              "      box-shadow: 0px 1px 2px rgba(60, 64, 67, 0.3), 0px 1px 3px 1px rgba(60, 64, 67, 0.15);\n",
              "      fill: #174EA6;\n",
              "    }\n",
              "\n",
              "    .colab-df-buttons div {\n",
              "      margin-bottom: 4px;\n",
              "    }\n",
              "\n",
              "    [theme=dark] .colab-df-convert {\n",
              "      background-color: #3B4455;\n",
              "      fill: #D2E3FC;\n",
              "    }\n",
              "\n",
              "    [theme=dark] .colab-df-convert:hover {\n",
              "      background-color: #434B5C;\n",
              "      box-shadow: 0px 1px 3px 1px rgba(0, 0, 0, 0.15);\n",
              "      filter: drop-shadow(0px 1px 2px rgba(0, 0, 0, 0.3));\n",
              "      fill: #FFFFFF;\n",
              "    }\n",
              "  </style>\n",
              "\n",
              "    <script>\n",
              "      const buttonEl =\n",
              "        document.querySelector('#df-1729dbdf-aa3d-4c62-ac18-8ea5d8582c62 button.colab-df-convert');\n",
              "      buttonEl.style.display =\n",
              "        google.colab.kernel.accessAllowed ? 'block' : 'none';\n",
              "\n",
              "      async function convertToInteractive(key) {\n",
              "        const element = document.querySelector('#df-1729dbdf-aa3d-4c62-ac18-8ea5d8582c62');\n",
              "        const dataTable =\n",
              "          await google.colab.kernel.invokeFunction('convertToInteractive',\n",
              "                                                    [key], {});\n",
              "        if (!dataTable) return;\n",
              "\n",
              "        const docLinkHtml = 'Like what you see? Visit the ' +\n",
              "          '<a target=\"_blank\" href=https://colab.research.google.com/notebooks/data_table.ipynb>data table notebook</a>'\n",
              "          + ' to learn more about interactive tables.';\n",
              "        element.innerHTML = '';\n",
              "        dataTable['output_type'] = 'display_data';\n",
              "        await google.colab.output.renderOutput(dataTable, element);\n",
              "        const docLink = document.createElement('div');\n",
              "        docLink.innerHTML = docLinkHtml;\n",
              "        element.appendChild(docLink);\n",
              "      }\n",
              "    </script>\n",
              "  </div>\n",
              "\n",
              "\n",
              "<div id=\"df-1857e631-17a2-443c-8133-52dc99c3741c\">\n",
              "  <button class=\"colab-df-quickchart\" onclick=\"quickchart('df-1857e631-17a2-443c-8133-52dc99c3741c')\"\n",
              "            title=\"Suggest charts\"\n",
              "            style=\"display:none;\">\n",
              "\n",
              "<svg xmlns=\"http://www.w3.org/2000/svg\" height=\"24px\"viewBox=\"0 0 24 24\"\n",
              "     width=\"24px\">\n",
              "    <g>\n",
              "        <path d=\"M19 3H5c-1.1 0-2 .9-2 2v14c0 1.1.9 2 2 2h14c1.1 0 2-.9 2-2V5c0-1.1-.9-2-2-2zM9 17H7v-7h2v7zm4 0h-2V7h2v10zm4 0h-2v-4h2v4z\"/>\n",
              "    </g>\n",
              "</svg>\n",
              "  </button>\n",
              "\n",
              "<style>\n",
              "  .colab-df-quickchart {\n",
              "      --bg-color: #E8F0FE;\n",
              "      --fill-color: #1967D2;\n",
              "      --hover-bg-color: #E2EBFA;\n",
              "      --hover-fill-color: #174EA6;\n",
              "      --disabled-fill-color: #AAA;\n",
              "      --disabled-bg-color: #DDD;\n",
              "  }\n",
              "\n",
              "  [theme=dark] .colab-df-quickchart {\n",
              "      --bg-color: #3B4455;\n",
              "      --fill-color: #D2E3FC;\n",
              "      --hover-bg-color: #434B5C;\n",
              "      --hover-fill-color: #FFFFFF;\n",
              "      --disabled-bg-color: #3B4455;\n",
              "      --disabled-fill-color: #666;\n",
              "  }\n",
              "\n",
              "  .colab-df-quickchart {\n",
              "    background-color: var(--bg-color);\n",
              "    border: none;\n",
              "    border-radius: 50%;\n",
              "    cursor: pointer;\n",
              "    display: none;\n",
              "    fill: var(--fill-color);\n",
              "    height: 32px;\n",
              "    padding: 0;\n",
              "    width: 32px;\n",
              "  }\n",
              "\n",
              "  .colab-df-quickchart:hover {\n",
              "    background-color: var(--hover-bg-color);\n",
              "    box-shadow: 0 1px 2px rgba(60, 64, 67, 0.3), 0 1px 3px 1px rgba(60, 64, 67, 0.15);\n",
              "    fill: var(--button-hover-fill-color);\n",
              "  }\n",
              "\n",
              "  .colab-df-quickchart-complete:disabled,\n",
              "  .colab-df-quickchart-complete:disabled:hover {\n",
              "    background-color: var(--disabled-bg-color);\n",
              "    fill: var(--disabled-fill-color);\n",
              "    box-shadow: none;\n",
              "  }\n",
              "\n",
              "  .colab-df-spinner {\n",
              "    border: 2px solid var(--fill-color);\n",
              "    border-color: transparent;\n",
              "    border-bottom-color: var(--fill-color);\n",
              "    animation:\n",
              "      spin 1s steps(1) infinite;\n",
              "  }\n",
              "\n",
              "  @keyframes spin {\n",
              "    0% {\n",
              "      border-color: transparent;\n",
              "      border-bottom-color: var(--fill-color);\n",
              "      border-left-color: var(--fill-color);\n",
              "    }\n",
              "    20% {\n",
              "      border-color: transparent;\n",
              "      border-left-color: var(--fill-color);\n",
              "      border-top-color: var(--fill-color);\n",
              "    }\n",
              "    30% {\n",
              "      border-color: transparent;\n",
              "      border-left-color: var(--fill-color);\n",
              "      border-top-color: var(--fill-color);\n",
              "      border-right-color: var(--fill-color);\n",
              "    }\n",
              "    40% {\n",
              "      border-color: transparent;\n",
              "      border-right-color: var(--fill-color);\n",
              "      border-top-color: var(--fill-color);\n",
              "    }\n",
              "    60% {\n",
              "      border-color: transparent;\n",
              "      border-right-color: var(--fill-color);\n",
              "    }\n",
              "    80% {\n",
              "      border-color: transparent;\n",
              "      border-right-color: var(--fill-color);\n",
              "      border-bottom-color: var(--fill-color);\n",
              "    }\n",
              "    90% {\n",
              "      border-color: transparent;\n",
              "      border-bottom-color: var(--fill-color);\n",
              "    }\n",
              "  }\n",
              "</style>\n",
              "\n",
              "  <script>\n",
              "    async function quickchart(key) {\n",
              "      const quickchartButtonEl =\n",
              "        document.querySelector('#' + key + ' button');\n",
              "      quickchartButtonEl.disabled = true;  // To prevent multiple clicks.\n",
              "      quickchartButtonEl.classList.add('colab-df-spinner');\n",
              "      try {\n",
              "        const charts = await google.colab.kernel.invokeFunction(\n",
              "            'suggestCharts', [key], {});\n",
              "      } catch (error) {\n",
              "        console.error('Error during call to suggestCharts:', error);\n",
              "      }\n",
              "      quickchartButtonEl.classList.remove('colab-df-spinner');\n",
              "      quickchartButtonEl.classList.add('colab-df-quickchart-complete');\n",
              "    }\n",
              "    (() => {\n",
              "      let quickchartButtonEl =\n",
              "        document.querySelector('#df-1857e631-17a2-443c-8133-52dc99c3741c button');\n",
              "      quickchartButtonEl.style.display =\n",
              "        google.colab.kernel.accessAllowed ? 'block' : 'none';\n",
              "    })();\n",
              "  </script>\n",
              "</div>\n",
              "    </div>\n",
              "  </div>\n"
            ]
          },
          "metadata": {},
          "execution_count": 110
        }
      ]
    },
    {
      "cell_type": "code",
      "source": [
        "powerAmplitudeDF = powerAmplitudeDF.iloc[:acousticFeatsDF.shape[0]]\n",
        "powerAmplitudeDF.shape"
      ],
      "metadata": {
        "colab": {
          "base_uri": "https://localhost:8080/"
        },
        "outputId": "a05ed23a-8ae6-4d4e-dd3a-e798743846c7",
        "id": "tqO9gNXSXPCY"
      },
      "execution_count": null,
      "outputs": [
        {
          "output_type": "execute_result",
          "data": {
            "text/plain": [
              "(381, 4)"
            ]
          },
          "metadata": {},
          "execution_count": 111
        }
      ]
    },
    {
      "cell_type": "code",
      "source": [
        "powerAmplitudeAllLLDdf = pd.concat([powerAmplitudeDF,acousticFeatsDF],axis=1)\n",
        "powerAmplitudeAllLLDdf.shape"
      ],
      "metadata": {
        "colab": {
          "base_uri": "https://localhost:8080/"
        },
        "outputId": "06940eb5-1f8e-460b-dca0-5da20e1ac324",
        "id": "CVJkb7dXXPCZ"
      },
      "execution_count": null,
      "outputs": [
        {
          "output_type": "execute_result",
          "data": {
            "text/plain": [
              "(381, 211)"
            ]
          },
          "metadata": {},
          "execution_count": 112
        }
      ]
    },
    {
      "cell_type": "markdown",
      "source": [
        "Website to compute p value from r value and n: http://vassarstats.net/tabs_r.html"
      ],
      "metadata": {
        "id": "FOfwCFJTXPCZ"
      }
    },
    {
      "cell_type": "code",
      "source": [
        "rValFor99ConfidenceLevel = 0.132\n",
        "rValFor95ConfidenceLevel = 0.101"
      ],
      "metadata": {
        "id": "speojSy_XPCa"
      },
      "execution_count": null,
      "outputs": []
    },
    {
      "cell_type": "markdown",
      "source": [
        "##random noise t-test (10)"
      ],
      "metadata": {
        "id": "hJyIj3D7Pann"
      }
    },
    {
      "cell_type": "code",
      "source": [
        "import numpy as np"
      ],
      "metadata": {
        "id": "wqu_gdk5Pano"
      },
      "execution_count": null,
      "outputs": []
    },
    {
      "cell_type": "code",
      "source": [
        "# Set a seed for reproducibility (optional)\n",
        "np.random.seed(33)\n",
        "\n",
        "# Mean and standard deviation of the Gaussian distribution\n",
        "mean_value = 0\n",
        "std_dev = 1\n",
        "\n",
        "# Generate a random element numpy array from a Gaussian distribution\n",
        "random_array = np.random.normal(mean_value, std_dev, powerAmplitudeAllLLDdf.shape[0])\n"
      ],
      "metadata": {
        "id": "EefcPM9wPano"
      },
      "execution_count": null,
      "outputs": []
    },
    {
      "cell_type": "code",
      "source": [],
      "metadata": {
        "id": "cF42isZ4Pano"
      },
      "execution_count": null,
      "outputs": []
    },
    {
      "cell_type": "code",
      "source": [
        "powerAmplitudeAllLLDdf['Noise'] = random_array"
      ],
      "metadata": {
        "id": "WmpRTRziPano"
      },
      "execution_count": null,
      "outputs": []
    },
    {
      "cell_type": "code",
      "source": [
        "powerAmplitudeAllLLDdf.corr()['Noise'][4:-1]#.abs()"
      ],
      "metadata": {
        "colab": {
          "base_uri": "https://localhost:8080/"
        },
        "outputId": "805e18be-b7f2-485c-a415-1436f27156f0",
        "id": "7pl6X0T_Pano"
      },
      "execution_count": null,
      "outputs": [
        {
          "output_type": "execute_result",
          "data": {
            "text/plain": [
              "F0final_sma                 -0.079760\n",
              "voicingFinalUnclipped_sma   -0.091099\n",
              "jitterLocal_sma             -0.065737\n",
              "jitterDDP_sma               -0.080899\n",
              "shimmerLocal_sma            -0.085380\n",
              "                               ...   \n",
              "lspFreq_sma_de[7]           -0.102589\n",
              "pcm_zcr_sma_de.1             0.049295\n",
              "voiceProb_sma_de            -0.013974\n",
              "F0_sma_de                    0.042997\n",
              "F0env_sma_de                -0.068461\n",
              "Name: Noise, Length: 207, dtype: float64"
            ]
          },
          "metadata": {},
          "execution_count": 184
        }
      ]
    },
    {
      "cell_type": "code",
      "source": [
        "correlations_Noise = powerAmplitudeAllLLDdf.corr()['Noise'][4:-1]#.abs()"
      ],
      "metadata": {
        "id": "F8k7CKRlPano"
      },
      "execution_count": null,
      "outputs": []
    },
    {
      "cell_type": "code",
      "source": [
        "positiveCorrelationCondition = correlations_Noise > rValFor95ConfidenceLevel\n",
        "negativeCorrelationCondition = correlations_Noise < -1* rValFor95ConfidenceLevel\n",
        "noiseCorrelates = correlations_Noise[ positiveCorrelationCondition | negativeCorrelationCondition]\n",
        "noiseCorrelates.head = 'r'\n",
        "\n",
        "print(\"# of acoustic features where p < 0.05:\", len(noiseCorrelates))\n",
        "noiseCorrelates.nlargest(len(noiseCorrelates)) # for sorting"
      ],
      "metadata": {
        "colab": {
          "base_uri": "https://localhost:8080/"
        },
        "outputId": "5ec5906c-e364-48ee-b75e-d2c12421eeab",
        "id": "u7yHMVzdPanp"
      },
      "execution_count": null,
      "outputs": [
        {
          "output_type": "stream",
          "name": "stdout",
          "text": [
            "# of acoustic features where p < 0.05: 10\n"
          ]
        },
        {
          "output_type": "execute_result",
          "data": {
            "text/plain": [
              "F0env_sma                          0.130533\n",
              "mfcc_sma[10]                       0.121059\n",
              "mfcc_sma[10].1                     0.114129\n",
              "slope500-1500_sma3                 0.108236\n",
              "mfcc_sma[6]                        0.103016\n",
              "pcm_RMSenergy_sma                 -0.102180\n",
              "lspFreq_sma_de[7]                 -0.102589\n",
              "logHNR_sma                        -0.104116\n",
              "pcm_fftMag_spectralKurtosis_sma   -0.104781\n",
              "jitterLocal_sma3nz                -0.109208\n",
              "Name: Noise, dtype: float64"
            ]
          },
          "metadata": {},
          "execution_count": 186
        }
      ]
    },
    {
      "cell_type": "markdown",
      "source": [
        "##Right vLPFC"
      ],
      "metadata": {
        "id": "Ij_Yx8H6dq3L"
      }
    },
    {
      "cell_type": "code",
      "source": [
        "correlations_Right_vlPFC = powerAmplitudeAllLLDdf.corr()['Power: Right vlPFC'][4:]#.abs()"
      ],
      "metadata": {
        "id": "1bhWpdVydq3M"
      },
      "execution_count": null,
      "outputs": []
    },
    {
      "cell_type": "code",
      "source": [
        "positiveCorrelationCondition = correlations_Right_vlPFC > rValFor95ConfidenceLevel\n",
        "negativeCorrelationCondition = correlations_Right_vlPFC < -1* rValFor95ConfidenceLevel\n",
        "AcousticCorrelates95_Right_vlPFC = correlations_Right_vlPFC[ positiveCorrelationCondition | negativeCorrelationCondition]\n",
        "AcousticCorrelates95_Right_vlPFC.head = 'r'\n",
        "\n",
        "print(\"# of acoustic features where p < 0.05:\", len(AcousticCorrelates95_Right_vlPFC))\n",
        "AcousticCorrelates95_Right_vlPFC.nlargest(len(AcousticCorrelates95_Right_vlPFC)) # for sorting"
      ],
      "metadata": {
        "colab": {
          "base_uri": "https://localhost:8080/"
        },
        "outputId": "bc63e055-7b3f-4fdf-e6ef-201806f11290",
        "id": "urDMpkpVdq3M"
      },
      "execution_count": null,
      "outputs": [
        {
          "output_type": "stream",
          "name": "stdout",
          "text": [
            "# of acoustic features where p < 0.05: 2\n"
          ]
        },
        {
          "output_type": "execute_result",
          "data": {
            "text/plain": [
              "mfcc_sma_de[12].1   -0.121493\n",
              "mfcc_sma_de[12]     -0.133622\n",
              "Name: Power: Right vlPFC, dtype: float64"
            ]
          },
          "metadata": {},
          "execution_count": 64
        }
      ]
    },
    {
      "cell_type": "code",
      "source": [
        "AcousticCorrelates95_Right_vlPFC.nlargest(len(AcousticCorrelates95_Right_vlPFC)).to_csv(date + '_AcousticCorrelates95_Right_vlPFC.csv',header=['r'],index_label='Acoustic Feature')"
      ],
      "metadata": {
        "id": "uo0QbxfVdq3N"
      },
      "execution_count": null,
      "outputs": []
    },
    {
      "cell_type": "code",
      "source": [
        "print(AcousticCorrelates95_Right_vlPFC.index.tolist())"
      ],
      "metadata": {
        "colab": {
          "base_uri": "https://localhost:8080/"
        },
        "outputId": "447aad68-d65c-45d2-d9b2-2610729dfc8c",
        "id": "J0_bDRYJdq3N"
      },
      "execution_count": null,
      "outputs": [
        {
          "output_type": "stream",
          "name": "stdout",
          "text": [
            "['mfcc_sma_de[12]', 'mfcc_sma_de[12].1']\n"
          ]
        }
      ]
    },
    {
      "cell_type": "code",
      "source": [],
      "metadata": {
        "id": "OJSAAkgwdq3O"
      },
      "execution_count": null,
      "outputs": []
    },
    {
      "cell_type": "markdown",
      "source": [
        "##Left vLPFC"
      ],
      "metadata": {
        "id": "XS4yJD0edq3O"
      }
    },
    {
      "cell_type": "code",
      "source": [
        "correlations_Left_vlPFC = powerAmplitudeAllLLDdf.corr()['Power: Left vlPFC'][4:]#.abs()\n",
        "correlations_Left_vlPFC"
      ],
      "metadata": {
        "colab": {
          "base_uri": "https://localhost:8080/"
        },
        "outputId": "2a809944-e16c-451f-9473-30ec9551427c",
        "id": "tjXWWeUIdq3O"
      },
      "execution_count": null,
      "outputs": [
        {
          "output_type": "execute_result",
          "data": {
            "text/plain": [
              "F0final_sma                  0.068850\n",
              "voicingFinalUnclipped_sma    0.070819\n",
              "jitterLocal_sma              0.109990\n",
              "jitterDDP_sma                0.102479\n",
              "shimmerLocal_sma             0.086703\n",
              "                               ...   \n",
              "lspFreq_sma_de[7]           -0.002623\n",
              "pcm_zcr_sma_de.1             0.004705\n",
              "voiceProb_sma_de            -0.000086\n",
              "F0_sma_de                    0.011111\n",
              "F0env_sma_de                -0.024345\n",
              "Name: Power: Left vlPFC, Length: 207, dtype: float64"
            ]
          },
          "metadata": {},
          "execution_count": 114
        }
      ]
    },
    {
      "cell_type": "code",
      "source": [
        "positiveCorrelationCondition = correlations_Left_vlPFC > rValFor95ConfidenceLevel\n",
        "negativeCorrelationCondition = correlations_Left_vlPFC < -1* rValFor95ConfidenceLevel\n",
        "AcousticCorrelates95_Left_vlPFC = correlations_Left_vlPFC[ positiveCorrelationCondition | negativeCorrelationCondition]\n",
        "AcousticCorrelates95_Left_vlPFC.head = 'r'\n",
        "\n",
        "print(\"# of acoustic features where p < 0.05:\", len(AcousticCorrelates95_Left_vlPFC))\n",
        "AcousticCorrelates95_Left_vlPFC.nlargest(len(AcousticCorrelates95_Left_vlPFC)) # for sorting"
      ],
      "metadata": {
        "colab": {
          "base_uri": "https://localhost:8080/"
        },
        "outputId": "d4850d49-47eb-40aa-f0da-39865a50c592",
        "id": "RhtfJmPhdq3P"
      },
      "execution_count": null,
      "outputs": [
        {
          "output_type": "stream",
          "name": "stdout",
          "text": [
            "# of acoustic features where p < 0.05: 3\n"
          ]
        },
        {
          "output_type": "execute_result",
          "data": {
            "text/plain": [
              "jitterLocal_sma        0.109990\n",
              "jitterDDP_sma          0.102479\n",
              "shimmerLocal_sma_de   -0.110014\n",
              "Name: Power: Left vlPFC, dtype: float64"
            ]
          },
          "metadata": {},
          "execution_count": 115
        }
      ]
    },
    {
      "cell_type": "code",
      "source": [
        "AcousticCorrelates95_Left_vlPFC.nlargest(len(AcousticCorrelates95_Left_vlPFC)).to_csv(date + '_AcousticCorrelates95_Left_vlPFC.csv',header=['r'],index_label='Acoustic Feature')"
      ],
      "metadata": {
        "id": "5TUnxnmmdq3P"
      },
      "execution_count": null,
      "outputs": []
    },
    {
      "cell_type": "code",
      "source": [
        "print(AcousticCorrelates95_Left_vlPFC.index.tolist())"
      ],
      "metadata": {
        "colab": {
          "base_uri": "https://localhost:8080/"
        },
        "outputId": "93f57216-014f-4fe2-e640-32107b4fa532",
        "id": "HqO760Fpdq3P"
      },
      "execution_count": null,
      "outputs": [
        {
          "output_type": "stream",
          "name": "stdout",
          "text": [
            "['jitterLocal_sma', 'jitterDDP_sma', 'shimmerLocal_sma_de']\n"
          ]
        }
      ]
    },
    {
      "cell_type": "code",
      "source": [],
      "metadata": {
        "id": "-MlVCVNUdq3Q"
      },
      "execution_count": null,
      "outputs": []
    },
    {
      "cell_type": "markdown",
      "source": [
        "##Right OFC"
      ],
      "metadata": {
        "id": "XMoZDxTydq3Q"
      }
    },
    {
      "cell_type": "code",
      "source": [],
      "metadata": {
        "id": "WgHv_uFadq3Q"
      },
      "execution_count": null,
      "outputs": []
    },
    {
      "cell_type": "code",
      "source": [
        "correlations_Right_OFC = powerAmplitudeAllLLDdf.corr()['Power: Right OFC'][4:]#.abs()\n"
      ],
      "metadata": {
        "id": "Q7oysfjndq3R"
      },
      "execution_count": null,
      "outputs": []
    },
    {
      "cell_type": "code",
      "source": [
        "positiveCorrelationCondition = correlations_Right_OFC > rValFor95ConfidenceLevel\n",
        "negativeCorrelationCondition = correlations_Right_OFC < -1* rValFor95ConfidenceLevel\n",
        "AcousticCorrelates95_Right_OFC = correlations_Right_OFC[ positiveCorrelationCondition | negativeCorrelationCondition]\n",
        "AcousticCorrelates95_Right_OFC.head = 'r'\n",
        "\n",
        "print(\"# of acoustic features where p < 0.05:\", len(AcousticCorrelates95_Right_OFC))\n",
        "AcousticCorrelates95_Right_OFC.nlargest(len(AcousticCorrelates95_Right_OFC)) # for sorting"
      ],
      "metadata": {
        "colab": {
          "base_uri": "https://localhost:8080/"
        },
        "outputId": "a692c68a-0bb2-4204-a12f-c754c9247c94",
        "id": "AXLMXZuYdq3R"
      },
      "execution_count": null,
      "outputs": [
        {
          "output_type": "stream",
          "name": "stdout",
          "text": [
            "# of acoustic features where p < 0.05: 1\n"
          ]
        },
        {
          "output_type": "execute_result",
          "data": {
            "text/plain": [
              "shimmerLocal_sma_de    0.102154\n",
              "Name: Power: Right OFC, dtype: float64"
            ]
          },
          "metadata": {},
          "execution_count": 71
        }
      ]
    },
    {
      "cell_type": "code",
      "source": [
        "AcousticCorrelates95_Right_OFC.nlargest(len(AcousticCorrelates95_Right_OFC)).to_csv(date + '_AcousticCorrelates95_Right_OFC.csv',header=['r'],index_label='Acoustic Feature')"
      ],
      "metadata": {
        "id": "BSj3w6ipdq3R"
      },
      "execution_count": null,
      "outputs": []
    },
    {
      "cell_type": "code",
      "source": [
        "print(AcousticCorrelates95_Right_OFC.index.tolist())"
      ],
      "metadata": {
        "colab": {
          "base_uri": "https://localhost:8080/"
        },
        "outputId": "3df4960d-611c-4d78-a7de-5e301b14c401",
        "id": "9gUd8awcdq3S"
      },
      "execution_count": null,
      "outputs": [
        {
          "output_type": "stream",
          "name": "stdout",
          "text": [
            "['shimmerLocal_sma_de']\n"
          ]
        }
      ]
    },
    {
      "cell_type": "markdown",
      "source": [
        "##Left OFC"
      ],
      "metadata": {
        "id": "bZIlvV9ddq3S"
      }
    },
    {
      "cell_type": "code",
      "source": [],
      "metadata": {
        "id": "H6WLUOo2dq3S"
      },
      "execution_count": null,
      "outputs": []
    },
    {
      "cell_type": "code",
      "source": [
        "correlations_Left_OFC = powerAmplitudeAllLLDdf.corr()['Power: Left OFC'][8:]#.abs()\n"
      ],
      "metadata": {
        "id": "bmW4xp6Wdq3S"
      },
      "execution_count": null,
      "outputs": []
    },
    {
      "cell_type": "code",
      "source": [
        "positiveCorrelationCondition = correlations_Left_OFC > rValFor95ConfidenceLevel\n",
        "negativeCorrelationCondition = correlations_Left_OFC < -1* rValFor95ConfidenceLevel\n",
        "AcousticCorrelates95_Left_OFC = correlations_Left_OFC[ positiveCorrelationCondition | negativeCorrelationCondition]\n",
        "AcousticCorrelates95_Left_OFC.head = 'r'\n",
        "\n",
        "print(\"# of acoustic features where p < 0.05:\", len(AcousticCorrelates95_Left_OFC))\n",
        "AcousticCorrelates95_Left_OFC.nlargest(len(AcousticCorrelates95_Left_OFC)) # for sorting"
      ],
      "metadata": {
        "colab": {
          "base_uri": "https://localhost:8080/"
        },
        "outputId": "e29d0419-7b4e-476a-d846-adba10627459",
        "id": "QZHvQBrodq3S"
      },
      "execution_count": null,
      "outputs": [
        {
          "output_type": "stream",
          "name": "stdout",
          "text": [
            "# of acoustic features where p < 0.05: 3\n"
          ]
        },
        {
          "output_type": "execute_result",
          "data": {
            "text/plain": [
              "mfcc_sma[2].1    0.135997\n",
              "mfcc_sma[2]      0.107883\n",
              "mfcc2_sma3       0.107883\n",
              "Name: Power: Left OFC, dtype: float64"
            ]
          },
          "metadata": {},
          "execution_count": 75
        }
      ]
    },
    {
      "cell_type": "code",
      "source": [
        "AcousticCorrelates95_Left_OFC.nlargest(len(AcousticCorrelates95_Left_OFC)).to_csv(date + '_AcousticCorrelates95_Left_OFC.csv',header=['r'],index_label='Acoustic Feature')"
      ],
      "metadata": {
        "id": "8o_kU5h9dq3T"
      },
      "execution_count": null,
      "outputs": []
    },
    {
      "cell_type": "code",
      "source": [
        "print(AcousticCorrelates95_Left_OFC.index.tolist())"
      ],
      "metadata": {
        "colab": {
          "base_uri": "https://localhost:8080/"
        },
        "outputId": "27036c4c-bbce-40c1-a271-e940027c2ecc",
        "id": "5lIM0_V7dq3T"
      },
      "execution_count": null,
      "outputs": [
        {
          "output_type": "stream",
          "name": "stdout",
          "text": [
            "['mfcc_sma[2]', 'mfcc2_sma3', 'mfcc_sma[2].1']\n"
          ]
        }
      ]
    },
    {
      "cell_type": "markdown",
      "source": [],
      "metadata": {
        "id": "Ur1i6JWmdq3T"
      }
    },
    {
      "cell_type": "markdown",
      "source": [
        "#Feb 27 Experiment 5 (waiting for textgrids)"
      ],
      "metadata": {
        "id": "OU4GTD9PYYr_"
      }
    },
    {
      "cell_type": "markdown",
      "source": [
        "##Setup"
      ],
      "metadata": {
        "id": "sdDNmtDVd3Zg"
      }
    },
    {
      "cell_type": "code",
      "source": [
        "date ='2023-02-27_Experiment5'"
      ],
      "metadata": {
        "id": "q4HADp6Qd5hv"
      },
      "execution_count": null,
      "outputs": []
    },
    {
      "cell_type": "code",
      "source": [
        "powerAmplitudeDF = pd.read_csv('2023-02-27-Experiment5-Power.csv')\n",
        "del powerAmplitudeDF['Unnamed: 0']\n",
        "powerAmplitudeDF.head()"
      ],
      "metadata": {
        "colab": {
          "base_uri": "https://localhost:8080/",
          "height": 206
        },
        "outputId": "c761c81d-4c5e-4b32-bd5d-a00e7f4bbe86",
        "id": "xvRlY9dGYYr_"
      },
      "execution_count": null,
      "outputs": [
        {
          "output_type": "execute_result",
          "data": {
            "text/plain": [
              "   Power: Left OFC  Power: Left vlPFC  Power: Right OFC  Power: Right vlPFC\n",
              "0         6.040388           9.369975         11.474579            9.765721\n",
              "1         4.740961          11.204577          9.600362            9.777031\n",
              "2         4.904171           8.815254          4.404419           11.895500\n",
              "3         5.530016           7.770287          8.693739           10.962857\n",
              "4         6.540160          11.214869          5.332976           10.099922"
            ],
            "text/html": [
              "\n",
              "  <div id=\"df-0014f5a4-6df8-4307-be27-75ce2f36f843\" class=\"colab-df-container\">\n",
              "    <div>\n",
              "<style scoped>\n",
              "    .dataframe tbody tr th:only-of-type {\n",
              "        vertical-align: middle;\n",
              "    }\n",
              "\n",
              "    .dataframe tbody tr th {\n",
              "        vertical-align: top;\n",
              "    }\n",
              "\n",
              "    .dataframe thead th {\n",
              "        text-align: right;\n",
              "    }\n",
              "</style>\n",
              "<table border=\"1\" class=\"dataframe\">\n",
              "  <thead>\n",
              "    <tr style=\"text-align: right;\">\n",
              "      <th></th>\n",
              "      <th>Power: Left OFC</th>\n",
              "      <th>Power: Left vlPFC</th>\n",
              "      <th>Power: Right OFC</th>\n",
              "      <th>Power: Right vlPFC</th>\n",
              "    </tr>\n",
              "  </thead>\n",
              "  <tbody>\n",
              "    <tr>\n",
              "      <th>0</th>\n",
              "      <td>6.040388</td>\n",
              "      <td>9.369975</td>\n",
              "      <td>11.474579</td>\n",
              "      <td>9.765721</td>\n",
              "    </tr>\n",
              "    <tr>\n",
              "      <th>1</th>\n",
              "      <td>4.740961</td>\n",
              "      <td>11.204577</td>\n",
              "      <td>9.600362</td>\n",
              "      <td>9.777031</td>\n",
              "    </tr>\n",
              "    <tr>\n",
              "      <th>2</th>\n",
              "      <td>4.904171</td>\n",
              "      <td>8.815254</td>\n",
              "      <td>4.404419</td>\n",
              "      <td>11.895500</td>\n",
              "    </tr>\n",
              "    <tr>\n",
              "      <th>3</th>\n",
              "      <td>5.530016</td>\n",
              "      <td>7.770287</td>\n",
              "      <td>8.693739</td>\n",
              "      <td>10.962857</td>\n",
              "    </tr>\n",
              "    <tr>\n",
              "      <th>4</th>\n",
              "      <td>6.540160</td>\n",
              "      <td>11.214869</td>\n",
              "      <td>5.332976</td>\n",
              "      <td>10.099922</td>\n",
              "    </tr>\n",
              "  </tbody>\n",
              "</table>\n",
              "</div>\n",
              "    <div class=\"colab-df-buttons\">\n",
              "\n",
              "  <div class=\"colab-df-container\">\n",
              "    <button class=\"colab-df-convert\" onclick=\"convertToInteractive('df-0014f5a4-6df8-4307-be27-75ce2f36f843')\"\n",
              "            title=\"Convert this dataframe to an interactive table.\"\n",
              "            style=\"display:none;\">\n",
              "\n",
              "  <svg xmlns=\"http://www.w3.org/2000/svg\" height=\"24px\" viewBox=\"0 -960 960 960\">\n",
              "    <path d=\"M120-120v-720h720v720H120Zm60-500h600v-160H180v160Zm220 220h160v-160H400v160Zm0 220h160v-160H400v160ZM180-400h160v-160H180v160Zm440 0h160v-160H620v160ZM180-180h160v-160H180v160Zm440 0h160v-160H620v160Z\"/>\n",
              "  </svg>\n",
              "    </button>\n",
              "\n",
              "  <style>\n",
              "    .colab-df-container {\n",
              "      display:flex;\n",
              "      gap: 12px;\n",
              "    }\n",
              "\n",
              "    .colab-df-convert {\n",
              "      background-color: #E8F0FE;\n",
              "      border: none;\n",
              "      border-radius: 50%;\n",
              "      cursor: pointer;\n",
              "      display: none;\n",
              "      fill: #1967D2;\n",
              "      height: 32px;\n",
              "      padding: 0 0 0 0;\n",
              "      width: 32px;\n",
              "    }\n",
              "\n",
              "    .colab-df-convert:hover {\n",
              "      background-color: #E2EBFA;\n",
              "      box-shadow: 0px 1px 2px rgba(60, 64, 67, 0.3), 0px 1px 3px 1px rgba(60, 64, 67, 0.15);\n",
              "      fill: #174EA6;\n",
              "    }\n",
              "\n",
              "    .colab-df-buttons div {\n",
              "      margin-bottom: 4px;\n",
              "    }\n",
              "\n",
              "    [theme=dark] .colab-df-convert {\n",
              "      background-color: #3B4455;\n",
              "      fill: #D2E3FC;\n",
              "    }\n",
              "\n",
              "    [theme=dark] .colab-df-convert:hover {\n",
              "      background-color: #434B5C;\n",
              "      box-shadow: 0px 1px 3px 1px rgba(0, 0, 0, 0.15);\n",
              "      filter: drop-shadow(0px 1px 2px rgba(0, 0, 0, 0.3));\n",
              "      fill: #FFFFFF;\n",
              "    }\n",
              "  </style>\n",
              "\n",
              "    <script>\n",
              "      const buttonEl =\n",
              "        document.querySelector('#df-0014f5a4-6df8-4307-be27-75ce2f36f843 button.colab-df-convert');\n",
              "      buttonEl.style.display =\n",
              "        google.colab.kernel.accessAllowed ? 'block' : 'none';\n",
              "\n",
              "      async function convertToInteractive(key) {\n",
              "        const element = document.querySelector('#df-0014f5a4-6df8-4307-be27-75ce2f36f843');\n",
              "        const dataTable =\n",
              "          await google.colab.kernel.invokeFunction('convertToInteractive',\n",
              "                                                    [key], {});\n",
              "        if (!dataTable) return;\n",
              "\n",
              "        const docLinkHtml = 'Like what you see? Visit the ' +\n",
              "          '<a target=\"_blank\" href=https://colab.research.google.com/notebooks/data_table.ipynb>data table notebook</a>'\n",
              "          + ' to learn more about interactive tables.';\n",
              "        element.innerHTML = '';\n",
              "        dataTable['output_type'] = 'display_data';\n",
              "        await google.colab.output.renderOutput(dataTable, element);\n",
              "        const docLink = document.createElement('div');\n",
              "        docLink.innerHTML = docLinkHtml;\n",
              "        element.appendChild(docLink);\n",
              "      }\n",
              "    </script>\n",
              "  </div>\n",
              "\n",
              "\n",
              "<div id=\"df-7bfcee32-6767-41dc-acca-6f29c273cbf8\">\n",
              "  <button class=\"colab-df-quickchart\" onclick=\"quickchart('df-7bfcee32-6767-41dc-acca-6f29c273cbf8')\"\n",
              "            title=\"Suggest charts\"\n",
              "            style=\"display:none;\">\n",
              "\n",
              "<svg xmlns=\"http://www.w3.org/2000/svg\" height=\"24px\"viewBox=\"0 0 24 24\"\n",
              "     width=\"24px\">\n",
              "    <g>\n",
              "        <path d=\"M19 3H5c-1.1 0-2 .9-2 2v14c0 1.1.9 2 2 2h14c1.1 0 2-.9 2-2V5c0-1.1-.9-2-2-2zM9 17H7v-7h2v7zm4 0h-2V7h2v10zm4 0h-2v-4h2v4z\"/>\n",
              "    </g>\n",
              "</svg>\n",
              "  </button>\n",
              "\n",
              "<style>\n",
              "  .colab-df-quickchart {\n",
              "      --bg-color: #E8F0FE;\n",
              "      --fill-color: #1967D2;\n",
              "      --hover-bg-color: #E2EBFA;\n",
              "      --hover-fill-color: #174EA6;\n",
              "      --disabled-fill-color: #AAA;\n",
              "      --disabled-bg-color: #DDD;\n",
              "  }\n",
              "\n",
              "  [theme=dark] .colab-df-quickchart {\n",
              "      --bg-color: #3B4455;\n",
              "      --fill-color: #D2E3FC;\n",
              "      --hover-bg-color: #434B5C;\n",
              "      --hover-fill-color: #FFFFFF;\n",
              "      --disabled-bg-color: #3B4455;\n",
              "      --disabled-fill-color: #666;\n",
              "  }\n",
              "\n",
              "  .colab-df-quickchart {\n",
              "    background-color: var(--bg-color);\n",
              "    border: none;\n",
              "    border-radius: 50%;\n",
              "    cursor: pointer;\n",
              "    display: none;\n",
              "    fill: var(--fill-color);\n",
              "    height: 32px;\n",
              "    padding: 0;\n",
              "    width: 32px;\n",
              "  }\n",
              "\n",
              "  .colab-df-quickchart:hover {\n",
              "    background-color: var(--hover-bg-color);\n",
              "    box-shadow: 0 1px 2px rgba(60, 64, 67, 0.3), 0 1px 3px 1px rgba(60, 64, 67, 0.15);\n",
              "    fill: var(--button-hover-fill-color);\n",
              "  }\n",
              "\n",
              "  .colab-df-quickchart-complete:disabled,\n",
              "  .colab-df-quickchart-complete:disabled:hover {\n",
              "    background-color: var(--disabled-bg-color);\n",
              "    fill: var(--disabled-fill-color);\n",
              "    box-shadow: none;\n",
              "  }\n",
              "\n",
              "  .colab-df-spinner {\n",
              "    border: 2px solid var(--fill-color);\n",
              "    border-color: transparent;\n",
              "    border-bottom-color: var(--fill-color);\n",
              "    animation:\n",
              "      spin 1s steps(1) infinite;\n",
              "  }\n",
              "\n",
              "  @keyframes spin {\n",
              "    0% {\n",
              "      border-color: transparent;\n",
              "      border-bottom-color: var(--fill-color);\n",
              "      border-left-color: var(--fill-color);\n",
              "    }\n",
              "    20% {\n",
              "      border-color: transparent;\n",
              "      border-left-color: var(--fill-color);\n",
              "      border-top-color: var(--fill-color);\n",
              "    }\n",
              "    30% {\n",
              "      border-color: transparent;\n",
              "      border-left-color: var(--fill-color);\n",
              "      border-top-color: var(--fill-color);\n",
              "      border-right-color: var(--fill-color);\n",
              "    }\n",
              "    40% {\n",
              "      border-color: transparent;\n",
              "      border-right-color: var(--fill-color);\n",
              "      border-top-color: var(--fill-color);\n",
              "    }\n",
              "    60% {\n",
              "      border-color: transparent;\n",
              "      border-right-color: var(--fill-color);\n",
              "    }\n",
              "    80% {\n",
              "      border-color: transparent;\n",
              "      border-right-color: var(--fill-color);\n",
              "      border-bottom-color: var(--fill-color);\n",
              "    }\n",
              "    90% {\n",
              "      border-color: transparent;\n",
              "      border-bottom-color: var(--fill-color);\n",
              "    }\n",
              "  }\n",
              "</style>\n",
              "\n",
              "  <script>\n",
              "    async function quickchart(key) {\n",
              "      const quickchartButtonEl =\n",
              "        document.querySelector('#' + key + ' button');\n",
              "      quickchartButtonEl.disabled = true;  // To prevent multiple clicks.\n",
              "      quickchartButtonEl.classList.add('colab-df-spinner');\n",
              "      try {\n",
              "        const charts = await google.colab.kernel.invokeFunction(\n",
              "            'suggestCharts', [key], {});\n",
              "      } catch (error) {\n",
              "        console.error('Error during call to suggestCharts:', error);\n",
              "      }\n",
              "      quickchartButtonEl.classList.remove('colab-df-spinner');\n",
              "      quickchartButtonEl.classList.add('colab-df-quickchart-complete');\n",
              "    }\n",
              "    (() => {\n",
              "      let quickchartButtonEl =\n",
              "        document.querySelector('#df-7bfcee32-6767-41dc-acca-6f29c273cbf8 button');\n",
              "      quickchartButtonEl.style.display =\n",
              "        google.colab.kernel.accessAllowed ? 'block' : 'none';\n",
              "    })();\n",
              "  </script>\n",
              "</div>\n",
              "    </div>\n",
              "  </div>\n"
            ]
          },
          "metadata": {},
          "execution_count": 80
        }
      ]
    },
    {
      "cell_type": "code",
      "source": [
        "powerAmplitudeDF.shape"
      ],
      "metadata": {
        "colab": {
          "base_uri": "https://localhost:8080/"
        },
        "outputId": "a99671cf-2cff-4035-a4a3-bd93946adbe7",
        "id": "1HlTGsU2YYsA"
      },
      "execution_count": null,
      "outputs": [
        {
          "output_type": "execute_result",
          "data": {
            "text/plain": [
              "(624, 4)"
            ]
          },
          "metadata": {},
          "execution_count": 81
        }
      ]
    },
    {
      "cell_type": "code",
      "source": [
        "acousticFeatsDF = pd.read_csv('AcousticFeatures_noModeratorSpeech_aDBS012_' + '2023-02-27_Experiment5_' + 'audio_amplitude.csv')\n",
        "del acousticFeatsDF['Unnamed: 0']\n",
        "acousticFeatsDF.head()"
      ],
      "metadata": {
        "colab": {
          "base_uri": "https://localhost:8080/",
          "height": 256
        },
        "outputId": "129e5455-2fe9-4cd9-87fd-39a1a47306a3",
        "id": "TlVMV2MXYYsA"
      },
      "execution_count": null,
      "outputs": [
        {
          "output_type": "execute_result",
          "data": {
            "text/plain": [
              "   F0final_sma  voicingFinalUnclipped_sma  jitterLocal_sma  jitterDDP_sma  \\\n",
              "0     0.000000                   0.000000         0.000000       0.000000   \n",
              "1     0.000000                   0.000000         0.000000       0.000000   \n",
              "2     5.074933                   0.088293         0.003110       0.000000   \n",
              "3    21.654139                   0.264973         0.017881       0.017846   \n",
              "4    14.408586                   0.208845         0.002083       0.001160   \n",
              "\n",
              "   shimmerLocal_sma  logHNR_sma  audspec_lengthL1norm_sma  \\\n",
              "0          0.000000  -100.00000                  0.001034   \n",
              "1          0.000000   -99.65611                  0.005660   \n",
              "2          0.020596   -92.11421                  0.095801   \n",
              "3          0.073430   -66.56270                  0.105928   \n",
              "4          0.013484   -74.86962                  0.133912   \n",
              "\n",
              "   audspecRasta_lengthL1norm_sma  pcm_RMSenergy_sma  pcm_zcr_sma  ...  \\\n",
              "0                       0.988341           0.000000     0.999244  ...   \n",
              "1                       2.070137           0.000039     0.951934  ...   \n",
              "2                       5.875671           0.001101     0.309874  ...   \n",
              "3                       3.049266           0.001712     0.344805  ...   \n",
              "4                       1.252230           0.001552     0.212804  ...   \n",
              "\n",
              "   lspFreq_sma_de[2]  lspFreq_sma_de[3]  lspFreq_sma_de[4]  lspFreq_sma_de[5]  \\\n",
              "0           0.000000           0.000000           0.000000           0.000000   \n",
              "1           0.000020          -0.000762          -0.000765          -0.002072   \n",
              "2           0.000129           0.000296          -0.000063           0.000073   \n",
              "3           0.000262           0.000287          -0.000472          -0.000585   \n",
              "4          -0.000041          -0.000360           0.000078           0.000143   \n",
              "\n",
              "   lspFreq_sma_de[6]  lspFreq_sma_de[7]  pcm_zcr_sma_de.1  voiceProb_sma_de  \\\n",
              "0           0.000000           0.000000          0.000000          0.000000   \n",
              "1          -0.002411          -0.004873         -0.009227          0.003475   \n",
              "2          -0.000141          -0.000285         -0.000306          0.000336   \n",
              "3          -0.000327          -0.000235         -0.000139          0.002086   \n",
              "4           0.000336           0.000222          0.000155         -0.000961   \n",
              "\n",
              "   F0_sma_de  F0env_sma_de  \n",
              "0   0.000000      0.000000  \n",
              "1   0.000000      0.000000  \n",
              "2   0.000000      1.862618  \n",
              "3   1.497543      1.848263  \n",
              "4  -1.497543      0.147647  \n",
              "\n",
              "[5 rows x 207 columns]"
            ],
            "text/html": [
              "\n",
              "  <div id=\"df-8c24c03a-06b5-4b2c-aee1-c33d6ede88ec\" class=\"colab-df-container\">\n",
              "    <div>\n",
              "<style scoped>\n",
              "    .dataframe tbody tr th:only-of-type {\n",
              "        vertical-align: middle;\n",
              "    }\n",
              "\n",
              "    .dataframe tbody tr th {\n",
              "        vertical-align: top;\n",
              "    }\n",
              "\n",
              "    .dataframe thead th {\n",
              "        text-align: right;\n",
              "    }\n",
              "</style>\n",
              "<table border=\"1\" class=\"dataframe\">\n",
              "  <thead>\n",
              "    <tr style=\"text-align: right;\">\n",
              "      <th></th>\n",
              "      <th>F0final_sma</th>\n",
              "      <th>voicingFinalUnclipped_sma</th>\n",
              "      <th>jitterLocal_sma</th>\n",
              "      <th>jitterDDP_sma</th>\n",
              "      <th>shimmerLocal_sma</th>\n",
              "      <th>logHNR_sma</th>\n",
              "      <th>audspec_lengthL1norm_sma</th>\n",
              "      <th>audspecRasta_lengthL1norm_sma</th>\n",
              "      <th>pcm_RMSenergy_sma</th>\n",
              "      <th>pcm_zcr_sma</th>\n",
              "      <th>...</th>\n",
              "      <th>lspFreq_sma_de[2]</th>\n",
              "      <th>lspFreq_sma_de[3]</th>\n",
              "      <th>lspFreq_sma_de[4]</th>\n",
              "      <th>lspFreq_sma_de[5]</th>\n",
              "      <th>lspFreq_sma_de[6]</th>\n",
              "      <th>lspFreq_sma_de[7]</th>\n",
              "      <th>pcm_zcr_sma_de.1</th>\n",
              "      <th>voiceProb_sma_de</th>\n",
              "      <th>F0_sma_de</th>\n",
              "      <th>F0env_sma_de</th>\n",
              "    </tr>\n",
              "  </thead>\n",
              "  <tbody>\n",
              "    <tr>\n",
              "      <th>0</th>\n",
              "      <td>0.000000</td>\n",
              "      <td>0.000000</td>\n",
              "      <td>0.000000</td>\n",
              "      <td>0.000000</td>\n",
              "      <td>0.000000</td>\n",
              "      <td>-100.00000</td>\n",
              "      <td>0.001034</td>\n",
              "      <td>0.988341</td>\n",
              "      <td>0.000000</td>\n",
              "      <td>0.999244</td>\n",
              "      <td>...</td>\n",
              "      <td>0.000000</td>\n",
              "      <td>0.000000</td>\n",
              "      <td>0.000000</td>\n",
              "      <td>0.000000</td>\n",
              "      <td>0.000000</td>\n",
              "      <td>0.000000</td>\n",
              "      <td>0.000000</td>\n",
              "      <td>0.000000</td>\n",
              "      <td>0.000000</td>\n",
              "      <td>0.000000</td>\n",
              "    </tr>\n",
              "    <tr>\n",
              "      <th>1</th>\n",
              "      <td>0.000000</td>\n",
              "      <td>0.000000</td>\n",
              "      <td>0.000000</td>\n",
              "      <td>0.000000</td>\n",
              "      <td>0.000000</td>\n",
              "      <td>-99.65611</td>\n",
              "      <td>0.005660</td>\n",
              "      <td>2.070137</td>\n",
              "      <td>0.000039</td>\n",
              "      <td>0.951934</td>\n",
              "      <td>...</td>\n",
              "      <td>0.000020</td>\n",
              "      <td>-0.000762</td>\n",
              "      <td>-0.000765</td>\n",
              "      <td>-0.002072</td>\n",
              "      <td>-0.002411</td>\n",
              "      <td>-0.004873</td>\n",
              "      <td>-0.009227</td>\n",
              "      <td>0.003475</td>\n",
              "      <td>0.000000</td>\n",
              "      <td>0.000000</td>\n",
              "    </tr>\n",
              "    <tr>\n",
              "      <th>2</th>\n",
              "      <td>5.074933</td>\n",
              "      <td>0.088293</td>\n",
              "      <td>0.003110</td>\n",
              "      <td>0.000000</td>\n",
              "      <td>0.020596</td>\n",
              "      <td>-92.11421</td>\n",
              "      <td>0.095801</td>\n",
              "      <td>5.875671</td>\n",
              "      <td>0.001101</td>\n",
              "      <td>0.309874</td>\n",
              "      <td>...</td>\n",
              "      <td>0.000129</td>\n",
              "      <td>0.000296</td>\n",
              "      <td>-0.000063</td>\n",
              "      <td>0.000073</td>\n",
              "      <td>-0.000141</td>\n",
              "      <td>-0.000285</td>\n",
              "      <td>-0.000306</td>\n",
              "      <td>0.000336</td>\n",
              "      <td>0.000000</td>\n",
              "      <td>1.862618</td>\n",
              "    </tr>\n",
              "    <tr>\n",
              "      <th>3</th>\n",
              "      <td>21.654139</td>\n",
              "      <td>0.264973</td>\n",
              "      <td>0.017881</td>\n",
              "      <td>0.017846</td>\n",
              "      <td>0.073430</td>\n",
              "      <td>-66.56270</td>\n",
              "      <td>0.105928</td>\n",
              "      <td>3.049266</td>\n",
              "      <td>0.001712</td>\n",
              "      <td>0.344805</td>\n",
              "      <td>...</td>\n",
              "      <td>0.000262</td>\n",
              "      <td>0.000287</td>\n",
              "      <td>-0.000472</td>\n",
              "      <td>-0.000585</td>\n",
              "      <td>-0.000327</td>\n",
              "      <td>-0.000235</td>\n",
              "      <td>-0.000139</td>\n",
              "      <td>0.002086</td>\n",
              "      <td>1.497543</td>\n",
              "      <td>1.848263</td>\n",
              "    </tr>\n",
              "    <tr>\n",
              "      <th>4</th>\n",
              "      <td>14.408586</td>\n",
              "      <td>0.208845</td>\n",
              "      <td>0.002083</td>\n",
              "      <td>0.001160</td>\n",
              "      <td>0.013484</td>\n",
              "      <td>-74.86962</td>\n",
              "      <td>0.133912</td>\n",
              "      <td>1.252230</td>\n",
              "      <td>0.001552</td>\n",
              "      <td>0.212804</td>\n",
              "      <td>...</td>\n",
              "      <td>-0.000041</td>\n",
              "      <td>-0.000360</td>\n",
              "      <td>0.000078</td>\n",
              "      <td>0.000143</td>\n",
              "      <td>0.000336</td>\n",
              "      <td>0.000222</td>\n",
              "      <td>0.000155</td>\n",
              "      <td>-0.000961</td>\n",
              "      <td>-1.497543</td>\n",
              "      <td>0.147647</td>\n",
              "    </tr>\n",
              "  </tbody>\n",
              "</table>\n",
              "<p>5 rows × 207 columns</p>\n",
              "</div>\n",
              "    <div class=\"colab-df-buttons\">\n",
              "\n",
              "  <div class=\"colab-df-container\">\n",
              "    <button class=\"colab-df-convert\" onclick=\"convertToInteractive('df-8c24c03a-06b5-4b2c-aee1-c33d6ede88ec')\"\n",
              "            title=\"Convert this dataframe to an interactive table.\"\n",
              "            style=\"display:none;\">\n",
              "\n",
              "  <svg xmlns=\"http://www.w3.org/2000/svg\" height=\"24px\" viewBox=\"0 -960 960 960\">\n",
              "    <path d=\"M120-120v-720h720v720H120Zm60-500h600v-160H180v160Zm220 220h160v-160H400v160Zm0 220h160v-160H400v160ZM180-400h160v-160H180v160Zm440 0h160v-160H620v160ZM180-180h160v-160H180v160Zm440 0h160v-160H620v160Z\"/>\n",
              "  </svg>\n",
              "    </button>\n",
              "\n",
              "  <style>\n",
              "    .colab-df-container {\n",
              "      display:flex;\n",
              "      gap: 12px;\n",
              "    }\n",
              "\n",
              "    .colab-df-convert {\n",
              "      background-color: #E8F0FE;\n",
              "      border: none;\n",
              "      border-radius: 50%;\n",
              "      cursor: pointer;\n",
              "      display: none;\n",
              "      fill: #1967D2;\n",
              "      height: 32px;\n",
              "      padding: 0 0 0 0;\n",
              "      width: 32px;\n",
              "    }\n",
              "\n",
              "    .colab-df-convert:hover {\n",
              "      background-color: #E2EBFA;\n",
              "      box-shadow: 0px 1px 2px rgba(60, 64, 67, 0.3), 0px 1px 3px 1px rgba(60, 64, 67, 0.15);\n",
              "      fill: #174EA6;\n",
              "    }\n",
              "\n",
              "    .colab-df-buttons div {\n",
              "      margin-bottom: 4px;\n",
              "    }\n",
              "\n",
              "    [theme=dark] .colab-df-convert {\n",
              "      background-color: #3B4455;\n",
              "      fill: #D2E3FC;\n",
              "    }\n",
              "\n",
              "    [theme=dark] .colab-df-convert:hover {\n",
              "      background-color: #434B5C;\n",
              "      box-shadow: 0px 1px 3px 1px rgba(0, 0, 0, 0.15);\n",
              "      filter: drop-shadow(0px 1px 2px rgba(0, 0, 0, 0.3));\n",
              "      fill: #FFFFFF;\n",
              "    }\n",
              "  </style>\n",
              "\n",
              "    <script>\n",
              "      const buttonEl =\n",
              "        document.querySelector('#df-8c24c03a-06b5-4b2c-aee1-c33d6ede88ec button.colab-df-convert');\n",
              "      buttonEl.style.display =\n",
              "        google.colab.kernel.accessAllowed ? 'block' : 'none';\n",
              "\n",
              "      async function convertToInteractive(key) {\n",
              "        const element = document.querySelector('#df-8c24c03a-06b5-4b2c-aee1-c33d6ede88ec');\n",
              "        const dataTable =\n",
              "          await google.colab.kernel.invokeFunction('convertToInteractive',\n",
              "                                                    [key], {});\n",
              "        if (!dataTable) return;\n",
              "\n",
              "        const docLinkHtml = 'Like what you see? Visit the ' +\n",
              "          '<a target=\"_blank\" href=https://colab.research.google.com/notebooks/data_table.ipynb>data table notebook</a>'\n",
              "          + ' to learn more about interactive tables.';\n",
              "        element.innerHTML = '';\n",
              "        dataTable['output_type'] = 'display_data';\n",
              "        await google.colab.output.renderOutput(dataTable, element);\n",
              "        const docLink = document.createElement('div');\n",
              "        docLink.innerHTML = docLinkHtml;\n",
              "        element.appendChild(docLink);\n",
              "      }\n",
              "    </script>\n",
              "  </div>\n",
              "\n",
              "\n",
              "<div id=\"df-d4691a09-2ef1-48bb-8511-974f6a530ad1\">\n",
              "  <button class=\"colab-df-quickchart\" onclick=\"quickchart('df-d4691a09-2ef1-48bb-8511-974f6a530ad1')\"\n",
              "            title=\"Suggest charts\"\n",
              "            style=\"display:none;\">\n",
              "\n",
              "<svg xmlns=\"http://www.w3.org/2000/svg\" height=\"24px\"viewBox=\"0 0 24 24\"\n",
              "     width=\"24px\">\n",
              "    <g>\n",
              "        <path d=\"M19 3H5c-1.1 0-2 .9-2 2v14c0 1.1.9 2 2 2h14c1.1 0 2-.9 2-2V5c0-1.1-.9-2-2-2zM9 17H7v-7h2v7zm4 0h-2V7h2v10zm4 0h-2v-4h2v4z\"/>\n",
              "    </g>\n",
              "</svg>\n",
              "  </button>\n",
              "\n",
              "<style>\n",
              "  .colab-df-quickchart {\n",
              "      --bg-color: #E8F0FE;\n",
              "      --fill-color: #1967D2;\n",
              "      --hover-bg-color: #E2EBFA;\n",
              "      --hover-fill-color: #174EA6;\n",
              "      --disabled-fill-color: #AAA;\n",
              "      --disabled-bg-color: #DDD;\n",
              "  }\n",
              "\n",
              "  [theme=dark] .colab-df-quickchart {\n",
              "      --bg-color: #3B4455;\n",
              "      --fill-color: #D2E3FC;\n",
              "      --hover-bg-color: #434B5C;\n",
              "      --hover-fill-color: #FFFFFF;\n",
              "      --disabled-bg-color: #3B4455;\n",
              "      --disabled-fill-color: #666;\n",
              "  }\n",
              "\n",
              "  .colab-df-quickchart {\n",
              "    background-color: var(--bg-color);\n",
              "    border: none;\n",
              "    border-radius: 50%;\n",
              "    cursor: pointer;\n",
              "    display: none;\n",
              "    fill: var(--fill-color);\n",
              "    height: 32px;\n",
              "    padding: 0;\n",
              "    width: 32px;\n",
              "  }\n",
              "\n",
              "  .colab-df-quickchart:hover {\n",
              "    background-color: var(--hover-bg-color);\n",
              "    box-shadow: 0 1px 2px rgba(60, 64, 67, 0.3), 0 1px 3px 1px rgba(60, 64, 67, 0.15);\n",
              "    fill: var(--button-hover-fill-color);\n",
              "  }\n",
              "\n",
              "  .colab-df-quickchart-complete:disabled,\n",
              "  .colab-df-quickchart-complete:disabled:hover {\n",
              "    background-color: var(--disabled-bg-color);\n",
              "    fill: var(--disabled-fill-color);\n",
              "    box-shadow: none;\n",
              "  }\n",
              "\n",
              "  .colab-df-spinner {\n",
              "    border: 2px solid var(--fill-color);\n",
              "    border-color: transparent;\n",
              "    border-bottom-color: var(--fill-color);\n",
              "    animation:\n",
              "      spin 1s steps(1) infinite;\n",
              "  }\n",
              "\n",
              "  @keyframes spin {\n",
              "    0% {\n",
              "      border-color: transparent;\n",
              "      border-bottom-color: var(--fill-color);\n",
              "      border-left-color: var(--fill-color);\n",
              "    }\n",
              "    20% {\n",
              "      border-color: transparent;\n",
              "      border-left-color: var(--fill-color);\n",
              "      border-top-color: var(--fill-color);\n",
              "    }\n",
              "    30% {\n",
              "      border-color: transparent;\n",
              "      border-left-color: var(--fill-color);\n",
              "      border-top-color: var(--fill-color);\n",
              "      border-right-color: var(--fill-color);\n",
              "    }\n",
              "    40% {\n",
              "      border-color: transparent;\n",
              "      border-right-color: var(--fill-color);\n",
              "      border-top-color: var(--fill-color);\n",
              "    }\n",
              "    60% {\n",
              "      border-color: transparent;\n",
              "      border-right-color: var(--fill-color);\n",
              "    }\n",
              "    80% {\n",
              "      border-color: transparent;\n",
              "      border-right-color: var(--fill-color);\n",
              "      border-bottom-color: var(--fill-color);\n",
              "    }\n",
              "    90% {\n",
              "      border-color: transparent;\n",
              "      border-bottom-color: var(--fill-color);\n",
              "    }\n",
              "  }\n",
              "</style>\n",
              "\n",
              "  <script>\n",
              "    async function quickchart(key) {\n",
              "      const quickchartButtonEl =\n",
              "        document.querySelector('#' + key + ' button');\n",
              "      quickchartButtonEl.disabled = true;  // To prevent multiple clicks.\n",
              "      quickchartButtonEl.classList.add('colab-df-spinner');\n",
              "      try {\n",
              "        const charts = await google.colab.kernel.invokeFunction(\n",
              "            'suggestCharts', [key], {});\n",
              "      } catch (error) {\n",
              "        console.error('Error during call to suggestCharts:', error);\n",
              "      }\n",
              "      quickchartButtonEl.classList.remove('colab-df-spinner');\n",
              "      quickchartButtonEl.classList.add('colab-df-quickchart-complete');\n",
              "    }\n",
              "    (() => {\n",
              "      let quickchartButtonEl =\n",
              "        document.querySelector('#df-d4691a09-2ef1-48bb-8511-974f6a530ad1 button');\n",
              "      quickchartButtonEl.style.display =\n",
              "        google.colab.kernel.accessAllowed ? 'block' : 'none';\n",
              "    })();\n",
              "  </script>\n",
              "</div>\n",
              "    </div>\n",
              "  </div>\n"
            ]
          },
          "metadata": {},
          "execution_count": 82
        }
      ]
    },
    {
      "cell_type": "code",
      "source": [
        "acousticFeatsDF.shape"
      ],
      "metadata": {
        "colab": {
          "base_uri": "https://localhost:8080/"
        },
        "outputId": "2c26cc62-755e-4cb0-88be-88ab8016735e",
        "id": "vd2yfb8wYYsB"
      },
      "execution_count": null,
      "outputs": [
        {
          "output_type": "execute_result",
          "data": {
            "text/plain": [
              "(365, 207)"
            ]
          },
          "metadata": {},
          "execution_count": 83
        }
      ]
    },
    {
      "cell_type": "markdown",
      "source": [
        "Sameer: all power values after t=372 is NaN anyways, explains large size dispairtiy"
      ],
      "metadata": {
        "id": "Q0ln2L_ZBah9"
      }
    },
    {
      "cell_type": "code",
      "source": [
        "powerAmplitudeDF = powerAmplitudeDF.iloc[:acousticFeatsDF.shape[0]]\n",
        "powerAmplitudeDF.shape"
      ],
      "metadata": {
        "colab": {
          "base_uri": "https://localhost:8080/"
        },
        "outputId": "31090227-8642-4617-cdc9-07a198a0bb05",
        "id": "1oMQXdQZYYsB"
      },
      "execution_count": null,
      "outputs": [
        {
          "output_type": "execute_result",
          "data": {
            "text/plain": [
              "(365, 4)"
            ]
          },
          "metadata": {},
          "execution_count": 84
        }
      ]
    },
    {
      "cell_type": "code",
      "source": [
        "powerAmplitudeAllLLDdf = pd.concat([powerAmplitudeDF,acousticFeatsDF],axis=1)\n",
        "powerAmplitudeAllLLDdf.shape"
      ],
      "metadata": {
        "colab": {
          "base_uri": "https://localhost:8080/"
        },
        "outputId": "665a02cb-a5f4-4ede-dc45-7c08bb3394f3",
        "id": "A53gxrenYYsB"
      },
      "execution_count": null,
      "outputs": [
        {
          "output_type": "execute_result",
          "data": {
            "text/plain": [
              "(365, 211)"
            ]
          },
          "metadata": {},
          "execution_count": 85
        }
      ]
    },
    {
      "cell_type": "markdown",
      "source": [
        "Website to compute p value from r value and n: http://vassarstats.net/tabs_r.html"
      ],
      "metadata": {
        "id": "9Qtmqt_uYYsB"
      }
    },
    {
      "cell_type": "markdown",
      "source": [
        "Need r >= 0.077 for p < 0.01\n",
        "Need r >= 0.059 for p < 0.05"
      ],
      "metadata": {
        "id": "rNvtXwn3YYsB"
      }
    },
    {
      "cell_type": "code",
      "source": [
        "rValFor99ConfidenceLevel = 0.134\n",
        "rValFor95ConfidenceLevel = 0.102"
      ],
      "metadata": {
        "id": "bWDhiMdLYYsC"
      },
      "execution_count": null,
      "outputs": []
    },
    {
      "cell_type": "code",
      "source": [],
      "metadata": {
        "id": "GiSDytZNeA0G"
      },
      "execution_count": null,
      "outputs": []
    },
    {
      "cell_type": "code",
      "source": [],
      "metadata": {
        "id": "B31za5mAPj6q"
      },
      "execution_count": null,
      "outputs": []
    },
    {
      "cell_type": "markdown",
      "source": [
        "##random noise t-test (9)"
      ],
      "metadata": {
        "id": "YGFAQSwDPkAR"
      }
    },
    {
      "cell_type": "code",
      "source": [
        "import numpy as np"
      ],
      "metadata": {
        "id": "dWXs4HvtPkAS"
      },
      "execution_count": null,
      "outputs": []
    },
    {
      "cell_type": "code",
      "source": [
        "# Set a seed for reproducibility (optional)\n",
        "np.random.seed(33)\n",
        "\n",
        "# Mean and standard deviation of the Gaussian distribution\n",
        "mean_value = 0\n",
        "std_dev = 1\n",
        "\n",
        "# Generate a random element numpy array from a Gaussian distribution\n",
        "random_array = np.random.normal(mean_value, std_dev, powerAmplitudeAllLLDdf.shape[0])\n"
      ],
      "metadata": {
        "id": "szHwLJiuPkAS"
      },
      "execution_count": null,
      "outputs": []
    },
    {
      "cell_type": "code",
      "source": [],
      "metadata": {
        "id": "CfMA6SN8PkAT"
      },
      "execution_count": null,
      "outputs": []
    },
    {
      "cell_type": "code",
      "source": [
        "powerAmplitudeAllLLDdf['Noise'] = random_array"
      ],
      "metadata": {
        "id": "HWuzSepfPkAT"
      },
      "execution_count": null,
      "outputs": []
    },
    {
      "cell_type": "code",
      "source": [
        "powerAmplitudeAllLLDdf.corr()['Noise'][4:-1]#.abs()"
      ],
      "metadata": {
        "colab": {
          "base_uri": "https://localhost:8080/"
        },
        "outputId": "702dbf80-cb46-4b55-bfde-fac5b3203c91",
        "id": "7Avi0eXPPkAT"
      },
      "execution_count": null,
      "outputs": [
        {
          "output_type": "execute_result",
          "data": {
            "text/plain": [
              "F0final_sma                 -0.071797\n",
              "voicingFinalUnclipped_sma   -0.076833\n",
              "jitterLocal_sma             -0.014940\n",
              "jitterDDP_sma               -0.010610\n",
              "shimmerLocal_sma            -0.051291\n",
              "                               ...   \n",
              "lspFreq_sma_de[7]            0.041897\n",
              "pcm_zcr_sma_de.1            -0.041198\n",
              "voiceProb_sma_de             0.009558\n",
              "F0_sma_de                    0.012827\n",
              "F0env_sma_de                -0.006773\n",
              "Name: Noise, Length: 207, dtype: float64"
            ]
          },
          "metadata": {},
          "execution_count": 164
        }
      ]
    },
    {
      "cell_type": "code",
      "source": [
        "correlations_Noise = powerAmplitudeAllLLDdf.corr()['Noise'][4:-1]#.abs()"
      ],
      "metadata": {
        "id": "WLMqIh4GPkAT"
      },
      "execution_count": null,
      "outputs": []
    },
    {
      "cell_type": "code",
      "source": [
        "positiveCorrelationCondition = correlations_Noise > rValFor95ConfidenceLevel\n",
        "negativeCorrelationCondition = correlations_Noise < -1* rValFor95ConfidenceLevel\n",
        "noiseCorrelates = correlations_Noise[ positiveCorrelationCondition | negativeCorrelationCondition]\n",
        "noiseCorrelates.head = 'r'\n",
        "\n",
        "print(\"# of acoustic features where p < 0.05:\", len(noiseCorrelates))\n",
        "noiseCorrelates.nlargest(len(noiseCorrelates)) # for sorting"
      ],
      "metadata": {
        "colab": {
          "base_uri": "https://localhost:8080/"
        },
        "outputId": "bb650f6a-8099-40ab-f5aa-36051b82a299",
        "id": "B6abiM08PkAT"
      },
      "execution_count": null,
      "outputs": [
        {
          "output_type": "stream",
          "name": "stdout",
          "text": [
            "# of acoustic features where p < 0.05: 9\n"
          ]
        },
        {
          "output_type": "execute_result",
          "data": {
            "text/plain": [
              "mfcc_sma_de[1]              0.109871\n",
              "mfcc_sma_de[1].1            0.104717\n",
              "mfcc_sma_de[4]              0.102487\n",
              "audSpec_Rfilt_sma_de[17]   -0.103444\n",
              "audSpec_Rfilt_sma_de[18]   -0.112165\n",
              "mfcc_sma_de[12].1          -0.145052\n",
              "mfcc_sma_de[11]            -0.146326\n",
              "mfcc_sma_de[11].1          -0.155130\n",
              "mfcc_sma_de[12]            -0.158149\n",
              "Name: Noise, dtype: float64"
            ]
          },
          "metadata": {},
          "execution_count": 168
        }
      ]
    },
    {
      "cell_type": "markdown",
      "source": [
        "##Right vLPFC"
      ],
      "metadata": {
        "id": "xg79VVGFeA4L"
      }
    },
    {
      "cell_type": "code",
      "source": [
        "correlations_Right_vlPFC = powerAmplitudeAllLLDdf.corr()['Power: Right vlPFC'][4:]#.abs()"
      ],
      "metadata": {
        "id": "vIQokLkReA4L"
      },
      "execution_count": null,
      "outputs": []
    },
    {
      "cell_type": "code",
      "source": [
        "positiveCorrelationCondition = correlations_Right_vlPFC > rValFor95ConfidenceLevel\n",
        "negativeCorrelationCondition = correlations_Right_vlPFC < -1* rValFor95ConfidenceLevel\n",
        "AcousticCorrelates95_Right_vlPFC = correlations_Right_vlPFC[ positiveCorrelationCondition | negativeCorrelationCondition]\n",
        "AcousticCorrelates95_Right_vlPFC.head = 'r'\n",
        "\n",
        "print(\"# of acoustic features where p < 0.05:\", len(AcousticCorrelates95_Right_vlPFC))\n",
        "AcousticCorrelates95_Right_vlPFC.nlargest(len(AcousticCorrelates95_Right_vlPFC)) # for sorting"
      ],
      "metadata": {
        "colab": {
          "base_uri": "https://localhost:8080/"
        },
        "outputId": "1ace0f1e-7ef9-4ba8-b7d2-abefc2337c07",
        "id": "LZKYK7VxeA4L"
      },
      "execution_count": null,
      "outputs": [
        {
          "output_type": "stream",
          "name": "stdout",
          "text": [
            "# of acoustic features where p < 0.05: 10\n"
          ]
        },
        {
          "output_type": "execute_result",
          "data": {
            "text/plain": [
              "mfcc_sma[12].1                        0.130416\n",
              "pcm_fftMag_spectralSlope_sma          0.129381\n",
              "mfcc_sma[12]                          0.126649\n",
              "spectralFlux_sma3                    -0.103421\n",
              "pcm_fftMag_spectralFlux_sma          -0.104770\n",
              "mfcc_sma_de[10]                      -0.106423\n",
              "pcm_fftMag_spectralKurtosis_sma_de   -0.122354\n",
              "pcm_intensity_sma                    -0.123894\n",
              "pcm_fftMag_fband250-650_sma          -0.125326\n",
              "pcm_fftMag_spectralHarmonicity_sma   -0.128665\n",
              "Name: Power: Right vlPFC, dtype: float64"
            ]
          },
          "metadata": {},
          "execution_count": 88
        }
      ]
    },
    {
      "cell_type": "code",
      "source": [
        "AcousticCorrelates95_Right_vlPFC.nlargest(len(AcousticCorrelates95_Right_vlPFC)).to_csv(date + '_AcousticCorrelates95_Right_vlPFC.csv',header=['r'],index_label='Acoustic Feature')"
      ],
      "metadata": {
        "id": "FJAF0Ii1eA4L"
      },
      "execution_count": null,
      "outputs": []
    },
    {
      "cell_type": "code",
      "source": [
        "print(AcousticCorrelates95_Right_vlPFC.index.tolist())"
      ],
      "metadata": {
        "colab": {
          "base_uri": "https://localhost:8080/"
        },
        "outputId": "0b7371b2-e20c-4558-e94f-548a3eb4e2d4",
        "id": "IArtot6DeA4M"
      },
      "execution_count": null,
      "outputs": [
        {
          "output_type": "stream",
          "name": "stdout",
          "text": [
            "['pcm_fftMag_fband250-650_sma', 'pcm_fftMag_spectralFlux_sma', 'pcm_fftMag_spectralSlope_sma', 'pcm_fftMag_spectralHarmonicity_sma', 'mfcc_sma[12]', 'spectralFlux_sma3', 'pcm_intensity_sma', 'mfcc_sma[12].1', 'pcm_fftMag_spectralKurtosis_sma_de', 'mfcc_sma_de[10]']\n"
          ]
        }
      ]
    },
    {
      "cell_type": "code",
      "source": [],
      "metadata": {
        "id": "HailzK83eA4M"
      },
      "execution_count": null,
      "outputs": []
    },
    {
      "cell_type": "markdown",
      "source": [
        "##Left vLPFC"
      ],
      "metadata": {
        "id": "WQ2NKa8DeA4M"
      }
    },
    {
      "cell_type": "code",
      "source": [
        "correlations_Left_vlPFC = powerAmplitudeAllLLDdf.corr()['Power: Left vlPFC'][4:]#.abs()\n",
        "correlations_Left_vlPFC"
      ],
      "metadata": {
        "colab": {
          "base_uri": "https://localhost:8080/"
        },
        "outputId": "48f79a7e-e6d3-44a1-813b-3c1369ff5c24",
        "id": "UGe7VWk_eA4M"
      },
      "execution_count": null,
      "outputs": [
        {
          "output_type": "execute_result",
          "data": {
            "text/plain": [
              "F0final_sma                  0.127205\n",
              "voicingFinalUnclipped_sma    0.139767\n",
              "jitterLocal_sma              0.091145\n",
              "jitterDDP_sma                0.130096\n",
              "shimmerLocal_sma             0.123459\n",
              "                               ...   \n",
              "lspFreq_sma_de[7]           -0.028354\n",
              "pcm_zcr_sma_de.1            -0.040467\n",
              "voiceProb_sma_de             0.031438\n",
              "F0_sma_de                    0.037576\n",
              "F0env_sma_de                 0.019421\n",
              "Name: Power: Left vlPFC, Length: 207, dtype: float64"
            ]
          },
          "metadata": {},
          "execution_count": 104
        }
      ]
    },
    {
      "cell_type": "code",
      "source": [
        "positiveCorrelationCondition = correlations_Left_vlPFC > rValFor95ConfidenceLevel\n",
        "negativeCorrelationCondition = correlations_Left_vlPFC < -1* rValFor95ConfidenceLevel\n",
        "AcousticCorrelates95_Left_vlPFC = correlations_Left_vlPFC[ positiveCorrelationCondition | negativeCorrelationCondition]\n",
        "AcousticCorrelates95_Left_vlPFC.head = 'r'\n",
        "\n",
        "print(\"# of acoustic features where p < 0.05:\", len(AcousticCorrelates95_Left_vlPFC))\n",
        "AcousticCorrelates95_Left_vlPFC.nlargest(len(AcousticCorrelates95_Left_vlPFC)) # for sorting"
      ],
      "metadata": {
        "colab": {
          "base_uri": "https://localhost:8080/"
        },
        "outputId": "41dc5911-b7b4-43ae-e6e9-8ad2aeaff77e",
        "id": "z8oBgFpJeA4M"
      },
      "execution_count": null,
      "outputs": [
        {
          "output_type": "stream",
          "name": "stdout",
          "text": [
            "# of acoustic features where p < 0.05: 83\n"
          ]
        },
        {
          "output_type": "execute_result",
          "data": {
            "text/plain": [
              "hammarbergIndex_sma3     0.165189\n",
              "audSpec_Rfilt_sma[10]    0.163511\n",
              "audSpec_Rfilt_sma[11]    0.162552\n",
              "audSpec_Rfilt_sma[7]     0.159103\n",
              "F3bandwidth_sma3nz       0.155206\n",
              "                           ...   \n",
              "slope500-1500_sma3      -0.149682\n",
              "lspFreq_sma[7]          -0.149824\n",
              "lspFreq_sma[6]          -0.153129\n",
              "alphaRatio_sma3         -0.160347\n",
              "HNRdBACF_sma3nz         -0.178553\n",
              "Name: Power: Left vlPFC, Length: 83, dtype: float64"
            ]
          },
          "metadata": {},
          "execution_count": 105
        }
      ]
    },
    {
      "cell_type": "code",
      "source": [
        "AcousticCorrelates95_Left_vlPFC.nlargest(len(AcousticCorrelates95_Left_vlPFC)).to_csv(date + '_AcousticCorrelates95_Left_vlPFC.csv',header=['r'],index_label='Acoustic Feature')"
      ],
      "metadata": {
        "id": "jBQ9lWR1eA4N"
      },
      "execution_count": null,
      "outputs": []
    },
    {
      "cell_type": "code",
      "source": [
        "print(AcousticCorrelates95_Left_vlPFC.index.tolist())"
      ],
      "metadata": {
        "colab": {
          "base_uri": "https://localhost:8080/"
        },
        "outputId": "47f8ed61-ff21-4e84-af24-caaad750c745",
        "id": "cfThFaebeA4N"
      },
      "execution_count": null,
      "outputs": [
        {
          "output_type": "stream",
          "name": "stdout",
          "text": [
            "['F0final_sma', 'voicingFinalUnclipped_sma', 'jitterDDP_sma', 'shimmerLocal_sma', 'logHNR_sma', 'audspec_lengthL1norm_sma', 'audspecRasta_lengthL1norm_sma', 'pcm_RMSenergy_sma', 'pcm_zcr_sma', 'audSpec_Rfilt_sma[0]', 'audSpec_Rfilt_sma[1]', 'audSpec_Rfilt_sma[3]', 'audSpec_Rfilt_sma[4]', 'audSpec_Rfilt_sma[5]', 'audSpec_Rfilt_sma[6]', 'audSpec_Rfilt_sma[7]', 'audSpec_Rfilt_sma[8]', 'audSpec_Rfilt_sma[9]', 'audSpec_Rfilt_sma[10]', 'audSpec_Rfilt_sma[11]', 'audSpec_Rfilt_sma[12]', 'audSpec_Rfilt_sma[13]', 'audSpec_Rfilt_sma[14]', 'audSpec_Rfilt_sma[15]', 'audSpec_Rfilt_sma[16]', 'audSpec_Rfilt_sma[17]', 'audSpec_Rfilt_sma[18]', 'audSpec_Rfilt_sma[19]', 'audSpec_Rfilt_sma[20]', 'audSpec_Rfilt_sma[21]', 'audSpec_Rfilt_sma[22]', 'audSpec_Rfilt_sma[23]', 'audSpec_Rfilt_sma[24]', 'audSpec_Rfilt_sma[25]', 'pcm_fftMag_fband250-650_sma', 'pcm_fftMag_spectralRollOff25.0_sma', 'pcm_fftMag_spectralRollOff50.0_sma', 'pcm_fftMag_spectralRollOff75.0_sma', 'pcm_fftMag_spectralRollOff90.0_sma', 'pcm_fftMag_spectralFlux_sma', 'pcm_fftMag_spectralCentroid_sma', 'pcm_fftMag_spectralEntropy_sma', 'pcm_fftMag_spectralVariance_sma', 'pcm_fftMag_spectralSkewness_sma', 'pcm_fftMag_spectralKurtosis_sma', 'pcm_fftMag_psySharpness_sma', 'mfcc_sma[1]', 'mfcc_sma[2]', 'mfcc_sma[9]', 'Loudness_sma3', 'alphaRatio_sma3', 'hammarbergIndex_sma3', 'slope0-500_sma3', 'slope500-1500_sma3', 'spectralFlux_sma3', 'mfcc1_sma3', 'mfcc2_sma3', 'F0semitoneFrom27.5Hz_sma3nz', 'shimmerLocaldB_sma3nz', 'HNRdBACF_sma3nz', 'F1frequency_sma3nz', 'F1bandwidth_sma3nz', 'F1amplitudeLogRelF0_sma3nz', 'F2frequency_sma3nz', 'F2bandwidth_sma3nz', 'F2amplitudeLogRelF0_sma3nz', 'F3frequency_sma3nz', 'F3bandwidth_sma3nz', 'F3amplitudeLogRelF0_sma3nz', 'pcm_intensity_sma', 'pcm_loudness_sma', 'mfcc_sma[9].1', 'lspFreq_sma[0]', 'lspFreq_sma[3]', 'lspFreq_sma[4]', 'lspFreq_sma[5]', 'lspFreq_sma[6]', 'lspFreq_sma[7]', 'pcm_zcr_sma.1', 'voiceProb_sma', 'F0_sma', 'mfcc_sma_de[8]', 'mfcc_sma_de[8].1']\n"
          ]
        }
      ]
    },
    {
      "cell_type": "markdown",
      "source": [
        "##Right OFC"
      ],
      "metadata": {
        "id": "s-DV_69meA4N"
      }
    },
    {
      "cell_type": "code",
      "source": [
        "correlations_Right_OFC = powerAmplitudeAllLLDdf.corr()['Power: Right OFC'][4:]#.abs()\n"
      ],
      "metadata": {
        "id": "jEfDoRmgeA4O"
      },
      "execution_count": null,
      "outputs": []
    },
    {
      "cell_type": "code",
      "source": [
        "positiveCorrelationCondition = correlations_Right_OFC > rValFor95ConfidenceLevel\n",
        "negativeCorrelationCondition = correlations_Right_OFC < -1* rValFor95ConfidenceLevel\n",
        "AcousticCorrelates95_Right_OFC = correlations_Right_OFC[ positiveCorrelationCondition | negativeCorrelationCondition]\n",
        "AcousticCorrelates95_Right_OFC.head = 'r'\n",
        "\n",
        "print(\"# of acoustic features where p < 0.05:\", len(AcousticCorrelates95_Right_OFC))\n",
        "AcousticCorrelates95_Right_OFC.nlargest(len(AcousticCorrelates95_Right_OFC)) # for sorting"
      ],
      "metadata": {
        "colab": {
          "base_uri": "https://localhost:8080/"
        },
        "outputId": "6a6805f2-b226-4c32-91af-6635578721cf",
        "id": "B8HttVZreA4O"
      },
      "execution_count": null,
      "outputs": [
        {
          "output_type": "stream",
          "name": "stdout",
          "text": [
            "# of acoustic features where p < 0.05: 2\n"
          ]
        },
        {
          "output_type": "execute_result",
          "data": {
            "text/plain": [
              "mfcc_sma_de[5]                       -0.106432\n",
              "pcm_fftMag_spectralVariance_sma_de   -0.131466\n",
              "Name: Power: Right OFC, dtype: float64"
            ]
          },
          "metadata": {},
          "execution_count": 96
        }
      ]
    },
    {
      "cell_type": "code",
      "source": [
        "AcousticCorrelates95_Right_OFC.nlargest(len(AcousticCorrelates95_Right_OFC)).to_csv(date + '_AcousticCorrelates95_Right_OFC.csv',header=['r'],index_label='Acoustic Feature')"
      ],
      "metadata": {
        "id": "sQXm6z70eA4O"
      },
      "execution_count": null,
      "outputs": []
    },
    {
      "cell_type": "code",
      "source": [
        "print(AcousticCorrelates95_Right_OFC.index.tolist())"
      ],
      "metadata": {
        "colab": {
          "base_uri": "https://localhost:8080/"
        },
        "outputId": "d1eb72d4-2b98-4238-bfba-e85393f8db2a",
        "id": "JmOoRDeReA4O"
      },
      "execution_count": null,
      "outputs": [
        {
          "output_type": "stream",
          "name": "stdout",
          "text": [
            "['pcm_fftMag_spectralVariance_sma_de', 'mfcc_sma_de[5]']\n"
          ]
        }
      ]
    },
    {
      "cell_type": "markdown",
      "source": [
        "##Left OFC"
      ],
      "metadata": {
        "id": "eamWRkuQeA4O"
      }
    },
    {
      "cell_type": "code",
      "source": [
        "correlations_Left_OFC = powerAmplitudeAllLLDdf.corr()['Power: Left OFC'][8:]#.abs()"
      ],
      "metadata": {
        "id": "lzmkYyuleA4P"
      },
      "execution_count": null,
      "outputs": []
    },
    {
      "cell_type": "code",
      "source": [
        "positiveCorrelationCondition = correlations_Left_OFC > rValFor95ConfidenceLevel\n",
        "negativeCorrelationCondition = correlations_Left_OFC < -1* rValFor95ConfidenceLevel\n",
        "AcousticCorrelates95_Left_OFC = correlations_Left_OFC[ positiveCorrelationCondition | negativeCorrelationCondition]\n",
        "AcousticCorrelates95_Left_OFC.head = 'r'\n",
        "\n",
        "print(\"# of acoustic features where p < 0.05:\", len(AcousticCorrelates95_Left_OFC))\n",
        "AcousticCorrelates95_Left_OFC.nlargest(len(AcousticCorrelates95_Left_OFC)) # for sorting"
      ],
      "metadata": {
        "colab": {
          "base_uri": "https://localhost:8080/"
        },
        "outputId": "1b8d9c8a-bc95-482d-ff13-59f062685730",
        "id": "pkE6vaYyeA4P"
      },
      "execution_count": null,
      "outputs": [
        {
          "output_type": "stream",
          "name": "stdout",
          "text": [
            "# of acoustic features where p < 0.05: 32\n"
          ]
        },
        {
          "output_type": "execute_result",
          "data": {
            "text/plain": [
              "pcm_RMSenergy_sma                     0.155620\n",
              "pcm_fftMag_spectralFlux_sma           0.155256\n",
              "spectralFlux_sma3                     0.153749\n",
              "pcm_fftMag_fband250-650_sma           0.146709\n",
              "shimmerLocaldB_sma3nz                 0.145798\n",
              "pcm_intensity_sma                     0.144588\n",
              "pcm_fftMag_spectralHarmonicity_sma    0.143261\n",
              "Loudness_sma3                         0.137988\n",
              "audspec_lengthL1norm_sma              0.137988\n",
              "pcm_loudness_sma                      0.135379\n",
              "F0semitoneFrom27.5Hz_sma3nz           0.134802\n",
              "F1amplitudeLogRelF0_sma3nz            0.130531\n",
              "F3amplitudeLogRelF0_sma3nz            0.130439\n",
              "F2amplitudeLogRelF0_sma3nz            0.129831\n",
              "shimmerLocal_sma                      0.123066\n",
              "logHNR_sma                            0.115550\n",
              "F0_sma                                0.113753\n",
              "pcm_fftMag_fband1000-4000_sma         0.104637\n",
              "lspFreq_sma[0]                       -0.103585\n",
              "lspFreq_sma[3]                       -0.103999\n",
              "mfcc_sma[5]                          -0.104403\n",
              "mfcc_sma[13]                         -0.106543\n",
              "lspFreq_sma[1]                       -0.115697\n",
              "mfcc_sma[5].1                        -0.121307\n",
              "mfcc_sma[10]                         -0.123266\n",
              "mfcc_sma[7].1                        -0.126856\n",
              "mfcc_sma[7]                          -0.131097\n",
              "mfcc_sma[10].1                       -0.134864\n",
              "pcm_fftMag_spectralSlope_sma         -0.151067\n",
              "lspFreq_sma[2]                       -0.151503\n",
              "mfcc_sma[6].1                        -0.168533\n",
              "mfcc_sma[6]                          -0.169599\n",
              "Name: Power: Left OFC, dtype: float64"
            ]
          },
          "metadata": {},
          "execution_count": 100
        }
      ]
    },
    {
      "cell_type": "code",
      "source": [
        "date"
      ],
      "metadata": {
        "colab": {
          "base_uri": "https://localhost:8080/",
          "height": 35
        },
        "id": "GcgLgtiZmRwJ",
        "outputId": "f397c88f-cd9b-4c75-d4c4-06948e6a6496"
      },
      "execution_count": null,
      "outputs": [
        {
          "output_type": "execute_result",
          "data": {
            "text/plain": [
              "'2023-02-27_Experiment5'"
            ],
            "application/vnd.google.colaboratory.intrinsic+json": {
              "type": "string"
            }
          },
          "metadata": {},
          "execution_count": 101
        }
      ]
    },
    {
      "cell_type": "code",
      "source": [
        "AcousticCorrelates95_Left_OFC.nlargest(len(AcousticCorrelates95_Left_OFC)).to_csv(date + '_AcousticCorrelates95_Left_OFC.csv',header=['r'],index_label='Acoustic Feature')"
      ],
      "metadata": {
        "id": "Oqg1Fvw9eA4P"
      },
      "execution_count": null,
      "outputs": []
    },
    {
      "cell_type": "code",
      "source": [
        "print(AcousticCorrelates95_Left_OFC.index.tolist())"
      ],
      "metadata": {
        "colab": {
          "base_uri": "https://localhost:8080/"
        },
        "outputId": "28d31739-771c-4ee7-92ed-5c4c7df1a4e7",
        "id": "VQ2cVD6geA4P"
      },
      "execution_count": null,
      "outputs": [
        {
          "output_type": "stream",
          "name": "stdout",
          "text": [
            "['shimmerLocal_sma', 'logHNR_sma', 'audspec_lengthL1norm_sma', 'pcm_RMSenergy_sma', 'pcm_fftMag_fband250-650_sma', 'pcm_fftMag_fband1000-4000_sma', 'pcm_fftMag_spectralFlux_sma', 'pcm_fftMag_spectralSlope_sma', 'pcm_fftMag_spectralHarmonicity_sma', 'mfcc_sma[5]', 'mfcc_sma[6]', 'mfcc_sma[7]', 'mfcc_sma[10]', 'mfcc_sma[13]', 'Loudness_sma3', 'spectralFlux_sma3', 'F0semitoneFrom27.5Hz_sma3nz', 'shimmerLocaldB_sma3nz', 'F1amplitudeLogRelF0_sma3nz', 'F2amplitudeLogRelF0_sma3nz', 'F3amplitudeLogRelF0_sma3nz', 'pcm_intensity_sma', 'pcm_loudness_sma', 'mfcc_sma[5].1', 'mfcc_sma[6].1', 'mfcc_sma[7].1', 'mfcc_sma[10].1', 'lspFreq_sma[0]', 'lspFreq_sma[1]', 'lspFreq_sma[2]', 'lspFreq_sma[3]', 'F0_sma']\n"
          ]
        }
      ]
    },
    {
      "cell_type": "markdown",
      "source": [],
      "metadata": {
        "id": "iiGSS-1QeA4P"
      }
    }
  ]
}