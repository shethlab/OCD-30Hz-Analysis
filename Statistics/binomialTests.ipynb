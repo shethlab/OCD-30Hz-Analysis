{
  "nbformat": 4,
  "nbformat_minor": 0,
  "metadata": {
    "colab": {
      "provenance": []
    },
    "kernelspec": {
      "name": "python3",
      "display_name": "Python 3"
    },
    "language_info": {
      "name": "python"
    }
  },
  "cells": [
    {
      "cell_type": "code",
      "execution_count": null,
      "metadata": {
        "id": "XMIHFj9PyzVt"
      },
      "outputs": [],
      "source": [
        "sept9NumSigFeats = [89,118,2,1]"
      ]
    },
    {
      "cell_type": "code",
      "source": [
        "sept9NumSigFeatsPriorLit = [24,30,2,0]"
      ],
      "metadata": {
        "id": "zlWklxPgz180"
      },
      "execution_count": null,
      "outputs": []
    },
    {
      "cell_type": "code",
      "source": [
        "from scipy.stats import binomtest\n"
      ],
      "metadata": {
        "id": "0IpxkainzFiJ"
      },
      "execution_count": null,
      "outputs": []
    },
    {
      "cell_type": "code",
      "source": [
        "result = binomtest(89, n=215, p=0.05, alternative='greater')\n",
        "result.pvalue\n"
      ],
      "metadata": {
        "colab": {
          "base_uri": "https://localhost:8080/"
        },
        "id": "iU-FBPayzHX9",
        "outputId": "501a109b-9ac1-476b-eeb1-967445862b9d"
      },
      "execution_count": null,
      "outputs": [
        {
          "output_type": "execute_result",
          "data": {
            "text/plain": [
              "3.2231992877549985e-57"
            ]
          },
          "metadata": {},
          "execution_count": 13
        }
      ]
    },
    {
      "cell_type": "code",
      "source": [
        "def binomialTestingForADate(dateNumSigFeats, dateNumSigFeatsPriorLit):\n",
        "  brainRegions = [\"Right vLPFC\", \"Left vLPFC\", \"Right OFC\", \"Left OFC\"]\n",
        "  for region, numSigFeat, numSigFeatPrior in zip(brainRegions,dateNumSigFeats,dateNumSigFeatsPriorLit):\n",
        "    print(region, \"Significant Acoustic Feats p-value:\", binomtest(numSigFeat, n=215, p=0.05, alternative='greater').pvalue)\n",
        "    print(region, \"PRIOR Significant Acoustic p-value:\",  binomtest(numSigFeatPrior, n=83, p=0.05, alternative='greater').pvalue)\n"
      ],
      "metadata": {
        "id": "qdw5fhjz0KZE"
      },
      "execution_count": null,
      "outputs": []
    },
    {
      "cell_type": "code",
      "source": [
        "binomialTestingForADate(sept9NumSigFeats, sept9NumSigFeatsPriorLit)"
      ],
      "metadata": {
        "colab": {
          "base_uri": "https://localhost:8080/"
        },
        "id": "AnFe_-th06vJ",
        "outputId": "4e9240fe-871c-4491-d11a-3d011806b0f8"
      },
      "execution_count": null,
      "outputs": [
        {
          "output_type": "stream",
          "name": "stdout",
          "text": [
            "Right vLPFC Significant Acoustic Feats p-value: 3.2231992877549985e-57\n",
            "Right vLPFC PRIOR Significant Acoustic p-value: 1.511760543504681e-12\n",
            "Left vLPFC Significant Acoustic Feats p-value: 2.2351265727273596e-93\n",
            "Left vLPFC PRIOR Significant Acoustic p-value: 2.3480923062568214e-18\n",
            "Right OFC Significant Acoustic Feats p-value: 0.9997999965931141\n",
            "Right OFC PRIOR Significant Acoustic p-value: 0.9239838605493788\n",
            "Left OFC Significant Acoustic Feats p-value: 0.9999837604071332\n",
            "Left OFC PRIOR Significant Acoustic p-value: 1.0\n"
          ]
        }
      ]
    },
    {
      "cell_type": "code",
      "execution_count": null,
      "metadata": {
        "id": "qLjH3NQT1l7j"
      },
      "outputs": [],
      "source": [
        "sept19NumSigFeats = [52,99,3,9]\n",
        "sept19NumSigFeatsPriorLit = [14,21,0,2]"
      ]
    },
    {
      "cell_type": "code",
      "source": [
        "binomialTestingForADate(sept19NumSigFeats, sept19NumSigFeatsPriorLit)"
      ],
      "metadata": {
        "colab": {
          "base_uri": "https://localhost:8080/"
        },
        "id": "XPMVVG1F2Z14",
        "outputId": "a9e49f12-b882-4ada-8cd7-635fccaf162a"
      },
      "execution_count": null,
      "outputs": [
        {
          "output_type": "stream",
          "name": "stdout",
          "text": [
            "Right vLPFC Significant Acoustic Feats p-value: 1.776168657430557e-21\n",
            "Right vLPFC PRIOR Significant Acoustic p-value: 6.140624220158469e-05\n",
            "Left vLPFC Significant Acoustic Feats p-value: 6.413941777071669e-69\n",
            "Left vLPFC PRIOR Significant Acoustic p-value: 5.702646378890963e-10\n",
            "Right OFC Significant Acoustic Feats p-value: 0.9987651161667964\n",
            "Right OFC PRIOR Significant Acoustic p-value: 1.0\n",
            "Left OFC Significant Acoustic Feats p-value: 0.7517507458854382\n",
            "Left OFC PRIOR Significant Acoustic p-value: 0.9239838605493788\n"
          ]
        }
      ]
    },
    {
      "cell_type": "code",
      "source": [
        "oct4NumSigFeats = [40,73,21,1]\n",
        "oct4NumSigFeatsPriorLit = [12,20,3,0]"
      ],
      "metadata": {
        "id": "BunBrbsB20D-"
      },
      "execution_count": null,
      "outputs": []
    },
    {
      "cell_type": "code",
      "source": [
        "binomialTestingForADate(oct4NumSigFeats, oct4NumSigFeatsPriorLit)"
      ],
      "metadata": {
        "colab": {
          "base_uri": "https://localhost:8080/"
        },
        "id": "yP8RQztk2C4R",
        "outputId": "993479ec-e1c9-45d1-fd9d-c22e7966b437"
      },
      "execution_count": null,
      "outputs": [
        {
          "output_type": "stream",
          "name": "stdout",
          "text": [
            "Right vLPFC Significant Acoustic Feats p-value: 7.477294229400923e-13\n",
            "Right vLPFC PRIOR Significant Acoustic p-value: 0.0008591263365035137\n",
            "Left vLPFC Significant Acoustic Feats p-value: 3.113055162523483e-40\n",
            "Left vLPFC PRIOR Significant Acoustic p-value: 3.651538967639988e-09\n",
            "Right OFC Significant Acoustic Feats p-value: 0.0028129776956839366\n",
            "Right OFC PRIOR Significant Acoustic p-value: 0.7905045403479009\n",
            "Left OFC Significant Acoustic Feats p-value: 0.9999837604071332\n",
            "Left OFC PRIOR Significant Acoustic p-value: 1.0\n"
          ]
        }
      ]
    },
    {
      "cell_type": "code",
      "source": [
        "nov15NumSigFeats = [40,91,9,12]\n",
        "nov15NumSigFeatsPriorLit = [14,21,4,9]"
      ],
      "metadata": {
        "id": "NIJ5pRVf3oCT"
      },
      "execution_count": null,
      "outputs": []
    },
    {
      "cell_type": "code",
      "source": [
        "binomialTestingForADate(nov15NumSigFeats, nov15NumSigFeatsPriorLit)"
      ],
      "metadata": {
        "colab": {
          "base_uri": "https://localhost:8080/"
        },
        "id": "vQkrAh2i3vR5",
        "outputId": "c8a880b8-4967-423b-cc4a-40af8f62f9d3"
      },
      "execution_count": null,
      "outputs": [
        {
          "output_type": "stream",
          "name": "stdout",
          "text": [
            "Right vLPFC Significant Acoustic Feats p-value: 7.477294229400923e-13\n",
            "Right vLPFC PRIOR Significant Acoustic p-value: 6.140624220158469e-05\n",
            "Left vLPFC Significant Acoustic Feats p-value: 1.7119670124048508e-59\n",
            "Left vLPFC PRIOR Significant Acoustic p-value: 5.702646378890963e-10\n",
            "Right OFC Significant Acoustic Feats p-value: 0.7517507458854382\n",
            "Right OFC PRIOR Significant Acoustic p-value: 0.6008234011142217\n",
            "Left OFC Significant Acoustic Feats p-value: 0.3901174669482138\n",
            "Left OFC PRIOR Significant Acoustic p-value: 0.022862185513496745\n"
          ]
        }
      ]
    },
    {
      "cell_type": "code",
      "source": [
        "feb27Exp1NumSigFeats = [2,5,1,3]\n",
        "feb27Exp1NumSigFeatsPriorLit = [2,2,0,0]"
      ],
      "metadata": {
        "id": "8lgUrafA4Kj3"
      },
      "execution_count": null,
      "outputs": []
    },
    {
      "cell_type": "code",
      "source": [
        "binomialTestingForADate(feb27Exp1NumSigFeats, feb27Exp1NumSigFeatsPriorLit)"
      ],
      "metadata": {
        "colab": {
          "base_uri": "https://localhost:8080/"
        },
        "id": "iP-ksoxa4TUf",
        "outputId": "ba330101-e156-4ab3-df26-34e8329a6ba3"
      },
      "execution_count": null,
      "outputs": [
        {
          "output_type": "stream",
          "name": "stdout",
          "text": [
            "Right vLPFC Significant Acoustic Feats p-value: 0.9997999965931141\n",
            "Right vLPFC PRIOR Significant Acoustic p-value: 0.9239838605493788\n",
            "Left vLPFC Significant Acoustic Feats p-value: 0.9841105213209891\n",
            "Left vLPFC PRIOR Significant Acoustic p-value: 0.9239838605493788\n",
            "Right OFC Significant Acoustic Feats p-value: 0.9999837604071332\n",
            "Right OFC PRIOR Significant Acoustic p-value: 1.0\n",
            "Left OFC Significant Acoustic Feats p-value: 0.9987651161667964\n",
            "Left OFC PRIOR Significant Acoustic p-value: 1.0\n"
          ]
        }
      ]
    },
    {
      "cell_type": "code",
      "source": [
        "feb27Exp5NumSigFeats = [10,83,4,33]\n",
        "feb27Exp5NumSigFeatsPriorLit = [1,10,1,13]"
      ],
      "metadata": {
        "id": "nKcqco314mMJ"
      },
      "execution_count": null,
      "outputs": []
    },
    {
      "cell_type": "code",
      "source": [
        "binomialTestingForADate(feb27Exp5NumSigFeats, feb27Exp5NumSigFeatsPriorLit)"
      ],
      "metadata": {
        "colab": {
          "base_uri": "https://localhost:8080/"
        },
        "id": "RbFtGPdU4sW0",
        "outputId": "f3dcd060-dbdc-49e7-a447-c74199e221fe"
      },
      "execution_count": null,
      "outputs": [
        {
          "output_type": "stream",
          "name": "stdout",
          "text": [
            "Right vLPFC Significant Acoustic Feats p-value: 0.6368615711522752\n",
            "Right vLPFC PRIOR Significant Acoustic p-value: 0.9858401308866489\n",
            "Left vLPFC Significant Acoustic Feats p-value: 1.3590648993115157e-50\n",
            "Left vLPFC PRIOR Significant Acoustic p-value: 0.008438773054874777\n",
            "Right OFC Significant Acoustic Feats p-value: 0.9948979314158195\n",
            "Right OFC PRIOR Significant Acoustic p-value: 0.9858401308866489\n",
            "Left OFC Significant Acoustic Feats p-value: 1.1489605685540956e-08\n",
            "Left OFC PRIOR Significant Acoustic p-value: 0.00023951355885390118\n"
          ]
        }
      ]
    }
  ]
}