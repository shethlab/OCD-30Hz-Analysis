{
  "nbformat": 4,
  "nbformat_minor": 0,
  "metadata": {
    "colab": {
      "provenance": []
    },
    "kernelspec": {
      "name": "python3",
      "display_name": "Python 3"
    },
    "language_info": {
      "name": "python"
    }
  },
  "cells": [
    {
      "cell_type": "code",
      "execution_count": null,
      "metadata": {
        "id": "0816gt1AgkSo"
      },
      "outputs": [],
      "source": [
        "import pandas as pd\n",
        "import numpy as np\n",
        "import matplotlib.pyplot as plt\n",
        "import os"
      ]
    },
    {
      "cell_type": "markdown",
      "source": [
        "#Sept 9"
      ],
      "metadata": {
        "id": "cPBd4J-nndhS"
      }
    },
    {
      "cell_type": "code",
      "source": [
        "powerDF = pd.read_csv('2022-09-09-Power.csv')\n",
        "del powerDF['Unnamed: 0']\n",
        "powerDF.head()"
      ],
      "metadata": {
        "colab": {
          "base_uri": "https://localhost:8080/",
          "height": 224
        },
        "id": "QmeOv1GXnfBH",
        "outputId": "dc9591d9-ac28-4393-bdbf-11e2485307ea"
      },
      "execution_count": null,
      "outputs": [
        {
          "output_type": "execute_result",
          "data": {
            "text/plain": [
              "   Power: Left OFC  Power: Left vlPFC  Power: Right OFC  Power: Right vlPFC\n",
              "0         8.816639           5.509179          6.402390            7.678388\n",
              "1         6.377071           9.253333          7.134431           10.658632\n",
              "2         5.261156           8.733055          5.330680            9.883824\n",
              "3         5.392678           9.824773          8.610629           12.035916\n",
              "4         8.381074          10.230964          8.598232           10.655943"
            ],
            "text/html": [
              "\n",
              "  <div id=\"df-073e3239-123a-495d-a483-840b46856bc0\" class=\"colab-df-container\">\n",
              "    <div>\n",
              "<style scoped>\n",
              "    .dataframe tbody tr th:only-of-type {\n",
              "        vertical-align: middle;\n",
              "    }\n",
              "\n",
              "    .dataframe tbody tr th {\n",
              "        vertical-align: top;\n",
              "    }\n",
              "\n",
              "    .dataframe thead th {\n",
              "        text-align: right;\n",
              "    }\n",
              "</style>\n",
              "<table border=\"1\" class=\"dataframe\">\n",
              "  <thead>\n",
              "    <tr style=\"text-align: right;\">\n",
              "      <th></th>\n",
              "      <th>Power: Left OFC</th>\n",
              "      <th>Power: Left vlPFC</th>\n",
              "      <th>Power: Right OFC</th>\n",
              "      <th>Power: Right vlPFC</th>\n",
              "    </tr>\n",
              "  </thead>\n",
              "  <tbody>\n",
              "    <tr>\n",
              "      <th>0</th>\n",
              "      <td>8.816639</td>\n",
              "      <td>5.509179</td>\n",
              "      <td>6.402390</td>\n",
              "      <td>7.678388</td>\n",
              "    </tr>\n",
              "    <tr>\n",
              "      <th>1</th>\n",
              "      <td>6.377071</td>\n",
              "      <td>9.253333</td>\n",
              "      <td>7.134431</td>\n",
              "      <td>10.658632</td>\n",
              "    </tr>\n",
              "    <tr>\n",
              "      <th>2</th>\n",
              "      <td>5.261156</td>\n",
              "      <td>8.733055</td>\n",
              "      <td>5.330680</td>\n",
              "      <td>9.883824</td>\n",
              "    </tr>\n",
              "    <tr>\n",
              "      <th>3</th>\n",
              "      <td>5.392678</td>\n",
              "      <td>9.824773</td>\n",
              "      <td>8.610629</td>\n",
              "      <td>12.035916</td>\n",
              "    </tr>\n",
              "    <tr>\n",
              "      <th>4</th>\n",
              "      <td>8.381074</td>\n",
              "      <td>10.230964</td>\n",
              "      <td>8.598232</td>\n",
              "      <td>10.655943</td>\n",
              "    </tr>\n",
              "  </tbody>\n",
              "</table>\n",
              "</div>\n",
              "    <div class=\"colab-df-buttons\">\n",
              "\n",
              "  <div class=\"colab-df-container\">\n",
              "    <button class=\"colab-df-convert\" onclick=\"convertToInteractive('df-073e3239-123a-495d-a483-840b46856bc0')\"\n",
              "            title=\"Convert this dataframe to an interactive table.\"\n",
              "            style=\"display:none;\">\n",
              "\n",
              "  <svg xmlns=\"http://www.w3.org/2000/svg\" height=\"24px\" viewBox=\"0 -960 960 960\">\n",
              "    <path d=\"M120-120v-720h720v720H120Zm60-500h600v-160H180v160Zm220 220h160v-160H400v160Zm0 220h160v-160H400v160ZM180-400h160v-160H180v160Zm440 0h160v-160H620v160ZM180-180h160v-160H180v160Zm440 0h160v-160H620v160Z\"/>\n",
              "  </svg>\n",
              "    </button>\n",
              "\n",
              "  <style>\n",
              "    .colab-df-container {\n",
              "      display:flex;\n",
              "      gap: 12px;\n",
              "    }\n",
              "\n",
              "    .colab-df-convert {\n",
              "      background-color: #E8F0FE;\n",
              "      border: none;\n",
              "      border-radius: 50%;\n",
              "      cursor: pointer;\n",
              "      display: none;\n",
              "      fill: #1967D2;\n",
              "      height: 32px;\n",
              "      padding: 0 0 0 0;\n",
              "      width: 32px;\n",
              "    }\n",
              "\n",
              "    .colab-df-convert:hover {\n",
              "      background-color: #E2EBFA;\n",
              "      box-shadow: 0px 1px 2px rgba(60, 64, 67, 0.3), 0px 1px 3px 1px rgba(60, 64, 67, 0.15);\n",
              "      fill: #174EA6;\n",
              "    }\n",
              "\n",
              "    .colab-df-buttons div {\n",
              "      margin-bottom: 4px;\n",
              "    }\n",
              "\n",
              "    [theme=dark] .colab-df-convert {\n",
              "      background-color: #3B4455;\n",
              "      fill: #D2E3FC;\n",
              "    }\n",
              "\n",
              "    [theme=dark] .colab-df-convert:hover {\n",
              "      background-color: #434B5C;\n",
              "      box-shadow: 0px 1px 3px 1px rgba(0, 0, 0, 0.15);\n",
              "      filter: drop-shadow(0px 1px 2px rgba(0, 0, 0, 0.3));\n",
              "      fill: #FFFFFF;\n",
              "    }\n",
              "  </style>\n",
              "\n",
              "    <script>\n",
              "      const buttonEl =\n",
              "        document.querySelector('#df-073e3239-123a-495d-a483-840b46856bc0 button.colab-df-convert');\n",
              "      buttonEl.style.display =\n",
              "        google.colab.kernel.accessAllowed ? 'block' : 'none';\n",
              "\n",
              "      async function convertToInteractive(key) {\n",
              "        const element = document.querySelector('#df-073e3239-123a-495d-a483-840b46856bc0');\n",
              "        const dataTable =\n",
              "          await google.colab.kernel.invokeFunction('convertToInteractive',\n",
              "                                                    [key], {});\n",
              "        if (!dataTable) return;\n",
              "\n",
              "        const docLinkHtml = 'Like what you see? Visit the ' +\n",
              "          '<a target=\"_blank\" href=https://colab.research.google.com/notebooks/data_table.ipynb>data table notebook</a>'\n",
              "          + ' to learn more about interactive tables.';\n",
              "        element.innerHTML = '';\n",
              "        dataTable['output_type'] = 'display_data';\n",
              "        await google.colab.output.renderOutput(dataTable, element);\n",
              "        const docLink = document.createElement('div');\n",
              "        docLink.innerHTML = docLinkHtml;\n",
              "        element.appendChild(docLink);\n",
              "      }\n",
              "    </script>\n",
              "  </div>\n",
              "\n",
              "\n",
              "<div id=\"df-d609d58c-0730-468a-ac3f-38099b34ab32\">\n",
              "  <button class=\"colab-df-quickchart\" onclick=\"quickchart('df-d609d58c-0730-468a-ac3f-38099b34ab32')\"\n",
              "            title=\"Suggest charts\"\n",
              "            style=\"display:none;\">\n",
              "\n",
              "<svg xmlns=\"http://www.w3.org/2000/svg\" height=\"24px\"viewBox=\"0 0 24 24\"\n",
              "     width=\"24px\">\n",
              "    <g>\n",
              "        <path d=\"M19 3H5c-1.1 0-2 .9-2 2v14c0 1.1.9 2 2 2h14c1.1 0 2-.9 2-2V5c0-1.1-.9-2-2-2zM9 17H7v-7h2v7zm4 0h-2V7h2v10zm4 0h-2v-4h2v4z\"/>\n",
              "    </g>\n",
              "</svg>\n",
              "  </button>\n",
              "\n",
              "<style>\n",
              "  .colab-df-quickchart {\n",
              "      --bg-color: #E8F0FE;\n",
              "      --fill-color: #1967D2;\n",
              "      --hover-bg-color: #E2EBFA;\n",
              "      --hover-fill-color: #174EA6;\n",
              "      --disabled-fill-color: #AAA;\n",
              "      --disabled-bg-color: #DDD;\n",
              "  }\n",
              "\n",
              "  [theme=dark] .colab-df-quickchart {\n",
              "      --bg-color: #3B4455;\n",
              "      --fill-color: #D2E3FC;\n",
              "      --hover-bg-color: #434B5C;\n",
              "      --hover-fill-color: #FFFFFF;\n",
              "      --disabled-bg-color: #3B4455;\n",
              "      --disabled-fill-color: #666;\n",
              "  }\n",
              "\n",
              "  .colab-df-quickchart {\n",
              "    background-color: var(--bg-color);\n",
              "    border: none;\n",
              "    border-radius: 50%;\n",
              "    cursor: pointer;\n",
              "    display: none;\n",
              "    fill: var(--fill-color);\n",
              "    height: 32px;\n",
              "    padding: 0;\n",
              "    width: 32px;\n",
              "  }\n",
              "\n",
              "  .colab-df-quickchart:hover {\n",
              "    background-color: var(--hover-bg-color);\n",
              "    box-shadow: 0 1px 2px rgba(60, 64, 67, 0.3), 0 1px 3px 1px rgba(60, 64, 67, 0.15);\n",
              "    fill: var(--button-hover-fill-color);\n",
              "  }\n",
              "\n",
              "  .colab-df-quickchart-complete:disabled,\n",
              "  .colab-df-quickchart-complete:disabled:hover {\n",
              "    background-color: var(--disabled-bg-color);\n",
              "    fill: var(--disabled-fill-color);\n",
              "    box-shadow: none;\n",
              "  }\n",
              "\n",
              "  .colab-df-spinner {\n",
              "    border: 2px solid var(--fill-color);\n",
              "    border-color: transparent;\n",
              "    border-bottom-color: var(--fill-color);\n",
              "    animation:\n",
              "      spin 1s steps(1) infinite;\n",
              "  }\n",
              "\n",
              "  @keyframes spin {\n",
              "    0% {\n",
              "      border-color: transparent;\n",
              "      border-bottom-color: var(--fill-color);\n",
              "      border-left-color: var(--fill-color);\n",
              "    }\n",
              "    20% {\n",
              "      border-color: transparent;\n",
              "      border-left-color: var(--fill-color);\n",
              "      border-top-color: var(--fill-color);\n",
              "    }\n",
              "    30% {\n",
              "      border-color: transparent;\n",
              "      border-left-color: var(--fill-color);\n",
              "      border-top-color: var(--fill-color);\n",
              "      border-right-color: var(--fill-color);\n",
              "    }\n",
              "    40% {\n",
              "      border-color: transparent;\n",
              "      border-right-color: var(--fill-color);\n",
              "      border-top-color: var(--fill-color);\n",
              "    }\n",
              "    60% {\n",
              "      border-color: transparent;\n",
              "      border-right-color: var(--fill-color);\n",
              "    }\n",
              "    80% {\n",
              "      border-color: transparent;\n",
              "      border-right-color: var(--fill-color);\n",
              "      border-bottom-color: var(--fill-color);\n",
              "    }\n",
              "    90% {\n",
              "      border-color: transparent;\n",
              "      border-bottom-color: var(--fill-color);\n",
              "    }\n",
              "  }\n",
              "</style>\n",
              "\n",
              "  <script>\n",
              "    async function quickchart(key) {\n",
              "      const quickchartButtonEl =\n",
              "        document.querySelector('#' + key + ' button');\n",
              "      quickchartButtonEl.disabled = true;  // To prevent multiple clicks.\n",
              "      quickchartButtonEl.classList.add('colab-df-spinner');\n",
              "      try {\n",
              "        const charts = await google.colab.kernel.invokeFunction(\n",
              "            'suggestCharts', [key], {});\n",
              "      } catch (error) {\n",
              "        console.error('Error during call to suggestCharts:', error);\n",
              "      }\n",
              "      quickchartButtonEl.classList.remove('colab-df-spinner');\n",
              "      quickchartButtonEl.classList.add('colab-df-quickchart-complete');\n",
              "    }\n",
              "    (() => {\n",
              "      let quickchartButtonEl =\n",
              "        document.querySelector('#df-d609d58c-0730-468a-ac3f-38099b34ab32 button');\n",
              "      quickchartButtonEl.style.display =\n",
              "        google.colab.kernel.accessAllowed ? 'block' : 'none';\n",
              "    })();\n",
              "  </script>\n",
              "</div>\n",
              "    </div>\n",
              "  </div>\n"
            ]
          },
          "metadata": {},
          "execution_count": 4
        }
      ]
    },
    {
      "cell_type": "code",
      "source": [
        "praatAcousticFeatsDf = pd.read_csv('noModeratorSpeech_Sept9PerTwoSecondPraatFeatures.csv')\n",
        "del praatAcousticFeatsDf['Unnamed: 0'], praatAcousticFeatsDf['Time (secs)']\n",
        "praatAcousticFeatsDf.head()"
      ],
      "metadata": {
        "colab": {
          "base_uri": "https://localhost:8080/",
          "height": 278
        },
        "id": "Oe5NRF26nwnY",
        "outputId": "bbceb4cd-91e0-49cb-d9b7-dbdd7fe84584"
      },
      "execution_count": null,
      "outputs": [
        {
          "output_type": "execute_result",
          "data": {
            "text/plain": [
              "   speechrate(nsyll / dur)  \\\n",
              "0                      0.0   \n",
              "1                      0.0   \n",
              "2                      0.0   \n",
              "3                      0.0   \n",
              "4                      0.0   \n",
              "\n",
              "   Average Syllable Duration (speakingtot/voicedcount)  \\\n",
              "0                                                NaN     \n",
              "1                                                NaN     \n",
              "2                                                NaN     \n",
              "3                                                NaN     \n",
              "4                                                NaN     \n",
              "\n",
              "   articulation rate(nsyll / phonationtime)  Speech-to-pause ratio  \\\n",
              "0                                       NaN                    NaN   \n",
              "1                                       NaN                    NaN   \n",
              "2                                       NaN                    NaN   \n",
              "3                                       NaN                    NaN   \n",
              "4                                       NaN                    NaN   \n",
              "\n",
              "   Mean Syllable Period  Variability of Syllable Period  Mean Pause Duration  \\\n",
              "0                   NaN                             NaN                  NaN   \n",
              "1                   NaN                             NaN                  NaN   \n",
              "2                   NaN                             NaN                  NaN   \n",
              "3                   NaN                             NaN                  NaN   \n",
              "4                   NaN                             NaN                  NaN   \n",
              "\n",
              "   Variability of Pause Duration  # of pauses  \n",
              "0                            NaN            1  \n",
              "1                            NaN            1  \n",
              "2                            NaN            1  \n",
              "3                            NaN            1  \n",
              "4                            NaN            1  "
            ],
            "text/html": [
              "\n",
              "  <div id=\"df-9c179f5c-fcec-4093-9fe9-93d0c565616b\" class=\"colab-df-container\">\n",
              "    <div>\n",
              "<style scoped>\n",
              "    .dataframe tbody tr th:only-of-type {\n",
              "        vertical-align: middle;\n",
              "    }\n",
              "\n",
              "    .dataframe tbody tr th {\n",
              "        vertical-align: top;\n",
              "    }\n",
              "\n",
              "    .dataframe thead th {\n",
              "        text-align: right;\n",
              "    }\n",
              "</style>\n",
              "<table border=\"1\" class=\"dataframe\">\n",
              "  <thead>\n",
              "    <tr style=\"text-align: right;\">\n",
              "      <th></th>\n",
              "      <th>speechrate(nsyll / dur)</th>\n",
              "      <th>Average Syllable Duration (speakingtot/voicedcount)</th>\n",
              "      <th>articulation rate(nsyll / phonationtime)</th>\n",
              "      <th>Speech-to-pause ratio</th>\n",
              "      <th>Mean Syllable Period</th>\n",
              "      <th>Variability of Syllable Period</th>\n",
              "      <th>Mean Pause Duration</th>\n",
              "      <th>Variability of Pause Duration</th>\n",
              "      <th># of pauses</th>\n",
              "    </tr>\n",
              "  </thead>\n",
              "  <tbody>\n",
              "    <tr>\n",
              "      <th>0</th>\n",
              "      <td>0.0</td>\n",
              "      <td>NaN</td>\n",
              "      <td>NaN</td>\n",
              "      <td>NaN</td>\n",
              "      <td>NaN</td>\n",
              "      <td>NaN</td>\n",
              "      <td>NaN</td>\n",
              "      <td>NaN</td>\n",
              "      <td>1</td>\n",
              "    </tr>\n",
              "    <tr>\n",
              "      <th>1</th>\n",
              "      <td>0.0</td>\n",
              "      <td>NaN</td>\n",
              "      <td>NaN</td>\n",
              "      <td>NaN</td>\n",
              "      <td>NaN</td>\n",
              "      <td>NaN</td>\n",
              "      <td>NaN</td>\n",
              "      <td>NaN</td>\n",
              "      <td>1</td>\n",
              "    </tr>\n",
              "    <tr>\n",
              "      <th>2</th>\n",
              "      <td>0.0</td>\n",
              "      <td>NaN</td>\n",
              "      <td>NaN</td>\n",
              "      <td>NaN</td>\n",
              "      <td>NaN</td>\n",
              "      <td>NaN</td>\n",
              "      <td>NaN</td>\n",
              "      <td>NaN</td>\n",
              "      <td>1</td>\n",
              "    </tr>\n",
              "    <tr>\n",
              "      <th>3</th>\n",
              "      <td>0.0</td>\n",
              "      <td>NaN</td>\n",
              "      <td>NaN</td>\n",
              "      <td>NaN</td>\n",
              "      <td>NaN</td>\n",
              "      <td>NaN</td>\n",
              "      <td>NaN</td>\n",
              "      <td>NaN</td>\n",
              "      <td>1</td>\n",
              "    </tr>\n",
              "    <tr>\n",
              "      <th>4</th>\n",
              "      <td>0.0</td>\n",
              "      <td>NaN</td>\n",
              "      <td>NaN</td>\n",
              "      <td>NaN</td>\n",
              "      <td>NaN</td>\n",
              "      <td>NaN</td>\n",
              "      <td>NaN</td>\n",
              "      <td>NaN</td>\n",
              "      <td>1</td>\n",
              "    </tr>\n",
              "  </tbody>\n",
              "</table>\n",
              "</div>\n",
              "    <div class=\"colab-df-buttons\">\n",
              "\n",
              "  <div class=\"colab-df-container\">\n",
              "    <button class=\"colab-df-convert\" onclick=\"convertToInteractive('df-9c179f5c-fcec-4093-9fe9-93d0c565616b')\"\n",
              "            title=\"Convert this dataframe to an interactive table.\"\n",
              "            style=\"display:none;\">\n",
              "\n",
              "  <svg xmlns=\"http://www.w3.org/2000/svg\" height=\"24px\" viewBox=\"0 -960 960 960\">\n",
              "    <path d=\"M120-120v-720h720v720H120Zm60-500h600v-160H180v160Zm220 220h160v-160H400v160Zm0 220h160v-160H400v160ZM180-400h160v-160H180v160Zm440 0h160v-160H620v160ZM180-180h160v-160H180v160Zm440 0h160v-160H620v160Z\"/>\n",
              "  </svg>\n",
              "    </button>\n",
              "\n",
              "  <style>\n",
              "    .colab-df-container {\n",
              "      display:flex;\n",
              "      gap: 12px;\n",
              "    }\n",
              "\n",
              "    .colab-df-convert {\n",
              "      background-color: #E8F0FE;\n",
              "      border: none;\n",
              "      border-radius: 50%;\n",
              "      cursor: pointer;\n",
              "      display: none;\n",
              "      fill: #1967D2;\n",
              "      height: 32px;\n",
              "      padding: 0 0 0 0;\n",
              "      width: 32px;\n",
              "    }\n",
              "\n",
              "    .colab-df-convert:hover {\n",
              "      background-color: #E2EBFA;\n",
              "      box-shadow: 0px 1px 2px rgba(60, 64, 67, 0.3), 0px 1px 3px 1px rgba(60, 64, 67, 0.15);\n",
              "      fill: #174EA6;\n",
              "    }\n",
              "\n",
              "    .colab-df-buttons div {\n",
              "      margin-bottom: 4px;\n",
              "    }\n",
              "\n",
              "    [theme=dark] .colab-df-convert {\n",
              "      background-color: #3B4455;\n",
              "      fill: #D2E3FC;\n",
              "    }\n",
              "\n",
              "    [theme=dark] .colab-df-convert:hover {\n",
              "      background-color: #434B5C;\n",
              "      box-shadow: 0px 1px 3px 1px rgba(0, 0, 0, 0.15);\n",
              "      filter: drop-shadow(0px 1px 2px rgba(0, 0, 0, 0.3));\n",
              "      fill: #FFFFFF;\n",
              "    }\n",
              "  </style>\n",
              "\n",
              "    <script>\n",
              "      const buttonEl =\n",
              "        document.querySelector('#df-9c179f5c-fcec-4093-9fe9-93d0c565616b button.colab-df-convert');\n",
              "      buttonEl.style.display =\n",
              "        google.colab.kernel.accessAllowed ? 'block' : 'none';\n",
              "\n",
              "      async function convertToInteractive(key) {\n",
              "        const element = document.querySelector('#df-9c179f5c-fcec-4093-9fe9-93d0c565616b');\n",
              "        const dataTable =\n",
              "          await google.colab.kernel.invokeFunction('convertToInteractive',\n",
              "                                                    [key], {});\n",
              "        if (!dataTable) return;\n",
              "\n",
              "        const docLinkHtml = 'Like what you see? Visit the ' +\n",
              "          '<a target=\"_blank\" href=https://colab.research.google.com/notebooks/data_table.ipynb>data table notebook</a>'\n",
              "          + ' to learn more about interactive tables.';\n",
              "        element.innerHTML = '';\n",
              "        dataTable['output_type'] = 'display_data';\n",
              "        await google.colab.output.renderOutput(dataTable, element);\n",
              "        const docLink = document.createElement('div');\n",
              "        docLink.innerHTML = docLinkHtml;\n",
              "        element.appendChild(docLink);\n",
              "      }\n",
              "    </script>\n",
              "  </div>\n",
              "\n",
              "\n",
              "<div id=\"df-7173e9fb-b488-42c3-9a46-24983c1f6eed\">\n",
              "  <button class=\"colab-df-quickchart\" onclick=\"quickchart('df-7173e9fb-b488-42c3-9a46-24983c1f6eed')\"\n",
              "            title=\"Suggest charts\"\n",
              "            style=\"display:none;\">\n",
              "\n",
              "<svg xmlns=\"http://www.w3.org/2000/svg\" height=\"24px\"viewBox=\"0 0 24 24\"\n",
              "     width=\"24px\">\n",
              "    <g>\n",
              "        <path d=\"M19 3H5c-1.1 0-2 .9-2 2v14c0 1.1.9 2 2 2h14c1.1 0 2-.9 2-2V5c0-1.1-.9-2-2-2zM9 17H7v-7h2v7zm4 0h-2V7h2v10zm4 0h-2v-4h2v4z\"/>\n",
              "    </g>\n",
              "</svg>\n",
              "  </button>\n",
              "\n",
              "<style>\n",
              "  .colab-df-quickchart {\n",
              "      --bg-color: #E8F0FE;\n",
              "      --fill-color: #1967D2;\n",
              "      --hover-bg-color: #E2EBFA;\n",
              "      --hover-fill-color: #174EA6;\n",
              "      --disabled-fill-color: #AAA;\n",
              "      --disabled-bg-color: #DDD;\n",
              "  }\n",
              "\n",
              "  [theme=dark] .colab-df-quickchart {\n",
              "      --bg-color: #3B4455;\n",
              "      --fill-color: #D2E3FC;\n",
              "      --hover-bg-color: #434B5C;\n",
              "      --hover-fill-color: #FFFFFF;\n",
              "      --disabled-bg-color: #3B4455;\n",
              "      --disabled-fill-color: #666;\n",
              "  }\n",
              "\n",
              "  .colab-df-quickchart {\n",
              "    background-color: var(--bg-color);\n",
              "    border: none;\n",
              "    border-radius: 50%;\n",
              "    cursor: pointer;\n",
              "    display: none;\n",
              "    fill: var(--fill-color);\n",
              "    height: 32px;\n",
              "    padding: 0;\n",
              "    width: 32px;\n",
              "  }\n",
              "\n",
              "  .colab-df-quickchart:hover {\n",
              "    background-color: var(--hover-bg-color);\n",
              "    box-shadow: 0 1px 2px rgba(60, 64, 67, 0.3), 0 1px 3px 1px rgba(60, 64, 67, 0.15);\n",
              "    fill: var(--button-hover-fill-color);\n",
              "  }\n",
              "\n",
              "  .colab-df-quickchart-complete:disabled,\n",
              "  .colab-df-quickchart-complete:disabled:hover {\n",
              "    background-color: var(--disabled-bg-color);\n",
              "    fill: var(--disabled-fill-color);\n",
              "    box-shadow: none;\n",
              "  }\n",
              "\n",
              "  .colab-df-spinner {\n",
              "    border: 2px solid var(--fill-color);\n",
              "    border-color: transparent;\n",
              "    border-bottom-color: var(--fill-color);\n",
              "    animation:\n",
              "      spin 1s steps(1) infinite;\n",
              "  }\n",
              "\n",
              "  @keyframes spin {\n",
              "    0% {\n",
              "      border-color: transparent;\n",
              "      border-bottom-color: var(--fill-color);\n",
              "      border-left-color: var(--fill-color);\n",
              "    }\n",
              "    20% {\n",
              "      border-color: transparent;\n",
              "      border-left-color: var(--fill-color);\n",
              "      border-top-color: var(--fill-color);\n",
              "    }\n",
              "    30% {\n",
              "      border-color: transparent;\n",
              "      border-left-color: var(--fill-color);\n",
              "      border-top-color: var(--fill-color);\n",
              "      border-right-color: var(--fill-color);\n",
              "    }\n",
              "    40% {\n",
              "      border-color: transparent;\n",
              "      border-right-color: var(--fill-color);\n",
              "      border-top-color: var(--fill-color);\n",
              "    }\n",
              "    60% {\n",
              "      border-color: transparent;\n",
              "      border-right-color: var(--fill-color);\n",
              "    }\n",
              "    80% {\n",
              "      border-color: transparent;\n",
              "      border-right-color: var(--fill-color);\n",
              "      border-bottom-color: var(--fill-color);\n",
              "    }\n",
              "    90% {\n",
              "      border-color: transparent;\n",
              "      border-bottom-color: var(--fill-color);\n",
              "    }\n",
              "  }\n",
              "</style>\n",
              "\n",
              "  <script>\n",
              "    async function quickchart(key) {\n",
              "      const quickchartButtonEl =\n",
              "        document.querySelector('#' + key + ' button');\n",
              "      quickchartButtonEl.disabled = true;  // To prevent multiple clicks.\n",
              "      quickchartButtonEl.classList.add('colab-df-spinner');\n",
              "      try {\n",
              "        const charts = await google.colab.kernel.invokeFunction(\n",
              "            'suggestCharts', [key], {});\n",
              "      } catch (error) {\n",
              "        console.error('Error during call to suggestCharts:', error);\n",
              "      }\n",
              "      quickchartButtonEl.classList.remove('colab-df-spinner');\n",
              "      quickchartButtonEl.classList.add('colab-df-quickchart-complete');\n",
              "    }\n",
              "    (() => {\n",
              "      let quickchartButtonEl =\n",
              "        document.querySelector('#df-7173e9fb-b488-42c3-9a46-24983c1f6eed button');\n",
              "      quickchartButtonEl.style.display =\n",
              "        google.colab.kernel.accessAllowed ? 'block' : 'none';\n",
              "    })();\n",
              "  </script>\n",
              "</div>\n",
              "    </div>\n",
              "  </div>\n"
            ]
          },
          "metadata": {},
          "execution_count": 6
        }
      ]
    },
    {
      "cell_type": "code",
      "source": [
        "powerDF.shape, praatAcousticFeatsDf.shape"
      ],
      "metadata": {
        "colab": {
          "base_uri": "https://localhost:8080/"
        },
        "id": "Z2SsYsYAn-58",
        "outputId": "fbfcab4c-925c-4053-b9bc-29be7d9adb54"
      },
      "execution_count": null,
      "outputs": [
        {
          "output_type": "execute_result",
          "data": {
            "text/plain": [
              "((1155, 4), (568, 9))"
            ]
          },
          "metadata": {},
          "execution_count": 7
        }
      ]
    },
    {
      "cell_type": "code",
      "source": [
        "# Reshape the array to have 50 columns (assuming the number of rows is a multiple of 50)\n",
        "dfArray = powerDF[:-1].to_numpy()\n",
        "reshaped_array = dfArray.reshape(-1, 2, dfArray.shape[1])\n",
        "\n",
        "# Calculate the mean along axis 1 (average every 5 rows)\n",
        "averaged_array = reshaped_array.mean(axis=1)\n",
        "\n",
        "# Create a new DataFrame from the averaged array\n",
        "columns = powerDF.columns  # Assuming you want to keep the same columns\n",
        "resampled_powerDF = pd.DataFrame(averaged_array, columns=columns)\n",
        "resampled_powerDF.shape"
      ],
      "metadata": {
        "colab": {
          "base_uri": "https://localhost:8080/"
        },
        "id": "p7APTIl3pkd1",
        "outputId": "473f864c-6106-4281-b462-2fb0e9c6202e"
      },
      "execution_count": null,
      "outputs": [
        {
          "output_type": "execute_result",
          "data": {
            "text/plain": [
              "(577, 4)"
            ]
          },
          "metadata": {},
          "execution_count": 8
        }
      ]
    },
    {
      "cell_type": "code",
      "source": [
        "resampled_powerDF = resampled_powerDF.iloc[:praatAcousticFeatsDf.shape[0]]\n",
        "resampled_powerDF.shape"
      ],
      "metadata": {
        "colab": {
          "base_uri": "https://localhost:8080/"
        },
        "id": "CZ5Foq2xq5UX",
        "outputId": "8e600b3c-17fa-460f-a5b4-bf54ebe56bcb"
      },
      "execution_count": null,
      "outputs": [
        {
          "output_type": "execute_result",
          "data": {
            "text/plain": [
              "(568, 4)"
            ]
          },
          "metadata": {},
          "execution_count": 9
        }
      ]
    },
    {
      "cell_type": "code",
      "source": [
        "powerPraatDF = pd.concat([resampled_powerDF, praatAcousticFeatsDf], axis=1)\n",
        "powerPraatDF.head()"
      ],
      "metadata": {
        "colab": {
          "base_uri": "https://localhost:8080/",
          "height": 278
        },
        "id": "p2ZKsdXtrAge",
        "outputId": "cb0e26d4-47d4-4481-d51d-310a19c43b4f"
      },
      "execution_count": null,
      "outputs": [
        {
          "output_type": "execute_result",
          "data": {
            "text/plain": [
              "   Power: Left OFC  Power: Left vlPFC  Power: Right OFC  Power: Right vlPFC  \\\n",
              "0         7.596855           7.381256          6.768410            9.168510   \n",
              "1         5.326917           9.278914          6.970654           10.959870   \n",
              "2         7.308063           7.351847          7.363880            7.966896   \n",
              "3         8.009013          10.256529          8.385252            6.449097   \n",
              "4         8.119956           6.437368          8.964941            9.929328   \n",
              "\n",
              "   speechrate(nsyll / dur)  \\\n",
              "0                      0.0   \n",
              "1                      0.0   \n",
              "2                      0.0   \n",
              "3                      0.0   \n",
              "4                      0.0   \n",
              "\n",
              "   Average Syllable Duration (speakingtot/voicedcount)  \\\n",
              "0                                                NaN     \n",
              "1                                                NaN     \n",
              "2                                                NaN     \n",
              "3                                                NaN     \n",
              "4                                                NaN     \n",
              "\n",
              "   articulation rate(nsyll / phonationtime)  Speech-to-pause ratio  \\\n",
              "0                                       NaN                    NaN   \n",
              "1                                       NaN                    NaN   \n",
              "2                                       NaN                    NaN   \n",
              "3                                       NaN                    NaN   \n",
              "4                                       NaN                    NaN   \n",
              "\n",
              "   Mean Syllable Period  Variability of Syllable Period  Mean Pause Duration  \\\n",
              "0                   NaN                             NaN                  NaN   \n",
              "1                   NaN                             NaN                  NaN   \n",
              "2                   NaN                             NaN                  NaN   \n",
              "3                   NaN                             NaN                  NaN   \n",
              "4                   NaN                             NaN                  NaN   \n",
              "\n",
              "   Variability of Pause Duration  # of pauses  \n",
              "0                            NaN            1  \n",
              "1                            NaN            1  \n",
              "2                            NaN            1  \n",
              "3                            NaN            1  \n",
              "4                            NaN            1  "
            ],
            "text/html": [
              "\n",
              "  <div id=\"df-bce367aa-ede6-42de-be62-37bd12cbcca5\" class=\"colab-df-container\">\n",
              "    <div>\n",
              "<style scoped>\n",
              "    .dataframe tbody tr th:only-of-type {\n",
              "        vertical-align: middle;\n",
              "    }\n",
              "\n",
              "    .dataframe tbody tr th {\n",
              "        vertical-align: top;\n",
              "    }\n",
              "\n",
              "    .dataframe thead th {\n",
              "        text-align: right;\n",
              "    }\n",
              "</style>\n",
              "<table border=\"1\" class=\"dataframe\">\n",
              "  <thead>\n",
              "    <tr style=\"text-align: right;\">\n",
              "      <th></th>\n",
              "      <th>Power: Left OFC</th>\n",
              "      <th>Power: Left vlPFC</th>\n",
              "      <th>Power: Right OFC</th>\n",
              "      <th>Power: Right vlPFC</th>\n",
              "      <th>speechrate(nsyll / dur)</th>\n",
              "      <th>Average Syllable Duration (speakingtot/voicedcount)</th>\n",
              "      <th>articulation rate(nsyll / phonationtime)</th>\n",
              "      <th>Speech-to-pause ratio</th>\n",
              "      <th>Mean Syllable Period</th>\n",
              "      <th>Variability of Syllable Period</th>\n",
              "      <th>Mean Pause Duration</th>\n",
              "      <th>Variability of Pause Duration</th>\n",
              "      <th># of pauses</th>\n",
              "    </tr>\n",
              "  </thead>\n",
              "  <tbody>\n",
              "    <tr>\n",
              "      <th>0</th>\n",
              "      <td>7.596855</td>\n",
              "      <td>7.381256</td>\n",
              "      <td>6.768410</td>\n",
              "      <td>9.168510</td>\n",
              "      <td>0.0</td>\n",
              "      <td>NaN</td>\n",
              "      <td>NaN</td>\n",
              "      <td>NaN</td>\n",
              "      <td>NaN</td>\n",
              "      <td>NaN</td>\n",
              "      <td>NaN</td>\n",
              "      <td>NaN</td>\n",
              "      <td>1</td>\n",
              "    </tr>\n",
              "    <tr>\n",
              "      <th>1</th>\n",
              "      <td>5.326917</td>\n",
              "      <td>9.278914</td>\n",
              "      <td>6.970654</td>\n",
              "      <td>10.959870</td>\n",
              "      <td>0.0</td>\n",
              "      <td>NaN</td>\n",
              "      <td>NaN</td>\n",
              "      <td>NaN</td>\n",
              "      <td>NaN</td>\n",
              "      <td>NaN</td>\n",
              "      <td>NaN</td>\n",
              "      <td>NaN</td>\n",
              "      <td>1</td>\n",
              "    </tr>\n",
              "    <tr>\n",
              "      <th>2</th>\n",
              "      <td>7.308063</td>\n",
              "      <td>7.351847</td>\n",
              "      <td>7.363880</td>\n",
              "      <td>7.966896</td>\n",
              "      <td>0.0</td>\n",
              "      <td>NaN</td>\n",
              "      <td>NaN</td>\n",
              "      <td>NaN</td>\n",
              "      <td>NaN</td>\n",
              "      <td>NaN</td>\n",
              "      <td>NaN</td>\n",
              "      <td>NaN</td>\n",
              "      <td>1</td>\n",
              "    </tr>\n",
              "    <tr>\n",
              "      <th>3</th>\n",
              "      <td>8.009013</td>\n",
              "      <td>10.256529</td>\n",
              "      <td>8.385252</td>\n",
              "      <td>6.449097</td>\n",
              "      <td>0.0</td>\n",
              "      <td>NaN</td>\n",
              "      <td>NaN</td>\n",
              "      <td>NaN</td>\n",
              "      <td>NaN</td>\n",
              "      <td>NaN</td>\n",
              "      <td>NaN</td>\n",
              "      <td>NaN</td>\n",
              "      <td>1</td>\n",
              "    </tr>\n",
              "    <tr>\n",
              "      <th>4</th>\n",
              "      <td>8.119956</td>\n",
              "      <td>6.437368</td>\n",
              "      <td>8.964941</td>\n",
              "      <td>9.929328</td>\n",
              "      <td>0.0</td>\n",
              "      <td>NaN</td>\n",
              "      <td>NaN</td>\n",
              "      <td>NaN</td>\n",
              "      <td>NaN</td>\n",
              "      <td>NaN</td>\n",
              "      <td>NaN</td>\n",
              "      <td>NaN</td>\n",
              "      <td>1</td>\n",
              "    </tr>\n",
              "  </tbody>\n",
              "</table>\n",
              "</div>\n",
              "    <div class=\"colab-df-buttons\">\n",
              "\n",
              "  <div class=\"colab-df-container\">\n",
              "    <button class=\"colab-df-convert\" onclick=\"convertToInteractive('df-bce367aa-ede6-42de-be62-37bd12cbcca5')\"\n",
              "            title=\"Convert this dataframe to an interactive table.\"\n",
              "            style=\"display:none;\">\n",
              "\n",
              "  <svg xmlns=\"http://www.w3.org/2000/svg\" height=\"24px\" viewBox=\"0 -960 960 960\">\n",
              "    <path d=\"M120-120v-720h720v720H120Zm60-500h600v-160H180v160Zm220 220h160v-160H400v160Zm0 220h160v-160H400v160ZM180-400h160v-160H180v160Zm440 0h160v-160H620v160ZM180-180h160v-160H180v160Zm440 0h160v-160H620v160Z\"/>\n",
              "  </svg>\n",
              "    </button>\n",
              "\n",
              "  <style>\n",
              "    .colab-df-container {\n",
              "      display:flex;\n",
              "      gap: 12px;\n",
              "    }\n",
              "\n",
              "    .colab-df-convert {\n",
              "      background-color: #E8F0FE;\n",
              "      border: none;\n",
              "      border-radius: 50%;\n",
              "      cursor: pointer;\n",
              "      display: none;\n",
              "      fill: #1967D2;\n",
              "      height: 32px;\n",
              "      padding: 0 0 0 0;\n",
              "      width: 32px;\n",
              "    }\n",
              "\n",
              "    .colab-df-convert:hover {\n",
              "      background-color: #E2EBFA;\n",
              "      box-shadow: 0px 1px 2px rgba(60, 64, 67, 0.3), 0px 1px 3px 1px rgba(60, 64, 67, 0.15);\n",
              "      fill: #174EA6;\n",
              "    }\n",
              "\n",
              "    .colab-df-buttons div {\n",
              "      margin-bottom: 4px;\n",
              "    }\n",
              "\n",
              "    [theme=dark] .colab-df-convert {\n",
              "      background-color: #3B4455;\n",
              "      fill: #D2E3FC;\n",
              "    }\n",
              "\n",
              "    [theme=dark] .colab-df-convert:hover {\n",
              "      background-color: #434B5C;\n",
              "      box-shadow: 0px 1px 3px 1px rgba(0, 0, 0, 0.15);\n",
              "      filter: drop-shadow(0px 1px 2px rgba(0, 0, 0, 0.3));\n",
              "      fill: #FFFFFF;\n",
              "    }\n",
              "  </style>\n",
              "\n",
              "    <script>\n",
              "      const buttonEl =\n",
              "        document.querySelector('#df-bce367aa-ede6-42de-be62-37bd12cbcca5 button.colab-df-convert');\n",
              "      buttonEl.style.display =\n",
              "        google.colab.kernel.accessAllowed ? 'block' : 'none';\n",
              "\n",
              "      async function convertToInteractive(key) {\n",
              "        const element = document.querySelector('#df-bce367aa-ede6-42de-be62-37bd12cbcca5');\n",
              "        const dataTable =\n",
              "          await google.colab.kernel.invokeFunction('convertToInteractive',\n",
              "                                                    [key], {});\n",
              "        if (!dataTable) return;\n",
              "\n",
              "        const docLinkHtml = 'Like what you see? Visit the ' +\n",
              "          '<a target=\"_blank\" href=https://colab.research.google.com/notebooks/data_table.ipynb>data table notebook</a>'\n",
              "          + ' to learn more about interactive tables.';\n",
              "        element.innerHTML = '';\n",
              "        dataTable['output_type'] = 'display_data';\n",
              "        await google.colab.output.renderOutput(dataTable, element);\n",
              "        const docLink = document.createElement('div');\n",
              "        docLink.innerHTML = docLinkHtml;\n",
              "        element.appendChild(docLink);\n",
              "      }\n",
              "    </script>\n",
              "  </div>\n",
              "\n",
              "\n",
              "<div id=\"df-28eafa04-a743-4368-a236-731cf83123e7\">\n",
              "  <button class=\"colab-df-quickchart\" onclick=\"quickchart('df-28eafa04-a743-4368-a236-731cf83123e7')\"\n",
              "            title=\"Suggest charts\"\n",
              "            style=\"display:none;\">\n",
              "\n",
              "<svg xmlns=\"http://www.w3.org/2000/svg\" height=\"24px\"viewBox=\"0 0 24 24\"\n",
              "     width=\"24px\">\n",
              "    <g>\n",
              "        <path d=\"M19 3H5c-1.1 0-2 .9-2 2v14c0 1.1.9 2 2 2h14c1.1 0 2-.9 2-2V5c0-1.1-.9-2-2-2zM9 17H7v-7h2v7zm4 0h-2V7h2v10zm4 0h-2v-4h2v4z\"/>\n",
              "    </g>\n",
              "</svg>\n",
              "  </button>\n",
              "\n",
              "<style>\n",
              "  .colab-df-quickchart {\n",
              "      --bg-color: #E8F0FE;\n",
              "      --fill-color: #1967D2;\n",
              "      --hover-bg-color: #E2EBFA;\n",
              "      --hover-fill-color: #174EA6;\n",
              "      --disabled-fill-color: #AAA;\n",
              "      --disabled-bg-color: #DDD;\n",
              "  }\n",
              "\n",
              "  [theme=dark] .colab-df-quickchart {\n",
              "      --bg-color: #3B4455;\n",
              "      --fill-color: #D2E3FC;\n",
              "      --hover-bg-color: #434B5C;\n",
              "      --hover-fill-color: #FFFFFF;\n",
              "      --disabled-bg-color: #3B4455;\n",
              "      --disabled-fill-color: #666;\n",
              "  }\n",
              "\n",
              "  .colab-df-quickchart {\n",
              "    background-color: var(--bg-color);\n",
              "    border: none;\n",
              "    border-radius: 50%;\n",
              "    cursor: pointer;\n",
              "    display: none;\n",
              "    fill: var(--fill-color);\n",
              "    height: 32px;\n",
              "    padding: 0;\n",
              "    width: 32px;\n",
              "  }\n",
              "\n",
              "  .colab-df-quickchart:hover {\n",
              "    background-color: var(--hover-bg-color);\n",
              "    box-shadow: 0 1px 2px rgba(60, 64, 67, 0.3), 0 1px 3px 1px rgba(60, 64, 67, 0.15);\n",
              "    fill: var(--button-hover-fill-color);\n",
              "  }\n",
              "\n",
              "  .colab-df-quickchart-complete:disabled,\n",
              "  .colab-df-quickchart-complete:disabled:hover {\n",
              "    background-color: var(--disabled-bg-color);\n",
              "    fill: var(--disabled-fill-color);\n",
              "    box-shadow: none;\n",
              "  }\n",
              "\n",
              "  .colab-df-spinner {\n",
              "    border: 2px solid var(--fill-color);\n",
              "    border-color: transparent;\n",
              "    border-bottom-color: var(--fill-color);\n",
              "    animation:\n",
              "      spin 1s steps(1) infinite;\n",
              "  }\n",
              "\n",
              "  @keyframes spin {\n",
              "    0% {\n",
              "      border-color: transparent;\n",
              "      border-bottom-color: var(--fill-color);\n",
              "      border-left-color: var(--fill-color);\n",
              "    }\n",
              "    20% {\n",
              "      border-color: transparent;\n",
              "      border-left-color: var(--fill-color);\n",
              "      border-top-color: var(--fill-color);\n",
              "    }\n",
              "    30% {\n",
              "      border-color: transparent;\n",
              "      border-left-color: var(--fill-color);\n",
              "      border-top-color: var(--fill-color);\n",
              "      border-right-color: var(--fill-color);\n",
              "    }\n",
              "    40% {\n",
              "      border-color: transparent;\n",
              "      border-right-color: var(--fill-color);\n",
              "      border-top-color: var(--fill-color);\n",
              "    }\n",
              "    60% {\n",
              "      border-color: transparent;\n",
              "      border-right-color: var(--fill-color);\n",
              "    }\n",
              "    80% {\n",
              "      border-color: transparent;\n",
              "      border-right-color: var(--fill-color);\n",
              "      border-bottom-color: var(--fill-color);\n",
              "    }\n",
              "    90% {\n",
              "      border-color: transparent;\n",
              "      border-bottom-color: var(--fill-color);\n",
              "    }\n",
              "  }\n",
              "</style>\n",
              "\n",
              "  <script>\n",
              "    async function quickchart(key) {\n",
              "      const quickchartButtonEl =\n",
              "        document.querySelector('#' + key + ' button');\n",
              "      quickchartButtonEl.disabled = true;  // To prevent multiple clicks.\n",
              "      quickchartButtonEl.classList.add('colab-df-spinner');\n",
              "      try {\n",
              "        const charts = await google.colab.kernel.invokeFunction(\n",
              "            'suggestCharts', [key], {});\n",
              "      } catch (error) {\n",
              "        console.error('Error during call to suggestCharts:', error);\n",
              "      }\n",
              "      quickchartButtonEl.classList.remove('colab-df-spinner');\n",
              "      quickchartButtonEl.classList.add('colab-df-quickchart-complete');\n",
              "    }\n",
              "    (() => {\n",
              "      let quickchartButtonEl =\n",
              "        document.querySelector('#df-28eafa04-a743-4368-a236-731cf83123e7 button');\n",
              "      quickchartButtonEl.style.display =\n",
              "        google.colab.kernel.accessAllowed ? 'block' : 'none';\n",
              "    })();\n",
              "  </script>\n",
              "</div>\n",
              "    </div>\n",
              "  </div>\n"
            ]
          },
          "metadata": {},
          "execution_count": 10
        }
      ]
    },
    {
      "cell_type": "markdown",
      "source": [
        "Website to compute p value from r value and n: http://vassarstats.net/tabs_r.html"
      ],
      "metadata": {
        "id": "mj_3OvxHl-Us"
      }
    },
    {
      "cell_type": "markdown",
      "source": [
        "Need r >= 0.077 for p < 0.01\n",
        "Need r >= 0.059 for p < 0.05"
      ],
      "metadata": {
        "id": "TCeV4ahDl-Us"
      }
    },
    {
      "cell_type": "code",
      "source": [
        "rValFor99ConfidenceLevel = 0.1081\n",
        "rValFor95ConfidenceLevel = 0.0823"
      ],
      "metadata": {
        "id": "GHAB8XkJl-Ut"
      },
      "execution_count": null,
      "outputs": []
    },
    {
      "cell_type": "code",
      "source": [],
      "metadata": {
        "id": "cZz1pQkGUgrK"
      },
      "execution_count": null,
      "outputs": []
    },
    {
      "cell_type": "markdown",
      "source": [
        "##random noise t-test (1)"
      ],
      "metadata": {
        "id": "EOg6nBPTMwht"
      }
    },
    {
      "cell_type": "code",
      "source": [
        "import numpy as np"
      ],
      "metadata": {
        "id": "X16lNfOYM0JZ"
      },
      "execution_count": null,
      "outputs": []
    },
    {
      "cell_type": "code",
      "source": [
        "# Set a seed for reproducibility (optional)\n",
        "np.random.seed(33)\n",
        "\n",
        "# Mean and standard deviation of the Gaussian distribution\n",
        "mean_value = 0\n",
        "std_dev = 1\n",
        "\n",
        "# Generate a random 1136-element numpy array from a Gaussian distribution\n",
        "random_array = np.random.normal(mean_value, std_dev, powerPraatDF.shape[0])\n"
      ],
      "metadata": {
        "id": "5-GtpZ-XOHUL"
      },
      "execution_count": null,
      "outputs": []
    },
    {
      "cell_type": "code",
      "source": [],
      "metadata": {
        "colab": {
          "base_uri": "https://localhost:8080/"
        },
        "id": "zXHV_Pe6Upvt",
        "outputId": "14d1e9f2-57ba-4757-c054-2cf90d679506"
      },
      "execution_count": null,
      "outputs": [
        {
          "output_type": "execute_result",
          "data": {
            "text/plain": [
              "568"
            ]
          },
          "metadata": {},
          "execution_count": 15
        }
      ]
    },
    {
      "cell_type": "code",
      "source": [
        "powerPraatDF['Noise'] = random_array"
      ],
      "metadata": {
        "id": "mkLZXFbbM3SQ"
      },
      "execution_count": null,
      "outputs": []
    },
    {
      "cell_type": "code",
      "source": [
        "powerPraatDF.corr()['Noise'][4:-1]#.abs()"
      ],
      "metadata": {
        "colab": {
          "base_uri": "https://localhost:8080/"
        },
        "id": "rpFVcUIdNJi2",
        "outputId": "9b53cd79-4897-46a3-dc3e-273456623b78"
      },
      "execution_count": null,
      "outputs": [
        {
          "output_type": "execute_result",
          "data": {
            "text/plain": [
              "speechrate(nsyll / dur)                               -0.015869\n",
              "Average Syllable Duration (speakingtot/voicedcount)    0.010459\n",
              "articulation rate(nsyll / phonationtime)              -0.002522\n",
              "Speech-to-pause ratio                                  0.016999\n",
              "Mean Syllable Period                                   0.016700\n",
              "Variability of Syllable Period                        -0.083157\n",
              "Mean Pause Duration                                   -0.001641\n",
              "Variability of Pause Duration                          0.034017\n",
              "# of pauses                                            0.050493\n",
              "Name: Noise, dtype: float64"
            ]
          },
          "metadata": {},
          "execution_count": 18
        }
      ]
    },
    {
      "cell_type": "code",
      "source": [
        "correlations_Noise = powerPraatDF.corr()['Noise'][4:-1]#.abs()"
      ],
      "metadata": {
        "id": "pqbVaoBWNcsg"
      },
      "execution_count": null,
      "outputs": []
    },
    {
      "cell_type": "code",
      "source": [
        "positiveCorrelationCondition = correlations_Noise > rValFor95ConfidenceLevel\n",
        "negativeCorrelationCondition = correlations_Noise < -1* rValFor95ConfidenceLevel\n",
        "noiseCorrelates = correlations_Noise[ positiveCorrelationCondition | negativeCorrelationCondition]\n",
        "noiseCorrelates.head = 'r'\n",
        "\n",
        "print(\"# of acoustic features where p < 0.05:\", len(noiseCorrelates))\n",
        "noiseCorrelates.nlargest(len(noiseCorrelates)) # for sorting"
      ],
      "metadata": {
        "colab": {
          "base_uri": "https://localhost:8080/"
        },
        "id": "UJ3K97iQNZNf",
        "outputId": "6cca38a6-058b-4de1-88ba-dfe0b95b2390"
      },
      "execution_count": null,
      "outputs": [
        {
          "output_type": "stream",
          "name": "stdout",
          "text": [
            "# of acoustic features where p < 0.05: 1\n"
          ]
        },
        {
          "output_type": "execute_result",
          "data": {
            "text/plain": [
              "Variability of Syllable Period   -0.083157\n",
              "Name: Noise, dtype: float64"
            ]
          },
          "metadata": {},
          "execution_count": 21
        }
      ]
    },
    {
      "cell_type": "markdown",
      "source": [
        "##Right vLPFC (0)"
      ],
      "metadata": {
        "id": "TucuijYml-Ut"
      }
    },
    {
      "cell_type": "code",
      "source": [
        "AcousticCorrelates95_Right_vlPFC = correlations_Right_vlPFC[correlations_Right_vlPFC > rValFor95ConfidenceLevel]\n",
        "print(\"# of acoustic features where p < 0.05:\", len(AcousticCorrelates95_Right_vlPFC))\n",
        "AcousticCorrelates95_Right_vlPFC.nlargest(len(AcousticCorrelates95_Right_vlPFC)) # for sorting"
      ],
      "metadata": {
        "colab": {
          "base_uri": "https://localhost:8080/"
        },
        "outputId": "0c413834-aa0a-4136-ae91-cb34308d9796",
        "id": "Tu0_rWEpl-Ut"
      },
      "execution_count": null,
      "outputs": [
        {
          "output_type": "stream",
          "name": "stdout",
          "text": [
            "# of acoustic features where p < 0.05: 0\n"
          ]
        },
        {
          "output_type": "execute_result",
          "data": {
            "text/plain": [
              "Series([], Name: Power: Right vlPFC, dtype: float64)"
            ]
          },
          "metadata": {},
          "execution_count": 13
        }
      ]
    },
    {
      "cell_type": "markdown",
      "source": [
        "##Left vLPFC (2 sig feats)"
      ],
      "metadata": {
        "id": "vOttp56rl-Ut"
      }
    },
    {
      "cell_type": "code",
      "source": [
        "# Assuming powerAmplitudeAllLLDdf is your DataFrame\n",
        "correlations_Left_vlPFC = powerPraatDF.corr()['Power: Left vlPFC'][8:].abs()\n",
        "AcousticCorrelates99_Left_vlPFC = correlations_Left_vlPFC[correlations_Left_vlPFC > rValFor99ConfidenceLevel]\n",
        "print(\"# of acoustic features where p < 0.01:\", len(AcousticCorrelates99_Left_vlPFC))\n",
        "AcousticCorrelates99_Left_vlPFC.nlargest(len(AcousticCorrelates99_Left_vlPFC)) # for sorting"
      ],
      "metadata": {
        "colab": {
          "base_uri": "https://localhost:8080/"
        },
        "outputId": "10c2f39b-0529-4817-bef2-f41c3c6284b5",
        "id": "xiM27IkYl-Ut"
      },
      "execution_count": null,
      "outputs": [
        {
          "output_type": "stream",
          "name": "stdout",
          "text": [
            "# of acoustic features where p < 0.01: 2\n"
          ]
        },
        {
          "output_type": "execute_result",
          "data": {
            "text/plain": [
              "# of pauses                      0.137748\n",
              "Variability of Pause Duration    0.115254\n",
              "Name: Power: Left vlPFC, dtype: float64"
            ]
          },
          "metadata": {},
          "execution_count": 14
        }
      ]
    },
    {
      "cell_type": "code",
      "source": [
        "# Assuming powerAmplitudeAllLLDdf is your DataFrame\n",
        "AcousticCorrelates95_Left_vlPFC = correlations_Left_vlPFC[correlations_Left_vlPFC > rValFor95ConfidenceLevel]\n",
        "print(\"# of acoustic features where p < 0.05:\", len(AcousticCorrelates95_Left_vlPFC))\n",
        "AcousticCorrelates95_Left_vlPFC.nlargest(len(AcousticCorrelates95_Left_vlPFC)) # for sorting"
      ],
      "metadata": {
        "colab": {
          "base_uri": "https://localhost:8080/"
        },
        "outputId": "2ea6b54f-7a39-40b4-e8f1-17475d81a157",
        "id": "gS97qc5Wl-Ut"
      },
      "execution_count": null,
      "outputs": [
        {
          "output_type": "stream",
          "name": "stdout",
          "text": [
            "# of acoustic features where p < 0.05: 2\n"
          ]
        },
        {
          "output_type": "execute_result",
          "data": {
            "text/plain": [
              "# of pauses                      0.137748\n",
              "Variability of Pause Duration    0.115254\n",
              "Name: Power: Left vlPFC, dtype: float64"
            ]
          },
          "metadata": {},
          "execution_count": 15
        }
      ]
    },
    {
      "cell_type": "code",
      "source": [
        "AcousticCorrelates95_Left_vlPFC.nlargest(10).index.tolist()"
      ],
      "metadata": {
        "colab": {
          "base_uri": "https://localhost:8080/"
        },
        "id": "Ad4b5AsRl-Uu",
        "outputId": "b0415125-3523-44a9-b18d-8ca0df32a095"
      },
      "execution_count": null,
      "outputs": [
        {
          "output_type": "execute_result",
          "data": {
            "text/plain": [
              "['# of pauses', 'Variability of Pause Duration']"
            ]
          },
          "metadata": {},
          "execution_count": 16
        }
      ]
    },
    {
      "cell_type": "markdown",
      "source": [
        "##Right OFC (0)"
      ],
      "metadata": {
        "id": "4adSzBO7l-Uu"
      }
    },
    {
      "cell_type": "code",
      "source": [
        "# Assuming powerAmplitudeAllLLDdf is your DataFrame\n",
        "correlations_Right_OFC = powerPraatDF.corr()['Power: Right OFC'][8:].abs()\n",
        "AcousticCorrelates99_Right_OFC = correlations_Right_OFC[correlations_Right_OFC > rValFor99ConfidenceLevel]\n",
        "print(\"# of acoustic features where p < 0.01:\", len(AcousticCorrelates99_Right_OFC))\n",
        "AcousticCorrelates99_Right_OFC.nlargest(len(AcousticCorrelates99_Right_OFC)) # for sorting"
      ],
      "metadata": {
        "colab": {
          "base_uri": "https://localhost:8080/"
        },
        "outputId": "e8cc37fb-d082-4f3b-b741-71af3e79a524",
        "id": "cNJ6VIg7l-Uu"
      },
      "execution_count": null,
      "outputs": [
        {
          "output_type": "stream",
          "name": "stdout",
          "text": [
            "# of acoustic features where p < 0.01: 0\n"
          ]
        },
        {
          "output_type": "execute_result",
          "data": {
            "text/plain": [
              "Series([], Name: Power: Right OFC, dtype: float64)"
            ]
          },
          "metadata": {},
          "execution_count": 17
        }
      ]
    },
    {
      "cell_type": "code",
      "source": [
        "# Assuming powerAmplitudeAllLLDdf is your DataFrame\n",
        "AcousticCorrelates95_Right_OFC = correlations_Right_OFC[correlations_Right_OFC > rValFor95ConfidenceLevel]\n",
        "print(\"# of acoustic features where p < 0.05:\", len(AcousticCorrelates95_Right_OFC))\n",
        "AcousticCorrelates95_Right_OFC.nlargest(len(AcousticCorrelates95_Right_OFC)) # for sorting"
      ],
      "metadata": {
        "colab": {
          "base_uri": "https://localhost:8080/"
        },
        "outputId": "5f1c0355-9136-4253-9aa8-794b530c39dd",
        "id": "Upm1mwcIl-Uu"
      },
      "execution_count": null,
      "outputs": [
        {
          "output_type": "stream",
          "name": "stdout",
          "text": [
            "# of acoustic features where p < 0.05: 0\n"
          ]
        },
        {
          "output_type": "execute_result",
          "data": {
            "text/plain": [
              "Series([], Name: Power: Right OFC, dtype: float64)"
            ]
          },
          "metadata": {},
          "execution_count": 18
        }
      ]
    },
    {
      "cell_type": "code",
      "source": [
        "AcousticCorrelates95_Right_OFC.nlargest(10).index.tolist()"
      ],
      "metadata": {
        "colab": {
          "base_uri": "https://localhost:8080/"
        },
        "id": "xAbMlN7xl-Uu",
        "outputId": "71feb3e1-72b8-4d8c-cf0a-85e9c381439a"
      },
      "execution_count": null,
      "outputs": [
        {
          "output_type": "execute_result",
          "data": {
            "text/plain": [
              "[]"
            ]
          },
          "metadata": {},
          "execution_count": 19
        }
      ]
    },
    {
      "cell_type": "markdown",
      "source": [
        "##Left OFC (no sig feats)"
      ],
      "metadata": {
        "id": "Jz9-QahFl-Uu"
      }
    },
    {
      "cell_type": "code",
      "source": [
        "# Assuming powerAmplitudeAllLLDdf is your DataFrame\n",
        "correlations_Left_OFC = powerPraatDF.corr()['Power: Left OFC'][8:].abs()\n",
        "AcousticCorrelates99_Left_OFC = correlations_Left_OFC[correlations_Left_OFC > rValFor99ConfidenceLevel]\n",
        "print(\"# of acoustic features where p < 0.01:\", len(AcousticCorrelates99_Left_OFC))\n",
        "AcousticCorrelates99_Left_OFC.nlargest(len(AcousticCorrelates99_Left_OFC)) # for sorting"
      ],
      "metadata": {
        "colab": {
          "base_uri": "https://localhost:8080/"
        },
        "outputId": "ef62b479-02a0-4fbb-f3ff-d39c62e7a612",
        "id": "ffRcruGzl-Uu"
      },
      "execution_count": null,
      "outputs": [
        {
          "output_type": "stream",
          "name": "stdout",
          "text": [
            "# of acoustic features where p < 0.01: 0\n"
          ]
        },
        {
          "output_type": "execute_result",
          "data": {
            "text/plain": [
              "Series([], Name: Power: Left OFC, dtype: float64)"
            ]
          },
          "metadata": {},
          "execution_count": 20
        }
      ]
    },
    {
      "cell_type": "code",
      "source": [
        "# Assuming powerAmplitudeAllLLDdf is your DataFrame\n",
        "AcousticCorrelates95_Left_OFC = correlations_Left_OFC[correlations_Left_OFC > rValFor95ConfidenceLevel]\n",
        "print(\"# of acoustic features where p < 0.05:\", len(AcousticCorrelates95_Left_OFC))\n",
        "AcousticCorrelates95_Left_OFC.nlargest(len(AcousticCorrelates95_Left_OFC)) # for sorting"
      ],
      "metadata": {
        "colab": {
          "base_uri": "https://localhost:8080/"
        },
        "outputId": "77e8ec39-730e-47aa-8158-a4293e09197f",
        "id": "qF84XLrel-Uu"
      },
      "execution_count": null,
      "outputs": [
        {
          "output_type": "stream",
          "name": "stdout",
          "text": [
            "# of acoustic features where p < 0.05: 0\n"
          ]
        },
        {
          "output_type": "execute_result",
          "data": {
            "text/plain": [
              "Series([], Name: Power: Left OFC, dtype: float64)"
            ]
          },
          "metadata": {},
          "execution_count": 21
        }
      ]
    },
    {
      "cell_type": "markdown",
      "source": [],
      "metadata": {
        "id": "j0def7CRrAV8"
      }
    },
    {
      "cell_type": "code",
      "source": [],
      "metadata": {
        "id": "xLFpJadwspbP"
      },
      "execution_count": null,
      "outputs": []
    },
    {
      "cell_type": "markdown",
      "source": [
        "#Sept 19 ("
      ],
      "metadata": {
        "id": "kZcmApS6sphx"
      }
    },
    {
      "cell_type": "markdown",
      "source": [
        "##read in files"
      ],
      "metadata": {
        "id": "_bmLFIpOtTab"
      }
    },
    {
      "cell_type": "code",
      "source": [
        "powerDF = pd.read_csv('2022-09-19-Power.csv')\n",
        "del powerDF['Unnamed: 0']\n",
        "powerDF.head()"
      ],
      "metadata": {
        "colab": {
          "base_uri": "https://localhost:8080/",
          "height": 224
        },
        "outputId": "6048a708-9fb0-49fd-8dbf-9e3d70ebd1f2",
        "id": "JfcLQhvgsphx"
      },
      "execution_count": null,
      "outputs": [
        {
          "output_type": "execute_result",
          "data": {
            "text/plain": [
              "   Power: Left OFC  Power: Left vlPFC  Power: Right OFC  Power: Right vlPFC\n",
              "0         9.322238           4.995461          5.607341            3.754328\n",
              "1         7.696407           7.638623          6.380779            7.017708\n",
              "2         4.062073           4.581651          6.308548            9.426878\n",
              "3         2.702953           3.492604          4.114555            7.404552\n",
              "4         4.282622           5.795164         10.881743            3.557609"
            ],
            "text/html": [
              "\n",
              "  <div id=\"df-97bb8b6b-a8fa-4636-9b1d-bc61d9cd3276\" class=\"colab-df-container\">\n",
              "    <div>\n",
              "<style scoped>\n",
              "    .dataframe tbody tr th:only-of-type {\n",
              "        vertical-align: middle;\n",
              "    }\n",
              "\n",
              "    .dataframe tbody tr th {\n",
              "        vertical-align: top;\n",
              "    }\n",
              "\n",
              "    .dataframe thead th {\n",
              "        text-align: right;\n",
              "    }\n",
              "</style>\n",
              "<table border=\"1\" class=\"dataframe\">\n",
              "  <thead>\n",
              "    <tr style=\"text-align: right;\">\n",
              "      <th></th>\n",
              "      <th>Power: Left OFC</th>\n",
              "      <th>Power: Left vlPFC</th>\n",
              "      <th>Power: Right OFC</th>\n",
              "      <th>Power: Right vlPFC</th>\n",
              "    </tr>\n",
              "  </thead>\n",
              "  <tbody>\n",
              "    <tr>\n",
              "      <th>0</th>\n",
              "      <td>9.322238</td>\n",
              "      <td>4.995461</td>\n",
              "      <td>5.607341</td>\n",
              "      <td>3.754328</td>\n",
              "    </tr>\n",
              "    <tr>\n",
              "      <th>1</th>\n",
              "      <td>7.696407</td>\n",
              "      <td>7.638623</td>\n",
              "      <td>6.380779</td>\n",
              "      <td>7.017708</td>\n",
              "    </tr>\n",
              "    <tr>\n",
              "      <th>2</th>\n",
              "      <td>4.062073</td>\n",
              "      <td>4.581651</td>\n",
              "      <td>6.308548</td>\n",
              "      <td>9.426878</td>\n",
              "    </tr>\n",
              "    <tr>\n",
              "      <th>3</th>\n",
              "      <td>2.702953</td>\n",
              "      <td>3.492604</td>\n",
              "      <td>4.114555</td>\n",
              "      <td>7.404552</td>\n",
              "    </tr>\n",
              "    <tr>\n",
              "      <th>4</th>\n",
              "      <td>4.282622</td>\n",
              "      <td>5.795164</td>\n",
              "      <td>10.881743</td>\n",
              "      <td>3.557609</td>\n",
              "    </tr>\n",
              "  </tbody>\n",
              "</table>\n",
              "</div>\n",
              "    <div class=\"colab-df-buttons\">\n",
              "\n",
              "  <div class=\"colab-df-container\">\n",
              "    <button class=\"colab-df-convert\" onclick=\"convertToInteractive('df-97bb8b6b-a8fa-4636-9b1d-bc61d9cd3276')\"\n",
              "            title=\"Convert this dataframe to an interactive table.\"\n",
              "            style=\"display:none;\">\n",
              "\n",
              "  <svg xmlns=\"http://www.w3.org/2000/svg\" height=\"24px\" viewBox=\"0 -960 960 960\">\n",
              "    <path d=\"M120-120v-720h720v720H120Zm60-500h600v-160H180v160Zm220 220h160v-160H400v160Zm0 220h160v-160H400v160ZM180-400h160v-160H180v160Zm440 0h160v-160H620v160ZM180-180h160v-160H180v160Zm440 0h160v-160H620v160Z\"/>\n",
              "  </svg>\n",
              "    </button>\n",
              "\n",
              "  <style>\n",
              "    .colab-df-container {\n",
              "      display:flex;\n",
              "      gap: 12px;\n",
              "    }\n",
              "\n",
              "    .colab-df-convert {\n",
              "      background-color: #E8F0FE;\n",
              "      border: none;\n",
              "      border-radius: 50%;\n",
              "      cursor: pointer;\n",
              "      display: none;\n",
              "      fill: #1967D2;\n",
              "      height: 32px;\n",
              "      padding: 0 0 0 0;\n",
              "      width: 32px;\n",
              "    }\n",
              "\n",
              "    .colab-df-convert:hover {\n",
              "      background-color: #E2EBFA;\n",
              "      box-shadow: 0px 1px 2px rgba(60, 64, 67, 0.3), 0px 1px 3px 1px rgba(60, 64, 67, 0.15);\n",
              "      fill: #174EA6;\n",
              "    }\n",
              "\n",
              "    .colab-df-buttons div {\n",
              "      margin-bottom: 4px;\n",
              "    }\n",
              "\n",
              "    [theme=dark] .colab-df-convert {\n",
              "      background-color: #3B4455;\n",
              "      fill: #D2E3FC;\n",
              "    }\n",
              "\n",
              "    [theme=dark] .colab-df-convert:hover {\n",
              "      background-color: #434B5C;\n",
              "      box-shadow: 0px 1px 3px 1px rgba(0, 0, 0, 0.15);\n",
              "      filter: drop-shadow(0px 1px 2px rgba(0, 0, 0, 0.3));\n",
              "      fill: #FFFFFF;\n",
              "    }\n",
              "  </style>\n",
              "\n",
              "    <script>\n",
              "      const buttonEl =\n",
              "        document.querySelector('#df-97bb8b6b-a8fa-4636-9b1d-bc61d9cd3276 button.colab-df-convert');\n",
              "      buttonEl.style.display =\n",
              "        google.colab.kernel.accessAllowed ? 'block' : 'none';\n",
              "\n",
              "      async function convertToInteractive(key) {\n",
              "        const element = document.querySelector('#df-97bb8b6b-a8fa-4636-9b1d-bc61d9cd3276');\n",
              "        const dataTable =\n",
              "          await google.colab.kernel.invokeFunction('convertToInteractive',\n",
              "                                                    [key], {});\n",
              "        if (!dataTable) return;\n",
              "\n",
              "        const docLinkHtml = 'Like what you see? Visit the ' +\n",
              "          '<a target=\"_blank\" href=https://colab.research.google.com/notebooks/data_table.ipynb>data table notebook</a>'\n",
              "          + ' to learn more about interactive tables.';\n",
              "        element.innerHTML = '';\n",
              "        dataTable['output_type'] = 'display_data';\n",
              "        await google.colab.output.renderOutput(dataTable, element);\n",
              "        const docLink = document.createElement('div');\n",
              "        docLink.innerHTML = docLinkHtml;\n",
              "        element.appendChild(docLink);\n",
              "      }\n",
              "    </script>\n",
              "  </div>\n",
              "\n",
              "\n",
              "<div id=\"df-b19a6f21-db09-4c34-8a57-be271640f3f2\">\n",
              "  <button class=\"colab-df-quickchart\" onclick=\"quickchart('df-b19a6f21-db09-4c34-8a57-be271640f3f2')\"\n",
              "            title=\"Suggest charts\"\n",
              "            style=\"display:none;\">\n",
              "\n",
              "<svg xmlns=\"http://www.w3.org/2000/svg\" height=\"24px\"viewBox=\"0 0 24 24\"\n",
              "     width=\"24px\">\n",
              "    <g>\n",
              "        <path d=\"M19 3H5c-1.1 0-2 .9-2 2v14c0 1.1.9 2 2 2h14c1.1 0 2-.9 2-2V5c0-1.1-.9-2-2-2zM9 17H7v-7h2v7zm4 0h-2V7h2v10zm4 0h-2v-4h2v4z\"/>\n",
              "    </g>\n",
              "</svg>\n",
              "  </button>\n",
              "\n",
              "<style>\n",
              "  .colab-df-quickchart {\n",
              "      --bg-color: #E8F0FE;\n",
              "      --fill-color: #1967D2;\n",
              "      --hover-bg-color: #E2EBFA;\n",
              "      --hover-fill-color: #174EA6;\n",
              "      --disabled-fill-color: #AAA;\n",
              "      --disabled-bg-color: #DDD;\n",
              "  }\n",
              "\n",
              "  [theme=dark] .colab-df-quickchart {\n",
              "      --bg-color: #3B4455;\n",
              "      --fill-color: #D2E3FC;\n",
              "      --hover-bg-color: #434B5C;\n",
              "      --hover-fill-color: #FFFFFF;\n",
              "      --disabled-bg-color: #3B4455;\n",
              "      --disabled-fill-color: #666;\n",
              "  }\n",
              "\n",
              "  .colab-df-quickchart {\n",
              "    background-color: var(--bg-color);\n",
              "    border: none;\n",
              "    border-radius: 50%;\n",
              "    cursor: pointer;\n",
              "    display: none;\n",
              "    fill: var(--fill-color);\n",
              "    height: 32px;\n",
              "    padding: 0;\n",
              "    width: 32px;\n",
              "  }\n",
              "\n",
              "  .colab-df-quickchart:hover {\n",
              "    background-color: var(--hover-bg-color);\n",
              "    box-shadow: 0 1px 2px rgba(60, 64, 67, 0.3), 0 1px 3px 1px rgba(60, 64, 67, 0.15);\n",
              "    fill: var(--button-hover-fill-color);\n",
              "  }\n",
              "\n",
              "  .colab-df-quickchart-complete:disabled,\n",
              "  .colab-df-quickchart-complete:disabled:hover {\n",
              "    background-color: var(--disabled-bg-color);\n",
              "    fill: var(--disabled-fill-color);\n",
              "    box-shadow: none;\n",
              "  }\n",
              "\n",
              "  .colab-df-spinner {\n",
              "    border: 2px solid var(--fill-color);\n",
              "    border-color: transparent;\n",
              "    border-bottom-color: var(--fill-color);\n",
              "    animation:\n",
              "      spin 1s steps(1) infinite;\n",
              "  }\n",
              "\n",
              "  @keyframes spin {\n",
              "    0% {\n",
              "      border-color: transparent;\n",
              "      border-bottom-color: var(--fill-color);\n",
              "      border-left-color: var(--fill-color);\n",
              "    }\n",
              "    20% {\n",
              "      border-color: transparent;\n",
              "      border-left-color: var(--fill-color);\n",
              "      border-top-color: var(--fill-color);\n",
              "    }\n",
              "    30% {\n",
              "      border-color: transparent;\n",
              "      border-left-color: var(--fill-color);\n",
              "      border-top-color: var(--fill-color);\n",
              "      border-right-color: var(--fill-color);\n",
              "    }\n",
              "    40% {\n",
              "      border-color: transparent;\n",
              "      border-right-color: var(--fill-color);\n",
              "      border-top-color: var(--fill-color);\n",
              "    }\n",
              "    60% {\n",
              "      border-color: transparent;\n",
              "      border-right-color: var(--fill-color);\n",
              "    }\n",
              "    80% {\n",
              "      border-color: transparent;\n",
              "      border-right-color: var(--fill-color);\n",
              "      border-bottom-color: var(--fill-color);\n",
              "    }\n",
              "    90% {\n",
              "      border-color: transparent;\n",
              "      border-bottom-color: var(--fill-color);\n",
              "    }\n",
              "  }\n",
              "</style>\n",
              "\n",
              "  <script>\n",
              "    async function quickchart(key) {\n",
              "      const quickchartButtonEl =\n",
              "        document.querySelector('#' + key + ' button');\n",
              "      quickchartButtonEl.disabled = true;  // To prevent multiple clicks.\n",
              "      quickchartButtonEl.classList.add('colab-df-spinner');\n",
              "      try {\n",
              "        const charts = await google.colab.kernel.invokeFunction(\n",
              "            'suggestCharts', [key], {});\n",
              "      } catch (error) {\n",
              "        console.error('Error during call to suggestCharts:', error);\n",
              "      }\n",
              "      quickchartButtonEl.classList.remove('colab-df-spinner');\n",
              "      quickchartButtonEl.classList.add('colab-df-quickchart-complete');\n",
              "    }\n",
              "    (() => {\n",
              "      let quickchartButtonEl =\n",
              "        document.querySelector('#df-b19a6f21-db09-4c34-8a57-be271640f3f2 button');\n",
              "      quickchartButtonEl.style.display =\n",
              "        google.colab.kernel.accessAllowed ? 'block' : 'none';\n",
              "    })();\n",
              "  </script>\n",
              "</div>\n",
              "    </div>\n",
              "  </div>\n"
            ]
          },
          "metadata": {},
          "execution_count": 22
        }
      ]
    },
    {
      "cell_type": "code",
      "source": [
        "praatAcousticFeatsDf = pd.read_csv('noModeratorSpeech_Sept19PerTwoSecondPraatFeatures.csv')\n",
        "del praatAcousticFeatsDf['Unnamed: 0'], praatAcousticFeatsDf['Time (secs)']\n",
        "praatAcousticFeatsDf.head()"
      ],
      "metadata": {
        "colab": {
          "base_uri": "https://localhost:8080/",
          "height": 278
        },
        "outputId": "fbe02736-7840-4ce2-ae89-6d2637e6e90d",
        "id": "vexw1BqRsphy"
      },
      "execution_count": null,
      "outputs": [
        {
          "output_type": "execute_result",
          "data": {
            "text/plain": [
              "   speechrate(nsyll / dur)  \\\n",
              "0                      0.0   \n",
              "1                      0.0   \n",
              "2                      0.0   \n",
              "3                      1.5   \n",
              "4                      0.0   \n",
              "\n",
              "   Average Syllable Duration (speakingtot/voicedcount)  \\\n",
              "0                                                NaN     \n",
              "1                                                NaN     \n",
              "2                                                NaN     \n",
              "3                                           0.397333     \n",
              "4                                                NaN     \n",
              "\n",
              "   articulation rate(nsyll / phonationtime)  Speech-to-pause ratio  \\\n",
              "0                                       NaN                    NaN   \n",
              "1                                       NaN                    NaN   \n",
              "2                                       NaN                    NaN   \n",
              "3                                  2.516779               1.475248   \n",
              "4                                       NaN                    NaN   \n",
              "\n",
              "   Mean Syllable Period  Variability of Syllable Period  Mean Pause Duration  \\\n",
              "0                   NaN                             NaN                  NaN   \n",
              "1                   NaN                             NaN                  NaN   \n",
              "2                   NaN                             NaN                  NaN   \n",
              "3              0.666667                        0.242323                0.808   \n",
              "4                   NaN                             NaN                  NaN   \n",
              "\n",
              "   Variability of Pause Duration  # of pauses  \n",
              "0                            NaN            1  \n",
              "1                            NaN            1  \n",
              "2                            NaN            1  \n",
              "3                            0.0            1  \n",
              "4                            NaN            1  "
            ],
            "text/html": [
              "\n",
              "  <div id=\"df-151feef8-a7fe-4131-b5f9-78add949cbf3\" class=\"colab-df-container\">\n",
              "    <div>\n",
              "<style scoped>\n",
              "    .dataframe tbody tr th:only-of-type {\n",
              "        vertical-align: middle;\n",
              "    }\n",
              "\n",
              "    .dataframe tbody tr th {\n",
              "        vertical-align: top;\n",
              "    }\n",
              "\n",
              "    .dataframe thead th {\n",
              "        text-align: right;\n",
              "    }\n",
              "</style>\n",
              "<table border=\"1\" class=\"dataframe\">\n",
              "  <thead>\n",
              "    <tr style=\"text-align: right;\">\n",
              "      <th></th>\n",
              "      <th>speechrate(nsyll / dur)</th>\n",
              "      <th>Average Syllable Duration (speakingtot/voicedcount)</th>\n",
              "      <th>articulation rate(nsyll / phonationtime)</th>\n",
              "      <th>Speech-to-pause ratio</th>\n",
              "      <th>Mean Syllable Period</th>\n",
              "      <th>Variability of Syllable Period</th>\n",
              "      <th>Mean Pause Duration</th>\n",
              "      <th>Variability of Pause Duration</th>\n",
              "      <th># of pauses</th>\n",
              "    </tr>\n",
              "  </thead>\n",
              "  <tbody>\n",
              "    <tr>\n",
              "      <th>0</th>\n",
              "      <td>0.0</td>\n",
              "      <td>NaN</td>\n",
              "      <td>NaN</td>\n",
              "      <td>NaN</td>\n",
              "      <td>NaN</td>\n",
              "      <td>NaN</td>\n",
              "      <td>NaN</td>\n",
              "      <td>NaN</td>\n",
              "      <td>1</td>\n",
              "    </tr>\n",
              "    <tr>\n",
              "      <th>1</th>\n",
              "      <td>0.0</td>\n",
              "      <td>NaN</td>\n",
              "      <td>NaN</td>\n",
              "      <td>NaN</td>\n",
              "      <td>NaN</td>\n",
              "      <td>NaN</td>\n",
              "      <td>NaN</td>\n",
              "      <td>NaN</td>\n",
              "      <td>1</td>\n",
              "    </tr>\n",
              "    <tr>\n",
              "      <th>2</th>\n",
              "      <td>0.0</td>\n",
              "      <td>NaN</td>\n",
              "      <td>NaN</td>\n",
              "      <td>NaN</td>\n",
              "      <td>NaN</td>\n",
              "      <td>NaN</td>\n",
              "      <td>NaN</td>\n",
              "      <td>NaN</td>\n",
              "      <td>1</td>\n",
              "    </tr>\n",
              "    <tr>\n",
              "      <th>3</th>\n",
              "      <td>1.5</td>\n",
              "      <td>0.397333</td>\n",
              "      <td>2.516779</td>\n",
              "      <td>1.475248</td>\n",
              "      <td>0.666667</td>\n",
              "      <td>0.242323</td>\n",
              "      <td>0.808</td>\n",
              "      <td>0.0</td>\n",
              "      <td>1</td>\n",
              "    </tr>\n",
              "    <tr>\n",
              "      <th>4</th>\n",
              "      <td>0.0</td>\n",
              "      <td>NaN</td>\n",
              "      <td>NaN</td>\n",
              "      <td>NaN</td>\n",
              "      <td>NaN</td>\n",
              "      <td>NaN</td>\n",
              "      <td>NaN</td>\n",
              "      <td>NaN</td>\n",
              "      <td>1</td>\n",
              "    </tr>\n",
              "  </tbody>\n",
              "</table>\n",
              "</div>\n",
              "    <div class=\"colab-df-buttons\">\n",
              "\n",
              "  <div class=\"colab-df-container\">\n",
              "    <button class=\"colab-df-convert\" onclick=\"convertToInteractive('df-151feef8-a7fe-4131-b5f9-78add949cbf3')\"\n",
              "            title=\"Convert this dataframe to an interactive table.\"\n",
              "            style=\"display:none;\">\n",
              "\n",
              "  <svg xmlns=\"http://www.w3.org/2000/svg\" height=\"24px\" viewBox=\"0 -960 960 960\">\n",
              "    <path d=\"M120-120v-720h720v720H120Zm60-500h600v-160H180v160Zm220 220h160v-160H400v160Zm0 220h160v-160H400v160ZM180-400h160v-160H180v160Zm440 0h160v-160H620v160ZM180-180h160v-160H180v160Zm440 0h160v-160H620v160Z\"/>\n",
              "  </svg>\n",
              "    </button>\n",
              "\n",
              "  <style>\n",
              "    .colab-df-container {\n",
              "      display:flex;\n",
              "      gap: 12px;\n",
              "    }\n",
              "\n",
              "    .colab-df-convert {\n",
              "      background-color: #E8F0FE;\n",
              "      border: none;\n",
              "      border-radius: 50%;\n",
              "      cursor: pointer;\n",
              "      display: none;\n",
              "      fill: #1967D2;\n",
              "      height: 32px;\n",
              "      padding: 0 0 0 0;\n",
              "      width: 32px;\n",
              "    }\n",
              "\n",
              "    .colab-df-convert:hover {\n",
              "      background-color: #E2EBFA;\n",
              "      box-shadow: 0px 1px 2px rgba(60, 64, 67, 0.3), 0px 1px 3px 1px rgba(60, 64, 67, 0.15);\n",
              "      fill: #174EA6;\n",
              "    }\n",
              "\n",
              "    .colab-df-buttons div {\n",
              "      margin-bottom: 4px;\n",
              "    }\n",
              "\n",
              "    [theme=dark] .colab-df-convert {\n",
              "      background-color: #3B4455;\n",
              "      fill: #D2E3FC;\n",
              "    }\n",
              "\n",
              "    [theme=dark] .colab-df-convert:hover {\n",
              "      background-color: #434B5C;\n",
              "      box-shadow: 0px 1px 3px 1px rgba(0, 0, 0, 0.15);\n",
              "      filter: drop-shadow(0px 1px 2px rgba(0, 0, 0, 0.3));\n",
              "      fill: #FFFFFF;\n",
              "    }\n",
              "  </style>\n",
              "\n",
              "    <script>\n",
              "      const buttonEl =\n",
              "        document.querySelector('#df-151feef8-a7fe-4131-b5f9-78add949cbf3 button.colab-df-convert');\n",
              "      buttonEl.style.display =\n",
              "        google.colab.kernel.accessAllowed ? 'block' : 'none';\n",
              "\n",
              "      async function convertToInteractive(key) {\n",
              "        const element = document.querySelector('#df-151feef8-a7fe-4131-b5f9-78add949cbf3');\n",
              "        const dataTable =\n",
              "          await google.colab.kernel.invokeFunction('convertToInteractive',\n",
              "                                                    [key], {});\n",
              "        if (!dataTable) return;\n",
              "\n",
              "        const docLinkHtml = 'Like what you see? Visit the ' +\n",
              "          '<a target=\"_blank\" href=https://colab.research.google.com/notebooks/data_table.ipynb>data table notebook</a>'\n",
              "          + ' to learn more about interactive tables.';\n",
              "        element.innerHTML = '';\n",
              "        dataTable['output_type'] = 'display_data';\n",
              "        await google.colab.output.renderOutput(dataTable, element);\n",
              "        const docLink = document.createElement('div');\n",
              "        docLink.innerHTML = docLinkHtml;\n",
              "        element.appendChild(docLink);\n",
              "      }\n",
              "    </script>\n",
              "  </div>\n",
              "\n",
              "\n",
              "<div id=\"df-45b15ee3-4566-45bc-a714-104b0fc8cddb\">\n",
              "  <button class=\"colab-df-quickchart\" onclick=\"quickchart('df-45b15ee3-4566-45bc-a714-104b0fc8cddb')\"\n",
              "            title=\"Suggest charts\"\n",
              "            style=\"display:none;\">\n",
              "\n",
              "<svg xmlns=\"http://www.w3.org/2000/svg\" height=\"24px\"viewBox=\"0 0 24 24\"\n",
              "     width=\"24px\">\n",
              "    <g>\n",
              "        <path d=\"M19 3H5c-1.1 0-2 .9-2 2v14c0 1.1.9 2 2 2h14c1.1 0 2-.9 2-2V5c0-1.1-.9-2-2-2zM9 17H7v-7h2v7zm4 0h-2V7h2v10zm4 0h-2v-4h2v4z\"/>\n",
              "    </g>\n",
              "</svg>\n",
              "  </button>\n",
              "\n",
              "<style>\n",
              "  .colab-df-quickchart {\n",
              "      --bg-color: #E8F0FE;\n",
              "      --fill-color: #1967D2;\n",
              "      --hover-bg-color: #E2EBFA;\n",
              "      --hover-fill-color: #174EA6;\n",
              "      --disabled-fill-color: #AAA;\n",
              "      --disabled-bg-color: #DDD;\n",
              "  }\n",
              "\n",
              "  [theme=dark] .colab-df-quickchart {\n",
              "      --bg-color: #3B4455;\n",
              "      --fill-color: #D2E3FC;\n",
              "      --hover-bg-color: #434B5C;\n",
              "      --hover-fill-color: #FFFFFF;\n",
              "      --disabled-bg-color: #3B4455;\n",
              "      --disabled-fill-color: #666;\n",
              "  }\n",
              "\n",
              "  .colab-df-quickchart {\n",
              "    background-color: var(--bg-color);\n",
              "    border: none;\n",
              "    border-radius: 50%;\n",
              "    cursor: pointer;\n",
              "    display: none;\n",
              "    fill: var(--fill-color);\n",
              "    height: 32px;\n",
              "    padding: 0;\n",
              "    width: 32px;\n",
              "  }\n",
              "\n",
              "  .colab-df-quickchart:hover {\n",
              "    background-color: var(--hover-bg-color);\n",
              "    box-shadow: 0 1px 2px rgba(60, 64, 67, 0.3), 0 1px 3px 1px rgba(60, 64, 67, 0.15);\n",
              "    fill: var(--button-hover-fill-color);\n",
              "  }\n",
              "\n",
              "  .colab-df-quickchart-complete:disabled,\n",
              "  .colab-df-quickchart-complete:disabled:hover {\n",
              "    background-color: var(--disabled-bg-color);\n",
              "    fill: var(--disabled-fill-color);\n",
              "    box-shadow: none;\n",
              "  }\n",
              "\n",
              "  .colab-df-spinner {\n",
              "    border: 2px solid var(--fill-color);\n",
              "    border-color: transparent;\n",
              "    border-bottom-color: var(--fill-color);\n",
              "    animation:\n",
              "      spin 1s steps(1) infinite;\n",
              "  }\n",
              "\n",
              "  @keyframes spin {\n",
              "    0% {\n",
              "      border-color: transparent;\n",
              "      border-bottom-color: var(--fill-color);\n",
              "      border-left-color: var(--fill-color);\n",
              "    }\n",
              "    20% {\n",
              "      border-color: transparent;\n",
              "      border-left-color: var(--fill-color);\n",
              "      border-top-color: var(--fill-color);\n",
              "    }\n",
              "    30% {\n",
              "      border-color: transparent;\n",
              "      border-left-color: var(--fill-color);\n",
              "      border-top-color: var(--fill-color);\n",
              "      border-right-color: var(--fill-color);\n",
              "    }\n",
              "    40% {\n",
              "      border-color: transparent;\n",
              "      border-right-color: var(--fill-color);\n",
              "      border-top-color: var(--fill-color);\n",
              "    }\n",
              "    60% {\n",
              "      border-color: transparent;\n",
              "      border-right-color: var(--fill-color);\n",
              "    }\n",
              "    80% {\n",
              "      border-color: transparent;\n",
              "      border-right-color: var(--fill-color);\n",
              "      border-bottom-color: var(--fill-color);\n",
              "    }\n",
              "    90% {\n",
              "      border-color: transparent;\n",
              "      border-bottom-color: var(--fill-color);\n",
              "    }\n",
              "  }\n",
              "</style>\n",
              "\n",
              "  <script>\n",
              "    async function quickchart(key) {\n",
              "      const quickchartButtonEl =\n",
              "        document.querySelector('#' + key + ' button');\n",
              "      quickchartButtonEl.disabled = true;  // To prevent multiple clicks.\n",
              "      quickchartButtonEl.classList.add('colab-df-spinner');\n",
              "      try {\n",
              "        const charts = await google.colab.kernel.invokeFunction(\n",
              "            'suggestCharts', [key], {});\n",
              "      } catch (error) {\n",
              "        console.error('Error during call to suggestCharts:', error);\n",
              "      }\n",
              "      quickchartButtonEl.classList.remove('colab-df-spinner');\n",
              "      quickchartButtonEl.classList.add('colab-df-quickchart-complete');\n",
              "    }\n",
              "    (() => {\n",
              "      let quickchartButtonEl =\n",
              "        document.querySelector('#df-45b15ee3-4566-45bc-a714-104b0fc8cddb button');\n",
              "      quickchartButtonEl.style.display =\n",
              "        google.colab.kernel.accessAllowed ? 'block' : 'none';\n",
              "    })();\n",
              "  </script>\n",
              "</div>\n",
              "    </div>\n",
              "  </div>\n"
            ]
          },
          "metadata": {},
          "execution_count": 23
        }
      ]
    },
    {
      "cell_type": "code",
      "source": [
        "powerDF.shape, praatAcousticFeatsDf.shape"
      ],
      "metadata": {
        "colab": {
          "base_uri": "https://localhost:8080/"
        },
        "outputId": "c969b089-7689-42b7-de83-cd694f4d4fb6",
        "id": "SmIcsLlzsphy"
      },
      "execution_count": null,
      "outputs": [
        {
          "output_type": "execute_result",
          "data": {
            "text/plain": [
              "((1137, 4), (564, 9))"
            ]
          },
          "metadata": {},
          "execution_count": 24
        }
      ]
    },
    {
      "cell_type": "code",
      "source": [
        "# Reshape the array to have 50 columns (assuming the number of rows is a multiple of 50)\n",
        "dfArray = powerDF[:-1].to_numpy()\n",
        "reshaped_array = dfArray.reshape(-1, 2, dfArray.shape[1])\n",
        "\n",
        "# Calculate the mean along axis 1 (average every 5 rows)\n",
        "averaged_array = reshaped_array.mean(axis=1)\n",
        "\n",
        "# Create a new DataFrame from the averaged array\n",
        "columns = powerDF.columns  # Assuming you want to keep the same columns\n",
        "resampled_powerDF = pd.DataFrame(averaged_array, columns=columns)\n",
        "resampled_powerDF.shape"
      ],
      "metadata": {
        "colab": {
          "base_uri": "https://localhost:8080/"
        },
        "outputId": "7a045d5d-c2bb-42cf-8306-f5318b9c3a3e",
        "id": "2F2qqoSUsphy"
      },
      "execution_count": null,
      "outputs": [
        {
          "output_type": "execute_result",
          "data": {
            "text/plain": [
              "(568, 4)"
            ]
          },
          "metadata": {},
          "execution_count": 25
        }
      ]
    },
    {
      "cell_type": "code",
      "source": [
        "resampled_powerDF = resampled_powerDF.iloc[:praatAcousticFeatsDf.shape[0]]\n",
        "resampled_powerDF.shape"
      ],
      "metadata": {
        "colab": {
          "base_uri": "https://localhost:8080/"
        },
        "outputId": "21d88e38-034f-4fde-acd8-071d9e3a549f",
        "id": "isCooD7fsphy"
      },
      "execution_count": null,
      "outputs": [
        {
          "output_type": "execute_result",
          "data": {
            "text/plain": [
              "(564, 4)"
            ]
          },
          "metadata": {},
          "execution_count": 26
        }
      ]
    },
    {
      "cell_type": "code",
      "source": [
        "powerPraatDF = pd.concat([resampled_powerDF, praatAcousticFeatsDf], axis=1)\n",
        "powerPraatDF.head()"
      ],
      "metadata": {
        "colab": {
          "base_uri": "https://localhost:8080/",
          "height": 278
        },
        "outputId": "730e0cc1-504c-4164-f4bd-21fa7b357e13",
        "id": "s-F6Haygsph0"
      },
      "execution_count": null,
      "outputs": [
        {
          "output_type": "execute_result",
          "data": {
            "text/plain": [
              "   Power: Left OFC  Power: Left vlPFC  Power: Right OFC  Power: Right vlPFC  \\\n",
              "0         8.509322           6.317042          5.994060            5.386018   \n",
              "1         3.382513           4.037128          5.211552            8.415715   \n",
              "2         6.791152           7.366131          8.835148            5.475258   \n",
              "3         7.941317          -0.631314         11.155362            8.180236   \n",
              "4         4.303380           6.855423          6.189374           10.970051   \n",
              "\n",
              "   speechrate(nsyll / dur)  \\\n",
              "0                      0.0   \n",
              "1                      0.0   \n",
              "2                      0.0   \n",
              "3                      1.5   \n",
              "4                      0.0   \n",
              "\n",
              "   Average Syllable Duration (speakingtot/voicedcount)  \\\n",
              "0                                                NaN     \n",
              "1                                                NaN     \n",
              "2                                                NaN     \n",
              "3                                           0.397333     \n",
              "4                                                NaN     \n",
              "\n",
              "   articulation rate(nsyll / phonationtime)  Speech-to-pause ratio  \\\n",
              "0                                       NaN                    NaN   \n",
              "1                                       NaN                    NaN   \n",
              "2                                       NaN                    NaN   \n",
              "3                                  2.516779               1.475248   \n",
              "4                                       NaN                    NaN   \n",
              "\n",
              "   Mean Syllable Period  Variability of Syllable Period  Mean Pause Duration  \\\n",
              "0                   NaN                             NaN                  NaN   \n",
              "1                   NaN                             NaN                  NaN   \n",
              "2                   NaN                             NaN                  NaN   \n",
              "3              0.666667                        0.242323                0.808   \n",
              "4                   NaN                             NaN                  NaN   \n",
              "\n",
              "   Variability of Pause Duration  # of pauses  \n",
              "0                            NaN            1  \n",
              "1                            NaN            1  \n",
              "2                            NaN            1  \n",
              "3                            0.0            1  \n",
              "4                            NaN            1  "
            ],
            "text/html": [
              "\n",
              "  <div id=\"df-0a32fc6b-dcf0-49d1-871c-942f33df8c57\" class=\"colab-df-container\">\n",
              "    <div>\n",
              "<style scoped>\n",
              "    .dataframe tbody tr th:only-of-type {\n",
              "        vertical-align: middle;\n",
              "    }\n",
              "\n",
              "    .dataframe tbody tr th {\n",
              "        vertical-align: top;\n",
              "    }\n",
              "\n",
              "    .dataframe thead th {\n",
              "        text-align: right;\n",
              "    }\n",
              "</style>\n",
              "<table border=\"1\" class=\"dataframe\">\n",
              "  <thead>\n",
              "    <tr style=\"text-align: right;\">\n",
              "      <th></th>\n",
              "      <th>Power: Left OFC</th>\n",
              "      <th>Power: Left vlPFC</th>\n",
              "      <th>Power: Right OFC</th>\n",
              "      <th>Power: Right vlPFC</th>\n",
              "      <th>speechrate(nsyll / dur)</th>\n",
              "      <th>Average Syllable Duration (speakingtot/voicedcount)</th>\n",
              "      <th>articulation rate(nsyll / phonationtime)</th>\n",
              "      <th>Speech-to-pause ratio</th>\n",
              "      <th>Mean Syllable Period</th>\n",
              "      <th>Variability of Syllable Period</th>\n",
              "      <th>Mean Pause Duration</th>\n",
              "      <th>Variability of Pause Duration</th>\n",
              "      <th># of pauses</th>\n",
              "    </tr>\n",
              "  </thead>\n",
              "  <tbody>\n",
              "    <tr>\n",
              "      <th>0</th>\n",
              "      <td>8.509322</td>\n",
              "      <td>6.317042</td>\n",
              "      <td>5.994060</td>\n",
              "      <td>5.386018</td>\n",
              "      <td>0.0</td>\n",
              "      <td>NaN</td>\n",
              "      <td>NaN</td>\n",
              "      <td>NaN</td>\n",
              "      <td>NaN</td>\n",
              "      <td>NaN</td>\n",
              "      <td>NaN</td>\n",
              "      <td>NaN</td>\n",
              "      <td>1</td>\n",
              "    </tr>\n",
              "    <tr>\n",
              "      <th>1</th>\n",
              "      <td>3.382513</td>\n",
              "      <td>4.037128</td>\n",
              "      <td>5.211552</td>\n",
              "      <td>8.415715</td>\n",
              "      <td>0.0</td>\n",
              "      <td>NaN</td>\n",
              "      <td>NaN</td>\n",
              "      <td>NaN</td>\n",
              "      <td>NaN</td>\n",
              "      <td>NaN</td>\n",
              "      <td>NaN</td>\n",
              "      <td>NaN</td>\n",
              "      <td>1</td>\n",
              "    </tr>\n",
              "    <tr>\n",
              "      <th>2</th>\n",
              "      <td>6.791152</td>\n",
              "      <td>7.366131</td>\n",
              "      <td>8.835148</td>\n",
              "      <td>5.475258</td>\n",
              "      <td>0.0</td>\n",
              "      <td>NaN</td>\n",
              "      <td>NaN</td>\n",
              "      <td>NaN</td>\n",
              "      <td>NaN</td>\n",
              "      <td>NaN</td>\n",
              "      <td>NaN</td>\n",
              "      <td>NaN</td>\n",
              "      <td>1</td>\n",
              "    </tr>\n",
              "    <tr>\n",
              "      <th>3</th>\n",
              "      <td>7.941317</td>\n",
              "      <td>-0.631314</td>\n",
              "      <td>11.155362</td>\n",
              "      <td>8.180236</td>\n",
              "      <td>1.5</td>\n",
              "      <td>0.397333</td>\n",
              "      <td>2.516779</td>\n",
              "      <td>1.475248</td>\n",
              "      <td>0.666667</td>\n",
              "      <td>0.242323</td>\n",
              "      <td>0.808</td>\n",
              "      <td>0.0</td>\n",
              "      <td>1</td>\n",
              "    </tr>\n",
              "    <tr>\n",
              "      <th>4</th>\n",
              "      <td>4.303380</td>\n",
              "      <td>6.855423</td>\n",
              "      <td>6.189374</td>\n",
              "      <td>10.970051</td>\n",
              "      <td>0.0</td>\n",
              "      <td>NaN</td>\n",
              "      <td>NaN</td>\n",
              "      <td>NaN</td>\n",
              "      <td>NaN</td>\n",
              "      <td>NaN</td>\n",
              "      <td>NaN</td>\n",
              "      <td>NaN</td>\n",
              "      <td>1</td>\n",
              "    </tr>\n",
              "  </tbody>\n",
              "</table>\n",
              "</div>\n",
              "    <div class=\"colab-df-buttons\">\n",
              "\n",
              "  <div class=\"colab-df-container\">\n",
              "    <button class=\"colab-df-convert\" onclick=\"convertToInteractive('df-0a32fc6b-dcf0-49d1-871c-942f33df8c57')\"\n",
              "            title=\"Convert this dataframe to an interactive table.\"\n",
              "            style=\"display:none;\">\n",
              "\n",
              "  <svg xmlns=\"http://www.w3.org/2000/svg\" height=\"24px\" viewBox=\"0 -960 960 960\">\n",
              "    <path d=\"M120-120v-720h720v720H120Zm60-500h600v-160H180v160Zm220 220h160v-160H400v160Zm0 220h160v-160H400v160ZM180-400h160v-160H180v160Zm440 0h160v-160H620v160ZM180-180h160v-160H180v160Zm440 0h160v-160H620v160Z\"/>\n",
              "  </svg>\n",
              "    </button>\n",
              "\n",
              "  <style>\n",
              "    .colab-df-container {\n",
              "      display:flex;\n",
              "      gap: 12px;\n",
              "    }\n",
              "\n",
              "    .colab-df-convert {\n",
              "      background-color: #E8F0FE;\n",
              "      border: none;\n",
              "      border-radius: 50%;\n",
              "      cursor: pointer;\n",
              "      display: none;\n",
              "      fill: #1967D2;\n",
              "      height: 32px;\n",
              "      padding: 0 0 0 0;\n",
              "      width: 32px;\n",
              "    }\n",
              "\n",
              "    .colab-df-convert:hover {\n",
              "      background-color: #E2EBFA;\n",
              "      box-shadow: 0px 1px 2px rgba(60, 64, 67, 0.3), 0px 1px 3px 1px rgba(60, 64, 67, 0.15);\n",
              "      fill: #174EA6;\n",
              "    }\n",
              "\n",
              "    .colab-df-buttons div {\n",
              "      margin-bottom: 4px;\n",
              "    }\n",
              "\n",
              "    [theme=dark] .colab-df-convert {\n",
              "      background-color: #3B4455;\n",
              "      fill: #D2E3FC;\n",
              "    }\n",
              "\n",
              "    [theme=dark] .colab-df-convert:hover {\n",
              "      background-color: #434B5C;\n",
              "      box-shadow: 0px 1px 3px 1px rgba(0, 0, 0, 0.15);\n",
              "      filter: drop-shadow(0px 1px 2px rgba(0, 0, 0, 0.3));\n",
              "      fill: #FFFFFF;\n",
              "    }\n",
              "  </style>\n",
              "\n",
              "    <script>\n",
              "      const buttonEl =\n",
              "        document.querySelector('#df-0a32fc6b-dcf0-49d1-871c-942f33df8c57 button.colab-df-convert');\n",
              "      buttonEl.style.display =\n",
              "        google.colab.kernel.accessAllowed ? 'block' : 'none';\n",
              "\n",
              "      async function convertToInteractive(key) {\n",
              "        const element = document.querySelector('#df-0a32fc6b-dcf0-49d1-871c-942f33df8c57');\n",
              "        const dataTable =\n",
              "          await google.colab.kernel.invokeFunction('convertToInteractive',\n",
              "                                                    [key], {});\n",
              "        if (!dataTable) return;\n",
              "\n",
              "        const docLinkHtml = 'Like what you see? Visit the ' +\n",
              "          '<a target=\"_blank\" href=https://colab.research.google.com/notebooks/data_table.ipynb>data table notebook</a>'\n",
              "          + ' to learn more about interactive tables.';\n",
              "        element.innerHTML = '';\n",
              "        dataTable['output_type'] = 'display_data';\n",
              "        await google.colab.output.renderOutput(dataTable, element);\n",
              "        const docLink = document.createElement('div');\n",
              "        docLink.innerHTML = docLinkHtml;\n",
              "        element.appendChild(docLink);\n",
              "      }\n",
              "    </script>\n",
              "  </div>\n",
              "\n",
              "\n",
              "<div id=\"df-8bb17374-7d68-4399-b5b7-ca43e9c41a26\">\n",
              "  <button class=\"colab-df-quickchart\" onclick=\"quickchart('df-8bb17374-7d68-4399-b5b7-ca43e9c41a26')\"\n",
              "            title=\"Suggest charts\"\n",
              "            style=\"display:none;\">\n",
              "\n",
              "<svg xmlns=\"http://www.w3.org/2000/svg\" height=\"24px\"viewBox=\"0 0 24 24\"\n",
              "     width=\"24px\">\n",
              "    <g>\n",
              "        <path d=\"M19 3H5c-1.1 0-2 .9-2 2v14c0 1.1.9 2 2 2h14c1.1 0 2-.9 2-2V5c0-1.1-.9-2-2-2zM9 17H7v-7h2v7zm4 0h-2V7h2v10zm4 0h-2v-4h2v4z\"/>\n",
              "    </g>\n",
              "</svg>\n",
              "  </button>\n",
              "\n",
              "<style>\n",
              "  .colab-df-quickchart {\n",
              "      --bg-color: #E8F0FE;\n",
              "      --fill-color: #1967D2;\n",
              "      --hover-bg-color: #E2EBFA;\n",
              "      --hover-fill-color: #174EA6;\n",
              "      --disabled-fill-color: #AAA;\n",
              "      --disabled-bg-color: #DDD;\n",
              "  }\n",
              "\n",
              "  [theme=dark] .colab-df-quickchart {\n",
              "      --bg-color: #3B4455;\n",
              "      --fill-color: #D2E3FC;\n",
              "      --hover-bg-color: #434B5C;\n",
              "      --hover-fill-color: #FFFFFF;\n",
              "      --disabled-bg-color: #3B4455;\n",
              "      --disabled-fill-color: #666;\n",
              "  }\n",
              "\n",
              "  .colab-df-quickchart {\n",
              "    background-color: var(--bg-color);\n",
              "    border: none;\n",
              "    border-radius: 50%;\n",
              "    cursor: pointer;\n",
              "    display: none;\n",
              "    fill: var(--fill-color);\n",
              "    height: 32px;\n",
              "    padding: 0;\n",
              "    width: 32px;\n",
              "  }\n",
              "\n",
              "  .colab-df-quickchart:hover {\n",
              "    background-color: var(--hover-bg-color);\n",
              "    box-shadow: 0 1px 2px rgba(60, 64, 67, 0.3), 0 1px 3px 1px rgba(60, 64, 67, 0.15);\n",
              "    fill: var(--button-hover-fill-color);\n",
              "  }\n",
              "\n",
              "  .colab-df-quickchart-complete:disabled,\n",
              "  .colab-df-quickchart-complete:disabled:hover {\n",
              "    background-color: var(--disabled-bg-color);\n",
              "    fill: var(--disabled-fill-color);\n",
              "    box-shadow: none;\n",
              "  }\n",
              "\n",
              "  .colab-df-spinner {\n",
              "    border: 2px solid var(--fill-color);\n",
              "    border-color: transparent;\n",
              "    border-bottom-color: var(--fill-color);\n",
              "    animation:\n",
              "      spin 1s steps(1) infinite;\n",
              "  }\n",
              "\n",
              "  @keyframes spin {\n",
              "    0% {\n",
              "      border-color: transparent;\n",
              "      border-bottom-color: var(--fill-color);\n",
              "      border-left-color: var(--fill-color);\n",
              "    }\n",
              "    20% {\n",
              "      border-color: transparent;\n",
              "      border-left-color: var(--fill-color);\n",
              "      border-top-color: var(--fill-color);\n",
              "    }\n",
              "    30% {\n",
              "      border-color: transparent;\n",
              "      border-left-color: var(--fill-color);\n",
              "      border-top-color: var(--fill-color);\n",
              "      border-right-color: var(--fill-color);\n",
              "    }\n",
              "    40% {\n",
              "      border-color: transparent;\n",
              "      border-right-color: var(--fill-color);\n",
              "      border-top-color: var(--fill-color);\n",
              "    }\n",
              "    60% {\n",
              "      border-color: transparent;\n",
              "      border-right-color: var(--fill-color);\n",
              "    }\n",
              "    80% {\n",
              "      border-color: transparent;\n",
              "      border-right-color: var(--fill-color);\n",
              "      border-bottom-color: var(--fill-color);\n",
              "    }\n",
              "    90% {\n",
              "      border-color: transparent;\n",
              "      border-bottom-color: var(--fill-color);\n",
              "    }\n",
              "  }\n",
              "</style>\n",
              "\n",
              "  <script>\n",
              "    async function quickchart(key) {\n",
              "      const quickchartButtonEl =\n",
              "        document.querySelector('#' + key + ' button');\n",
              "      quickchartButtonEl.disabled = true;  // To prevent multiple clicks.\n",
              "      quickchartButtonEl.classList.add('colab-df-spinner');\n",
              "      try {\n",
              "        const charts = await google.colab.kernel.invokeFunction(\n",
              "            'suggestCharts', [key], {});\n",
              "      } catch (error) {\n",
              "        console.error('Error during call to suggestCharts:', error);\n",
              "      }\n",
              "      quickchartButtonEl.classList.remove('colab-df-spinner');\n",
              "      quickchartButtonEl.classList.add('colab-df-quickchart-complete');\n",
              "    }\n",
              "    (() => {\n",
              "      let quickchartButtonEl =\n",
              "        document.querySelector('#df-8bb17374-7d68-4399-b5b7-ca43e9c41a26 button');\n",
              "      quickchartButtonEl.style.display =\n",
              "        google.colab.kernel.accessAllowed ? 'block' : 'none';\n",
              "    })();\n",
              "  </script>\n",
              "</div>\n",
              "    </div>\n",
              "  </div>\n"
            ]
          },
          "metadata": {},
          "execution_count": 27
        }
      ]
    },
    {
      "cell_type": "markdown",
      "source": [
        "Website to compute p value from r value and n: http://vassarstats.net/tabs_r.html"
      ],
      "metadata": {
        "id": "0zgjU3iAsph0"
      }
    },
    {
      "cell_type": "markdown",
      "source": [
        "Need r >= 0.077 for p < 0.01\n",
        "Need r >= 0.059 for p < 0.05"
      ],
      "metadata": {
        "id": "qvZA_d2Ksph1"
      }
    },
    {
      "cell_type": "code",
      "source": [
        "rValFor99ConfidenceLevel = 0.1084\n",
        "rValFor95ConfidenceLevel = 0.0826"
      ],
      "metadata": {
        "id": "vERn1gjtsph1"
      },
      "execution_count": null,
      "outputs": []
    },
    {
      "cell_type": "code",
      "source": [],
      "metadata": {
        "id": "l1UIDDZrU7RW"
      },
      "execution_count": null,
      "outputs": []
    },
    {
      "cell_type": "markdown",
      "source": [
        "##random noise t-test (1)"
      ],
      "metadata": {
        "id": "fEj6otTzU7xp"
      }
    },
    {
      "cell_type": "code",
      "source": [
        "import numpy as np"
      ],
      "metadata": {
        "id": "nFetzk-eU7xq"
      },
      "execution_count": null,
      "outputs": []
    },
    {
      "cell_type": "code",
      "source": [
        "# Set a seed for reproducibility (optional)\n",
        "np.random.seed(33)\n",
        "\n",
        "# Mean and standard deviation of the Gaussian distribution\n",
        "mean_value = 0\n",
        "std_dev = 1\n",
        "\n",
        "# Generate a random 1136-element numpy array from a Gaussian distribution\n",
        "random_array = np.random.normal(mean_value, std_dev, powerPraatDF.shape[0])\n"
      ],
      "metadata": {
        "id": "OWzU_6TMU7xq"
      },
      "execution_count": null,
      "outputs": []
    },
    {
      "cell_type": "code",
      "source": [],
      "metadata": {
        "id": "VmSo4Y9PU7xq"
      },
      "execution_count": null,
      "outputs": []
    },
    {
      "cell_type": "code",
      "source": [
        "powerPraatDF['Noise'] = random_array"
      ],
      "metadata": {
        "id": "Tf8UUuJyU7xr"
      },
      "execution_count": null,
      "outputs": []
    },
    {
      "cell_type": "code",
      "source": [
        "powerPraatDF.corr()['Noise'][4:-1]#.abs()"
      ],
      "metadata": {
        "colab": {
          "base_uri": "https://localhost:8080/"
        },
        "outputId": "d48264a1-3b6a-4294-bdba-dadd4903fca0",
        "id": "QtphuNrqU7xs"
      },
      "execution_count": null,
      "outputs": [
        {
          "output_type": "execute_result",
          "data": {
            "text/plain": [
              "speechrate(nsyll / dur)                               -0.040092\n",
              "Average Syllable Duration (speakingtot/voicedcount)   -0.048510\n",
              "articulation rate(nsyll / phonationtime)              -0.000968\n",
              "Speech-to-pause ratio                                 -0.073595\n",
              "Mean Syllable Period                                  -0.027754\n",
              "Variability of Syllable Period                         0.001822\n",
              "Mean Pause Duration                                    0.039269\n",
              "Variability of Pause Duration                          0.065374\n",
              "# of pauses                                            0.086078\n",
              "Name: Noise, dtype: float64"
            ]
          },
          "metadata": {},
          "execution_count": 32
        }
      ]
    },
    {
      "cell_type": "code",
      "source": [
        "correlations_Noise = powerPraatDF.corr()['Noise'][4:-1]#.abs()"
      ],
      "metadata": {
        "id": "6nh_3TK8U7xs"
      },
      "execution_count": null,
      "outputs": []
    },
    {
      "cell_type": "code",
      "source": [
        "positiveCorrelationCondition = correlations_Noise > rValFor95ConfidenceLevel\n",
        "negativeCorrelationCondition = correlations_Noise < -1* rValFor95ConfidenceLevel\n",
        "noiseCorrelates = correlations_Noise[ positiveCorrelationCondition | negativeCorrelationCondition]\n",
        "noiseCorrelates.head = 'r'\n",
        "\n",
        "print(\"# of acoustic features where p < 0.05:\", len(noiseCorrelates))\n",
        "noiseCorrelates.nlargest(len(noiseCorrelates)) # for sorting"
      ],
      "metadata": {
        "colab": {
          "base_uri": "https://localhost:8080/"
        },
        "outputId": "cbc9f9a4-e4b0-4ca9-c427-1ff0d9ba761a",
        "id": "kt0OOCEUU7xs"
      },
      "execution_count": null,
      "outputs": [
        {
          "output_type": "stream",
          "name": "stdout",
          "text": [
            "# of acoustic features where p < 0.05: 1\n"
          ]
        },
        {
          "output_type": "execute_result",
          "data": {
            "text/plain": [
              "# of pauses    0.086078\n",
              "Name: Noise, dtype: float64"
            ]
          },
          "metadata": {},
          "execution_count": 34
        }
      ]
    },
    {
      "cell_type": "markdown",
      "source": [
        "##Right vLPFC (1)"
      ],
      "metadata": {
        "id": "lbemZ-Y_sph1"
      }
    },
    {
      "cell_type": "code",
      "source": [
        "# Assuming powerAmplitudeAllLLDdf is your DataFrame\n",
        "correlations_Right_vlPFC = powerPraatDF.corr()['Power: Right vlPFC'][8:].abs()\n",
        "AcousticCorrelates99_Right_vlPFC = correlations_Right_vlPFC[correlations_Right_vlPFC > rValFor99ConfidenceLevel]\n",
        "print(\"# of acoustic features where p < 0.01:\", len(AcousticCorrelates99_Right_vlPFC))\n",
        "AcousticCorrelates99_Right_vlPFC.nlargest(len(AcousticCorrelates99_Right_vlPFC)) # for sorting"
      ],
      "metadata": {
        "colab": {
          "base_uri": "https://localhost:8080/"
        },
        "outputId": "a6e37e8a-3cdc-4f07-fb40-a5620039739d",
        "id": "QGwEexYdsph1"
      },
      "execution_count": null,
      "outputs": [
        {
          "output_type": "stream",
          "name": "stdout",
          "text": [
            "# of acoustic features where p < 0.01: 0\n"
          ]
        },
        {
          "output_type": "execute_result",
          "data": {
            "text/plain": [
              "Series([], Name: Power: Right vlPFC, dtype: float64)"
            ]
          },
          "metadata": {},
          "execution_count": 30
        }
      ]
    },
    {
      "cell_type": "code",
      "source": [
        "# Assuming powerAmplitudeAllLLDdf is your DataFrame\n",
        "AcousticCorrelates95_Right_vlPFC = correlations_Right_vlPFC[correlations_Right_vlPFC > rValFor95ConfidenceLevel]\n",
        "print(\"# of acoustic features where p < 0.05:\", len(AcousticCorrelates95_Right_vlPFC))\n",
        "AcousticCorrelates95_Right_vlPFC.nlargest(len(AcousticCorrelates95_Right_vlPFC)) # for sorting"
      ],
      "metadata": {
        "colab": {
          "base_uri": "https://localhost:8080/"
        },
        "outputId": "b4cb3060-ec4a-4602-972c-b9014b1a5bf9",
        "id": "-1I_m21Msph2"
      },
      "execution_count": null,
      "outputs": [
        {
          "output_type": "stream",
          "name": "stdout",
          "text": [
            "# of acoustic features where p < 0.05: 1\n"
          ]
        },
        {
          "output_type": "execute_result",
          "data": {
            "text/plain": [
              "Mean Syllable Period    0.092623\n",
              "Name: Power: Right vlPFC, dtype: float64"
            ]
          },
          "metadata": {},
          "execution_count": 31
        }
      ]
    },
    {
      "cell_type": "markdown",
      "source": [
        "##Left vLPFC (2)"
      ],
      "metadata": {
        "id": "A2zEHAUNsph3"
      }
    },
    {
      "cell_type": "code",
      "source": [
        "# Assuming powerAmplitudeAllLLDdf is your DataFrame\n",
        "correlations_Left_vlPFC = powerPraatDF.corr()['Power: Left vlPFC'][8:].abs()\n",
        "AcousticCorrelates99_Left_vlPFC = correlations_Left_vlPFC[correlations_Left_vlPFC > rValFor99ConfidenceLevel]\n",
        "print(\"# of acoustic features where p < 0.01:\", len(AcousticCorrelates99_Left_vlPFC))\n",
        "AcousticCorrelates99_Left_vlPFC.nlargest(len(AcousticCorrelates99_Left_vlPFC)) # for sorting"
      ],
      "metadata": {
        "colab": {
          "base_uri": "https://localhost:8080/"
        },
        "outputId": "bb4aee54-8cdc-4306-8932-f3dcc105cf78",
        "id": "FVy7kPltsph4"
      },
      "execution_count": null,
      "outputs": [
        {
          "output_type": "stream",
          "name": "stdout",
          "text": [
            "# of acoustic features where p < 0.01: 0\n"
          ]
        },
        {
          "output_type": "execute_result",
          "data": {
            "text/plain": [
              "Series([], Name: Power: Left vlPFC, dtype: float64)"
            ]
          },
          "metadata": {},
          "execution_count": 32
        }
      ]
    },
    {
      "cell_type": "code",
      "source": [
        "# Assuming powerAmplitudeAllLLDdf is your DataFrame\n",
        "AcousticCorrelates95_Left_vlPFC = correlations_Left_vlPFC[correlations_Left_vlPFC > rValFor95ConfidenceLevel]\n",
        "print(\"# of acoustic features where p < 0.05:\", len(AcousticCorrelates95_Left_vlPFC))\n",
        "AcousticCorrelates95_Left_vlPFC.nlargest(len(AcousticCorrelates95_Left_vlPFC)) # for sorting"
      ],
      "metadata": {
        "colab": {
          "base_uri": "https://localhost:8080/"
        },
        "outputId": "0ac6d4fb-25ab-4527-c808-abc100e52d5c",
        "id": "y9po3NIdsph4"
      },
      "execution_count": null,
      "outputs": [
        {
          "output_type": "stream",
          "name": "stdout",
          "text": [
            "# of acoustic features where p < 0.05: 2\n"
          ]
        },
        {
          "output_type": "execute_result",
          "data": {
            "text/plain": [
              "Mean Pause Duration    0.100744\n",
              "# of pauses            0.090510\n",
              "Name: Power: Left vlPFC, dtype: float64"
            ]
          },
          "metadata": {},
          "execution_count": 33
        }
      ]
    },
    {
      "cell_type": "code",
      "source": [
        "AcousticCorrelates95_Left_vlPFC.nlargest(10).index.tolist()"
      ],
      "metadata": {
        "colab": {
          "base_uri": "https://localhost:8080/"
        },
        "outputId": "fd75f5f1-e8f9-4988-dd89-d46eb8f2b1ba",
        "id": "sM7NkjNDsph4"
      },
      "execution_count": null,
      "outputs": [
        {
          "output_type": "execute_result",
          "data": {
            "text/plain": [
              "['Mean Pause Duration', '# of pauses']"
            ]
          },
          "metadata": {},
          "execution_count": 34
        }
      ]
    },
    {
      "cell_type": "markdown",
      "source": [
        "##Right OFC (0)"
      ],
      "metadata": {
        "id": "8RkYP49xsph5"
      }
    },
    {
      "cell_type": "code",
      "source": [
        "# Assuming powerAmplitudeAllLLDdf is your DataFrame\n",
        "correlations_Right_OFC = powerPraatDF.corr()['Power: Right OFC'][8:].abs()\n",
        "AcousticCorrelates99_Right_OFC = correlations_Right_OFC[correlations_Right_OFC > rValFor99ConfidenceLevel]\n",
        "print(\"# of acoustic features where p < 0.01:\", len(AcousticCorrelates99_Right_OFC))\n",
        "AcousticCorrelates99_Right_OFC.nlargest(len(AcousticCorrelates99_Right_OFC)) # for sorting"
      ],
      "metadata": {
        "colab": {
          "base_uri": "https://localhost:8080/"
        },
        "outputId": "6ed845be-562f-4239-dbbd-e0e90f15b4d5",
        "id": "Kwgu4tOPsph5"
      },
      "execution_count": null,
      "outputs": [
        {
          "output_type": "stream",
          "name": "stdout",
          "text": [
            "# of acoustic features where p < 0.01: 0\n"
          ]
        },
        {
          "output_type": "execute_result",
          "data": {
            "text/plain": [
              "Series([], Name: Power: Right OFC, dtype: float64)"
            ]
          },
          "metadata": {},
          "execution_count": 35
        }
      ]
    },
    {
      "cell_type": "code",
      "source": [
        "# Assuming powerAmplitudeAllLLDdf is your DataFrame\n",
        "AcousticCorrelates95_Right_OFC = correlations_Right_OFC[correlations_Right_OFC > rValFor95ConfidenceLevel]\n",
        "print(\"# of acoustic features where p < 0.05:\", len(AcousticCorrelates95_Right_OFC))\n",
        "AcousticCorrelates95_Right_OFC.nlargest(len(AcousticCorrelates95_Right_OFC)) # for sorting"
      ],
      "metadata": {
        "colab": {
          "base_uri": "https://localhost:8080/"
        },
        "outputId": "06377644-0a3b-486b-a845-c560ecbe3102",
        "id": "xAcfB__bsph6"
      },
      "execution_count": null,
      "outputs": [
        {
          "output_type": "stream",
          "name": "stdout",
          "text": [
            "# of acoustic features where p < 0.05: 0\n"
          ]
        },
        {
          "output_type": "execute_result",
          "data": {
            "text/plain": [
              "Series([], Name: Power: Right OFC, dtype: float64)"
            ]
          },
          "metadata": {},
          "execution_count": 36
        }
      ]
    },
    {
      "cell_type": "code",
      "source": [
        "AcousticCorrelates95_Right_OFC.nlargest(10).index.tolist()"
      ],
      "metadata": {
        "colab": {
          "base_uri": "https://localhost:8080/"
        },
        "outputId": "183294d5-57ab-4efc-f037-f61b9ed18ce3",
        "id": "RjBZspTysph6"
      },
      "execution_count": null,
      "outputs": [
        {
          "output_type": "execute_result",
          "data": {
            "text/plain": [
              "[]"
            ]
          },
          "metadata": {},
          "execution_count": 37
        }
      ]
    },
    {
      "cell_type": "markdown",
      "source": [
        "##Left OFC (1)"
      ],
      "metadata": {
        "id": "-dLRyl_wsph6"
      }
    },
    {
      "cell_type": "code",
      "source": [
        "# Assuming powerAmplitudeAllLLDdf is your DataFrame\n",
        "correlations_Left_OFC = powerPraatDF.corr()['Power: Left OFC'][8:].abs()\n",
        "AcousticCorrelates99_Left_OFC = correlations_Left_OFC[correlations_Left_OFC > rValFor99ConfidenceLevel]\n",
        "print(\"# of acoustic features where p < 0.01:\", len(AcousticCorrelates99_Left_OFC))\n",
        "AcousticCorrelates99_Left_OFC.nlargest(len(AcousticCorrelates99_Left_OFC)) # for sorting"
      ],
      "metadata": {
        "colab": {
          "base_uri": "https://localhost:8080/"
        },
        "outputId": "7198d28c-d529-46e1-cfa9-5481fcd4b35c",
        "id": "svYNxPCLsph7"
      },
      "execution_count": null,
      "outputs": [
        {
          "output_type": "stream",
          "name": "stdout",
          "text": [
            "# of acoustic features where p < 0.01: 0\n"
          ]
        },
        {
          "output_type": "execute_result",
          "data": {
            "text/plain": [
              "Series([], Name: Power: Left OFC, dtype: float64)"
            ]
          },
          "metadata": {},
          "execution_count": 38
        }
      ]
    },
    {
      "cell_type": "code",
      "source": [
        "# Assuming powerAmplitudeAllLLDdf is your DataFrame\n",
        "AcousticCorrelates95_Left_OFC = correlations_Left_OFC[correlations_Left_OFC > rValFor95ConfidenceLevel]\n",
        "print(\"# of acoustic features where p < 0.05:\", len(AcousticCorrelates95_Left_OFC))\n",
        "AcousticCorrelates95_Left_OFC.nlargest(len(AcousticCorrelates95_Left_OFC)) # for sorting"
      ],
      "metadata": {
        "colab": {
          "base_uri": "https://localhost:8080/"
        },
        "outputId": "d9e5c8ff-0f2c-481b-d199-acd428e8ba19",
        "id": "Gavsh_1Jsph7"
      },
      "execution_count": null,
      "outputs": [
        {
          "output_type": "stream",
          "name": "stdout",
          "text": [
            "# of acoustic features where p < 0.05: 1\n"
          ]
        },
        {
          "output_type": "execute_result",
          "data": {
            "text/plain": [
              "Mean Pause Duration    0.091506\n",
              "Name: Power: Left OFC, dtype: float64"
            ]
          },
          "metadata": {},
          "execution_count": 39
        }
      ]
    },
    {
      "cell_type": "code",
      "source": [],
      "metadata": {
        "id": "kXApL9yPtoGh"
      },
      "execution_count": null,
      "outputs": []
    },
    {
      "cell_type": "markdown",
      "source": [
        "#Oct 4"
      ],
      "metadata": {
        "id": "LDHE58NRtoN5"
      }
    },
    {
      "cell_type": "markdown",
      "source": [
        "##read in files"
      ],
      "metadata": {
        "id": "UfeT7MpjtoN5"
      }
    },
    {
      "cell_type": "code",
      "source": [
        "powerDF = pd.read_csv('2022-10-04-Power-Amplitude.csv')\n",
        "del powerDF['Unnamed: 0']\n",
        "powerDF.head()"
      ],
      "metadata": {
        "colab": {
          "base_uri": "https://localhost:8080/",
          "height": 224
        },
        "outputId": "2b9ed950-7d54-4ea1-c9a0-37c99ee1e613",
        "id": "bFQc1Lu0toN5"
      },
      "execution_count": null,
      "outputs": [
        {
          "output_type": "execute_result",
          "data": {
            "text/plain": [
              "   Power: Left OFC  Power: Left vlPFC  Power: Right OFC  Power: Right vlPFC\n",
              "0         6.407832           8.696524         10.436554           11.400055\n",
              "1         6.523042           8.672893          8.723282           10.050933\n",
              "2         6.641233          10.282269          8.287294            7.250344\n",
              "3         3.958534           8.233730         10.518788           10.198656\n",
              "4         8.917095           3.029191          9.664642            4.365085"
            ],
            "text/html": [
              "\n",
              "  <div id=\"df-44c418ec-c173-4240-bc05-c695e4d7e63a\" class=\"colab-df-container\">\n",
              "    <div>\n",
              "<style scoped>\n",
              "    .dataframe tbody tr th:only-of-type {\n",
              "        vertical-align: middle;\n",
              "    }\n",
              "\n",
              "    .dataframe tbody tr th {\n",
              "        vertical-align: top;\n",
              "    }\n",
              "\n",
              "    .dataframe thead th {\n",
              "        text-align: right;\n",
              "    }\n",
              "</style>\n",
              "<table border=\"1\" class=\"dataframe\">\n",
              "  <thead>\n",
              "    <tr style=\"text-align: right;\">\n",
              "      <th></th>\n",
              "      <th>Power: Left OFC</th>\n",
              "      <th>Power: Left vlPFC</th>\n",
              "      <th>Power: Right OFC</th>\n",
              "      <th>Power: Right vlPFC</th>\n",
              "    </tr>\n",
              "  </thead>\n",
              "  <tbody>\n",
              "    <tr>\n",
              "      <th>0</th>\n",
              "      <td>6.407832</td>\n",
              "      <td>8.696524</td>\n",
              "      <td>10.436554</td>\n",
              "      <td>11.400055</td>\n",
              "    </tr>\n",
              "    <tr>\n",
              "      <th>1</th>\n",
              "      <td>6.523042</td>\n",
              "      <td>8.672893</td>\n",
              "      <td>8.723282</td>\n",
              "      <td>10.050933</td>\n",
              "    </tr>\n",
              "    <tr>\n",
              "      <th>2</th>\n",
              "      <td>6.641233</td>\n",
              "      <td>10.282269</td>\n",
              "      <td>8.287294</td>\n",
              "      <td>7.250344</td>\n",
              "    </tr>\n",
              "    <tr>\n",
              "      <th>3</th>\n",
              "      <td>3.958534</td>\n",
              "      <td>8.233730</td>\n",
              "      <td>10.518788</td>\n",
              "      <td>10.198656</td>\n",
              "    </tr>\n",
              "    <tr>\n",
              "      <th>4</th>\n",
              "      <td>8.917095</td>\n",
              "      <td>3.029191</td>\n",
              "      <td>9.664642</td>\n",
              "      <td>4.365085</td>\n",
              "    </tr>\n",
              "  </tbody>\n",
              "</table>\n",
              "</div>\n",
              "    <div class=\"colab-df-buttons\">\n",
              "\n",
              "  <div class=\"colab-df-container\">\n",
              "    <button class=\"colab-df-convert\" onclick=\"convertToInteractive('df-44c418ec-c173-4240-bc05-c695e4d7e63a')\"\n",
              "            title=\"Convert this dataframe to an interactive table.\"\n",
              "            style=\"display:none;\">\n",
              "\n",
              "  <svg xmlns=\"http://www.w3.org/2000/svg\" height=\"24px\" viewBox=\"0 -960 960 960\">\n",
              "    <path d=\"M120-120v-720h720v720H120Zm60-500h600v-160H180v160Zm220 220h160v-160H400v160Zm0 220h160v-160H400v160ZM180-400h160v-160H180v160Zm440 0h160v-160H620v160ZM180-180h160v-160H180v160Zm440 0h160v-160H620v160Z\"/>\n",
              "  </svg>\n",
              "    </button>\n",
              "\n",
              "  <style>\n",
              "    .colab-df-container {\n",
              "      display:flex;\n",
              "      gap: 12px;\n",
              "    }\n",
              "\n",
              "    .colab-df-convert {\n",
              "      background-color: #E8F0FE;\n",
              "      border: none;\n",
              "      border-radius: 50%;\n",
              "      cursor: pointer;\n",
              "      display: none;\n",
              "      fill: #1967D2;\n",
              "      height: 32px;\n",
              "      padding: 0 0 0 0;\n",
              "      width: 32px;\n",
              "    }\n",
              "\n",
              "    .colab-df-convert:hover {\n",
              "      background-color: #E2EBFA;\n",
              "      box-shadow: 0px 1px 2px rgba(60, 64, 67, 0.3), 0px 1px 3px 1px rgba(60, 64, 67, 0.15);\n",
              "      fill: #174EA6;\n",
              "    }\n",
              "\n",
              "    .colab-df-buttons div {\n",
              "      margin-bottom: 4px;\n",
              "    }\n",
              "\n",
              "    [theme=dark] .colab-df-convert {\n",
              "      background-color: #3B4455;\n",
              "      fill: #D2E3FC;\n",
              "    }\n",
              "\n",
              "    [theme=dark] .colab-df-convert:hover {\n",
              "      background-color: #434B5C;\n",
              "      box-shadow: 0px 1px 3px 1px rgba(0, 0, 0, 0.15);\n",
              "      filter: drop-shadow(0px 1px 2px rgba(0, 0, 0, 0.3));\n",
              "      fill: #FFFFFF;\n",
              "    }\n",
              "  </style>\n",
              "\n",
              "    <script>\n",
              "      const buttonEl =\n",
              "        document.querySelector('#df-44c418ec-c173-4240-bc05-c695e4d7e63a button.colab-df-convert');\n",
              "      buttonEl.style.display =\n",
              "        google.colab.kernel.accessAllowed ? 'block' : 'none';\n",
              "\n",
              "      async function convertToInteractive(key) {\n",
              "        const element = document.querySelector('#df-44c418ec-c173-4240-bc05-c695e4d7e63a');\n",
              "        const dataTable =\n",
              "          await google.colab.kernel.invokeFunction('convertToInteractive',\n",
              "                                                    [key], {});\n",
              "        if (!dataTable) return;\n",
              "\n",
              "        const docLinkHtml = 'Like what you see? Visit the ' +\n",
              "          '<a target=\"_blank\" href=https://colab.research.google.com/notebooks/data_table.ipynb>data table notebook</a>'\n",
              "          + ' to learn more about interactive tables.';\n",
              "        element.innerHTML = '';\n",
              "        dataTable['output_type'] = 'display_data';\n",
              "        await google.colab.output.renderOutput(dataTable, element);\n",
              "        const docLink = document.createElement('div');\n",
              "        docLink.innerHTML = docLinkHtml;\n",
              "        element.appendChild(docLink);\n",
              "      }\n",
              "    </script>\n",
              "  </div>\n",
              "\n",
              "\n",
              "<div id=\"df-df885d6e-eaa5-430b-a977-bae78523e537\">\n",
              "  <button class=\"colab-df-quickchart\" onclick=\"quickchart('df-df885d6e-eaa5-430b-a977-bae78523e537')\"\n",
              "            title=\"Suggest charts\"\n",
              "            style=\"display:none;\">\n",
              "\n",
              "<svg xmlns=\"http://www.w3.org/2000/svg\" height=\"24px\"viewBox=\"0 0 24 24\"\n",
              "     width=\"24px\">\n",
              "    <g>\n",
              "        <path d=\"M19 3H5c-1.1 0-2 .9-2 2v14c0 1.1.9 2 2 2h14c1.1 0 2-.9 2-2V5c0-1.1-.9-2-2-2zM9 17H7v-7h2v7zm4 0h-2V7h2v10zm4 0h-2v-4h2v4z\"/>\n",
              "    </g>\n",
              "</svg>\n",
              "  </button>\n",
              "\n",
              "<style>\n",
              "  .colab-df-quickchart {\n",
              "      --bg-color: #E8F0FE;\n",
              "      --fill-color: #1967D2;\n",
              "      --hover-bg-color: #E2EBFA;\n",
              "      --hover-fill-color: #174EA6;\n",
              "      --disabled-fill-color: #AAA;\n",
              "      --disabled-bg-color: #DDD;\n",
              "  }\n",
              "\n",
              "  [theme=dark] .colab-df-quickchart {\n",
              "      --bg-color: #3B4455;\n",
              "      --fill-color: #D2E3FC;\n",
              "      --hover-bg-color: #434B5C;\n",
              "      --hover-fill-color: #FFFFFF;\n",
              "      --disabled-bg-color: #3B4455;\n",
              "      --disabled-fill-color: #666;\n",
              "  }\n",
              "\n",
              "  .colab-df-quickchart {\n",
              "    background-color: var(--bg-color);\n",
              "    border: none;\n",
              "    border-radius: 50%;\n",
              "    cursor: pointer;\n",
              "    display: none;\n",
              "    fill: var(--fill-color);\n",
              "    height: 32px;\n",
              "    padding: 0;\n",
              "    width: 32px;\n",
              "  }\n",
              "\n",
              "  .colab-df-quickchart:hover {\n",
              "    background-color: var(--hover-bg-color);\n",
              "    box-shadow: 0 1px 2px rgba(60, 64, 67, 0.3), 0 1px 3px 1px rgba(60, 64, 67, 0.15);\n",
              "    fill: var(--button-hover-fill-color);\n",
              "  }\n",
              "\n",
              "  .colab-df-quickchart-complete:disabled,\n",
              "  .colab-df-quickchart-complete:disabled:hover {\n",
              "    background-color: var(--disabled-bg-color);\n",
              "    fill: var(--disabled-fill-color);\n",
              "    box-shadow: none;\n",
              "  }\n",
              "\n",
              "  .colab-df-spinner {\n",
              "    border: 2px solid var(--fill-color);\n",
              "    border-color: transparent;\n",
              "    border-bottom-color: var(--fill-color);\n",
              "    animation:\n",
              "      spin 1s steps(1) infinite;\n",
              "  }\n",
              "\n",
              "  @keyframes spin {\n",
              "    0% {\n",
              "      border-color: transparent;\n",
              "      border-bottom-color: var(--fill-color);\n",
              "      border-left-color: var(--fill-color);\n",
              "    }\n",
              "    20% {\n",
              "      border-color: transparent;\n",
              "      border-left-color: var(--fill-color);\n",
              "      border-top-color: var(--fill-color);\n",
              "    }\n",
              "    30% {\n",
              "      border-color: transparent;\n",
              "      border-left-color: var(--fill-color);\n",
              "      border-top-color: var(--fill-color);\n",
              "      border-right-color: var(--fill-color);\n",
              "    }\n",
              "    40% {\n",
              "      border-color: transparent;\n",
              "      border-right-color: var(--fill-color);\n",
              "      border-top-color: var(--fill-color);\n",
              "    }\n",
              "    60% {\n",
              "      border-color: transparent;\n",
              "      border-right-color: var(--fill-color);\n",
              "    }\n",
              "    80% {\n",
              "      border-color: transparent;\n",
              "      border-right-color: var(--fill-color);\n",
              "      border-bottom-color: var(--fill-color);\n",
              "    }\n",
              "    90% {\n",
              "      border-color: transparent;\n",
              "      border-bottom-color: var(--fill-color);\n",
              "    }\n",
              "  }\n",
              "</style>\n",
              "\n",
              "  <script>\n",
              "    async function quickchart(key) {\n",
              "      const quickchartButtonEl =\n",
              "        document.querySelector('#' + key + ' button');\n",
              "      quickchartButtonEl.disabled = true;  // To prevent multiple clicks.\n",
              "      quickchartButtonEl.classList.add('colab-df-spinner');\n",
              "      try {\n",
              "        const charts = await google.colab.kernel.invokeFunction(\n",
              "            'suggestCharts', [key], {});\n",
              "      } catch (error) {\n",
              "        console.error('Error during call to suggestCharts:', error);\n",
              "      }\n",
              "      quickchartButtonEl.classList.remove('colab-df-spinner');\n",
              "      quickchartButtonEl.classList.add('colab-df-quickchart-complete');\n",
              "    }\n",
              "    (() => {\n",
              "      let quickchartButtonEl =\n",
              "        document.querySelector('#df-df885d6e-eaa5-430b-a977-bae78523e537 button');\n",
              "      quickchartButtonEl.style.display =\n",
              "        google.colab.kernel.accessAllowed ? 'block' : 'none';\n",
              "    })();\n",
              "  </script>\n",
              "</div>\n",
              "    </div>\n",
              "  </div>\n"
            ]
          },
          "metadata": {},
          "execution_count": 40
        }
      ]
    },
    {
      "cell_type": "code",
      "source": [
        "praatAcousticFeatsDf = pd.read_csv('noModeratorSpeech_Oct4PerTwoSecondPraatFeatures.csv')\n",
        "del praatAcousticFeatsDf['Unnamed: 0'], praatAcousticFeatsDf['Time (secs)']\n",
        "praatAcousticFeatsDf.head()"
      ],
      "metadata": {
        "colab": {
          "base_uri": "https://localhost:8080/",
          "height": 278
        },
        "outputId": "125aaa8b-3a4a-4055-f9dc-0b28e97df0f6",
        "id": "36Y29PvktoN6"
      },
      "execution_count": null,
      "outputs": [
        {
          "output_type": "execute_result",
          "data": {
            "text/plain": [
              "   speechrate(nsyll / dur)  \\\n",
              "0                      0.0   \n",
              "1                      0.0   \n",
              "2                      0.0   \n",
              "3                      0.0   \n",
              "4                      1.5   \n",
              "\n",
              "   Average Syllable Duration (speakingtot/voicedcount)  \\\n",
              "0                                                NaN     \n",
              "1                                                NaN     \n",
              "2                                                NaN     \n",
              "3                                                NaN     \n",
              "4                                              0.224     \n",
              "\n",
              "   articulation rate(nsyll / phonationtime)  Speech-to-pause ratio  \\\n",
              "0                                       NaN                    NaN   \n",
              "1                                       NaN                    NaN   \n",
              "2                                       NaN                    NaN   \n",
              "3                                       NaN                    NaN   \n",
              "4                                  4.464286               0.506024   \n",
              "\n",
              "   Mean Syllable Period  Variability of Syllable Period  Mean Pause Duration  \\\n",
              "0                   NaN                             NaN                  NaN   \n",
              "1                   NaN                             NaN                  NaN   \n",
              "2                   NaN                             NaN                  NaN   \n",
              "3                   NaN                             NaN                  NaN   \n",
              "4              0.666667                        0.123033                1.328   \n",
              "\n",
              "   Variability of Pause Duration  # of pauses  \n",
              "0                            NaN            1  \n",
              "1                            NaN            1  \n",
              "2                            NaN            1  \n",
              "3                            NaN            1  \n",
              "4                            0.0            1  "
            ],
            "text/html": [
              "\n",
              "  <div id=\"df-6afc1f44-06cc-4d50-9180-d4d802500872\" class=\"colab-df-container\">\n",
              "    <div>\n",
              "<style scoped>\n",
              "    .dataframe tbody tr th:only-of-type {\n",
              "        vertical-align: middle;\n",
              "    }\n",
              "\n",
              "    .dataframe tbody tr th {\n",
              "        vertical-align: top;\n",
              "    }\n",
              "\n",
              "    .dataframe thead th {\n",
              "        text-align: right;\n",
              "    }\n",
              "</style>\n",
              "<table border=\"1\" class=\"dataframe\">\n",
              "  <thead>\n",
              "    <tr style=\"text-align: right;\">\n",
              "      <th></th>\n",
              "      <th>speechrate(nsyll / dur)</th>\n",
              "      <th>Average Syllable Duration (speakingtot/voicedcount)</th>\n",
              "      <th>articulation rate(nsyll / phonationtime)</th>\n",
              "      <th>Speech-to-pause ratio</th>\n",
              "      <th>Mean Syllable Period</th>\n",
              "      <th>Variability of Syllable Period</th>\n",
              "      <th>Mean Pause Duration</th>\n",
              "      <th>Variability of Pause Duration</th>\n",
              "      <th># of pauses</th>\n",
              "    </tr>\n",
              "  </thead>\n",
              "  <tbody>\n",
              "    <tr>\n",
              "      <th>0</th>\n",
              "      <td>0.0</td>\n",
              "      <td>NaN</td>\n",
              "      <td>NaN</td>\n",
              "      <td>NaN</td>\n",
              "      <td>NaN</td>\n",
              "      <td>NaN</td>\n",
              "      <td>NaN</td>\n",
              "      <td>NaN</td>\n",
              "      <td>1</td>\n",
              "    </tr>\n",
              "    <tr>\n",
              "      <th>1</th>\n",
              "      <td>0.0</td>\n",
              "      <td>NaN</td>\n",
              "      <td>NaN</td>\n",
              "      <td>NaN</td>\n",
              "      <td>NaN</td>\n",
              "      <td>NaN</td>\n",
              "      <td>NaN</td>\n",
              "      <td>NaN</td>\n",
              "      <td>1</td>\n",
              "    </tr>\n",
              "    <tr>\n",
              "      <th>2</th>\n",
              "      <td>0.0</td>\n",
              "      <td>NaN</td>\n",
              "      <td>NaN</td>\n",
              "      <td>NaN</td>\n",
              "      <td>NaN</td>\n",
              "      <td>NaN</td>\n",
              "      <td>NaN</td>\n",
              "      <td>NaN</td>\n",
              "      <td>1</td>\n",
              "    </tr>\n",
              "    <tr>\n",
              "      <th>3</th>\n",
              "      <td>0.0</td>\n",
              "      <td>NaN</td>\n",
              "      <td>NaN</td>\n",
              "      <td>NaN</td>\n",
              "      <td>NaN</td>\n",
              "      <td>NaN</td>\n",
              "      <td>NaN</td>\n",
              "      <td>NaN</td>\n",
              "      <td>1</td>\n",
              "    </tr>\n",
              "    <tr>\n",
              "      <th>4</th>\n",
              "      <td>1.5</td>\n",
              "      <td>0.224</td>\n",
              "      <td>4.464286</td>\n",
              "      <td>0.506024</td>\n",
              "      <td>0.666667</td>\n",
              "      <td>0.123033</td>\n",
              "      <td>1.328</td>\n",
              "      <td>0.0</td>\n",
              "      <td>1</td>\n",
              "    </tr>\n",
              "  </tbody>\n",
              "</table>\n",
              "</div>\n",
              "    <div class=\"colab-df-buttons\">\n",
              "\n",
              "  <div class=\"colab-df-container\">\n",
              "    <button class=\"colab-df-convert\" onclick=\"convertToInteractive('df-6afc1f44-06cc-4d50-9180-d4d802500872')\"\n",
              "            title=\"Convert this dataframe to an interactive table.\"\n",
              "            style=\"display:none;\">\n",
              "\n",
              "  <svg xmlns=\"http://www.w3.org/2000/svg\" height=\"24px\" viewBox=\"0 -960 960 960\">\n",
              "    <path d=\"M120-120v-720h720v720H120Zm60-500h600v-160H180v160Zm220 220h160v-160H400v160Zm0 220h160v-160H400v160ZM180-400h160v-160H180v160Zm440 0h160v-160H620v160ZM180-180h160v-160H180v160Zm440 0h160v-160H620v160Z\"/>\n",
              "  </svg>\n",
              "    </button>\n",
              "\n",
              "  <style>\n",
              "    .colab-df-container {\n",
              "      display:flex;\n",
              "      gap: 12px;\n",
              "    }\n",
              "\n",
              "    .colab-df-convert {\n",
              "      background-color: #E8F0FE;\n",
              "      border: none;\n",
              "      border-radius: 50%;\n",
              "      cursor: pointer;\n",
              "      display: none;\n",
              "      fill: #1967D2;\n",
              "      height: 32px;\n",
              "      padding: 0 0 0 0;\n",
              "      width: 32px;\n",
              "    }\n",
              "\n",
              "    .colab-df-convert:hover {\n",
              "      background-color: #E2EBFA;\n",
              "      box-shadow: 0px 1px 2px rgba(60, 64, 67, 0.3), 0px 1px 3px 1px rgba(60, 64, 67, 0.15);\n",
              "      fill: #174EA6;\n",
              "    }\n",
              "\n",
              "    .colab-df-buttons div {\n",
              "      margin-bottom: 4px;\n",
              "    }\n",
              "\n",
              "    [theme=dark] .colab-df-convert {\n",
              "      background-color: #3B4455;\n",
              "      fill: #D2E3FC;\n",
              "    }\n",
              "\n",
              "    [theme=dark] .colab-df-convert:hover {\n",
              "      background-color: #434B5C;\n",
              "      box-shadow: 0px 1px 3px 1px rgba(0, 0, 0, 0.15);\n",
              "      filter: drop-shadow(0px 1px 2px rgba(0, 0, 0, 0.3));\n",
              "      fill: #FFFFFF;\n",
              "    }\n",
              "  </style>\n",
              "\n",
              "    <script>\n",
              "      const buttonEl =\n",
              "        document.querySelector('#df-6afc1f44-06cc-4d50-9180-d4d802500872 button.colab-df-convert');\n",
              "      buttonEl.style.display =\n",
              "        google.colab.kernel.accessAllowed ? 'block' : 'none';\n",
              "\n",
              "      async function convertToInteractive(key) {\n",
              "        const element = document.querySelector('#df-6afc1f44-06cc-4d50-9180-d4d802500872');\n",
              "        const dataTable =\n",
              "          await google.colab.kernel.invokeFunction('convertToInteractive',\n",
              "                                                    [key], {});\n",
              "        if (!dataTable) return;\n",
              "\n",
              "        const docLinkHtml = 'Like what you see? Visit the ' +\n",
              "          '<a target=\"_blank\" href=https://colab.research.google.com/notebooks/data_table.ipynb>data table notebook</a>'\n",
              "          + ' to learn more about interactive tables.';\n",
              "        element.innerHTML = '';\n",
              "        dataTable['output_type'] = 'display_data';\n",
              "        await google.colab.output.renderOutput(dataTable, element);\n",
              "        const docLink = document.createElement('div');\n",
              "        docLink.innerHTML = docLinkHtml;\n",
              "        element.appendChild(docLink);\n",
              "      }\n",
              "    </script>\n",
              "  </div>\n",
              "\n",
              "\n",
              "<div id=\"df-634ffe8b-141d-4f75-99d7-deb3b0141e44\">\n",
              "  <button class=\"colab-df-quickchart\" onclick=\"quickchart('df-634ffe8b-141d-4f75-99d7-deb3b0141e44')\"\n",
              "            title=\"Suggest charts\"\n",
              "            style=\"display:none;\">\n",
              "\n",
              "<svg xmlns=\"http://www.w3.org/2000/svg\" height=\"24px\"viewBox=\"0 0 24 24\"\n",
              "     width=\"24px\">\n",
              "    <g>\n",
              "        <path d=\"M19 3H5c-1.1 0-2 .9-2 2v14c0 1.1.9 2 2 2h14c1.1 0 2-.9 2-2V5c0-1.1-.9-2-2-2zM9 17H7v-7h2v7zm4 0h-2V7h2v10zm4 0h-2v-4h2v4z\"/>\n",
              "    </g>\n",
              "</svg>\n",
              "  </button>\n",
              "\n",
              "<style>\n",
              "  .colab-df-quickchart {\n",
              "      --bg-color: #E8F0FE;\n",
              "      --fill-color: #1967D2;\n",
              "      --hover-bg-color: #E2EBFA;\n",
              "      --hover-fill-color: #174EA6;\n",
              "      --disabled-fill-color: #AAA;\n",
              "      --disabled-bg-color: #DDD;\n",
              "  }\n",
              "\n",
              "  [theme=dark] .colab-df-quickchart {\n",
              "      --bg-color: #3B4455;\n",
              "      --fill-color: #D2E3FC;\n",
              "      --hover-bg-color: #434B5C;\n",
              "      --hover-fill-color: #FFFFFF;\n",
              "      --disabled-bg-color: #3B4455;\n",
              "      --disabled-fill-color: #666;\n",
              "  }\n",
              "\n",
              "  .colab-df-quickchart {\n",
              "    background-color: var(--bg-color);\n",
              "    border: none;\n",
              "    border-radius: 50%;\n",
              "    cursor: pointer;\n",
              "    display: none;\n",
              "    fill: var(--fill-color);\n",
              "    height: 32px;\n",
              "    padding: 0;\n",
              "    width: 32px;\n",
              "  }\n",
              "\n",
              "  .colab-df-quickchart:hover {\n",
              "    background-color: var(--hover-bg-color);\n",
              "    box-shadow: 0 1px 2px rgba(60, 64, 67, 0.3), 0 1px 3px 1px rgba(60, 64, 67, 0.15);\n",
              "    fill: var(--button-hover-fill-color);\n",
              "  }\n",
              "\n",
              "  .colab-df-quickchart-complete:disabled,\n",
              "  .colab-df-quickchart-complete:disabled:hover {\n",
              "    background-color: var(--disabled-bg-color);\n",
              "    fill: var(--disabled-fill-color);\n",
              "    box-shadow: none;\n",
              "  }\n",
              "\n",
              "  .colab-df-spinner {\n",
              "    border: 2px solid var(--fill-color);\n",
              "    border-color: transparent;\n",
              "    border-bottom-color: var(--fill-color);\n",
              "    animation:\n",
              "      spin 1s steps(1) infinite;\n",
              "  }\n",
              "\n",
              "  @keyframes spin {\n",
              "    0% {\n",
              "      border-color: transparent;\n",
              "      border-bottom-color: var(--fill-color);\n",
              "      border-left-color: var(--fill-color);\n",
              "    }\n",
              "    20% {\n",
              "      border-color: transparent;\n",
              "      border-left-color: var(--fill-color);\n",
              "      border-top-color: var(--fill-color);\n",
              "    }\n",
              "    30% {\n",
              "      border-color: transparent;\n",
              "      border-left-color: var(--fill-color);\n",
              "      border-top-color: var(--fill-color);\n",
              "      border-right-color: var(--fill-color);\n",
              "    }\n",
              "    40% {\n",
              "      border-color: transparent;\n",
              "      border-right-color: var(--fill-color);\n",
              "      border-top-color: var(--fill-color);\n",
              "    }\n",
              "    60% {\n",
              "      border-color: transparent;\n",
              "      border-right-color: var(--fill-color);\n",
              "    }\n",
              "    80% {\n",
              "      border-color: transparent;\n",
              "      border-right-color: var(--fill-color);\n",
              "      border-bottom-color: var(--fill-color);\n",
              "    }\n",
              "    90% {\n",
              "      border-color: transparent;\n",
              "      border-bottom-color: var(--fill-color);\n",
              "    }\n",
              "  }\n",
              "</style>\n",
              "\n",
              "  <script>\n",
              "    async function quickchart(key) {\n",
              "      const quickchartButtonEl =\n",
              "        document.querySelector('#' + key + ' button');\n",
              "      quickchartButtonEl.disabled = true;  // To prevent multiple clicks.\n",
              "      quickchartButtonEl.classList.add('colab-df-spinner');\n",
              "      try {\n",
              "        const charts = await google.colab.kernel.invokeFunction(\n",
              "            'suggestCharts', [key], {});\n",
              "      } catch (error) {\n",
              "        console.error('Error during call to suggestCharts:', error);\n",
              "      }\n",
              "      quickchartButtonEl.classList.remove('colab-df-spinner');\n",
              "      quickchartButtonEl.classList.add('colab-df-quickchart-complete');\n",
              "    }\n",
              "    (() => {\n",
              "      let quickchartButtonEl =\n",
              "        document.querySelector('#df-634ffe8b-141d-4f75-99d7-deb3b0141e44 button');\n",
              "      quickchartButtonEl.style.display =\n",
              "        google.colab.kernel.accessAllowed ? 'block' : 'none';\n",
              "    })();\n",
              "  </script>\n",
              "</div>\n",
              "    </div>\n",
              "  </div>\n"
            ]
          },
          "metadata": {},
          "execution_count": 41
        }
      ]
    },
    {
      "cell_type": "code",
      "source": [
        "powerDF.shape, praatAcousticFeatsDf.shape"
      ],
      "metadata": {
        "colab": {
          "base_uri": "https://localhost:8080/"
        },
        "outputId": "b378f7ea-b35b-4e02-b8e8-c980a1e6e764",
        "id": "M3Bccyk3toN6"
      },
      "execution_count": null,
      "outputs": [
        {
          "output_type": "execute_result",
          "data": {
            "text/plain": [
              "((1154, 4), (553, 9))"
            ]
          },
          "metadata": {},
          "execution_count": 42
        }
      ]
    },
    {
      "cell_type": "code",
      "source": [
        "# Reshape the array to have 50 columns (assuming the number of rows is a multiple of 50)\n",
        "dfArray = powerDF.to_numpy()\n",
        "reshaped_array = dfArray.reshape(-1, 2, dfArray.shape[1])\n",
        "\n",
        "# Calculate the mean along axis 1 (average every 5 rows)\n",
        "averaged_array = reshaped_array.mean(axis=1)\n",
        "\n",
        "# Create a new DataFrame from the averaged array\n",
        "columns = powerDF.columns  # Assuming you want to keep the same columns\n",
        "resampled_powerDF = pd.DataFrame(averaged_array, columns=columns)\n",
        "resampled_powerDF.shape"
      ],
      "metadata": {
        "colab": {
          "base_uri": "https://localhost:8080/"
        },
        "outputId": "8a16b301-d5d4-42a4-ac43-805e7a1af634",
        "id": "dhrsVEnrtoN6"
      },
      "execution_count": null,
      "outputs": [
        {
          "output_type": "execute_result",
          "data": {
            "text/plain": [
              "(577, 4)"
            ]
          },
          "metadata": {},
          "execution_count": 43
        }
      ]
    },
    {
      "cell_type": "code",
      "source": [
        "resampled_powerDF = resampled_powerDF.iloc[:praatAcousticFeatsDf.shape[0]]\n",
        "resampled_powerDF.shape"
      ],
      "metadata": {
        "colab": {
          "base_uri": "https://localhost:8080/"
        },
        "outputId": "1a57293d-0277-432a-9b7f-a5432ed56bbb",
        "id": "LzO6UpHatoN6"
      },
      "execution_count": null,
      "outputs": [
        {
          "output_type": "execute_result",
          "data": {
            "text/plain": [
              "(553, 4)"
            ]
          },
          "metadata": {},
          "execution_count": 44
        }
      ]
    },
    {
      "cell_type": "code",
      "source": [
        "powerPraatDF = pd.concat([resampled_powerDF, praatAcousticFeatsDf], axis=1)\n",
        "powerPraatDF.head()"
      ],
      "metadata": {
        "colab": {
          "base_uri": "https://localhost:8080/",
          "height": 278
        },
        "outputId": "f7fb3b29-e9aa-45e9-eb05-fc93fe3063b3",
        "id": "K7vXglL9toN6"
      },
      "execution_count": null,
      "outputs": [
        {
          "output_type": "execute_result",
          "data": {
            "text/plain": [
              "   Power: Left OFC  Power: Left vlPFC  Power: Right OFC  Power: Right vlPFC  \\\n",
              "0         6.465437           8.684708          9.579918           10.725494   \n",
              "1         5.299883           9.258000          9.403041            8.724500   \n",
              "2         7.672788           6.339534          7.135017            6.149560   \n",
              "3         4.847016          10.642939          7.494360           10.591644   \n",
              "4         6.786832           8.923073          6.761784            8.954511   \n",
              "\n",
              "   speechrate(nsyll / dur)  \\\n",
              "0                      0.0   \n",
              "1                      0.0   \n",
              "2                      0.0   \n",
              "3                      0.0   \n",
              "4                      1.5   \n",
              "\n",
              "   Average Syllable Duration (speakingtot/voicedcount)  \\\n",
              "0                                                NaN     \n",
              "1                                                NaN     \n",
              "2                                                NaN     \n",
              "3                                                NaN     \n",
              "4                                              0.224     \n",
              "\n",
              "   articulation rate(nsyll / phonationtime)  Speech-to-pause ratio  \\\n",
              "0                                       NaN                    NaN   \n",
              "1                                       NaN                    NaN   \n",
              "2                                       NaN                    NaN   \n",
              "3                                       NaN                    NaN   \n",
              "4                                  4.464286               0.506024   \n",
              "\n",
              "   Mean Syllable Period  Variability of Syllable Period  Mean Pause Duration  \\\n",
              "0                   NaN                             NaN                  NaN   \n",
              "1                   NaN                             NaN                  NaN   \n",
              "2                   NaN                             NaN                  NaN   \n",
              "3                   NaN                             NaN                  NaN   \n",
              "4              0.666667                        0.123033                1.328   \n",
              "\n",
              "   Variability of Pause Duration  # of pauses  \n",
              "0                            NaN            1  \n",
              "1                            NaN            1  \n",
              "2                            NaN            1  \n",
              "3                            NaN            1  \n",
              "4                            0.0            1  "
            ],
            "text/html": [
              "\n",
              "  <div id=\"df-1b6bd74a-3ba5-46f7-be76-ce26472fb55d\" class=\"colab-df-container\">\n",
              "    <div>\n",
              "<style scoped>\n",
              "    .dataframe tbody tr th:only-of-type {\n",
              "        vertical-align: middle;\n",
              "    }\n",
              "\n",
              "    .dataframe tbody tr th {\n",
              "        vertical-align: top;\n",
              "    }\n",
              "\n",
              "    .dataframe thead th {\n",
              "        text-align: right;\n",
              "    }\n",
              "</style>\n",
              "<table border=\"1\" class=\"dataframe\">\n",
              "  <thead>\n",
              "    <tr style=\"text-align: right;\">\n",
              "      <th></th>\n",
              "      <th>Power: Left OFC</th>\n",
              "      <th>Power: Left vlPFC</th>\n",
              "      <th>Power: Right OFC</th>\n",
              "      <th>Power: Right vlPFC</th>\n",
              "      <th>speechrate(nsyll / dur)</th>\n",
              "      <th>Average Syllable Duration (speakingtot/voicedcount)</th>\n",
              "      <th>articulation rate(nsyll / phonationtime)</th>\n",
              "      <th>Speech-to-pause ratio</th>\n",
              "      <th>Mean Syllable Period</th>\n",
              "      <th>Variability of Syllable Period</th>\n",
              "      <th>Mean Pause Duration</th>\n",
              "      <th>Variability of Pause Duration</th>\n",
              "      <th># of pauses</th>\n",
              "    </tr>\n",
              "  </thead>\n",
              "  <tbody>\n",
              "    <tr>\n",
              "      <th>0</th>\n",
              "      <td>6.465437</td>\n",
              "      <td>8.684708</td>\n",
              "      <td>9.579918</td>\n",
              "      <td>10.725494</td>\n",
              "      <td>0.0</td>\n",
              "      <td>NaN</td>\n",
              "      <td>NaN</td>\n",
              "      <td>NaN</td>\n",
              "      <td>NaN</td>\n",
              "      <td>NaN</td>\n",
              "      <td>NaN</td>\n",
              "      <td>NaN</td>\n",
              "      <td>1</td>\n",
              "    </tr>\n",
              "    <tr>\n",
              "      <th>1</th>\n",
              "      <td>5.299883</td>\n",
              "      <td>9.258000</td>\n",
              "      <td>9.403041</td>\n",
              "      <td>8.724500</td>\n",
              "      <td>0.0</td>\n",
              "      <td>NaN</td>\n",
              "      <td>NaN</td>\n",
              "      <td>NaN</td>\n",
              "      <td>NaN</td>\n",
              "      <td>NaN</td>\n",
              "      <td>NaN</td>\n",
              "      <td>NaN</td>\n",
              "      <td>1</td>\n",
              "    </tr>\n",
              "    <tr>\n",
              "      <th>2</th>\n",
              "      <td>7.672788</td>\n",
              "      <td>6.339534</td>\n",
              "      <td>7.135017</td>\n",
              "      <td>6.149560</td>\n",
              "      <td>0.0</td>\n",
              "      <td>NaN</td>\n",
              "      <td>NaN</td>\n",
              "      <td>NaN</td>\n",
              "      <td>NaN</td>\n",
              "      <td>NaN</td>\n",
              "      <td>NaN</td>\n",
              "      <td>NaN</td>\n",
              "      <td>1</td>\n",
              "    </tr>\n",
              "    <tr>\n",
              "      <th>3</th>\n",
              "      <td>4.847016</td>\n",
              "      <td>10.642939</td>\n",
              "      <td>7.494360</td>\n",
              "      <td>10.591644</td>\n",
              "      <td>0.0</td>\n",
              "      <td>NaN</td>\n",
              "      <td>NaN</td>\n",
              "      <td>NaN</td>\n",
              "      <td>NaN</td>\n",
              "      <td>NaN</td>\n",
              "      <td>NaN</td>\n",
              "      <td>NaN</td>\n",
              "      <td>1</td>\n",
              "    </tr>\n",
              "    <tr>\n",
              "      <th>4</th>\n",
              "      <td>6.786832</td>\n",
              "      <td>8.923073</td>\n",
              "      <td>6.761784</td>\n",
              "      <td>8.954511</td>\n",
              "      <td>1.5</td>\n",
              "      <td>0.224</td>\n",
              "      <td>4.464286</td>\n",
              "      <td>0.506024</td>\n",
              "      <td>0.666667</td>\n",
              "      <td>0.123033</td>\n",
              "      <td>1.328</td>\n",
              "      <td>0.0</td>\n",
              "      <td>1</td>\n",
              "    </tr>\n",
              "  </tbody>\n",
              "</table>\n",
              "</div>\n",
              "    <div class=\"colab-df-buttons\">\n",
              "\n",
              "  <div class=\"colab-df-container\">\n",
              "    <button class=\"colab-df-convert\" onclick=\"convertToInteractive('df-1b6bd74a-3ba5-46f7-be76-ce26472fb55d')\"\n",
              "            title=\"Convert this dataframe to an interactive table.\"\n",
              "            style=\"display:none;\">\n",
              "\n",
              "  <svg xmlns=\"http://www.w3.org/2000/svg\" height=\"24px\" viewBox=\"0 -960 960 960\">\n",
              "    <path d=\"M120-120v-720h720v720H120Zm60-500h600v-160H180v160Zm220 220h160v-160H400v160Zm0 220h160v-160H400v160ZM180-400h160v-160H180v160Zm440 0h160v-160H620v160ZM180-180h160v-160H180v160Zm440 0h160v-160H620v160Z\"/>\n",
              "  </svg>\n",
              "    </button>\n",
              "\n",
              "  <style>\n",
              "    .colab-df-container {\n",
              "      display:flex;\n",
              "      gap: 12px;\n",
              "    }\n",
              "\n",
              "    .colab-df-convert {\n",
              "      background-color: #E8F0FE;\n",
              "      border: none;\n",
              "      border-radius: 50%;\n",
              "      cursor: pointer;\n",
              "      display: none;\n",
              "      fill: #1967D2;\n",
              "      height: 32px;\n",
              "      padding: 0 0 0 0;\n",
              "      width: 32px;\n",
              "    }\n",
              "\n",
              "    .colab-df-convert:hover {\n",
              "      background-color: #E2EBFA;\n",
              "      box-shadow: 0px 1px 2px rgba(60, 64, 67, 0.3), 0px 1px 3px 1px rgba(60, 64, 67, 0.15);\n",
              "      fill: #174EA6;\n",
              "    }\n",
              "\n",
              "    .colab-df-buttons div {\n",
              "      margin-bottom: 4px;\n",
              "    }\n",
              "\n",
              "    [theme=dark] .colab-df-convert {\n",
              "      background-color: #3B4455;\n",
              "      fill: #D2E3FC;\n",
              "    }\n",
              "\n",
              "    [theme=dark] .colab-df-convert:hover {\n",
              "      background-color: #434B5C;\n",
              "      box-shadow: 0px 1px 3px 1px rgba(0, 0, 0, 0.15);\n",
              "      filter: drop-shadow(0px 1px 2px rgba(0, 0, 0, 0.3));\n",
              "      fill: #FFFFFF;\n",
              "    }\n",
              "  </style>\n",
              "\n",
              "    <script>\n",
              "      const buttonEl =\n",
              "        document.querySelector('#df-1b6bd74a-3ba5-46f7-be76-ce26472fb55d button.colab-df-convert');\n",
              "      buttonEl.style.display =\n",
              "        google.colab.kernel.accessAllowed ? 'block' : 'none';\n",
              "\n",
              "      async function convertToInteractive(key) {\n",
              "        const element = document.querySelector('#df-1b6bd74a-3ba5-46f7-be76-ce26472fb55d');\n",
              "        const dataTable =\n",
              "          await google.colab.kernel.invokeFunction('convertToInteractive',\n",
              "                                                    [key], {});\n",
              "        if (!dataTable) return;\n",
              "\n",
              "        const docLinkHtml = 'Like what you see? Visit the ' +\n",
              "          '<a target=\"_blank\" href=https://colab.research.google.com/notebooks/data_table.ipynb>data table notebook</a>'\n",
              "          + ' to learn more about interactive tables.';\n",
              "        element.innerHTML = '';\n",
              "        dataTable['output_type'] = 'display_data';\n",
              "        await google.colab.output.renderOutput(dataTable, element);\n",
              "        const docLink = document.createElement('div');\n",
              "        docLink.innerHTML = docLinkHtml;\n",
              "        element.appendChild(docLink);\n",
              "      }\n",
              "    </script>\n",
              "  </div>\n",
              "\n",
              "\n",
              "<div id=\"df-4960c351-9fd5-4e52-a4fc-790e5bf5d494\">\n",
              "  <button class=\"colab-df-quickchart\" onclick=\"quickchart('df-4960c351-9fd5-4e52-a4fc-790e5bf5d494')\"\n",
              "            title=\"Suggest charts\"\n",
              "            style=\"display:none;\">\n",
              "\n",
              "<svg xmlns=\"http://www.w3.org/2000/svg\" height=\"24px\"viewBox=\"0 0 24 24\"\n",
              "     width=\"24px\">\n",
              "    <g>\n",
              "        <path d=\"M19 3H5c-1.1 0-2 .9-2 2v14c0 1.1.9 2 2 2h14c1.1 0 2-.9 2-2V5c0-1.1-.9-2-2-2zM9 17H7v-7h2v7zm4 0h-2V7h2v10zm4 0h-2v-4h2v4z\"/>\n",
              "    </g>\n",
              "</svg>\n",
              "  </button>\n",
              "\n",
              "<style>\n",
              "  .colab-df-quickchart {\n",
              "      --bg-color: #E8F0FE;\n",
              "      --fill-color: #1967D2;\n",
              "      --hover-bg-color: #E2EBFA;\n",
              "      --hover-fill-color: #174EA6;\n",
              "      --disabled-fill-color: #AAA;\n",
              "      --disabled-bg-color: #DDD;\n",
              "  }\n",
              "\n",
              "  [theme=dark] .colab-df-quickchart {\n",
              "      --bg-color: #3B4455;\n",
              "      --fill-color: #D2E3FC;\n",
              "      --hover-bg-color: #434B5C;\n",
              "      --hover-fill-color: #FFFFFF;\n",
              "      --disabled-bg-color: #3B4455;\n",
              "      --disabled-fill-color: #666;\n",
              "  }\n",
              "\n",
              "  .colab-df-quickchart {\n",
              "    background-color: var(--bg-color);\n",
              "    border: none;\n",
              "    border-radius: 50%;\n",
              "    cursor: pointer;\n",
              "    display: none;\n",
              "    fill: var(--fill-color);\n",
              "    height: 32px;\n",
              "    padding: 0;\n",
              "    width: 32px;\n",
              "  }\n",
              "\n",
              "  .colab-df-quickchart:hover {\n",
              "    background-color: var(--hover-bg-color);\n",
              "    box-shadow: 0 1px 2px rgba(60, 64, 67, 0.3), 0 1px 3px 1px rgba(60, 64, 67, 0.15);\n",
              "    fill: var(--button-hover-fill-color);\n",
              "  }\n",
              "\n",
              "  .colab-df-quickchart-complete:disabled,\n",
              "  .colab-df-quickchart-complete:disabled:hover {\n",
              "    background-color: var(--disabled-bg-color);\n",
              "    fill: var(--disabled-fill-color);\n",
              "    box-shadow: none;\n",
              "  }\n",
              "\n",
              "  .colab-df-spinner {\n",
              "    border: 2px solid var(--fill-color);\n",
              "    border-color: transparent;\n",
              "    border-bottom-color: var(--fill-color);\n",
              "    animation:\n",
              "      spin 1s steps(1) infinite;\n",
              "  }\n",
              "\n",
              "  @keyframes spin {\n",
              "    0% {\n",
              "      border-color: transparent;\n",
              "      border-bottom-color: var(--fill-color);\n",
              "      border-left-color: var(--fill-color);\n",
              "    }\n",
              "    20% {\n",
              "      border-color: transparent;\n",
              "      border-left-color: var(--fill-color);\n",
              "      border-top-color: var(--fill-color);\n",
              "    }\n",
              "    30% {\n",
              "      border-color: transparent;\n",
              "      border-left-color: var(--fill-color);\n",
              "      border-top-color: var(--fill-color);\n",
              "      border-right-color: var(--fill-color);\n",
              "    }\n",
              "    40% {\n",
              "      border-color: transparent;\n",
              "      border-right-color: var(--fill-color);\n",
              "      border-top-color: var(--fill-color);\n",
              "    }\n",
              "    60% {\n",
              "      border-color: transparent;\n",
              "      border-right-color: var(--fill-color);\n",
              "    }\n",
              "    80% {\n",
              "      border-color: transparent;\n",
              "      border-right-color: var(--fill-color);\n",
              "      border-bottom-color: var(--fill-color);\n",
              "    }\n",
              "    90% {\n",
              "      border-color: transparent;\n",
              "      border-bottom-color: var(--fill-color);\n",
              "    }\n",
              "  }\n",
              "</style>\n",
              "\n",
              "  <script>\n",
              "    async function quickchart(key) {\n",
              "      const quickchartButtonEl =\n",
              "        document.querySelector('#' + key + ' button');\n",
              "      quickchartButtonEl.disabled = true;  // To prevent multiple clicks.\n",
              "      quickchartButtonEl.classList.add('colab-df-spinner');\n",
              "      try {\n",
              "        const charts = await google.colab.kernel.invokeFunction(\n",
              "            'suggestCharts', [key], {});\n",
              "      } catch (error) {\n",
              "        console.error('Error during call to suggestCharts:', error);\n",
              "      }\n",
              "      quickchartButtonEl.classList.remove('colab-df-spinner');\n",
              "      quickchartButtonEl.classList.add('colab-df-quickchart-complete');\n",
              "    }\n",
              "    (() => {\n",
              "      let quickchartButtonEl =\n",
              "        document.querySelector('#df-4960c351-9fd5-4e52-a4fc-790e5bf5d494 button');\n",
              "      quickchartButtonEl.style.display =\n",
              "        google.colab.kernel.accessAllowed ? 'block' : 'none';\n",
              "    })();\n",
              "  </script>\n",
              "</div>\n",
              "    </div>\n",
              "  </div>\n"
            ]
          },
          "metadata": {},
          "execution_count": 45
        }
      ]
    },
    {
      "cell_type": "code",
      "source": [
        "powerPraatDF.shape"
      ],
      "metadata": {
        "colab": {
          "base_uri": "https://localhost:8080/"
        },
        "id": "-FSvr61Rt_--",
        "outputId": "35a0c269-6c25-4688-e3bf-bca30b0261dc"
      },
      "execution_count": null,
      "outputs": [
        {
          "output_type": "execute_result",
          "data": {
            "text/plain": [
              "(553, 13)"
            ]
          },
          "metadata": {},
          "execution_count": 46
        }
      ]
    },
    {
      "cell_type": "markdown",
      "source": [
        "Website to compute p value from r value and n: http://vassarstats.net/tabs_r.html"
      ],
      "metadata": {
        "id": "Gpmy4EPEtoN7"
      }
    },
    {
      "cell_type": "markdown",
      "source": [
        "Need r >= 0.077 for p < 0.01\n",
        "Need r >= 0.059 for p < 0.05"
      ],
      "metadata": {
        "id": "1fO4TIVCtoN7"
      }
    },
    {
      "cell_type": "code",
      "source": [
        "rValFor99ConfidenceLevel = 0.1095\n",
        "rValFor95ConfidenceLevel = 0.0834"
      ],
      "metadata": {
        "id": "ks7B1c_btoN7"
      },
      "execution_count": null,
      "outputs": []
    },
    {
      "cell_type": "code",
      "source": [],
      "metadata": {
        "id": "v0gSzHENVQ1P"
      },
      "execution_count": null,
      "outputs": []
    },
    {
      "cell_type": "markdown",
      "source": [
        "##random noise t-test (1)"
      ],
      "metadata": {
        "id": "b10ylIrTVRBG"
      }
    },
    {
      "cell_type": "code",
      "source": [
        "import numpy as np"
      ],
      "metadata": {
        "id": "BMNIuK-5VRBG"
      },
      "execution_count": null,
      "outputs": []
    },
    {
      "cell_type": "code",
      "source": [
        "# Set a seed for reproducibility (optional)\n",
        "np.random.seed(33)\n",
        "\n",
        "# Mean and standard deviation of the Gaussian distribution\n",
        "mean_value = 0\n",
        "std_dev = 1\n",
        "\n",
        "# Generate a random 1136-element numpy array from a Gaussian distribution\n",
        "random_array = np.random.normal(mean_value, std_dev, powerPraatDF.shape[0])\n"
      ],
      "metadata": {
        "id": "eNRKfe8NVRBH"
      },
      "execution_count": null,
      "outputs": []
    },
    {
      "cell_type": "code",
      "source": [],
      "metadata": {
        "id": "4Ewx5Ru-VRBH"
      },
      "execution_count": null,
      "outputs": []
    },
    {
      "cell_type": "code",
      "source": [
        "powerPraatDF['Noise'] = random_array"
      ],
      "metadata": {
        "id": "UEb23R-qVRBH"
      },
      "execution_count": null,
      "outputs": []
    },
    {
      "cell_type": "code",
      "source": [
        "powerPraatDF.corr()['Noise'][4:-1]#.abs()"
      ],
      "metadata": {
        "colab": {
          "base_uri": "https://localhost:8080/"
        },
        "outputId": "b798ff77-9ef6-4bbf-955f-38247c96d274",
        "id": "H9G8GDBgVRBH"
      },
      "execution_count": null,
      "outputs": [
        {
          "output_type": "execute_result",
          "data": {
            "text/plain": [
              "speechrate(nsyll / dur)                               -0.024362\n",
              "Average Syllable Duration (speakingtot/voicedcount)    0.011278\n",
              "articulation rate(nsyll / phonationtime)              -0.033086\n",
              "Speech-to-pause ratio                                  0.162307\n",
              "Mean Syllable Period                                   0.026441\n",
              "Variability of Syllable Period                         0.030397\n",
              "Mean Pause Duration                                    0.002016\n",
              "Variability of Pause Duration                          0.052220\n",
              "# of pauses                                            0.033695\n",
              "Name: Noise, dtype: float64"
            ]
          },
          "metadata": {},
          "execution_count": 48
        }
      ]
    },
    {
      "cell_type": "code",
      "source": [
        "correlations_Noise = powerPraatDF.corr()['Noise'][4:-1]#.abs()"
      ],
      "metadata": {
        "id": "H0HGHuqdVRBI"
      },
      "execution_count": null,
      "outputs": []
    },
    {
      "cell_type": "code",
      "source": [
        "positiveCorrelationCondition = correlations_Noise > rValFor95ConfidenceLevel\n",
        "negativeCorrelationCondition = correlations_Noise < -1* rValFor95ConfidenceLevel\n",
        "noiseCorrelates = correlations_Noise[ positiveCorrelationCondition | negativeCorrelationCondition]\n",
        "noiseCorrelates.head = 'r'\n",
        "\n",
        "print(\"# of acoustic features where p < 0.05:\", len(noiseCorrelates))\n",
        "noiseCorrelates.nlargest(len(noiseCorrelates)) # for sorting"
      ],
      "metadata": {
        "colab": {
          "base_uri": "https://localhost:8080/"
        },
        "outputId": "87c936ec-ad9f-40af-fdf9-cd914abef265",
        "id": "k7KtvVUgVRBI"
      },
      "execution_count": null,
      "outputs": [
        {
          "output_type": "stream",
          "name": "stdout",
          "text": [
            "# of acoustic features where p < 0.05: 1\n"
          ]
        },
        {
          "output_type": "execute_result",
          "data": {
            "text/plain": [
              "Speech-to-pause ratio    0.162307\n",
              "Name: Noise, dtype: float64"
            ]
          },
          "metadata": {},
          "execution_count": 50
        }
      ]
    },
    {
      "cell_type": "markdown",
      "source": [
        "##Right vLPFC (0)"
      ],
      "metadata": {
        "id": "7QSm5TgxtoN7"
      }
    },
    {
      "cell_type": "code",
      "source": [
        "# Assuming powerAmplitudeAllLLDdf is your DataFrame\n",
        "correlations_Right_vlPFC = powerPraatDF.corr()['Power: Right vlPFC'][8:].abs()\n",
        "AcousticCorrelates99_Right_vlPFC = correlations_Right_vlPFC[correlations_Right_vlPFC > rValFor99ConfidenceLevel]\n",
        "print(\"# of acoustic features where p < 0.01:\", len(AcousticCorrelates99_Right_vlPFC))\n",
        "AcousticCorrelates99_Right_vlPFC.nlargest(len(AcousticCorrelates99_Right_vlPFC)) # for sorting"
      ],
      "metadata": {
        "colab": {
          "base_uri": "https://localhost:8080/"
        },
        "outputId": "79407ff2-2bec-46ae-d5ed-599875e1baf0",
        "id": "q1hSRC-xtoN7"
      },
      "execution_count": null,
      "outputs": [
        {
          "output_type": "stream",
          "name": "stdout",
          "text": [
            "# of acoustic features where p < 0.01: 0\n"
          ]
        },
        {
          "output_type": "execute_result",
          "data": {
            "text/plain": [
              "Series([], Name: Power: Right vlPFC, dtype: float64)"
            ]
          },
          "metadata": {},
          "execution_count": 48
        }
      ]
    },
    {
      "cell_type": "code",
      "source": [
        "# Assuming powerAmplitudeAllLLDdf is your DataFrame\n",
        "AcousticCorrelates95_Right_vlPFC = correlations_Right_vlPFC[correlations_Right_vlPFC > rValFor95ConfidenceLevel]\n",
        "print(\"# of acoustic features where p < 0.05:\", len(AcousticCorrelates95_Right_vlPFC))\n",
        "AcousticCorrelates95_Right_vlPFC.nlargest(len(AcousticCorrelates95_Right_vlPFC)) # for sorting"
      ],
      "metadata": {
        "colab": {
          "base_uri": "https://localhost:8080/"
        },
        "outputId": "ecb750ba-e467-4fa6-f569-2fda89de9e51",
        "id": "JMV4zN2itoN7"
      },
      "execution_count": null,
      "outputs": [
        {
          "output_type": "stream",
          "name": "stdout",
          "text": [
            "# of acoustic features where p < 0.05: 0\n"
          ]
        },
        {
          "output_type": "execute_result",
          "data": {
            "text/plain": [
              "Series([], Name: Power: Right vlPFC, dtype: float64)"
            ]
          },
          "metadata": {},
          "execution_count": 49
        }
      ]
    },
    {
      "cell_type": "code",
      "source": [
        "AcousticCorrelates95_Right_vlPFC.nlargest(10).index.tolist()"
      ],
      "metadata": {
        "colab": {
          "base_uri": "https://localhost:8080/"
        },
        "id": "VzlomLM3uU9I",
        "outputId": "54d0d17a-61dd-46d1-97a8-b2b57424fe2e"
      },
      "execution_count": null,
      "outputs": [
        {
          "output_type": "execute_result",
          "data": {
            "text/plain": [
              "[]"
            ]
          },
          "metadata": {},
          "execution_count": 65
        }
      ]
    },
    {
      "cell_type": "markdown",
      "source": [
        "##Left vLPFC (1)"
      ],
      "metadata": {
        "id": "Qc_oMOU5toN7"
      }
    },
    {
      "cell_type": "code",
      "source": [
        "# Assuming powerAmplitudeAllLLDdf is your DataFrame\n",
        "correlations_Left_vlPFC = powerPraatDF.corr()['Power: Left vlPFC'][8:].abs()\n",
        "AcousticCorrelates99_Left_vlPFC = correlations_Left_vlPFC[correlations_Left_vlPFC > rValFor99ConfidenceLevel]\n",
        "print(\"# of acoustic features where p < 0.01:\", len(AcousticCorrelates99_Left_vlPFC))\n",
        "AcousticCorrelates99_Left_vlPFC.nlargest(len(AcousticCorrelates99_Left_vlPFC)) # for sorting"
      ],
      "metadata": {
        "colab": {
          "base_uri": "https://localhost:8080/"
        },
        "outputId": "2c5c8cf8-7bc5-443f-b25e-bb29ed8f4419",
        "id": "pLBXgkDJtoN8"
      },
      "execution_count": null,
      "outputs": [
        {
          "output_type": "stream",
          "name": "stdout",
          "text": [
            "# of acoustic features where p < 0.01: 0\n"
          ]
        },
        {
          "output_type": "execute_result",
          "data": {
            "text/plain": [
              "Series([], Name: Power: Left vlPFC, dtype: float64)"
            ]
          },
          "metadata": {},
          "execution_count": 50
        }
      ]
    },
    {
      "cell_type": "code",
      "source": [
        "# Assuming powerAmplitudeAllLLDdf is your DataFrame\n",
        "AcousticCorrelates95_Left_vlPFC = correlations_Left_vlPFC[correlations_Left_vlPFC > rValFor95ConfidenceLevel]\n",
        "print(\"# of acoustic features where p < 0.05:\", len(AcousticCorrelates95_Left_vlPFC))\n",
        "AcousticCorrelates95_Left_vlPFC.nlargest(len(AcousticCorrelates95_Left_vlPFC)) # for sorting"
      ],
      "metadata": {
        "colab": {
          "base_uri": "https://localhost:8080/"
        },
        "outputId": "abcc8f9e-6d9e-4375-becc-66f54f850cd3",
        "id": "tGb6YDoLtoN8"
      },
      "execution_count": null,
      "outputs": [
        {
          "output_type": "stream",
          "name": "stdout",
          "text": [
            "# of acoustic features where p < 0.05: 1\n"
          ]
        },
        {
          "output_type": "execute_result",
          "data": {
            "text/plain": [
              "Variability of Syllable Period    0.090436\n",
              "Name: Power: Left vlPFC, dtype: float64"
            ]
          },
          "metadata": {},
          "execution_count": 51
        }
      ]
    },
    {
      "cell_type": "code",
      "source": [
        "AcousticCorrelates95_Left_vlPFC.nlargest(10).index.tolist()"
      ],
      "metadata": {
        "colab": {
          "base_uri": "https://localhost:8080/"
        },
        "outputId": "dc1d64c1-2bf7-4c85-c9f2-f37fbe6a392c",
        "id": "5WC2s5gRtoN8"
      },
      "execution_count": null,
      "outputs": [
        {
          "output_type": "execute_result",
          "data": {
            "text/plain": [
              "['Variability of Syllable Period']"
            ]
          },
          "metadata": {},
          "execution_count": 52
        }
      ]
    },
    {
      "cell_type": "markdown",
      "source": [
        "##Right OFC (0)"
      ],
      "metadata": {
        "id": "XB4gqyMRtoN8"
      }
    },
    {
      "cell_type": "code",
      "source": [
        "# Assuming powerAmplitudeAllLLDdf is your DataFrame\n",
        "correlations_Right_OFC = powerPraatDF.corr()['Power: Right OFC'][8:].abs()\n",
        "AcousticCorrelates99_Right_OFC = correlations_Right_OFC[correlations_Right_OFC > rValFor99ConfidenceLevel]\n",
        "print(\"# of acoustic features where p < 0.01:\", len(AcousticCorrelates99_Right_OFC))\n",
        "AcousticCorrelates99_Right_OFC.nlargest(len(AcousticCorrelates99_Right_OFC)) # for sorting"
      ],
      "metadata": {
        "colab": {
          "base_uri": "https://localhost:8080/"
        },
        "outputId": "5a84fecf-ec6b-4628-8ddd-40253a66668e",
        "id": "NM1Tmx9ztoN8"
      },
      "execution_count": null,
      "outputs": [
        {
          "output_type": "stream",
          "name": "stdout",
          "text": [
            "# of acoustic features where p < 0.01: 0\n"
          ]
        },
        {
          "output_type": "execute_result",
          "data": {
            "text/plain": [
              "Series([], Name: Power: Right OFC, dtype: float64)"
            ]
          },
          "metadata": {},
          "execution_count": 53
        }
      ]
    },
    {
      "cell_type": "code",
      "source": [
        "# Assuming powerAmplitudeAllLLDdf is your DataFrame\n",
        "AcousticCorrelates95_Right_OFC = correlations_Right_OFC[correlations_Right_OFC > rValFor95ConfidenceLevel]\n",
        "print(\"# of acoustic features where p < 0.05:\", len(AcousticCorrelates95_Right_OFC))\n",
        "AcousticCorrelates95_Right_OFC.nlargest(len(AcousticCorrelates95_Right_OFC)) # for sorting"
      ],
      "metadata": {
        "colab": {
          "base_uri": "https://localhost:8080/"
        },
        "outputId": "e8d2a66d-71dc-4039-82a1-eeaf95a9ce78",
        "id": "WqjZfnqTtoN8"
      },
      "execution_count": null,
      "outputs": [
        {
          "output_type": "stream",
          "name": "stdout",
          "text": [
            "# of acoustic features where p < 0.05: 0\n"
          ]
        },
        {
          "output_type": "execute_result",
          "data": {
            "text/plain": [
              "Series([], Name: Power: Right OFC, dtype: float64)"
            ]
          },
          "metadata": {},
          "execution_count": 54
        }
      ]
    },
    {
      "cell_type": "code",
      "source": [
        "AcousticCorrelates95_Right_OFC.nlargest(10).index.tolist()"
      ],
      "metadata": {
        "colab": {
          "base_uri": "https://localhost:8080/"
        },
        "outputId": "c61332bc-75eb-476c-9a81-8c10b6ed8b74",
        "id": "he-0AK2TtoN8"
      },
      "execution_count": null,
      "outputs": [
        {
          "output_type": "execute_result",
          "data": {
            "text/plain": [
              "[]"
            ]
          },
          "metadata": {},
          "execution_count": 55
        }
      ]
    },
    {
      "cell_type": "markdown",
      "source": [
        "##Left OFC (0)"
      ],
      "metadata": {
        "id": "o7oimuodtoN8"
      }
    },
    {
      "cell_type": "code",
      "source": [
        "# Assuming powerAmplitudeAllLLDdf is your DataFrame\n",
        "correlations_Left_OFC = powerPraatDF.corr()['Power: Left OFC'][8:].abs()\n",
        "AcousticCorrelates99_Left_OFC = correlations_Left_OFC[correlations_Left_OFC > rValFor99ConfidenceLevel]\n",
        "print(\"# of acoustic features where p < 0.01:\", len(AcousticCorrelates99_Left_OFC))\n",
        "AcousticCorrelates99_Left_OFC.nlargest(len(AcousticCorrelates99_Left_OFC)) # for sorting"
      ],
      "metadata": {
        "colab": {
          "base_uri": "https://localhost:8080/"
        },
        "outputId": "1210755a-04a0-4d94-f129-798e08425c27",
        "id": "ebh_h0pgtoN9"
      },
      "execution_count": null,
      "outputs": [
        {
          "output_type": "stream",
          "name": "stdout",
          "text": [
            "# of acoustic features where p < 0.01: 0\n"
          ]
        },
        {
          "output_type": "execute_result",
          "data": {
            "text/plain": [
              "Series([], Name: Power: Left OFC, dtype: float64)"
            ]
          },
          "metadata": {},
          "execution_count": 56
        }
      ]
    },
    {
      "cell_type": "code",
      "source": [
        "# Assuming powerAmplitudeAllLLDdf is your DataFrame\n",
        "AcousticCorrelates95_Left_OFC = correlations_Left_OFC[correlations_Left_OFC > rValFor95ConfidenceLevel]\n",
        "print(\"# of acoustic features where p < 0.05:\", len(AcousticCorrelates95_Left_OFC))\n",
        "AcousticCorrelates95_Left_OFC.nlargest(len(AcousticCorrelates95_Left_OFC)) # for sorting"
      ],
      "metadata": {
        "colab": {
          "base_uri": "https://localhost:8080/"
        },
        "outputId": "3cae0e17-f06e-41f4-ab67-9913292e2edb",
        "id": "N-Mdz30vtoN9"
      },
      "execution_count": null,
      "outputs": [
        {
          "output_type": "stream",
          "name": "stdout",
          "text": [
            "# of acoustic features where p < 0.05: 0\n"
          ]
        },
        {
          "output_type": "execute_result",
          "data": {
            "text/plain": [
              "Series([], Name: Power: Left OFC, dtype: float64)"
            ]
          },
          "metadata": {},
          "execution_count": 57
        }
      ]
    },
    {
      "cell_type": "code",
      "source": [],
      "metadata": {
        "id": "WOmkBD6Sz46U"
      },
      "execution_count": null,
      "outputs": []
    },
    {
      "cell_type": "markdown",
      "source": [
        "#Nov 15"
      ],
      "metadata": {
        "id": "E1YzASmlz5Bk"
      }
    },
    {
      "cell_type": "markdown",
      "source": [
        "##read in files"
      ],
      "metadata": {
        "id": "Pm-ZKfH8z5Bl"
      }
    },
    {
      "cell_type": "code",
      "source": [
        "powerDF = pd.read_csv('2022-11-15-Power.csv')\n",
        "del powerDF['Unnamed: 0']\n",
        "powerDF.head()"
      ],
      "metadata": {
        "colab": {
          "base_uri": "https://localhost:8080/",
          "height": 224
        },
        "outputId": "f7eb9b77-d804-485d-a664-afb31b816afc",
        "id": "BwBMP2n1z5Bl"
      },
      "execution_count": null,
      "outputs": [
        {
          "output_type": "execute_result",
          "data": {
            "text/plain": [
              "   Power: Left OFC  Power: Left vlPFC  Power: Right OFC  Power: Right vlPFC\n",
              "0         8.462996           6.523769          4.619912            8.098723\n",
              "1         5.854915           5.621985          7.196563            7.780724\n",
              "2         9.335134           7.215692          7.966418            9.071778\n",
              "3         4.709172           5.349554          7.623001           11.709882\n",
              "4         5.242306          13.146638          7.908021            7.542927"
            ],
            "text/html": [
              "\n",
              "  <div id=\"df-14736bc8-68b1-4df4-925c-aa686c5af047\" class=\"colab-df-container\">\n",
              "    <div>\n",
              "<style scoped>\n",
              "    .dataframe tbody tr th:only-of-type {\n",
              "        vertical-align: middle;\n",
              "    }\n",
              "\n",
              "    .dataframe tbody tr th {\n",
              "        vertical-align: top;\n",
              "    }\n",
              "\n",
              "    .dataframe thead th {\n",
              "        text-align: right;\n",
              "    }\n",
              "</style>\n",
              "<table border=\"1\" class=\"dataframe\">\n",
              "  <thead>\n",
              "    <tr style=\"text-align: right;\">\n",
              "      <th></th>\n",
              "      <th>Power: Left OFC</th>\n",
              "      <th>Power: Left vlPFC</th>\n",
              "      <th>Power: Right OFC</th>\n",
              "      <th>Power: Right vlPFC</th>\n",
              "    </tr>\n",
              "  </thead>\n",
              "  <tbody>\n",
              "    <tr>\n",
              "      <th>0</th>\n",
              "      <td>8.462996</td>\n",
              "      <td>6.523769</td>\n",
              "      <td>4.619912</td>\n",
              "      <td>8.098723</td>\n",
              "    </tr>\n",
              "    <tr>\n",
              "      <th>1</th>\n",
              "      <td>5.854915</td>\n",
              "      <td>5.621985</td>\n",
              "      <td>7.196563</td>\n",
              "      <td>7.780724</td>\n",
              "    </tr>\n",
              "    <tr>\n",
              "      <th>2</th>\n",
              "      <td>9.335134</td>\n",
              "      <td>7.215692</td>\n",
              "      <td>7.966418</td>\n",
              "      <td>9.071778</td>\n",
              "    </tr>\n",
              "    <tr>\n",
              "      <th>3</th>\n",
              "      <td>4.709172</td>\n",
              "      <td>5.349554</td>\n",
              "      <td>7.623001</td>\n",
              "      <td>11.709882</td>\n",
              "    </tr>\n",
              "    <tr>\n",
              "      <th>4</th>\n",
              "      <td>5.242306</td>\n",
              "      <td>13.146638</td>\n",
              "      <td>7.908021</td>\n",
              "      <td>7.542927</td>\n",
              "    </tr>\n",
              "  </tbody>\n",
              "</table>\n",
              "</div>\n",
              "    <div class=\"colab-df-buttons\">\n",
              "\n",
              "  <div class=\"colab-df-container\">\n",
              "    <button class=\"colab-df-convert\" onclick=\"convertToInteractive('df-14736bc8-68b1-4df4-925c-aa686c5af047')\"\n",
              "            title=\"Convert this dataframe to an interactive table.\"\n",
              "            style=\"display:none;\">\n",
              "\n",
              "  <svg xmlns=\"http://www.w3.org/2000/svg\" height=\"24px\" viewBox=\"0 -960 960 960\">\n",
              "    <path d=\"M120-120v-720h720v720H120Zm60-500h600v-160H180v160Zm220 220h160v-160H400v160Zm0 220h160v-160H400v160ZM180-400h160v-160H180v160Zm440 0h160v-160H620v160ZM180-180h160v-160H180v160Zm440 0h160v-160H620v160Z\"/>\n",
              "  </svg>\n",
              "    </button>\n",
              "\n",
              "  <style>\n",
              "    .colab-df-container {\n",
              "      display:flex;\n",
              "      gap: 12px;\n",
              "    }\n",
              "\n",
              "    .colab-df-convert {\n",
              "      background-color: #E8F0FE;\n",
              "      border: none;\n",
              "      border-radius: 50%;\n",
              "      cursor: pointer;\n",
              "      display: none;\n",
              "      fill: #1967D2;\n",
              "      height: 32px;\n",
              "      padding: 0 0 0 0;\n",
              "      width: 32px;\n",
              "    }\n",
              "\n",
              "    .colab-df-convert:hover {\n",
              "      background-color: #E2EBFA;\n",
              "      box-shadow: 0px 1px 2px rgba(60, 64, 67, 0.3), 0px 1px 3px 1px rgba(60, 64, 67, 0.15);\n",
              "      fill: #174EA6;\n",
              "    }\n",
              "\n",
              "    .colab-df-buttons div {\n",
              "      margin-bottom: 4px;\n",
              "    }\n",
              "\n",
              "    [theme=dark] .colab-df-convert {\n",
              "      background-color: #3B4455;\n",
              "      fill: #D2E3FC;\n",
              "    }\n",
              "\n",
              "    [theme=dark] .colab-df-convert:hover {\n",
              "      background-color: #434B5C;\n",
              "      box-shadow: 0px 1px 3px 1px rgba(0, 0, 0, 0.15);\n",
              "      filter: drop-shadow(0px 1px 2px rgba(0, 0, 0, 0.3));\n",
              "      fill: #FFFFFF;\n",
              "    }\n",
              "  </style>\n",
              "\n",
              "    <script>\n",
              "      const buttonEl =\n",
              "        document.querySelector('#df-14736bc8-68b1-4df4-925c-aa686c5af047 button.colab-df-convert');\n",
              "      buttonEl.style.display =\n",
              "        google.colab.kernel.accessAllowed ? 'block' : 'none';\n",
              "\n",
              "      async function convertToInteractive(key) {\n",
              "        const element = document.querySelector('#df-14736bc8-68b1-4df4-925c-aa686c5af047');\n",
              "        const dataTable =\n",
              "          await google.colab.kernel.invokeFunction('convertToInteractive',\n",
              "                                                    [key], {});\n",
              "        if (!dataTable) return;\n",
              "\n",
              "        const docLinkHtml = 'Like what you see? Visit the ' +\n",
              "          '<a target=\"_blank\" href=https://colab.research.google.com/notebooks/data_table.ipynb>data table notebook</a>'\n",
              "          + ' to learn more about interactive tables.';\n",
              "        element.innerHTML = '';\n",
              "        dataTable['output_type'] = 'display_data';\n",
              "        await google.colab.output.renderOutput(dataTable, element);\n",
              "        const docLink = document.createElement('div');\n",
              "        docLink.innerHTML = docLinkHtml;\n",
              "        element.appendChild(docLink);\n",
              "      }\n",
              "    </script>\n",
              "  </div>\n",
              "\n",
              "\n",
              "<div id=\"df-ddd0a8cb-713d-4574-915d-89afee209007\">\n",
              "  <button class=\"colab-df-quickchart\" onclick=\"quickchart('df-ddd0a8cb-713d-4574-915d-89afee209007')\"\n",
              "            title=\"Suggest charts\"\n",
              "            style=\"display:none;\">\n",
              "\n",
              "<svg xmlns=\"http://www.w3.org/2000/svg\" height=\"24px\"viewBox=\"0 0 24 24\"\n",
              "     width=\"24px\">\n",
              "    <g>\n",
              "        <path d=\"M19 3H5c-1.1 0-2 .9-2 2v14c0 1.1.9 2 2 2h14c1.1 0 2-.9 2-2V5c0-1.1-.9-2-2-2zM9 17H7v-7h2v7zm4 0h-2V7h2v10zm4 0h-2v-4h2v4z\"/>\n",
              "    </g>\n",
              "</svg>\n",
              "  </button>\n",
              "\n",
              "<style>\n",
              "  .colab-df-quickchart {\n",
              "      --bg-color: #E8F0FE;\n",
              "      --fill-color: #1967D2;\n",
              "      --hover-bg-color: #E2EBFA;\n",
              "      --hover-fill-color: #174EA6;\n",
              "      --disabled-fill-color: #AAA;\n",
              "      --disabled-bg-color: #DDD;\n",
              "  }\n",
              "\n",
              "  [theme=dark] .colab-df-quickchart {\n",
              "      --bg-color: #3B4455;\n",
              "      --fill-color: #D2E3FC;\n",
              "      --hover-bg-color: #434B5C;\n",
              "      --hover-fill-color: #FFFFFF;\n",
              "      --disabled-bg-color: #3B4455;\n",
              "      --disabled-fill-color: #666;\n",
              "  }\n",
              "\n",
              "  .colab-df-quickchart {\n",
              "    background-color: var(--bg-color);\n",
              "    border: none;\n",
              "    border-radius: 50%;\n",
              "    cursor: pointer;\n",
              "    display: none;\n",
              "    fill: var(--fill-color);\n",
              "    height: 32px;\n",
              "    padding: 0;\n",
              "    width: 32px;\n",
              "  }\n",
              "\n",
              "  .colab-df-quickchart:hover {\n",
              "    background-color: var(--hover-bg-color);\n",
              "    box-shadow: 0 1px 2px rgba(60, 64, 67, 0.3), 0 1px 3px 1px rgba(60, 64, 67, 0.15);\n",
              "    fill: var(--button-hover-fill-color);\n",
              "  }\n",
              "\n",
              "  .colab-df-quickchart-complete:disabled,\n",
              "  .colab-df-quickchart-complete:disabled:hover {\n",
              "    background-color: var(--disabled-bg-color);\n",
              "    fill: var(--disabled-fill-color);\n",
              "    box-shadow: none;\n",
              "  }\n",
              "\n",
              "  .colab-df-spinner {\n",
              "    border: 2px solid var(--fill-color);\n",
              "    border-color: transparent;\n",
              "    border-bottom-color: var(--fill-color);\n",
              "    animation:\n",
              "      spin 1s steps(1) infinite;\n",
              "  }\n",
              "\n",
              "  @keyframes spin {\n",
              "    0% {\n",
              "      border-color: transparent;\n",
              "      border-bottom-color: var(--fill-color);\n",
              "      border-left-color: var(--fill-color);\n",
              "    }\n",
              "    20% {\n",
              "      border-color: transparent;\n",
              "      border-left-color: var(--fill-color);\n",
              "      border-top-color: var(--fill-color);\n",
              "    }\n",
              "    30% {\n",
              "      border-color: transparent;\n",
              "      border-left-color: var(--fill-color);\n",
              "      border-top-color: var(--fill-color);\n",
              "      border-right-color: var(--fill-color);\n",
              "    }\n",
              "    40% {\n",
              "      border-color: transparent;\n",
              "      border-right-color: var(--fill-color);\n",
              "      border-top-color: var(--fill-color);\n",
              "    }\n",
              "    60% {\n",
              "      border-color: transparent;\n",
              "      border-right-color: var(--fill-color);\n",
              "    }\n",
              "    80% {\n",
              "      border-color: transparent;\n",
              "      border-right-color: var(--fill-color);\n",
              "      border-bottom-color: var(--fill-color);\n",
              "    }\n",
              "    90% {\n",
              "      border-color: transparent;\n",
              "      border-bottom-color: var(--fill-color);\n",
              "    }\n",
              "  }\n",
              "</style>\n",
              "\n",
              "  <script>\n",
              "    async function quickchart(key) {\n",
              "      const quickchartButtonEl =\n",
              "        document.querySelector('#' + key + ' button');\n",
              "      quickchartButtonEl.disabled = true;  // To prevent multiple clicks.\n",
              "      quickchartButtonEl.classList.add('colab-df-spinner');\n",
              "      try {\n",
              "        const charts = await google.colab.kernel.invokeFunction(\n",
              "            'suggestCharts', [key], {});\n",
              "      } catch (error) {\n",
              "        console.error('Error during call to suggestCharts:', error);\n",
              "      }\n",
              "      quickchartButtonEl.classList.remove('colab-df-spinner');\n",
              "      quickchartButtonEl.classList.add('colab-df-quickchart-complete');\n",
              "    }\n",
              "    (() => {\n",
              "      let quickchartButtonEl =\n",
              "        document.querySelector('#df-ddd0a8cb-713d-4574-915d-89afee209007 button');\n",
              "      quickchartButtonEl.style.display =\n",
              "        google.colab.kernel.accessAllowed ? 'block' : 'none';\n",
              "    })();\n",
              "  </script>\n",
              "</div>\n",
              "    </div>\n",
              "  </div>\n"
            ]
          },
          "metadata": {},
          "execution_count": 58
        }
      ]
    },
    {
      "cell_type": "code",
      "source": [
        "praatAcousticFeatsDf = pd.read_csv('noModeratorSpeech_Nov15PerTwoSecondPraatFeatures.csv')\n",
        "del praatAcousticFeatsDf['Unnamed: 0'], praatAcousticFeatsDf['Time (secs)']\n",
        "praatAcousticFeatsDf.head()"
      ],
      "metadata": {
        "colab": {
          "base_uri": "https://localhost:8080/",
          "height": 278
        },
        "outputId": "0c1b9b56-9641-4624-8b74-f5efe8b43330",
        "id": "jiVtM9_1z5Bl"
      },
      "execution_count": null,
      "outputs": [
        {
          "output_type": "execute_result",
          "data": {
            "text/plain": [
              "   speechrate(nsyll / dur)  \\\n",
              "0                      0.0   \n",
              "1                      0.0   \n",
              "2                      0.0   \n",
              "3                      1.5   \n",
              "4                      3.0   \n",
              "\n",
              "   Average Syllable Duration (speakingtot/voicedcount)  \\\n",
              "0                                                NaN     \n",
              "1                                                NaN     \n",
              "2                                                NaN     \n",
              "3                                           0.445333     \n",
              "4                                           0.230667     \n",
              "\n",
              "   articulation rate(nsyll / phonationtime)  Speech-to-pause ratio  \\\n",
              "0                                       NaN                    NaN   \n",
              "1                                       NaN                    NaN   \n",
              "2                                       NaN                    NaN   \n",
              "3                                  2.245509               2.012048   \n",
              "4                                  4.335260               2.246753   \n",
              "\n",
              "   Mean Syllable Period  Variability of Syllable Period  Mean Pause Duration  \\\n",
              "0                   NaN                             NaN                  NaN   \n",
              "1                   NaN                             NaN                  NaN   \n",
              "2                   NaN                             NaN                  NaN   \n",
              "3              0.666667                        0.274689                0.664   \n",
              "4              0.333333                        0.254371                0.616   \n",
              "\n",
              "   Variability of Pause Duration  # of pauses  \n",
              "0                            NaN            1  \n",
              "1                            NaN            1  \n",
              "2                            NaN            1  \n",
              "3                            0.0            1  \n",
              "4                            0.0            1  "
            ],
            "text/html": [
              "\n",
              "  <div id=\"df-22c5b79a-a47d-41d7-8803-15a5a035a68b\" class=\"colab-df-container\">\n",
              "    <div>\n",
              "<style scoped>\n",
              "    .dataframe tbody tr th:only-of-type {\n",
              "        vertical-align: middle;\n",
              "    }\n",
              "\n",
              "    .dataframe tbody tr th {\n",
              "        vertical-align: top;\n",
              "    }\n",
              "\n",
              "    .dataframe thead th {\n",
              "        text-align: right;\n",
              "    }\n",
              "</style>\n",
              "<table border=\"1\" class=\"dataframe\">\n",
              "  <thead>\n",
              "    <tr style=\"text-align: right;\">\n",
              "      <th></th>\n",
              "      <th>speechrate(nsyll / dur)</th>\n",
              "      <th>Average Syllable Duration (speakingtot/voicedcount)</th>\n",
              "      <th>articulation rate(nsyll / phonationtime)</th>\n",
              "      <th>Speech-to-pause ratio</th>\n",
              "      <th>Mean Syllable Period</th>\n",
              "      <th>Variability of Syllable Period</th>\n",
              "      <th>Mean Pause Duration</th>\n",
              "      <th>Variability of Pause Duration</th>\n",
              "      <th># of pauses</th>\n",
              "    </tr>\n",
              "  </thead>\n",
              "  <tbody>\n",
              "    <tr>\n",
              "      <th>0</th>\n",
              "      <td>0.0</td>\n",
              "      <td>NaN</td>\n",
              "      <td>NaN</td>\n",
              "      <td>NaN</td>\n",
              "      <td>NaN</td>\n",
              "      <td>NaN</td>\n",
              "      <td>NaN</td>\n",
              "      <td>NaN</td>\n",
              "      <td>1</td>\n",
              "    </tr>\n",
              "    <tr>\n",
              "      <th>1</th>\n",
              "      <td>0.0</td>\n",
              "      <td>NaN</td>\n",
              "      <td>NaN</td>\n",
              "      <td>NaN</td>\n",
              "      <td>NaN</td>\n",
              "      <td>NaN</td>\n",
              "      <td>NaN</td>\n",
              "      <td>NaN</td>\n",
              "      <td>1</td>\n",
              "    </tr>\n",
              "    <tr>\n",
              "      <th>2</th>\n",
              "      <td>0.0</td>\n",
              "      <td>NaN</td>\n",
              "      <td>NaN</td>\n",
              "      <td>NaN</td>\n",
              "      <td>NaN</td>\n",
              "      <td>NaN</td>\n",
              "      <td>NaN</td>\n",
              "      <td>NaN</td>\n",
              "      <td>1</td>\n",
              "    </tr>\n",
              "    <tr>\n",
              "      <th>3</th>\n",
              "      <td>1.5</td>\n",
              "      <td>0.445333</td>\n",
              "      <td>2.245509</td>\n",
              "      <td>2.012048</td>\n",
              "      <td>0.666667</td>\n",
              "      <td>0.274689</td>\n",
              "      <td>0.664</td>\n",
              "      <td>0.0</td>\n",
              "      <td>1</td>\n",
              "    </tr>\n",
              "    <tr>\n",
              "      <th>4</th>\n",
              "      <td>3.0</td>\n",
              "      <td>0.230667</td>\n",
              "      <td>4.335260</td>\n",
              "      <td>2.246753</td>\n",
              "      <td>0.333333</td>\n",
              "      <td>0.254371</td>\n",
              "      <td>0.616</td>\n",
              "      <td>0.0</td>\n",
              "      <td>1</td>\n",
              "    </tr>\n",
              "  </tbody>\n",
              "</table>\n",
              "</div>\n",
              "    <div class=\"colab-df-buttons\">\n",
              "\n",
              "  <div class=\"colab-df-container\">\n",
              "    <button class=\"colab-df-convert\" onclick=\"convertToInteractive('df-22c5b79a-a47d-41d7-8803-15a5a035a68b')\"\n",
              "            title=\"Convert this dataframe to an interactive table.\"\n",
              "            style=\"display:none;\">\n",
              "\n",
              "  <svg xmlns=\"http://www.w3.org/2000/svg\" height=\"24px\" viewBox=\"0 -960 960 960\">\n",
              "    <path d=\"M120-120v-720h720v720H120Zm60-500h600v-160H180v160Zm220 220h160v-160H400v160Zm0 220h160v-160H400v160ZM180-400h160v-160H180v160Zm440 0h160v-160H620v160ZM180-180h160v-160H180v160Zm440 0h160v-160H620v160Z\"/>\n",
              "  </svg>\n",
              "    </button>\n",
              "\n",
              "  <style>\n",
              "    .colab-df-container {\n",
              "      display:flex;\n",
              "      gap: 12px;\n",
              "    }\n",
              "\n",
              "    .colab-df-convert {\n",
              "      background-color: #E8F0FE;\n",
              "      border: none;\n",
              "      border-radius: 50%;\n",
              "      cursor: pointer;\n",
              "      display: none;\n",
              "      fill: #1967D2;\n",
              "      height: 32px;\n",
              "      padding: 0 0 0 0;\n",
              "      width: 32px;\n",
              "    }\n",
              "\n",
              "    .colab-df-convert:hover {\n",
              "      background-color: #E2EBFA;\n",
              "      box-shadow: 0px 1px 2px rgba(60, 64, 67, 0.3), 0px 1px 3px 1px rgba(60, 64, 67, 0.15);\n",
              "      fill: #174EA6;\n",
              "    }\n",
              "\n",
              "    .colab-df-buttons div {\n",
              "      margin-bottom: 4px;\n",
              "    }\n",
              "\n",
              "    [theme=dark] .colab-df-convert {\n",
              "      background-color: #3B4455;\n",
              "      fill: #D2E3FC;\n",
              "    }\n",
              "\n",
              "    [theme=dark] .colab-df-convert:hover {\n",
              "      background-color: #434B5C;\n",
              "      box-shadow: 0px 1px 3px 1px rgba(0, 0, 0, 0.15);\n",
              "      filter: drop-shadow(0px 1px 2px rgba(0, 0, 0, 0.3));\n",
              "      fill: #FFFFFF;\n",
              "    }\n",
              "  </style>\n",
              "\n",
              "    <script>\n",
              "      const buttonEl =\n",
              "        document.querySelector('#df-22c5b79a-a47d-41d7-8803-15a5a035a68b button.colab-df-convert');\n",
              "      buttonEl.style.display =\n",
              "        google.colab.kernel.accessAllowed ? 'block' : 'none';\n",
              "\n",
              "      async function convertToInteractive(key) {\n",
              "        const element = document.querySelector('#df-22c5b79a-a47d-41d7-8803-15a5a035a68b');\n",
              "        const dataTable =\n",
              "          await google.colab.kernel.invokeFunction('convertToInteractive',\n",
              "                                                    [key], {});\n",
              "        if (!dataTable) return;\n",
              "\n",
              "        const docLinkHtml = 'Like what you see? Visit the ' +\n",
              "          '<a target=\"_blank\" href=https://colab.research.google.com/notebooks/data_table.ipynb>data table notebook</a>'\n",
              "          + ' to learn more about interactive tables.';\n",
              "        element.innerHTML = '';\n",
              "        dataTable['output_type'] = 'display_data';\n",
              "        await google.colab.output.renderOutput(dataTable, element);\n",
              "        const docLink = document.createElement('div');\n",
              "        docLink.innerHTML = docLinkHtml;\n",
              "        element.appendChild(docLink);\n",
              "      }\n",
              "    </script>\n",
              "  </div>\n",
              "\n",
              "\n",
              "<div id=\"df-75b59861-0c25-47af-b959-7372f76c66bd\">\n",
              "  <button class=\"colab-df-quickchart\" onclick=\"quickchart('df-75b59861-0c25-47af-b959-7372f76c66bd')\"\n",
              "            title=\"Suggest charts\"\n",
              "            style=\"display:none;\">\n",
              "\n",
              "<svg xmlns=\"http://www.w3.org/2000/svg\" height=\"24px\"viewBox=\"0 0 24 24\"\n",
              "     width=\"24px\">\n",
              "    <g>\n",
              "        <path d=\"M19 3H5c-1.1 0-2 .9-2 2v14c0 1.1.9 2 2 2h14c1.1 0 2-.9 2-2V5c0-1.1-.9-2-2-2zM9 17H7v-7h2v7zm4 0h-2V7h2v10zm4 0h-2v-4h2v4z\"/>\n",
              "    </g>\n",
              "</svg>\n",
              "  </button>\n",
              "\n",
              "<style>\n",
              "  .colab-df-quickchart {\n",
              "      --bg-color: #E8F0FE;\n",
              "      --fill-color: #1967D2;\n",
              "      --hover-bg-color: #E2EBFA;\n",
              "      --hover-fill-color: #174EA6;\n",
              "      --disabled-fill-color: #AAA;\n",
              "      --disabled-bg-color: #DDD;\n",
              "  }\n",
              "\n",
              "  [theme=dark] .colab-df-quickchart {\n",
              "      --bg-color: #3B4455;\n",
              "      --fill-color: #D2E3FC;\n",
              "      --hover-bg-color: #434B5C;\n",
              "      --hover-fill-color: #FFFFFF;\n",
              "      --disabled-bg-color: #3B4455;\n",
              "      --disabled-fill-color: #666;\n",
              "  }\n",
              "\n",
              "  .colab-df-quickchart {\n",
              "    background-color: var(--bg-color);\n",
              "    border: none;\n",
              "    border-radius: 50%;\n",
              "    cursor: pointer;\n",
              "    display: none;\n",
              "    fill: var(--fill-color);\n",
              "    height: 32px;\n",
              "    padding: 0;\n",
              "    width: 32px;\n",
              "  }\n",
              "\n",
              "  .colab-df-quickchart:hover {\n",
              "    background-color: var(--hover-bg-color);\n",
              "    box-shadow: 0 1px 2px rgba(60, 64, 67, 0.3), 0 1px 3px 1px rgba(60, 64, 67, 0.15);\n",
              "    fill: var(--button-hover-fill-color);\n",
              "  }\n",
              "\n",
              "  .colab-df-quickchart-complete:disabled,\n",
              "  .colab-df-quickchart-complete:disabled:hover {\n",
              "    background-color: var(--disabled-bg-color);\n",
              "    fill: var(--disabled-fill-color);\n",
              "    box-shadow: none;\n",
              "  }\n",
              "\n",
              "  .colab-df-spinner {\n",
              "    border: 2px solid var(--fill-color);\n",
              "    border-color: transparent;\n",
              "    border-bottom-color: var(--fill-color);\n",
              "    animation:\n",
              "      spin 1s steps(1) infinite;\n",
              "  }\n",
              "\n",
              "  @keyframes spin {\n",
              "    0% {\n",
              "      border-color: transparent;\n",
              "      border-bottom-color: var(--fill-color);\n",
              "      border-left-color: var(--fill-color);\n",
              "    }\n",
              "    20% {\n",
              "      border-color: transparent;\n",
              "      border-left-color: var(--fill-color);\n",
              "      border-top-color: var(--fill-color);\n",
              "    }\n",
              "    30% {\n",
              "      border-color: transparent;\n",
              "      border-left-color: var(--fill-color);\n",
              "      border-top-color: var(--fill-color);\n",
              "      border-right-color: var(--fill-color);\n",
              "    }\n",
              "    40% {\n",
              "      border-color: transparent;\n",
              "      border-right-color: var(--fill-color);\n",
              "      border-top-color: var(--fill-color);\n",
              "    }\n",
              "    60% {\n",
              "      border-color: transparent;\n",
              "      border-right-color: var(--fill-color);\n",
              "    }\n",
              "    80% {\n",
              "      border-color: transparent;\n",
              "      border-right-color: var(--fill-color);\n",
              "      border-bottom-color: var(--fill-color);\n",
              "    }\n",
              "    90% {\n",
              "      border-color: transparent;\n",
              "      border-bottom-color: var(--fill-color);\n",
              "    }\n",
              "  }\n",
              "</style>\n",
              "\n",
              "  <script>\n",
              "    async function quickchart(key) {\n",
              "      const quickchartButtonEl =\n",
              "        document.querySelector('#' + key + ' button');\n",
              "      quickchartButtonEl.disabled = true;  // To prevent multiple clicks.\n",
              "      quickchartButtonEl.classList.add('colab-df-spinner');\n",
              "      try {\n",
              "        const charts = await google.colab.kernel.invokeFunction(\n",
              "            'suggestCharts', [key], {});\n",
              "      } catch (error) {\n",
              "        console.error('Error during call to suggestCharts:', error);\n",
              "      }\n",
              "      quickchartButtonEl.classList.remove('colab-df-spinner');\n",
              "      quickchartButtonEl.classList.add('colab-df-quickchart-complete');\n",
              "    }\n",
              "    (() => {\n",
              "      let quickchartButtonEl =\n",
              "        document.querySelector('#df-75b59861-0c25-47af-b959-7372f76c66bd button');\n",
              "      quickchartButtonEl.style.display =\n",
              "        google.colab.kernel.accessAllowed ? 'block' : 'none';\n",
              "    })();\n",
              "  </script>\n",
              "</div>\n",
              "    </div>\n",
              "  </div>\n"
            ]
          },
          "metadata": {},
          "execution_count": 60
        }
      ]
    },
    {
      "cell_type": "code",
      "source": [
        "powerDF.shape, praatAcousticFeatsDf.shape"
      ],
      "metadata": {
        "colab": {
          "base_uri": "https://localhost:8080/"
        },
        "outputId": "4440ac62-ffb7-49f9-f76b-d384f4c39b9e",
        "id": "eBVJ0Fuhz5Bl"
      },
      "execution_count": null,
      "outputs": [
        {
          "output_type": "execute_result",
          "data": {
            "text/plain": [
              "((1143, 4), (550, 9))"
            ]
          },
          "metadata": {},
          "execution_count": 61
        }
      ]
    },
    {
      "cell_type": "code",
      "source": [
        "# Reshape the array to have 50 columns (assuming the number of rows is a multiple of 50)\n",
        "dfArray = powerDF[:-1].to_numpy()\n",
        "reshaped_array = dfArray.reshape(-1, 2, dfArray.shape[1])\n",
        "\n",
        "# Calculate the mean along axis 1 (average every 5 rows)\n",
        "averaged_array = reshaped_array.mean(axis=1)\n",
        "\n",
        "# Create a new DataFrame from the averaged array\n",
        "columns = powerDF.columns  # Assuming you want to keep the same columns\n",
        "resampled_powerDF = pd.DataFrame(averaged_array, columns=columns)\n",
        "resampled_powerDF.shape"
      ],
      "metadata": {
        "colab": {
          "base_uri": "https://localhost:8080/"
        },
        "outputId": "102c8c41-bcdb-4640-9c4c-773237dc2e5c",
        "id": "_4q4B6_0z5Bl"
      },
      "execution_count": null,
      "outputs": [
        {
          "output_type": "execute_result",
          "data": {
            "text/plain": [
              "(571, 4)"
            ]
          },
          "metadata": {},
          "execution_count": 62
        }
      ]
    },
    {
      "cell_type": "code",
      "source": [
        "resampled_powerDF = resampled_powerDF.iloc[:praatAcousticFeatsDf.shape[0]]\n",
        "resampled_powerDF.shape"
      ],
      "metadata": {
        "colab": {
          "base_uri": "https://localhost:8080/"
        },
        "outputId": "6d548dfb-c680-4d90-b06c-86e732d8df49",
        "id": "RFQ6rV_Ez5Bm"
      },
      "execution_count": null,
      "outputs": [
        {
          "output_type": "execute_result",
          "data": {
            "text/plain": [
              "(550, 4)"
            ]
          },
          "metadata": {},
          "execution_count": 63
        }
      ]
    },
    {
      "cell_type": "code",
      "source": [
        "powerPraatDF = pd.concat([resampled_powerDF, praatAcousticFeatsDf], axis=1)\n",
        "powerPraatDF.head()"
      ],
      "metadata": {
        "colab": {
          "base_uri": "https://localhost:8080/",
          "height": 278
        },
        "outputId": "e46c6cf0-6983-42d5-cf38-e3839d811b71",
        "id": "pOkRS1XRz5Bm"
      },
      "execution_count": null,
      "outputs": [
        {
          "output_type": "execute_result",
          "data": {
            "text/plain": [
              "   Power: Left OFC  Power: Left vlPFC  Power: Right OFC  Power: Right vlPFC  \\\n",
              "0         7.158956           6.072877          5.908238            7.939723   \n",
              "1         7.022153           6.282623          7.794710           10.390830   \n",
              "2         6.670946          11.387367         10.050743            9.421598   \n",
              "3         4.279018          13.527752          7.794479           10.313778   \n",
              "4         6.869506           8.578950          7.288889            9.134564   \n",
              "\n",
              "   speechrate(nsyll / dur)  \\\n",
              "0                      0.0   \n",
              "1                      0.0   \n",
              "2                      0.0   \n",
              "3                      1.5   \n",
              "4                      3.0   \n",
              "\n",
              "   Average Syllable Duration (speakingtot/voicedcount)  \\\n",
              "0                                                NaN     \n",
              "1                                                NaN     \n",
              "2                                                NaN     \n",
              "3                                           0.445333     \n",
              "4                                           0.230667     \n",
              "\n",
              "   articulation rate(nsyll / phonationtime)  Speech-to-pause ratio  \\\n",
              "0                                       NaN                    NaN   \n",
              "1                                       NaN                    NaN   \n",
              "2                                       NaN                    NaN   \n",
              "3                                  2.245509               2.012048   \n",
              "4                                  4.335260               2.246753   \n",
              "\n",
              "   Mean Syllable Period  Variability of Syllable Period  Mean Pause Duration  \\\n",
              "0                   NaN                             NaN                  NaN   \n",
              "1                   NaN                             NaN                  NaN   \n",
              "2                   NaN                             NaN                  NaN   \n",
              "3              0.666667                        0.274689                0.664   \n",
              "4              0.333333                        0.254371                0.616   \n",
              "\n",
              "   Variability of Pause Duration  # of pauses  \n",
              "0                            NaN            1  \n",
              "1                            NaN            1  \n",
              "2                            NaN            1  \n",
              "3                            0.0            1  \n",
              "4                            0.0            1  "
            ],
            "text/html": [
              "\n",
              "  <div id=\"df-7b14e666-c3e2-4501-9fc8-f1e47d3c0be8\" class=\"colab-df-container\">\n",
              "    <div>\n",
              "<style scoped>\n",
              "    .dataframe tbody tr th:only-of-type {\n",
              "        vertical-align: middle;\n",
              "    }\n",
              "\n",
              "    .dataframe tbody tr th {\n",
              "        vertical-align: top;\n",
              "    }\n",
              "\n",
              "    .dataframe thead th {\n",
              "        text-align: right;\n",
              "    }\n",
              "</style>\n",
              "<table border=\"1\" class=\"dataframe\">\n",
              "  <thead>\n",
              "    <tr style=\"text-align: right;\">\n",
              "      <th></th>\n",
              "      <th>Power: Left OFC</th>\n",
              "      <th>Power: Left vlPFC</th>\n",
              "      <th>Power: Right OFC</th>\n",
              "      <th>Power: Right vlPFC</th>\n",
              "      <th>speechrate(nsyll / dur)</th>\n",
              "      <th>Average Syllable Duration (speakingtot/voicedcount)</th>\n",
              "      <th>articulation rate(nsyll / phonationtime)</th>\n",
              "      <th>Speech-to-pause ratio</th>\n",
              "      <th>Mean Syllable Period</th>\n",
              "      <th>Variability of Syllable Period</th>\n",
              "      <th>Mean Pause Duration</th>\n",
              "      <th>Variability of Pause Duration</th>\n",
              "      <th># of pauses</th>\n",
              "    </tr>\n",
              "  </thead>\n",
              "  <tbody>\n",
              "    <tr>\n",
              "      <th>0</th>\n",
              "      <td>7.158956</td>\n",
              "      <td>6.072877</td>\n",
              "      <td>5.908238</td>\n",
              "      <td>7.939723</td>\n",
              "      <td>0.0</td>\n",
              "      <td>NaN</td>\n",
              "      <td>NaN</td>\n",
              "      <td>NaN</td>\n",
              "      <td>NaN</td>\n",
              "      <td>NaN</td>\n",
              "      <td>NaN</td>\n",
              "      <td>NaN</td>\n",
              "      <td>1</td>\n",
              "    </tr>\n",
              "    <tr>\n",
              "      <th>1</th>\n",
              "      <td>7.022153</td>\n",
              "      <td>6.282623</td>\n",
              "      <td>7.794710</td>\n",
              "      <td>10.390830</td>\n",
              "      <td>0.0</td>\n",
              "      <td>NaN</td>\n",
              "      <td>NaN</td>\n",
              "      <td>NaN</td>\n",
              "      <td>NaN</td>\n",
              "      <td>NaN</td>\n",
              "      <td>NaN</td>\n",
              "      <td>NaN</td>\n",
              "      <td>1</td>\n",
              "    </tr>\n",
              "    <tr>\n",
              "      <th>2</th>\n",
              "      <td>6.670946</td>\n",
              "      <td>11.387367</td>\n",
              "      <td>10.050743</td>\n",
              "      <td>9.421598</td>\n",
              "      <td>0.0</td>\n",
              "      <td>NaN</td>\n",
              "      <td>NaN</td>\n",
              "      <td>NaN</td>\n",
              "      <td>NaN</td>\n",
              "      <td>NaN</td>\n",
              "      <td>NaN</td>\n",
              "      <td>NaN</td>\n",
              "      <td>1</td>\n",
              "    </tr>\n",
              "    <tr>\n",
              "      <th>3</th>\n",
              "      <td>4.279018</td>\n",
              "      <td>13.527752</td>\n",
              "      <td>7.794479</td>\n",
              "      <td>10.313778</td>\n",
              "      <td>1.5</td>\n",
              "      <td>0.445333</td>\n",
              "      <td>2.245509</td>\n",
              "      <td>2.012048</td>\n",
              "      <td>0.666667</td>\n",
              "      <td>0.274689</td>\n",
              "      <td>0.664</td>\n",
              "      <td>0.0</td>\n",
              "      <td>1</td>\n",
              "    </tr>\n",
              "    <tr>\n",
              "      <th>4</th>\n",
              "      <td>6.869506</td>\n",
              "      <td>8.578950</td>\n",
              "      <td>7.288889</td>\n",
              "      <td>9.134564</td>\n",
              "      <td>3.0</td>\n",
              "      <td>0.230667</td>\n",
              "      <td>4.335260</td>\n",
              "      <td>2.246753</td>\n",
              "      <td>0.333333</td>\n",
              "      <td>0.254371</td>\n",
              "      <td>0.616</td>\n",
              "      <td>0.0</td>\n",
              "      <td>1</td>\n",
              "    </tr>\n",
              "  </tbody>\n",
              "</table>\n",
              "</div>\n",
              "    <div class=\"colab-df-buttons\">\n",
              "\n",
              "  <div class=\"colab-df-container\">\n",
              "    <button class=\"colab-df-convert\" onclick=\"convertToInteractive('df-7b14e666-c3e2-4501-9fc8-f1e47d3c0be8')\"\n",
              "            title=\"Convert this dataframe to an interactive table.\"\n",
              "            style=\"display:none;\">\n",
              "\n",
              "  <svg xmlns=\"http://www.w3.org/2000/svg\" height=\"24px\" viewBox=\"0 -960 960 960\">\n",
              "    <path d=\"M120-120v-720h720v720H120Zm60-500h600v-160H180v160Zm220 220h160v-160H400v160Zm0 220h160v-160H400v160ZM180-400h160v-160H180v160Zm440 0h160v-160H620v160ZM180-180h160v-160H180v160Zm440 0h160v-160H620v160Z\"/>\n",
              "  </svg>\n",
              "    </button>\n",
              "\n",
              "  <style>\n",
              "    .colab-df-container {\n",
              "      display:flex;\n",
              "      gap: 12px;\n",
              "    }\n",
              "\n",
              "    .colab-df-convert {\n",
              "      background-color: #E8F0FE;\n",
              "      border: none;\n",
              "      border-radius: 50%;\n",
              "      cursor: pointer;\n",
              "      display: none;\n",
              "      fill: #1967D2;\n",
              "      height: 32px;\n",
              "      padding: 0 0 0 0;\n",
              "      width: 32px;\n",
              "    }\n",
              "\n",
              "    .colab-df-convert:hover {\n",
              "      background-color: #E2EBFA;\n",
              "      box-shadow: 0px 1px 2px rgba(60, 64, 67, 0.3), 0px 1px 3px 1px rgba(60, 64, 67, 0.15);\n",
              "      fill: #174EA6;\n",
              "    }\n",
              "\n",
              "    .colab-df-buttons div {\n",
              "      margin-bottom: 4px;\n",
              "    }\n",
              "\n",
              "    [theme=dark] .colab-df-convert {\n",
              "      background-color: #3B4455;\n",
              "      fill: #D2E3FC;\n",
              "    }\n",
              "\n",
              "    [theme=dark] .colab-df-convert:hover {\n",
              "      background-color: #434B5C;\n",
              "      box-shadow: 0px 1px 3px 1px rgba(0, 0, 0, 0.15);\n",
              "      filter: drop-shadow(0px 1px 2px rgba(0, 0, 0, 0.3));\n",
              "      fill: #FFFFFF;\n",
              "    }\n",
              "  </style>\n",
              "\n",
              "    <script>\n",
              "      const buttonEl =\n",
              "        document.querySelector('#df-7b14e666-c3e2-4501-9fc8-f1e47d3c0be8 button.colab-df-convert');\n",
              "      buttonEl.style.display =\n",
              "        google.colab.kernel.accessAllowed ? 'block' : 'none';\n",
              "\n",
              "      async function convertToInteractive(key) {\n",
              "        const element = document.querySelector('#df-7b14e666-c3e2-4501-9fc8-f1e47d3c0be8');\n",
              "        const dataTable =\n",
              "          await google.colab.kernel.invokeFunction('convertToInteractive',\n",
              "                                                    [key], {});\n",
              "        if (!dataTable) return;\n",
              "\n",
              "        const docLinkHtml = 'Like what you see? Visit the ' +\n",
              "          '<a target=\"_blank\" href=https://colab.research.google.com/notebooks/data_table.ipynb>data table notebook</a>'\n",
              "          + ' to learn more about interactive tables.';\n",
              "        element.innerHTML = '';\n",
              "        dataTable['output_type'] = 'display_data';\n",
              "        await google.colab.output.renderOutput(dataTable, element);\n",
              "        const docLink = document.createElement('div');\n",
              "        docLink.innerHTML = docLinkHtml;\n",
              "        element.appendChild(docLink);\n",
              "      }\n",
              "    </script>\n",
              "  </div>\n",
              "\n",
              "\n",
              "<div id=\"df-c006f440-2d56-4527-bdb6-a1db289e335a\">\n",
              "  <button class=\"colab-df-quickchart\" onclick=\"quickchart('df-c006f440-2d56-4527-bdb6-a1db289e335a')\"\n",
              "            title=\"Suggest charts\"\n",
              "            style=\"display:none;\">\n",
              "\n",
              "<svg xmlns=\"http://www.w3.org/2000/svg\" height=\"24px\"viewBox=\"0 0 24 24\"\n",
              "     width=\"24px\">\n",
              "    <g>\n",
              "        <path d=\"M19 3H5c-1.1 0-2 .9-2 2v14c0 1.1.9 2 2 2h14c1.1 0 2-.9 2-2V5c0-1.1-.9-2-2-2zM9 17H7v-7h2v7zm4 0h-2V7h2v10zm4 0h-2v-4h2v4z\"/>\n",
              "    </g>\n",
              "</svg>\n",
              "  </button>\n",
              "\n",
              "<style>\n",
              "  .colab-df-quickchart {\n",
              "      --bg-color: #E8F0FE;\n",
              "      --fill-color: #1967D2;\n",
              "      --hover-bg-color: #E2EBFA;\n",
              "      --hover-fill-color: #174EA6;\n",
              "      --disabled-fill-color: #AAA;\n",
              "      --disabled-bg-color: #DDD;\n",
              "  }\n",
              "\n",
              "  [theme=dark] .colab-df-quickchart {\n",
              "      --bg-color: #3B4455;\n",
              "      --fill-color: #D2E3FC;\n",
              "      --hover-bg-color: #434B5C;\n",
              "      --hover-fill-color: #FFFFFF;\n",
              "      --disabled-bg-color: #3B4455;\n",
              "      --disabled-fill-color: #666;\n",
              "  }\n",
              "\n",
              "  .colab-df-quickchart {\n",
              "    background-color: var(--bg-color);\n",
              "    border: none;\n",
              "    border-radius: 50%;\n",
              "    cursor: pointer;\n",
              "    display: none;\n",
              "    fill: var(--fill-color);\n",
              "    height: 32px;\n",
              "    padding: 0;\n",
              "    width: 32px;\n",
              "  }\n",
              "\n",
              "  .colab-df-quickchart:hover {\n",
              "    background-color: var(--hover-bg-color);\n",
              "    box-shadow: 0 1px 2px rgba(60, 64, 67, 0.3), 0 1px 3px 1px rgba(60, 64, 67, 0.15);\n",
              "    fill: var(--button-hover-fill-color);\n",
              "  }\n",
              "\n",
              "  .colab-df-quickchart-complete:disabled,\n",
              "  .colab-df-quickchart-complete:disabled:hover {\n",
              "    background-color: var(--disabled-bg-color);\n",
              "    fill: var(--disabled-fill-color);\n",
              "    box-shadow: none;\n",
              "  }\n",
              "\n",
              "  .colab-df-spinner {\n",
              "    border: 2px solid var(--fill-color);\n",
              "    border-color: transparent;\n",
              "    border-bottom-color: var(--fill-color);\n",
              "    animation:\n",
              "      spin 1s steps(1) infinite;\n",
              "  }\n",
              "\n",
              "  @keyframes spin {\n",
              "    0% {\n",
              "      border-color: transparent;\n",
              "      border-bottom-color: var(--fill-color);\n",
              "      border-left-color: var(--fill-color);\n",
              "    }\n",
              "    20% {\n",
              "      border-color: transparent;\n",
              "      border-left-color: var(--fill-color);\n",
              "      border-top-color: var(--fill-color);\n",
              "    }\n",
              "    30% {\n",
              "      border-color: transparent;\n",
              "      border-left-color: var(--fill-color);\n",
              "      border-top-color: var(--fill-color);\n",
              "      border-right-color: var(--fill-color);\n",
              "    }\n",
              "    40% {\n",
              "      border-color: transparent;\n",
              "      border-right-color: var(--fill-color);\n",
              "      border-top-color: var(--fill-color);\n",
              "    }\n",
              "    60% {\n",
              "      border-color: transparent;\n",
              "      border-right-color: var(--fill-color);\n",
              "    }\n",
              "    80% {\n",
              "      border-color: transparent;\n",
              "      border-right-color: var(--fill-color);\n",
              "      border-bottom-color: var(--fill-color);\n",
              "    }\n",
              "    90% {\n",
              "      border-color: transparent;\n",
              "      border-bottom-color: var(--fill-color);\n",
              "    }\n",
              "  }\n",
              "</style>\n",
              "\n",
              "  <script>\n",
              "    async function quickchart(key) {\n",
              "      const quickchartButtonEl =\n",
              "        document.querySelector('#' + key + ' button');\n",
              "      quickchartButtonEl.disabled = true;  // To prevent multiple clicks.\n",
              "      quickchartButtonEl.classList.add('colab-df-spinner');\n",
              "      try {\n",
              "        const charts = await google.colab.kernel.invokeFunction(\n",
              "            'suggestCharts', [key], {});\n",
              "      } catch (error) {\n",
              "        console.error('Error during call to suggestCharts:', error);\n",
              "      }\n",
              "      quickchartButtonEl.classList.remove('colab-df-spinner');\n",
              "      quickchartButtonEl.classList.add('colab-df-quickchart-complete');\n",
              "    }\n",
              "    (() => {\n",
              "      let quickchartButtonEl =\n",
              "        document.querySelector('#df-c006f440-2d56-4527-bdb6-a1db289e335a button');\n",
              "      quickchartButtonEl.style.display =\n",
              "        google.colab.kernel.accessAllowed ? 'block' : 'none';\n",
              "    })();\n",
              "  </script>\n",
              "</div>\n",
              "    </div>\n",
              "  </div>\n"
            ]
          },
          "metadata": {},
          "execution_count": 64
        }
      ]
    },
    {
      "cell_type": "code",
      "source": [
        "powerPraatDF.shape"
      ],
      "metadata": {
        "colab": {
          "base_uri": "https://localhost:8080/"
        },
        "outputId": "aeff10bb-da29-4283-c10a-36dd0c27c8f2",
        "id": "edlOY17Az5Bm"
      },
      "execution_count": null,
      "outputs": [
        {
          "output_type": "execute_result",
          "data": {
            "text/plain": [
              "(550, 13)"
            ]
          },
          "metadata": {},
          "execution_count": 65
        }
      ]
    },
    {
      "cell_type": "markdown",
      "source": [
        "Website to compute p value from r value and n: http://vassarstats.net/tabs_r.html"
      ],
      "metadata": {
        "id": "Za8fvEJfz5Bm"
      }
    },
    {
      "cell_type": "markdown",
      "source": [
        "Need r >= 0.077 for p < 0.01\n",
        "Need r >= 0.059 for p < 0.05"
      ],
      "metadata": {
        "id": "cNitq-hzz5Bm"
      }
    },
    {
      "cell_type": "code",
      "source": [
        "rValFor99ConfidenceLevel = 0.1098\n",
        "rValFor95ConfidenceLevel = 0.0837"
      ],
      "metadata": {
        "id": "uL5W8NYkz5Bm"
      },
      "execution_count": null,
      "outputs": []
    },
    {
      "cell_type": "code",
      "source": [],
      "metadata": {
        "id": "17WPZL5NVYEJ"
      },
      "execution_count": null,
      "outputs": []
    },
    {
      "cell_type": "markdown",
      "source": [
        "##random noise t-test (0)"
      ],
      "metadata": {
        "id": "Bbf5jEDMVYNC"
      }
    },
    {
      "cell_type": "code",
      "source": [
        "import numpy as np"
      ],
      "metadata": {
        "id": "42zHbIENVYNC"
      },
      "execution_count": null,
      "outputs": []
    },
    {
      "cell_type": "code",
      "source": [
        "# Set a seed for reproducibility (optional)\n",
        "np.random.seed(33)\n",
        "\n",
        "# Mean and standard deviation of the Gaussian distribution\n",
        "mean_value = 0\n",
        "std_dev = 1\n",
        "\n",
        "# Generate a random 1136-element numpy array from a Gaussian distribution\n",
        "random_array = np.random.normal(mean_value, std_dev, powerPraatDF.shape[0])\n"
      ],
      "metadata": {
        "id": "bsNfVFlYVYND"
      },
      "execution_count": null,
      "outputs": []
    },
    {
      "cell_type": "code",
      "source": [
        "powerPraatDF['Noise'] = random_array"
      ],
      "metadata": {
        "id": "WXNtANdSVYND"
      },
      "execution_count": null,
      "outputs": []
    },
    {
      "cell_type": "code",
      "source": [
        "powerPraatDF.corr()['Noise'][4:-1]#.abs()"
      ],
      "metadata": {
        "colab": {
          "base_uri": "https://localhost:8080/"
        },
        "outputId": "dfdce610-47de-4927-c4e8-84d5b6b747c3",
        "id": "NFOzWqTDVYND"
      },
      "execution_count": null,
      "outputs": [
        {
          "output_type": "execute_result",
          "data": {
            "text/plain": [
              "speechrate(nsyll / dur)                               -0.006220\n",
              "Average Syllable Duration (speakingtot/voicedcount)    0.037122\n",
              "articulation rate(nsyll / phonationtime)               0.013672\n",
              "Speech-to-pause ratio                                 -0.016617\n",
              "Mean Syllable Period                                   0.042890\n",
              "Variability of Syllable Period                        -0.024034\n",
              "Mean Pause Duration                                    0.053085\n",
              "Variability of Pause Duration                         -0.023963\n",
              "# of pauses                                           -0.004222\n",
              "Name: Noise, dtype: float64"
            ]
          },
          "metadata": {},
          "execution_count": 62
        }
      ]
    },
    {
      "cell_type": "code",
      "source": [
        "correlations_Noise = powerPraatDF.corr()['Noise'][4:-1]#.abs()"
      ],
      "metadata": {
        "id": "GO2lIaVLVYNE"
      },
      "execution_count": null,
      "outputs": []
    },
    {
      "cell_type": "code",
      "source": [
        "positiveCorrelationCondition = correlations_Noise > rValFor95ConfidenceLevel\n",
        "negativeCorrelationCondition = correlations_Noise < -1* rValFor95ConfidenceLevel\n",
        "noiseCorrelates = correlations_Noise[ positiveCorrelationCondition | negativeCorrelationCondition]\n",
        "noiseCorrelates.head = 'r'\n",
        "\n",
        "print(\"# of acoustic features where p < 0.05:\", len(noiseCorrelates))\n",
        "noiseCorrelates.nlargest(len(noiseCorrelates)) # for sorting"
      ],
      "metadata": {
        "colab": {
          "base_uri": "https://localhost:8080/"
        },
        "outputId": "793b5889-4dd6-4bf1-9393-ab2d0ca68090",
        "id": "dRP6JmlnVYNF"
      },
      "execution_count": null,
      "outputs": [
        {
          "output_type": "stream",
          "name": "stdout",
          "text": [
            "# of acoustic features where p < 0.05: 0\n"
          ]
        },
        {
          "output_type": "execute_result",
          "data": {
            "text/plain": [
              "Series([], Name: Noise, dtype: float64)"
            ]
          },
          "metadata": {},
          "execution_count": 64
        }
      ]
    },
    {
      "cell_type": "markdown",
      "source": [
        "##Right vLPFC (0)"
      ],
      "metadata": {
        "id": "NeWj6EaDz5Bn"
      }
    },
    {
      "cell_type": "code",
      "source": [
        "# Assuming powerAmplitudeAllLLDdf is your DataFrame\n",
        "correlations_Right_vlPFC = powerPraatDF.corr()['Power: Right vlPFC'][8:].abs()\n",
        "AcousticCorrelates99_Right_vlPFC = correlations_Right_vlPFC[correlations_Right_vlPFC > rValFor99ConfidenceLevel]\n",
        "print(\"# of acoustic features where p < 0.01:\", len(AcousticCorrelates99_Right_vlPFC))\n",
        "AcousticCorrelates99_Right_vlPFC.nlargest(len(AcousticCorrelates99_Right_vlPFC)) # for sorting"
      ],
      "metadata": {
        "colab": {
          "base_uri": "https://localhost:8080/"
        },
        "outputId": "5eed8993-c74a-49ff-abcd-7dfc7f6532b4",
        "id": "XEvPBt-7z5Bn"
      },
      "execution_count": null,
      "outputs": [
        {
          "output_type": "stream",
          "name": "stdout",
          "text": [
            "# of acoustic features where p < 0.01: 0\n"
          ]
        },
        {
          "output_type": "execute_result",
          "data": {
            "text/plain": [
              "Series([], Name: Power: Right vlPFC, dtype: float64)"
            ]
          },
          "metadata": {},
          "execution_count": 67
        }
      ]
    },
    {
      "cell_type": "code",
      "source": [
        "# Assuming powerAmplitudeAllLLDdf is your DataFrame\n",
        "AcousticCorrelates95_Right_vlPFC = correlations_Right_vlPFC[correlations_Right_vlPFC > rValFor95ConfidenceLevel]\n",
        "print(\"# of acoustic features where p < 0.05:\", len(AcousticCorrelates95_Right_vlPFC))\n",
        "AcousticCorrelates95_Right_vlPFC.nlargest(len(AcousticCorrelates95_Right_vlPFC)) # for sorting"
      ],
      "metadata": {
        "colab": {
          "base_uri": "https://localhost:8080/"
        },
        "outputId": "4fc180e5-ff19-4363-a678-842d9167a4db",
        "id": "aR18gpt7z5Bn"
      },
      "execution_count": null,
      "outputs": [
        {
          "output_type": "stream",
          "name": "stdout",
          "text": [
            "# of acoustic features where p < 0.05: 0\n"
          ]
        },
        {
          "output_type": "execute_result",
          "data": {
            "text/plain": [
              "Series([], Name: Power: Right vlPFC, dtype: float64)"
            ]
          },
          "metadata": {},
          "execution_count": 68
        }
      ]
    },
    {
      "cell_type": "code",
      "source": [
        "AcousticCorrelates95_Right_vlPFC.nlargest(10).index.tolist()"
      ],
      "metadata": {
        "colab": {
          "base_uri": "https://localhost:8080/"
        },
        "outputId": "a5151ac4-909d-4a8f-f0cd-391a5ca83112",
        "id": "KNpZkBDEz5Bn"
      },
      "execution_count": null,
      "outputs": [
        {
          "output_type": "execute_result",
          "data": {
            "text/plain": [
              "[]"
            ]
          },
          "metadata": {},
          "execution_count": 69
        }
      ]
    },
    {
      "cell_type": "markdown",
      "source": [
        "##Left vLPFC (3)"
      ],
      "metadata": {
        "id": "6C7MhohUz5Bn"
      }
    },
    {
      "cell_type": "code",
      "source": [
        "# Assuming powerAmplitudeAllLLDdf is your DataFrame\n",
        "correlations_Left_vlPFC = powerPraatDF.corr()['Power: Left vlPFC'][8:].abs()\n",
        "AcousticCorrelates99_Left_vlPFC = correlations_Left_vlPFC[correlations_Left_vlPFC > rValFor99ConfidenceLevel]\n",
        "print(\"# of acoustic features where p < 0.01:\", len(AcousticCorrelates99_Left_vlPFC))\n",
        "AcousticCorrelates99_Left_vlPFC.nlargest(len(AcousticCorrelates99_Left_vlPFC)) # for sorting"
      ],
      "metadata": {
        "colab": {
          "base_uri": "https://localhost:8080/"
        },
        "outputId": "9255e3ef-b096-4bf3-e582-58db3293cd39",
        "id": "UMgBlI_3z5Bn"
      },
      "execution_count": null,
      "outputs": [
        {
          "output_type": "stream",
          "name": "stdout",
          "text": [
            "# of acoustic features where p < 0.01: 1\n"
          ]
        },
        {
          "output_type": "execute_result",
          "data": {
            "text/plain": [
              "Mean Pause Duration    0.16328\n",
              "Name: Power: Left vlPFC, dtype: float64"
            ]
          },
          "metadata": {},
          "execution_count": 70
        }
      ]
    },
    {
      "cell_type": "code",
      "source": [
        "# Assuming powerAmplitudeAllLLDdf is your DataFrame\n",
        "AcousticCorrelates95_Left_vlPFC = correlations_Left_vlPFC[correlations_Left_vlPFC > rValFor95ConfidenceLevel]\n",
        "print(\"# of acoustic features where p < 0.05:\", len(AcousticCorrelates95_Left_vlPFC))\n",
        "AcousticCorrelates95_Left_vlPFC.nlargest(len(AcousticCorrelates95_Left_vlPFC)) # for sorting"
      ],
      "metadata": {
        "colab": {
          "base_uri": "https://localhost:8080/"
        },
        "outputId": "713ee8e8-ac7f-409e-b1c5-5c7391a9f46a",
        "id": "LfGlSXoDz5Bn"
      },
      "execution_count": null,
      "outputs": [
        {
          "output_type": "stream",
          "name": "stdout",
          "text": [
            "# of acoustic features where p < 0.05: 3\n"
          ]
        },
        {
          "output_type": "execute_result",
          "data": {
            "text/plain": [
              "Mean Pause Duration               0.163280\n",
              "Mean Syllable Period              0.109451\n",
              "Variability of Syllable Period    0.102861\n",
              "Name: Power: Left vlPFC, dtype: float64"
            ]
          },
          "metadata": {},
          "execution_count": 71
        }
      ]
    },
    {
      "cell_type": "code",
      "source": [
        "AcousticCorrelates95_Left_vlPFC.nlargest(10).index.tolist()"
      ],
      "metadata": {
        "colab": {
          "base_uri": "https://localhost:8080/"
        },
        "outputId": "073f0d92-2ce2-4ab8-9776-073fd45f0cf0",
        "id": "UrxzlzSzz5Bn"
      },
      "execution_count": null,
      "outputs": [
        {
          "output_type": "execute_result",
          "data": {
            "text/plain": [
              "['Mean Pause Duration',\n",
              " 'Mean Syllable Period',\n",
              " 'Variability of Syllable Period']"
            ]
          },
          "metadata": {},
          "execution_count": 72
        }
      ]
    },
    {
      "cell_type": "markdown",
      "source": [
        "##Right OFC (1)"
      ],
      "metadata": {
        "id": "AvNZh2tYz5Bo"
      }
    },
    {
      "cell_type": "code",
      "source": [
        "# Assuming powerAmplitudeAllLLDdf is your DataFrame\n",
        "correlations_Right_OFC = powerPraatDF.corr()['Power: Right OFC'][8:].abs()\n",
        "AcousticCorrelates99_Right_OFC = correlations_Right_OFC[correlations_Right_OFC > rValFor99ConfidenceLevel]\n",
        "print(\"# of acoustic features where p < 0.01:\", len(AcousticCorrelates99_Right_OFC))\n",
        "AcousticCorrelates99_Right_OFC.nlargest(len(AcousticCorrelates99_Right_OFC)) # for sorting"
      ],
      "metadata": {
        "colab": {
          "base_uri": "https://localhost:8080/"
        },
        "outputId": "f12acb89-c02d-4f61-b2b7-85c2b9ddaf4a",
        "id": "eKLaATa3z5Bo"
      },
      "execution_count": null,
      "outputs": [
        {
          "output_type": "stream",
          "name": "stdout",
          "text": [
            "# of acoustic features where p < 0.01: 0\n"
          ]
        },
        {
          "output_type": "execute_result",
          "data": {
            "text/plain": [
              "Series([], Name: Power: Right OFC, dtype: float64)"
            ]
          },
          "metadata": {},
          "execution_count": 73
        }
      ]
    },
    {
      "cell_type": "code",
      "source": [
        "# Assuming powerAmplitudeAllLLDdf is your DataFrame\n",
        "AcousticCorrelates95_Right_OFC = correlations_Right_OFC[correlations_Right_OFC > rValFor95ConfidenceLevel]\n",
        "print(\"# of acoustic features where p < 0.05:\", len(AcousticCorrelates95_Right_OFC))\n",
        "AcousticCorrelates95_Right_OFC.nlargest(len(AcousticCorrelates95_Right_OFC)) # for sorting"
      ],
      "metadata": {
        "colab": {
          "base_uri": "https://localhost:8080/"
        },
        "outputId": "15826da7-3bc9-4e6d-9d15-a05afe1fc8b9",
        "id": "MC9YKNmxz5Bo"
      },
      "execution_count": null,
      "outputs": [
        {
          "output_type": "stream",
          "name": "stdout",
          "text": [
            "# of acoustic features where p < 0.05: 1\n"
          ]
        },
        {
          "output_type": "execute_result",
          "data": {
            "text/plain": [
              "# of pauses    0.086592\n",
              "Name: Power: Right OFC, dtype: float64"
            ]
          },
          "metadata": {},
          "execution_count": 74
        }
      ]
    },
    {
      "cell_type": "code",
      "source": [
        "AcousticCorrelates95_Right_OFC.nlargest(10).index.tolist()"
      ],
      "metadata": {
        "colab": {
          "base_uri": "https://localhost:8080/"
        },
        "outputId": "200e6d4f-2b18-4c0f-fd00-32c858c53224",
        "id": "lFmo26Szz5Bo"
      },
      "execution_count": null,
      "outputs": [
        {
          "output_type": "execute_result",
          "data": {
            "text/plain": [
              "['# of pauses']"
            ]
          },
          "metadata": {},
          "execution_count": 75
        }
      ]
    },
    {
      "cell_type": "markdown",
      "source": [
        "##Left OFC (0)"
      ],
      "metadata": {
        "id": "EhFyzcuoz5Bo"
      }
    },
    {
      "cell_type": "code",
      "source": [
        "# Assuming powerAmplitudeAllLLDdf is your DataFrame\n",
        "correlations_Left_OFC = powerPraatDF.corr()['Power: Left OFC'][8:].abs()\n",
        "AcousticCorrelates99_Left_OFC = correlations_Left_OFC[correlations_Left_OFC > rValFor99ConfidenceLevel]\n",
        "print(\"# of acoustic features where p < 0.01:\", len(AcousticCorrelates99_Left_OFC))\n",
        "AcousticCorrelates99_Left_OFC.nlargest(len(AcousticCorrelates99_Left_OFC)) # for sorting"
      ],
      "metadata": {
        "colab": {
          "base_uri": "https://localhost:8080/"
        },
        "outputId": "41060f66-825d-488b-80d8-2c22627feb31",
        "id": "-a5P26Flz5Bo"
      },
      "execution_count": null,
      "outputs": [
        {
          "output_type": "stream",
          "name": "stdout",
          "text": [
            "# of acoustic features where p < 0.01: 0\n"
          ]
        },
        {
          "output_type": "execute_result",
          "data": {
            "text/plain": [
              "Series([], Name: Power: Left OFC, dtype: float64)"
            ]
          },
          "metadata": {},
          "execution_count": 78
        }
      ]
    },
    {
      "cell_type": "code",
      "source": [
        "# Assuming powerAmplitudeAllLLDdf is your DataFrame\n",
        "AcousticCorrelates95_Left_OFC = correlations_Left_OFC[correlations_Left_OFC > rValFor95ConfidenceLevel]\n",
        "print(\"# of acoustic features where p < 0.05:\", len(AcousticCorrelates95_Left_OFC))\n",
        "AcousticCorrelates95_Left_OFC.nlargest(len(AcousticCorrelates95_Left_OFC)) # for sorting"
      ],
      "metadata": {
        "colab": {
          "base_uri": "https://localhost:8080/"
        },
        "outputId": "3bf293ad-6193-48ec-fa60-c54147c3468a",
        "id": "KJH3i0Mdz5Bo"
      },
      "execution_count": null,
      "outputs": [
        {
          "output_type": "stream",
          "name": "stdout",
          "text": [
            "# of acoustic features where p < 0.05: 0\n"
          ]
        },
        {
          "output_type": "execute_result",
          "data": {
            "text/plain": [
              "Series([], Name: Power: Left OFC, dtype: float64)"
            ]
          },
          "metadata": {},
          "execution_count": 79
        }
      ]
    },
    {
      "cell_type": "code",
      "source": [],
      "metadata": {
        "id": "NmWnvHPW1MNW"
      },
      "execution_count": null,
      "outputs": []
    },
    {
      "cell_type": "markdown",
      "source": [
        "#Feb 27 Experiment 1 (Waiting for Sameer)"
      ],
      "metadata": {
        "id": "TKqCPTXK1MRO"
      }
    },
    {
      "cell_type": "markdown",
      "source": [
        "##read in files"
      ],
      "metadata": {
        "id": "duPENVQJ1MRP"
      }
    },
    {
      "cell_type": "code",
      "source": [
        "powerDF = pd.read_csv('2023-02-27-Experiment1-Power-Amplitude.csv')\n",
        "del powerDF['Unnamed: 0']\n",
        "powerDF.head()"
      ],
      "metadata": {
        "colab": {
          "base_uri": "https://localhost:8080/",
          "height": 206
        },
        "outputId": "431acbaa-4a22-4f39-cab0-99320fa04245",
        "id": "0S2xqa0e1MRP"
      },
      "execution_count": null,
      "outputs": [
        {
          "output_type": "execute_result",
          "data": {
            "text/plain": [
              "   Power: Left OFC  Power: Left vlPFC  Power: Right OFC  Power: Right vlPFC\n",
              "0         5.686801           9.739613          8.195255            8.018249\n",
              "1         9.301764          10.138419          5.699974            8.329905\n",
              "2         3.541367           9.768278          4.449306           13.404476\n",
              "3         8.466536           6.540455         10.163884           11.027338\n",
              "4        11.272942           8.775278          9.911861           12.002101"
            ],
            "text/html": [
              "\n",
              "  <div id=\"df-863cd5ec-5881-4735-a69d-486dc0b7f0fc\" class=\"colab-df-container\">\n",
              "    <div>\n",
              "<style scoped>\n",
              "    .dataframe tbody tr th:only-of-type {\n",
              "        vertical-align: middle;\n",
              "    }\n",
              "\n",
              "    .dataframe tbody tr th {\n",
              "        vertical-align: top;\n",
              "    }\n",
              "\n",
              "    .dataframe thead th {\n",
              "        text-align: right;\n",
              "    }\n",
              "</style>\n",
              "<table border=\"1\" class=\"dataframe\">\n",
              "  <thead>\n",
              "    <tr style=\"text-align: right;\">\n",
              "      <th></th>\n",
              "      <th>Power: Left OFC</th>\n",
              "      <th>Power: Left vlPFC</th>\n",
              "      <th>Power: Right OFC</th>\n",
              "      <th>Power: Right vlPFC</th>\n",
              "    </tr>\n",
              "  </thead>\n",
              "  <tbody>\n",
              "    <tr>\n",
              "      <th>0</th>\n",
              "      <td>5.686801</td>\n",
              "      <td>9.739613</td>\n",
              "      <td>8.195255</td>\n",
              "      <td>8.018249</td>\n",
              "    </tr>\n",
              "    <tr>\n",
              "      <th>1</th>\n",
              "      <td>9.301764</td>\n",
              "      <td>10.138419</td>\n",
              "      <td>5.699974</td>\n",
              "      <td>8.329905</td>\n",
              "    </tr>\n",
              "    <tr>\n",
              "      <th>2</th>\n",
              "      <td>3.541367</td>\n",
              "      <td>9.768278</td>\n",
              "      <td>4.449306</td>\n",
              "      <td>13.404476</td>\n",
              "    </tr>\n",
              "    <tr>\n",
              "      <th>3</th>\n",
              "      <td>8.466536</td>\n",
              "      <td>6.540455</td>\n",
              "      <td>10.163884</td>\n",
              "      <td>11.027338</td>\n",
              "    </tr>\n",
              "    <tr>\n",
              "      <th>4</th>\n",
              "      <td>11.272942</td>\n",
              "      <td>8.775278</td>\n",
              "      <td>9.911861</td>\n",
              "      <td>12.002101</td>\n",
              "    </tr>\n",
              "  </tbody>\n",
              "</table>\n",
              "</div>\n",
              "    <div class=\"colab-df-buttons\">\n",
              "\n",
              "  <div class=\"colab-df-container\">\n",
              "    <button class=\"colab-df-convert\" onclick=\"convertToInteractive('df-863cd5ec-5881-4735-a69d-486dc0b7f0fc')\"\n",
              "            title=\"Convert this dataframe to an interactive table.\"\n",
              "            style=\"display:none;\">\n",
              "\n",
              "  <svg xmlns=\"http://www.w3.org/2000/svg\" height=\"24px\" viewBox=\"0 -960 960 960\">\n",
              "    <path d=\"M120-120v-720h720v720H120Zm60-500h600v-160H180v160Zm220 220h160v-160H400v160Zm0 220h160v-160H400v160ZM180-400h160v-160H180v160Zm440 0h160v-160H620v160ZM180-180h160v-160H180v160Zm440 0h160v-160H620v160Z\"/>\n",
              "  </svg>\n",
              "    </button>\n",
              "\n",
              "  <style>\n",
              "    .colab-df-container {\n",
              "      display:flex;\n",
              "      gap: 12px;\n",
              "    }\n",
              "\n",
              "    .colab-df-convert {\n",
              "      background-color: #E8F0FE;\n",
              "      border: none;\n",
              "      border-radius: 50%;\n",
              "      cursor: pointer;\n",
              "      display: none;\n",
              "      fill: #1967D2;\n",
              "      height: 32px;\n",
              "      padding: 0 0 0 0;\n",
              "      width: 32px;\n",
              "    }\n",
              "\n",
              "    .colab-df-convert:hover {\n",
              "      background-color: #E2EBFA;\n",
              "      box-shadow: 0px 1px 2px rgba(60, 64, 67, 0.3), 0px 1px 3px 1px rgba(60, 64, 67, 0.15);\n",
              "      fill: #174EA6;\n",
              "    }\n",
              "\n",
              "    .colab-df-buttons div {\n",
              "      margin-bottom: 4px;\n",
              "    }\n",
              "\n",
              "    [theme=dark] .colab-df-convert {\n",
              "      background-color: #3B4455;\n",
              "      fill: #D2E3FC;\n",
              "    }\n",
              "\n",
              "    [theme=dark] .colab-df-convert:hover {\n",
              "      background-color: #434B5C;\n",
              "      box-shadow: 0px 1px 3px 1px rgba(0, 0, 0, 0.15);\n",
              "      filter: drop-shadow(0px 1px 2px rgba(0, 0, 0, 0.3));\n",
              "      fill: #FFFFFF;\n",
              "    }\n",
              "  </style>\n",
              "\n",
              "    <script>\n",
              "      const buttonEl =\n",
              "        document.querySelector('#df-863cd5ec-5881-4735-a69d-486dc0b7f0fc button.colab-df-convert');\n",
              "      buttonEl.style.display =\n",
              "        google.colab.kernel.accessAllowed ? 'block' : 'none';\n",
              "\n",
              "      async function convertToInteractive(key) {\n",
              "        const element = document.querySelector('#df-863cd5ec-5881-4735-a69d-486dc0b7f0fc');\n",
              "        const dataTable =\n",
              "          await google.colab.kernel.invokeFunction('convertToInteractive',\n",
              "                                                    [key], {});\n",
              "        if (!dataTable) return;\n",
              "\n",
              "        const docLinkHtml = 'Like what you see? Visit the ' +\n",
              "          '<a target=\"_blank\" href=https://colab.research.google.com/notebooks/data_table.ipynb>data table notebook</a>'\n",
              "          + ' to learn more about interactive tables.';\n",
              "        element.innerHTML = '';\n",
              "        dataTable['output_type'] = 'display_data';\n",
              "        await google.colab.output.renderOutput(dataTable, element);\n",
              "        const docLink = document.createElement('div');\n",
              "        docLink.innerHTML = docLinkHtml;\n",
              "        element.appendChild(docLink);\n",
              "      }\n",
              "    </script>\n",
              "  </div>\n",
              "\n",
              "\n",
              "<div id=\"df-bc5efa37-d95e-492d-a09b-fb4dba078641\">\n",
              "  <button class=\"colab-df-quickchart\" onclick=\"quickchart('df-bc5efa37-d95e-492d-a09b-fb4dba078641')\"\n",
              "            title=\"Suggest charts\"\n",
              "            style=\"display:none;\">\n",
              "\n",
              "<svg xmlns=\"http://www.w3.org/2000/svg\" height=\"24px\"viewBox=\"0 0 24 24\"\n",
              "     width=\"24px\">\n",
              "    <g>\n",
              "        <path d=\"M19 3H5c-1.1 0-2 .9-2 2v14c0 1.1.9 2 2 2h14c1.1 0 2-.9 2-2V5c0-1.1-.9-2-2-2zM9 17H7v-7h2v7zm4 0h-2V7h2v10zm4 0h-2v-4h2v4z\"/>\n",
              "    </g>\n",
              "</svg>\n",
              "  </button>\n",
              "\n",
              "<style>\n",
              "  .colab-df-quickchart {\n",
              "      --bg-color: #E8F0FE;\n",
              "      --fill-color: #1967D2;\n",
              "      --hover-bg-color: #E2EBFA;\n",
              "      --hover-fill-color: #174EA6;\n",
              "      --disabled-fill-color: #AAA;\n",
              "      --disabled-bg-color: #DDD;\n",
              "  }\n",
              "\n",
              "  [theme=dark] .colab-df-quickchart {\n",
              "      --bg-color: #3B4455;\n",
              "      --fill-color: #D2E3FC;\n",
              "      --hover-bg-color: #434B5C;\n",
              "      --hover-fill-color: #FFFFFF;\n",
              "      --disabled-bg-color: #3B4455;\n",
              "      --disabled-fill-color: #666;\n",
              "  }\n",
              "\n",
              "  .colab-df-quickchart {\n",
              "    background-color: var(--bg-color);\n",
              "    border: none;\n",
              "    border-radius: 50%;\n",
              "    cursor: pointer;\n",
              "    display: none;\n",
              "    fill: var(--fill-color);\n",
              "    height: 32px;\n",
              "    padding: 0;\n",
              "    width: 32px;\n",
              "  }\n",
              "\n",
              "  .colab-df-quickchart:hover {\n",
              "    background-color: var(--hover-bg-color);\n",
              "    box-shadow: 0 1px 2px rgba(60, 64, 67, 0.3), 0 1px 3px 1px rgba(60, 64, 67, 0.15);\n",
              "    fill: var(--button-hover-fill-color);\n",
              "  }\n",
              "\n",
              "  .colab-df-quickchart-complete:disabled,\n",
              "  .colab-df-quickchart-complete:disabled:hover {\n",
              "    background-color: var(--disabled-bg-color);\n",
              "    fill: var(--disabled-fill-color);\n",
              "    box-shadow: none;\n",
              "  }\n",
              "\n",
              "  .colab-df-spinner {\n",
              "    border: 2px solid var(--fill-color);\n",
              "    border-color: transparent;\n",
              "    border-bottom-color: var(--fill-color);\n",
              "    animation:\n",
              "      spin 1s steps(1) infinite;\n",
              "  }\n",
              "\n",
              "  @keyframes spin {\n",
              "    0% {\n",
              "      border-color: transparent;\n",
              "      border-bottom-color: var(--fill-color);\n",
              "      border-left-color: var(--fill-color);\n",
              "    }\n",
              "    20% {\n",
              "      border-color: transparent;\n",
              "      border-left-color: var(--fill-color);\n",
              "      border-top-color: var(--fill-color);\n",
              "    }\n",
              "    30% {\n",
              "      border-color: transparent;\n",
              "      border-left-color: var(--fill-color);\n",
              "      border-top-color: var(--fill-color);\n",
              "      border-right-color: var(--fill-color);\n",
              "    }\n",
              "    40% {\n",
              "      border-color: transparent;\n",
              "      border-right-color: var(--fill-color);\n",
              "      border-top-color: var(--fill-color);\n",
              "    }\n",
              "    60% {\n",
              "      border-color: transparent;\n",
              "      border-right-color: var(--fill-color);\n",
              "    }\n",
              "    80% {\n",
              "      border-color: transparent;\n",
              "      border-right-color: var(--fill-color);\n",
              "      border-bottom-color: var(--fill-color);\n",
              "    }\n",
              "    90% {\n",
              "      border-color: transparent;\n",
              "      border-bottom-color: var(--fill-color);\n",
              "    }\n",
              "  }\n",
              "</style>\n",
              "\n",
              "  <script>\n",
              "    async function quickchart(key) {\n",
              "      const quickchartButtonEl =\n",
              "        document.querySelector('#' + key + ' button');\n",
              "      quickchartButtonEl.disabled = true;  // To prevent multiple clicks.\n",
              "      quickchartButtonEl.classList.add('colab-df-spinner');\n",
              "      try {\n",
              "        const charts = await google.colab.kernel.invokeFunction(\n",
              "            'suggestCharts', [key], {});\n",
              "      } catch (error) {\n",
              "        console.error('Error during call to suggestCharts:', error);\n",
              "      }\n",
              "      quickchartButtonEl.classList.remove('colab-df-spinner');\n",
              "      quickchartButtonEl.classList.add('colab-df-quickchart-complete');\n",
              "    }\n",
              "    (() => {\n",
              "      let quickchartButtonEl =\n",
              "        document.querySelector('#df-bc5efa37-d95e-492d-a09b-fb4dba078641 button');\n",
              "      quickchartButtonEl.style.display =\n",
              "        google.colab.kernel.accessAllowed ? 'block' : 'none';\n",
              "    })();\n",
              "  </script>\n",
              "</div>\n",
              "    </div>\n",
              "  </div>\n"
            ]
          },
          "metadata": {},
          "execution_count": 2
        }
      ]
    },
    {
      "cell_type": "code",
      "source": [
        "praatAcousticFeatsDf = pd.read_csv('Feb27ExperimentOnePerTwoSecondPraatFeatures.csv')\n",
        "del praatAcousticFeatsDf['Unnamed: 0'], praatAcousticFeatsDf['Time (secs)']\n",
        "praatAcousticFeatsDf.head()"
      ],
      "metadata": {
        "colab": {
          "base_uri": "https://localhost:8080/",
          "height": 224
        },
        "outputId": "ecec0937-4b2b-40a1-cf29-8dd6b433f5dc",
        "id": "ZGylCkN51MRP"
      },
      "execution_count": null,
      "outputs": [
        {
          "output_type": "execute_result",
          "data": {
            "text/plain": [
              "   speechrate(nsyll / dur)  \\\n",
              "0                      0.0   \n",
              "1                      0.0   \n",
              "2                      0.0   \n",
              "3                      0.0   \n",
              "4                      0.0   \n",
              "\n",
              "   Average Syllable Duration (speakingtot/voicedcount)  \\\n",
              "0                                                NaN     \n",
              "1                                                NaN     \n",
              "2                                                NaN     \n",
              "3                                                NaN     \n",
              "4                                                NaN     \n",
              "\n",
              "   articulation rate(nsyll / phonationtime)  Speech-to-pause ratio  \\\n",
              "0                                       NaN                    NaN   \n",
              "1                                       NaN                    NaN   \n",
              "2                                       NaN                    NaN   \n",
              "3                                       NaN                    NaN   \n",
              "4                                       NaN                    NaN   \n",
              "\n",
              "   Mean Syllable Period  Variability of Syllable Period  Mean Pause Duration  \\\n",
              "0                   NaN                             NaN                  NaN   \n",
              "1                   NaN                             NaN                  NaN   \n",
              "2                   NaN                             NaN                  NaN   \n",
              "3                   NaN                             NaN                  NaN   \n",
              "4                   NaN                             NaN                  NaN   \n",
              "\n",
              "   Variability of Pause Duration  # of pauses  \n",
              "0                            NaN            1  \n",
              "1                            NaN            1  \n",
              "2                            NaN            1  \n",
              "3                            NaN            1  \n",
              "4                            NaN            1  "
            ],
            "text/html": [
              "\n",
              "  <div id=\"df-e6f0067d-458d-400b-9471-d19801c80a86\" class=\"colab-df-container\">\n",
              "    <div>\n",
              "<style scoped>\n",
              "    .dataframe tbody tr th:only-of-type {\n",
              "        vertical-align: middle;\n",
              "    }\n",
              "\n",
              "    .dataframe tbody tr th {\n",
              "        vertical-align: top;\n",
              "    }\n",
              "\n",
              "    .dataframe thead th {\n",
              "        text-align: right;\n",
              "    }\n",
              "</style>\n",
              "<table border=\"1\" class=\"dataframe\">\n",
              "  <thead>\n",
              "    <tr style=\"text-align: right;\">\n",
              "      <th></th>\n",
              "      <th>speechrate(nsyll / dur)</th>\n",
              "      <th>Average Syllable Duration (speakingtot/voicedcount)</th>\n",
              "      <th>articulation rate(nsyll / phonationtime)</th>\n",
              "      <th>Speech-to-pause ratio</th>\n",
              "      <th>Mean Syllable Period</th>\n",
              "      <th>Variability of Syllable Period</th>\n",
              "      <th>Mean Pause Duration</th>\n",
              "      <th>Variability of Pause Duration</th>\n",
              "      <th># of pauses</th>\n",
              "    </tr>\n",
              "  </thead>\n",
              "  <tbody>\n",
              "    <tr>\n",
              "      <th>0</th>\n",
              "      <td>0.0</td>\n",
              "      <td>NaN</td>\n",
              "      <td>NaN</td>\n",
              "      <td>NaN</td>\n",
              "      <td>NaN</td>\n",
              "      <td>NaN</td>\n",
              "      <td>NaN</td>\n",
              "      <td>NaN</td>\n",
              "      <td>1</td>\n",
              "    </tr>\n",
              "    <tr>\n",
              "      <th>1</th>\n",
              "      <td>0.0</td>\n",
              "      <td>NaN</td>\n",
              "      <td>NaN</td>\n",
              "      <td>NaN</td>\n",
              "      <td>NaN</td>\n",
              "      <td>NaN</td>\n",
              "      <td>NaN</td>\n",
              "      <td>NaN</td>\n",
              "      <td>1</td>\n",
              "    </tr>\n",
              "    <tr>\n",
              "      <th>2</th>\n",
              "      <td>0.0</td>\n",
              "      <td>NaN</td>\n",
              "      <td>NaN</td>\n",
              "      <td>NaN</td>\n",
              "      <td>NaN</td>\n",
              "      <td>NaN</td>\n",
              "      <td>NaN</td>\n",
              "      <td>NaN</td>\n",
              "      <td>1</td>\n",
              "    </tr>\n",
              "    <tr>\n",
              "      <th>3</th>\n",
              "      <td>0.0</td>\n",
              "      <td>NaN</td>\n",
              "      <td>NaN</td>\n",
              "      <td>NaN</td>\n",
              "      <td>NaN</td>\n",
              "      <td>NaN</td>\n",
              "      <td>NaN</td>\n",
              "      <td>NaN</td>\n",
              "      <td>1</td>\n",
              "    </tr>\n",
              "    <tr>\n",
              "      <th>4</th>\n",
              "      <td>0.0</td>\n",
              "      <td>NaN</td>\n",
              "      <td>NaN</td>\n",
              "      <td>NaN</td>\n",
              "      <td>NaN</td>\n",
              "      <td>NaN</td>\n",
              "      <td>NaN</td>\n",
              "      <td>NaN</td>\n",
              "      <td>1</td>\n",
              "    </tr>\n",
              "  </tbody>\n",
              "</table>\n",
              "</div>\n",
              "    <div class=\"colab-df-buttons\">\n",
              "\n",
              "  <div class=\"colab-df-container\">\n",
              "    <button class=\"colab-df-convert\" onclick=\"convertToInteractive('df-e6f0067d-458d-400b-9471-d19801c80a86')\"\n",
              "            title=\"Convert this dataframe to an interactive table.\"\n",
              "            style=\"display:none;\">\n",
              "\n",
              "  <svg xmlns=\"http://www.w3.org/2000/svg\" height=\"24px\" viewBox=\"0 -960 960 960\">\n",
              "    <path d=\"M120-120v-720h720v720H120Zm60-500h600v-160H180v160Zm220 220h160v-160H400v160Zm0 220h160v-160H400v160ZM180-400h160v-160H180v160Zm440 0h160v-160H620v160ZM180-180h160v-160H180v160Zm440 0h160v-160H620v160Z\"/>\n",
              "  </svg>\n",
              "    </button>\n",
              "\n",
              "  <style>\n",
              "    .colab-df-container {\n",
              "      display:flex;\n",
              "      gap: 12px;\n",
              "    }\n",
              "\n",
              "    .colab-df-convert {\n",
              "      background-color: #E8F0FE;\n",
              "      border: none;\n",
              "      border-radius: 50%;\n",
              "      cursor: pointer;\n",
              "      display: none;\n",
              "      fill: #1967D2;\n",
              "      height: 32px;\n",
              "      padding: 0 0 0 0;\n",
              "      width: 32px;\n",
              "    }\n",
              "\n",
              "    .colab-df-convert:hover {\n",
              "      background-color: #E2EBFA;\n",
              "      box-shadow: 0px 1px 2px rgba(60, 64, 67, 0.3), 0px 1px 3px 1px rgba(60, 64, 67, 0.15);\n",
              "      fill: #174EA6;\n",
              "    }\n",
              "\n",
              "    .colab-df-buttons div {\n",
              "      margin-bottom: 4px;\n",
              "    }\n",
              "\n",
              "    [theme=dark] .colab-df-convert {\n",
              "      background-color: #3B4455;\n",
              "      fill: #D2E3FC;\n",
              "    }\n",
              "\n",
              "    [theme=dark] .colab-df-convert:hover {\n",
              "      background-color: #434B5C;\n",
              "      box-shadow: 0px 1px 3px 1px rgba(0, 0, 0, 0.15);\n",
              "      filter: drop-shadow(0px 1px 2px rgba(0, 0, 0, 0.3));\n",
              "      fill: #FFFFFF;\n",
              "    }\n",
              "  </style>\n",
              "\n",
              "    <script>\n",
              "      const buttonEl =\n",
              "        document.querySelector('#df-e6f0067d-458d-400b-9471-d19801c80a86 button.colab-df-convert');\n",
              "      buttonEl.style.display =\n",
              "        google.colab.kernel.accessAllowed ? 'block' : 'none';\n",
              "\n",
              "      async function convertToInteractive(key) {\n",
              "        const element = document.querySelector('#df-e6f0067d-458d-400b-9471-d19801c80a86');\n",
              "        const dataTable =\n",
              "          await google.colab.kernel.invokeFunction('convertToInteractive',\n",
              "                                                    [key], {});\n",
              "        if (!dataTable) return;\n",
              "\n",
              "        const docLinkHtml = 'Like what you see? Visit the ' +\n",
              "          '<a target=\"_blank\" href=https://colab.research.google.com/notebooks/data_table.ipynb>data table notebook</a>'\n",
              "          + ' to learn more about interactive tables.';\n",
              "        element.innerHTML = '';\n",
              "        dataTable['output_type'] = 'display_data';\n",
              "        await google.colab.output.renderOutput(dataTable, element);\n",
              "        const docLink = document.createElement('div');\n",
              "        docLink.innerHTML = docLinkHtml;\n",
              "        element.appendChild(docLink);\n",
              "      }\n",
              "    </script>\n",
              "  </div>\n",
              "\n",
              "\n",
              "<div id=\"df-ca1e3a68-f5f8-40bb-a245-08a7a9f23ee9\">\n",
              "  <button class=\"colab-df-quickchart\" onclick=\"quickchart('df-ca1e3a68-f5f8-40bb-a245-08a7a9f23ee9')\"\n",
              "            title=\"Suggest charts\"\n",
              "            style=\"display:none;\">\n",
              "\n",
              "<svg xmlns=\"http://www.w3.org/2000/svg\" height=\"24px\"viewBox=\"0 0 24 24\"\n",
              "     width=\"24px\">\n",
              "    <g>\n",
              "        <path d=\"M19 3H5c-1.1 0-2 .9-2 2v14c0 1.1.9 2 2 2h14c1.1 0 2-.9 2-2V5c0-1.1-.9-2-2-2zM9 17H7v-7h2v7zm4 0h-2V7h2v10zm4 0h-2v-4h2v4z\"/>\n",
              "    </g>\n",
              "</svg>\n",
              "  </button>\n",
              "\n",
              "<style>\n",
              "  .colab-df-quickchart {\n",
              "      --bg-color: #E8F0FE;\n",
              "      --fill-color: #1967D2;\n",
              "      --hover-bg-color: #E2EBFA;\n",
              "      --hover-fill-color: #174EA6;\n",
              "      --disabled-fill-color: #AAA;\n",
              "      --disabled-bg-color: #DDD;\n",
              "  }\n",
              "\n",
              "  [theme=dark] .colab-df-quickchart {\n",
              "      --bg-color: #3B4455;\n",
              "      --fill-color: #D2E3FC;\n",
              "      --hover-bg-color: #434B5C;\n",
              "      --hover-fill-color: #FFFFFF;\n",
              "      --disabled-bg-color: #3B4455;\n",
              "      --disabled-fill-color: #666;\n",
              "  }\n",
              "\n",
              "  .colab-df-quickchart {\n",
              "    background-color: var(--bg-color);\n",
              "    border: none;\n",
              "    border-radius: 50%;\n",
              "    cursor: pointer;\n",
              "    display: none;\n",
              "    fill: var(--fill-color);\n",
              "    height: 32px;\n",
              "    padding: 0;\n",
              "    width: 32px;\n",
              "  }\n",
              "\n",
              "  .colab-df-quickchart:hover {\n",
              "    background-color: var(--hover-bg-color);\n",
              "    box-shadow: 0 1px 2px rgba(60, 64, 67, 0.3), 0 1px 3px 1px rgba(60, 64, 67, 0.15);\n",
              "    fill: var(--button-hover-fill-color);\n",
              "  }\n",
              "\n",
              "  .colab-df-quickchart-complete:disabled,\n",
              "  .colab-df-quickchart-complete:disabled:hover {\n",
              "    background-color: var(--disabled-bg-color);\n",
              "    fill: var(--disabled-fill-color);\n",
              "    box-shadow: none;\n",
              "  }\n",
              "\n",
              "  .colab-df-spinner {\n",
              "    border: 2px solid var(--fill-color);\n",
              "    border-color: transparent;\n",
              "    border-bottom-color: var(--fill-color);\n",
              "    animation:\n",
              "      spin 1s steps(1) infinite;\n",
              "  }\n",
              "\n",
              "  @keyframes spin {\n",
              "    0% {\n",
              "      border-color: transparent;\n",
              "      border-bottom-color: var(--fill-color);\n",
              "      border-left-color: var(--fill-color);\n",
              "    }\n",
              "    20% {\n",
              "      border-color: transparent;\n",
              "      border-left-color: var(--fill-color);\n",
              "      border-top-color: var(--fill-color);\n",
              "    }\n",
              "    30% {\n",
              "      border-color: transparent;\n",
              "      border-left-color: var(--fill-color);\n",
              "      border-top-color: var(--fill-color);\n",
              "      border-right-color: var(--fill-color);\n",
              "    }\n",
              "    40% {\n",
              "      border-color: transparent;\n",
              "      border-right-color: var(--fill-color);\n",
              "      border-top-color: var(--fill-color);\n",
              "    }\n",
              "    60% {\n",
              "      border-color: transparent;\n",
              "      border-right-color: var(--fill-color);\n",
              "    }\n",
              "    80% {\n",
              "      border-color: transparent;\n",
              "      border-right-color: var(--fill-color);\n",
              "      border-bottom-color: var(--fill-color);\n",
              "    }\n",
              "    90% {\n",
              "      border-color: transparent;\n",
              "      border-bottom-color: var(--fill-color);\n",
              "    }\n",
              "  }\n",
              "</style>\n",
              "\n",
              "  <script>\n",
              "    async function quickchart(key) {\n",
              "      const quickchartButtonEl =\n",
              "        document.querySelector('#' + key + ' button');\n",
              "      quickchartButtonEl.disabled = true;  // To prevent multiple clicks.\n",
              "      quickchartButtonEl.classList.add('colab-df-spinner');\n",
              "      try {\n",
              "        const charts = await google.colab.kernel.invokeFunction(\n",
              "            'suggestCharts', [key], {});\n",
              "      } catch (error) {\n",
              "        console.error('Error during call to suggestCharts:', error);\n",
              "      }\n",
              "      quickchartButtonEl.classList.remove('colab-df-spinner');\n",
              "      quickchartButtonEl.classList.add('colab-df-quickchart-complete');\n",
              "    }\n",
              "    (() => {\n",
              "      let quickchartButtonEl =\n",
              "        document.querySelector('#df-ca1e3a68-f5f8-40bb-a245-08a7a9f23ee9 button');\n",
              "      quickchartButtonEl.style.display =\n",
              "        google.colab.kernel.accessAllowed ? 'block' : 'none';\n",
              "    })();\n",
              "  </script>\n",
              "</div>\n",
              "    </div>\n",
              "  </div>\n"
            ]
          },
          "metadata": {},
          "execution_count": 3
        }
      ]
    },
    {
      "cell_type": "code",
      "source": [
        "powerDF.shape, praatAcousticFeatsDf.shape"
      ],
      "metadata": {
        "colab": {
          "base_uri": "https://localhost:8080/"
        },
        "outputId": "904e2e57-2e53-4298-da5d-81d3d87fcf91",
        "id": "vk9s32hx1MRQ"
      },
      "execution_count": null,
      "outputs": [
        {
          "output_type": "execute_result",
          "data": {
            "text/plain": [
              "((414, 4), (190, 9))"
            ]
          },
          "metadata": {},
          "execution_count": 4
        }
      ]
    },
    {
      "cell_type": "code",
      "source": [
        "dfArray = powerDF.to_numpy()\n",
        "reshaped_array = dfArray.reshape(-1, 2, dfArray.shape[1])\n",
        "\n",
        "averaged_array = reshaped_array.mean(axis=1)\n",
        "\n",
        "# Create a new DataFrame from the averaged array\n",
        "columns = powerDF.columns  # Assuming you want to keep the same columns\n",
        "resampled_powerDF = pd.DataFrame(averaged_array, columns=columns)\n",
        "resampled_powerDF.shape"
      ],
      "metadata": {
        "colab": {
          "base_uri": "https://localhost:8080/"
        },
        "outputId": "da71bd19-43f5-48b4-f92d-27cbbf6f89b2",
        "id": "-neqGvS_1MRR"
      },
      "execution_count": null,
      "outputs": [
        {
          "output_type": "execute_result",
          "data": {
            "text/plain": [
              "(207, 4)"
            ]
          },
          "metadata": {},
          "execution_count": 5
        }
      ]
    },
    {
      "cell_type": "code",
      "source": [
        "resampled_powerDF = resampled_powerDF.iloc[:praatAcousticFeatsDf.shape[0]]\n",
        "resampled_powerDF.shape"
      ],
      "metadata": {
        "colab": {
          "base_uri": "https://localhost:8080/"
        },
        "outputId": "47272fc3-8659-43ad-d0a1-9a7dd69a4b2b",
        "id": "vjwuIWyH1MRR"
      },
      "execution_count": null,
      "outputs": [
        {
          "output_type": "execute_result",
          "data": {
            "text/plain": [
              "(190, 4)"
            ]
          },
          "metadata": {},
          "execution_count": 6
        }
      ]
    },
    {
      "cell_type": "code",
      "source": [
        "powerPraatDF = pd.concat([resampled_powerDF, praatAcousticFeatsDf], axis=1)\n",
        "powerPraatDF.head()"
      ],
      "metadata": {
        "colab": {
          "base_uri": "https://localhost:8080/",
          "height": 241
        },
        "outputId": "312ed838-cab9-4923-8f94-793f2f5468ac",
        "id": "46hucRAN1MRS"
      },
      "execution_count": null,
      "outputs": [
        {
          "output_type": "execute_result",
          "data": {
            "text/plain": [
              "   Power: Left OFC  Power: Left vlPFC  Power: Right OFC  Power: Right vlPFC  \\\n",
              "0         7.494282           9.939016          6.947614            8.174077   \n",
              "1         6.003951           8.154367          7.306595           12.215907   \n",
              "2         9.370430           8.363272         10.352769           13.243804   \n",
              "3         5.896198           6.918870          7.700420           10.774696   \n",
              "4         4.039299           6.548344          9.438954            9.933403   \n",
              "\n",
              "   speechrate(nsyll / dur)  \\\n",
              "0                      0.0   \n",
              "1                      0.0   \n",
              "2                      0.0   \n",
              "3                      0.0   \n",
              "4                      0.0   \n",
              "\n",
              "   Average Syllable Duration (speakingtot/voicedcount)  \\\n",
              "0                                                NaN     \n",
              "1                                                NaN     \n",
              "2                                                NaN     \n",
              "3                                                NaN     \n",
              "4                                                NaN     \n",
              "\n",
              "   articulation rate(nsyll / phonationtime)  Speech-to-pause ratio  \\\n",
              "0                                       NaN                    NaN   \n",
              "1                                       NaN                    NaN   \n",
              "2                                       NaN                    NaN   \n",
              "3                                       NaN                    NaN   \n",
              "4                                       NaN                    NaN   \n",
              "\n",
              "   Mean Syllable Period  Variability of Syllable Period  Mean Pause Duration  \\\n",
              "0                   NaN                             NaN                  NaN   \n",
              "1                   NaN                             NaN                  NaN   \n",
              "2                   NaN                             NaN                  NaN   \n",
              "3                   NaN                             NaN                  NaN   \n",
              "4                   NaN                             NaN                  NaN   \n",
              "\n",
              "   Variability of Pause Duration  # of pauses  \n",
              "0                            NaN            1  \n",
              "1                            NaN            1  \n",
              "2                            NaN            1  \n",
              "3                            NaN            1  \n",
              "4                            NaN            1  "
            ],
            "text/html": [
              "\n",
              "  <div id=\"df-812edaa2-0e95-4c70-9a39-bb06d8e6dacc\" class=\"colab-df-container\">\n",
              "    <div>\n",
              "<style scoped>\n",
              "    .dataframe tbody tr th:only-of-type {\n",
              "        vertical-align: middle;\n",
              "    }\n",
              "\n",
              "    .dataframe tbody tr th {\n",
              "        vertical-align: top;\n",
              "    }\n",
              "\n",
              "    .dataframe thead th {\n",
              "        text-align: right;\n",
              "    }\n",
              "</style>\n",
              "<table border=\"1\" class=\"dataframe\">\n",
              "  <thead>\n",
              "    <tr style=\"text-align: right;\">\n",
              "      <th></th>\n",
              "      <th>Power: Left OFC</th>\n",
              "      <th>Power: Left vlPFC</th>\n",
              "      <th>Power: Right OFC</th>\n",
              "      <th>Power: Right vlPFC</th>\n",
              "      <th>speechrate(nsyll / dur)</th>\n",
              "      <th>Average Syllable Duration (speakingtot/voicedcount)</th>\n",
              "      <th>articulation rate(nsyll / phonationtime)</th>\n",
              "      <th>Speech-to-pause ratio</th>\n",
              "      <th>Mean Syllable Period</th>\n",
              "      <th>Variability of Syllable Period</th>\n",
              "      <th>Mean Pause Duration</th>\n",
              "      <th>Variability of Pause Duration</th>\n",
              "      <th># of pauses</th>\n",
              "    </tr>\n",
              "  </thead>\n",
              "  <tbody>\n",
              "    <tr>\n",
              "      <th>0</th>\n",
              "      <td>7.494282</td>\n",
              "      <td>9.939016</td>\n",
              "      <td>6.947614</td>\n",
              "      <td>8.174077</td>\n",
              "      <td>0.0</td>\n",
              "      <td>NaN</td>\n",
              "      <td>NaN</td>\n",
              "      <td>NaN</td>\n",
              "      <td>NaN</td>\n",
              "      <td>NaN</td>\n",
              "      <td>NaN</td>\n",
              "      <td>NaN</td>\n",
              "      <td>1</td>\n",
              "    </tr>\n",
              "    <tr>\n",
              "      <th>1</th>\n",
              "      <td>6.003951</td>\n",
              "      <td>8.154367</td>\n",
              "      <td>7.306595</td>\n",
              "      <td>12.215907</td>\n",
              "      <td>0.0</td>\n",
              "      <td>NaN</td>\n",
              "      <td>NaN</td>\n",
              "      <td>NaN</td>\n",
              "      <td>NaN</td>\n",
              "      <td>NaN</td>\n",
              "      <td>NaN</td>\n",
              "      <td>NaN</td>\n",
              "      <td>1</td>\n",
              "    </tr>\n",
              "    <tr>\n",
              "      <th>2</th>\n",
              "      <td>9.370430</td>\n",
              "      <td>8.363272</td>\n",
              "      <td>10.352769</td>\n",
              "      <td>13.243804</td>\n",
              "      <td>0.0</td>\n",
              "      <td>NaN</td>\n",
              "      <td>NaN</td>\n",
              "      <td>NaN</td>\n",
              "      <td>NaN</td>\n",
              "      <td>NaN</td>\n",
              "      <td>NaN</td>\n",
              "      <td>NaN</td>\n",
              "      <td>1</td>\n",
              "    </tr>\n",
              "    <tr>\n",
              "      <th>3</th>\n",
              "      <td>5.896198</td>\n",
              "      <td>6.918870</td>\n",
              "      <td>7.700420</td>\n",
              "      <td>10.774696</td>\n",
              "      <td>0.0</td>\n",
              "      <td>NaN</td>\n",
              "      <td>NaN</td>\n",
              "      <td>NaN</td>\n",
              "      <td>NaN</td>\n",
              "      <td>NaN</td>\n",
              "      <td>NaN</td>\n",
              "      <td>NaN</td>\n",
              "      <td>1</td>\n",
              "    </tr>\n",
              "    <tr>\n",
              "      <th>4</th>\n",
              "      <td>4.039299</td>\n",
              "      <td>6.548344</td>\n",
              "      <td>9.438954</td>\n",
              "      <td>9.933403</td>\n",
              "      <td>0.0</td>\n",
              "      <td>NaN</td>\n",
              "      <td>NaN</td>\n",
              "      <td>NaN</td>\n",
              "      <td>NaN</td>\n",
              "      <td>NaN</td>\n",
              "      <td>NaN</td>\n",
              "      <td>NaN</td>\n",
              "      <td>1</td>\n",
              "    </tr>\n",
              "  </tbody>\n",
              "</table>\n",
              "</div>\n",
              "    <div class=\"colab-df-buttons\">\n",
              "\n",
              "  <div class=\"colab-df-container\">\n",
              "    <button class=\"colab-df-convert\" onclick=\"convertToInteractive('df-812edaa2-0e95-4c70-9a39-bb06d8e6dacc')\"\n",
              "            title=\"Convert this dataframe to an interactive table.\"\n",
              "            style=\"display:none;\">\n",
              "\n",
              "  <svg xmlns=\"http://www.w3.org/2000/svg\" height=\"24px\" viewBox=\"0 -960 960 960\">\n",
              "    <path d=\"M120-120v-720h720v720H120Zm60-500h600v-160H180v160Zm220 220h160v-160H400v160Zm0 220h160v-160H400v160ZM180-400h160v-160H180v160Zm440 0h160v-160H620v160ZM180-180h160v-160H180v160Zm440 0h160v-160H620v160Z\"/>\n",
              "  </svg>\n",
              "    </button>\n",
              "\n",
              "  <style>\n",
              "    .colab-df-container {\n",
              "      display:flex;\n",
              "      gap: 12px;\n",
              "    }\n",
              "\n",
              "    .colab-df-convert {\n",
              "      background-color: #E8F0FE;\n",
              "      border: none;\n",
              "      border-radius: 50%;\n",
              "      cursor: pointer;\n",
              "      display: none;\n",
              "      fill: #1967D2;\n",
              "      height: 32px;\n",
              "      padding: 0 0 0 0;\n",
              "      width: 32px;\n",
              "    }\n",
              "\n",
              "    .colab-df-convert:hover {\n",
              "      background-color: #E2EBFA;\n",
              "      box-shadow: 0px 1px 2px rgba(60, 64, 67, 0.3), 0px 1px 3px 1px rgba(60, 64, 67, 0.15);\n",
              "      fill: #174EA6;\n",
              "    }\n",
              "\n",
              "    .colab-df-buttons div {\n",
              "      margin-bottom: 4px;\n",
              "    }\n",
              "\n",
              "    [theme=dark] .colab-df-convert {\n",
              "      background-color: #3B4455;\n",
              "      fill: #D2E3FC;\n",
              "    }\n",
              "\n",
              "    [theme=dark] .colab-df-convert:hover {\n",
              "      background-color: #434B5C;\n",
              "      box-shadow: 0px 1px 3px 1px rgba(0, 0, 0, 0.15);\n",
              "      filter: drop-shadow(0px 1px 2px rgba(0, 0, 0, 0.3));\n",
              "      fill: #FFFFFF;\n",
              "    }\n",
              "  </style>\n",
              "\n",
              "    <script>\n",
              "      const buttonEl =\n",
              "        document.querySelector('#df-812edaa2-0e95-4c70-9a39-bb06d8e6dacc button.colab-df-convert');\n",
              "      buttonEl.style.display =\n",
              "        google.colab.kernel.accessAllowed ? 'block' : 'none';\n",
              "\n",
              "      async function convertToInteractive(key) {\n",
              "        const element = document.querySelector('#df-812edaa2-0e95-4c70-9a39-bb06d8e6dacc');\n",
              "        const dataTable =\n",
              "          await google.colab.kernel.invokeFunction('convertToInteractive',\n",
              "                                                    [key], {});\n",
              "        if (!dataTable) return;\n",
              "\n",
              "        const docLinkHtml = 'Like what you see? Visit the ' +\n",
              "          '<a target=\"_blank\" href=https://colab.research.google.com/notebooks/data_table.ipynb>data table notebook</a>'\n",
              "          + ' to learn more about interactive tables.';\n",
              "        element.innerHTML = '';\n",
              "        dataTable['output_type'] = 'display_data';\n",
              "        await google.colab.output.renderOutput(dataTable, element);\n",
              "        const docLink = document.createElement('div');\n",
              "        docLink.innerHTML = docLinkHtml;\n",
              "        element.appendChild(docLink);\n",
              "      }\n",
              "    </script>\n",
              "  </div>\n",
              "\n",
              "\n",
              "<div id=\"df-aaba507a-89c2-4221-a467-2d7bfe4f0706\">\n",
              "  <button class=\"colab-df-quickchart\" onclick=\"quickchart('df-aaba507a-89c2-4221-a467-2d7bfe4f0706')\"\n",
              "            title=\"Suggest charts\"\n",
              "            style=\"display:none;\">\n",
              "\n",
              "<svg xmlns=\"http://www.w3.org/2000/svg\" height=\"24px\"viewBox=\"0 0 24 24\"\n",
              "     width=\"24px\">\n",
              "    <g>\n",
              "        <path d=\"M19 3H5c-1.1 0-2 .9-2 2v14c0 1.1.9 2 2 2h14c1.1 0 2-.9 2-2V5c0-1.1-.9-2-2-2zM9 17H7v-7h2v7zm4 0h-2V7h2v10zm4 0h-2v-4h2v4z\"/>\n",
              "    </g>\n",
              "</svg>\n",
              "  </button>\n",
              "\n",
              "<style>\n",
              "  .colab-df-quickchart {\n",
              "      --bg-color: #E8F0FE;\n",
              "      --fill-color: #1967D2;\n",
              "      --hover-bg-color: #E2EBFA;\n",
              "      --hover-fill-color: #174EA6;\n",
              "      --disabled-fill-color: #AAA;\n",
              "      --disabled-bg-color: #DDD;\n",
              "  }\n",
              "\n",
              "  [theme=dark] .colab-df-quickchart {\n",
              "      --bg-color: #3B4455;\n",
              "      --fill-color: #D2E3FC;\n",
              "      --hover-bg-color: #434B5C;\n",
              "      --hover-fill-color: #FFFFFF;\n",
              "      --disabled-bg-color: #3B4455;\n",
              "      --disabled-fill-color: #666;\n",
              "  }\n",
              "\n",
              "  .colab-df-quickchart {\n",
              "    background-color: var(--bg-color);\n",
              "    border: none;\n",
              "    border-radius: 50%;\n",
              "    cursor: pointer;\n",
              "    display: none;\n",
              "    fill: var(--fill-color);\n",
              "    height: 32px;\n",
              "    padding: 0;\n",
              "    width: 32px;\n",
              "  }\n",
              "\n",
              "  .colab-df-quickchart:hover {\n",
              "    background-color: var(--hover-bg-color);\n",
              "    box-shadow: 0 1px 2px rgba(60, 64, 67, 0.3), 0 1px 3px 1px rgba(60, 64, 67, 0.15);\n",
              "    fill: var(--button-hover-fill-color);\n",
              "  }\n",
              "\n",
              "  .colab-df-quickchart-complete:disabled,\n",
              "  .colab-df-quickchart-complete:disabled:hover {\n",
              "    background-color: var(--disabled-bg-color);\n",
              "    fill: var(--disabled-fill-color);\n",
              "    box-shadow: none;\n",
              "  }\n",
              "\n",
              "  .colab-df-spinner {\n",
              "    border: 2px solid var(--fill-color);\n",
              "    border-color: transparent;\n",
              "    border-bottom-color: var(--fill-color);\n",
              "    animation:\n",
              "      spin 1s steps(1) infinite;\n",
              "  }\n",
              "\n",
              "  @keyframes spin {\n",
              "    0% {\n",
              "      border-color: transparent;\n",
              "      border-bottom-color: var(--fill-color);\n",
              "      border-left-color: var(--fill-color);\n",
              "    }\n",
              "    20% {\n",
              "      border-color: transparent;\n",
              "      border-left-color: var(--fill-color);\n",
              "      border-top-color: var(--fill-color);\n",
              "    }\n",
              "    30% {\n",
              "      border-color: transparent;\n",
              "      border-left-color: var(--fill-color);\n",
              "      border-top-color: var(--fill-color);\n",
              "      border-right-color: var(--fill-color);\n",
              "    }\n",
              "    40% {\n",
              "      border-color: transparent;\n",
              "      border-right-color: var(--fill-color);\n",
              "      border-top-color: var(--fill-color);\n",
              "    }\n",
              "    60% {\n",
              "      border-color: transparent;\n",
              "      border-right-color: var(--fill-color);\n",
              "    }\n",
              "    80% {\n",
              "      border-color: transparent;\n",
              "      border-right-color: var(--fill-color);\n",
              "      border-bottom-color: var(--fill-color);\n",
              "    }\n",
              "    90% {\n",
              "      border-color: transparent;\n",
              "      border-bottom-color: var(--fill-color);\n",
              "    }\n",
              "  }\n",
              "</style>\n",
              "\n",
              "  <script>\n",
              "    async function quickchart(key) {\n",
              "      const quickchartButtonEl =\n",
              "        document.querySelector('#' + key + ' button');\n",
              "      quickchartButtonEl.disabled = true;  // To prevent multiple clicks.\n",
              "      quickchartButtonEl.classList.add('colab-df-spinner');\n",
              "      try {\n",
              "        const charts = await google.colab.kernel.invokeFunction(\n",
              "            'suggestCharts', [key], {});\n",
              "      } catch (error) {\n",
              "        console.error('Error during call to suggestCharts:', error);\n",
              "      }\n",
              "      quickchartButtonEl.classList.remove('colab-df-spinner');\n",
              "      quickchartButtonEl.classList.add('colab-df-quickchart-complete');\n",
              "    }\n",
              "    (() => {\n",
              "      let quickchartButtonEl =\n",
              "        document.querySelector('#df-aaba507a-89c2-4221-a467-2d7bfe4f0706 button');\n",
              "      quickchartButtonEl.style.display =\n",
              "        google.colab.kernel.accessAllowed ? 'block' : 'none';\n",
              "    })();\n",
              "  </script>\n",
              "</div>\n",
              "    </div>\n",
              "  </div>\n"
            ]
          },
          "metadata": {},
          "execution_count": 7
        }
      ]
    },
    {
      "cell_type": "code",
      "source": [
        "powerPraatDF.shape"
      ],
      "metadata": {
        "colab": {
          "base_uri": "https://localhost:8080/"
        },
        "outputId": "616a5359-59fa-4e90-a63c-d1faada48329",
        "id": "DcfN8eZC1MRS"
      },
      "execution_count": null,
      "outputs": [
        {
          "output_type": "execute_result",
          "data": {
            "text/plain": [
              "(190, 13)"
            ]
          },
          "metadata": {},
          "execution_count": 8
        }
      ]
    },
    {
      "cell_type": "markdown",
      "source": [
        "Website to compute p value from r value and n: http://vassarstats.net/tabs_r.html"
      ],
      "metadata": {
        "id": "VXQx5ybS1MRT"
      }
    },
    {
      "cell_type": "code",
      "source": [
        "rValFor99ConfidenceLevel = 0.1867\n",
        "rValFor95ConfidenceLevel = 0.1425"
      ],
      "metadata": {
        "id": "kmXpr4so1MRU"
      },
      "execution_count": null,
      "outputs": []
    },
    {
      "cell_type": "code",
      "source": [],
      "metadata": {
        "id": "HpzTTEANVmCO"
      },
      "execution_count": null,
      "outputs": []
    },
    {
      "cell_type": "markdown",
      "source": [
        "##random noise t-test (0)"
      ],
      "metadata": {
        "id": "NrYAxHNkVmM2"
      }
    },
    {
      "cell_type": "code",
      "source": [
        "import numpy as np"
      ],
      "metadata": {
        "id": "MnFupp41VmM2"
      },
      "execution_count": null,
      "outputs": []
    },
    {
      "cell_type": "code",
      "source": [
        "# Set a seed for reproducibility (optional)\n",
        "np.random.seed(33)\n",
        "\n",
        "# Mean and standard deviation of the Gaussian distribution\n",
        "mean_value = 0\n",
        "std_dev = 1\n",
        "\n",
        "# Generate a random 1136-element numpy array from a Gaussian distribution\n",
        "random_array = np.random.normal(mean_value, std_dev, powerPraatDF.shape[0])\n"
      ],
      "metadata": {
        "id": "b_DxBmohVmM3"
      },
      "execution_count": null,
      "outputs": []
    },
    {
      "cell_type": "code",
      "source": [
        "powerPraatDF['Noise'] = random_array"
      ],
      "metadata": {
        "id": "yA731w56VmM4"
      },
      "execution_count": null,
      "outputs": []
    },
    {
      "cell_type": "code",
      "source": [
        "powerPraatDF.corr()['Noise'][4:-1]#.abs()"
      ],
      "metadata": {
        "colab": {
          "base_uri": "https://localhost:8080/"
        },
        "outputId": "80f61b4b-7d5c-44d0-ca9f-b70e136e5672",
        "id": "OdiPQIfdVmM4"
      },
      "execution_count": null,
      "outputs": [
        {
          "output_type": "execute_result",
          "data": {
            "text/plain": [
              "speechrate(nsyll / dur)                                0.060362\n",
              "Average Syllable Duration (speakingtot/voicedcount)    0.085963\n",
              "articulation rate(nsyll / phonationtime)               0.068130\n",
              "Speech-to-pause ratio                                  0.215650\n",
              "Mean Syllable Period                                   0.069007\n",
              "Variability of Syllable Period                         0.022844\n",
              "Mean Pause Duration                                   -0.077227\n",
              "Variability of Pause Duration                         -0.035560\n",
              "# of pauses                                           -0.037585\n",
              "Name: Noise, dtype: float64"
            ]
          },
          "metadata": {},
          "execution_count": 77
        }
      ]
    },
    {
      "cell_type": "code",
      "source": [
        "correlations_Noise = powerPraatDF.corr()['Noise'][4:-1]#.abs()"
      ],
      "metadata": {
        "id": "1BxxPWfjVmM5"
      },
      "execution_count": null,
      "outputs": []
    },
    {
      "cell_type": "code",
      "source": [
        "positiveCorrelationCondition = correlations_Noise > rValFor95ConfidenceLevel\n",
        "negativeCorrelationCondition = correlations_Noise < -1* rValFor95ConfidenceLevel\n",
        "noiseCorrelates = correlations_Noise[ positiveCorrelationCondition | negativeCorrelationCondition]\n",
        "noiseCorrelates.head = 'r'\n",
        "\n",
        "print(\"# of acoustic features where p < 0.05:\", len(noiseCorrelates))\n",
        "noiseCorrelates.nlargest(len(noiseCorrelates)) # for sorting"
      ],
      "metadata": {
        "colab": {
          "base_uri": "https://localhost:8080/"
        },
        "outputId": "8139b827-d98b-4389-a213-4ccf3c78386f",
        "id": "Tp00H9hpVmM5"
      },
      "execution_count": null,
      "outputs": [
        {
          "output_type": "stream",
          "name": "stdout",
          "text": [
            "# of acoustic features where p < 0.05: 1\n"
          ]
        },
        {
          "output_type": "execute_result",
          "data": {
            "text/plain": [
              "Speech-to-pause ratio    0.21565\n",
              "Name: Noise, dtype: float64"
            ]
          },
          "metadata": {},
          "execution_count": 79
        }
      ]
    },
    {
      "cell_type": "markdown",
      "source": [
        "##Right vLPFC (0)"
      ],
      "metadata": {
        "id": "1TQJf_Cg1MRU"
      }
    },
    {
      "cell_type": "code",
      "source": [
        "# Assuming powerAmplitudeAllLLDdf is your DataFrame\n",
        "correlations_Right_vlPFC = powerPraatDF.corr()['Power: Right vlPFC'][8:].abs()\n",
        "AcousticCorrelates99_Right_vlPFC = correlations_Right_vlPFC[correlations_Right_vlPFC > rValFor99ConfidenceLevel]\n",
        "print(\"# of acoustic features where p < 0.01:\", len(AcousticCorrelates99_Right_vlPFC))\n",
        "AcousticCorrelates99_Right_vlPFC.nlargest(len(AcousticCorrelates99_Right_vlPFC)) # for sorting"
      ],
      "metadata": {
        "colab": {
          "base_uri": "https://localhost:8080/"
        },
        "outputId": "6d41052f-5efc-49ac-be9b-22bad7ad1736",
        "id": "x9F3WBDp1MRU"
      },
      "execution_count": null,
      "outputs": [
        {
          "output_type": "stream",
          "name": "stdout",
          "text": [
            "# of acoustic features where p < 0.01: 0\n"
          ]
        },
        {
          "output_type": "execute_result",
          "data": {
            "text/plain": [
              "Series([], Name: Power: Right vlPFC, dtype: float64)"
            ]
          },
          "metadata": {},
          "execution_count": 10
        }
      ]
    },
    {
      "cell_type": "code",
      "source": [
        "# Assuming powerAmplitudeAllLLDdf is your DataFrame\n",
        "AcousticCorrelates95_Right_vlPFC = correlations_Right_vlPFC[correlations_Right_vlPFC > rValFor95ConfidenceLevel]\n",
        "print(\"# of acoustic features where p < 0.05:\", len(AcousticCorrelates95_Right_vlPFC))\n",
        "AcousticCorrelates95_Right_vlPFC.nlargest(len(AcousticCorrelates95_Right_vlPFC)) # for sorting"
      ],
      "metadata": {
        "colab": {
          "base_uri": "https://localhost:8080/"
        },
        "outputId": "f20b9d4e-b7f2-4a0f-943c-46586a48d892",
        "id": "dYTpruzf1MRV"
      },
      "execution_count": null,
      "outputs": [
        {
          "output_type": "stream",
          "name": "stdout",
          "text": [
            "# of acoustic features where p < 0.05: 0\n"
          ]
        },
        {
          "output_type": "execute_result",
          "data": {
            "text/plain": [
              "Series([], Name: Power: Right vlPFC, dtype: float64)"
            ]
          },
          "metadata": {},
          "execution_count": 11
        }
      ]
    },
    {
      "cell_type": "code",
      "source": [
        "AcousticCorrelates95_Right_vlPFC.nlargest(10).index.tolist()"
      ],
      "metadata": {
        "colab": {
          "base_uri": "https://localhost:8080/"
        },
        "outputId": "0993af83-4d85-481e-ffe4-3d16a593f974",
        "id": "WuDRnEEw1MRV"
      },
      "execution_count": null,
      "outputs": [
        {
          "output_type": "execute_result",
          "data": {
            "text/plain": [
              "[]"
            ]
          },
          "metadata": {},
          "execution_count": 12
        }
      ]
    },
    {
      "cell_type": "markdown",
      "source": [
        "##Left vLPFC (2)"
      ],
      "metadata": {
        "id": "dvJNJvgX1MRW"
      }
    },
    {
      "cell_type": "code",
      "source": [
        "# Assuming powerAmplitudeAllLLDdf is your DataFrame\n",
        "correlations_Left_vlPFC = powerPraatDF.corr()['Power: Left vlPFC'][8:].abs()\n",
        "AcousticCorrelates99_Left_vlPFC = correlations_Left_vlPFC[correlations_Left_vlPFC > rValFor99ConfidenceLevel]\n",
        "print(\"# of acoustic features where p < 0.01:\", len(AcousticCorrelates99_Left_vlPFC))\n",
        "AcousticCorrelates99_Left_vlPFC.nlargest(len(AcousticCorrelates99_Left_vlPFC)) # for sorting"
      ],
      "metadata": {
        "colab": {
          "base_uri": "https://localhost:8080/"
        },
        "outputId": "9580727b-d31b-4746-b87e-a5f83383917e",
        "id": "EwCwWeGz1MRW"
      },
      "execution_count": null,
      "outputs": [
        {
          "output_type": "stream",
          "name": "stdout",
          "text": [
            "# of acoustic features where p < 0.01: 0\n"
          ]
        },
        {
          "output_type": "execute_result",
          "data": {
            "text/plain": [
              "Series([], Name: Power: Left vlPFC, dtype: float64)"
            ]
          },
          "metadata": {},
          "execution_count": 13
        }
      ]
    },
    {
      "cell_type": "code",
      "source": [],
      "metadata": {
        "id": "rCn5H8ZdovDJ"
      },
      "execution_count": null,
      "outputs": []
    },
    {
      "cell_type": "code",
      "source": [
        "# Assuming powerAmplitudeAllLLDdf is your DataFrame\n",
        "AcousticCorrelates95_Left_vlPFC = correlations_Left_vlPFC[correlations_Left_vlPFC > rValFor95ConfidenceLevel]\n",
        "print(\"# of acoustic features where p < 0.05:\", len(AcousticCorrelates95_Left_vlPFC))\n",
        "AcousticCorrelates95_Left_vlPFC.nlargest(len(AcousticCorrelates95_Left_vlPFC)) # for sorting"
      ],
      "metadata": {
        "colab": {
          "base_uri": "https://localhost:8080/"
        },
        "outputId": "56d8c99a-1c59-48cd-b53e-15d64cb753a8",
        "id": "bPsNAs2d1MRW"
      },
      "execution_count": null,
      "outputs": [
        {
          "output_type": "stream",
          "name": "stdout",
          "text": [
            "# of acoustic features where p < 0.05: 2\n"
          ]
        },
        {
          "output_type": "execute_result",
          "data": {
            "text/plain": [
              "Variability of Syllable Period    0.153769\n",
              "Mean Syllable Period              0.145622\n",
              "Name: Power: Left vlPFC, dtype: float64"
            ]
          },
          "metadata": {},
          "execution_count": 14
        }
      ]
    },
    {
      "cell_type": "code",
      "source": [
        "AcousticCorrelates95_Left_vlPFC.nlargest(10).index.tolist()"
      ],
      "metadata": {
        "colab": {
          "base_uri": "https://localhost:8080/"
        },
        "outputId": "65235c8a-5d03-4a10-fea7-c5e9a844523c",
        "id": "EF4_f7Fe1MRW"
      },
      "execution_count": null,
      "outputs": [
        {
          "output_type": "execute_result",
          "data": {
            "text/plain": [
              "[]"
            ]
          },
          "metadata": {},
          "execution_count": 104
        }
      ]
    },
    {
      "cell_type": "markdown",
      "source": [
        "##Right OFC"
      ],
      "metadata": {
        "id": "nBR758iv1MRX"
      }
    },
    {
      "cell_type": "code",
      "source": [
        "# Assuming powerAmplitudeAllLLDdf is your DataFrame\n",
        "correlations_Right_OFC = powerPraatDF.corr()['Power: Right OFC'][8:].abs()\n",
        "AcousticCorrelates99_Right_OFC = correlations_Right_OFC[correlations_Right_OFC > rValFor99ConfidenceLevel]\n",
        "print(\"# of acoustic features where p < 0.01:\", len(AcousticCorrelates99_Right_OFC))\n",
        "AcousticCorrelates99_Right_OFC.nlargest(len(AcousticCorrelates99_Right_OFC)) # for sorting"
      ],
      "metadata": {
        "colab": {
          "base_uri": "https://localhost:8080/"
        },
        "outputId": "85d503d1-2aa4-4a04-9d55-6fe128d2e80d",
        "id": "R9zbET-f1MRX"
      },
      "execution_count": null,
      "outputs": [
        {
          "output_type": "stream",
          "name": "stdout",
          "text": [
            "# of acoustic features where p < 0.01: 0\n"
          ]
        },
        {
          "output_type": "execute_result",
          "data": {
            "text/plain": [
              "Series([], Name: Power: Right OFC, dtype: float64)"
            ]
          },
          "metadata": {},
          "execution_count": 15
        }
      ]
    },
    {
      "cell_type": "code",
      "source": [
        "# Assuming powerAmplitudeAllLLDdf is your DataFrame\n",
        "AcousticCorrelates95_Right_OFC = correlations_Right_OFC[correlations_Right_OFC > rValFor95ConfidenceLevel]\n",
        "print(\"# of acoustic features where p < 0.05:\", len(AcousticCorrelates95_Right_OFC))\n",
        "AcousticCorrelates95_Right_OFC.nlargest(len(AcousticCorrelates95_Right_OFC)) # for sorting"
      ],
      "metadata": {
        "colab": {
          "base_uri": "https://localhost:8080/"
        },
        "outputId": "79f4ea10-d285-423a-d47b-a9d5127a551f",
        "id": "gx8_liNA1MRX"
      },
      "execution_count": null,
      "outputs": [
        {
          "output_type": "stream",
          "name": "stdout",
          "text": [
            "# of acoustic features where p < 0.05: 0\n"
          ]
        },
        {
          "output_type": "execute_result",
          "data": {
            "text/plain": [
              "Series([], Name: Power: Right OFC, dtype: float64)"
            ]
          },
          "metadata": {},
          "execution_count": 16
        }
      ]
    },
    {
      "cell_type": "code",
      "source": [
        "AcousticCorrelates95_Right_OFC.nlargest(10).index.tolist()"
      ],
      "metadata": {
        "colab": {
          "base_uri": "https://localhost:8080/"
        },
        "outputId": "557e6d9a-5603-4c4f-9df7-d3ff4aeb00a5",
        "id": "khWwyS4O1MRX"
      },
      "execution_count": null,
      "outputs": [
        {
          "output_type": "execute_result",
          "data": {
            "text/plain": [
              "[]"
            ]
          },
          "metadata": {},
          "execution_count": 17
        }
      ]
    },
    {
      "cell_type": "markdown",
      "source": [
        "##Left OFC"
      ],
      "metadata": {
        "id": "jWY7BJ4e1MRY"
      }
    },
    {
      "cell_type": "code",
      "source": [
        "# Assuming powerAmplitudeAllLLDdf is your DataFrame\n",
        "correlations_Left_OFC = powerPraatDF.corr()['Power: Left OFC'][8:].abs()\n",
        "AcousticCorrelates99_Left_OFC = correlations_Left_OFC[correlations_Left_OFC > rValFor99ConfidenceLevel]\n",
        "print(\"# of acoustic features where p < 0.01:\", len(AcousticCorrelates99_Left_OFC))\n",
        "AcousticCorrelates99_Left_OFC.nlargest(len(AcousticCorrelates99_Left_OFC)) # for sorting"
      ],
      "metadata": {
        "colab": {
          "base_uri": "https://localhost:8080/"
        },
        "outputId": "05f76aca-6d24-4432-e4e0-471ac9704f7c",
        "id": "bLCkbj_Z1MRY"
      },
      "execution_count": null,
      "outputs": [
        {
          "output_type": "stream",
          "name": "stdout",
          "text": [
            "# of acoustic features where p < 0.01: 0\n"
          ]
        },
        {
          "output_type": "execute_result",
          "data": {
            "text/plain": [
              "Series([], Name: Power: Left OFC, dtype: float64)"
            ]
          },
          "metadata": {},
          "execution_count": 18
        }
      ]
    },
    {
      "cell_type": "code",
      "source": [
        "# Assuming powerAmplitudeAllLLDdf is your DataFrame\n",
        "AcousticCorrelates95_Left_OFC = correlations_Left_OFC[correlations_Left_OFC > rValFor95ConfidenceLevel]\n",
        "print(\"# of acoustic features where p < 0.05:\", len(AcousticCorrelates95_Left_OFC))\n",
        "AcousticCorrelates95_Left_OFC.nlargest(len(AcousticCorrelates95_Left_OFC)) # for sorting"
      ],
      "metadata": {
        "colab": {
          "base_uri": "https://localhost:8080/"
        },
        "outputId": "a8e13844-952e-4ef9-821d-a144cc6fa452",
        "id": "DRkfY9tg1MRY"
      },
      "execution_count": null,
      "outputs": [
        {
          "output_type": "stream",
          "name": "stdout",
          "text": [
            "# of acoustic features where p < 0.05: 0\n"
          ]
        },
        {
          "output_type": "execute_result",
          "data": {
            "text/plain": [
              "Series([], Name: Power: Left OFC, dtype: float64)"
            ]
          },
          "metadata": {},
          "execution_count": 19
        }
      ]
    },
    {
      "cell_type": "code",
      "source": [],
      "metadata": {
        "id": "YyYYHmElDOa7"
      },
      "execution_count": null,
      "outputs": []
    },
    {
      "cell_type": "code",
      "source": [],
      "metadata": {
        "id": "lpzayx8eVgQP"
      },
      "execution_count": null,
      "outputs": []
    },
    {
      "cell_type": "markdown",
      "source": [
        "#Feb 27 Experiment 5 (Waiting for Sameer)"
      ],
      "metadata": {
        "id": "NN6P6BhyDOje"
      }
    },
    {
      "cell_type": "markdown",
      "source": [
        "##read in files"
      ],
      "metadata": {
        "id": "VGCohaxJDOjf"
      }
    },
    {
      "cell_type": "code",
      "source": [
        "powerDF = pd.read_csv('2023-02-27-Experiment5-Power.csv')\n",
        "del powerDF['Unnamed: 0']\n",
        "powerDF.head()"
      ],
      "metadata": {
        "colab": {
          "base_uri": "https://localhost:8080/",
          "height": 206
        },
        "outputId": "d3d9b874-878f-4417-cfa0-2c784ce083e5",
        "id": "lqRhKkt7DOjg"
      },
      "execution_count": null,
      "outputs": [
        {
          "output_type": "execute_result",
          "data": {
            "text/plain": [
              "   Power: Left OFC  Power: Left vlPFC  Power: Right OFC  Power: Right vlPFC\n",
              "0         6.040388           9.369975         11.474579            9.765721\n",
              "1         4.740961          11.204577          9.600362            9.777031\n",
              "2         4.904171           8.815254          4.404419           11.895500\n",
              "3         5.530016           7.770287          8.693739           10.962857\n",
              "4         6.540160          11.214869          5.332976           10.099922"
            ],
            "text/html": [
              "\n",
              "  <div id=\"df-b59c9ad8-1ffa-4726-af93-b2239144c628\" class=\"colab-df-container\">\n",
              "    <div>\n",
              "<style scoped>\n",
              "    .dataframe tbody tr th:only-of-type {\n",
              "        vertical-align: middle;\n",
              "    }\n",
              "\n",
              "    .dataframe tbody tr th {\n",
              "        vertical-align: top;\n",
              "    }\n",
              "\n",
              "    .dataframe thead th {\n",
              "        text-align: right;\n",
              "    }\n",
              "</style>\n",
              "<table border=\"1\" class=\"dataframe\">\n",
              "  <thead>\n",
              "    <tr style=\"text-align: right;\">\n",
              "      <th></th>\n",
              "      <th>Power: Left OFC</th>\n",
              "      <th>Power: Left vlPFC</th>\n",
              "      <th>Power: Right OFC</th>\n",
              "      <th>Power: Right vlPFC</th>\n",
              "    </tr>\n",
              "  </thead>\n",
              "  <tbody>\n",
              "    <tr>\n",
              "      <th>0</th>\n",
              "      <td>6.040388</td>\n",
              "      <td>9.369975</td>\n",
              "      <td>11.474579</td>\n",
              "      <td>9.765721</td>\n",
              "    </tr>\n",
              "    <tr>\n",
              "      <th>1</th>\n",
              "      <td>4.740961</td>\n",
              "      <td>11.204577</td>\n",
              "      <td>9.600362</td>\n",
              "      <td>9.777031</td>\n",
              "    </tr>\n",
              "    <tr>\n",
              "      <th>2</th>\n",
              "      <td>4.904171</td>\n",
              "      <td>8.815254</td>\n",
              "      <td>4.404419</td>\n",
              "      <td>11.895500</td>\n",
              "    </tr>\n",
              "    <tr>\n",
              "      <th>3</th>\n",
              "      <td>5.530016</td>\n",
              "      <td>7.770287</td>\n",
              "      <td>8.693739</td>\n",
              "      <td>10.962857</td>\n",
              "    </tr>\n",
              "    <tr>\n",
              "      <th>4</th>\n",
              "      <td>6.540160</td>\n",
              "      <td>11.214869</td>\n",
              "      <td>5.332976</td>\n",
              "      <td>10.099922</td>\n",
              "    </tr>\n",
              "  </tbody>\n",
              "</table>\n",
              "</div>\n",
              "    <div class=\"colab-df-buttons\">\n",
              "\n",
              "  <div class=\"colab-df-container\">\n",
              "    <button class=\"colab-df-convert\" onclick=\"convertToInteractive('df-b59c9ad8-1ffa-4726-af93-b2239144c628')\"\n",
              "            title=\"Convert this dataframe to an interactive table.\"\n",
              "            style=\"display:none;\">\n",
              "\n",
              "  <svg xmlns=\"http://www.w3.org/2000/svg\" height=\"24px\" viewBox=\"0 -960 960 960\">\n",
              "    <path d=\"M120-120v-720h720v720H120Zm60-500h600v-160H180v160Zm220 220h160v-160H400v160Zm0 220h160v-160H400v160ZM180-400h160v-160H180v160Zm440 0h160v-160H620v160ZM180-180h160v-160H180v160Zm440 0h160v-160H620v160Z\"/>\n",
              "  </svg>\n",
              "    </button>\n",
              "\n",
              "  <style>\n",
              "    .colab-df-container {\n",
              "      display:flex;\n",
              "      gap: 12px;\n",
              "    }\n",
              "\n",
              "    .colab-df-convert {\n",
              "      background-color: #E8F0FE;\n",
              "      border: none;\n",
              "      border-radius: 50%;\n",
              "      cursor: pointer;\n",
              "      display: none;\n",
              "      fill: #1967D2;\n",
              "      height: 32px;\n",
              "      padding: 0 0 0 0;\n",
              "      width: 32px;\n",
              "    }\n",
              "\n",
              "    .colab-df-convert:hover {\n",
              "      background-color: #E2EBFA;\n",
              "      box-shadow: 0px 1px 2px rgba(60, 64, 67, 0.3), 0px 1px 3px 1px rgba(60, 64, 67, 0.15);\n",
              "      fill: #174EA6;\n",
              "    }\n",
              "\n",
              "    .colab-df-buttons div {\n",
              "      margin-bottom: 4px;\n",
              "    }\n",
              "\n",
              "    [theme=dark] .colab-df-convert {\n",
              "      background-color: #3B4455;\n",
              "      fill: #D2E3FC;\n",
              "    }\n",
              "\n",
              "    [theme=dark] .colab-df-convert:hover {\n",
              "      background-color: #434B5C;\n",
              "      box-shadow: 0px 1px 3px 1px rgba(0, 0, 0, 0.15);\n",
              "      filter: drop-shadow(0px 1px 2px rgba(0, 0, 0, 0.3));\n",
              "      fill: #FFFFFF;\n",
              "    }\n",
              "  </style>\n",
              "\n",
              "    <script>\n",
              "      const buttonEl =\n",
              "        document.querySelector('#df-b59c9ad8-1ffa-4726-af93-b2239144c628 button.colab-df-convert');\n",
              "      buttonEl.style.display =\n",
              "        google.colab.kernel.accessAllowed ? 'block' : 'none';\n",
              "\n",
              "      async function convertToInteractive(key) {\n",
              "        const element = document.querySelector('#df-b59c9ad8-1ffa-4726-af93-b2239144c628');\n",
              "        const dataTable =\n",
              "          await google.colab.kernel.invokeFunction('convertToInteractive',\n",
              "                                                    [key], {});\n",
              "        if (!dataTable) return;\n",
              "\n",
              "        const docLinkHtml = 'Like what you see? Visit the ' +\n",
              "          '<a target=\"_blank\" href=https://colab.research.google.com/notebooks/data_table.ipynb>data table notebook</a>'\n",
              "          + ' to learn more about interactive tables.';\n",
              "        element.innerHTML = '';\n",
              "        dataTable['output_type'] = 'display_data';\n",
              "        await google.colab.output.renderOutput(dataTable, element);\n",
              "        const docLink = document.createElement('div');\n",
              "        docLink.innerHTML = docLinkHtml;\n",
              "        element.appendChild(docLink);\n",
              "      }\n",
              "    </script>\n",
              "  </div>\n",
              "\n",
              "\n",
              "<div id=\"df-db96bbdf-08f2-4ffe-9319-5954793f6f5c\">\n",
              "  <button class=\"colab-df-quickchart\" onclick=\"quickchart('df-db96bbdf-08f2-4ffe-9319-5954793f6f5c')\"\n",
              "            title=\"Suggest charts\"\n",
              "            style=\"display:none;\">\n",
              "\n",
              "<svg xmlns=\"http://www.w3.org/2000/svg\" height=\"24px\"viewBox=\"0 0 24 24\"\n",
              "     width=\"24px\">\n",
              "    <g>\n",
              "        <path d=\"M19 3H5c-1.1 0-2 .9-2 2v14c0 1.1.9 2 2 2h14c1.1 0 2-.9 2-2V5c0-1.1-.9-2-2-2zM9 17H7v-7h2v7zm4 0h-2V7h2v10zm4 0h-2v-4h2v4z\"/>\n",
              "    </g>\n",
              "</svg>\n",
              "  </button>\n",
              "\n",
              "<style>\n",
              "  .colab-df-quickchart {\n",
              "      --bg-color: #E8F0FE;\n",
              "      --fill-color: #1967D2;\n",
              "      --hover-bg-color: #E2EBFA;\n",
              "      --hover-fill-color: #174EA6;\n",
              "      --disabled-fill-color: #AAA;\n",
              "      --disabled-bg-color: #DDD;\n",
              "  }\n",
              "\n",
              "  [theme=dark] .colab-df-quickchart {\n",
              "      --bg-color: #3B4455;\n",
              "      --fill-color: #D2E3FC;\n",
              "      --hover-bg-color: #434B5C;\n",
              "      --hover-fill-color: #FFFFFF;\n",
              "      --disabled-bg-color: #3B4455;\n",
              "      --disabled-fill-color: #666;\n",
              "  }\n",
              "\n",
              "  .colab-df-quickchart {\n",
              "    background-color: var(--bg-color);\n",
              "    border: none;\n",
              "    border-radius: 50%;\n",
              "    cursor: pointer;\n",
              "    display: none;\n",
              "    fill: var(--fill-color);\n",
              "    height: 32px;\n",
              "    padding: 0;\n",
              "    width: 32px;\n",
              "  }\n",
              "\n",
              "  .colab-df-quickchart:hover {\n",
              "    background-color: var(--hover-bg-color);\n",
              "    box-shadow: 0 1px 2px rgba(60, 64, 67, 0.3), 0 1px 3px 1px rgba(60, 64, 67, 0.15);\n",
              "    fill: var(--button-hover-fill-color);\n",
              "  }\n",
              "\n",
              "  .colab-df-quickchart-complete:disabled,\n",
              "  .colab-df-quickchart-complete:disabled:hover {\n",
              "    background-color: var(--disabled-bg-color);\n",
              "    fill: var(--disabled-fill-color);\n",
              "    box-shadow: none;\n",
              "  }\n",
              "\n",
              "  .colab-df-spinner {\n",
              "    border: 2px solid var(--fill-color);\n",
              "    border-color: transparent;\n",
              "    border-bottom-color: var(--fill-color);\n",
              "    animation:\n",
              "      spin 1s steps(1) infinite;\n",
              "  }\n",
              "\n",
              "  @keyframes spin {\n",
              "    0% {\n",
              "      border-color: transparent;\n",
              "      border-bottom-color: var(--fill-color);\n",
              "      border-left-color: var(--fill-color);\n",
              "    }\n",
              "    20% {\n",
              "      border-color: transparent;\n",
              "      border-left-color: var(--fill-color);\n",
              "      border-top-color: var(--fill-color);\n",
              "    }\n",
              "    30% {\n",
              "      border-color: transparent;\n",
              "      border-left-color: var(--fill-color);\n",
              "      border-top-color: var(--fill-color);\n",
              "      border-right-color: var(--fill-color);\n",
              "    }\n",
              "    40% {\n",
              "      border-color: transparent;\n",
              "      border-right-color: var(--fill-color);\n",
              "      border-top-color: var(--fill-color);\n",
              "    }\n",
              "    60% {\n",
              "      border-color: transparent;\n",
              "      border-right-color: var(--fill-color);\n",
              "    }\n",
              "    80% {\n",
              "      border-color: transparent;\n",
              "      border-right-color: var(--fill-color);\n",
              "      border-bottom-color: var(--fill-color);\n",
              "    }\n",
              "    90% {\n",
              "      border-color: transparent;\n",
              "      border-bottom-color: var(--fill-color);\n",
              "    }\n",
              "  }\n",
              "</style>\n",
              "\n",
              "  <script>\n",
              "    async function quickchart(key) {\n",
              "      const quickchartButtonEl =\n",
              "        document.querySelector('#' + key + ' button');\n",
              "      quickchartButtonEl.disabled = true;  // To prevent multiple clicks.\n",
              "      quickchartButtonEl.classList.add('colab-df-spinner');\n",
              "      try {\n",
              "        const charts = await google.colab.kernel.invokeFunction(\n",
              "            'suggestCharts', [key], {});\n",
              "      } catch (error) {\n",
              "        console.error('Error during call to suggestCharts:', error);\n",
              "      }\n",
              "      quickchartButtonEl.classList.remove('colab-df-spinner');\n",
              "      quickchartButtonEl.classList.add('colab-df-quickchart-complete');\n",
              "    }\n",
              "    (() => {\n",
              "      let quickchartButtonEl =\n",
              "        document.querySelector('#df-db96bbdf-08f2-4ffe-9319-5954793f6f5c button');\n",
              "      quickchartButtonEl.style.display =\n",
              "        google.colab.kernel.accessAllowed ? 'block' : 'none';\n",
              "    })();\n",
              "  </script>\n",
              "</div>\n",
              "    </div>\n",
              "  </div>\n"
            ]
          },
          "metadata": {},
          "execution_count": 20
        }
      ]
    },
    {
      "cell_type": "code",
      "source": [
        "praatAcousticFeatsDf = pd.read_csv('Feb27ExperimentFivePerTwoSecondPraatFeatures.csv')\n",
        "del praatAcousticFeatsDf['Unnamed: 0'], praatAcousticFeatsDf['Time (secs)']\n",
        "praatAcousticFeatsDf.head()"
      ],
      "metadata": {
        "colab": {
          "base_uri": "https://localhost:8080/",
          "height": 224
        },
        "outputId": "bb3171f8-3c71-4353-ec32-d764731fafe5",
        "id": "FgBkfT5GDOjg"
      },
      "execution_count": null,
      "outputs": [
        {
          "output_type": "execute_result",
          "data": {
            "text/plain": [
              "   speechrate(nsyll / dur)  \\\n",
              "0                      0.0   \n",
              "1                      2.0   \n",
              "2                      1.5   \n",
              "3                      0.0   \n",
              "4                      2.5   \n",
              "\n",
              "   Average Syllable Duration (speakingtot/voicedcount)  \\\n",
              "0                                                NaN     \n",
              "1                                               0.50     \n",
              "2                                               0.56     \n",
              "3                                                NaN     \n",
              "4                                               0.40     \n",
              "\n",
              "   articulation rate(nsyll / phonationtime)  Speech-to-pause ratio  \\\n",
              "0                                       NaN                    NaN   \n",
              "1                                  2.000000                    NaN   \n",
              "2                                  1.785714               5.250000   \n",
              "3                                  0.000000               0.612903   \n",
              "4                                  2.500000                    NaN   \n",
              "\n",
              "   Mean Syllable Period  Variability of Syllable Period  Mean Pause Duration  \\\n",
              "0                   NaN                             NaN                  NaN   \n",
              "1              0.500000                        0.393564                 0.00   \n",
              "2              0.666667                        0.331196                 0.16   \n",
              "3              0.000000                        0.000000                 1.24   \n",
              "4              0.400000                        0.479806                 0.00   \n",
              "\n",
              "   Variability of Pause Duration  # of pauses  \n",
              "0                            NaN            0  \n",
              "1                           0.00            1  \n",
              "2                           0.32            2  \n",
              "3                           0.00            1  \n",
              "4                           0.00            1  "
            ],
            "text/html": [
              "\n",
              "  <div id=\"df-7e9aae1c-79fa-41a7-ad4a-3b820ab568e9\" class=\"colab-df-container\">\n",
              "    <div>\n",
              "<style scoped>\n",
              "    .dataframe tbody tr th:only-of-type {\n",
              "        vertical-align: middle;\n",
              "    }\n",
              "\n",
              "    .dataframe tbody tr th {\n",
              "        vertical-align: top;\n",
              "    }\n",
              "\n",
              "    .dataframe thead th {\n",
              "        text-align: right;\n",
              "    }\n",
              "</style>\n",
              "<table border=\"1\" class=\"dataframe\">\n",
              "  <thead>\n",
              "    <tr style=\"text-align: right;\">\n",
              "      <th></th>\n",
              "      <th>speechrate(nsyll / dur)</th>\n",
              "      <th>Average Syllable Duration (speakingtot/voicedcount)</th>\n",
              "      <th>articulation rate(nsyll / phonationtime)</th>\n",
              "      <th>Speech-to-pause ratio</th>\n",
              "      <th>Mean Syllable Period</th>\n",
              "      <th>Variability of Syllable Period</th>\n",
              "      <th>Mean Pause Duration</th>\n",
              "      <th>Variability of Pause Duration</th>\n",
              "      <th># of pauses</th>\n",
              "    </tr>\n",
              "  </thead>\n",
              "  <tbody>\n",
              "    <tr>\n",
              "      <th>0</th>\n",
              "      <td>0.0</td>\n",
              "      <td>NaN</td>\n",
              "      <td>NaN</td>\n",
              "      <td>NaN</td>\n",
              "      <td>NaN</td>\n",
              "      <td>NaN</td>\n",
              "      <td>NaN</td>\n",
              "      <td>NaN</td>\n",
              "      <td>0</td>\n",
              "    </tr>\n",
              "    <tr>\n",
              "      <th>1</th>\n",
              "      <td>2.0</td>\n",
              "      <td>0.50</td>\n",
              "      <td>2.000000</td>\n",
              "      <td>NaN</td>\n",
              "      <td>0.500000</td>\n",
              "      <td>0.393564</td>\n",
              "      <td>0.00</td>\n",
              "      <td>0.00</td>\n",
              "      <td>1</td>\n",
              "    </tr>\n",
              "    <tr>\n",
              "      <th>2</th>\n",
              "      <td>1.5</td>\n",
              "      <td>0.56</td>\n",
              "      <td>1.785714</td>\n",
              "      <td>5.250000</td>\n",
              "      <td>0.666667</td>\n",
              "      <td>0.331196</td>\n",
              "      <td>0.16</td>\n",
              "      <td>0.32</td>\n",
              "      <td>2</td>\n",
              "    </tr>\n",
              "    <tr>\n",
              "      <th>3</th>\n",
              "      <td>0.0</td>\n",
              "      <td>NaN</td>\n",
              "      <td>0.000000</td>\n",
              "      <td>0.612903</td>\n",
              "      <td>0.000000</td>\n",
              "      <td>0.000000</td>\n",
              "      <td>1.24</td>\n",
              "      <td>0.00</td>\n",
              "      <td>1</td>\n",
              "    </tr>\n",
              "    <tr>\n",
              "      <th>4</th>\n",
              "      <td>2.5</td>\n",
              "      <td>0.40</td>\n",
              "      <td>2.500000</td>\n",
              "      <td>NaN</td>\n",
              "      <td>0.400000</td>\n",
              "      <td>0.479806</td>\n",
              "      <td>0.00</td>\n",
              "      <td>0.00</td>\n",
              "      <td>1</td>\n",
              "    </tr>\n",
              "  </tbody>\n",
              "</table>\n",
              "</div>\n",
              "    <div class=\"colab-df-buttons\">\n",
              "\n",
              "  <div class=\"colab-df-container\">\n",
              "    <button class=\"colab-df-convert\" onclick=\"convertToInteractive('df-7e9aae1c-79fa-41a7-ad4a-3b820ab568e9')\"\n",
              "            title=\"Convert this dataframe to an interactive table.\"\n",
              "            style=\"display:none;\">\n",
              "\n",
              "  <svg xmlns=\"http://www.w3.org/2000/svg\" height=\"24px\" viewBox=\"0 -960 960 960\">\n",
              "    <path d=\"M120-120v-720h720v720H120Zm60-500h600v-160H180v160Zm220 220h160v-160H400v160Zm0 220h160v-160H400v160ZM180-400h160v-160H180v160Zm440 0h160v-160H620v160ZM180-180h160v-160H180v160Zm440 0h160v-160H620v160Z\"/>\n",
              "  </svg>\n",
              "    </button>\n",
              "\n",
              "  <style>\n",
              "    .colab-df-container {\n",
              "      display:flex;\n",
              "      gap: 12px;\n",
              "    }\n",
              "\n",
              "    .colab-df-convert {\n",
              "      background-color: #E8F0FE;\n",
              "      border: none;\n",
              "      border-radius: 50%;\n",
              "      cursor: pointer;\n",
              "      display: none;\n",
              "      fill: #1967D2;\n",
              "      height: 32px;\n",
              "      padding: 0 0 0 0;\n",
              "      width: 32px;\n",
              "    }\n",
              "\n",
              "    .colab-df-convert:hover {\n",
              "      background-color: #E2EBFA;\n",
              "      box-shadow: 0px 1px 2px rgba(60, 64, 67, 0.3), 0px 1px 3px 1px rgba(60, 64, 67, 0.15);\n",
              "      fill: #174EA6;\n",
              "    }\n",
              "\n",
              "    .colab-df-buttons div {\n",
              "      margin-bottom: 4px;\n",
              "    }\n",
              "\n",
              "    [theme=dark] .colab-df-convert {\n",
              "      background-color: #3B4455;\n",
              "      fill: #D2E3FC;\n",
              "    }\n",
              "\n",
              "    [theme=dark] .colab-df-convert:hover {\n",
              "      background-color: #434B5C;\n",
              "      box-shadow: 0px 1px 3px 1px rgba(0, 0, 0, 0.15);\n",
              "      filter: drop-shadow(0px 1px 2px rgba(0, 0, 0, 0.3));\n",
              "      fill: #FFFFFF;\n",
              "    }\n",
              "  </style>\n",
              "\n",
              "    <script>\n",
              "      const buttonEl =\n",
              "        document.querySelector('#df-7e9aae1c-79fa-41a7-ad4a-3b820ab568e9 button.colab-df-convert');\n",
              "      buttonEl.style.display =\n",
              "        google.colab.kernel.accessAllowed ? 'block' : 'none';\n",
              "\n",
              "      async function convertToInteractive(key) {\n",
              "        const element = document.querySelector('#df-7e9aae1c-79fa-41a7-ad4a-3b820ab568e9');\n",
              "        const dataTable =\n",
              "          await google.colab.kernel.invokeFunction('convertToInteractive',\n",
              "                                                    [key], {});\n",
              "        if (!dataTable) return;\n",
              "\n",
              "        const docLinkHtml = 'Like what you see? Visit the ' +\n",
              "          '<a target=\"_blank\" href=https://colab.research.google.com/notebooks/data_table.ipynb>data table notebook</a>'\n",
              "          + ' to learn more about interactive tables.';\n",
              "        element.innerHTML = '';\n",
              "        dataTable['output_type'] = 'display_data';\n",
              "        await google.colab.output.renderOutput(dataTable, element);\n",
              "        const docLink = document.createElement('div');\n",
              "        docLink.innerHTML = docLinkHtml;\n",
              "        element.appendChild(docLink);\n",
              "      }\n",
              "    </script>\n",
              "  </div>\n",
              "\n",
              "\n",
              "<div id=\"df-add1c575-9e54-4724-8b28-c1763c0426e4\">\n",
              "  <button class=\"colab-df-quickchart\" onclick=\"quickchart('df-add1c575-9e54-4724-8b28-c1763c0426e4')\"\n",
              "            title=\"Suggest charts\"\n",
              "            style=\"display:none;\">\n",
              "\n",
              "<svg xmlns=\"http://www.w3.org/2000/svg\" height=\"24px\"viewBox=\"0 0 24 24\"\n",
              "     width=\"24px\">\n",
              "    <g>\n",
              "        <path d=\"M19 3H5c-1.1 0-2 .9-2 2v14c0 1.1.9 2 2 2h14c1.1 0 2-.9 2-2V5c0-1.1-.9-2-2-2zM9 17H7v-7h2v7zm4 0h-2V7h2v10zm4 0h-2v-4h2v4z\"/>\n",
              "    </g>\n",
              "</svg>\n",
              "  </button>\n",
              "\n",
              "<style>\n",
              "  .colab-df-quickchart {\n",
              "      --bg-color: #E8F0FE;\n",
              "      --fill-color: #1967D2;\n",
              "      --hover-bg-color: #E2EBFA;\n",
              "      --hover-fill-color: #174EA6;\n",
              "      --disabled-fill-color: #AAA;\n",
              "      --disabled-bg-color: #DDD;\n",
              "  }\n",
              "\n",
              "  [theme=dark] .colab-df-quickchart {\n",
              "      --bg-color: #3B4455;\n",
              "      --fill-color: #D2E3FC;\n",
              "      --hover-bg-color: #434B5C;\n",
              "      --hover-fill-color: #FFFFFF;\n",
              "      --disabled-bg-color: #3B4455;\n",
              "      --disabled-fill-color: #666;\n",
              "  }\n",
              "\n",
              "  .colab-df-quickchart {\n",
              "    background-color: var(--bg-color);\n",
              "    border: none;\n",
              "    border-radius: 50%;\n",
              "    cursor: pointer;\n",
              "    display: none;\n",
              "    fill: var(--fill-color);\n",
              "    height: 32px;\n",
              "    padding: 0;\n",
              "    width: 32px;\n",
              "  }\n",
              "\n",
              "  .colab-df-quickchart:hover {\n",
              "    background-color: var(--hover-bg-color);\n",
              "    box-shadow: 0 1px 2px rgba(60, 64, 67, 0.3), 0 1px 3px 1px rgba(60, 64, 67, 0.15);\n",
              "    fill: var(--button-hover-fill-color);\n",
              "  }\n",
              "\n",
              "  .colab-df-quickchart-complete:disabled,\n",
              "  .colab-df-quickchart-complete:disabled:hover {\n",
              "    background-color: var(--disabled-bg-color);\n",
              "    fill: var(--disabled-fill-color);\n",
              "    box-shadow: none;\n",
              "  }\n",
              "\n",
              "  .colab-df-spinner {\n",
              "    border: 2px solid var(--fill-color);\n",
              "    border-color: transparent;\n",
              "    border-bottom-color: var(--fill-color);\n",
              "    animation:\n",
              "      spin 1s steps(1) infinite;\n",
              "  }\n",
              "\n",
              "  @keyframes spin {\n",
              "    0% {\n",
              "      border-color: transparent;\n",
              "      border-bottom-color: var(--fill-color);\n",
              "      border-left-color: var(--fill-color);\n",
              "    }\n",
              "    20% {\n",
              "      border-color: transparent;\n",
              "      border-left-color: var(--fill-color);\n",
              "      border-top-color: var(--fill-color);\n",
              "    }\n",
              "    30% {\n",
              "      border-color: transparent;\n",
              "      border-left-color: var(--fill-color);\n",
              "      border-top-color: var(--fill-color);\n",
              "      border-right-color: var(--fill-color);\n",
              "    }\n",
              "    40% {\n",
              "      border-color: transparent;\n",
              "      border-right-color: var(--fill-color);\n",
              "      border-top-color: var(--fill-color);\n",
              "    }\n",
              "    60% {\n",
              "      border-color: transparent;\n",
              "      border-right-color: var(--fill-color);\n",
              "    }\n",
              "    80% {\n",
              "      border-color: transparent;\n",
              "      border-right-color: var(--fill-color);\n",
              "      border-bottom-color: var(--fill-color);\n",
              "    }\n",
              "    90% {\n",
              "      border-color: transparent;\n",
              "      border-bottom-color: var(--fill-color);\n",
              "    }\n",
              "  }\n",
              "</style>\n",
              "\n",
              "  <script>\n",
              "    async function quickchart(key) {\n",
              "      const quickchartButtonEl =\n",
              "        document.querySelector('#' + key + ' button');\n",
              "      quickchartButtonEl.disabled = true;  // To prevent multiple clicks.\n",
              "      quickchartButtonEl.classList.add('colab-df-spinner');\n",
              "      try {\n",
              "        const charts = await google.colab.kernel.invokeFunction(\n",
              "            'suggestCharts', [key], {});\n",
              "      } catch (error) {\n",
              "        console.error('Error during call to suggestCharts:', error);\n",
              "      }\n",
              "      quickchartButtonEl.classList.remove('colab-df-spinner');\n",
              "      quickchartButtonEl.classList.add('colab-df-quickchart-complete');\n",
              "    }\n",
              "    (() => {\n",
              "      let quickchartButtonEl =\n",
              "        document.querySelector('#df-add1c575-9e54-4724-8b28-c1763c0426e4 button');\n",
              "      quickchartButtonEl.style.display =\n",
              "        google.colab.kernel.accessAllowed ? 'block' : 'none';\n",
              "    })();\n",
              "  </script>\n",
              "</div>\n",
              "    </div>\n",
              "  </div>\n"
            ]
          },
          "metadata": {},
          "execution_count": 21
        }
      ]
    },
    {
      "cell_type": "code",
      "source": [
        "powerDF.shape, praatAcousticFeatsDf.shape"
      ],
      "metadata": {
        "colab": {
          "base_uri": "https://localhost:8080/"
        },
        "outputId": "f24c9b97-86a3-4a98-a1e1-87c60c64343e",
        "id": "KUWsPGepDOjh"
      },
      "execution_count": null,
      "outputs": [
        {
          "output_type": "execute_result",
          "data": {
            "text/plain": [
              "((624, 4), (182, 9))"
            ]
          },
          "metadata": {},
          "execution_count": 22
        }
      ]
    },
    {
      "cell_type": "code",
      "source": [
        "powerDF=powerDF.iloc[0:372]\n",
        "powerDF.shape"
      ],
      "metadata": {
        "colab": {
          "base_uri": "https://localhost:8080/"
        },
        "id": "SY6NFDs1D42W",
        "outputId": "5ee69b1e-6488-4dbf-9be9-51c977e2f2c3"
      },
      "execution_count": null,
      "outputs": [
        {
          "output_type": "execute_result",
          "data": {
            "text/plain": [
              "(372, 4)"
            ]
          },
          "metadata": {},
          "execution_count": 23
        }
      ]
    },
    {
      "cell_type": "code",
      "source": [
        "dfArray = powerDF.to_numpy()\n",
        "reshaped_array = dfArray.reshape(-1, 2, dfArray.shape[1])\n",
        "\n",
        "averaged_array = reshaped_array.mean(axis=1)\n",
        "\n",
        "# Create a new DataFrame from the averaged array\n",
        "columns = powerDF.columns  # Assuming you want to keep the same columns\n",
        "resampled_powerDF = pd.DataFrame(averaged_array, columns=columns)\n",
        "resampled_powerDF.shape"
      ],
      "metadata": {
        "colab": {
          "base_uri": "https://localhost:8080/"
        },
        "outputId": "1d92b380-9de5-475a-bac4-bf071443b897",
        "id": "Eml5ogt-DOjh"
      },
      "execution_count": null,
      "outputs": [
        {
          "output_type": "execute_result",
          "data": {
            "text/plain": [
              "(186, 4)"
            ]
          },
          "metadata": {},
          "execution_count": 24
        }
      ]
    },
    {
      "cell_type": "code",
      "source": [
        "resampled_powerDF = resampled_powerDF.iloc[:praatAcousticFeatsDf.shape[0]]\n",
        "resampled_powerDF.shape"
      ],
      "metadata": {
        "colab": {
          "base_uri": "https://localhost:8080/"
        },
        "outputId": "56bebde0-53dc-49fc-c550-5286714beabf",
        "id": "RStp1RtwDOjh"
      },
      "execution_count": null,
      "outputs": [
        {
          "output_type": "execute_result",
          "data": {
            "text/plain": [
              "(182, 4)"
            ]
          },
          "metadata": {},
          "execution_count": 25
        }
      ]
    },
    {
      "cell_type": "code",
      "source": [
        "powerPraatDF = pd.concat([resampled_powerDF, praatAcousticFeatsDf], axis=1)\n",
        "powerPraatDF.head()"
      ],
      "metadata": {
        "colab": {
          "base_uri": "https://localhost:8080/",
          "height": 241
        },
        "outputId": "3a849a69-f0ed-4668-b599-5d9a8958fd20",
        "id": "UUobGMbKDOji"
      },
      "execution_count": null,
      "outputs": [
        {
          "output_type": "execute_result",
          "data": {
            "text/plain": [
              "   Power: Left OFC  Power: Left vlPFC  Power: Right OFC  Power: Right vlPFC  \\\n",
              "0         5.390675          10.287276         10.537470            9.771376   \n",
              "1         5.217093           8.292771          6.549079           11.429179   \n",
              "2         6.638462           8.456553          5.166038            9.499027   \n",
              "3         6.675131          10.542879          6.596650           14.070357   \n",
              "4         6.869453          10.128801          9.053532           12.241157   \n",
              "\n",
              "   speechrate(nsyll / dur)  \\\n",
              "0                      0.0   \n",
              "1                      2.0   \n",
              "2                      1.5   \n",
              "3                      0.0   \n",
              "4                      2.5   \n",
              "\n",
              "   Average Syllable Duration (speakingtot/voicedcount)  \\\n",
              "0                                                NaN     \n",
              "1                                               0.50     \n",
              "2                                               0.56     \n",
              "3                                                NaN     \n",
              "4                                               0.40     \n",
              "\n",
              "   articulation rate(nsyll / phonationtime)  Speech-to-pause ratio  \\\n",
              "0                                       NaN                    NaN   \n",
              "1                                  2.000000                    NaN   \n",
              "2                                  1.785714               5.250000   \n",
              "3                                  0.000000               0.612903   \n",
              "4                                  2.500000                    NaN   \n",
              "\n",
              "   Mean Syllable Period  Variability of Syllable Period  Mean Pause Duration  \\\n",
              "0                   NaN                             NaN                  NaN   \n",
              "1              0.500000                        0.393564                 0.00   \n",
              "2              0.666667                        0.331196                 0.16   \n",
              "3              0.000000                        0.000000                 1.24   \n",
              "4              0.400000                        0.479806                 0.00   \n",
              "\n",
              "   Variability of Pause Duration  # of pauses  \n",
              "0                            NaN            0  \n",
              "1                           0.00            1  \n",
              "2                           0.32            2  \n",
              "3                           0.00            1  \n",
              "4                           0.00            1  "
            ],
            "text/html": [
              "\n",
              "  <div id=\"df-4841521e-9796-459f-869d-e8785b1d5ffd\" class=\"colab-df-container\">\n",
              "    <div>\n",
              "<style scoped>\n",
              "    .dataframe tbody tr th:only-of-type {\n",
              "        vertical-align: middle;\n",
              "    }\n",
              "\n",
              "    .dataframe tbody tr th {\n",
              "        vertical-align: top;\n",
              "    }\n",
              "\n",
              "    .dataframe thead th {\n",
              "        text-align: right;\n",
              "    }\n",
              "</style>\n",
              "<table border=\"1\" class=\"dataframe\">\n",
              "  <thead>\n",
              "    <tr style=\"text-align: right;\">\n",
              "      <th></th>\n",
              "      <th>Power: Left OFC</th>\n",
              "      <th>Power: Left vlPFC</th>\n",
              "      <th>Power: Right OFC</th>\n",
              "      <th>Power: Right vlPFC</th>\n",
              "      <th>speechrate(nsyll / dur)</th>\n",
              "      <th>Average Syllable Duration (speakingtot/voicedcount)</th>\n",
              "      <th>articulation rate(nsyll / phonationtime)</th>\n",
              "      <th>Speech-to-pause ratio</th>\n",
              "      <th>Mean Syllable Period</th>\n",
              "      <th>Variability of Syllable Period</th>\n",
              "      <th>Mean Pause Duration</th>\n",
              "      <th>Variability of Pause Duration</th>\n",
              "      <th># of pauses</th>\n",
              "    </tr>\n",
              "  </thead>\n",
              "  <tbody>\n",
              "    <tr>\n",
              "      <th>0</th>\n",
              "      <td>5.390675</td>\n",
              "      <td>10.287276</td>\n",
              "      <td>10.537470</td>\n",
              "      <td>9.771376</td>\n",
              "      <td>0.0</td>\n",
              "      <td>NaN</td>\n",
              "      <td>NaN</td>\n",
              "      <td>NaN</td>\n",
              "      <td>NaN</td>\n",
              "      <td>NaN</td>\n",
              "      <td>NaN</td>\n",
              "      <td>NaN</td>\n",
              "      <td>0</td>\n",
              "    </tr>\n",
              "    <tr>\n",
              "      <th>1</th>\n",
              "      <td>5.217093</td>\n",
              "      <td>8.292771</td>\n",
              "      <td>6.549079</td>\n",
              "      <td>11.429179</td>\n",
              "      <td>2.0</td>\n",
              "      <td>0.50</td>\n",
              "      <td>2.000000</td>\n",
              "      <td>NaN</td>\n",
              "      <td>0.500000</td>\n",
              "      <td>0.393564</td>\n",
              "      <td>0.00</td>\n",
              "      <td>0.00</td>\n",
              "      <td>1</td>\n",
              "    </tr>\n",
              "    <tr>\n",
              "      <th>2</th>\n",
              "      <td>6.638462</td>\n",
              "      <td>8.456553</td>\n",
              "      <td>5.166038</td>\n",
              "      <td>9.499027</td>\n",
              "      <td>1.5</td>\n",
              "      <td>0.56</td>\n",
              "      <td>1.785714</td>\n",
              "      <td>5.250000</td>\n",
              "      <td>0.666667</td>\n",
              "      <td>0.331196</td>\n",
              "      <td>0.16</td>\n",
              "      <td>0.32</td>\n",
              "      <td>2</td>\n",
              "    </tr>\n",
              "    <tr>\n",
              "      <th>3</th>\n",
              "      <td>6.675131</td>\n",
              "      <td>10.542879</td>\n",
              "      <td>6.596650</td>\n",
              "      <td>14.070357</td>\n",
              "      <td>0.0</td>\n",
              "      <td>NaN</td>\n",
              "      <td>0.000000</td>\n",
              "      <td>0.612903</td>\n",
              "      <td>0.000000</td>\n",
              "      <td>0.000000</td>\n",
              "      <td>1.24</td>\n",
              "      <td>0.00</td>\n",
              "      <td>1</td>\n",
              "    </tr>\n",
              "    <tr>\n",
              "      <th>4</th>\n",
              "      <td>6.869453</td>\n",
              "      <td>10.128801</td>\n",
              "      <td>9.053532</td>\n",
              "      <td>12.241157</td>\n",
              "      <td>2.5</td>\n",
              "      <td>0.40</td>\n",
              "      <td>2.500000</td>\n",
              "      <td>NaN</td>\n",
              "      <td>0.400000</td>\n",
              "      <td>0.479806</td>\n",
              "      <td>0.00</td>\n",
              "      <td>0.00</td>\n",
              "      <td>1</td>\n",
              "    </tr>\n",
              "  </tbody>\n",
              "</table>\n",
              "</div>\n",
              "    <div class=\"colab-df-buttons\">\n",
              "\n",
              "  <div class=\"colab-df-container\">\n",
              "    <button class=\"colab-df-convert\" onclick=\"convertToInteractive('df-4841521e-9796-459f-869d-e8785b1d5ffd')\"\n",
              "            title=\"Convert this dataframe to an interactive table.\"\n",
              "            style=\"display:none;\">\n",
              "\n",
              "  <svg xmlns=\"http://www.w3.org/2000/svg\" height=\"24px\" viewBox=\"0 -960 960 960\">\n",
              "    <path d=\"M120-120v-720h720v720H120Zm60-500h600v-160H180v160Zm220 220h160v-160H400v160Zm0 220h160v-160H400v160ZM180-400h160v-160H180v160Zm440 0h160v-160H620v160ZM180-180h160v-160H180v160Zm440 0h160v-160H620v160Z\"/>\n",
              "  </svg>\n",
              "    </button>\n",
              "\n",
              "  <style>\n",
              "    .colab-df-container {\n",
              "      display:flex;\n",
              "      gap: 12px;\n",
              "    }\n",
              "\n",
              "    .colab-df-convert {\n",
              "      background-color: #E8F0FE;\n",
              "      border: none;\n",
              "      border-radius: 50%;\n",
              "      cursor: pointer;\n",
              "      display: none;\n",
              "      fill: #1967D2;\n",
              "      height: 32px;\n",
              "      padding: 0 0 0 0;\n",
              "      width: 32px;\n",
              "    }\n",
              "\n",
              "    .colab-df-convert:hover {\n",
              "      background-color: #E2EBFA;\n",
              "      box-shadow: 0px 1px 2px rgba(60, 64, 67, 0.3), 0px 1px 3px 1px rgba(60, 64, 67, 0.15);\n",
              "      fill: #174EA6;\n",
              "    }\n",
              "\n",
              "    .colab-df-buttons div {\n",
              "      margin-bottom: 4px;\n",
              "    }\n",
              "\n",
              "    [theme=dark] .colab-df-convert {\n",
              "      background-color: #3B4455;\n",
              "      fill: #D2E3FC;\n",
              "    }\n",
              "\n",
              "    [theme=dark] .colab-df-convert:hover {\n",
              "      background-color: #434B5C;\n",
              "      box-shadow: 0px 1px 3px 1px rgba(0, 0, 0, 0.15);\n",
              "      filter: drop-shadow(0px 1px 2px rgba(0, 0, 0, 0.3));\n",
              "      fill: #FFFFFF;\n",
              "    }\n",
              "  </style>\n",
              "\n",
              "    <script>\n",
              "      const buttonEl =\n",
              "        document.querySelector('#df-4841521e-9796-459f-869d-e8785b1d5ffd button.colab-df-convert');\n",
              "      buttonEl.style.display =\n",
              "        google.colab.kernel.accessAllowed ? 'block' : 'none';\n",
              "\n",
              "      async function convertToInteractive(key) {\n",
              "        const element = document.querySelector('#df-4841521e-9796-459f-869d-e8785b1d5ffd');\n",
              "        const dataTable =\n",
              "          await google.colab.kernel.invokeFunction('convertToInteractive',\n",
              "                                                    [key], {});\n",
              "        if (!dataTable) return;\n",
              "\n",
              "        const docLinkHtml = 'Like what you see? Visit the ' +\n",
              "          '<a target=\"_blank\" href=https://colab.research.google.com/notebooks/data_table.ipynb>data table notebook</a>'\n",
              "          + ' to learn more about interactive tables.';\n",
              "        element.innerHTML = '';\n",
              "        dataTable['output_type'] = 'display_data';\n",
              "        await google.colab.output.renderOutput(dataTable, element);\n",
              "        const docLink = document.createElement('div');\n",
              "        docLink.innerHTML = docLinkHtml;\n",
              "        element.appendChild(docLink);\n",
              "      }\n",
              "    </script>\n",
              "  </div>\n",
              "\n",
              "\n",
              "<div id=\"df-f4236952-5b98-407d-82cf-2a62ad4eccc0\">\n",
              "  <button class=\"colab-df-quickchart\" onclick=\"quickchart('df-f4236952-5b98-407d-82cf-2a62ad4eccc0')\"\n",
              "            title=\"Suggest charts\"\n",
              "            style=\"display:none;\">\n",
              "\n",
              "<svg xmlns=\"http://www.w3.org/2000/svg\" height=\"24px\"viewBox=\"0 0 24 24\"\n",
              "     width=\"24px\">\n",
              "    <g>\n",
              "        <path d=\"M19 3H5c-1.1 0-2 .9-2 2v14c0 1.1.9 2 2 2h14c1.1 0 2-.9 2-2V5c0-1.1-.9-2-2-2zM9 17H7v-7h2v7zm4 0h-2V7h2v10zm4 0h-2v-4h2v4z\"/>\n",
              "    </g>\n",
              "</svg>\n",
              "  </button>\n",
              "\n",
              "<style>\n",
              "  .colab-df-quickchart {\n",
              "      --bg-color: #E8F0FE;\n",
              "      --fill-color: #1967D2;\n",
              "      --hover-bg-color: #E2EBFA;\n",
              "      --hover-fill-color: #174EA6;\n",
              "      --disabled-fill-color: #AAA;\n",
              "      --disabled-bg-color: #DDD;\n",
              "  }\n",
              "\n",
              "  [theme=dark] .colab-df-quickchart {\n",
              "      --bg-color: #3B4455;\n",
              "      --fill-color: #D2E3FC;\n",
              "      --hover-bg-color: #434B5C;\n",
              "      --hover-fill-color: #FFFFFF;\n",
              "      --disabled-bg-color: #3B4455;\n",
              "      --disabled-fill-color: #666;\n",
              "  }\n",
              "\n",
              "  .colab-df-quickchart {\n",
              "    background-color: var(--bg-color);\n",
              "    border: none;\n",
              "    border-radius: 50%;\n",
              "    cursor: pointer;\n",
              "    display: none;\n",
              "    fill: var(--fill-color);\n",
              "    height: 32px;\n",
              "    padding: 0;\n",
              "    width: 32px;\n",
              "  }\n",
              "\n",
              "  .colab-df-quickchart:hover {\n",
              "    background-color: var(--hover-bg-color);\n",
              "    box-shadow: 0 1px 2px rgba(60, 64, 67, 0.3), 0 1px 3px 1px rgba(60, 64, 67, 0.15);\n",
              "    fill: var(--button-hover-fill-color);\n",
              "  }\n",
              "\n",
              "  .colab-df-quickchart-complete:disabled,\n",
              "  .colab-df-quickchart-complete:disabled:hover {\n",
              "    background-color: var(--disabled-bg-color);\n",
              "    fill: var(--disabled-fill-color);\n",
              "    box-shadow: none;\n",
              "  }\n",
              "\n",
              "  .colab-df-spinner {\n",
              "    border: 2px solid var(--fill-color);\n",
              "    border-color: transparent;\n",
              "    border-bottom-color: var(--fill-color);\n",
              "    animation:\n",
              "      spin 1s steps(1) infinite;\n",
              "  }\n",
              "\n",
              "  @keyframes spin {\n",
              "    0% {\n",
              "      border-color: transparent;\n",
              "      border-bottom-color: var(--fill-color);\n",
              "      border-left-color: var(--fill-color);\n",
              "    }\n",
              "    20% {\n",
              "      border-color: transparent;\n",
              "      border-left-color: var(--fill-color);\n",
              "      border-top-color: var(--fill-color);\n",
              "    }\n",
              "    30% {\n",
              "      border-color: transparent;\n",
              "      border-left-color: var(--fill-color);\n",
              "      border-top-color: var(--fill-color);\n",
              "      border-right-color: var(--fill-color);\n",
              "    }\n",
              "    40% {\n",
              "      border-color: transparent;\n",
              "      border-right-color: var(--fill-color);\n",
              "      border-top-color: var(--fill-color);\n",
              "    }\n",
              "    60% {\n",
              "      border-color: transparent;\n",
              "      border-right-color: var(--fill-color);\n",
              "    }\n",
              "    80% {\n",
              "      border-color: transparent;\n",
              "      border-right-color: var(--fill-color);\n",
              "      border-bottom-color: var(--fill-color);\n",
              "    }\n",
              "    90% {\n",
              "      border-color: transparent;\n",
              "      border-bottom-color: var(--fill-color);\n",
              "    }\n",
              "  }\n",
              "</style>\n",
              "\n",
              "  <script>\n",
              "    async function quickchart(key) {\n",
              "      const quickchartButtonEl =\n",
              "        document.querySelector('#' + key + ' button');\n",
              "      quickchartButtonEl.disabled = true;  // To prevent multiple clicks.\n",
              "      quickchartButtonEl.classList.add('colab-df-spinner');\n",
              "      try {\n",
              "        const charts = await google.colab.kernel.invokeFunction(\n",
              "            'suggestCharts', [key], {});\n",
              "      } catch (error) {\n",
              "        console.error('Error during call to suggestCharts:', error);\n",
              "      }\n",
              "      quickchartButtonEl.classList.remove('colab-df-spinner');\n",
              "      quickchartButtonEl.classList.add('colab-df-quickchart-complete');\n",
              "    }\n",
              "    (() => {\n",
              "      let quickchartButtonEl =\n",
              "        document.querySelector('#df-f4236952-5b98-407d-82cf-2a62ad4eccc0 button');\n",
              "      quickchartButtonEl.style.display =\n",
              "        google.colab.kernel.accessAllowed ? 'block' : 'none';\n",
              "    })();\n",
              "  </script>\n",
              "</div>\n",
              "    </div>\n",
              "  </div>\n"
            ]
          },
          "metadata": {},
          "execution_count": 26
        }
      ]
    },
    {
      "cell_type": "code",
      "source": [
        "powerPraatDF.shape"
      ],
      "metadata": {
        "colab": {
          "base_uri": "https://localhost:8080/"
        },
        "outputId": "aa8a492b-360b-4d4f-9bd8-7388b2d1aebd",
        "id": "fvRmYWSxDOji"
      },
      "execution_count": null,
      "outputs": [
        {
          "output_type": "execute_result",
          "data": {
            "text/plain": [
              "(182, 13)"
            ]
          },
          "metadata": {},
          "execution_count": 27
        }
      ]
    },
    {
      "cell_type": "markdown",
      "source": [
        "Website to compute p value from r value and n: http://vassarstats.net/tabs_r.html"
      ],
      "metadata": {
        "id": "OnOhhbprDOji"
      }
    },
    {
      "cell_type": "code",
      "source": [
        "rValFor99ConfidenceLevel = 0.1885\n",
        "rValFor95ConfidenceLevel = 0.144"
      ],
      "metadata": {
        "id": "eHp9yWgDDOjj"
      },
      "execution_count": null,
      "outputs": []
    },
    {
      "cell_type": "code",
      "source": [],
      "metadata": {
        "id": "PvYDE2x3Wisz"
      },
      "execution_count": null,
      "outputs": []
    },
    {
      "cell_type": "markdown",
      "source": [
        "##random noise t-test (2)"
      ],
      "metadata": {
        "id": "lzZHmC05Wi0D"
      }
    },
    {
      "cell_type": "code",
      "source": [
        "import numpy as np"
      ],
      "metadata": {
        "id": "UgvGJn1iWi0F"
      },
      "execution_count": null,
      "outputs": []
    },
    {
      "cell_type": "code",
      "source": [
        "# Set a seed for reproducibility (optional)\n",
        "np.random.seed(35)\n",
        "\n",
        "# Mean and standard deviation of the Gaussian distribution\n",
        "mean_value = 0\n",
        "std_dev = 1\n",
        "\n",
        "# Generate a random 1136-element numpy array from a Gaussian distribution\n",
        "random_array = np.random.normal(mean_value, std_dev, powerPraatDF.shape[0])\n"
      ],
      "metadata": {
        "id": "wQSlP-Y8Wi0F"
      },
      "execution_count": null,
      "outputs": []
    },
    {
      "cell_type": "code",
      "source": [
        "powerPraatDF['Noise'] = random_array"
      ],
      "metadata": {
        "id": "Z3lgUsKbWi0F"
      },
      "execution_count": null,
      "outputs": []
    },
    {
      "cell_type": "code",
      "source": [
        "powerPraatDF.corr()['Noise'][4:-1]#.abs()"
      ],
      "metadata": {
        "colab": {
          "base_uri": "https://localhost:8080/"
        },
        "outputId": "b035d141-1527-4a80-edbe-e57a130b6345",
        "id": "UYjrlQ8zWi0G"
      },
      "execution_count": null,
      "outputs": [
        {
          "output_type": "execute_result",
          "data": {
            "text/plain": [
              "speechrate(nsyll / dur)                               -0.024597\n",
              "Average Syllable Duration (speakingtot/voicedcount)   -0.223240\n",
              "articulation rate(nsyll / phonationtime)               0.152776\n",
              "Speech-to-pause ratio                                 -0.054681\n",
              "Mean Syllable Period                                  -0.072172\n",
              "Variability of Syllable Period                         0.124826\n",
              "Mean Pause Duration                                   -0.022375\n",
              "Variability of Pause Duration                          0.097475\n",
              "# of pauses                                            0.086312\n",
              "Name: Noise, dtype: float64"
            ]
          },
          "metadata": {},
          "execution_count": 32
        }
      ]
    },
    {
      "cell_type": "code",
      "source": [
        "correlations_Noise = powerPraatDF.corr()['Noise'][4:-1]#.abs()"
      ],
      "metadata": {
        "id": "dFJsKr49Wi0G"
      },
      "execution_count": null,
      "outputs": []
    },
    {
      "cell_type": "code",
      "source": [
        "positiveCorrelationCondition = correlations_Noise > rValFor95ConfidenceLevel\n",
        "negativeCorrelationCondition = correlations_Noise < -1* rValFor95ConfidenceLevel\n",
        "noiseCorrelates = correlations_Noise[ positiveCorrelationCondition | negativeCorrelationCondition]\n",
        "noiseCorrelates.head = 'r'\n",
        "\n",
        "print(\"# of acoustic features where p < 0.05:\", len(noiseCorrelates))\n",
        "noiseCorrelates.nlargest(len(noiseCorrelates)) # for sorting"
      ],
      "metadata": {
        "colab": {
          "base_uri": "https://localhost:8080/"
        },
        "outputId": "c265d3f7-1669-4d32-e1a4-68d04fb7ce15",
        "id": "KAPgFNpmWi0H"
      },
      "execution_count": null,
      "outputs": [
        {
          "output_type": "stream",
          "name": "stdout",
          "text": [
            "# of acoustic features where p < 0.05: 2\n"
          ]
        },
        {
          "output_type": "execute_result",
          "data": {
            "text/plain": [
              "articulation rate(nsyll / phonationtime)    0.155740\n",
              "Speech-to-pause ratio                      -0.207571\n",
              "Name: Noise, dtype: float64"
            ]
          },
          "metadata": {},
          "execution_count": 106
        }
      ]
    },
    {
      "cell_type": "markdown",
      "source": [
        "##Right vLPFC (0)"
      ],
      "metadata": {
        "id": "neidzr5KDOjj"
      }
    },
    {
      "cell_type": "code",
      "source": [
        "# Assuming powerAmplitudeAllLLDdf is your DataFrame\n",
        "correlations_Right_vlPFC = powerPraatDF.corr()['Power: Right vlPFC'][8:].abs()\n",
        "AcousticCorrelates99_Right_vlPFC = correlations_Right_vlPFC[correlations_Right_vlPFC > rValFor99ConfidenceLevel]\n",
        "print(\"# of acoustic features where p < 0.01:\", len(AcousticCorrelates99_Right_vlPFC))\n",
        "AcousticCorrelates99_Right_vlPFC.nlargest(len(AcousticCorrelates99_Right_vlPFC)) # for sorting"
      ],
      "metadata": {
        "colab": {
          "base_uri": "https://localhost:8080/"
        },
        "outputId": "96479bf3-a95c-4ce3-a26e-9c9818ed14ce",
        "id": "s6rHwbmaDOjj"
      },
      "execution_count": null,
      "outputs": [
        {
          "output_type": "stream",
          "name": "stdout",
          "text": [
            "# of acoustic features where p < 0.01: 0\n"
          ]
        },
        {
          "output_type": "execute_result",
          "data": {
            "text/plain": [
              "Series([], Name: Power: Right vlPFC, dtype: float64)"
            ]
          },
          "metadata": {},
          "execution_count": 33
        }
      ]
    },
    {
      "cell_type": "code",
      "source": [
        "# Assuming powerAmplitudeAllLLDdf is your DataFrame\n",
        "AcousticCorrelates95_Right_vlPFC = correlations_Right_vlPFC[correlations_Right_vlPFC > rValFor95ConfidenceLevel]\n",
        "print(\"# of acoustic features where p < 0.05:\", len(AcousticCorrelates95_Right_vlPFC))\n",
        "AcousticCorrelates95_Right_vlPFC.nlargest(len(AcousticCorrelates95_Right_vlPFC)) # for sorting"
      ],
      "metadata": {
        "colab": {
          "base_uri": "https://localhost:8080/"
        },
        "outputId": "395507ce-8ad6-409c-9e8d-d93955ce7756",
        "id": "si1CwVGoDOjk"
      },
      "execution_count": null,
      "outputs": [
        {
          "output_type": "stream",
          "name": "stdout",
          "text": [
            "# of acoustic features where p < 0.05: 0\n"
          ]
        },
        {
          "output_type": "execute_result",
          "data": {
            "text/plain": [
              "Series([], Name: Power: Right vlPFC, dtype: float64)"
            ]
          },
          "metadata": {},
          "execution_count": 34
        }
      ]
    },
    {
      "cell_type": "code",
      "source": [
        "AcousticCorrelates95_Right_vlPFC.nlargest(10).index.tolist()"
      ],
      "metadata": {
        "colab": {
          "base_uri": "https://localhost:8080/"
        },
        "outputId": "f3e576ef-6d47-4af0-801e-0a5f1a62a53f",
        "id": "--sJ90_ODOjk"
      },
      "execution_count": null,
      "outputs": [
        {
          "output_type": "execute_result",
          "data": {
            "text/plain": [
              "[]"
            ]
          },
          "metadata": {},
          "execution_count": 35
        }
      ]
    },
    {
      "cell_type": "markdown",
      "source": [
        "##Left vLPFC"
      ],
      "metadata": {
        "id": "PuXBUxDNDOjk"
      }
    },
    {
      "cell_type": "code",
      "source": [
        "# Assuming powerAmplitudeAllLLDdf is your DataFrame\n",
        "correlations_Left_vlPFC = powerPraatDF.corr()['Power: Left vlPFC'][8:].abs()\n",
        "AcousticCorrelates99_Left_vlPFC = correlations_Left_vlPFC[correlations_Left_vlPFC > rValFor99ConfidenceLevel]\n",
        "print(\"# of acoustic features where p < 0.01:\", len(AcousticCorrelates99_Left_vlPFC))\n",
        "AcousticCorrelates99_Left_vlPFC.nlargest(len(AcousticCorrelates99_Left_vlPFC)) # for sorting"
      ],
      "metadata": {
        "colab": {
          "base_uri": "https://localhost:8080/"
        },
        "outputId": "0dafc3f3-5ced-4d14-acde-95e330e49855",
        "id": "2wFnxQ2BDOjl"
      },
      "execution_count": null,
      "outputs": [
        {
          "output_type": "stream",
          "name": "stdout",
          "text": [
            "# of acoustic features where p < 0.01: 0\n"
          ]
        },
        {
          "output_type": "execute_result",
          "data": {
            "text/plain": [
              "Series([], Name: Power: Left vlPFC, dtype: float64)"
            ]
          },
          "metadata": {},
          "execution_count": 36
        }
      ]
    },
    {
      "cell_type": "code",
      "source": [
        "# Assuming powerAmplitudeAllLLDdf is your DataFrame\n",
        "AcousticCorrelates95_Left_vlPFC = correlations_Left_vlPFC[correlations_Left_vlPFC > rValFor95ConfidenceLevel]\n",
        "print(\"# of acoustic features where p < 0.05:\", len(AcousticCorrelates95_Left_vlPFC))\n",
        "AcousticCorrelates95_Left_vlPFC.nlargest(len(AcousticCorrelates95_Left_vlPFC)) # for sorting"
      ],
      "metadata": {
        "colab": {
          "base_uri": "https://localhost:8080/"
        },
        "outputId": "82fd8f14-0881-49c5-ac5f-616d3a7b58a9",
        "id": "nMg-lF9dDOjl"
      },
      "execution_count": null,
      "outputs": [
        {
          "output_type": "stream",
          "name": "stdout",
          "text": [
            "# of acoustic features where p < 0.05: 0\n"
          ]
        },
        {
          "output_type": "execute_result",
          "data": {
            "text/plain": [
              "Series([], Name: Power: Left vlPFC, dtype: float64)"
            ]
          },
          "metadata": {},
          "execution_count": 37
        }
      ]
    },
    {
      "cell_type": "code",
      "source": [
        "AcousticCorrelates95_Left_vlPFC.nlargest(10).index.tolist()"
      ],
      "metadata": {
        "colab": {
          "base_uri": "https://localhost:8080/"
        },
        "outputId": "6a45d439-bea2-4e47-83c5-5cf959d91595",
        "id": "5vurM8hPDOjm"
      },
      "execution_count": null,
      "outputs": [
        {
          "output_type": "execute_result",
          "data": {
            "text/plain": [
              "[]"
            ]
          },
          "metadata": {},
          "execution_count": 38
        }
      ]
    },
    {
      "cell_type": "markdown",
      "source": [
        "##Right OFC"
      ],
      "metadata": {
        "id": "Jg9WuE9uDOjm"
      }
    },
    {
      "cell_type": "code",
      "source": [
        "# Assuming powerAmplitudeAllLLDdf is your DataFrame\n",
        "correlations_Right_OFC = powerPraatDF.corr()['Power: Right OFC'][8:].abs()\n",
        "AcousticCorrelates99_Right_OFC = correlations_Right_OFC[correlations_Right_OFC > rValFor99ConfidenceLevel]\n",
        "print(\"# of acoustic features where p < 0.01:\", len(AcousticCorrelates99_Right_OFC))\n",
        "AcousticCorrelates99_Right_OFC.nlargest(len(AcousticCorrelates99_Right_OFC)) # for sorting"
      ],
      "metadata": {
        "colab": {
          "base_uri": "https://localhost:8080/"
        },
        "outputId": "57ff0927-e51b-43d8-aaf3-6620d26efb3c",
        "id": "Zn0TNfhVDOjm"
      },
      "execution_count": null,
      "outputs": [
        {
          "output_type": "stream",
          "name": "stdout",
          "text": [
            "# of acoustic features where p < 0.01: 0\n"
          ]
        },
        {
          "output_type": "execute_result",
          "data": {
            "text/plain": [
              "Series([], Name: Power: Right OFC, dtype: float64)"
            ]
          },
          "metadata": {},
          "execution_count": 39
        }
      ]
    },
    {
      "cell_type": "code",
      "source": [
        "# Assuming powerAmplitudeAllLLDdf is your DataFrame\n",
        "AcousticCorrelates95_Right_OFC = correlations_Right_OFC[correlations_Right_OFC > rValFor95ConfidenceLevel]\n",
        "print(\"# of acoustic features where p < 0.05:\", len(AcousticCorrelates95_Right_OFC))\n",
        "AcousticCorrelates95_Right_OFC.nlargest(len(AcousticCorrelates95_Right_OFC)) # for sorting"
      ],
      "metadata": {
        "colab": {
          "base_uri": "https://localhost:8080/"
        },
        "outputId": "9f0bb467-331b-4dec-cd94-8856e41923df",
        "id": "gyoR2gGXDOjn"
      },
      "execution_count": null,
      "outputs": [
        {
          "output_type": "stream",
          "name": "stdout",
          "text": [
            "# of acoustic features where p < 0.05: 2\n"
          ]
        },
        {
          "output_type": "execute_result",
          "data": {
            "text/plain": [
              "Variability of Pause Duration     0.151306\n",
              "Variability of Syllable Period    0.145986\n",
              "Name: Power: Right OFC, dtype: float64"
            ]
          },
          "metadata": {},
          "execution_count": 40
        }
      ]
    },
    {
      "cell_type": "code",
      "source": [
        "AcousticCorrelates95_Right_OFC.nlargest(10).index.tolist()"
      ],
      "metadata": {
        "colab": {
          "base_uri": "https://localhost:8080/"
        },
        "outputId": "087c05d6-3f40-4067-8307-578c508011e5",
        "id": "3PR1CaJWDOjn"
      },
      "execution_count": null,
      "outputs": [
        {
          "output_type": "execute_result",
          "data": {
            "text/plain": [
              "['Variability of Pause Duration', 'Variability of Syllable Period']"
            ]
          },
          "metadata": {},
          "execution_count": 41
        }
      ]
    },
    {
      "cell_type": "markdown",
      "source": [
        "##Left OFC"
      ],
      "metadata": {
        "id": "Rg9ZhywzDOjn"
      }
    },
    {
      "cell_type": "code",
      "source": [
        "# Assuming powerAmplitudeAllLLDdf is your DataFrame\n",
        "correlations_Left_OFC = powerPraatDF.corr()['Power: Left OFC'][8:].abs()\n",
        "AcousticCorrelates99_Left_OFC = correlations_Left_OFC[correlations_Left_OFC > rValFor99ConfidenceLevel]\n",
        "print(\"# of acoustic features where p < 0.01:\", len(AcousticCorrelates99_Left_OFC))\n",
        "AcousticCorrelates99_Left_OFC.nlargest(len(AcousticCorrelates99_Left_OFC)) # for sorting"
      ],
      "metadata": {
        "colab": {
          "base_uri": "https://localhost:8080/"
        },
        "outputId": "1e2be5fb-14a5-4567-d144-221d3025367e",
        "id": "j0gSKL24DOjo"
      },
      "execution_count": null,
      "outputs": [
        {
          "output_type": "stream",
          "name": "stdout",
          "text": [
            "# of acoustic features where p < 0.01: 0\n"
          ]
        },
        {
          "output_type": "execute_result",
          "data": {
            "text/plain": [
              "Series([], Name: Power: Left OFC, dtype: float64)"
            ]
          },
          "metadata": {},
          "execution_count": 42
        }
      ]
    },
    {
      "cell_type": "code",
      "source": [
        "# Assuming powerAmplitudeAllLLDdf is your DataFrame\n",
        "AcousticCorrelates95_Left_OFC = correlations_Left_OFC[correlations_Left_OFC > rValFor95ConfidenceLevel]\n",
        "print(\"# of acoustic features where p < 0.05:\", len(AcousticCorrelates95_Left_OFC))\n",
        "AcousticCorrelates95_Left_OFC.nlargest(len(AcousticCorrelates95_Left_OFC)) # for sorting"
      ],
      "metadata": {
        "colab": {
          "base_uri": "https://localhost:8080/"
        },
        "outputId": "5ffe7cea-1163-4872-8455-12abcf8eef3e",
        "id": "GSNi5NhRDOjo"
      },
      "execution_count": null,
      "outputs": [
        {
          "output_type": "stream",
          "name": "stdout",
          "text": [
            "# of acoustic features where p < 0.05: 1\n"
          ]
        },
        {
          "output_type": "execute_result",
          "data": {
            "text/plain": [
              "Mean Syllable Period    0.182978\n",
              "Name: Power: Left OFC, dtype: float64"
            ]
          },
          "metadata": {},
          "execution_count": 43
        }
      ]
    }
  ]
}