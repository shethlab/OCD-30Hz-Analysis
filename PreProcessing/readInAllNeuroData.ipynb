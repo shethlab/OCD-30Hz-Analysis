{
  "nbformat": 4,
  "nbformat_minor": 0,
  "metadata": {
    "colab": {
      "provenance": [],
      "collapsed_sections": [
        "oQH6p5urB-iY"
      ],
      "toc_visible": true
    },
    "kernelspec": {
      "name": "python3",
      "display_name": "Python 3"
    },
    "language_info": {
      "name": "python"
    }
  },
  "cells": [
    {
      "cell_type": "markdown",
      "source": [
        "#Loading in Neuro"
      ],
      "metadata": {
        "id": "KFcs_SwhhRIj"
      }
    },
    {
      "cell_type": "code",
      "execution_count": null,
      "metadata": {
        "id": "RcUwNuX0GUOx",
        "colab": {
          "base_uri": "https://localhost:8080/"
        },
        "outputId": "28e756a1-cffc-4009-ad15-eae8861542af"
      },
      "outputs": [
        {
          "output_type": "stream",
          "name": "stdout",
          "text": [
            "Archive:  Data_KP_NRP-lab.zip\n",
            "   creating: Data_KP_NRP-lab/\n",
            "  inflating: Data_KP_NRP-lab/.DS_Store  \n",
            "  inflating: __MACOSX/Data_KP_NRP-lab/._.DS_Store  \n",
            "   creating: Data_KP_NRP-lab/2022-09-09/\n",
            "   creating: Data_KP_NRP-lab/2022-10-04/\n",
            "   creating: Data_KP_NRP-lab/2023-02-27/\n",
            "   creating: Data_KP_NRP-lab/2022-11-15/\n",
            "   creating: Data_KP_NRP-lab/2022-09-19/\n",
            "  inflating: Data_KP_NRP-lab/2022-09-09/.DS_Store  \n",
            "  inflating: __MACOSX/Data_KP_NRP-lab/2022-09-09/._.DS_Store  \n",
            "   creating: Data_KP_NRP-lab/2022-09-09/AnalysisFiles/\n",
            "  inflating: Data_KP_NRP-lab/2022-10-04/.DS_Store  \n",
            "  inflating: __MACOSX/Data_KP_NRP-lab/2022-10-04/._.DS_Store  \n",
            "   creating: Data_KP_NRP-lab/2022-10-04/AnalysisFiles/\n",
            "  inflating: Data_KP_NRP-lab/2023-02-27/.DS_Store  \n",
            "  inflating: __MACOSX/Data_KP_NRP-lab/2023-02-27/._.DS_Store  \n",
            "   creating: Data_KP_NRP-lab/2023-02-27/AnalysisFiles/\n",
            "  inflating: Data_KP_NRP-lab/2022-11-15/.DS_Store  \n",
            "  inflating: __MACOSX/Data_KP_NRP-lab/2022-11-15/._.DS_Store  \n",
            "   creating: Data_KP_NRP-lab/2022-11-15/AnalysisFiles/\n",
            "  inflating: Data_KP_NRP-lab/2022-09-19/.DS_Store  \n",
            "  inflating: __MACOSX/Data_KP_NRP-lab/2022-09-19/._.DS_Store  \n",
            "   creating: Data_KP_NRP-lab/2022-09-19/AnalysisFiles/\n",
            "  inflating: Data_KP_NRP-lab/2022-09-09/AnalysisFiles/.DS_Store  \n",
            "  inflating: __MACOSX/Data_KP_NRP-lab/2022-09-09/AnalysisFiles/._.DS_Store  \n",
            "   creating: Data_KP_NRP-lab/2022-09-09/AnalysisFiles/amplitude/\n",
            "  inflating: Data_KP_NRP-lab/2022-10-04/AnalysisFiles/.DS_Store  \n",
            "  inflating: __MACOSX/Data_KP_NRP-lab/2022-10-04/AnalysisFiles/._.DS_Store  \n",
            "   creating: Data_KP_NRP-lab/2022-10-04/AnalysisFiles/amplitude/\n",
            "  inflating: Data_KP_NRP-lab/2023-02-27/AnalysisFiles/.DS_Store  \n",
            "  inflating: __MACOSX/Data_KP_NRP-lab/2023-02-27/AnalysisFiles/._.DS_Store  \n",
            "   creating: Data_KP_NRP-lab/2023-02-27/AnalysisFiles/amplitude/\n",
            "  inflating: Data_KP_NRP-lab/2022-11-15/AnalysisFiles/.DS_Store  \n",
            "  inflating: __MACOSX/Data_KP_NRP-lab/2022-11-15/AnalysisFiles/._.DS_Store  \n",
            "   creating: Data_KP_NRP-lab/2022-11-15/AnalysisFiles/amplitude/\n",
            "  inflating: Data_KP_NRP-lab/2022-09-19/AnalysisFiles/.DS_Store  \n",
            "  inflating: __MACOSX/Data_KP_NRP-lab/2022-09-19/AnalysisFiles/._.DS_Store  \n",
            "   creating: Data_KP_NRP-lab/2022-09-19/AnalysisFiles/amplitude/\n",
            "  inflating: Data_KP_NRP-lab/2022-09-09/AnalysisFiles/amplitude/.DS_Store  \n",
            "  inflating: __MACOSX/Data_KP_NRP-lab/2022-09-09/AnalysisFiles/amplitude/._.DS_Store  \n",
            "  inflating: Data_KP_NRP-lab/2022-09-09/AnalysisFiles/amplitude/datafile_corrected_v4.mat  \n",
            "  inflating: __MACOSX/Data_KP_NRP-lab/2022-09-09/AnalysisFiles/amplitude/._datafile_corrected_v4.mat  \n",
            "  inflating: Data_KP_NRP-lab/2022-10-04/AnalysisFiles/amplitude/.DS_Store  \n",
            "  inflating: __MACOSX/Data_KP_NRP-lab/2022-10-04/AnalysisFiles/amplitude/._.DS_Store  \n",
            "  inflating: Data_KP_NRP-lab/2022-10-04/AnalysisFiles/amplitude/datafile_corrected_v4.mat  \n",
            "  inflating: Data_KP_NRP-lab/2023-02-27/AnalysisFiles/amplitude/.DS_Store  \n",
            "  inflating: __MACOSX/Data_KP_NRP-lab/2023-02-27/AnalysisFiles/amplitude/._.DS_Store  \n",
            "   creating: Data_KP_NRP-lab/2023-02-27/AnalysisFiles/amplitude/Experiment_1/\n",
            "   creating: Data_KP_NRP-lab/2023-02-27/AnalysisFiles/amplitude/Experiment_2/\n",
            "  inflating: Data_KP_NRP-lab/2022-11-15/AnalysisFiles/amplitude/.DS_Store  \n",
            "  inflating: __MACOSX/Data_KP_NRP-lab/2022-11-15/AnalysisFiles/amplitude/._.DS_Store  \n",
            "  inflating: Data_KP_NRP-lab/2022-11-15/AnalysisFiles/amplitude/datafile_corrected_v4.mat  \n",
            "  inflating: Data_KP_NRP-lab/2022-09-19/AnalysisFiles/amplitude/.DS_Store  \n",
            "  inflating: __MACOSX/Data_KP_NRP-lab/2022-09-19/AnalysisFiles/amplitude/._.DS_Store  \n",
            "  inflating: Data_KP_NRP-lab/2022-09-19/AnalysisFiles/amplitude/datafile_corrected_v4.mat  \n",
            "  inflating: Data_KP_NRP-lab/2023-02-27/AnalysisFiles/amplitude/Experiment_1/.DS_Store  \n",
            "  inflating: __MACOSX/Data_KP_NRP-lab/2023-02-27/AnalysisFiles/amplitude/Experiment_1/._.DS_Store  \n",
            "  inflating: Data_KP_NRP-lab/2023-02-27/AnalysisFiles/amplitude/Experiment_1/datafile_corrected_v4.mat  \n",
            "  inflating: Data_KP_NRP-lab/2023-02-27/AnalysisFiles/amplitude/Experiment_2/.DS_Store  \n",
            "  inflating: __MACOSX/Data_KP_NRP-lab/2023-02-27/AnalysisFiles/amplitude/Experiment_2/._.DS_Store  \n",
            "  inflating: Data_KP_NRP-lab/2023-02-27/AnalysisFiles/amplitude/Experiment_2/datafile_corrected_v4.mat  \n"
          ]
        }
      ],
      "source": [
        "!unzip Data_KP_NRP-lab.zip"
      ]
    },
    {
      "cell_type": "markdown",
      "source": [],
      "metadata": {
        "id": "3-Fz2oIA8_kL"
      }
    },
    {
      "cell_type": "code",
      "source": [
        "import os\n",
        "import pandas as pd"
      ],
      "metadata": {
        "id": "skbfPrVqG2HS"
      },
      "execution_count": null,
      "outputs": []
    },
    {
      "cell_type": "code",
      "source": [
        "os.listdir('Data_KP_NRP-lab/')"
      ],
      "metadata": {
        "colab": {
          "base_uri": "https://localhost:8080/"
        },
        "id": "nMyr5m1aG3-1",
        "outputId": "c7c16e61-9a81-4267-bede-1039c41e31dd"
      },
      "execution_count": null,
      "outputs": [
        {
          "output_type": "execute_result",
          "data": {
            "text/plain": [
              "['2022-11-15',\n",
              " '2023-02-27',\n",
              " '2022-09-09',\n",
              " '2022-10-04',\n",
              " '.DS_Store',\n",
              " '2022-09-19']"
            ]
          },
          "metadata": {},
          "execution_count": 3
        }
      ]
    },
    {
      "cell_type": "markdown",
      "source": [],
      "metadata": {
        "id": "mzLYWhM_ifFW"
      }
    },
    {
      "cell_type": "code",
      "source": [],
      "metadata": {
        "id": "XY7lskbSig-c"
      },
      "execution_count": null,
      "outputs": []
    },
    {
      "cell_type": "markdown",
      "source": [
        "#Sept 9"
      ],
      "metadata": {
        "id": "Z7B8lqtOihCk"
      }
    },
    {
      "cell_type": "code",
      "source": [
        "neuroPath = 'Data_KP_NRP-lab/'+ '2022-09-09/AnalysisFiles/amplitude/datafile_corrected_v4.mat'\n",
        "neuroPath"
      ],
      "metadata": {
        "colab": {
          "base_uri": "https://localhost:8080/",
          "height": 35
        },
        "outputId": "d810b658-5cab-46a2-d54a-e6e0ae8b976d",
        "id": "Guzhv8sJihCl"
      },
      "execution_count": null,
      "outputs": [
        {
          "output_type": "execute_result",
          "data": {
            "text/plain": [
              "'Data_KP_NRP-lab/2022-09-09/AnalysisFiles/amplitude/datafile_corrected_v4.mat'"
            ],
            "application/vnd.google.colaboratory.intrinsic+json": {
              "type": "string"
            }
          },
          "metadata": {},
          "execution_count": 12
        }
      ]
    },
    {
      "cell_type": "code",
      "source": [
        "from scipy.io import loadmat\n",
        "\n",
        "# Replace 'your_file.mat' with the actual file path\n",
        "neuroData = loadmat(neuroPath)\n"
      ],
      "metadata": {
        "id": "vTB3hSpGihCl"
      },
      "execution_count": null,
      "outputs": []
    },
    {
      "cell_type": "code",
      "source": [
        "powerNeuroData = neuroData['pows'][0]"
      ],
      "metadata": {
        "id": "xrvfcl3FihCm"
      },
      "execution_count": null,
      "outputs": []
    },
    {
      "cell_type": "code",
      "source": [
        "len(powerNeuroData)"
      ],
      "metadata": {
        "colab": {
          "base_uri": "https://localhost:8080/"
        },
        "outputId": "c4ae4103-0ffb-472b-a6f7-7c737f781d4f",
        "id": "UUC9c9MnihCm"
      },
      "execution_count": null,
      "outputs": [
        {
          "output_type": "execute_result",
          "data": {
            "text/plain": [
              "5"
            ]
          },
          "metadata": {},
          "execution_count": 16
        }
      ]
    },
    {
      "cell_type": "code",
      "source": [
        "for x in powerNeuroData:\n",
        "  print(len(x))\n",
        "  for i in range(len(x)):\n",
        "    print(x[i].shape)\n"
      ],
      "metadata": {
        "colab": {
          "base_uri": "https://localhost:8080/"
        },
        "outputId": "fa8c8ec8-3e86-4b45-f933-5d2a36956130",
        "id": "NzoPBMPDihCm"
      },
      "execution_count": null,
      "outputs": [
        {
          "output_type": "stream",
          "name": "stdout",
          "text": [
            "3\n",
            "(1155, 1)\n",
            "(1, 1155)\n",
            "(1, 1155)\n",
            "3\n",
            "(1155, 1)\n",
            "(1, 1155)\n",
            "(1, 1155)\n",
            "3\n",
            "(1159, 1)\n",
            "(1, 1159)\n",
            "(1, 1159)\n",
            "3\n",
            "(1159, 1)\n",
            "(1, 1159)\n",
            "(1, 1159)\n",
            "3\n",
            "(1, 568)\n",
            "(1, 568)\n",
            "(1, 568)\n"
          ]
        }
      ]
    },
    {
      "cell_type": "markdown",
      "source": [
        "Sameer Rajesh: in order of index, 0 and 1 represent the left OFC and vlPFC. 2 and 3 are the right in same order and 4 is speech rate (i suspect of little use to you since you will be doing your own speech analysis, but there if you need)"
      ],
      "metadata": {
        "id": "J5AXXNhvihCm"
      }
    },
    {
      "cell_type": "markdown",
      "source": [
        "the first sub array in each row is the actual data, the second is timestamp, the third is a boolean (with nans) representing of amplitude was high or low (i’m assuming nicole has explained the experiment)\n"
      ],
      "metadata": {
        "id": "1YAvJMWQihCn"
      }
    },
    {
      "cell_type": "code",
      "source": [
        "df = pd.DataFrame()"
      ],
      "metadata": {
        "id": "kAdqojtgihCn"
      },
      "execution_count": null,
      "outputs": []
    },
    {
      "cell_type": "code",
      "source": [
        "df['Power: Left OFC'] = [ele[0] for ele in powerNeuroData[0][0]] # list comprehension makes it 1D\n",
        "df['Power: Left vlPFC'] = [ele[0] for ele in powerNeuroData[1][0]]\n",
        "df['Power: Right OFC'] = [ele[0] for ele in powerNeuroData[2][0][:-4]] #has 4 extra timesteps\n",
        "df['Power: Right vlPFC'] = [ele[0] for ele in powerNeuroData[3][0][:-4]] #has 4 extra timestepsd\n",
        "#df['Speech rate'] = [ele[0] for ele in\n",
        "df.head()"
      ],
      "metadata": {
        "colab": {
          "base_uri": "https://localhost:8080/",
          "height": 206
        },
        "outputId": "5ea65a6b-eee6-440b-ac97-5f8b77e6d9cf",
        "id": "q9Pk0aV2ihCn"
      },
      "execution_count": null,
      "outputs": [
        {
          "output_type": "execute_result",
          "data": {
            "text/plain": [
              "   Power: Left OFC  Power: Left vlPFC  Power: Right OFC  Power: Right vlPFC\n",
              "0         8.816639           5.509179          6.402390            7.678388\n",
              "1         6.377071           9.253333          7.134431           10.658632\n",
              "2         5.261156           8.733055          5.330680            9.883824\n",
              "3         5.392678           9.824773          8.610629           12.035916\n",
              "4         8.381074          10.230964          8.598232           10.655943"
            ],
            "text/html": [
              "\n",
              "  <div id=\"df-68485c39-9525-48c1-befb-9b3bce761683\" class=\"colab-df-container\">\n",
              "    <div>\n",
              "<style scoped>\n",
              "    .dataframe tbody tr th:only-of-type {\n",
              "        vertical-align: middle;\n",
              "    }\n",
              "\n",
              "    .dataframe tbody tr th {\n",
              "        vertical-align: top;\n",
              "    }\n",
              "\n",
              "    .dataframe thead th {\n",
              "        text-align: right;\n",
              "    }\n",
              "</style>\n",
              "<table border=\"1\" class=\"dataframe\">\n",
              "  <thead>\n",
              "    <tr style=\"text-align: right;\">\n",
              "      <th></th>\n",
              "      <th>Power: Left OFC</th>\n",
              "      <th>Power: Left vlPFC</th>\n",
              "      <th>Power: Right OFC</th>\n",
              "      <th>Power: Right vlPFC</th>\n",
              "    </tr>\n",
              "  </thead>\n",
              "  <tbody>\n",
              "    <tr>\n",
              "      <th>0</th>\n",
              "      <td>8.816639</td>\n",
              "      <td>5.509179</td>\n",
              "      <td>6.402390</td>\n",
              "      <td>7.678388</td>\n",
              "    </tr>\n",
              "    <tr>\n",
              "      <th>1</th>\n",
              "      <td>6.377071</td>\n",
              "      <td>9.253333</td>\n",
              "      <td>7.134431</td>\n",
              "      <td>10.658632</td>\n",
              "    </tr>\n",
              "    <tr>\n",
              "      <th>2</th>\n",
              "      <td>5.261156</td>\n",
              "      <td>8.733055</td>\n",
              "      <td>5.330680</td>\n",
              "      <td>9.883824</td>\n",
              "    </tr>\n",
              "    <tr>\n",
              "      <th>3</th>\n",
              "      <td>5.392678</td>\n",
              "      <td>9.824773</td>\n",
              "      <td>8.610629</td>\n",
              "      <td>12.035916</td>\n",
              "    </tr>\n",
              "    <tr>\n",
              "      <th>4</th>\n",
              "      <td>8.381074</td>\n",
              "      <td>10.230964</td>\n",
              "      <td>8.598232</td>\n",
              "      <td>10.655943</td>\n",
              "    </tr>\n",
              "  </tbody>\n",
              "</table>\n",
              "</div>\n",
              "    <div class=\"colab-df-buttons\">\n",
              "\n",
              "  <div class=\"colab-df-container\">\n",
              "    <button class=\"colab-df-convert\" onclick=\"convertToInteractive('df-68485c39-9525-48c1-befb-9b3bce761683')\"\n",
              "            title=\"Convert this dataframe to an interactive table.\"\n",
              "            style=\"display:none;\">\n",
              "\n",
              "  <svg xmlns=\"http://www.w3.org/2000/svg\" height=\"24px\" viewBox=\"0 -960 960 960\">\n",
              "    <path d=\"M120-120v-720h720v720H120Zm60-500h600v-160H180v160Zm220 220h160v-160H400v160Zm0 220h160v-160H400v160ZM180-400h160v-160H180v160Zm440 0h160v-160H620v160ZM180-180h160v-160H180v160Zm440 0h160v-160H620v160Z\"/>\n",
              "  </svg>\n",
              "    </button>\n",
              "\n",
              "  <style>\n",
              "    .colab-df-container {\n",
              "      display:flex;\n",
              "      gap: 12px;\n",
              "    }\n",
              "\n",
              "    .colab-df-convert {\n",
              "      background-color: #E8F0FE;\n",
              "      border: none;\n",
              "      border-radius: 50%;\n",
              "      cursor: pointer;\n",
              "      display: none;\n",
              "      fill: #1967D2;\n",
              "      height: 32px;\n",
              "      padding: 0 0 0 0;\n",
              "      width: 32px;\n",
              "    }\n",
              "\n",
              "    .colab-df-convert:hover {\n",
              "      background-color: #E2EBFA;\n",
              "      box-shadow: 0px 1px 2px rgba(60, 64, 67, 0.3), 0px 1px 3px 1px rgba(60, 64, 67, 0.15);\n",
              "      fill: #174EA6;\n",
              "    }\n",
              "\n",
              "    .colab-df-buttons div {\n",
              "      margin-bottom: 4px;\n",
              "    }\n",
              "\n",
              "    [theme=dark] .colab-df-convert {\n",
              "      background-color: #3B4455;\n",
              "      fill: #D2E3FC;\n",
              "    }\n",
              "\n",
              "    [theme=dark] .colab-df-convert:hover {\n",
              "      background-color: #434B5C;\n",
              "      box-shadow: 0px 1px 3px 1px rgba(0, 0, 0, 0.15);\n",
              "      filter: drop-shadow(0px 1px 2px rgba(0, 0, 0, 0.3));\n",
              "      fill: #FFFFFF;\n",
              "    }\n",
              "  </style>\n",
              "\n",
              "    <script>\n",
              "      const buttonEl =\n",
              "        document.querySelector('#df-68485c39-9525-48c1-befb-9b3bce761683 button.colab-df-convert');\n",
              "      buttonEl.style.display =\n",
              "        google.colab.kernel.accessAllowed ? 'block' : 'none';\n",
              "\n",
              "      async function convertToInteractive(key) {\n",
              "        const element = document.querySelector('#df-68485c39-9525-48c1-befb-9b3bce761683');\n",
              "        const dataTable =\n",
              "          await google.colab.kernel.invokeFunction('convertToInteractive',\n",
              "                                                    [key], {});\n",
              "        if (!dataTable) return;\n",
              "\n",
              "        const docLinkHtml = 'Like what you see? Visit the ' +\n",
              "          '<a target=\"_blank\" href=https://colab.research.google.com/notebooks/data_table.ipynb>data table notebook</a>'\n",
              "          + ' to learn more about interactive tables.';\n",
              "        element.innerHTML = '';\n",
              "        dataTable['output_type'] = 'display_data';\n",
              "        await google.colab.output.renderOutput(dataTable, element);\n",
              "        const docLink = document.createElement('div');\n",
              "        docLink.innerHTML = docLinkHtml;\n",
              "        element.appendChild(docLink);\n",
              "      }\n",
              "    </script>\n",
              "  </div>\n",
              "\n",
              "\n",
              "<div id=\"df-a063b44f-be7b-4a64-9f93-7bef183802de\">\n",
              "  <button class=\"colab-df-quickchart\" onclick=\"quickchart('df-a063b44f-be7b-4a64-9f93-7bef183802de')\"\n",
              "            title=\"Suggest charts\"\n",
              "            style=\"display:none;\">\n",
              "\n",
              "<svg xmlns=\"http://www.w3.org/2000/svg\" height=\"24px\"viewBox=\"0 0 24 24\"\n",
              "     width=\"24px\">\n",
              "    <g>\n",
              "        <path d=\"M19 3H5c-1.1 0-2 .9-2 2v14c0 1.1.9 2 2 2h14c1.1 0 2-.9 2-2V5c0-1.1-.9-2-2-2zM9 17H7v-7h2v7zm4 0h-2V7h2v10zm4 0h-2v-4h2v4z\"/>\n",
              "    </g>\n",
              "</svg>\n",
              "  </button>\n",
              "\n",
              "<style>\n",
              "  .colab-df-quickchart {\n",
              "      --bg-color: #E8F0FE;\n",
              "      --fill-color: #1967D2;\n",
              "      --hover-bg-color: #E2EBFA;\n",
              "      --hover-fill-color: #174EA6;\n",
              "      --disabled-fill-color: #AAA;\n",
              "      --disabled-bg-color: #DDD;\n",
              "  }\n",
              "\n",
              "  [theme=dark] .colab-df-quickchart {\n",
              "      --bg-color: #3B4455;\n",
              "      --fill-color: #D2E3FC;\n",
              "      --hover-bg-color: #434B5C;\n",
              "      --hover-fill-color: #FFFFFF;\n",
              "      --disabled-bg-color: #3B4455;\n",
              "      --disabled-fill-color: #666;\n",
              "  }\n",
              "\n",
              "  .colab-df-quickchart {\n",
              "    background-color: var(--bg-color);\n",
              "    border: none;\n",
              "    border-radius: 50%;\n",
              "    cursor: pointer;\n",
              "    display: none;\n",
              "    fill: var(--fill-color);\n",
              "    height: 32px;\n",
              "    padding: 0;\n",
              "    width: 32px;\n",
              "  }\n",
              "\n",
              "  .colab-df-quickchart:hover {\n",
              "    background-color: var(--hover-bg-color);\n",
              "    box-shadow: 0 1px 2px rgba(60, 64, 67, 0.3), 0 1px 3px 1px rgba(60, 64, 67, 0.15);\n",
              "    fill: var(--button-hover-fill-color);\n",
              "  }\n",
              "\n",
              "  .colab-df-quickchart-complete:disabled,\n",
              "  .colab-df-quickchart-complete:disabled:hover {\n",
              "    background-color: var(--disabled-bg-color);\n",
              "    fill: var(--disabled-fill-color);\n",
              "    box-shadow: none;\n",
              "  }\n",
              "\n",
              "  .colab-df-spinner {\n",
              "    border: 2px solid var(--fill-color);\n",
              "    border-color: transparent;\n",
              "    border-bottom-color: var(--fill-color);\n",
              "    animation:\n",
              "      spin 1s steps(1) infinite;\n",
              "  }\n",
              "\n",
              "  @keyframes spin {\n",
              "    0% {\n",
              "      border-color: transparent;\n",
              "      border-bottom-color: var(--fill-color);\n",
              "      border-left-color: var(--fill-color);\n",
              "    }\n",
              "    20% {\n",
              "      border-color: transparent;\n",
              "      border-left-color: var(--fill-color);\n",
              "      border-top-color: var(--fill-color);\n",
              "    }\n",
              "    30% {\n",
              "      border-color: transparent;\n",
              "      border-left-color: var(--fill-color);\n",
              "      border-top-color: var(--fill-color);\n",
              "      border-right-color: var(--fill-color);\n",
              "    }\n",
              "    40% {\n",
              "      border-color: transparent;\n",
              "      border-right-color: var(--fill-color);\n",
              "      border-top-color: var(--fill-color);\n",
              "    }\n",
              "    60% {\n",
              "      border-color: transparent;\n",
              "      border-right-color: var(--fill-color);\n",
              "    }\n",
              "    80% {\n",
              "      border-color: transparent;\n",
              "      border-right-color: var(--fill-color);\n",
              "      border-bottom-color: var(--fill-color);\n",
              "    }\n",
              "    90% {\n",
              "      border-color: transparent;\n",
              "      border-bottom-color: var(--fill-color);\n",
              "    }\n",
              "  }\n",
              "</style>\n",
              "\n",
              "  <script>\n",
              "    async function quickchart(key) {\n",
              "      const quickchartButtonEl =\n",
              "        document.querySelector('#' + key + ' button');\n",
              "      quickchartButtonEl.disabled = true;  // To prevent multiple clicks.\n",
              "      quickchartButtonEl.classList.add('colab-df-spinner');\n",
              "      try {\n",
              "        const charts = await google.colab.kernel.invokeFunction(\n",
              "            'suggestCharts', [key], {});\n",
              "      } catch (error) {\n",
              "        console.error('Error during call to suggestCharts:', error);\n",
              "      }\n",
              "      quickchartButtonEl.classList.remove('colab-df-spinner');\n",
              "      quickchartButtonEl.classList.add('colab-df-quickchart-complete');\n",
              "    }\n",
              "    (() => {\n",
              "      let quickchartButtonEl =\n",
              "        document.querySelector('#df-a063b44f-be7b-4a64-9f93-7bef183802de button');\n",
              "      quickchartButtonEl.style.display =\n",
              "        google.colab.kernel.accessAllowed ? 'block' : 'none';\n",
              "    })();\n",
              "  </script>\n",
              "</div>\n",
              "\n",
              "    </div>\n",
              "  </div>\n"
            ]
          },
          "metadata": {},
          "execution_count": 20
        }
      ]
    },
    {
      "cell_type": "code",
      "source": [
        "df.shape"
      ],
      "metadata": {
        "colab": {
          "base_uri": "https://localhost:8080/"
        },
        "outputId": "97ba469d-79f7-47bb-809a-b7be57f9dcdf",
        "id": "GZGR9AZvihCn"
      },
      "execution_count": null,
      "outputs": [
        {
          "output_type": "execute_result",
          "data": {
            "text/plain": [
              "(1155, 4)"
            ]
          },
          "metadata": {},
          "execution_count": 21
        }
      ]
    },
    {
      "cell_type": "code",
      "source": [
        "neuroPath"
      ],
      "metadata": {
        "colab": {
          "base_uri": "https://localhost:8080/",
          "height": 35
        },
        "outputId": "be64b3b6-bda9-42c3-a0a9-69a9a5ec0ab3",
        "id": "OepwW064ihCn"
      },
      "execution_count": null,
      "outputs": [
        {
          "output_type": "execute_result",
          "data": {
            "text/plain": [
              "'Data_KP_NRP-lab/2022-09-09/AnalysisFiles/amplitude/datafile_corrected_v4.mat'"
            ],
            "application/vnd.google.colaboratory.intrinsic+json": {
              "type": "string"
            }
          },
          "metadata": {},
          "execution_count": 22
        }
      ]
    },
    {
      "cell_type": "code",
      "source": [
        "df.to_csv('2022-09-09-Power.csv')"
      ],
      "metadata": {
        "id": "yRsy3zHJihCn"
      },
      "execution_count": null,
      "outputs": []
    },
    {
      "cell_type": "code",
      "source": [
        "df.to_excel('2022-09-09-Power.xlsx')"
      ],
      "metadata": {
        "id": "-yMGzd3-ihCn"
      },
      "execution_count": null,
      "outputs": []
    },
    {
      "cell_type": "code",
      "source": [
        "df."
      ],
      "metadata": {
        "id": "oLbGYw5oihCo"
      },
      "execution_count": null,
      "outputs": []
    },
    {
      "cell_type": "code",
      "source": [],
      "metadata": {
        "id": "mhB79F7qihCo"
      },
      "execution_count": null,
      "outputs": []
    },
    {
      "cell_type": "markdown",
      "source": [
        "#Sept 19"
      ],
      "metadata": {
        "id": "GI8571ENB7tP"
      }
    },
    {
      "cell_type": "code",
      "source": [
        "neuroPath = 'Data_KP_NRP-lab/'+ '2022-09-19/AnalysisFiles/amplitude/datafile_corrected_v4.mat'\n",
        "neuroPath"
      ],
      "metadata": {
        "colab": {
          "base_uri": "https://localhost:8080/",
          "height": 35
        },
        "id": "g8c5IRadHC_E",
        "outputId": "88cb5225-2480-46c2-ace9-8c46081bbd4c"
      },
      "execution_count": null,
      "outputs": [
        {
          "output_type": "execute_result",
          "data": {
            "text/plain": [
              "'Data_KP_NRP-lab/2022-09-19/AnalysisFiles/amplitude/datafile_corrected_v4.mat'"
            ],
            "application/vnd.google.colaboratory.intrinsic+json": {
              "type": "string"
            }
          },
          "metadata": {},
          "execution_count": 5
        }
      ]
    },
    {
      "cell_type": "code",
      "source": [
        "from scipy.io import loadmat\n",
        "\n",
        "# Replace 'your_file.mat' with the actual file path\n",
        "neuroData = loadmat(neuroPath)\n"
      ],
      "metadata": {
        "id": "G5hC3OkbHb1i"
      },
      "execution_count": null,
      "outputs": []
    },
    {
      "cell_type": "code",
      "source": [
        "neuroData.keys()"
      ],
      "metadata": {
        "colab": {
          "base_uri": "https://localhost:8080/"
        },
        "id": "g5npekjoHfel",
        "outputId": "b1ceb444-c682-4062-8962-d6175209edf6"
      },
      "execution_count": null,
      "outputs": [
        {
          "output_type": "execute_result",
          "data": {
            "text/plain": [
              "dict_keys(['__header__', '__version__', '__globals__', 'pows', 'stimdata'])"
            ]
          },
          "metadata": {},
          "execution_count": 7
        }
      ]
    },
    {
      "cell_type": "code",
      "source": [
        "neuroData['stimdata'].shape"
      ],
      "metadata": {
        "colab": {
          "base_uri": "https://localhost:8080/"
        },
        "id": "8w4KduO6Hwu_",
        "outputId": "5d3b8983-e1da-42a3-afa9-d27878ca7ba6"
      },
      "execution_count": null,
      "outputs": [
        {
          "output_type": "execute_result",
          "data": {
            "text/plain": [
              "(1, 1)"
            ]
          },
          "metadata": {},
          "execution_count": 8
        }
      ]
    },
    {
      "cell_type": "code",
      "source": [
        "powerNeuroData = neuroData['pows'][0]"
      ],
      "metadata": {
        "id": "A-MBwF9AJeEb"
      },
      "execution_count": null,
      "outputs": []
    },
    {
      "cell_type": "code",
      "source": [
        "len(powerNeuroData)"
      ],
      "metadata": {
        "colab": {
          "base_uri": "https://localhost:8080/"
        },
        "id": "HOIXkuL9J7YG",
        "outputId": "aa1a4874-55f8-4de0-ee7e-98ec4dd7fc99"
      },
      "execution_count": null,
      "outputs": [
        {
          "output_type": "execute_result",
          "data": {
            "text/plain": [
              "5"
            ]
          },
          "metadata": {},
          "execution_count": 10
        }
      ]
    },
    {
      "cell_type": "code",
      "source": [
        "for x in powerNeuroData:\n",
        "  print(len(x))\n",
        "  for i in range(len(x)):\n",
        "    print(x[i].shape)\n"
      ],
      "metadata": {
        "colab": {
          "base_uri": "https://localhost:8080/"
        },
        "id": "DQQp0rtBJGBj",
        "outputId": "ce5d807d-523c-4b3e-f91e-cf45e224666c"
      },
      "execution_count": null,
      "outputs": [
        {
          "output_type": "stream",
          "name": "stdout",
          "text": [
            "3\n",
            "(1137, 1)\n",
            "(1, 1137)\n",
            "(1, 1137)\n",
            "3\n",
            "(1137, 1)\n",
            "(1, 1137)\n",
            "(1, 1137)\n",
            "3\n",
            "(1137, 1)\n",
            "(1, 1137)\n",
            "(1, 1137)\n",
            "3\n",
            "(1137, 1)\n",
            "(1, 1137)\n",
            "(1, 1137)\n",
            "3\n",
            "(1, 564)\n",
            "(1, 564)\n",
            "(1, 564)\n"
          ]
        }
      ]
    },
    {
      "cell_type": "markdown",
      "source": [
        "Sameer Rajesh: in order of index, 0 and 1 represent the left OFC and vlPFC. 2 and 3 are the right in same order and 4 is speech rate (i suspect of little use to you since you will be doing your own speech analysis, but there if you need)"
      ],
      "metadata": {
        "id": "bm0-CBxTJxBN"
      }
    },
    {
      "cell_type": "markdown",
      "source": [
        "the first sub array in each row is the actual data, the second is timestamp, the third is a boolean (with nans) representing of amplitude was high or low (i’m assuming nicole has explained the experiment)\n"
      ],
      "metadata": {
        "id": "NnWJ0tcrJzyb"
      }
    },
    {
      "cell_type": "code",
      "source": [
        "df = pd.DataFrame()"
      ],
      "metadata": {
        "id": "OlH7dGSiIEIP"
      },
      "execution_count": null,
      "outputs": []
    },
    {
      "cell_type": "code",
      "source": [
        "df['Power: Left OFC'] = [ele[0] for ele in powerNeuroData[0][0]] # list comprehension makes it 1D\n",
        "df['Power: Left vlPFC'] = [ele[0] for ele in powerNeuroData[1][0]]\n",
        "df['Power: Right OFC'] = [ele[0] for ele in powerNeuroData[2][0]] #has 4 extra timesteps\n",
        "df['Power: Right vlPFC'] = [ele[0] for ele in powerNeuroData[3][0]] #has 4 extra timestepsd\n",
        "#df['Speech rate'] = [ele[0] for ele in\n",
        "df.head()"
      ],
      "metadata": {
        "colab": {
          "base_uri": "https://localhost:8080/",
          "height": 206
        },
        "id": "BAWb5zMaIHz_",
        "outputId": "3565ebe9-5d19-4a49-d5cf-fddb09154959"
      },
      "execution_count": null,
      "outputs": [
        {
          "output_type": "execute_result",
          "data": {
            "text/plain": [
              "   Power: Left OFC  Power: Left vlPFC  Power: Right OFC  Power: Right vlPFC\n",
              "0         9.322238           4.995461          5.607341            3.754328\n",
              "1         7.696407           7.638623          6.380779            7.017708\n",
              "2         4.062073           4.581651          6.308548            9.426878\n",
              "3         2.702953           3.492604          4.114555            7.404552\n",
              "4         4.282622           5.795164         10.881743            3.557609"
            ],
            "text/html": [
              "\n",
              "  <div id=\"df-8bdc7d23-dea6-458d-9294-23a77b74811b\" class=\"colab-df-container\">\n",
              "    <div>\n",
              "<style scoped>\n",
              "    .dataframe tbody tr th:only-of-type {\n",
              "        vertical-align: middle;\n",
              "    }\n",
              "\n",
              "    .dataframe tbody tr th {\n",
              "        vertical-align: top;\n",
              "    }\n",
              "\n",
              "    .dataframe thead th {\n",
              "        text-align: right;\n",
              "    }\n",
              "</style>\n",
              "<table border=\"1\" class=\"dataframe\">\n",
              "  <thead>\n",
              "    <tr style=\"text-align: right;\">\n",
              "      <th></th>\n",
              "      <th>Power: Left OFC</th>\n",
              "      <th>Power: Left vlPFC</th>\n",
              "      <th>Power: Right OFC</th>\n",
              "      <th>Power: Right vlPFC</th>\n",
              "    </tr>\n",
              "  </thead>\n",
              "  <tbody>\n",
              "    <tr>\n",
              "      <th>0</th>\n",
              "      <td>9.322238</td>\n",
              "      <td>4.995461</td>\n",
              "      <td>5.607341</td>\n",
              "      <td>3.754328</td>\n",
              "    </tr>\n",
              "    <tr>\n",
              "      <th>1</th>\n",
              "      <td>7.696407</td>\n",
              "      <td>7.638623</td>\n",
              "      <td>6.380779</td>\n",
              "      <td>7.017708</td>\n",
              "    </tr>\n",
              "    <tr>\n",
              "      <th>2</th>\n",
              "      <td>4.062073</td>\n",
              "      <td>4.581651</td>\n",
              "      <td>6.308548</td>\n",
              "      <td>9.426878</td>\n",
              "    </tr>\n",
              "    <tr>\n",
              "      <th>3</th>\n",
              "      <td>2.702953</td>\n",
              "      <td>3.492604</td>\n",
              "      <td>4.114555</td>\n",
              "      <td>7.404552</td>\n",
              "    </tr>\n",
              "    <tr>\n",
              "      <th>4</th>\n",
              "      <td>4.282622</td>\n",
              "      <td>5.795164</td>\n",
              "      <td>10.881743</td>\n",
              "      <td>3.557609</td>\n",
              "    </tr>\n",
              "  </tbody>\n",
              "</table>\n",
              "</div>\n",
              "    <div class=\"colab-df-buttons\">\n",
              "\n",
              "  <div class=\"colab-df-container\">\n",
              "    <button class=\"colab-df-convert\" onclick=\"convertToInteractive('df-8bdc7d23-dea6-458d-9294-23a77b74811b')\"\n",
              "            title=\"Convert this dataframe to an interactive table.\"\n",
              "            style=\"display:none;\">\n",
              "\n",
              "  <svg xmlns=\"http://www.w3.org/2000/svg\" height=\"24px\" viewBox=\"0 -960 960 960\">\n",
              "    <path d=\"M120-120v-720h720v720H120Zm60-500h600v-160H180v160Zm220 220h160v-160H400v160Zm0 220h160v-160H400v160ZM180-400h160v-160H180v160Zm440 0h160v-160H620v160ZM180-180h160v-160H180v160Zm440 0h160v-160H620v160Z\"/>\n",
              "  </svg>\n",
              "    </button>\n",
              "\n",
              "  <style>\n",
              "    .colab-df-container {\n",
              "      display:flex;\n",
              "      gap: 12px;\n",
              "    }\n",
              "\n",
              "    .colab-df-convert {\n",
              "      background-color: #E8F0FE;\n",
              "      border: none;\n",
              "      border-radius: 50%;\n",
              "      cursor: pointer;\n",
              "      display: none;\n",
              "      fill: #1967D2;\n",
              "      height: 32px;\n",
              "      padding: 0 0 0 0;\n",
              "      width: 32px;\n",
              "    }\n",
              "\n",
              "    .colab-df-convert:hover {\n",
              "      background-color: #E2EBFA;\n",
              "      box-shadow: 0px 1px 2px rgba(60, 64, 67, 0.3), 0px 1px 3px 1px rgba(60, 64, 67, 0.15);\n",
              "      fill: #174EA6;\n",
              "    }\n",
              "\n",
              "    .colab-df-buttons div {\n",
              "      margin-bottom: 4px;\n",
              "    }\n",
              "\n",
              "    [theme=dark] .colab-df-convert {\n",
              "      background-color: #3B4455;\n",
              "      fill: #D2E3FC;\n",
              "    }\n",
              "\n",
              "    [theme=dark] .colab-df-convert:hover {\n",
              "      background-color: #434B5C;\n",
              "      box-shadow: 0px 1px 3px 1px rgba(0, 0, 0, 0.15);\n",
              "      filter: drop-shadow(0px 1px 2px rgba(0, 0, 0, 0.3));\n",
              "      fill: #FFFFFF;\n",
              "    }\n",
              "  </style>\n",
              "\n",
              "    <script>\n",
              "      const buttonEl =\n",
              "        document.querySelector('#df-8bdc7d23-dea6-458d-9294-23a77b74811b button.colab-df-convert');\n",
              "      buttonEl.style.display =\n",
              "        google.colab.kernel.accessAllowed ? 'block' : 'none';\n",
              "\n",
              "      async function convertToInteractive(key) {\n",
              "        const element = document.querySelector('#df-8bdc7d23-dea6-458d-9294-23a77b74811b');\n",
              "        const dataTable =\n",
              "          await google.colab.kernel.invokeFunction('convertToInteractive',\n",
              "                                                    [key], {});\n",
              "        if (!dataTable) return;\n",
              "\n",
              "        const docLinkHtml = 'Like what you see? Visit the ' +\n",
              "          '<a target=\"_blank\" href=https://colab.research.google.com/notebooks/data_table.ipynb>data table notebook</a>'\n",
              "          + ' to learn more about interactive tables.';\n",
              "        element.innerHTML = '';\n",
              "        dataTable['output_type'] = 'display_data';\n",
              "        await google.colab.output.renderOutput(dataTable, element);\n",
              "        const docLink = document.createElement('div');\n",
              "        docLink.innerHTML = docLinkHtml;\n",
              "        element.appendChild(docLink);\n",
              "      }\n",
              "    </script>\n",
              "  </div>\n",
              "\n",
              "\n",
              "<div id=\"df-27317a89-3a0c-4e95-bed1-5cf0a159d66e\">\n",
              "  <button class=\"colab-df-quickchart\" onclick=\"quickchart('df-27317a89-3a0c-4e95-bed1-5cf0a159d66e')\"\n",
              "            title=\"Suggest charts\"\n",
              "            style=\"display:none;\">\n",
              "\n",
              "<svg xmlns=\"http://www.w3.org/2000/svg\" height=\"24px\"viewBox=\"0 0 24 24\"\n",
              "     width=\"24px\">\n",
              "    <g>\n",
              "        <path d=\"M19 3H5c-1.1 0-2 .9-2 2v14c0 1.1.9 2 2 2h14c1.1 0 2-.9 2-2V5c0-1.1-.9-2-2-2zM9 17H7v-7h2v7zm4 0h-2V7h2v10zm4 0h-2v-4h2v4z\"/>\n",
              "    </g>\n",
              "</svg>\n",
              "  </button>\n",
              "\n",
              "<style>\n",
              "  .colab-df-quickchart {\n",
              "      --bg-color: #E8F0FE;\n",
              "      --fill-color: #1967D2;\n",
              "      --hover-bg-color: #E2EBFA;\n",
              "      --hover-fill-color: #174EA6;\n",
              "      --disabled-fill-color: #AAA;\n",
              "      --disabled-bg-color: #DDD;\n",
              "  }\n",
              "\n",
              "  [theme=dark] .colab-df-quickchart {\n",
              "      --bg-color: #3B4455;\n",
              "      --fill-color: #D2E3FC;\n",
              "      --hover-bg-color: #434B5C;\n",
              "      --hover-fill-color: #FFFFFF;\n",
              "      --disabled-bg-color: #3B4455;\n",
              "      --disabled-fill-color: #666;\n",
              "  }\n",
              "\n",
              "  .colab-df-quickchart {\n",
              "    background-color: var(--bg-color);\n",
              "    border: none;\n",
              "    border-radius: 50%;\n",
              "    cursor: pointer;\n",
              "    display: none;\n",
              "    fill: var(--fill-color);\n",
              "    height: 32px;\n",
              "    padding: 0;\n",
              "    width: 32px;\n",
              "  }\n",
              "\n",
              "  .colab-df-quickchart:hover {\n",
              "    background-color: var(--hover-bg-color);\n",
              "    box-shadow: 0 1px 2px rgba(60, 64, 67, 0.3), 0 1px 3px 1px rgba(60, 64, 67, 0.15);\n",
              "    fill: var(--button-hover-fill-color);\n",
              "  }\n",
              "\n",
              "  .colab-df-quickchart-complete:disabled,\n",
              "  .colab-df-quickchart-complete:disabled:hover {\n",
              "    background-color: var(--disabled-bg-color);\n",
              "    fill: var(--disabled-fill-color);\n",
              "    box-shadow: none;\n",
              "  }\n",
              "\n",
              "  .colab-df-spinner {\n",
              "    border: 2px solid var(--fill-color);\n",
              "    border-color: transparent;\n",
              "    border-bottom-color: var(--fill-color);\n",
              "    animation:\n",
              "      spin 1s steps(1) infinite;\n",
              "  }\n",
              "\n",
              "  @keyframes spin {\n",
              "    0% {\n",
              "      border-color: transparent;\n",
              "      border-bottom-color: var(--fill-color);\n",
              "      border-left-color: var(--fill-color);\n",
              "    }\n",
              "    20% {\n",
              "      border-color: transparent;\n",
              "      border-left-color: var(--fill-color);\n",
              "      border-top-color: var(--fill-color);\n",
              "    }\n",
              "    30% {\n",
              "      border-color: transparent;\n",
              "      border-left-color: var(--fill-color);\n",
              "      border-top-color: var(--fill-color);\n",
              "      border-right-color: var(--fill-color);\n",
              "    }\n",
              "    40% {\n",
              "      border-color: transparent;\n",
              "      border-right-color: var(--fill-color);\n",
              "      border-top-color: var(--fill-color);\n",
              "    }\n",
              "    60% {\n",
              "      border-color: transparent;\n",
              "      border-right-color: var(--fill-color);\n",
              "    }\n",
              "    80% {\n",
              "      border-color: transparent;\n",
              "      border-right-color: var(--fill-color);\n",
              "      border-bottom-color: var(--fill-color);\n",
              "    }\n",
              "    90% {\n",
              "      border-color: transparent;\n",
              "      border-bottom-color: var(--fill-color);\n",
              "    }\n",
              "  }\n",
              "</style>\n",
              "\n",
              "  <script>\n",
              "    async function quickchart(key) {\n",
              "      const quickchartButtonEl =\n",
              "        document.querySelector('#' + key + ' button');\n",
              "      quickchartButtonEl.disabled = true;  // To prevent multiple clicks.\n",
              "      quickchartButtonEl.classList.add('colab-df-spinner');\n",
              "      try {\n",
              "        const charts = await google.colab.kernel.invokeFunction(\n",
              "            'suggestCharts', [key], {});\n",
              "      } catch (error) {\n",
              "        console.error('Error during call to suggestCharts:', error);\n",
              "      }\n",
              "      quickchartButtonEl.classList.remove('colab-df-spinner');\n",
              "      quickchartButtonEl.classList.add('colab-df-quickchart-complete');\n",
              "    }\n",
              "    (() => {\n",
              "      let quickchartButtonEl =\n",
              "        document.querySelector('#df-27317a89-3a0c-4e95-bed1-5cf0a159d66e button');\n",
              "      quickchartButtonEl.style.display =\n",
              "        google.colab.kernel.accessAllowed ? 'block' : 'none';\n",
              "    })();\n",
              "  </script>\n",
              "</div>\n",
              "    </div>\n",
              "  </div>\n"
            ]
          },
          "metadata": {},
          "execution_count": 28
        }
      ]
    },
    {
      "cell_type": "code",
      "source": [
        "df.shape"
      ],
      "metadata": {
        "colab": {
          "base_uri": "https://localhost:8080/"
        },
        "id": "fl4Y72u5BtGn",
        "outputId": "8c0c16dd-6464-4c76-c31d-68031d4832ff"
      },
      "execution_count": null,
      "outputs": [
        {
          "output_type": "execute_result",
          "data": {
            "text/plain": [
              "(1137, 4)"
            ]
          },
          "metadata": {},
          "execution_count": 29
        }
      ]
    },
    {
      "cell_type": "code",
      "source": [
        "neuroPath"
      ],
      "metadata": {
        "colab": {
          "base_uri": "https://localhost:8080/",
          "height": 35
        },
        "id": "6nD_p8u-BxZc",
        "outputId": "1c3338cb-b728-4b36-8cbf-007e1b1001e4"
      },
      "execution_count": null,
      "outputs": [
        {
          "output_type": "execute_result",
          "data": {
            "text/plain": [
              "'Data_KP_NRP-lab/2022-09-19/AnalysisFiles/amplitude/datafile_corrected_v4.mat'"
            ],
            "application/vnd.google.colaboratory.intrinsic+json": {
              "type": "string"
            }
          },
          "metadata": {},
          "execution_count": 30
        }
      ]
    },
    {
      "cell_type": "code",
      "source": [
        "df.to_csv('2022-09-19-Power-Amplitude.csv')"
      ],
      "metadata": {
        "id": "JrcMKfz3LfqX"
      },
      "execution_count": null,
      "outputs": []
    },
    {
      "cell_type": "code",
      "source": [
        "df.to_excel('2022-09-19-Power-Amplitude.xlsx')"
      ],
      "metadata": {
        "id": "nvo0yUmGLsau"
      },
      "execution_count": null,
      "outputs": []
    },
    {
      "cell_type": "code",
      "source": [
        "df."
      ],
      "metadata": {
        "id": "3a9Ls63iKowx"
      },
      "execution_count": null,
      "outputs": []
    },
    {
      "cell_type": "code",
      "source": [],
      "metadata": {
        "id": "iLpvN9TvB-YW"
      },
      "execution_count": null,
      "outputs": []
    },
    {
      "cell_type": "markdown",
      "source": [
        "#Oct 4"
      ],
      "metadata": {
        "id": "oQH6p5urB-iY"
      }
    },
    {
      "cell_type": "code",
      "source": [
        "neuroPath = 'Data_KP_NRP-lab/'+ '2022-10-04/AnalysisFiles/amplitude/datafile_corrected_v4.mat'\n",
        "neuroPath"
      ],
      "metadata": {
        "colab": {
          "base_uri": "https://localhost:8080/"
        },
        "outputId": "2ddc3d99-26ab-465b-c9dd-e98285256e4f",
        "id": "rPZhUrWDB-iZ"
      },
      "execution_count": null,
      "outputs": [
        {
          "output_type": "execute_result",
          "data": {
            "text/plain": [
              "'Data_KP_NRP-lab/2022-10-04/AnalysisFiles/amplitude/datafile_corrected_v4.mat'"
            ],
            "application/vnd.google.colaboratory.intrinsic+json": {
              "type": "string"
            }
          },
          "metadata": {},
          "execution_count": 33
        }
      ]
    },
    {
      "cell_type": "code",
      "source": [
        "from scipy.io import loadmat\n",
        "\n",
        "# Replace 'your_file.mat' with the actual file path\n",
        "neuroData = loadmat(neuroPath)\n"
      ],
      "metadata": {
        "id": "NCOyeky0B-iZ"
      },
      "execution_count": null,
      "outputs": []
    },
    {
      "cell_type": "code",
      "source": [
        "powerNeuroData = neuroData['pows'][0]"
      ],
      "metadata": {
        "id": "zgzbQvTIB-iZ"
      },
      "execution_count": null,
      "outputs": []
    },
    {
      "cell_type": "code",
      "source": [
        "len(powerNeuroData)"
      ],
      "metadata": {
        "colab": {
          "base_uri": "https://localhost:8080/"
        },
        "outputId": "f258c142-16da-482d-f936-46c4f4587dd6",
        "id": "L97b_OctB-ia"
      },
      "execution_count": null,
      "outputs": [
        {
          "output_type": "execute_result",
          "data": {
            "text/plain": [
              "5"
            ]
          },
          "metadata": {},
          "execution_count": 36
        }
      ]
    },
    {
      "cell_type": "code",
      "source": [
        "for x in powerNeuroData:\n",
        "  print(len(x))\n",
        "  for i in range(len(x)):\n",
        "    print(x[i].shape)\n"
      ],
      "metadata": {
        "colab": {
          "base_uri": "https://localhost:8080/"
        },
        "outputId": "7b8d478e-cd8e-49a6-f7aa-4dfbe9877060",
        "id": "V3ooUNUNB-ia"
      },
      "execution_count": null,
      "outputs": [
        {
          "output_type": "stream",
          "name": "stdout",
          "text": [
            "3\n",
            "(1154, 1)\n",
            "(1, 1154)\n",
            "(1, 1154)\n",
            "3\n",
            "(1154, 1)\n",
            "(1, 1154)\n",
            "(1, 1154)\n",
            "3\n",
            "(1154, 1)\n",
            "(1, 1154)\n",
            "(1, 1154)\n",
            "3\n",
            "(1154, 1)\n",
            "(1, 1154)\n",
            "(1, 1154)\n",
            "3\n",
            "(1, 551)\n",
            "(1, 551)\n",
            "(1, 551)\n"
          ]
        }
      ]
    },
    {
      "cell_type": "markdown",
      "source": [
        "Sameer Rajesh: in order of index, 0 and 1 represent the left OFC and vlPFC. 2 and 3 are the right in same order and 4 is speech rate (i suspect of little use to you since you will be doing your own speech analysis, but there if you need)"
      ],
      "metadata": {
        "id": "ivSpceAxB-ia"
      }
    },
    {
      "cell_type": "markdown",
      "source": [
        "the first sub array in each row is the actual data, the second is timestamp, the third is a boolean (with nans) representing of amplitude was high or low (i’m assuming nicole has explained the experiment)\n"
      ],
      "metadata": {
        "id": "q6cYJadKB-ia"
      }
    },
    {
      "cell_type": "code",
      "source": [
        "df = pd.DataFrame()"
      ],
      "metadata": {
        "id": "e4L5LEFDB-ia"
      },
      "execution_count": null,
      "outputs": []
    },
    {
      "cell_type": "code",
      "source": [
        "df['Power: Left OFC'] = [ele[0] for ele in powerNeuroData[0][0]] # list comprehension makes it 1D\n",
        "df['Power: Left vlPFC'] = [ele[0] for ele in powerNeuroData[1][0]]\n",
        "df['Power: Right OFC'] = [ele[0] for ele in powerNeuroData[2][0]] #has 4 extra timesteps\n",
        "df['Power: Right vlPFC'] = [ele[0] for ele in powerNeuroData[3][0]] #has 4 extra timestepsd\n",
        "#df['Speech rate'] = [ele[0] for ele in\n",
        "df.head()"
      ],
      "metadata": {
        "colab": {
          "base_uri": "https://localhost:8080/"
        },
        "outputId": "b6b6de88-d20e-4357-ba98-6a79f2c3d95c",
        "id": "5ZzVySLEB-ib"
      },
      "execution_count": null,
      "outputs": [
        {
          "output_type": "execute_result",
          "data": {
            "text/plain": [
              "   Power: Left OFC  Power: Left vlPFC  Power: Right OFC  Power: Right vlPFC\n",
              "0         6.407832           8.696524         10.436554           11.400055\n",
              "1         6.523042           8.672893          8.723282           10.050933\n",
              "2         6.641233          10.282269          8.287294            7.250344\n",
              "3         3.958534           8.233730         10.518788           10.198656\n",
              "4         8.917095           3.029191          9.664642            4.365085"
            ],
            "text/html": [
              "\n",
              "  <div id=\"df-07303d34-9c29-446e-a206-597bbcedde23\" class=\"colab-df-container\">\n",
              "    <div>\n",
              "<style scoped>\n",
              "    .dataframe tbody tr th:only-of-type {\n",
              "        vertical-align: middle;\n",
              "    }\n",
              "\n",
              "    .dataframe tbody tr th {\n",
              "        vertical-align: top;\n",
              "    }\n",
              "\n",
              "    .dataframe thead th {\n",
              "        text-align: right;\n",
              "    }\n",
              "</style>\n",
              "<table border=\"1\" class=\"dataframe\">\n",
              "  <thead>\n",
              "    <tr style=\"text-align: right;\">\n",
              "      <th></th>\n",
              "      <th>Power: Left OFC</th>\n",
              "      <th>Power: Left vlPFC</th>\n",
              "      <th>Power: Right OFC</th>\n",
              "      <th>Power: Right vlPFC</th>\n",
              "    </tr>\n",
              "  </thead>\n",
              "  <tbody>\n",
              "    <tr>\n",
              "      <th>0</th>\n",
              "      <td>6.407832</td>\n",
              "      <td>8.696524</td>\n",
              "      <td>10.436554</td>\n",
              "      <td>11.400055</td>\n",
              "    </tr>\n",
              "    <tr>\n",
              "      <th>1</th>\n",
              "      <td>6.523042</td>\n",
              "      <td>8.672893</td>\n",
              "      <td>8.723282</td>\n",
              "      <td>10.050933</td>\n",
              "    </tr>\n",
              "    <tr>\n",
              "      <th>2</th>\n",
              "      <td>6.641233</td>\n",
              "      <td>10.282269</td>\n",
              "      <td>8.287294</td>\n",
              "      <td>7.250344</td>\n",
              "    </tr>\n",
              "    <tr>\n",
              "      <th>3</th>\n",
              "      <td>3.958534</td>\n",
              "      <td>8.233730</td>\n",
              "      <td>10.518788</td>\n",
              "      <td>10.198656</td>\n",
              "    </tr>\n",
              "    <tr>\n",
              "      <th>4</th>\n",
              "      <td>8.917095</td>\n",
              "      <td>3.029191</td>\n",
              "      <td>9.664642</td>\n",
              "      <td>4.365085</td>\n",
              "    </tr>\n",
              "  </tbody>\n",
              "</table>\n",
              "</div>\n",
              "    <div class=\"colab-df-buttons\">\n",
              "\n",
              "  <div class=\"colab-df-container\">\n",
              "    <button class=\"colab-df-convert\" onclick=\"convertToInteractive('df-07303d34-9c29-446e-a206-597bbcedde23')\"\n",
              "            title=\"Convert this dataframe to an interactive table.\"\n",
              "            style=\"display:none;\">\n",
              "\n",
              "  <svg xmlns=\"http://www.w3.org/2000/svg\" height=\"24px\" viewBox=\"0 -960 960 960\">\n",
              "    <path d=\"M120-120v-720h720v720H120Zm60-500h600v-160H180v160Zm220 220h160v-160H400v160Zm0 220h160v-160H400v160ZM180-400h160v-160H180v160Zm440 0h160v-160H620v160ZM180-180h160v-160H180v160Zm440 0h160v-160H620v160Z\"/>\n",
              "  </svg>\n",
              "    </button>\n",
              "\n",
              "  <style>\n",
              "    .colab-df-container {\n",
              "      display:flex;\n",
              "      gap: 12px;\n",
              "    }\n",
              "\n",
              "    .colab-df-convert {\n",
              "      background-color: #E8F0FE;\n",
              "      border: none;\n",
              "      border-radius: 50%;\n",
              "      cursor: pointer;\n",
              "      display: none;\n",
              "      fill: #1967D2;\n",
              "      height: 32px;\n",
              "      padding: 0 0 0 0;\n",
              "      width: 32px;\n",
              "    }\n",
              "\n",
              "    .colab-df-convert:hover {\n",
              "      background-color: #E2EBFA;\n",
              "      box-shadow: 0px 1px 2px rgba(60, 64, 67, 0.3), 0px 1px 3px 1px rgba(60, 64, 67, 0.15);\n",
              "      fill: #174EA6;\n",
              "    }\n",
              "\n",
              "    .colab-df-buttons div {\n",
              "      margin-bottom: 4px;\n",
              "    }\n",
              "\n",
              "    [theme=dark] .colab-df-convert {\n",
              "      background-color: #3B4455;\n",
              "      fill: #D2E3FC;\n",
              "    }\n",
              "\n",
              "    [theme=dark] .colab-df-convert:hover {\n",
              "      background-color: #434B5C;\n",
              "      box-shadow: 0px 1px 3px 1px rgba(0, 0, 0, 0.15);\n",
              "      filter: drop-shadow(0px 1px 2px rgba(0, 0, 0, 0.3));\n",
              "      fill: #FFFFFF;\n",
              "    }\n",
              "  </style>\n",
              "\n",
              "    <script>\n",
              "      const buttonEl =\n",
              "        document.querySelector('#df-07303d34-9c29-446e-a206-597bbcedde23 button.colab-df-convert');\n",
              "      buttonEl.style.display =\n",
              "        google.colab.kernel.accessAllowed ? 'block' : 'none';\n",
              "\n",
              "      async function convertToInteractive(key) {\n",
              "        const element = document.querySelector('#df-07303d34-9c29-446e-a206-597bbcedde23');\n",
              "        const dataTable =\n",
              "          await google.colab.kernel.invokeFunction('convertToInteractive',\n",
              "                                                    [key], {});\n",
              "        if (!dataTable) return;\n",
              "\n",
              "        const docLinkHtml = 'Like what you see? Visit the ' +\n",
              "          '<a target=\"_blank\" href=https://colab.research.google.com/notebooks/data_table.ipynb>data table notebook</a>'\n",
              "          + ' to learn more about interactive tables.';\n",
              "        element.innerHTML = '';\n",
              "        dataTable['output_type'] = 'display_data';\n",
              "        await google.colab.output.renderOutput(dataTable, element);\n",
              "        const docLink = document.createElement('div');\n",
              "        docLink.innerHTML = docLinkHtml;\n",
              "        element.appendChild(docLink);\n",
              "      }\n",
              "    </script>\n",
              "  </div>\n",
              "\n",
              "\n",
              "<div id=\"df-57513e3d-737a-4878-a144-d007b85de547\">\n",
              "  <button class=\"colab-df-quickchart\" onclick=\"quickchart('df-57513e3d-737a-4878-a144-d007b85de547')\"\n",
              "            title=\"Suggest charts\"\n",
              "            style=\"display:none;\">\n",
              "\n",
              "<svg xmlns=\"http://www.w3.org/2000/svg\" height=\"24px\"viewBox=\"0 0 24 24\"\n",
              "     width=\"24px\">\n",
              "    <g>\n",
              "        <path d=\"M19 3H5c-1.1 0-2 .9-2 2v14c0 1.1.9 2 2 2h14c1.1 0 2-.9 2-2V5c0-1.1-.9-2-2-2zM9 17H7v-7h2v7zm4 0h-2V7h2v10zm4 0h-2v-4h2v4z\"/>\n",
              "    </g>\n",
              "</svg>\n",
              "  </button>\n",
              "\n",
              "<style>\n",
              "  .colab-df-quickchart {\n",
              "      --bg-color: #E8F0FE;\n",
              "      --fill-color: #1967D2;\n",
              "      --hover-bg-color: #E2EBFA;\n",
              "      --hover-fill-color: #174EA6;\n",
              "      --disabled-fill-color: #AAA;\n",
              "      --disabled-bg-color: #DDD;\n",
              "  }\n",
              "\n",
              "  [theme=dark] .colab-df-quickchart {\n",
              "      --bg-color: #3B4455;\n",
              "      --fill-color: #D2E3FC;\n",
              "      --hover-bg-color: #434B5C;\n",
              "      --hover-fill-color: #FFFFFF;\n",
              "      --disabled-bg-color: #3B4455;\n",
              "      --disabled-fill-color: #666;\n",
              "  }\n",
              "\n",
              "  .colab-df-quickchart {\n",
              "    background-color: var(--bg-color);\n",
              "    border: none;\n",
              "    border-radius: 50%;\n",
              "    cursor: pointer;\n",
              "    display: none;\n",
              "    fill: var(--fill-color);\n",
              "    height: 32px;\n",
              "    padding: 0;\n",
              "    width: 32px;\n",
              "  }\n",
              "\n",
              "  .colab-df-quickchart:hover {\n",
              "    background-color: var(--hover-bg-color);\n",
              "    box-shadow: 0 1px 2px rgba(60, 64, 67, 0.3), 0 1px 3px 1px rgba(60, 64, 67, 0.15);\n",
              "    fill: var(--button-hover-fill-color);\n",
              "  }\n",
              "\n",
              "  .colab-df-quickchart-complete:disabled,\n",
              "  .colab-df-quickchart-complete:disabled:hover {\n",
              "    background-color: var(--disabled-bg-color);\n",
              "    fill: var(--disabled-fill-color);\n",
              "    box-shadow: none;\n",
              "  }\n",
              "\n",
              "  .colab-df-spinner {\n",
              "    border: 2px solid var(--fill-color);\n",
              "    border-color: transparent;\n",
              "    border-bottom-color: var(--fill-color);\n",
              "    animation:\n",
              "      spin 1s steps(1) infinite;\n",
              "  }\n",
              "\n",
              "  @keyframes spin {\n",
              "    0% {\n",
              "      border-color: transparent;\n",
              "      border-bottom-color: var(--fill-color);\n",
              "      border-left-color: var(--fill-color);\n",
              "    }\n",
              "    20% {\n",
              "      border-color: transparent;\n",
              "      border-left-color: var(--fill-color);\n",
              "      border-top-color: var(--fill-color);\n",
              "    }\n",
              "    30% {\n",
              "      border-color: transparent;\n",
              "      border-left-color: var(--fill-color);\n",
              "      border-top-color: var(--fill-color);\n",
              "      border-right-color: var(--fill-color);\n",
              "    }\n",
              "    40% {\n",
              "      border-color: transparent;\n",
              "      border-right-color: var(--fill-color);\n",
              "      border-top-color: var(--fill-color);\n",
              "    }\n",
              "    60% {\n",
              "      border-color: transparent;\n",
              "      border-right-color: var(--fill-color);\n",
              "    }\n",
              "    80% {\n",
              "      border-color: transparent;\n",
              "      border-right-color: var(--fill-color);\n",
              "      border-bottom-color: var(--fill-color);\n",
              "    }\n",
              "    90% {\n",
              "      border-color: transparent;\n",
              "      border-bottom-color: var(--fill-color);\n",
              "    }\n",
              "  }\n",
              "</style>\n",
              "\n",
              "  <script>\n",
              "    async function quickchart(key) {\n",
              "      const quickchartButtonEl =\n",
              "        document.querySelector('#' + key + ' button');\n",
              "      quickchartButtonEl.disabled = true;  // To prevent multiple clicks.\n",
              "      quickchartButtonEl.classList.add('colab-df-spinner');\n",
              "      try {\n",
              "        const charts = await google.colab.kernel.invokeFunction(\n",
              "            'suggestCharts', [key], {});\n",
              "      } catch (error) {\n",
              "        console.error('Error during call to suggestCharts:', error);\n",
              "      }\n",
              "      quickchartButtonEl.classList.remove('colab-df-spinner');\n",
              "      quickchartButtonEl.classList.add('colab-df-quickchart-complete');\n",
              "    }\n",
              "    (() => {\n",
              "      let quickchartButtonEl =\n",
              "        document.querySelector('#df-57513e3d-737a-4878-a144-d007b85de547 button');\n",
              "      quickchartButtonEl.style.display =\n",
              "        google.colab.kernel.accessAllowed ? 'block' : 'none';\n",
              "    })();\n",
              "  </script>\n",
              "</div>\n",
              "    </div>\n",
              "  </div>\n"
            ]
          },
          "metadata": {},
          "execution_count": 39
        }
      ]
    },
    {
      "cell_type": "code",
      "source": [
        "df.shape"
      ],
      "metadata": {
        "colab": {
          "base_uri": "https://localhost:8080/"
        },
        "outputId": "2a24812d-b034-461b-8f81-0e21799368c3",
        "id": "gm6QMpBQB-ib"
      },
      "execution_count": null,
      "outputs": [
        {
          "output_type": "execute_result",
          "data": {
            "text/plain": [
              "(1154, 4)"
            ]
          },
          "metadata": {},
          "execution_count": 41
        }
      ]
    },
    {
      "cell_type": "code",
      "source": [
        "neuroPath"
      ],
      "metadata": {
        "colab": {
          "base_uri": "https://localhost:8080/"
        },
        "outputId": "16622789-a1b8-4b93-fd30-295ebb77fc7d",
        "id": "EoOjdTAIB-ib"
      },
      "execution_count": null,
      "outputs": [
        {
          "output_type": "execute_result",
          "data": {
            "text/plain": [
              "'Data_KP_NRP-lab/2022-10-04/AnalysisFiles/amplitude/datafile_corrected_v4.mat'"
            ],
            "application/vnd.google.colaboratory.intrinsic+json": {
              "type": "string"
            }
          },
          "metadata": {},
          "execution_count": 40
        }
      ]
    },
    {
      "cell_type": "code",
      "source": [
        "df.to_csv('2022-10-04-Power-Amplitude.csv')"
      ],
      "metadata": {
        "id": "gvTYr0EXB-ib"
      },
      "execution_count": null,
      "outputs": []
    },
    {
      "cell_type": "code",
      "source": [
        "df.to_excel('2022-10-04-Power-Amplitude.xlsx')"
      ],
      "metadata": {
        "id": "NDs6c2dDB-ib"
      },
      "execution_count": null,
      "outputs": []
    },
    {
      "cell_type": "code",
      "source": [],
      "metadata": {
        "id": "D4p15igKDj-R"
      },
      "execution_count": null,
      "outputs": []
    },
    {
      "cell_type": "markdown",
      "source": [
        "#Nov 15"
      ],
      "metadata": {
        "id": "YkTOu8BuDkC8"
      }
    },
    {
      "cell_type": "code",
      "source": [
        "os.listdir('Data_KP_NRP-lab/')"
      ],
      "metadata": {
        "colab": {
          "base_uri": "https://localhost:8080/"
        },
        "id": "YiROvc69Dlrb",
        "outputId": "efd1d8e7-07b6-4dd9-9464-4b617b61e6e7"
      },
      "execution_count": null,
      "outputs": [
        {
          "output_type": "execute_result",
          "data": {
            "text/plain": [
              "['2022-11-15',\n",
              " '2023-02-27',\n",
              " '2022-09-09',\n",
              " '2022-10-04',\n",
              " '.DS_Store',\n",
              " '2022-09-19']"
            ]
          },
          "metadata": {},
          "execution_count": 4
        }
      ]
    },
    {
      "cell_type": "code",
      "source": [
        "neuroPath = 'Data_KP_NRP-lab/'+ '2022-11-15/AnalysisFiles/amplitude/datafile_corrected_v4.mat'\n",
        "neuroPath"
      ],
      "metadata": {
        "colab": {
          "base_uri": "https://localhost:8080/",
          "height": 35
        },
        "outputId": "2e0c4c2d-6321-4f7a-f572-a598729e4978",
        "id": "dgtmQ2IdDkC8"
      },
      "execution_count": null,
      "outputs": [
        {
          "output_type": "execute_result",
          "data": {
            "text/plain": [
              "'Data_KP_NRP-lab/2022-11-15/AnalysisFiles/amplitude/datafile_corrected_v4.mat'"
            ],
            "application/vnd.google.colaboratory.intrinsic+json": {
              "type": "string"
            }
          },
          "metadata": {},
          "execution_count": 5
        }
      ]
    },
    {
      "cell_type": "code",
      "source": [
        "from scipy.io import loadmat\n",
        "\n",
        "# Replace 'your_file.mat' with the actual file path\n",
        "neuroData = loadmat(neuroPath)\n"
      ],
      "metadata": {
        "id": "pgDVG9AlDkC9"
      },
      "execution_count": null,
      "outputs": []
    },
    {
      "cell_type": "code",
      "source": [
        "powerNeuroData = neuroData['pows'][0]"
      ],
      "metadata": {
        "id": "Ken2upjsDkC-"
      },
      "execution_count": null,
      "outputs": []
    },
    {
      "cell_type": "code",
      "source": [
        "len(powerNeuroData)"
      ],
      "metadata": {
        "colab": {
          "base_uri": "https://localhost:8080/"
        },
        "outputId": "1efd29b9-9774-4f06-e20c-61d23046b17d",
        "id": "pQfe_v-QDkC-"
      },
      "execution_count": null,
      "outputs": [
        {
          "output_type": "execute_result",
          "data": {
            "text/plain": [
              "5"
            ]
          },
          "metadata": {},
          "execution_count": 8
        }
      ]
    },
    {
      "cell_type": "code",
      "source": [
        "for x in powerNeuroData:\n",
        "  print(len(x))\n",
        "  for i in range(len(x)):\n",
        "    print(x[i].shape)\n"
      ],
      "metadata": {
        "colab": {
          "base_uri": "https://localhost:8080/"
        },
        "outputId": "115cf065-009f-4c9e-ad2b-7d8ec3b57fd5",
        "id": "xOufbfAjDkC_"
      },
      "execution_count": null,
      "outputs": [
        {
          "output_type": "stream",
          "name": "stdout",
          "text": [
            "3\n",
            "(836, 1)\n",
            "(1, 836)\n",
            "(1, 836)\n",
            "3\n",
            "(836, 1)\n",
            "(1, 836)\n",
            "(1, 836)\n",
            "3\n",
            "(1143, 1)\n",
            "(1, 1143)\n",
            "(1, 1143)\n",
            "3\n",
            "(1143, 1)\n",
            "(1, 1143)\n",
            "(1, 1143)\n",
            "3\n",
            "(1, 551)\n",
            "(1, 551)\n",
            "(1, 551)\n"
          ]
        }
      ]
    },
    {
      "cell_type": "markdown",
      "source": [
        "Sameer Rajesh: in order of index, 0 and 1 represent the left OFC and vlPFC. 2 and 3 are the right in same order and 4 is speech rate (i suspect of little use to you since you will be doing your own speech analysis, but there if you need)"
      ],
      "metadata": {
        "id": "W9WjxHnKDkC_"
      }
    },
    {
      "cell_type": "markdown",
      "source": [
        "the first sub array in each row is the actual data, the second is timestamp, the third is a boolean (with nans) representing of amplitude was high or low (i’m assuming nicole has explained the experiment)\n"
      ],
      "metadata": {
        "id": "3HX026cdDkC_"
      }
    },
    {
      "cell_type": "code",
      "source": [
        "df = pd.DataFrame()"
      ],
      "metadata": {
        "id": "C_COsFT1DkDA"
      },
      "execution_count": null,
      "outputs": []
    },
    {
      "cell_type": "code",
      "source": [
        "leftHemisphereTimestamps = list(powerNeuroData[0][1].squeeze())\n",
        "leftHemisphereTimestamps #jumps from 264 to 572"
      ],
      "metadata": {
        "id": "XnHefucjXezM"
      },
      "execution_count": null,
      "outputs": []
    },
    {
      "cell_type": "code",
      "source": [
        "num_nans = 572 - 264\n",
        "leftHemisphereTimeStampsWithNaN = list(leftHemisphereTimestamps).insert(264-1, [float('nan')] * num_nans)\n",
        "leftHemisphereTimeStampsWithNaN"
      ],
      "metadata": {
        "id": "q8dTiYaxY4VR"
      },
      "execution_count": null,
      "outputs": []
    },
    {
      "cell_type": "code",
      "source": [
        "leftHemisphereTimestampsList = list(leftHemisphereTimestamps)"
      ],
      "metadata": {
        "id": "Ril__kQTZPCQ"
      },
      "execution_count": null,
      "outputs": []
    },
    {
      "cell_type": "code",
      "source": [
        "import numpy as np"
      ],
      "metadata": {
        "id": "8Vgu5Mt3ZZ6g"
      },
      "execution_count": null,
      "outputs": []
    },
    {
      "cell_type": "code",
      "source": [
        "list(np.repeat(np.nan,572-264))"
      ],
      "metadata": {
        "id": "dlILMIegZrX_"
      },
      "execution_count": null,
      "outputs": []
    },
    {
      "cell_type": "code",
      "source": [
        "leftHemisphereTimeStampsWithNaN = leftHemisphereTimestamps[:265-1] + list(np.repeat(np.nan,572-264)) + leftHemisphereTimestamps[265:]"
      ],
      "metadata": {
        "id": "z1SJpuauZVEf"
      },
      "execution_count": null,
      "outputs": []
    },
    {
      "cell_type": "code",
      "source": [
        "leftHemisphereTimeStampsWithNaN[263],leftHemisphereTimeStampsWithNaN[264], leftHemisphereTimeStampsWithNaN[572],leftHemisphereTimeStampsWithNaN[573],leftHemisphereTimeStampsWithNaN[-1] #check for off-by-one errors"
      ],
      "metadata": {
        "colab": {
          "base_uri": "https://localhost:8080/"
        },
        "id": "18QHrj5ca4Af",
        "outputId": "0ab8bea2-4697-4198-b3ac-a2235f91ab2a"
      },
      "execution_count": null,
      "outputs": [
        {
          "output_type": "execute_result",
          "data": {
            "text/plain": [
              "(264, nan, 573, 574, 1143)"
            ]
          },
          "metadata": {},
          "execution_count": 61
        }
      ]
    },
    {
      "cell_type": "code",
      "source": [
        "len(leftHemisphereTimeStampsWithNaN)"
      ],
      "metadata": {
        "colab": {
          "base_uri": "https://localhost:8080/"
        },
        "id": "SCjo76SDZNkL",
        "outputId": "47e19d86-940a-4150-b671-b2d9b93908be"
      },
      "execution_count": null,
      "outputs": [
        {
          "output_type": "execute_result",
          "data": {
            "text/plain": [
              "1143"
            ]
          },
          "metadata": {},
          "execution_count": 62
        }
      ]
    },
    {
      "cell_type": "code",
      "source": [
        "leftOFCNeuroData = [ele[0] for ele in powerNeuroData[0][0]]\n",
        "leftOFCNeuroDataWithNaN = leftOFCNeuroData[:265-1] + list(np.repeat(np.nan,572-264)) + leftOFCNeuroData[265:]"
      ],
      "metadata": {
        "id": "h_8RlaJkabCC"
      },
      "execution_count": null,
      "outputs": []
    },
    {
      "cell_type": "code",
      "source": [
        "len(leftOFCNeuroDataWithNaN)"
      ],
      "metadata": {
        "colab": {
          "base_uri": "https://localhost:8080/"
        },
        "id": "GYoX_fI9aqxI",
        "outputId": "15219d7c-c23e-4ea7-c8ba-5fb4a730b8ba"
      },
      "execution_count": null,
      "outputs": [
        {
          "output_type": "execute_result",
          "data": {
            "text/plain": [
              "1143"
            ]
          },
          "metadata": {},
          "execution_count": 64
        }
      ]
    },
    {
      "cell_type": "code",
      "source": [
        "leftvlPFCNeuroData =  [ele[0] for ele in powerNeuroData[1][0]]\n",
        "leftvlPFCNeuroDataWithNaN = leftvlPFCNeuroData[:265-1] + list(np.repeat(np.nan,572-264)) + leftvlPFCNeuroData[265:]\n",
        "len(leftvlPFCNeuroDataWithNaN)"
      ],
      "metadata": {
        "colab": {
          "base_uri": "https://localhost:8080/"
        },
        "id": "7-UEMhSDbqsj",
        "outputId": "5056546d-68c8-4917-a483-6efa7f408a0c"
      },
      "execution_count": null,
      "outputs": [
        {
          "output_type": "execute_result",
          "data": {
            "text/plain": [
              "1143"
            ]
          },
          "metadata": {},
          "execution_count": 65
        }
      ]
    },
    {
      "cell_type": "code",
      "source": [
        "df = pd.DataFrame()\n",
        "df['Power: Left OFC'] = leftOFCNeuroDataWithNaN\n",
        "df['Power: Left vlPFC'] = leftvlPFCNeuroDataWithNaN\n",
        "df['Power: Right OFC'] = [ele[0] for ele in powerNeuroData[2][0]]\n",
        "df['Power: Right vlPFC'] = [ele[0] for ele in powerNeuroData[3][0]]\n",
        "#df['Speech rate'] = [ele[0] for ele in\n",
        "df.head()"
      ],
      "metadata": {
        "id": "cYurZRFTDkDA",
        "colab": {
          "base_uri": "https://localhost:8080/",
          "height": 206
        },
        "outputId": "583a49e0-f490-42b5-f993-8b95f54b104a"
      },
      "execution_count": null,
      "outputs": [
        {
          "output_type": "execute_result",
          "data": {
            "text/plain": [
              "   Power: Left OFC  Power: Left vlPFC  Power: Right OFC  Power: Right vlPFC\n",
              "0         8.462996           6.523769          4.619912            8.098723\n",
              "1         5.854915           5.621985          7.196563            7.780724\n",
              "2         9.335134           7.215692          7.966418            9.071778\n",
              "3         4.709172           5.349554          7.623001           11.709882\n",
              "4         5.242306          13.146638          7.908021            7.542927"
            ],
            "text/html": [
              "\n",
              "  <div id=\"df-e10de1b3-9a80-4999-b819-5fbdd3004c7a\" class=\"colab-df-container\">\n",
              "    <div>\n",
              "<style scoped>\n",
              "    .dataframe tbody tr th:only-of-type {\n",
              "        vertical-align: middle;\n",
              "    }\n",
              "\n",
              "    .dataframe tbody tr th {\n",
              "        vertical-align: top;\n",
              "    }\n",
              "\n",
              "    .dataframe thead th {\n",
              "        text-align: right;\n",
              "    }\n",
              "</style>\n",
              "<table border=\"1\" class=\"dataframe\">\n",
              "  <thead>\n",
              "    <tr style=\"text-align: right;\">\n",
              "      <th></th>\n",
              "      <th>Power: Left OFC</th>\n",
              "      <th>Power: Left vlPFC</th>\n",
              "      <th>Power: Right OFC</th>\n",
              "      <th>Power: Right vlPFC</th>\n",
              "    </tr>\n",
              "  </thead>\n",
              "  <tbody>\n",
              "    <tr>\n",
              "      <th>0</th>\n",
              "      <td>8.462996</td>\n",
              "      <td>6.523769</td>\n",
              "      <td>4.619912</td>\n",
              "      <td>8.098723</td>\n",
              "    </tr>\n",
              "    <tr>\n",
              "      <th>1</th>\n",
              "      <td>5.854915</td>\n",
              "      <td>5.621985</td>\n",
              "      <td>7.196563</td>\n",
              "      <td>7.780724</td>\n",
              "    </tr>\n",
              "    <tr>\n",
              "      <th>2</th>\n",
              "      <td>9.335134</td>\n",
              "      <td>7.215692</td>\n",
              "      <td>7.966418</td>\n",
              "      <td>9.071778</td>\n",
              "    </tr>\n",
              "    <tr>\n",
              "      <th>3</th>\n",
              "      <td>4.709172</td>\n",
              "      <td>5.349554</td>\n",
              "      <td>7.623001</td>\n",
              "      <td>11.709882</td>\n",
              "    </tr>\n",
              "    <tr>\n",
              "      <th>4</th>\n",
              "      <td>5.242306</td>\n",
              "      <td>13.146638</td>\n",
              "      <td>7.908021</td>\n",
              "      <td>7.542927</td>\n",
              "    </tr>\n",
              "  </tbody>\n",
              "</table>\n",
              "</div>\n",
              "    <div class=\"colab-df-buttons\">\n",
              "\n",
              "  <div class=\"colab-df-container\">\n",
              "    <button class=\"colab-df-convert\" onclick=\"convertToInteractive('df-e10de1b3-9a80-4999-b819-5fbdd3004c7a')\"\n",
              "            title=\"Convert this dataframe to an interactive table.\"\n",
              "            style=\"display:none;\">\n",
              "\n",
              "  <svg xmlns=\"http://www.w3.org/2000/svg\" height=\"24px\" viewBox=\"0 -960 960 960\">\n",
              "    <path d=\"M120-120v-720h720v720H120Zm60-500h600v-160H180v160Zm220 220h160v-160H400v160Zm0 220h160v-160H400v160ZM180-400h160v-160H180v160Zm440 0h160v-160H620v160ZM180-180h160v-160H180v160Zm440 0h160v-160H620v160Z\"/>\n",
              "  </svg>\n",
              "    </button>\n",
              "\n",
              "  <style>\n",
              "    .colab-df-container {\n",
              "      display:flex;\n",
              "      gap: 12px;\n",
              "    }\n",
              "\n",
              "    .colab-df-convert {\n",
              "      background-color: #E8F0FE;\n",
              "      border: none;\n",
              "      border-radius: 50%;\n",
              "      cursor: pointer;\n",
              "      display: none;\n",
              "      fill: #1967D2;\n",
              "      height: 32px;\n",
              "      padding: 0 0 0 0;\n",
              "      width: 32px;\n",
              "    }\n",
              "\n",
              "    .colab-df-convert:hover {\n",
              "      background-color: #E2EBFA;\n",
              "      box-shadow: 0px 1px 2px rgba(60, 64, 67, 0.3), 0px 1px 3px 1px rgba(60, 64, 67, 0.15);\n",
              "      fill: #174EA6;\n",
              "    }\n",
              "\n",
              "    .colab-df-buttons div {\n",
              "      margin-bottom: 4px;\n",
              "    }\n",
              "\n",
              "    [theme=dark] .colab-df-convert {\n",
              "      background-color: #3B4455;\n",
              "      fill: #D2E3FC;\n",
              "    }\n",
              "\n",
              "    [theme=dark] .colab-df-convert:hover {\n",
              "      background-color: #434B5C;\n",
              "      box-shadow: 0px 1px 3px 1px rgba(0, 0, 0, 0.15);\n",
              "      filter: drop-shadow(0px 1px 2px rgba(0, 0, 0, 0.3));\n",
              "      fill: #FFFFFF;\n",
              "    }\n",
              "  </style>\n",
              "\n",
              "    <script>\n",
              "      const buttonEl =\n",
              "        document.querySelector('#df-e10de1b3-9a80-4999-b819-5fbdd3004c7a button.colab-df-convert');\n",
              "      buttonEl.style.display =\n",
              "        google.colab.kernel.accessAllowed ? 'block' : 'none';\n",
              "\n",
              "      async function convertToInteractive(key) {\n",
              "        const element = document.querySelector('#df-e10de1b3-9a80-4999-b819-5fbdd3004c7a');\n",
              "        const dataTable =\n",
              "          await google.colab.kernel.invokeFunction('convertToInteractive',\n",
              "                                                    [key], {});\n",
              "        if (!dataTable) return;\n",
              "\n",
              "        const docLinkHtml = 'Like what you see? Visit the ' +\n",
              "          '<a target=\"_blank\" href=https://colab.research.google.com/notebooks/data_table.ipynb>data table notebook</a>'\n",
              "          + ' to learn more about interactive tables.';\n",
              "        element.innerHTML = '';\n",
              "        dataTable['output_type'] = 'display_data';\n",
              "        await google.colab.output.renderOutput(dataTable, element);\n",
              "        const docLink = document.createElement('div');\n",
              "        docLink.innerHTML = docLinkHtml;\n",
              "        element.appendChild(docLink);\n",
              "      }\n",
              "    </script>\n",
              "  </div>\n",
              "\n",
              "\n",
              "<div id=\"df-832afb6d-3280-4d4b-bce2-964280f5eedf\">\n",
              "  <button class=\"colab-df-quickchart\" onclick=\"quickchart('df-832afb6d-3280-4d4b-bce2-964280f5eedf')\"\n",
              "            title=\"Suggest charts\"\n",
              "            style=\"display:none;\">\n",
              "\n",
              "<svg xmlns=\"http://www.w3.org/2000/svg\" height=\"24px\"viewBox=\"0 0 24 24\"\n",
              "     width=\"24px\">\n",
              "    <g>\n",
              "        <path d=\"M19 3H5c-1.1 0-2 .9-2 2v14c0 1.1.9 2 2 2h14c1.1 0 2-.9 2-2V5c0-1.1-.9-2-2-2zM9 17H7v-7h2v7zm4 0h-2V7h2v10zm4 0h-2v-4h2v4z\"/>\n",
              "    </g>\n",
              "</svg>\n",
              "  </button>\n",
              "\n",
              "<style>\n",
              "  .colab-df-quickchart {\n",
              "      --bg-color: #E8F0FE;\n",
              "      --fill-color: #1967D2;\n",
              "      --hover-bg-color: #E2EBFA;\n",
              "      --hover-fill-color: #174EA6;\n",
              "      --disabled-fill-color: #AAA;\n",
              "      --disabled-bg-color: #DDD;\n",
              "  }\n",
              "\n",
              "  [theme=dark] .colab-df-quickchart {\n",
              "      --bg-color: #3B4455;\n",
              "      --fill-color: #D2E3FC;\n",
              "      --hover-bg-color: #434B5C;\n",
              "      --hover-fill-color: #FFFFFF;\n",
              "      --disabled-bg-color: #3B4455;\n",
              "      --disabled-fill-color: #666;\n",
              "  }\n",
              "\n",
              "  .colab-df-quickchart {\n",
              "    background-color: var(--bg-color);\n",
              "    border: none;\n",
              "    border-radius: 50%;\n",
              "    cursor: pointer;\n",
              "    display: none;\n",
              "    fill: var(--fill-color);\n",
              "    height: 32px;\n",
              "    padding: 0;\n",
              "    width: 32px;\n",
              "  }\n",
              "\n",
              "  .colab-df-quickchart:hover {\n",
              "    background-color: var(--hover-bg-color);\n",
              "    box-shadow: 0 1px 2px rgba(60, 64, 67, 0.3), 0 1px 3px 1px rgba(60, 64, 67, 0.15);\n",
              "    fill: var(--button-hover-fill-color);\n",
              "  }\n",
              "\n",
              "  .colab-df-quickchart-complete:disabled,\n",
              "  .colab-df-quickchart-complete:disabled:hover {\n",
              "    background-color: var(--disabled-bg-color);\n",
              "    fill: var(--disabled-fill-color);\n",
              "    box-shadow: none;\n",
              "  }\n",
              "\n",
              "  .colab-df-spinner {\n",
              "    border: 2px solid var(--fill-color);\n",
              "    border-color: transparent;\n",
              "    border-bottom-color: var(--fill-color);\n",
              "    animation:\n",
              "      spin 1s steps(1) infinite;\n",
              "  }\n",
              "\n",
              "  @keyframes spin {\n",
              "    0% {\n",
              "      border-color: transparent;\n",
              "      border-bottom-color: var(--fill-color);\n",
              "      border-left-color: var(--fill-color);\n",
              "    }\n",
              "    20% {\n",
              "      border-color: transparent;\n",
              "      border-left-color: var(--fill-color);\n",
              "      border-top-color: var(--fill-color);\n",
              "    }\n",
              "    30% {\n",
              "      border-color: transparent;\n",
              "      border-left-color: var(--fill-color);\n",
              "      border-top-color: var(--fill-color);\n",
              "      border-right-color: var(--fill-color);\n",
              "    }\n",
              "    40% {\n",
              "      border-color: transparent;\n",
              "      border-right-color: var(--fill-color);\n",
              "      border-top-color: var(--fill-color);\n",
              "    }\n",
              "    60% {\n",
              "      border-color: transparent;\n",
              "      border-right-color: var(--fill-color);\n",
              "    }\n",
              "    80% {\n",
              "      border-color: transparent;\n",
              "      border-right-color: var(--fill-color);\n",
              "      border-bottom-color: var(--fill-color);\n",
              "    }\n",
              "    90% {\n",
              "      border-color: transparent;\n",
              "      border-bottom-color: var(--fill-color);\n",
              "    }\n",
              "  }\n",
              "</style>\n",
              "\n",
              "  <script>\n",
              "    async function quickchart(key) {\n",
              "      const quickchartButtonEl =\n",
              "        document.querySelector('#' + key + ' button');\n",
              "      quickchartButtonEl.disabled = true;  // To prevent multiple clicks.\n",
              "      quickchartButtonEl.classList.add('colab-df-spinner');\n",
              "      try {\n",
              "        const charts = await google.colab.kernel.invokeFunction(\n",
              "            'suggestCharts', [key], {});\n",
              "      } catch (error) {\n",
              "        console.error('Error during call to suggestCharts:', error);\n",
              "      }\n",
              "      quickchartButtonEl.classList.remove('colab-df-spinner');\n",
              "      quickchartButtonEl.classList.add('colab-df-quickchart-complete');\n",
              "    }\n",
              "    (() => {\n",
              "      let quickchartButtonEl =\n",
              "        document.querySelector('#df-832afb6d-3280-4d4b-bce2-964280f5eedf button');\n",
              "      quickchartButtonEl.style.display =\n",
              "        google.colab.kernel.accessAllowed ? 'block' : 'none';\n",
              "    })();\n",
              "  </script>\n",
              "</div>\n",
              "\n",
              "    </div>\n",
              "  </div>\n"
            ]
          },
          "metadata": {},
          "execution_count": 68
        }
      ]
    },
    {
      "cell_type": "code",
      "source": [
        "df.shape"
      ],
      "metadata": {
        "colab": {
          "base_uri": "https://localhost:8080/"
        },
        "outputId": "46eec58a-e924-4905-b2af-4b2b3387f713",
        "id": "wceBAa4tDkDA"
      },
      "execution_count": null,
      "outputs": [
        {
          "output_type": "execute_result",
          "data": {
            "text/plain": [
              "(1143, 4)"
            ]
          },
          "metadata": {},
          "execution_count": 69
        }
      ]
    },
    {
      "cell_type": "code",
      "source": [
        "neuroPath"
      ],
      "metadata": {
        "colab": {
          "base_uri": "https://localhost:8080/",
          "height": 35
        },
        "outputId": "67a43bb1-5d97-4d35-e307-2f92e7ec9206",
        "id": "wxUva7-ZDkDA"
      },
      "execution_count": null,
      "outputs": [
        {
          "output_type": "execute_result",
          "data": {
            "text/plain": [
              "'Data_KP_NRP-lab/2022-11-15/AnalysisFiles/amplitude/datafile_corrected_v4.mat'"
            ],
            "application/vnd.google.colaboratory.intrinsic+json": {
              "type": "string"
            }
          },
          "metadata": {},
          "execution_count": 70
        }
      ]
    },
    {
      "cell_type": "code",
      "source": [
        "df.to_csv('2022-11-15-Power.csv')"
      ],
      "metadata": {
        "id": "TdnDvPi-DkDA"
      },
      "execution_count": null,
      "outputs": []
    },
    {
      "cell_type": "markdown",
      "source": [
        "#Feb 27 Experiment 1"
      ],
      "metadata": {
        "id": "KH0iGtNKErPj"
      }
    },
    {
      "cell_type": "code",
      "source": [
        "os.listdir('Data_KP_NRP-lab/2023-02-27/AnalysisFiles/amplitude/Experiment_1/')"
      ],
      "metadata": {
        "colab": {
          "base_uri": "https://localhost:8080/"
        },
        "id": "EVTLfXAPEuoM",
        "outputId": "327a7e7e-af88-46c1-8d3e-033c8c3a6d0d"
      },
      "execution_count": null,
      "outputs": [
        {
          "output_type": "execute_result",
          "data": {
            "text/plain": [
              "['datafile_corrected_v4.mat', '.DS_Store']"
            ]
          },
          "metadata": {},
          "execution_count": 58
        }
      ]
    },
    {
      "cell_type": "code",
      "source": [
        "neuroPath = 'Data_KP_NRP-lab/2023-02-27/AnalysisFiles/amplitude/Experiment_1/datafile_corrected_v4.mat'\n",
        "neuroPath"
      ],
      "metadata": {
        "colab": {
          "base_uri": "https://localhost:8080/",
          "height": 52
        },
        "outputId": "1ca2a91c-29de-45e8-c808-e0d854b8d273",
        "id": "-bfMAQ0GErPj"
      },
      "execution_count": null,
      "outputs": [
        {
          "output_type": "execute_result",
          "data": {
            "text/plain": [
              "'Data_KP_NRP-lab/2023-02-27/AnalysisFiles/amplitude/Experiment_1/datafile_corrected_v4.mat'"
            ],
            "application/vnd.google.colaboratory.intrinsic+json": {
              "type": "string"
            }
          },
          "metadata": {},
          "execution_count": 59
        }
      ]
    },
    {
      "cell_type": "code",
      "source": [
        "from scipy.io import loadmat\n",
        "\n",
        "# Replace 'your_file.mat' with the actual file path\n",
        "neuroData = loadmat(neuroPath)\n"
      ],
      "metadata": {
        "id": "ZDd3VtvnErPk"
      },
      "execution_count": null,
      "outputs": []
    },
    {
      "cell_type": "code",
      "source": [
        "powerNeuroData = neuroData['pows'][0]"
      ],
      "metadata": {
        "id": "YvKcaNtXErPk"
      },
      "execution_count": null,
      "outputs": []
    },
    {
      "cell_type": "code",
      "source": [
        "len(powerNeuroData)"
      ],
      "metadata": {
        "colab": {
          "base_uri": "https://localhost:8080/"
        },
        "outputId": "eed51381-e138-4d86-8f88-92ce5fb31b5c",
        "id": "PqLRWIZPErPk"
      },
      "execution_count": null,
      "outputs": [
        {
          "output_type": "execute_result",
          "data": {
            "text/plain": [
              "5"
            ]
          },
          "metadata": {},
          "execution_count": 62
        }
      ]
    },
    {
      "cell_type": "code",
      "source": [
        "for x in powerNeuroData:\n",
        "  print(len(x))\n",
        "  for i in range(len(x)):\n",
        "    print(x[i].shape)\n"
      ],
      "metadata": {
        "colab": {
          "base_uri": "https://localhost:8080/"
        },
        "outputId": "a09967d9-5bba-4485-aeec-3f46d227177e",
        "id": "juW4teIwErPk"
      },
      "execution_count": null,
      "outputs": [
        {
          "output_type": "stream",
          "name": "stdout",
          "text": [
            "3\n",
            "(414, 1)\n",
            "(1, 414)\n",
            "(1, 414)\n",
            "3\n",
            "(414, 1)\n",
            "(1, 414)\n",
            "(1, 414)\n",
            "3\n",
            "(414, 1)\n",
            "(1, 414)\n",
            "(1, 414)\n",
            "3\n",
            "(414, 1)\n",
            "(1, 414)\n",
            "(1, 414)\n",
            "3\n",
            "(1, 190)\n",
            "(1, 190)\n",
            "(1, 190)\n"
          ]
        }
      ]
    },
    {
      "cell_type": "markdown",
      "source": [
        "Sameer Rajesh: in order of index, 0 and 1 represent the left OFC and vlPFC. 2 and 3 are the right in same order and 4 is speech rate (i suspect of little use to you since you will be doing your own speech analysis, but there if you need)"
      ],
      "metadata": {
        "id": "vSXY8YU-ErPk"
      }
    },
    {
      "cell_type": "markdown",
      "source": [
        "the first sub array in each row is the actual data, the second is timestamp, the third is a boolean (with nans) representing of amplitude was high or low (i’m assuming nicole has explained the experiment)\n"
      ],
      "metadata": {
        "id": "FEbXmcKXErPk"
      }
    },
    {
      "cell_type": "code",
      "source": [
        "df = pd.DataFrame()"
      ],
      "metadata": {
        "id": "EmbCJiO7ErPl"
      },
      "execution_count": null,
      "outputs": []
    },
    {
      "cell_type": "code",
      "source": [
        "df['Power: Left OFC'] = [ele[0] for ele in powerNeuroData[0][0]] # list comprehension makes it 1D\n",
        "df['Power: Left vlPFC'] = [ele[0] for ele in powerNeuroData[1][0]]\n",
        "df['Power: Right OFC'] = [ele[0] for ele in powerNeuroData[2][0]]\n",
        "df['Power: Right vlPFC'] = [ele[0] for ele in powerNeuroData[3][0]]\n",
        "#df['Speech rate'] = [ele[0] for ele in\n",
        "df.head()"
      ],
      "metadata": {
        "colab": {
          "base_uri": "https://localhost:8080/",
          "height": 206
        },
        "outputId": "26f99d67-e5e2-4d77-cced-c8372b6724ff",
        "id": "ucam--kJErPl"
      },
      "execution_count": null,
      "outputs": [
        {
          "output_type": "execute_result",
          "data": {
            "text/plain": [
              "   Power: Left OFC  Power: Left vlPFC  Power: Right OFC  Power: Right vlPFC\n",
              "0         5.686801           9.739613          8.195255            8.018249\n",
              "1         9.301764          10.138419          5.699974            8.329905\n",
              "2         3.541367           9.768278          4.449306           13.404476\n",
              "3         8.466536           6.540455         10.163884           11.027338\n",
              "4        11.272942           8.775278          9.911861           12.002101"
            ],
            "text/html": [
              "\n",
              "  <div id=\"df-f7ab7319-2e8e-4df3-925d-4da2d3bc8c01\" class=\"colab-df-container\">\n",
              "    <div>\n",
              "<style scoped>\n",
              "    .dataframe tbody tr th:only-of-type {\n",
              "        vertical-align: middle;\n",
              "    }\n",
              "\n",
              "    .dataframe tbody tr th {\n",
              "        vertical-align: top;\n",
              "    }\n",
              "\n",
              "    .dataframe thead th {\n",
              "        text-align: right;\n",
              "    }\n",
              "</style>\n",
              "<table border=\"1\" class=\"dataframe\">\n",
              "  <thead>\n",
              "    <tr style=\"text-align: right;\">\n",
              "      <th></th>\n",
              "      <th>Power: Left OFC</th>\n",
              "      <th>Power: Left vlPFC</th>\n",
              "      <th>Power: Right OFC</th>\n",
              "      <th>Power: Right vlPFC</th>\n",
              "    </tr>\n",
              "  </thead>\n",
              "  <tbody>\n",
              "    <tr>\n",
              "      <th>0</th>\n",
              "      <td>5.686801</td>\n",
              "      <td>9.739613</td>\n",
              "      <td>8.195255</td>\n",
              "      <td>8.018249</td>\n",
              "    </tr>\n",
              "    <tr>\n",
              "      <th>1</th>\n",
              "      <td>9.301764</td>\n",
              "      <td>10.138419</td>\n",
              "      <td>5.699974</td>\n",
              "      <td>8.329905</td>\n",
              "    </tr>\n",
              "    <tr>\n",
              "      <th>2</th>\n",
              "      <td>3.541367</td>\n",
              "      <td>9.768278</td>\n",
              "      <td>4.449306</td>\n",
              "      <td>13.404476</td>\n",
              "    </tr>\n",
              "    <tr>\n",
              "      <th>3</th>\n",
              "      <td>8.466536</td>\n",
              "      <td>6.540455</td>\n",
              "      <td>10.163884</td>\n",
              "      <td>11.027338</td>\n",
              "    </tr>\n",
              "    <tr>\n",
              "      <th>4</th>\n",
              "      <td>11.272942</td>\n",
              "      <td>8.775278</td>\n",
              "      <td>9.911861</td>\n",
              "      <td>12.002101</td>\n",
              "    </tr>\n",
              "  </tbody>\n",
              "</table>\n",
              "</div>\n",
              "    <div class=\"colab-df-buttons\">\n",
              "\n",
              "  <div class=\"colab-df-container\">\n",
              "    <button class=\"colab-df-convert\" onclick=\"convertToInteractive('df-f7ab7319-2e8e-4df3-925d-4da2d3bc8c01')\"\n",
              "            title=\"Convert this dataframe to an interactive table.\"\n",
              "            style=\"display:none;\">\n",
              "\n",
              "  <svg xmlns=\"http://www.w3.org/2000/svg\" height=\"24px\" viewBox=\"0 -960 960 960\">\n",
              "    <path d=\"M120-120v-720h720v720H120Zm60-500h600v-160H180v160Zm220 220h160v-160H400v160Zm0 220h160v-160H400v160ZM180-400h160v-160H180v160Zm440 0h160v-160H620v160ZM180-180h160v-160H180v160Zm440 0h160v-160H620v160Z\"/>\n",
              "  </svg>\n",
              "    </button>\n",
              "\n",
              "  <style>\n",
              "    .colab-df-container {\n",
              "      display:flex;\n",
              "      gap: 12px;\n",
              "    }\n",
              "\n",
              "    .colab-df-convert {\n",
              "      background-color: #E8F0FE;\n",
              "      border: none;\n",
              "      border-radius: 50%;\n",
              "      cursor: pointer;\n",
              "      display: none;\n",
              "      fill: #1967D2;\n",
              "      height: 32px;\n",
              "      padding: 0 0 0 0;\n",
              "      width: 32px;\n",
              "    }\n",
              "\n",
              "    .colab-df-convert:hover {\n",
              "      background-color: #E2EBFA;\n",
              "      box-shadow: 0px 1px 2px rgba(60, 64, 67, 0.3), 0px 1px 3px 1px rgba(60, 64, 67, 0.15);\n",
              "      fill: #174EA6;\n",
              "    }\n",
              "\n",
              "    .colab-df-buttons div {\n",
              "      margin-bottom: 4px;\n",
              "    }\n",
              "\n",
              "    [theme=dark] .colab-df-convert {\n",
              "      background-color: #3B4455;\n",
              "      fill: #D2E3FC;\n",
              "    }\n",
              "\n",
              "    [theme=dark] .colab-df-convert:hover {\n",
              "      background-color: #434B5C;\n",
              "      box-shadow: 0px 1px 3px 1px rgba(0, 0, 0, 0.15);\n",
              "      filter: drop-shadow(0px 1px 2px rgba(0, 0, 0, 0.3));\n",
              "      fill: #FFFFFF;\n",
              "    }\n",
              "  </style>\n",
              "\n",
              "    <script>\n",
              "      const buttonEl =\n",
              "        document.querySelector('#df-f7ab7319-2e8e-4df3-925d-4da2d3bc8c01 button.colab-df-convert');\n",
              "      buttonEl.style.display =\n",
              "        google.colab.kernel.accessAllowed ? 'block' : 'none';\n",
              "\n",
              "      async function convertToInteractive(key) {\n",
              "        const element = document.querySelector('#df-f7ab7319-2e8e-4df3-925d-4da2d3bc8c01');\n",
              "        const dataTable =\n",
              "          await google.colab.kernel.invokeFunction('convertToInteractive',\n",
              "                                                    [key], {});\n",
              "        if (!dataTable) return;\n",
              "\n",
              "        const docLinkHtml = 'Like what you see? Visit the ' +\n",
              "          '<a target=\"_blank\" href=https://colab.research.google.com/notebooks/data_table.ipynb>data table notebook</a>'\n",
              "          + ' to learn more about interactive tables.';\n",
              "        element.innerHTML = '';\n",
              "        dataTable['output_type'] = 'display_data';\n",
              "        await google.colab.output.renderOutput(dataTable, element);\n",
              "        const docLink = document.createElement('div');\n",
              "        docLink.innerHTML = docLinkHtml;\n",
              "        element.appendChild(docLink);\n",
              "      }\n",
              "    </script>\n",
              "  </div>\n",
              "\n",
              "\n",
              "<div id=\"df-dff85b2b-a1cb-4b84-87e8-b0f7dae75cd7\">\n",
              "  <button class=\"colab-df-quickchart\" onclick=\"quickchart('df-dff85b2b-a1cb-4b84-87e8-b0f7dae75cd7')\"\n",
              "            title=\"Suggest charts\"\n",
              "            style=\"display:none;\">\n",
              "\n",
              "<svg xmlns=\"http://www.w3.org/2000/svg\" height=\"24px\"viewBox=\"0 0 24 24\"\n",
              "     width=\"24px\">\n",
              "    <g>\n",
              "        <path d=\"M19 3H5c-1.1 0-2 .9-2 2v14c0 1.1.9 2 2 2h14c1.1 0 2-.9 2-2V5c0-1.1-.9-2-2-2zM9 17H7v-7h2v7zm4 0h-2V7h2v10zm4 0h-2v-4h2v4z\"/>\n",
              "    </g>\n",
              "</svg>\n",
              "  </button>\n",
              "\n",
              "<style>\n",
              "  .colab-df-quickchart {\n",
              "      --bg-color: #E8F0FE;\n",
              "      --fill-color: #1967D2;\n",
              "      --hover-bg-color: #E2EBFA;\n",
              "      --hover-fill-color: #174EA6;\n",
              "      --disabled-fill-color: #AAA;\n",
              "      --disabled-bg-color: #DDD;\n",
              "  }\n",
              "\n",
              "  [theme=dark] .colab-df-quickchart {\n",
              "      --bg-color: #3B4455;\n",
              "      --fill-color: #D2E3FC;\n",
              "      --hover-bg-color: #434B5C;\n",
              "      --hover-fill-color: #FFFFFF;\n",
              "      --disabled-bg-color: #3B4455;\n",
              "      --disabled-fill-color: #666;\n",
              "  }\n",
              "\n",
              "  .colab-df-quickchart {\n",
              "    background-color: var(--bg-color);\n",
              "    border: none;\n",
              "    border-radius: 50%;\n",
              "    cursor: pointer;\n",
              "    display: none;\n",
              "    fill: var(--fill-color);\n",
              "    height: 32px;\n",
              "    padding: 0;\n",
              "    width: 32px;\n",
              "  }\n",
              "\n",
              "  .colab-df-quickchart:hover {\n",
              "    background-color: var(--hover-bg-color);\n",
              "    box-shadow: 0 1px 2px rgba(60, 64, 67, 0.3), 0 1px 3px 1px rgba(60, 64, 67, 0.15);\n",
              "    fill: var(--button-hover-fill-color);\n",
              "  }\n",
              "\n",
              "  .colab-df-quickchart-complete:disabled,\n",
              "  .colab-df-quickchart-complete:disabled:hover {\n",
              "    background-color: var(--disabled-bg-color);\n",
              "    fill: var(--disabled-fill-color);\n",
              "    box-shadow: none;\n",
              "  }\n",
              "\n",
              "  .colab-df-spinner {\n",
              "    border: 2px solid var(--fill-color);\n",
              "    border-color: transparent;\n",
              "    border-bottom-color: var(--fill-color);\n",
              "    animation:\n",
              "      spin 1s steps(1) infinite;\n",
              "  }\n",
              "\n",
              "  @keyframes spin {\n",
              "    0% {\n",
              "      border-color: transparent;\n",
              "      border-bottom-color: var(--fill-color);\n",
              "      border-left-color: var(--fill-color);\n",
              "    }\n",
              "    20% {\n",
              "      border-color: transparent;\n",
              "      border-left-color: var(--fill-color);\n",
              "      border-top-color: var(--fill-color);\n",
              "    }\n",
              "    30% {\n",
              "      border-color: transparent;\n",
              "      border-left-color: var(--fill-color);\n",
              "      border-top-color: var(--fill-color);\n",
              "      border-right-color: var(--fill-color);\n",
              "    }\n",
              "    40% {\n",
              "      border-color: transparent;\n",
              "      border-right-color: var(--fill-color);\n",
              "      border-top-color: var(--fill-color);\n",
              "    }\n",
              "    60% {\n",
              "      border-color: transparent;\n",
              "      border-right-color: var(--fill-color);\n",
              "    }\n",
              "    80% {\n",
              "      border-color: transparent;\n",
              "      border-right-color: var(--fill-color);\n",
              "      border-bottom-color: var(--fill-color);\n",
              "    }\n",
              "    90% {\n",
              "      border-color: transparent;\n",
              "      border-bottom-color: var(--fill-color);\n",
              "    }\n",
              "  }\n",
              "</style>\n",
              "\n",
              "  <script>\n",
              "    async function quickchart(key) {\n",
              "      const quickchartButtonEl =\n",
              "        document.querySelector('#' + key + ' button');\n",
              "      quickchartButtonEl.disabled = true;  // To prevent multiple clicks.\n",
              "      quickchartButtonEl.classList.add('colab-df-spinner');\n",
              "      try {\n",
              "        const charts = await google.colab.kernel.invokeFunction(\n",
              "            'suggestCharts', [key], {});\n",
              "      } catch (error) {\n",
              "        console.error('Error during call to suggestCharts:', error);\n",
              "      }\n",
              "      quickchartButtonEl.classList.remove('colab-df-spinner');\n",
              "      quickchartButtonEl.classList.add('colab-df-quickchart-complete');\n",
              "    }\n",
              "    (() => {\n",
              "      let quickchartButtonEl =\n",
              "        document.querySelector('#df-dff85b2b-a1cb-4b84-87e8-b0f7dae75cd7 button');\n",
              "      quickchartButtonEl.style.display =\n",
              "        google.colab.kernel.accessAllowed ? 'block' : 'none';\n",
              "    })();\n",
              "  </script>\n",
              "</div>\n",
              "    </div>\n",
              "  </div>\n"
            ]
          },
          "metadata": {},
          "execution_count": 65
        }
      ]
    },
    {
      "cell_type": "code",
      "source": [
        "df.shape"
      ],
      "metadata": {
        "colab": {
          "base_uri": "https://localhost:8080/"
        },
        "outputId": "cec2764a-62dc-4a98-e2b8-62819fd63496",
        "id": "EqCaZEl7ErPl"
      },
      "execution_count": null,
      "outputs": [
        {
          "output_type": "execute_result",
          "data": {
            "text/plain": [
              "(414, 4)"
            ]
          },
          "metadata": {},
          "execution_count": 66
        }
      ]
    },
    {
      "cell_type": "code",
      "source": [
        "neuroPath"
      ],
      "metadata": {
        "colab": {
          "base_uri": "https://localhost:8080/",
          "height": 52
        },
        "outputId": "15469ccb-aaff-4e1b-b339-cb11ff80b650",
        "id": "TKLuZ9SVErPl"
      },
      "execution_count": null,
      "outputs": [
        {
          "output_type": "execute_result",
          "data": {
            "text/plain": [
              "'Data_KP_NRP-lab/2023-02-27/AnalysisFiles/amplitude/Experiment_1/datafile_corrected_v4.mat'"
            ],
            "application/vnd.google.colaboratory.intrinsic+json": {
              "type": "string"
            }
          },
          "metadata": {},
          "execution_count": 67
        }
      ]
    },
    {
      "cell_type": "code",
      "source": [
        "df.to_csv('2023-02-27-Experiment1-Power-Amplitude.csv')"
      ],
      "metadata": {
        "id": "3HnMYHBsErPl"
      },
      "execution_count": null,
      "outputs": []
    },
    {
      "cell_type": "code",
      "source": [
        "df.to_excel('2023-02-27-Experiment1-Power-Amplitude.xlsx')"
      ],
      "metadata": {
        "id": "mIpPJwUrErPl"
      },
      "execution_count": null,
      "outputs": []
    },
    {
      "cell_type": "code",
      "source": [],
      "metadata": {
        "id": "e2vV9h44Fy6m"
      },
      "execution_count": null,
      "outputs": []
    },
    {
      "cell_type": "code",
      "source": [],
      "metadata": {
        "id": "YE1yfLSzF_0K"
      },
      "execution_count": null,
      "outputs": []
    },
    {
      "cell_type": "markdown",
      "source": [
        "#Feb 27 Experiment 5 (labelled 2)"
      ],
      "metadata": {
        "id": "A1xrOfe2F_6k"
      }
    },
    {
      "cell_type": "code",
      "source": [
        "os.listdir('Data_KP_NRP-lab/2023-02-27/AnalysisFiles/amplitude/Experiment_2/')"
      ],
      "metadata": {
        "colab": {
          "base_uri": "https://localhost:8080/"
        },
        "outputId": "e473a40c-81eb-4b5d-e76a-b64f1087bf6a",
        "id": "xGovvNBPF_6k"
      },
      "execution_count": null,
      "outputs": [
        {
          "output_type": "execute_result",
          "data": {
            "text/plain": [
              "['datafile_corrected_v4.mat', '.DS_Store']"
            ]
          },
          "metadata": {},
          "execution_count": 4
        }
      ]
    },
    {
      "cell_type": "code",
      "source": [
        "neuroPath = 'Data_KP_NRP-lab/2023-02-27/AnalysisFiles/amplitude/Experiment_2/datafile_corrected_v4.mat'\n",
        "neuroPath"
      ],
      "metadata": {
        "colab": {
          "base_uri": "https://localhost:8080/",
          "height": 35
        },
        "outputId": "382ebda3-a6e7-45ce-b803-7564b0a73f60",
        "id": "N0mmzj-BF_6l"
      },
      "execution_count": null,
      "outputs": [
        {
          "output_type": "execute_result",
          "data": {
            "text/plain": [
              "'Data_KP_NRP-lab/2023-02-27/AnalysisFiles/amplitude/Experiment_2/datafile_corrected_v4.mat'"
            ],
            "application/vnd.google.colaboratory.intrinsic+json": {
              "type": "string"
            }
          },
          "metadata": {},
          "execution_count": 5
        }
      ]
    },
    {
      "cell_type": "code",
      "source": [
        "from scipy.io import loadmat\n",
        "\n",
        "# Replace 'your_file.mat' with the actual file path\n",
        "neuroData = loadmat(neuroPath)\n"
      ],
      "metadata": {
        "id": "Uf6KThdTF_6l"
      },
      "execution_count": null,
      "outputs": []
    },
    {
      "cell_type": "code",
      "source": [
        "powerNeuroData = neuroData['pows'][0]"
      ],
      "metadata": {
        "id": "1z9fjLrRF_6l"
      },
      "execution_count": null,
      "outputs": []
    },
    {
      "cell_type": "code",
      "source": [
        "len(powerNeuroData)"
      ],
      "metadata": {
        "colab": {
          "base_uri": "https://localhost:8080/"
        },
        "outputId": "51ed5baf-2b8f-46e1-c5b8-0c09d2ecc585",
        "id": "NEt196mmF_6l"
      },
      "execution_count": null,
      "outputs": [
        {
          "output_type": "execute_result",
          "data": {
            "text/plain": [
              "5"
            ]
          },
          "metadata": {},
          "execution_count": 8
        }
      ]
    },
    {
      "cell_type": "code",
      "source": [
        "for x in powerNeuroData:\n",
        "  print(len(x))\n",
        "  for i in range(len(x)):\n",
        "    print(x[i].shape)\n"
      ],
      "metadata": {
        "colab": {
          "base_uri": "https://localhost:8080/"
        },
        "outputId": "a9eb0dd4-edbe-4a79-edb2-5439736e7025",
        "id": "Yuq_C46RF_6m"
      },
      "execution_count": null,
      "outputs": [
        {
          "output_type": "stream",
          "name": "stdout",
          "text": [
            "3\n",
            "(624, 1)\n",
            "(1, 624)\n",
            "(1, 624)\n",
            "3\n",
            "(624, 1)\n",
            "(1, 624)\n",
            "(1, 624)\n",
            "3\n",
            "(624, 1)\n",
            "(1, 624)\n",
            "(1, 624)\n",
            "3\n",
            "(624, 1)\n",
            "(1, 624)\n",
            "(1, 624)\n",
            "3\n",
            "(1, 185)\n",
            "(1, 185)\n",
            "(1, 185)\n"
          ]
        }
      ]
    },
    {
      "cell_type": "markdown",
      "source": [
        "Sameer Rajesh: in order of index, 0 and 1 represent the left OFC and vlPFC. 2 and 3 are the right in same order and 4 is speech rate (i suspect of little use to you since you will be doing your own speech analysis, but there if you need)"
      ],
      "metadata": {
        "id": "7f5KQoiWF_6m"
      }
    },
    {
      "cell_type": "markdown",
      "source": [
        "the first sub array in each row is the actual data, the second is timestamp, the third is a boolean (with nans) representing of amplitude was high or low (i’m assuming nicole has explained the experiment)\n"
      ],
      "metadata": {
        "id": "9B07Pq_nF_6m"
      }
    },
    {
      "cell_type": "code",
      "source": [
        "df = pd.DataFrame()"
      ],
      "metadata": {
        "id": "qqPWkUe8F_6m"
      },
      "execution_count": null,
      "outputs": []
    },
    {
      "cell_type": "code",
      "source": [
        "df['Power: Left OFC'] = [ele[0] for ele in powerNeuroData[0][0]] # list comprehension makes it 1D\n",
        "df['Power: Left vlPFC'] = [ele[0] for ele in powerNeuroData[1][0]]\n",
        "df['Power: Right OFC'] = [ele[0] for ele in powerNeuroData[2][0]]\n",
        "df['Power: Right vlPFC'] = [ele[0] for ele in powerNeuroData[3][0]]\n",
        "#df['Speech rate'] = [ele[0] for ele in\n",
        "df.head()"
      ],
      "metadata": {
        "colab": {
          "base_uri": "https://localhost:8080/",
          "height": 206
        },
        "outputId": "8eb24aa0-47f7-4f25-d0ef-1677f25b233a",
        "id": "nU8GtzAtF_6m"
      },
      "execution_count": null,
      "outputs": [
        {
          "output_type": "execute_result",
          "data": {
            "text/plain": [
              "   Power: Left OFC  Power: Left vlPFC  Power: Right OFC  Power: Right vlPFC\n",
              "0         6.040388           9.369975         11.474579            9.765721\n",
              "1         4.740961          11.204577          9.600362            9.777031\n",
              "2         4.904171           8.815254          4.404419           11.895500\n",
              "3         5.530016           7.770287          8.693739           10.962857\n",
              "4         6.540160          11.214869          5.332976           10.099922"
            ],
            "text/html": [
              "\n",
              "  <div id=\"df-e450032b-2df2-4298-b462-c74d587f4d0a\" class=\"colab-df-container\">\n",
              "    <div>\n",
              "<style scoped>\n",
              "    .dataframe tbody tr th:only-of-type {\n",
              "        vertical-align: middle;\n",
              "    }\n",
              "\n",
              "    .dataframe tbody tr th {\n",
              "        vertical-align: top;\n",
              "    }\n",
              "\n",
              "    .dataframe thead th {\n",
              "        text-align: right;\n",
              "    }\n",
              "</style>\n",
              "<table border=\"1\" class=\"dataframe\">\n",
              "  <thead>\n",
              "    <tr style=\"text-align: right;\">\n",
              "      <th></th>\n",
              "      <th>Power: Left OFC</th>\n",
              "      <th>Power: Left vlPFC</th>\n",
              "      <th>Power: Right OFC</th>\n",
              "      <th>Power: Right vlPFC</th>\n",
              "    </tr>\n",
              "  </thead>\n",
              "  <tbody>\n",
              "    <tr>\n",
              "      <th>0</th>\n",
              "      <td>6.040388</td>\n",
              "      <td>9.369975</td>\n",
              "      <td>11.474579</td>\n",
              "      <td>9.765721</td>\n",
              "    </tr>\n",
              "    <tr>\n",
              "      <th>1</th>\n",
              "      <td>4.740961</td>\n",
              "      <td>11.204577</td>\n",
              "      <td>9.600362</td>\n",
              "      <td>9.777031</td>\n",
              "    </tr>\n",
              "    <tr>\n",
              "      <th>2</th>\n",
              "      <td>4.904171</td>\n",
              "      <td>8.815254</td>\n",
              "      <td>4.404419</td>\n",
              "      <td>11.895500</td>\n",
              "    </tr>\n",
              "    <tr>\n",
              "      <th>3</th>\n",
              "      <td>5.530016</td>\n",
              "      <td>7.770287</td>\n",
              "      <td>8.693739</td>\n",
              "      <td>10.962857</td>\n",
              "    </tr>\n",
              "    <tr>\n",
              "      <th>4</th>\n",
              "      <td>6.540160</td>\n",
              "      <td>11.214869</td>\n",
              "      <td>5.332976</td>\n",
              "      <td>10.099922</td>\n",
              "    </tr>\n",
              "  </tbody>\n",
              "</table>\n",
              "</div>\n",
              "    <div class=\"colab-df-buttons\">\n",
              "\n",
              "  <div class=\"colab-df-container\">\n",
              "    <button class=\"colab-df-convert\" onclick=\"convertToInteractive('df-e450032b-2df2-4298-b462-c74d587f4d0a')\"\n",
              "            title=\"Convert this dataframe to an interactive table.\"\n",
              "            style=\"display:none;\">\n",
              "\n",
              "  <svg xmlns=\"http://www.w3.org/2000/svg\" height=\"24px\" viewBox=\"0 -960 960 960\">\n",
              "    <path d=\"M120-120v-720h720v720H120Zm60-500h600v-160H180v160Zm220 220h160v-160H400v160Zm0 220h160v-160H400v160ZM180-400h160v-160H180v160Zm440 0h160v-160H620v160ZM180-180h160v-160H180v160Zm440 0h160v-160H620v160Z\"/>\n",
              "  </svg>\n",
              "    </button>\n",
              "\n",
              "  <style>\n",
              "    .colab-df-container {\n",
              "      display:flex;\n",
              "      gap: 12px;\n",
              "    }\n",
              "\n",
              "    .colab-df-convert {\n",
              "      background-color: #E8F0FE;\n",
              "      border: none;\n",
              "      border-radius: 50%;\n",
              "      cursor: pointer;\n",
              "      display: none;\n",
              "      fill: #1967D2;\n",
              "      height: 32px;\n",
              "      padding: 0 0 0 0;\n",
              "      width: 32px;\n",
              "    }\n",
              "\n",
              "    .colab-df-convert:hover {\n",
              "      background-color: #E2EBFA;\n",
              "      box-shadow: 0px 1px 2px rgba(60, 64, 67, 0.3), 0px 1px 3px 1px rgba(60, 64, 67, 0.15);\n",
              "      fill: #174EA6;\n",
              "    }\n",
              "\n",
              "    .colab-df-buttons div {\n",
              "      margin-bottom: 4px;\n",
              "    }\n",
              "\n",
              "    [theme=dark] .colab-df-convert {\n",
              "      background-color: #3B4455;\n",
              "      fill: #D2E3FC;\n",
              "    }\n",
              "\n",
              "    [theme=dark] .colab-df-convert:hover {\n",
              "      background-color: #434B5C;\n",
              "      box-shadow: 0px 1px 3px 1px rgba(0, 0, 0, 0.15);\n",
              "      filter: drop-shadow(0px 1px 2px rgba(0, 0, 0, 0.3));\n",
              "      fill: #FFFFFF;\n",
              "    }\n",
              "  </style>\n",
              "\n",
              "    <script>\n",
              "      const buttonEl =\n",
              "        document.querySelector('#df-e450032b-2df2-4298-b462-c74d587f4d0a button.colab-df-convert');\n",
              "      buttonEl.style.display =\n",
              "        google.colab.kernel.accessAllowed ? 'block' : 'none';\n",
              "\n",
              "      async function convertToInteractive(key) {\n",
              "        const element = document.querySelector('#df-e450032b-2df2-4298-b462-c74d587f4d0a');\n",
              "        const dataTable =\n",
              "          await google.colab.kernel.invokeFunction('convertToInteractive',\n",
              "                                                    [key], {});\n",
              "        if (!dataTable) return;\n",
              "\n",
              "        const docLinkHtml = 'Like what you see? Visit the ' +\n",
              "          '<a target=\"_blank\" href=https://colab.research.google.com/notebooks/data_table.ipynb>data table notebook</a>'\n",
              "          + ' to learn more about interactive tables.';\n",
              "        element.innerHTML = '';\n",
              "        dataTable['output_type'] = 'display_data';\n",
              "        await google.colab.output.renderOutput(dataTable, element);\n",
              "        const docLink = document.createElement('div');\n",
              "        docLink.innerHTML = docLinkHtml;\n",
              "        element.appendChild(docLink);\n",
              "      }\n",
              "    </script>\n",
              "  </div>\n",
              "\n",
              "\n",
              "<div id=\"df-5d968172-33d2-4281-bb32-9d37209cf07b\">\n",
              "  <button class=\"colab-df-quickchart\" onclick=\"quickchart('df-5d968172-33d2-4281-bb32-9d37209cf07b')\"\n",
              "            title=\"Suggest charts\"\n",
              "            style=\"display:none;\">\n",
              "\n",
              "<svg xmlns=\"http://www.w3.org/2000/svg\" height=\"24px\"viewBox=\"0 0 24 24\"\n",
              "     width=\"24px\">\n",
              "    <g>\n",
              "        <path d=\"M19 3H5c-1.1 0-2 .9-2 2v14c0 1.1.9 2 2 2h14c1.1 0 2-.9 2-2V5c0-1.1-.9-2-2-2zM9 17H7v-7h2v7zm4 0h-2V7h2v10zm4 0h-2v-4h2v4z\"/>\n",
              "    </g>\n",
              "</svg>\n",
              "  </button>\n",
              "\n",
              "<style>\n",
              "  .colab-df-quickchart {\n",
              "      --bg-color: #E8F0FE;\n",
              "      --fill-color: #1967D2;\n",
              "      --hover-bg-color: #E2EBFA;\n",
              "      --hover-fill-color: #174EA6;\n",
              "      --disabled-fill-color: #AAA;\n",
              "      --disabled-bg-color: #DDD;\n",
              "  }\n",
              "\n",
              "  [theme=dark] .colab-df-quickchart {\n",
              "      --bg-color: #3B4455;\n",
              "      --fill-color: #D2E3FC;\n",
              "      --hover-bg-color: #434B5C;\n",
              "      --hover-fill-color: #FFFFFF;\n",
              "      --disabled-bg-color: #3B4455;\n",
              "      --disabled-fill-color: #666;\n",
              "  }\n",
              "\n",
              "  .colab-df-quickchart {\n",
              "    background-color: var(--bg-color);\n",
              "    border: none;\n",
              "    border-radius: 50%;\n",
              "    cursor: pointer;\n",
              "    display: none;\n",
              "    fill: var(--fill-color);\n",
              "    height: 32px;\n",
              "    padding: 0;\n",
              "    width: 32px;\n",
              "  }\n",
              "\n",
              "  .colab-df-quickchart:hover {\n",
              "    background-color: var(--hover-bg-color);\n",
              "    box-shadow: 0 1px 2px rgba(60, 64, 67, 0.3), 0 1px 3px 1px rgba(60, 64, 67, 0.15);\n",
              "    fill: var(--button-hover-fill-color);\n",
              "  }\n",
              "\n",
              "  .colab-df-quickchart-complete:disabled,\n",
              "  .colab-df-quickchart-complete:disabled:hover {\n",
              "    background-color: var(--disabled-bg-color);\n",
              "    fill: var(--disabled-fill-color);\n",
              "    box-shadow: none;\n",
              "  }\n",
              "\n",
              "  .colab-df-spinner {\n",
              "    border: 2px solid var(--fill-color);\n",
              "    border-color: transparent;\n",
              "    border-bottom-color: var(--fill-color);\n",
              "    animation:\n",
              "      spin 1s steps(1) infinite;\n",
              "  }\n",
              "\n",
              "  @keyframes spin {\n",
              "    0% {\n",
              "      border-color: transparent;\n",
              "      border-bottom-color: var(--fill-color);\n",
              "      border-left-color: var(--fill-color);\n",
              "    }\n",
              "    20% {\n",
              "      border-color: transparent;\n",
              "      border-left-color: var(--fill-color);\n",
              "      border-top-color: var(--fill-color);\n",
              "    }\n",
              "    30% {\n",
              "      border-color: transparent;\n",
              "      border-left-color: var(--fill-color);\n",
              "      border-top-color: var(--fill-color);\n",
              "      border-right-color: var(--fill-color);\n",
              "    }\n",
              "    40% {\n",
              "      border-color: transparent;\n",
              "      border-right-color: var(--fill-color);\n",
              "      border-top-color: var(--fill-color);\n",
              "    }\n",
              "    60% {\n",
              "      border-color: transparent;\n",
              "      border-right-color: var(--fill-color);\n",
              "    }\n",
              "    80% {\n",
              "      border-color: transparent;\n",
              "      border-right-color: var(--fill-color);\n",
              "      border-bottom-color: var(--fill-color);\n",
              "    }\n",
              "    90% {\n",
              "      border-color: transparent;\n",
              "      border-bottom-color: var(--fill-color);\n",
              "    }\n",
              "  }\n",
              "</style>\n",
              "\n",
              "  <script>\n",
              "    async function quickchart(key) {\n",
              "      const quickchartButtonEl =\n",
              "        document.querySelector('#' + key + ' button');\n",
              "      quickchartButtonEl.disabled = true;  // To prevent multiple clicks.\n",
              "      quickchartButtonEl.classList.add('colab-df-spinner');\n",
              "      try {\n",
              "        const charts = await google.colab.kernel.invokeFunction(\n",
              "            'suggestCharts', [key], {});\n",
              "      } catch (error) {\n",
              "        console.error('Error during call to suggestCharts:', error);\n",
              "      }\n",
              "      quickchartButtonEl.classList.remove('colab-df-spinner');\n",
              "      quickchartButtonEl.classList.add('colab-df-quickchart-complete');\n",
              "    }\n",
              "    (() => {\n",
              "      let quickchartButtonEl =\n",
              "        document.querySelector('#df-5d968172-33d2-4281-bb32-9d37209cf07b button');\n",
              "      quickchartButtonEl.style.display =\n",
              "        google.colab.kernel.accessAllowed ? 'block' : 'none';\n",
              "    })();\n",
              "  </script>\n",
              "</div>\n",
              "    </div>\n",
              "  </div>\n"
            ]
          },
          "metadata": {},
          "execution_count": 78
        }
      ]
    },
    {
      "cell_type": "code",
      "source": [
        "df.shape"
      ],
      "metadata": {
        "colab": {
          "base_uri": "https://localhost:8080/"
        },
        "outputId": "df611bd3-297e-47ad-a615-884d8dbe609c",
        "id": "Fc8-BiR6F_6n"
      },
      "execution_count": null,
      "outputs": [
        {
          "output_type": "execute_result",
          "data": {
            "text/plain": [
              "(624, 4)"
            ]
          },
          "metadata": {},
          "execution_count": 79
        }
      ]
    },
    {
      "cell_type": "code",
      "source": [
        "neuroPath"
      ],
      "metadata": {
        "colab": {
          "base_uri": "https://localhost:8080/",
          "height": 52
        },
        "outputId": "26782959-436d-4fd4-8d4c-481a0b963248",
        "id": "zV5LC4LCF_6n"
      },
      "execution_count": null,
      "outputs": [
        {
          "output_type": "execute_result",
          "data": {
            "text/plain": [
              "'Data_KP_NRP-lab/2023-02-27/AnalysisFiles/amplitude/Experiment_2/datafile_corrected_v4.mat'"
            ],
            "application/vnd.google.colaboratory.intrinsic+json": {
              "type": "string"
            }
          },
          "metadata": {},
          "execution_count": 80
        }
      ]
    },
    {
      "cell_type": "code",
      "source": [
        "df.to_csv('2023-02-27-Experiment2-Power-Amplitude.csv')"
      ],
      "metadata": {
        "id": "UPKDH1nLF_6n"
      },
      "execution_count": null,
      "outputs": []
    },
    {
      "cell_type": "code",
      "source": [
        "df.to_excel('2023-02-27-Experiment2-Power-Amplitude.xlsx')"
      ],
      "metadata": {
        "id": "HWan4Z92F_6n"
      },
      "execution_count": null,
      "outputs": []
    },
    {
      "cell_type": "code",
      "source": [],
      "metadata": {
        "id": "u1ZtxIS9F_6o"
      },
      "execution_count": null,
      "outputs": []
    }
  ]
}