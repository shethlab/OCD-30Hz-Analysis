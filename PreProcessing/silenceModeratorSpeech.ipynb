{
  "nbformat": 4,
  "nbformat_minor": 0,
  "metadata": {
    "colab": {
      "provenance": [],
      "toc_visible": true
    },
    "kernelspec": {
      "name": "python3",
      "display_name": "Python 3"
    },
    "language_info": {
      "name": "python"
    }
  },
  "cells": [
    {
      "cell_type": "code",
      "source": [
        "!pip install textgrid"
      ],
      "metadata": {
        "colab": {
          "base_uri": "https://localhost:8080/"
        },
        "id": "iAnl12IGxY4F",
        "outputId": "17fb6af7-afd0-4739-8639-bb23325cdf19"
      },
      "execution_count": null,
      "outputs": [
        {
          "output_type": "stream",
          "name": "stdout",
          "text": [
            "Collecting textgrid\n",
            "  Downloading TextGrid-1.5-py3-none-any.whl (10.0 kB)\n",
            "Installing collected packages: textgrid\n",
            "Successfully installed textgrid-1.5\n"
          ]
        }
      ]
    },
    {
      "cell_type": "code",
      "source": [
        "import textgrid"
      ],
      "metadata": {
        "id": "DQ0lIANoxZ24"
      },
      "execution_count": null,
      "outputs": []
    },
    {
      "cell_type": "code",
      "source": [
        "!pip install pydub"
      ],
      "metadata": {
        "colab": {
          "base_uri": "https://localhost:8080/"
        },
        "id": "G6EvYoD6z1HJ",
        "outputId": "47d18815-bcd3-421c-fac0-b7d0fc0aa691"
      },
      "execution_count": null,
      "outputs": [
        {
          "output_type": "stream",
          "name": "stdout",
          "text": [
            "Collecting pydub\n",
            "  Downloading pydub-0.25.1-py2.py3-none-any.whl (32 kB)\n",
            "Installing collected packages: pydub\n",
            "Successfully installed pydub-0.25.1\n"
          ]
        }
      ]
    },
    {
      "cell_type": "markdown",
      "source": [
        "Generalize code"
      ],
      "metadata": {
        "id": "e4HLFqHs8nsG"
      }
    },
    {
      "cell_type": "code",
      "source": [
        "def silenceModeratorSpeech(audioFilePath, textGridPath):\n",
        "  tg = textgrid.TextGrid.fromFile(textGridPath)\n",
        "  silentIntervals = []\n",
        "  for section in tg[0]:\n",
        "    if section.mark == '': # if section has no speech\n",
        "     silentIntervals.append((section.minTime, section.maxTime))\n",
        "  from scipy.io import wavfile\n",
        "  fs, data = wavfile.read(audioFilePath)\n",
        "  import numpy as np\n",
        "  resampledSilentIntervals = [(int(np.round(start*fs)), int(np.round(end*fs))) for (start, end) in silentIntervals]\n",
        "  for start, end in resampledSilentIntervals:\n",
        "    data[start:end] = 0\n",
        "  # Write the modified data array to a new WAV file\n",
        "  wavfile.write('noModeratorSpeech_' + audioFilePath, fs, data)"
      ],
      "metadata": {
        "id": "iyUXz4Ak_o8v"
      },
      "execution_count": null,
      "outputs": []
    },
    {
      "cell_type": "code",
      "source": [
        "silenceModeratorSpeech(\"aDBS012_2022-09-09_audio_amplitude.wav.wav\", \"aDBS012_2022-09-09_audio_amplitude.TextGrid.TextGrid\")"
      ],
      "metadata": {
        "id": "xMvEW8uHAhts"
      },
      "execution_count": null,
      "outputs": []
    },
    {
      "cell_type": "code",
      "source": [
        "silenceModeratorSpeech(\"aDBS012_2022-09-19_audio_amplitude.wav.wav\", \"aDBS012_2022-09-19_audio_amplitude.TextGrid.TextGrid\")"
      ],
      "metadata": {
        "id": "v20Wb-bLA0z1"
      },
      "execution_count": null,
      "outputs": []
    },
    {
      "cell_type": "code",
      "source": [
        "silenceModeratorSpeech(\"aDBS012_2022_10_04_audio_amplitude.wav.wav\", \"aDBS012_2022_10_04_audio_amplitude.TextGrid.TextGrid\")"
      ],
      "metadata": {
        "id": "S0aVUbEFA8zR"
      },
      "execution_count": null,
      "outputs": []
    },
    {
      "cell_type": "code",
      "source": [
        "silenceModeratorSpeech(\"aDBS012_2022-11-15_audio_amplitude.wav.wav\", \"aDBS012_2022-11-15_audio_amplitude.TextGrid.TextGrid\")"
      ],
      "metadata": {
        "id": "cnyYKksqA4h2"
      },
      "execution_count": null,
      "outputs": []
    },
    {
      "cell_type": "code",
      "source": [
        "silenceModeratorSpeech(\"aDBS012_2023-02-27_Experiment1_audio_amplitude.wav\", \"2023-02-27_audio_amplitude_Experiment1.TextGrid\")"
      ],
      "metadata": {
        "id": "46HVz0e9fKZI"
      },
      "execution_count": null,
      "outputs": []
    },
    {
      "cell_type": "code",
      "source": [
        "silenceModeratorSpeech(\"aDBS012_2023-02-27_Experiment5_audio_amplitude.wav\", \"2023-02-27_audio_amplitude_Experiment5.TextGrid\")"
      ],
      "metadata": {
        "id": "71ExzPQifkFH"
      },
      "execution_count": null,
      "outputs": []
    }
  ]
}